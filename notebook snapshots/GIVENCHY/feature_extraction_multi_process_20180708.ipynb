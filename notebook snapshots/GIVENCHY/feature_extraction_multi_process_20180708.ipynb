{
 "cells": [
  {
   "cell_type": "code",
   "execution_count": 1,
   "metadata": {},
   "outputs": [
    {
     "name": "stdout",
     "output_type": "stream",
     "text": [
      "/home/ec2-user/uclresearchanalysis\n"
     ]
    }
   ],
   "source": [
    "cd .."
   ]
  },
  {
   "cell_type": "code",
   "execution_count": 2,
   "metadata": {},
   "outputs": [
    {
     "name": "stdout",
     "output_type": "stream",
     "text": [
      "('Reading config file from location: '\n",
      " '/home/ec2-user/uclresearchanalysis/configuration/env.properties')\n",
      "{'calculate': {'analysis': True,\n",
      "               'friends': False,\n",
      "               'network': True,\n",
      "               'uniquetweets': True,\n",
      "               'uniqueusers': True},\n",
      " 'data': {'dates': ['2018-03-11', '2018-03-12', '2018-03-13'],\n",
      "          'eventname': \"Givenchy's Death\",\n",
      "          'phrases': ['givenchy%20death', 'givenchy%20passed%20away'],\n",
      "          'starttime': 'Mar 12 08:20:00 -0500 2018'},\n",
      " 'path': {'cwd': '/home/ec2-user/uclresearchanalysis/data/givenchy',\n",
      "          'ml': '/home/ec2-user/uclresearchanalysis/data/givenchy/pickle',\n",
      "          'networkx': {'all': '/home/ec2-user/uclresearchanalysis/data/givenchy/pickle/networkx_all.dat',\n",
      "                       'friends': '/home/ec2-user/uclresearchanalysis/data/givenchy/pickle/networkx_friends.dat',\n",
      "                       'potential': '/home/ec2-user/uclresearchanalysis/data/givenchy/pickle/networkx_potential.dat'},\n",
      "          'newcrawl': '/home/ec2-user/uclresearchanalysis/other/newcrawl.dat',\n",
      "          'pickle': {'friends': '/home/ec2-user/uclresearchanalysis/data/givenchy/pickle/friends.dat',\n",
      "                     'needcrawl': '/home/ec2-user/uclresearchanalysis/data/givenchy/pickle/needcrawl.dat',\n",
      "                     'network': '/home/ec2-user/uclresearchanalysis/data/givenchy/pickle/network.dat',\n",
      "                     'tweets': '/home/ec2-user/uclresearchanalysis/data/givenchy/pickle/tweets.dat',\n",
      "                     'users': '/home/ec2-user/uclresearchanalysis/data/givenchy/pickle/users.dat'},\n",
      "          'result': '/home/ec2-user/uclresearchanalysis/data/givenchy/result',\n",
      "          'twitter': '/home/ec2-user/uclresearchanalysis/data/givenchy/twitter'},\n",
      " 'save_to_file': 'False',\n",
      " 'timeframe': '1440'}\n"
     ]
    }
   ],
   "source": [
    "import builtins\n",
    "builtins.uclresearch_topic = 'GIVENCHY' # 226984 entires\n",
    "# builtins.uclresearch_topic = 'HAWKING'\n",
    "# builtins.uclresearch_topic = 'NYC'\n",
    "# builtins.uclresearch_topic = 'FLORIDA'\n",
    "from configuration import config"
   ]
  },
  {
   "cell_type": "code",
   "execution_count": 3,
   "metadata": {},
   "outputs": [],
   "source": [
    "import networkx as nx\n",
    "from tqdm import tqdm\n",
    "import pandas as pd\n",
    "import numpy as np\n",
    "import math\n",
    "from multiprocessing import Pool\n",
    "from IPython.display import display"
   ]
  },
  {
   "cell_type": "code",
   "execution_count": 4,
   "metadata": {},
   "outputs": [
    {
     "name": "stdout",
     "output_type": "stream",
     "text": [
      "Loading data file from path /home/ec2-user/uclresearchanalysis/data/givenchy/pickle/users.dat\n",
      "'Loaded 5011 entires'\n",
      "Loading data file from path /home/ec2-user/uclresearchanalysis/data/givenchy/pickle/networkx_friends.dat\n",
      "'Loaded 5011 entires'\n"
     ]
    }
   ],
   "source": [
    "unique_users = config.load_users_dataframe()\n",
    "network_friends = config.load_networkx_friends()"
   ]
  },
  {
   "cell_type": "code",
   "execution_count": 5,
   "metadata": {},
   "outputs": [
    {
     "data": {
      "text/plain": [
       "Index(['user', 'user_id', 'time_lapsed', 'followers_count', 'friends_count',\n",
       "       'user_created_days', 'user_statuses_count', 'user_listed_count',\n",
       "       'user_favourites_count', 'normalized_user_statuses_count',\n",
       "       'normalized_user_followers_count', 'normalized_user_favourites_count',\n",
       "       'normalized_user_listed_count', 'normalized_user_friends_count',\n",
       "       'mention_and_reply', 'source_candidates', 'source_index', 'seed_index',\n",
       "       'generation', 'time_since_seed'],\n",
       "      dtype='object')"
      ]
     },
     "execution_count": 5,
     "metadata": {},
     "output_type": "execute_result"
    }
   ],
   "source": [
    "unique_users.columns"
   ]
  },
  {
   "cell_type": "markdown",
   "metadata": {},
   "source": [
    "# Settings"
   ]
  },
  {
   "cell_type": "code",
   "execution_count": 6,
   "metadata": {},
   "outputs": [],
   "source": [
    "# intervals = [60, 30, 15, 7]\n",
    "intervals = [30]\n",
    "\n",
    "# Helper function for mean value calculation\n",
    "def mean(numbers):\n",
    "    return float(sum(numbers)) / max(len(numbers), 1)"
   ]
  },
  {
   "cell_type": "markdown",
   "metadata": {},
   "source": [
    "# Pre-Calculate features"
   ]
  },
  {
   "cell_type": "code",
   "execution_count": 7,
   "metadata": {},
   "outputs": [
    {
     "name": "stdout",
     "output_type": "stream",
     "text": [
      "CPU times: user 17 µs, sys: 3 µs, total: 20 µs\n",
      "Wall time: 22.4 µs\n"
     ]
    }
   ],
   "source": [
    "%%time\n",
    "# Calculating in and out degrees\n",
    "nodeInDegreeDict = network_friends.in_degree()\n",
    "nodeOutDegreeDict = network_friends.out_degree()"
   ]
  },
  {
   "cell_type": "code",
   "execution_count": 8,
   "metadata": {},
   "outputs": [
    {
     "name": "stdout",
     "output_type": "stream",
     "text": [
      "CPU times: user 2 µs, sys: 0 ns, total: 2 µs\n",
      "Wall time: 4.77 µs\n"
     ]
    }
   ],
   "source": [
    "%%time\n",
    "convert_dictionary_to_sorted_list = lambda x: [x[a] for a in sorted(x)]"
   ]
  },
  {
   "cell_type": "markdown",
   "metadata": {},
   "source": [
    "Assortativity [https://networkx.github.io/documentation/networkx-1.9.1/reference/algorithms.assortativity.html]"
   ]
  },
  {
   "cell_type": "code",
   "execution_count": 9,
   "metadata": {},
   "outputs": [
    {
     "name": "stdout",
     "output_type": "stream",
     "text": [
      "CPU times: user 31.9 ms, sys: 3.87 ms, total: 35.8 ms\n",
      "Wall time: 35.2 ms\n"
     ]
    }
   ],
   "source": [
    "%%time\n",
    "average_neighbor_degree = convert_dictionary_to_sorted_list(nx.average_neighbor_degree(network_friends))"
   ]
  },
  {
   "cell_type": "markdown",
   "metadata": {},
   "source": [
    "Centrality [https://networkx.github.io/documentation/networkx-1.9.1/reference/algorithms.centrality.html]"
   ]
  },
  {
   "cell_type": "code",
   "execution_count": 10,
   "metadata": {},
   "outputs": [
    {
     "name": "stdout",
     "output_type": "stream",
     "text": [
      "CPU times: user 3.03 ms, sys: 0 ns, total: 3.03 ms\n",
      "Wall time: 3.04 ms\n"
     ]
    }
   ],
   "source": [
    "%%time\n",
    "degree_centrality = convert_dictionary_to_sorted_list(nx.degree_centrality(network_friends))"
   ]
  },
  {
   "cell_type": "code",
   "execution_count": 11,
   "metadata": {},
   "outputs": [
    {
     "name": "stdout",
     "output_type": "stream",
     "text": [
      "CPU times: user 2.27 ms, sys: 0 ns, total: 2.27 ms\n",
      "Wall time: 2.27 ms\n"
     ]
    }
   ],
   "source": [
    "%%time\n",
    "in_degree_centrality = convert_dictionary_to_sorted_list(nx.in_degree_centrality(network_friends))"
   ]
  },
  {
   "cell_type": "code",
   "execution_count": 12,
   "metadata": {},
   "outputs": [
    {
     "name": "stdout",
     "output_type": "stream",
     "text": [
      "CPU times: user 2.22 ms, sys: 0 ns, total: 2.22 ms\n",
      "Wall time: 2.22 ms\n"
     ]
    }
   ],
   "source": [
    "%%time\n",
    "out_degree_centrality = convert_dictionary_to_sorted_list(nx.out_degree_centrality(network_friends))"
   ]
  },
  {
   "cell_type": "code",
   "execution_count": 13,
   "metadata": {},
   "outputs": [],
   "source": [
    "# Too slow\n",
    "# %%time\n",
    "# closeness_centrality = convert_dictionary_to_sorted_list(nx.closeness_centrality(network_friends))"
   ]
  },
  {
   "cell_type": "code",
   "execution_count": 14,
   "metadata": {},
   "outputs": [],
   "source": [
    "# Too slow\n",
    "# %%time\n",
    "# betweenness_centrality = convert_dictionary_to_sorted_list(nx.betweenness_centrality(network_friends))"
   ]
  },
  {
   "cell_type": "code",
   "execution_count": 15,
   "metadata": {},
   "outputs": [
    {
     "name": "stdout",
     "output_type": "stream",
     "text": [
      "CPU times: user 1.12 s, sys: 0 ns, total: 1.12 s\n",
      "Wall time: 1.12 s\n"
     ]
    }
   ],
   "source": [
    "%%time\n",
    "eigenvector_centrality = convert_dictionary_to_sorted_list(nx.eigenvector_centrality(network_friends))"
   ]
  },
  {
   "cell_type": "markdown",
   "metadata": {},
   "source": [
    "# Feature Extraction"
   ]
  },
  {
   "cell_type": "code",
   "execution_count": 16,
   "metadata": {},
   "outputs": [],
   "source": [
    "def process_data(interval, start_index, end_index):\n",
    "    features = {\n",
    "        'label': [],                    \n",
    "        # UsM: User metadata\n",
    "        'UsM_deltaDays': [],\n",
    "        'UsM_statusesCount': [],\n",
    "        'UsM_followersCount': [],\n",
    "        'UsM_favouritesCount': [],\n",
    "        'UsM_friendsCount': [],\n",
    "        'UsM_listedCount': [],\n",
    "        'UsM_normalizedUserStatusesCount': [],\n",
    "        'UsM_normalizedUserFollowersCount': [],\n",
    "        'UsM_normalizedUserFavouritesCount': [],\n",
    "        'UsM_normalizedUserListedCount': [],\n",
    "        'UsM_normalizedUserFriendsCount': [],                 \n",
    "        'UsM_deltaDays0': [],\n",
    "        'UsM_statusesCount0': [],\n",
    "        'UsM_followersCount0': [],\n",
    "        'UsM_favouritesCount0': [],\n",
    "        'UsM_friendsCount0': [],\n",
    "        'UsM_listedCount0': [],\n",
    "        'UsM_normalizedUserStatusesCount0': [],\n",
    "        'UsM_normalizedUserFollowersCount0': [],\n",
    "        'UsM_normalizedUserFavouritesCount0': [],\n",
    "        'UsM_normalizedUserListedCount0': [],\n",
    "        'UsM_normalizedUserFriendsCount0': [],\n",
    "        'UsM_deltaDays-1': [],\n",
    "        'UsM_statusesCount-1': [],\n",
    "        'UsM_followersCount-1': [],\n",
    "        'UsM_favouritesCount-1': [],\n",
    "        'UsM_friendsCount-1': [],\n",
    "        'UsM_listedCount-1': [],\n",
    "        'UsM_normalizedUserStatusesCount-1': [],\n",
    "        'UsM_normalizedUserFollowersCount-1': [],\n",
    "        'UsM_normalizedUserFavouritesCount-1': [],\n",
    "        'UsM_normalizedUserListedCount-1': [],\n",
    "        'UsM_normalizedUserFriendsCount-1': [],\n",
    "        # TwM: Tweet metadata\n",
    "        'TwM_t0': [],\n",
    "        'TwM_t-1': [],\n",
    "        'TwM_tCurrent': [],\n",
    "        # Nw: Network\n",
    "        'Nw_nNodes': [],\n",
    "        'Nw_averageNeighborDegree': [],\n",
    "        'Nw_degreeCentrality': [],\n",
    "        'Nw_inDegreeCentrality': [],\n",
    "        'Nw_outDegreeCentrality': [],\n",
    "        'Nw_eigenvectorCentrality': [],\n",
    "        'Nw_averageNeighborDegree0': [],\n",
    "        'Nw_degreeCentrality0': [],\n",
    "        'Nw_inDegreeCentrality0': [],\n",
    "        'Nw_outDegreeCentrality0': [],\n",
    "        'Nw_eigenvectorCentrality0': [],\n",
    "        'Nw_averageNeighborDegree-1': [],\n",
    "        'Nw_degreeCentrality-1': [],\n",
    "        'Nw_inDegreeCentrality-1': [],\n",
    "        'Nw_outDegreeCentrality-1': [],\n",
    "        'Nw_eigenvectorCentrality-1': [],\n",
    "        # Stat: Statistical\n",
    "        'Stat_average_kOut': [],\n",
    "        'Stat_average_t': [],\n",
    "        'Stat_average_deltaDays': [],\n",
    "        'Stat_average_statusesCount': [],\n",
    "        'Stat_average_followersCount': [],\n",
    "        'Stat_average_favouritesCount': [],\n",
    "        'Stat_average_friendsCount': [],\n",
    "        'Stat_average_listedCount': [],\n",
    "        'Stat_average_normalizedUserStatusesCount': [],\n",
    "        'Stat_average_normalizedUserFollowersCount': [],\n",
    "        'Stat_average_normalizedUserFavouritesCount': [],\n",
    "        'Stat_average_normalizedUserListedCount': [],\n",
    "        'Stat_average_normalizedUserFriendsCount': [],                \n",
    "        'Stat_max_kOut': [],\n",
    "        'Stat_min_kOut': []\n",
    "    }\n",
    "\n",
    "    with tqdm(total=len(list(unique_users[start_index: end_index].iterrows()))) as pbar: \n",
    "        for index, user_row in unique_users[start_index: end_index].iterrows():\n",
    "            if user_row['source_index'] is not None:          \n",
    "                source_candidates = user_row['source_candidates']\n",
    "                source_first = source_candidates[0]\n",
    "                source_first_row = unique_users.iloc[source_first]\n",
    "                source_first_time_lapsed = source_first_row.time_lapsed\n",
    "                start_bar = int(source_first_time_lapsed / interval) + 1                \n",
    "                bars = list(np.arange(start_bar * interval, 24 * 60, interval))\n",
    "                number_of_bars = len(bars)\n",
    "                \n",
    "                for current_time in bars:\n",
    "                    # all sources up to the current time\n",
    "                    sources = [x for x in source_candidates if unique_users.iloc[x].time_lapsed <= current_time]\n",
    "                    sources_dataframe = unique_users.iloc[sources]\n",
    "                    \n",
    "                    averageNeighborDegreeList = list(average_neighbor_degree[i] for i in sources)\n",
    "                    degreeCentralityList = list(degree_centrality[i] for i in sources)\n",
    "                    inDegreeCentralityList = list(in_degree_centrality[i] for i in sources)\n",
    "                    outDegreeCentralityList = list(out_degree_centrality[i] for i in sources)\n",
    "                    eigenvectorCentralityList = list(eigenvector_centrality[i] for i in sources)\n",
    "                    \n",
    "                    degreeList = [nodeOutDegreeDict[x] for x in sources]\n",
    "                    timeList = [current_time - unique_users.iloc[x].time_lapsed for x in sources]\n",
    "                    \n",
    "                    first_source_index = sources[0]\n",
    "                    first_source_row = unique_users.iloc[first_source_index]\n",
    "                    last_source_index = sources[-1]\n",
    "                    last_source_row = unique_users.iloc[last_source_index]\n",
    "\n",
    "                    #Extraction\n",
    "                    features['label'].append(int(current_time >= user_row['time_lapsed']))\n",
    "                    # UsM: User metadata                    \n",
    "                    features['UsM_deltaDays'].append(user_row['user_created_days'])\n",
    "                    features['UsM_statusesCount'].append(user_row['user_statuses_count'])\n",
    "                    features['UsM_followersCount'].append(user_row['followers_count'])\n",
    "                    features['UsM_favouritesCount'].append(user_row['user_favourites_count'])\n",
    "                    features['UsM_friendsCount'].append(user_row['friends_count'])\n",
    "                    features['UsM_listedCount'].append(user_row['user_listed_count'])\n",
    "                    features['UsM_normalizedUserStatusesCount'].append(user_row['normalized_user_statuses_count'])\n",
    "                    features['UsM_normalizedUserFollowersCount'].append(user_row['normalized_user_followers_count'])\n",
    "                    features['UsM_normalizedUserFavouritesCount'].append(user_row['normalized_user_favourites_count'])\n",
    "                    features['UsM_normalizedUserListedCount'].append(user_row['normalized_user_listed_count'])\n",
    "                    features['UsM_normalizedUserFriendsCount'].append(user_row['normalized_user_friends_count'])                 \n",
    "                    features['UsM_deltaDays0'].append(source_first_row.user_created_days)\n",
    "                    features['UsM_statusesCount0'].append(source_first_row.user_statuses_count)\n",
    "                    features['UsM_followersCount0'].append(source_first_row.followers_count)\n",
    "                    features['UsM_favouritesCount0'].append(source_first_row.user_favourites_count)\n",
    "                    features['UsM_friendsCount0'].append(source_first_row.friends_count)\n",
    "                    features['UsM_listedCount0'].append(source_first_row.user_listed_count)\n",
    "                    features['UsM_normalizedUserStatusesCount0'].append(source_first_row.normalized_user_statuses_count)\n",
    "                    features['UsM_normalizedUserFollowersCount0'].append(source_first_row.normalized_user_followers_count)\n",
    "                    features['UsM_normalizedUserFavouritesCount0'].append(source_first_row.normalized_user_favourites_count)\n",
    "                    features['UsM_normalizedUserListedCount0'].append(source_first_row.normalized_user_listed_count)\n",
    "                    features['UsM_normalizedUserFriendsCount0'].append(source_first_row.normalized_user_friends_count)\n",
    "                    features['UsM_deltaDays-1'].append(last_source_row.user_created_days)\n",
    "                    features['UsM_statusesCount-1'].append(last_source_row.user_statuses_count)\n",
    "                    features['UsM_followersCount-1'].append(last_source_row.followers_count)\n",
    "                    features['UsM_favouritesCount-1'].append(last_source_row.user_favourites_count)\n",
    "                    features['UsM_friendsCount-1'].append(last_source_row.friends_count)\n",
    "                    features['UsM_listedCount-1'].append(last_source_row.user_listed_count)\n",
    "                    features['UsM_normalizedUserStatusesCount-1'].append(last_source_row.normalized_user_statuses_count)\n",
    "                    features['UsM_normalizedUserFollowersCount-1'].append(last_source_row.normalized_user_followers_count)\n",
    "                    features['UsM_normalizedUserFavouritesCount-1'].append(last_source_row.normalized_user_favourites_count)\n",
    "                    features['UsM_normalizedUserListedCount-1'].append(last_source_row.normalized_user_listed_count)\n",
    "                    features['UsM_normalizedUserFriendsCount-1'].append(last_source_row.normalized_user_friends_count) \n",
    "                    # TwM: Tweet metadata\n",
    "                    features['TwM_t0'].append(round(timeList[0], 1))\n",
    "                    features['TwM_t-1'].append(round(timeList[-1], 1))\n",
    "                    features['TwM_tCurrent'].append(current_time)\n",
    "                    # Nw: Network\n",
    "                    features['Nw_nNodes'].append(len(sources))\n",
    "                    features['Nw_averageNeighborDegree'].append(average_neighbor_degree[index])\n",
    "                    features['Nw_degreeCentrality'].append(degree_centrality[index])\n",
    "                    features['Nw_inDegreeCentrality'].append(in_degree_centrality[index])\n",
    "                    features['Nw_outDegreeCentrality'].append(out_degree_centrality[index])\n",
    "                    features['Nw_eigenvectorCentrality'].append(eigenvector_centrality[index])\n",
    "                    features['Nw_averageNeighborDegree0'].append(average_neighbor_degree[source_first])\n",
    "                    features['Nw_degreeCentrality0'].append(degree_centrality[source_first])\n",
    "                    features['Nw_inDegreeCentrality0'].append(in_degree_centrality[source_first])\n",
    "                    features['Nw_outDegreeCentrality0'].append(out_degree_centrality[source_first])\n",
    "                    features['Nw_eigenvectorCentrality0'].append(eigenvector_centrality[source_first])\n",
    "                    features['Nw_averageNeighborDegree-1'].append(average_neighbor_degree[last_source_index])\n",
    "                    features['Nw_degreeCentrality-1'].append(degree_centrality[last_source_index])\n",
    "                    features['Nw_inDegreeCentrality-1'].append(in_degree_centrality[last_source_index])\n",
    "                    features['Nw_outDegreeCentrality-1'].append(out_degree_centrality[last_source_index])\n",
    "                    features['Nw_eigenvectorCentrality-1'].append(eigenvector_centrality[last_source_index])\n",
    "                    # Stat: Statistical\n",
    "                    features['Stat_average_kOut'].append(round(mean(degreeList), 1))\n",
    "                    features['Stat_average_t'].append(round(mean(timeList), 1))\n",
    "                    features['Stat_average_deltaDays'].append(sources_dataframe.user_created_days.mean())\n",
    "                    features['Stat_average_statusesCount'].append(sources_dataframe.user_statuses_count.mean())\n",
    "                    features['Stat_average_followersCount'].append(sources_dataframe.followers_count.mean())\n",
    "                    features['Stat_average_favouritesCount'].append(sources_dataframe.user_favourites_count.mean())\n",
    "                    features['Stat_average_friendsCount'].append(sources_dataframe.friends_count.mean())\n",
    "                    features['Stat_average_listedCount'].append(sources_dataframe.user_listed_count.mean())\n",
    "                    features['Stat_average_normalizedUserStatusesCount'].append(sources_dataframe.normalized_user_statuses_count.mean())\n",
    "                    features['Stat_average_normalizedUserFollowersCount'].append(sources_dataframe.normalized_user_followers_count.mean())\n",
    "                    features['Stat_average_normalizedUserFavouritesCount'].append(sources_dataframe.normalized_user_favourites_count.mean())\n",
    "                    features['Stat_average_normalizedUserListedCount'].append(sources_dataframe.normalized_user_listed_count.mean())\n",
    "                    features['Stat_average_normalizedUserFriendsCount'].append(sources_dataframe.normalized_user_friends_count.mean())\n",
    "                    features['Stat_max_kOut'].append(max(degreeList))\n",
    "                    features['Stat_min_kOut'].append(min(degreeList))\n",
    "\n",
    "                processed_dataframe = pd.DataFrame(features)\n",
    "            pbar.update(1)\n",
    "    return processed_dataframe"
   ]
  },
  {
   "cell_type": "code",
   "execution_count": null,
   "metadata": {},
   "outputs": [
    {
     "name": "stderr",
     "output_type": "stream",
     "text": [
      " 99%|█████████▊| 618/627 [11:14<00:17,  1.95s/it]"
     ]
    }
   ],
   "source": [
    "number_of_processes = 8\n",
    "for interval in intervals:\n",
    "    with Pool(number_of_processes) as pool:\n",
    "        parameters = []\n",
    "        number_of_users = len(unique_users.index)\n",
    "        task_size = math.ceil(number_of_users/number_of_processes)\n",
    "        for i in range(number_of_processes):\n",
    "            start_index = i * task_size\n",
    "            end_index = min((i + 1) * task_size, number_of_users)\n",
    "            parameters.append((interval, start_index, end_index))\n",
    "        dataframe_results = pool.starmap(process_data, parameters)\n",
    "    result = pd.DataFrame()\n",
    "    result = result.append(dataframe_results)\n",
    "    config.dump_ml_data(result, interval)\n",
    "    print('extracted {} of rows'.format(len(result.index)))\n",
    "    display(result)"
   ]
  }
 ],
 "metadata": {
  "kernelspec": {
   "display_name": "Python 3",
   "language": "python",
   "name": "python3"
  },
  "language_info": {
   "codemirror_mode": {
    "name": "ipython",
    "version": 3
   },
   "file_extension": ".py",
   "mimetype": "text/x-python",
   "name": "python",
   "nbconvert_exporter": "python",
   "pygments_lexer": "ipython3",
   "version": "3.6.5"
  }
 },
 "nbformat": 4,
 "nbformat_minor": 2
}
