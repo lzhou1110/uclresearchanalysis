{
 "cells": [
  {
   "cell_type": "code",
   "execution_count": null,
   "metadata": {},
   "outputs": [],
   "source": [
    "import math\n",
    "import numpy as np\n",
    "import networkx as nx\n",
    "import pandas as pd\n",
    "from collections import Counter\n",
    "import operator\n",
    "\n",
    "import config\n",
    "from config import load_users_dataframe\n",
    "from config import load_networkx_all\n",
    "from config import load_networkx_friends\n",
    "from config import load_networkx_potential\n",
    "\n",
    "# Plotting\n",
    "import matplotlib\n",
    "# matplotlib.use('Agg')\n",
    "import matplotlib.pyplot as plt\n",
    "import matplotlib.patches as mpatches\n",
    "import seaborn as sns\n",
    "\n",
    "# Networkx\n",
    "from networkx.drawing.nx_agraph import graphviz_layout\n",
    "import dzcnapy_plotlib as dzcnapy\n",
    "\n",
    "project_name = config.settings['data']['eventname']\n",
    "timeframe = config.settings['timeframe']\n",
    "save_to_file = config.settings['save_to_file'] == 'True'\n",
    "window = 30\n",
    "unique_users = load_users_dataframe()\n",
    "network_all = load_networkx_all()\n",
    "network_friends = load_networkx_friends()\n",
    "network_potential = load_networkx_potential()"
   ]
  },
  {
   "cell_type": "markdown",
   "metadata": {},
   "source": [
    "# Basic Info"
   ]
  },
  {
   "cell_type": "code",
   "execution_count": null,
   "metadata": {},
   "outputs": [],
   "source": [
    "depth = max(unique_users.generation) + 1\n",
    "total_nodes = len(network_all.nodes())\n",
    "top10seeds = unique_users.seed_index.value_counts()[0:10]\n",
    "top10earliesseeds = unique_users[unique_users.generation == 0][0:10]\n",
    "top10degree = sorted(dict(nx.degree(network_all)).items(), key=operator.itemgetter(1), reverse=True)[0:10]"
   ]
  },
  {
   "cell_type": "markdown",
   "metadata": {},
   "source": [
    "# Code"
   ]
  },
  {
   "cell_type": "code",
   "execution_count": null,
   "metadata": {},
   "outputs": [],
   "source": [
    "def store_basic_info():\n",
    "    if save_to_file:\n",
    "        f = open(config.settings['path']['result']+'/basicinfo.md','w')\n",
    "    else:\n",
    "        f = None\n",
    "    print('==================Results==================', file=f)\n",
    "    print('* Spreading network:', file=f)\n",
    "    print('# nodes: {}'.format(len(network_all.nodes())), file=f)\n",
    "    print('# edges: {}'.format(len(network_all.edges())), file=f)\n",
    "    depth = max(unique_users.generation) + 1\n",
    "    print('Generation depth: {}'.format(depth), file=f)\n",
    "    for i in range(depth):\n",
    "        print('Generation {}, contains {} users'.format(i, len(unique_users[unique_users.generation == i])), file=f)\n",
    "    print('** Top 10 seeds with the greatest descendants', file=f)\n",
    "    top10seeds = unique_users.seed_index.value_counts()[0:10]\n",
    "    for key in top10seeds.keys():\n",
    "        print('seed id: {}, {}, # descendants: {}, # descendants in friends network: {}'.format(\n",
    "            key, \n",
    "            network_all.nodes()[key]['user'],\n",
    "            len(nx.descendants(network_all, key)),\n",
    "            len(nx.descendants(network_friends, key))\n",
    "        ), file=f)\n",
    "    print('** Top 10 seeds closest to event', file=f)\n",
    "    for key in list(top10earliesseeds.index):\n",
    "        print('seed id: {}, {}, # descendants: {}, # descendants in friends network: {}'.format(\n",
    "            key, \n",
    "            network_all.nodes()[key]['user'],\n",
    "            len(nx.descendants(network_all, key)),\n",
    "            len(nx.descendants(network_friends, key))\n",
    "        ), file=f)\n",
    "    top10degree = sorted(dict(nx.degree(network_all)).items(), key=operator.itemgetter(1), reverse=True)[0:10]\n",
    "    print('** Top 10 nodes with largest degree', file=f)\n",
    "    for key, degree in top10degree:\n",
    "        print('node id: {}, {}, degree: {}, degree in friends network: {}, # descendants: {}, # descendants in friends network: {}'.format(\n",
    "            key,\n",
    "            network_all.nodes()[key]['user'],\n",
    "            network_all.degree(key),\n",
    "            network_friends.degree(key),\n",
    "            len(nx.descendants(network_all, key)),\n",
    "            len(nx.descendants(network_friends, key))\n",
    "        ), file=f)\n",
    "    print('* Friends network:', file=f)\n",
    "    print('# nodes: {}'.format(len(network_friends.nodes())), file=f)\n",
    "    print('# edges: {}'.format(len(network_friends.edges())), file=f)\n",
    "    print('Graph Density [edge/(node*(node-1))]: {0:.2%}'.format(nx.density(network_friends)), file=f)\n",
    "    print('============== End of Results==============', file=f)\n",
    "    # seed的generation分布\n",
    "    if save_to_file:\n",
    "        f.close()\n",
    "\n",
    "def get_colors(depth):\n",
    "    return sns.cubehelix_palette(depth, start=3, rot=1, reverse=True)\n",
    "    sns.palplot(colors)\n",
    "\n",
    "def plot_network(graph, title):\n",
    "    plt.axis('off')\n",
    "    pos = graphviz_layout(graph)\n",
    "    nx.draw_networkx(graph, pos=pos, with_labels=False, **dzcnapy.small_attrs)\n",
    "    depth = max(nx.get_node_attributes(graph,'generation').values()) + 1\n",
    "    colors = get_colors(depth)\n",
    "    color = [colors[graph.node[n][\"generation\"]] for n in graph]\n",
    "    dzcnapy.small_attrs[\"node_color\"] = color\n",
    "    patchList = []\n",
    "    for index in range(depth):\n",
    "        data_key = mpatches.Patch(color=colors[index], label='Generation {}'.format(index))\n",
    "        patchList.append(data_key)\n",
    "    plt.legend(handles=patchList)\n",
    "    dzcnapy.set_extent(pos, plt)\n",
    "    dzcnapy.plot(title, [15, 15], save=True)"
   ]
  },
  {
   "cell_type": "markdown",
   "metadata": {},
   "source": [
    "# Overview"
   ]
  },
  {
   "cell_type": "code",
   "execution_count": null,
   "metadata": {},
   "outputs": [],
   "source": [
    "store_basic_info()"
   ]
  },
  {
   "cell_type": "code",
   "execution_count": null,
   "metadata": {},
   "outputs": [],
   "source": [
    "plot_network(network_all, 'Visualization of the entire network for event {}'.format(project_name))"
   ]
  },
  {
   "cell_type": "code",
   "execution_count": null,
   "metadata": {},
   "outputs": [],
   "source": [
    "def plot_degree_frequency(network):\n",
    "    title = 'Degree frequency of all nodes in the spreading of event {}'.format(project_name)\n",
    "    deg = nx.degree(network_all)\n",
    "    x, y = zip(*Counter(dict(deg).values()).items())\n",
    "    plt.scatter(x, y)\n",
    "    plt.xscale(\"log\")\n",
    "    plt.yscale(\"log\")\n",
    "    plt.xlim(0.9, max(x))\n",
    "    plt.ylim(0.9, max(y))\n",
    "    plt.xlabel(\"Degree\")\n",
    "    plt.ylabel(\"Frequency\")\n",
    "    dzcnapy.plot(title, [15, 9], save=True)\n",
    "plot_degree_frequency(network_all)"
   ]
  },
  {
   "cell_type": "code",
   "execution_count": null,
   "metadata": {},
   "outputs": [],
   "source": [
    "def plot_time_lapsed_vs_newly_infected_users():\n",
    "    title = 'time lapsed vs newly infected users for event {}'.format(project_name)\n",
    "    d = pd.DataFrame(0, index=np.arange(int(timeframe)/window), columns=range(depth))\n",
    "    for i in range(int(int(timeframe)/window)):\n",
    "        data = unique_users[(unique_users.time_lapsed >= (i)*window) & (unique_users.time_lapsed < (i+1)*window)]\n",
    "        for generation in range(depth):\n",
    "            d.iloc[i, generation] = sum(data.generation == generation)\n",
    "    colors = get_colors(depth)\n",
    "    ax = d.plot.bar(\n",
    "        stacked=True, \n",
    "        color = colors\n",
    "    );\n",
    "    ax.set_xticks(range(48))\n",
    "    ax.set_xticklabels([i*0.5 for i in range(48)])\n",
    "    ax.set_xlabel('time lapsed (30 mins per bar)')\n",
    "    ax.set_ylabel('number of newly infected users')\n",
    "    patchList = []\n",
    "    for index in range(depth):\n",
    "        data_key = mpatches.Patch(color=colors[index], label='Generation {}'.format(index))\n",
    "        patchList.append(data_key)\n",
    "    plt.legend(handles=patchList)\n",
    "    dzcnapy.plot(title, [15, 9], save=True)\n",
    "plot_time_lapsed_vs_newly_infected_users()"
   ]
  },
  {
   "cell_type": "markdown",
   "metadata": {},
   "source": [
    "# Seeds"
   ]
  },
  {
   "cell_type": "code",
   "execution_count": null,
   "metadata": {},
   "outputs": [],
   "source": [
    "def plot_time_vs_log_seed_descedants(network):\n",
    "    title = 'Time vs number of seed descendants for event {}'.format(project_name)\n",
    "    seed_count_series = network.seed_index.value_counts()\n",
    "    seeds_dataframe = unique_users[network.generation == 0].copy()\n",
    "    seeds_dataframe['y'] = 0\n",
    "    for index in seeds_dataframe.index:\n",
    "        seeds_dataframe.loc[index, 'y'] = seed_count_series.get(index)\n",
    "    # use the function regplot to make a scatterplot\n",
    "    sns.regplot(x=seeds_dataframe[\"time_lapsed\"], y=seeds_dataframe['y'], fit_reg=False)\n",
    "    plt.xlabel('time lapsed (minutes)')\n",
    "    plt.ylabel('number of descendants')\n",
    "    plt.yscale(\"log\")\n",
    "    dzcnapy.plot(title, [15, 9], save=True)\n",
    "plot_time_vs_log_seed_descedants(unique_users)"
   ]
  },
  {
   "cell_type": "code",
   "execution_count": null,
   "metadata": {},
   "outputs": [],
   "source": [
    "def order_and_reindex(df, column):\n",
    "    df = df.sort_values(by=[column])\n",
    "    df = df.set_index(np.arange(len(df.index)))\n",
    "    return df\n",
    "def plot_time_vs_number_of_seeds(df):\n",
    "    title = 'Time vs Number of seeds, for event {}'.format(project_name)\n",
    "    seeds_dataframe = unique_users[unique_users.generation == 0].copy()\n",
    "    seeds_dataframe = order_and_reindex(seeds_dataframe, 'time_lapsed')\n",
    "    n_bins = math.floor(float(timeframe)/window)\n",
    "    sns.distplot(seeds_dataframe['time_lapsed'], kde=False, bins=n_bins)\n",
    "    plt.xlabel('time lapsed [{} minutes per bar]'.format(window))\n",
    "    plt.ylabel('number of seeds')\n",
    "    dzcnapy.plot(title, [15, 9], save=True)\n",
    "plot_time_vs_number_of_seeds(unique_users)"
   ]
  },
  {
   "cell_type": "code",
   "execution_count": null,
   "metadata": {},
   "outputs": [],
   "source": [
    "def plot_log_spreading_graph(df):\n",
    "    title = 'Time versus total number of new infected users of the top 5 seeds during first 24 hours, for event {}'.format(project_name)\n",
    "    number_of_seeds = 5\n",
    "    seed_count_series = df.seed_index.value_counts()\n",
    "    pallttes = sns.cubehelix_palette(number_of_seeds + 1)\n",
    "\n",
    "    draw_dataframe = df.copy()\n",
    "    draw_dataframe = draw_dataframe.filter(items=['time_lapsed'])\n",
    "    draw_dataframe = draw_dataframe.reset_index()\n",
    "    draw_dataframe['counter'] = range(1, len(draw_dataframe) + 1)\n",
    "    plt.plot(draw_dataframe['time_lapsed'], draw_dataframe['counter'], marker='', color=pallttes[number_of_seeds], linewidth=1, alpha=0.9, label = 'all')\n",
    "\n",
    "    for index in range(number_of_seeds):\n",
    "        seed_index = seed_count_series.keys()[index]\n",
    "        data_to_plot = df.copy()\n",
    "        data_to_plot = data_to_plot[data_to_plot.seed_index == seed_index]['time_lapsed']\n",
    "        data_to_plot = data_to_plot.reset_index()\n",
    "        data_to_plot['counter'] = range(1, len(data_to_plot) + 1)\n",
    "        plt.plot(data_to_plot['time_lapsed'], data_to_plot['counter'], marker='', color=pallttes[number_of_seeds - index], linewidth=1, alpha=0.9, label='Seed {}'.format(index + 1))\n",
    "\n",
    "    plt.xlabel('Time lapsed (minutes)')\n",
    "    plt.ylabel('Total number of new infected users')\n",
    "    plt.yscale(\"log\")\n",
    "    plt.legend()\n",
    "    dzcnapy.plot(title, [15, 9], save=True)\n",
    "\n",
    "plot_log_spreading_graph(unique_users)"
   ]
  },
  {
   "cell_type": "code",
   "execution_count": null,
   "metadata": {},
   "outputs": [],
   "source": [
    "def plot_time_after_spreading_vs_log_10_number_of_newly_infected_user(df):\n",
    "    title = 'time (minutes) since seed creation time vs newly infected user {}'.format(project_name)\n",
    "    number_of_seeds = 5\n",
    "    seed_count_series = df.seed_index.value_counts()\n",
    "    pallttes = sns.cubehelix_palette(number_of_seeds)\n",
    "    \n",
    "    for index in range(number_of_seeds):\n",
    "        seed_index = seed_count_series.keys()[index]\n",
    "        data_to_plot = df.copy()\n",
    "        data_to_plot = data_to_plot[data_to_plot.seed_index == seed_index]['time_since_seed']\n",
    "        data_to_plot = data_to_plot.reset_index()\n",
    "        data_to_plot['counter'] = np.log10(range(1, len(data_to_plot) + 1))\n",
    "        plt.plot(data_to_plot['time_since_seed'], data_to_plot['counter'], marker='', color=pallttes[number_of_seeds - index - 1], linewidth=1, alpha=0.9, label='Seed {}'.format(index + 1))\n",
    "\n",
    "    plt.title(title)\n",
    "    plt.xlabel('time (minutes)')\n",
    "    plt.ylabel('number of new infected users (log base 10)')\n",
    "    plt.legend()\n",
    "    dzcnapy.plot(title, [15, 9], save=True)\n",
    "    \n",
    "plot_time_after_spreading_vs_log_10_number_of_newly_infected_user(unique_users)"
   ]
  },
  {
   "cell_type": "markdown",
   "metadata": {},
   "source": [
    "# Seed Details"
   ]
  },
  {
   "cell_type": "code",
   "execution_count": null,
   "metadata": {},
   "outputs": [],
   "source": [
    "def plot_seed(x):\n",
    "    seed_sub_graph = network_all.subgraph(unique_users[(unique_users.seed_index == x)].index)\n",
    "    title = 'Network diagram for seed at index {}, for event {}'.format(x, project_name)\n",
    "    plot_network(seed_sub_graph, title)\n",
    "\n",
    "def plot_seed_bar(x):\n",
    "    title = 'time lapsed vs newly infected users for seed at index {}, for event {}'.format(x, project_name)\n",
    "    plt.rcParams['figure.figsize'] = [15, 9]\n",
    "    d = pd.DataFrame(0, index=np.arange(int(timeframe)/window), columns=range(depth))\n",
    "    for i in range(int(int(timeframe)/window)):\n",
    "        data = unique_users[(unique_users.seed_index == x) & (unique_users.time_lapsed >= (i)*window) & (unique_users.time_lapsed < (i+1)*window)]\n",
    "        for generation in range(depth):\n",
    "            d.iloc[i, generation] = sum(data.generation == generation)\n",
    "    ax = d.plot.bar(\n",
    "        stacked=True, \n",
    "        color = get_colors(depth),\n",
    "        title = title\n",
    "    );\n",
    "    ax.set_xticks(range(48))\n",
    "    ax.set_xticklabels([i*0.5 for i in range(48)])\n",
    "    ax.set_xlabel('time lapsed (30 mins per bar)')\n",
    "    ax.set_ylabel('number of newly infected users')\n",
    "    plt.savefig('{}/{}'.format(config.settings['path']['result'], title))\n",
    "\n",
    "def top_degree_nodes_in_seed_network(x):\n",
    "    if save_to_file:\n",
    "        f = open('{}/top_degree_nodes_for_seed_{}.md'.format(config.settings['path']['result'], x),'w')\n",
    "    else:\n",
    "        f = None\n",
    "    seed_sub_graph = network_all.subgraph(unique_users[(unique_users.seed_index == x)].index)\n",
    "    top10degree = sorted(dict(nx.degree(seed_sub_graph)).items(), key=operator.itemgetter(1), reverse=True)[0:10]\n",
    "    print('* Top 10 nodes with largest degree for seed 21', file = f)\n",
    "    for key, degree in top10degree:\n",
    "        print('node id: {}, {}, generation: {}, time lapsed: {}, degree: {}, number of descendants: {}'.format(\n",
    "            key,\n",
    "            seed_sub_graph.nodes()[key]['user'],\n",
    "            seed_sub_graph.nodes()[key]['generation'],\n",
    "            seed_sub_graph.nodes()[key]['time_lapsed'],\n",
    "            seed_sub_graph.degree(key),\n",
    "            len(nx.descendants(network_all, key)),\n",
    "        ), file = f)\n",
    "    if save_to_file:\n",
    "        f.close()\n",
    "\n",
    "def calculate_forward_graph(seed_index):\n",
    "    seed_forward_network = nx.DiGraph()\n",
    "    seed_forward_network.add_node(seed_index,\n",
    "                                  user = unique_users.loc[seed_index, 'user'],\n",
    "                                  user_id = unique_users.loc[seed_index, 'user_id'],\n",
    "                                  time_lapsed = unique_users.loc[seed_index, 'time_lapsed'],\n",
    "                                  followers_count = unique_users.loc[seed_index, 'followers_count'],\n",
    "                                  friends_count = unique_users.loc[seed_index, 'friends_count'],\n",
    "                                  generation = 0,\n",
    "                                  time_since_seed = unique_users.loc[seed_index, 'time_since_seed']\n",
    "                                 )\n",
    "    for index in range(seed_index, len(unique_users)):\n",
    "        source_candidates = [x for x in unique_users.iloc[index].source_candidates if x in seed_forward_network.nodes()]\n",
    "        if len(source_candidates) > 0:\n",
    "            source = min(source_candidates)\n",
    "            source_generation = seed_forward_network.nodes()[source]['generation']\n",
    "            seed_forward_network.add_node(index,\n",
    "                                     user = unique_users.loc[index, 'user'],\n",
    "                                     user_id = unique_users.loc[index, 'user_id'],\n",
    "                                     time_lapsed = unique_users.loc[index, 'time_lapsed'],\n",
    "                                     followers_count = unique_users.loc[index, 'followers_count'],\n",
    "                                     friends_count = unique_users.loc[index, 'friends_count'],\n",
    "                                     generation = source_generation + 1,\n",
    "                                     time_since_seed = unique_users.loc[index, 'time_since_seed'],\n",
    "                                    )\n",
    "            seed_forward_network.add_edge(source, index)\n",
    "    return seed_forward_network\n",
    "\n",
    "\n",
    "def forward_graph_for_seed(g, x):\n",
    "    number_of_nodes = len(g.nodes())\n",
    "    plot_network(g, 'Forward spreading for seed at index {}, [{} of {} nodes]'.format(x, number_of_nodes, total_nodes))\n",
    "    \n",
    "    \n",
    "def plot_forward_bar(g, x):\n",
    "    title = 'Forward spreading bar for seed at index {}'.format(x)\n",
    "    plt.rcParams['figure.figsize'] = [15, 9]\n",
    "    network = pd.DataFrame(data = {\n",
    "        'time_lapsed': list(nx.get_node_attributes(g,'time_lapsed').values()), \n",
    "        'generation': list(nx.get_node_attributes(g,'generation').values())\n",
    "    })\n",
    "    \n",
    "    depth = max(network.generation)\n",
    "    d = pd.DataFrame(0, index=np.arange(int(timeframe)/window), columns=range(depth))\n",
    "    for i in range(int(int(timeframe)/window)):\n",
    "        data = network[(network.time_lapsed >= (i)*window) & (network.time_lapsed < (i+1)*window)]\n",
    "        for generation in range(depth):\n",
    "            d.iloc[i, generation] = sum(data.generation == generation)\n",
    "    colors = get_colors(depth)\n",
    "    ax = d.plot.bar(\n",
    "        stacked=True, \n",
    "        color = colors\n",
    "    );\n",
    "    ax.set_xticks(range(48))\n",
    "    ax.set_xticklabels([i*0.5 for i in range(48)])\n",
    "    ax.set_xlabel('time lapsed (30 mins per bar)')\n",
    "    ax.set_ylabel('number of newly infected users')\n",
    "    patchList = []\n",
    "    for index in range(depth):\n",
    "        data_key = mpatches.Patch(color=colors[index], label='Generation {}'.format(index))\n",
    "        patchList.append(data_key)\n",
    "    plt.legend(handles=patchList)\n",
    "    dzcnapy.plot(title, [15, 9], save=True)"
   ]
  },
  {
   "cell_type": "markdown",
   "metadata": {},
   "source": [
    "## 1st Largest Seed"
   ]
  },
  {
   "cell_type": "code",
   "execution_count": null,
   "metadata": {},
   "outputs": [],
   "source": [
    "plot_seed(top10seeds.keys()[0])"
   ]
  },
  {
   "cell_type": "code",
   "execution_count": null,
   "metadata": {},
   "outputs": [],
   "source": [
    "plot_seed_bar(top10seeds.keys()[0])"
   ]
  },
  {
   "cell_type": "code",
   "execution_count": null,
   "metadata": {},
   "outputs": [],
   "source": [
    "top_degree_nodes_in_seed_network(top10seeds.keys()[0])"
   ]
  },
  {
   "cell_type": "code",
   "execution_count": null,
   "metadata": {},
   "outputs": [],
   "source": [
    "g = calculate_forward_graph(top10seeds.keys()[0])"
   ]
  },
  {
   "cell_type": "code",
   "execution_count": null,
   "metadata": {},
   "outputs": [],
   "source": [
    "forward_graph_for_seed(g, top10seeds.keys()[0])"
   ]
  },
  {
   "cell_type": "code",
   "execution_count": null,
   "metadata": {},
   "outputs": [],
   "source": [
    "plot_forward_bar(g, top10seeds.keys()[0])"
   ]
  },
  {
   "cell_type": "markdown",
   "metadata": {},
   "source": [
    "## 2nd Largest Seed"
   ]
  },
  {
   "cell_type": "code",
   "execution_count": null,
   "metadata": {},
   "outputs": [],
   "source": [
    "plot_seed(top10seeds.keys()[1])"
   ]
  },
  {
   "cell_type": "code",
   "execution_count": null,
   "metadata": {},
   "outputs": [],
   "source": [
    "plot_seed_bar(top10seeds.keys()[1])"
   ]
  },
  {
   "cell_type": "code",
   "execution_count": null,
   "metadata": {},
   "outputs": [],
   "source": [
    "top_degree_nodes_in_seed_network(top10seeds.keys()[1])"
   ]
  },
  {
   "cell_type": "code",
   "execution_count": null,
   "metadata": {},
   "outputs": [],
   "source": [
    "g = calculate_forward_graph(top10seeds.keys()[1])"
   ]
  },
  {
   "cell_type": "code",
   "execution_count": null,
   "metadata": {},
   "outputs": [],
   "source": [
    "forward_graph_for_seed(g, top10seeds.keys()[1])"
   ]
  },
  {
   "cell_type": "code",
   "execution_count": null,
   "metadata": {},
   "outputs": [],
   "source": [
    "plot_forward_bar(g, top10seeds.keys()[1])"
   ]
  },
  {
   "cell_type": "markdown",
   "metadata": {},
   "source": [
    "## 3rd Largest Seed"
   ]
  },
  {
   "cell_type": "code",
   "execution_count": null,
   "metadata": {},
   "outputs": [],
   "source": [
    "plot_seed(top10seeds.keys()[2])"
   ]
  },
  {
   "cell_type": "code",
   "execution_count": null,
   "metadata": {},
   "outputs": [],
   "source": [
    "plot_seed_bar(top10seeds.keys()[2])"
   ]
  },
  {
   "cell_type": "code",
   "execution_count": null,
   "metadata": {},
   "outputs": [],
   "source": [
    "top_degree_nodes_in_seed_network(top10seeds.keys()[2])"
   ]
  },
  {
   "cell_type": "code",
   "execution_count": null,
   "metadata": {},
   "outputs": [],
   "source": [
    "g = calculate_forward_graph(top10seeds.keys()[2])"
   ]
  },
  {
   "cell_type": "code",
   "execution_count": null,
   "metadata": {},
   "outputs": [],
   "source": [
    "forward_graph_for_seed(g, top10seeds.keys()[2])"
   ]
  },
  {
   "cell_type": "code",
   "execution_count": null,
   "metadata": {},
   "outputs": [],
   "source": [
    "plot_forward_bar(g, top10seeds.keys()[2])"
   ]
  }
 ],
 "metadata": {
  "kernelspec": {
   "display_name": "Python 3",
   "language": "python",
   "name": "python3"
  },
  "language_info": {
   "codemirror_mode": {
    "name": "ipython",
    "version": 3
   },
   "file_extension": ".py",
   "mimetype": "text/x-python",
   "name": "python",
   "nbconvert_exporter": "python",
   "pygments_lexer": "ipython3",
   "version": "3.6.5"
  }
 },
 "nbformat": 4,
 "nbformat_minor": 2
}
