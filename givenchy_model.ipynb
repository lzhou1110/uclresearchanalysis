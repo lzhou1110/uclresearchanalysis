{
 "cells": [
  {
   "cell_type": "code",
   "execution_count": null,
   "metadata": {},
   "outputs": [],
   "source": []
  },
  {
   "cell_type": "code",
   "execution_count": 20,
   "metadata": {},
   "outputs": [],
   "source": [
    "%matplotlib inline\n",
    "import config\n",
    "from config import load_ml_data\n",
    "from sklearn.feature_selection import SelectKBest\n",
    "from sklearn.feature_selection import chi2\n",
    "from sklearn.linear_model import LogisticRegression,LinearRegression\n",
    "from sklearn.ensemble import GradientBoostingClassifier,RandomForestClassifier\n",
    "from sklearn.naive_bayes import GaussianNB\n",
    "from sklearn.model_selection import *\n",
    "from sklearn.metrics import *\n",
    "from sklearn import svm\n",
    "from pandas import *\n",
    "import pandas as pd\n",
    "from pprint import pprint\n",
    "import sys\n",
    "import numpy as np\n",
    "import matplotlib.pyplot as plt"
   ]
  },
  {
   "cell_type": "code",
   "execution_count": 2,
   "metadata": {},
   "outputs": [],
   "source": [
    "# Parameters\n",
    "interval = 30\n",
    "\n",
    "# 1. Prepare\n",
    "def prepare_data(interval):\n",
    "    df = load_ml_data(interval)\n",
    "    df = df.reset_index(drop=True)\n",
    "    \n",
    "    # Converting all type to float, to prepare for feature selection\n",
    "    df = df.astype('float')\n",
    "    # Reset index, with drop equals to true to avoid setting old index as a new column\n",
    "    df = df.reset_index(drop=True)\n",
    "    # Visualize distribution\n",
    "    print('[Original] data counts, with uninfected (0): {}, infected (1): {}'.format(\n",
    "        df['label'].value_counts()[0],\n",
    "        df['label'].value_counts()[1]\n",
    "    ))\n",
    "    df.groupby(['TwM_tCurrent','label']).size().unstack(fill_value=0).plot.bar(title='Original Data Distribution')\n",
    "    \n",
    "    columns = list(df.columns)\n",
    "    columns.remove('label')\n",
    "    \n",
    "    X = df[columns]\n",
    "    y = df[['label']]\n",
    "    return df, X, y\n"
   ]
  },
  {
   "cell_type": "code",
   "execution_count": 3,
   "metadata": {},
   "outputs": [
    {
     "name": "stdout",
     "output_type": "stream",
     "text": [
      "Loading data file from path /home/ec2-user/uclresearchanalysis/data/givenchy/pickle/30_data.dat\n",
      "'Loaded 226984 entires'\n",
      "[Original] data counts, with uninfected (0): 45869, infected (1): 181115\n"
     ]
    },
    {
     "data": {
      "image/png": "[encoded data removed]",
      "text/plain": [
       "<Figure size 432x288 with 1 Axes>"
      ]
     },
     "metadata": {},
     "output_type": "display_data"
    }
   ],
   "source": [
    "# 1. Prepare\n",
    "df, X, y = prepare_data(interval)"
   ]
  },
  {
   "cell_type": "code",
   "execution_count": 4,
   "metadata": {},
   "outputs": [
    {
     "data": {
      "text/plain": [
       "73"
      ]
     },
     "execution_count": 4,
     "metadata": {},
     "output_type": "execute_result"
    }
   ],
   "source": [
    "len(X.columns)"
   ]
  },
  {
   "cell_type": "code",
   "execution_count": 8,
   "metadata": {},
   "outputs": [],
   "source": [
    "def train(df, X, y, model, n_folds):\n",
    "    # 2. N Fold Split\n",
    "    # Stratified K-Folds cross-validator\n",
    "    # Provides train/test indices to split data in train/test sets. \n",
    "    # This cross-validation object is a variation of KFold that returns stratified folds. \n",
    "    # The folds are made by preserving the percentage of samples for each class.\n",
    "    skf = StratifiedKFold(n_splits=n_folds, shuffle=True)\n",
    "    \n",
    "    corrDataframe = pd.DataFrame()    \n",
    "    mse = []\n",
    "    acc = []\n",
    "    roc = []\n",
    "    F1 = []\n",
    "    auc = []\n",
    "    acc_t = []\n",
    "    fold_count = 0\n",
    "    t_current = 210\n",
    "#     number_of_features = len(X.columns)\n",
    "    number_of_features = 60\n",
    "\n",
    "    print(\"Start cross validation\")\n",
    "    for train, test in skf.split(X, y):\n",
    "        print(\"===Processing fold %s===\" % fold_count)\n",
    "        train_fold = df.loc[train]\n",
    "        test_fold = df.loc[test]\n",
    "\n",
    "        # 3. Rebalance (Up-sampling)\n",
    "        diff = sum(train_fold.label == 1) - sum(train_fold.label == 0)\n",
    "        append_indices = np.random.choice(train_fold[train_fold.label == 0].index, diff, replace=True)\n",
    "        new_sample = train_fold.loc[append_indices,:]\n",
    "        train_fold = pd.concat([train_fold, new_sample])\n",
    "        train_fold = train_fold.reset_index(drop=True)\n",
    "        print('[Up-sampling] data counts, with uninfected (0): {}, infected (1): {}'.format(\n",
    "            train_fold['label'].value_counts()[0],\n",
    "            train_fold['label'].value_counts()[1],\n",
    "        ))\n",
    "        \n",
    "        # 4. Feature Selection\n",
    "        corr = train_fold.corr()['label'][train_fold.corr()['label'] < 1].abs()\n",
    "        corr = corr.sort_values(ascending=False)\n",
    "        corrDataframe = corrDataframe.append(pd.DataFrame(corr.rename('cv{}'.format(fold_count))).T)\n",
    "\n",
    "        features = corr.index[range(number_of_features)].values\n",
    "#         train_fold_input  = SelectKBest(chi2, k=50).fit_transform(train_fold[X.columns], train_fold['label'])\n",
    "\n",
    "        train_fold_input = train_fold[features]\n",
    "        train_fold_output = train_fold['label']\n",
    "        \n",
    "        # 5. Training\n",
    "        # Fit logistic regression\n",
    "        model.fit(train_fold_input, train_fold_output)\n",
    "\n",
    "        # 6. Testing\n",
    "        # Check MSE on test set\n",
    "        test_fold_t = test_fold[test_fold.TwM_tCurrent == t_current]\n",
    "        pred = model.predict(test_fold[features])\n",
    "        pred_t = model.predict(test_fold_t[features])\n",
    "        mse.append(mean_squared_error(test_fold.label, pred))\n",
    "        acc.append(accuracy_score(test_fold.label, pred))\n",
    "        roc.append(roc_auc_score(test_fold.label, pred))\n",
    "        F1.append(f1_score(test_fold.label,pred))\n",
    "        acc_t.append(accuracy_score(test_fold_t.label, pred_t))\n",
    "        cm = confusion_matrix(test_fold.label, pred)\n",
    "        print(cm)\n",
    "\n",
    "        # Done with the fold\n",
    "        fold_count += 1\n",
    "    print(\"Finished cross validation\")\n",
    "    print(\"MSE: {} \".format(DataFrame(mse).mean()))\n",
    "    print(\"ACC: {} \".format(DataFrame(acc).mean()))\n",
    "    print(\"AUC: {} \".format(DataFrame(roc).mean()))\n",
    "    print(\"F1: {} \".format(DataFrame(F1).mean()))\n",
    "    print(\"ACC for t at {}: {} \".format(t_current, DataFrame(acc_t).mean()))\n",
    "    corrDataframe = corrDataframe.T\n",
    "    corrDataframe['average corr'] = corrDataframe.mean(numeric_only=True, axis=1)\n",
    "    print(corrDataframe.sort_values(by=['average corr'], ascending=False).to_string())\n",
    "    return model"
   ]
  },
  {
   "cell_type": "code",
   "execution_count": 6,
   "metadata": {},
   "outputs": [
    {
     "name": "stdout",
     "output_type": "stream",
     "text": [
      "Start cross validation\n",
      "===Processing fold 0===\n",
      "[Up-sampling] data counts, with uninfected (0): 163003, infected (1): 163003\n",
      "[[ 3302  1285]\n",
      " [ 3397 14715]]\n",
      "===Processing fold 1===\n",
      "[Up-sampling] data counts, with uninfected (0): 163003, infected (1): 163003\n"
     ]
    },
    {
     "name": "stderr",
     "output_type": "stream",
     "text": [
      "/home/ec2-user/miniconda3/lib/python3.6/site-packages/pandas/core/frame.py:6211: FutureWarning: Sorting because non-concatenation axis is not aligned. A future version\n",
      "of pandas will change to not sort by default.\n",
      "\n",
      "To accept the future behavior, pass 'sort=False'.\n",
      "\n",
      "To retain the current behavior and silence the warning, pass 'sort=True'.\n",
      "\n",
      "  sort=sort)\n"
     ]
    },
    {
     "name": "stdout",
     "output_type": "stream",
     "text": [
      "[[ 3394  1193]\n",
      " [ 3652 14460]]\n",
      "===Processing fold 2===\n",
      "[Up-sampling] data counts, with uninfected (0): 163003, infected (1): 163003\n",
      "[[ 3430  1157]\n",
      " [ 3577 14535]]\n",
      "===Processing fold 3===\n",
      "[Up-sampling] data counts, with uninfected (0): 163003, infected (1): 163003\n",
      "[[ 3447  1140]\n",
      " [ 3669 14443]]\n",
      "===Processing fold 4===\n",
      "[Up-sampling] data counts, with uninfected (0): 163003, infected (1): 163003\n",
      "[[ 3349  1238]\n",
      " [ 3594 14518]]\n",
      "===Processing fold 5===\n",
      "[Up-sampling] data counts, with uninfected (0): 163004, infected (1): 163004\n",
      "[[ 3379  1208]\n",
      " [ 3605 14506]]\n",
      "===Processing fold 6===\n",
      "[Up-sampling] data counts, with uninfected (0): 163004, infected (1): 163004\n",
      "[[ 3323  1264]\n",
      " [ 3478 14633]]\n",
      "===Processing fold 7===\n",
      "[Up-sampling] data counts, with uninfected (0): 163004, infected (1): 163004\n",
      "[[ 3390  1197]\n",
      " [ 3662 14449]]\n",
      "===Processing fold 8===\n",
      "[Up-sampling] data counts, with uninfected (0): 163004, infected (1): 163004\n",
      "[[ 3480  1107]\n",
      " [ 3630 14481]]\n",
      "===Processing fold 9===\n",
      "[Up-sampling] data counts, with uninfected (0): 163004, infected (1): 163004\n",
      "[[ 3381  1205]\n",
      " [ 3673 14438]]\n",
      "Finished cross validation\n",
      "MSE: 0    0.211165\n",
      "dtype: float64 \n",
      "ACC: 0    0.788835\n",
      "dtype: float64 \n",
      "AUC: 0    0.770048\n",
      "dtype: float64 \n",
      "F1: 0    0.858307\n",
      "dtype: float64 \n",
      "ACC for t at 210: 0    0.523698\n",
      "dtype: float64 \n",
      "                                                 cv0       cv1       cv2       cv3       cv4       cv5       cv6       cv7       cv8       cv9  average corr\n",
      "TwM_t0                                      0.622963  0.624864  0.623091  0.622542  0.624101  0.624132  0.623226  0.625762  0.622929  0.624091      0.623770\n",
      "TwM_tCurrent                                0.621196  0.623003  0.621370  0.620967  0.622280  0.622426  0.621523  0.623920  0.621476  0.622472      0.622063\n",
      "Stat_average_t                              0.608020  0.610021  0.608391  0.607643  0.608876  0.609392  0.608278  0.610572  0.607864  0.609404      0.608846\n",
      "TwM_t-1                                     0.536523  0.538185  0.537341  0.535812  0.536758  0.537665  0.536331  0.538181  0.535746  0.537767      0.537031\n",
      "Nw_outDegreeCentrality-1                    0.204008  0.204120  0.204460  0.204067  0.209223  0.206762  0.208235  0.209189  0.207046  0.205511      0.206262\n",
      "Nw_degreeCentrality-1                       0.199760  0.199855  0.200208  0.199863  0.204868  0.202495  0.203945  0.205061  0.202849  0.201403      0.202031\n",
      "Stat_min_kOut                               0.196248  0.195887  0.196780  0.196830  0.201326  0.199247  0.200050  0.201283  0.199118  0.198076      0.198485\n",
      "Nw_betweennessCentrality-1                  0.183895  0.183942  0.184397  0.184128  0.188827  0.186488  0.187975  0.189524  0.187131  0.186118      0.186242\n",
      "Stat_average_kOut                           0.169914  0.169979  0.170177  0.170348  0.174701  0.172835  0.173603  0.174380  0.172704  0.172406      0.172105\n",
      "Nw_inDegreeCentrality-1                     0.165375  0.165368  0.165823  0.165759  0.169687  0.167947  0.169141  0.171243  0.168716  0.167819      0.167688\n",
      "UsM_normalizedUserFriendsCount-1            0.142014  0.141142  0.141501  0.140758  0.145311  0.142760  0.145366  0.147229  0.143444  0.144282      0.143381\n",
      "UsM_friendsCount-1                          0.141092  0.140454  0.140697  0.140283  0.144823  0.141653  0.144992  0.145818  0.143035  0.143624      0.142647\n",
      "Stat_average_friendsCount                   0.137888  0.137294  0.137527  0.137419  0.141529  0.138915  0.141254  0.142276  0.140338  0.141187      0.139563\n",
      "Stat_average_normalizedUserFriendsCount     0.134569  0.133858  0.134548  0.133851  0.138131  0.135278  0.137705  0.139556  0.136615  0.137912      0.136202\n",
      "Nw_closenessCentrality-1                    0.130330  0.130143  0.131627  0.131670  0.134258  0.133193  0.134255  0.134752  0.134257  0.131971      0.132646\n",
      "Nw_eigenvectorCentrality-1                  0.112330  0.112156  0.112728  0.113065  0.114583  0.114820  0.114650  0.117570  0.115365  0.114275      0.114154\n",
      "Nw_nNodes                                   0.080370  0.080762  0.079969  0.082066  0.082705  0.082171  0.082197  0.082622  0.082975  0.081412      0.081725\n",
      "Stat_average_deltaDays                      0.073775  0.075171  0.074315  0.072933  0.076456  0.075178  0.075712  0.076231  0.076002  0.077247      0.075302\n",
      "UsM_deltaDays-1                             0.069969  0.071880  0.069311  0.069553  0.072857  0.071102  0.072490  0.073047  0.072384  0.072449      0.071504\n",
      "Nw_averageNeighborDegree                    0.060780  0.056728  0.057421  0.057497  0.055950  0.056759  0.058380  0.052590  0.055644  0.055226      0.056697\n",
      "UsM_normalizedUserListedCount-1             0.046088  0.045564  0.044872  0.043230  0.043679  0.044611  0.044547  0.046666  0.045976  0.045964      0.045120\n",
      "Nw_averageNeighborDegree-1                  0.036327  0.037001  0.035910  0.035516  0.038088  0.036596  0.038736  0.038697  0.035644  0.035940      0.036845\n",
      "UsM_listedCount-1                           0.034935  0.034530  0.033974  0.032194  0.032123  0.033274  0.033395  0.035596  0.034772  0.035132      0.033993\n",
      "UsM_favouritesCount0                        0.035039  0.032295  0.032914  0.031438  0.034457  0.034418  0.033738  0.033619  0.033159  0.032645      0.033372\n",
      "UsM_normalizedUserFavouritesCount0          0.034341  0.031745  0.031905  0.030319  0.033296  0.033935  0.032677  0.032801  0.032764  0.031555      0.032534\n",
      "UsM_followersCount0                         0.029816  0.028298  0.028224  0.030730  0.031195  0.030669  0.028204  0.028256  0.028601  0.027558      0.029155\n",
      "UsM_normalizedUserFollowersCount0           0.029631  0.027997  0.028179  0.030537  0.030992  0.030430  0.027835  0.027976  0.028343  0.027343      0.028926\n",
      "UsM_normalizedUserFriendsCount0             0.028377  0.027897  0.027146  0.029056  0.029523  0.028828  0.029499  0.028976  0.028750  0.030668      0.028872\n",
      "UsM_listedCount0                            0.028434  0.027216  0.026800  0.029392  0.029813  0.029432  0.027379  0.027143  0.027623  0.026291      0.027952\n",
      "UsM_friendsCount0                           0.027427  0.027051  0.026049  0.027926  0.028488  0.027843  0.028389  0.027568  0.027744  0.029741      0.027823\n",
      "UsM_deltaDays                               0.028046  0.027317  0.027347  0.026692  0.030016  0.028964  0.028746  0.024275  0.026442  0.026448      0.027429\n",
      "UsM_normalizedUserListedCount0              0.027913  0.026616  0.026399  0.028905  0.029214  0.028867  0.026751  0.026609  0.027163  0.025845      0.027428\n",
      "Nw_betweennessCentrality0                   0.026641  0.026630  0.025306  0.027503  0.027721  0.027792  0.027707  0.026941  0.027394  0.028959      0.027259\n",
      "Nw_degreeCentrality0                        0.026343  0.026688  0.024982  0.027575  0.027690  0.027918  0.027802  0.026790  0.027281  0.028621      0.027169\n",
      "Nw_outDegreeCentrality0                     0.026275  0.026731  0.024924  0.027617  0.027702  0.027980  0.027857  0.026764  0.027270  0.028548      0.027167\n",
      "Nw_inDegreeCentrality0                      0.026201  0.025932  0.024817  0.026808  0.027088  0.027035  0.026961  0.026414  0.026812  0.028466      0.026653\n",
      "Nw_eigenvectorCentrality0                   0.025953  0.025348  0.024369  0.026444  0.026476  0.026518  0.026333  0.026025  0.026258  0.027829      0.026155\n",
      "UsM_normalizedUserFollowersCount-1          0.024608  0.023638  0.023017  0.023135  0.023893  0.024900  0.024288  0.025606  0.026870  0.025532      0.024549\n",
      "UsM_normalizedUserStatusesCount0            0.024182  0.021501  0.023345  0.021136  0.025399  0.023802  0.023609  0.023892  0.022429  0.022988      0.023228\n",
      "Stat_average_normalizedUserListedCount      0.021562  0.022045  0.021641  0.018883  0.019464  0.020581  0.021471  0.021845  0.022130  0.022475      0.021210\n",
      "UsM_friendsCount                            0.021661  0.020551  0.020315  0.020164  0.021465  0.020765  0.021262  0.020601  0.020784  0.021489      0.020906\n",
      "UsM_followersCount-1                        0.020958  0.020013  0.019494  0.019398  0.019790  0.020948  0.020451  0.021868  0.023016  0.021901      0.020784\n",
      "Nw_closenessCentrality0                     0.018743  0.019196  0.018090  0.019421  0.019734  0.019540  0.020357  0.019359  0.020542  0.021039      0.019602\n",
      "UsM_deltaDays0                              0.020011  0.018168  0.017975  0.018870  0.018888  0.019741  0.018072  0.018054  0.019188  0.015561      0.018453\n",
      "Nw_outDegreeCentrality                      0.017769  0.016063  0.018055  0.018389  0.018093  0.018412  0.017720  0.017812  0.018395  0.018241      0.017895\n",
      "Nw_degreeCentrality                         0.016036  0.014854  0.016497  0.017018  0.016991  0.017349  0.016730  0.016561  0.017589  0.016860      0.016649\n",
      "Stat_average_listedCount                    0.015920  0.016463  0.016195  0.013426  0.013586  0.014769  0.015769  0.016164  0.016546  0.017070      0.015591\n",
      "Nw_betweennessCentrality                    0.011029  0.011242  0.011479  0.011909  0.011903  0.012417  0.011977  0.011550  0.012511  0.012286      0.011830\n",
      "Stat_average_normalizedUserStatusesCount    0.012830  0.008581  0.010159  0.007739  0.013072  0.009999  0.011049  0.011745  0.009931  0.011476      0.010658\n",
      "Stat_average_normalizedUserFollowersCount   0.010493  0.010281  0.009803  0.008239  0.008824  0.010076  0.011236  0.011581  0.012315  0.011962      0.010481\n",
      "Stat_average_statusesCount                  0.011728  0.008037  0.009704  0.007244  0.012880  0.009200  0.010678  0.011112  0.009086  0.011221      0.010089\n",
      "Stat_average_favouritesCount                0.011708  0.008810  0.008689  0.006758  0.010781  0.010085  0.009436  0.010500  0.009392  0.011028      0.009719\n",
      "UsM_statusesCount0                          0.009535  0.007956  0.010116  0.007119  0.012236  0.008843  0.010446  0.009761  0.007869  0.010219      0.009410\n",
      "UsM_normalizedUserStatusesCount             0.010151  0.006895  0.007182  0.008860  0.009072  0.010169  0.011552  0.009377  0.007275  0.008946      0.008948\n",
      "UsM_normalizedUserFavouritesCount-1         0.007228  0.008317  0.009046  0.010301  0.006627  0.008825  0.009433  0.007787  0.008907  0.006363      0.008283\n",
      "Nw_closenessCentrality                      0.007531  0.008335  0.007639  0.007301  0.006732  0.006992  0.008288  0.008555  0.008609  0.008515      0.007850\n",
      "UsM_normalizedUserListedCount               0.007129  0.008055  0.007017  0.007091  0.008815  0.007299  0.008050  0.007060  0.004679  0.009922      0.007512\n",
      "Stat_average_followersCount                 0.007552  0.007497  0.007141  0.005337  0.005630  0.006916  0.008150  0.008434  0.009205  0.009044      0.007491\n",
      "UsM_normalizedUserFavouritesCount           0.009932  0.006735  0.006855  0.008252  0.007423  0.005964  0.008768  0.007634  0.006449  0.006592      0.007461\n",
      "Stat_max_kOut                               0.006056  0.007049  0.006670  0.006799  0.007798  0.007677  0.007749  0.008033  0.007778  0.008891      0.007450\n",
      "Nw_averageNeighborDegree0                   0.009229  0.005725  0.010003  0.008415  0.005708  0.006944  0.005778  0.005753  0.009618  0.005252      0.007243\n",
      "Nw_eigenvectorCentrality                    0.004274  0.004726  0.005517  0.005179  0.007793  0.007339  0.007567  0.006189  0.009542  0.005219      0.006335\n",
      "Nw_inDegreeCentrality                       0.003695  0.005087  0.004929  0.005863  0.007155  0.007613  0.007384  0.005961  0.008798  0.005704      0.006219\n",
      "UsM_statusesCount                           0.006484  0.004961  0.004657  0.006045  0.006226  0.007000  0.008052  0.006813  0.005320  0.006221      0.006178\n",
      "UsM_followersCount                          0.006518  0.005367  0.005592  0.004144  0.005224  0.005027  0.005918  0.004944  0.005567  0.003310      0.005161\n",
      "Stat_average_normalizedUserFavouritesCount  0.007167  0.003966  0.004374  0.002005  0.005691  0.005279  0.004654  0.004874  0.004838  0.005617      0.004846\n",
      "UsM_statusesCount-1                         0.003384  0.006439  0.005240  0.006412  0.000761  0.006080  0.005241  0.003590  0.005442  0.003534      0.004612\n",
      "UsM_favouritesCount                         0.005654  0.002771  0.005427  0.005990  0.003468  0.002739  0.003423  0.003197  0.004759  0.005220      0.004265\n",
      "UsM_normalizedUserStatusesCount-1           0.002495  0.005366  0.005145  0.006560  0.001268  0.005997  0.004806  0.003085  0.004943  0.002501      0.004217\n",
      "UsM_favouritesCount-1                       0.002464  0.003733  0.004784  0.005145  0.000855  0.003994  0.004934  0.001613  0.003439  0.001540      0.003250\n",
      "UsM_normalizedUserFollowersCount            0.004312  0.003301  0.003164  0.002106  0.002968  0.003093  0.003732  0.002972  0.003729  0.001358      0.003073\n",
      "UsM_normalizedUserFriendsCount              0.002958  0.002729  0.002752  0.001397  0.003005  0.002656  0.003816  0.001896  0.002787  0.001556      0.002555\n",
      "UsM_listedCount                             0.001069  0.003728  0.002026  0.002351  0.003084  0.002083  0.002631  0.002026  0.000471  0.004444      0.002391\n"
     ]
    }
   ],
   "source": [
    "# Naive Bayes\n",
    "train(df, X, y, GaussianNB(), 10)"
   ]
  },
  {
   "cell_type": "code",
   "execution_count": 7,
   "metadata": {},
   "outputs": [
    {
     "name": "stdout",
     "output_type": "stream",
     "text": [
      "Start cross validation\n",
      "===Processing fold 0===\n",
      "[Up-sampling] data counts, with uninfected (0): 163003, infected (1): 163003\n",
      "[[ 3736   851]\n",
      " [ 4340 13772]]\n",
      "===Processing fold 1===\n",
      "[Up-sampling] data counts, with uninfected (0): 163003, infected (1): 163003\n"
     ]
    },
    {
     "name": "stderr",
     "output_type": "stream",
     "text": [
      "/home/ec2-user/miniconda3/lib/python3.6/site-packages/pandas/core/frame.py:6211: FutureWarning: Sorting because non-concatenation axis is not aligned. A future version\n",
      "of pandas will change to not sort by default.\n",
      "\n",
      "To accept the future behavior, pass 'sort=False'.\n",
      "\n",
      "To retain the current behavior and silence the warning, pass 'sort=True'.\n",
      "\n",
      "  sort=sort)\n"
     ]
    },
    {
     "name": "stdout",
     "output_type": "stream",
     "text": [
      "[[ 3719   868]\n",
      " [ 4340 13772]]\n",
      "===Processing fold 2===\n",
      "[Up-sampling] data counts, with uninfected (0): 163003, infected (1): 163003\n",
      "[[ 3744   843]\n",
      " [ 4321 13791]]\n",
      "===Processing fold 3===\n",
      "[Up-sampling] data counts, with uninfected (0): 163003, infected (1): 163003\n",
      "[[ 3687   900]\n",
      " [ 4406 13706]]\n",
      "===Processing fold 4===\n",
      "[Up-sampling] data counts, with uninfected (0): 163003, infected (1): 163003\n",
      "[[ 3694   893]\n",
      " [ 4432 13680]]\n",
      "===Processing fold 5===\n",
      "[Up-sampling] data counts, with uninfected (0): 163004, infected (1): 163004\n",
      "[[ 3739   848]\n",
      " [ 4457 13654]]\n",
      "===Processing fold 6===\n",
      "[Up-sampling] data counts, with uninfected (0): 163004, infected (1): 163004\n",
      "[[ 3736   851]\n",
      " [ 4390 13721]]\n",
      "===Processing fold 7===\n",
      "[Up-sampling] data counts, with uninfected (0): 163004, infected (1): 163004\n",
      "[[ 3752   835]\n",
      " [ 4361 13750]]\n",
      "===Processing fold 8===\n",
      "[Up-sampling] data counts, with uninfected (0): 163004, infected (1): 163004\n",
      "[[ 3696   891]\n",
      " [ 4367 13744]]\n",
      "===Processing fold 9===\n",
      "[Up-sampling] data counts, with uninfected (0): 163004, infected (1): 163004\n",
      "[[ 3754   832]\n",
      " [ 4250 13861]]\n",
      "Finished cross validation\n",
      "MSE: 0    0.230307\n",
      "dtype: float64 \n",
      "ACC: 0    0.769693\n",
      "dtype: float64 \n",
      "AUC: 0    0.785582\n",
      "dtype: float64 \n",
      "F1: 0    0.840219\n",
      "dtype: float64 \n",
      "ACC for t at 210: 0    0.514431\n",
      "dtype: float64 \n",
      "                                                 cv0       cv1       cv2       cv3       cv4       cv5       cv6       cv7       cv8       cv9  average corr\n",
      "TwM_t0                                      0.624959  0.623979  0.622338  0.623514  0.625457  0.624714  0.622998  0.622973  0.624513  0.624141      0.623959\n",
      "TwM_tCurrent                                0.623221  0.622327  0.620527  0.622026  0.623844  0.622861  0.621201  0.621350  0.622863  0.622392      0.622261\n",
      "Stat_average_t                              0.610139  0.608954  0.607563  0.608260  0.610485  0.609802  0.608268  0.608030  0.609730  0.609273      0.609050\n",
      "TwM_t-1                                     0.538709  0.536902  0.536068  0.535933  0.538530  0.537921  0.536939  0.536286  0.538059  0.537449      0.537280\n",
      "Nw_outDegreeCentrality-1                    0.204300  0.206583  0.206921  0.206664  0.206505  0.206096  0.205611  0.203927  0.204884  0.206069      0.205756\n",
      "Nw_degreeCentrality-1                       0.200093  0.202266  0.202745  0.202490  0.202382  0.201788  0.201420  0.199754  0.200614  0.201825      0.201538\n",
      "Stat_min_kOut                               0.196577  0.198488  0.198741  0.198556  0.199127  0.197688  0.198329  0.196037  0.196411  0.198167      0.197812\n",
      "Nw_betweennessCentrality-1                  0.184298  0.186342  0.186978  0.186966  0.186801  0.185745  0.185850  0.184177  0.184725  0.186076      0.185796\n",
      "Stat_average_kOut                           0.169745  0.172180  0.172207  0.172868  0.172638  0.170634  0.171974  0.170220  0.170229  0.172000      0.171470\n",
      "Nw_inDegreeCentrality-1                     0.165955  0.167404  0.168669  0.168495  0.168673  0.166969  0.167340  0.165877  0.166045  0.167459      0.167289\n",
      "UsM_normalizedUserFriendsCount-1            0.141618  0.144506  0.143506  0.143935  0.144279  0.142290  0.143537  0.141455  0.140709  0.143015      0.142885\n",
      "UsM_friendsCount-1                          0.140740  0.144107  0.142797  0.143458  0.142993  0.141760  0.143212  0.140198  0.140593  0.142035      0.142189\n",
      "Stat_average_friendsCount                   0.137964  0.140326  0.139327  0.140170  0.140542  0.138059  0.139844  0.137866  0.137707  0.139429      0.139124\n",
      "Stat_average_normalizedUserFriendsCount     0.134719  0.137186  0.136106  0.136560  0.137697  0.134319  0.136225  0.134857  0.134093  0.136455      0.135822\n",
      "Nw_closenessCentrality-1                    0.130857  0.131005  0.133671  0.133102  0.133148  0.131775  0.131999  0.133125  0.132536  0.132789      0.132401\n",
      "Nw_eigenvectorCentrality-1                  0.113391  0.112998  0.115523  0.114826  0.115999  0.113503  0.113587  0.113068  0.112594  0.113773      0.113926\n",
      "Nw_nNodes                                   0.080653  0.080751  0.080569  0.083708  0.081018  0.081528  0.082284  0.080915  0.079087  0.080271      0.081078\n",
      "Stat_average_deltaDays                      0.073630  0.076543  0.072984  0.076275  0.074250  0.075753  0.074678  0.072343  0.075456  0.075125      0.074704\n",
      "UsM_deltaDays-1                             0.070083  0.073988  0.070278  0.071792  0.070660  0.071802  0.072411  0.068834  0.071378  0.070929      0.071216\n",
      "Nw_averageNeighborDegree                    0.056556  0.055943  0.056628  0.057590  0.056259  0.052962  0.058418  0.054389  0.055595  0.052558      0.055690\n",
      "UsM_normalizedUserListedCount-1             0.046026  0.045448  0.043158  0.043639  0.045535  0.043872  0.044412  0.043897  0.045337  0.045057      0.044638\n",
      "Nw_averageNeighborDegree-1                  0.036661  0.035310  0.037411  0.036446  0.037902  0.035447  0.036002  0.037476  0.038870  0.037891      0.036942\n",
      "UsM_favouritesCount0                        0.035908  0.033706  0.036596  0.032870  0.035579  0.034916  0.034621  0.034009  0.033971  0.036139      0.034832\n",
      "UsM_normalizedUserFavouritesCount0          0.034636  0.033008  0.035983  0.031984  0.034193  0.033968  0.034288  0.033113  0.033283  0.035447      0.033990\n",
      "UsM_listedCount-1                           0.035115  0.034293  0.031924  0.032709  0.034370  0.032576  0.033232  0.032782  0.034266  0.033832      0.033510\n",
      "UsM_followersCount0                         0.028640  0.030170  0.029983  0.028906  0.029476  0.029116  0.031649  0.030328  0.026247  0.027572      0.029209\n",
      "UsM_normalizedUserFollowersCount0           0.028489  0.029928  0.029811  0.028792  0.029201  0.028891  0.031602  0.030123  0.026060  0.027312      0.029021\n",
      "UsM_normalizedUserFriendsCount0             0.027771  0.029172  0.029327  0.030147  0.030353  0.026761  0.029796  0.030355  0.027491  0.028940      0.029011\n",
      "UsM_listedCount0                            0.027322  0.028876  0.028689  0.027355  0.028381  0.028120  0.029918  0.029125  0.025179  0.026519      0.027948\n",
      "UsM_friendsCount0                           0.026733  0.027826  0.028102  0.028914  0.029121  0.025657  0.028344  0.028995  0.026868  0.027390      0.027795\n",
      "UsM_normalizedUserListedCount0              0.026807  0.028297  0.028163  0.026894  0.027838  0.027561  0.029444  0.028672  0.024708  0.025968      0.027435\n",
      "Nw_betweennessCentrality0                   0.025371  0.027305  0.027404  0.028644  0.028019  0.024789  0.027954  0.028535  0.025817  0.026694      0.027053\n",
      "UsM_deltaDays                               0.026655  0.026351  0.029321  0.028055  0.026060  0.026281  0.028450  0.026832  0.023879  0.027163      0.026905\n",
      "Nw_degreeCentrality0                        0.025077  0.027229  0.027218  0.028643  0.027815  0.024600  0.027848  0.028190  0.025539  0.026368      0.026853\n",
      "Nw_outDegreeCentrality0                     0.025018  0.027234  0.027191  0.028666  0.027780  0.024587  0.027844  0.028106  0.025500  0.026303      0.026823\n",
      "Nw_inDegreeCentrality0                      0.024915  0.026672  0.026836  0.027964  0.027466  0.024191  0.027327  0.028107  0.025260  0.026217      0.026495\n",
      "Nw_eigenvectorCentrality0                   0.024402  0.026275  0.026345  0.027588  0.026724  0.023392  0.026924  0.027783  0.024503  0.025532      0.025947\n",
      "UsM_normalizedUserStatusesCount0            0.025634  0.023828  0.026866  0.021742  0.025847  0.025368  0.024147  0.022633  0.025029  0.027013      0.024811\n",
      "UsM_normalizedUserFollowersCount-1          0.024776  0.024569  0.022278  0.023443  0.025288  0.023123  0.025381  0.024174  0.026065  0.025471      0.024457\n",
      "UsM_friendsCount                            0.020497  0.021781  0.020726  0.020962  0.021436  0.020776  0.019959  0.021802  0.021737  0.022129      0.021181\n",
      "Stat_average_normalizedUserListedCount      0.021829  0.021644  0.019632  0.021372  0.020784  0.021200  0.019491  0.019839  0.022668  0.022251      0.021071\n",
      "UsM_followersCount-1                        0.021217  0.020703  0.018413  0.019641  0.021458  0.019289  0.021411  0.020383  0.022343  0.021633      0.020649\n",
      "Nw_closenessCentrality0                     0.018199  0.019490  0.019644  0.020624  0.019782  0.017023  0.019956  0.020823  0.018451  0.019036      0.019303\n",
      "UsM_deltaDays0                              0.019325  0.018979  0.019923  0.017961  0.018182  0.019434  0.021286  0.020149  0.015504  0.018143      0.018889\n",
      "Nw_outDegreeCentrality                      0.017169  0.017845  0.017655  0.017322  0.016872  0.017655  0.017454  0.018389  0.016940  0.018756      0.017606\n",
      "Nw_degreeCentrality                         0.015555  0.016248  0.016334  0.016223  0.015345  0.016240  0.016164  0.016990  0.015164  0.017181      0.016144\n",
      "Stat_average_listedCount                    0.016352  0.015960  0.013949  0.015981  0.015064  0.015442  0.013768  0.014263  0.017168  0.016586      0.015453\n",
      "Stat_average_normalizedUserStatusesCount    0.012167  0.010480  0.013586  0.008749  0.012614  0.013023  0.011022  0.011935  0.011183  0.014619      0.011938\n",
      "Nw_betweennessCentrality                    0.011261  0.011328  0.011309  0.011387  0.010606  0.011759  0.011680  0.012072  0.010637  0.011793      0.011383\n",
      "Stat_average_favouritesCount                0.011488  0.009975  0.012806  0.009424  0.010537  0.012396  0.010803  0.011478  0.009715  0.012909      0.011153\n",
      "Stat_average_statusesCount                  0.012510  0.009590  0.011470  0.008848  0.011231  0.013228  0.010208  0.009951  0.010664  0.012829      0.011053\n",
      "UsM_statusesCount0                          0.013393  0.009274  0.012621  0.007623  0.012121  0.012019  0.008953  0.008061  0.011554  0.012697      0.010832\n",
      "Stat_average_normalizedUserFollowersCount   0.010592  0.010418  0.008822  0.010406  0.010184  0.010221  0.009306  0.009361  0.012135  0.011969      0.010342\n",
      "UsM_normalizedUserStatusesCount             0.007341  0.006194  0.011045  0.006917  0.009266  0.010302  0.007630  0.009905  0.010435  0.011996      0.009103\n",
      "UsM_normalizedUserFavouritesCount           0.007174  0.006520  0.009033  0.008887  0.006973  0.007846  0.007574  0.008685  0.008007  0.010673      0.008137\n",
      "Nw_closenessCentrality                      0.007838  0.007035  0.007992  0.008162  0.009291  0.005998  0.007230  0.009299  0.009040  0.007923      0.007981\n",
      "UsM_normalizedUserListedCount               0.007210  0.007934  0.006398  0.006736  0.009214  0.009030  0.008376  0.007171  0.008160  0.008733      0.007896\n",
      "Stat_max_kOut                               0.005826  0.006920  0.008124  0.008471  0.009071  0.005074  0.007772  0.008291  0.007901  0.007321      0.007477\n",
      "Stat_average_followersCount                 0.007819  0.007395  0.005818  0.007570  0.007080  0.007260  0.006087  0.006382  0.009301  0.008949      0.007366\n",
      "Nw_averageNeighborDegree0                   0.006457  0.006687  0.009837  0.007091  0.007562  0.007690  0.005568  0.005899  0.008465  0.008286      0.007354\n",
      "UsM_normalizedUserFavouritesCount-1         0.007723  0.008518  0.005593  0.009384  0.007679  0.006637  0.007954  0.006242  0.008252  0.004255      0.007224\n",
      "Stat_average_normalizedUserFavouritesCount  0.006858  0.004868  0.008896  0.003672  0.006204  0.006650  0.005886  0.007012  0.005312  0.008497      0.006386\n",
      "UsM_statusesCount                           0.004242  0.004036  0.007514  0.003935  0.006842  0.006832  0.002931  0.007633  0.009229  0.007885      0.006108\n",
      "Nw_eigenvectorCentrality                    0.003503  0.005095  0.006538  0.006911  0.004805  0.005292  0.006178  0.005495  0.002735  0.005474      0.005203\n",
      "Nw_inDegreeCentrality                       0.003662  0.004303  0.005749  0.006507  0.004014  0.005222  0.005572  0.005899  0.002873  0.005122      0.004892\n",
      "UsM_followersCount                          0.006351  0.005836  0.005351  0.004432  0.003605  0.002926  0.002372  0.005649  0.003956  0.007191      0.004767\n",
      "UsM_favouritesCount                         0.003783  0.003335  0.004645  0.005370  0.003218  0.003610  0.002074  0.006066  0.005885  0.006463      0.004445\n",
      "UsM_statusesCount-1                         0.004563  0.004924  0.003904  0.005348  0.004329  0.004076  0.003930  0.004053  0.005638  0.002723      0.004349\n",
      "UsM_normalizedUserStatusesCount-1           0.004717  0.005147  0.002724  0.005695  0.003240  0.003731  0.004036  0.002759  0.005865  0.001252      0.003917\n",
      "UsM_normalizedUserFollowersCount            0.004609  0.004074  0.003171  0.002423  0.001849  0.000887  0.000405  0.003547  0.001754  0.005257      0.002797\n",
      "UsM_listedCount                             0.001942  0.002885  0.001002  0.002339  0.003904  0.003782  0.003386  0.002208  0.003544  0.002649      0.002764\n",
      "UsM_normalizedUserFriendsCount              0.001574  0.001064  0.003456  0.002639  0.002134  0.002370  0.003097  0.002531  0.002728  0.002804      0.002440\n",
      "UsM_favouritesCount-1                       0.003867  0.002786  0.001137  0.003095  0.003421  0.001123  0.002735  0.001821  0.003500  0.000097      0.002358\n"
     ]
    }
   ],
   "source": [
    "# Logistic Regression\n",
    "train(df, X, y, LogisticRegression(), 10)\n"
   ]
  },
  {
   "cell_type": "code",
   "execution_count": 9,
   "metadata": {},
   "outputs": [
    {
     "name": "stdout",
     "output_type": "stream",
     "text": [
      "Start cross validation\n",
      "===Processing fold 0===\n",
      "[Up-sampling] data counts, with uninfected (0): 163003, infected (1): 163003\n",
      "[[ 4139   448]\n",
      " [  774 17338]]\n",
      "===Processing fold 1===\n",
      "[Up-sampling] data counts, with uninfected (0): 163003, infected (1): 163003\n"
     ]
    },
    {
     "name": "stderr",
     "output_type": "stream",
     "text": [
      "/home/ec2-user/miniconda3/lib/python3.6/site-packages/pandas/core/frame.py:6211: FutureWarning: Sorting because non-concatenation axis is not aligned. A future version\n",
      "of pandas will change to not sort by default.\n",
      "\n",
      "To accept the future behavior, pass 'sort=False'.\n",
      "\n",
      "To retain the current behavior and silence the warning, pass 'sort=True'.\n",
      "\n",
      "  sort=sort)\n"
     ]
    },
    {
     "name": "stdout",
     "output_type": "stream",
     "text": [
      "[[ 4155   432]\n",
      " [  683 17429]]\n",
      "===Processing fold 2===\n",
      "[Up-sampling] data counts, with uninfected (0): 163003, infected (1): 163003\n"
     ]
    },
    {
     "name": "stderr",
     "output_type": "stream",
     "text": [
      "/home/ec2-user/miniconda3/lib/python3.6/site-packages/pandas/core/frame.py:6211: FutureWarning: Sorting because non-concatenation axis is not aligned. A future version\n",
      "of pandas will change to not sort by default.\n",
      "\n",
      "To accept the future behavior, pass 'sort=False'.\n",
      "\n",
      "To retain the current behavior and silence the warning, pass 'sort=True'.\n",
      "\n",
      "  sort=sort)\n"
     ]
    },
    {
     "name": "stdout",
     "output_type": "stream",
     "text": [
      "[[ 4084   503]\n",
      " [  732 17380]]\n",
      "===Processing fold 3===\n",
      "[Up-sampling] data counts, with uninfected (0): 163003, infected (1): 163003\n"
     ]
    },
    {
     "name": "stderr",
     "output_type": "stream",
     "text": [
      "/home/ec2-user/miniconda3/lib/python3.6/site-packages/pandas/core/frame.py:6211: FutureWarning: Sorting because non-concatenation axis is not aligned. A future version\n",
      "of pandas will change to not sort by default.\n",
      "\n",
      "To accept the future behavior, pass 'sort=False'.\n",
      "\n",
      "To retain the current behavior and silence the warning, pass 'sort=True'.\n",
      "\n",
      "  sort=sort)\n"
     ]
    },
    {
     "name": "stdout",
     "output_type": "stream",
     "text": [
      "[[ 4151   436]\n",
      " [  705 17407]]\n",
      "===Processing fold 4===\n",
      "[Up-sampling] data counts, with uninfected (0): 163003, infected (1): 163003\n"
     ]
    },
    {
     "name": "stderr",
     "output_type": "stream",
     "text": [
      "/home/ec2-user/miniconda3/lib/python3.6/site-packages/pandas/core/frame.py:6211: FutureWarning: Sorting because non-concatenation axis is not aligned. A future version\n",
      "of pandas will change to not sort by default.\n",
      "\n",
      "To accept the future behavior, pass 'sort=False'.\n",
      "\n",
      "To retain the current behavior and silence the warning, pass 'sort=True'.\n",
      "\n",
      "  sort=sort)\n"
     ]
    },
    {
     "name": "stdout",
     "output_type": "stream",
     "text": [
      "[[ 4194   393]\n",
      " [  685 17427]]\n",
      "===Processing fold 5===\n",
      "[Up-sampling] data counts, with uninfected (0): 163004, infected (1): 163004\n"
     ]
    },
    {
     "name": "stderr",
     "output_type": "stream",
     "text": [
      "/home/ec2-user/miniconda3/lib/python3.6/site-packages/pandas/core/frame.py:6211: FutureWarning: Sorting because non-concatenation axis is not aligned. A future version\n",
      "of pandas will change to not sort by default.\n",
      "\n",
      "To accept the future behavior, pass 'sort=False'.\n",
      "\n",
      "To retain the current behavior and silence the warning, pass 'sort=True'.\n",
      "\n",
      "  sort=sort)\n"
     ]
    },
    {
     "name": "stdout",
     "output_type": "stream",
     "text": [
      "[[ 4231   356]\n",
      " [  754 17357]]\n",
      "===Processing fold 6===\n",
      "[Up-sampling] data counts, with uninfected (0): 163004, infected (1): 163004\n"
     ]
    },
    {
     "name": "stderr",
     "output_type": "stream",
     "text": [
      "/home/ec2-user/miniconda3/lib/python3.6/site-packages/pandas/core/frame.py:6211: FutureWarning: Sorting because non-concatenation axis is not aligned. A future version\n",
      "of pandas will change to not sort by default.\n",
      "\n",
      "To accept the future behavior, pass 'sort=False'.\n",
      "\n",
      "To retain the current behavior and silence the warning, pass 'sort=True'.\n",
      "\n",
      "  sort=sort)\n"
     ]
    },
    {
     "name": "stdout",
     "output_type": "stream",
     "text": [
      "[[ 4233   354]\n",
      " [  699 17412]]\n",
      "===Processing fold 7===\n",
      "[Up-sampling] data counts, with uninfected (0): 163004, infected (1): 163004\n"
     ]
    },
    {
     "name": "stderr",
     "output_type": "stream",
     "text": [
      "/home/ec2-user/miniconda3/lib/python3.6/site-packages/pandas/core/frame.py:6211: FutureWarning: Sorting because non-concatenation axis is not aligned. A future version\n",
      "of pandas will change to not sort by default.\n",
      "\n",
      "To accept the future behavior, pass 'sort=False'.\n",
      "\n",
      "To retain the current behavior and silence the warning, pass 'sort=True'.\n",
      "\n",
      "  sort=sort)\n"
     ]
    },
    {
     "name": "stdout",
     "output_type": "stream",
     "text": [
      "[[ 4109   478]\n",
      " [  755 17356]]\n",
      "===Processing fold 8===\n",
      "[Up-sampling] data counts, with uninfected (0): 163004, infected (1): 163004\n"
     ]
    },
    {
     "name": "stderr",
     "output_type": "stream",
     "text": [
      "/home/ec2-user/miniconda3/lib/python3.6/site-packages/pandas/core/frame.py:6211: FutureWarning: Sorting because non-concatenation axis is not aligned. A future version\n",
      "of pandas will change to not sort by default.\n",
      "\n",
      "To accept the future behavior, pass 'sort=False'.\n",
      "\n",
      "To retain the current behavior and silence the warning, pass 'sort=True'.\n",
      "\n",
      "  sort=sort)\n"
     ]
    },
    {
     "name": "stdout",
     "output_type": "stream",
     "text": [
      "[[ 4127   460]\n",
      " [  707 17404]]\n",
      "===Processing fold 9===\n",
      "[Up-sampling] data counts, with uninfected (0): 163004, infected (1): 163004\n"
     ]
    },
    {
     "name": "stderr",
     "output_type": "stream",
     "text": [
      "/home/ec2-user/miniconda3/lib/python3.6/site-packages/pandas/core/frame.py:6211: FutureWarning: Sorting because non-concatenation axis is not aligned. A future version\n",
      "of pandas will change to not sort by default.\n",
      "\n",
      "To accept the future behavior, pass 'sort=False'.\n",
      "\n",
      "To retain the current behavior and silence the warning, pass 'sort=True'.\n",
      "\n",
      "  sort=sort)\n"
     ]
    },
    {
     "name": "stdout",
     "output_type": "stream",
     "text": [
      "[[ 4116   470]\n",
      " [  769 17342]]\n",
      "Finished cross validation\n",
      "MSE: 0    0.051074\n",
      "dtype: float64 \n",
      "ACC: 0    0.948926\n",
      "dtype: float64 \n",
      "AUC: 0    0.932749\n",
      "dtype: float64 \n",
      "F1: 0    0.967735\n",
      "dtype: float64 \n",
      "ACC for t at 210: 0    0.829385\n",
      "dtype: float64 \n",
      "                                                 cv0       cv1       cv2       cv3       cv4       cv5       cv6       cv7       cv8       cv9  average corr\n",
      "TwM_t0                                      0.624206  0.624784  0.624643  0.624082  0.623555  0.625452  0.623880  0.622749  0.622564  0.624420      0.624033\n",
      "TwM_tCurrent                                0.622394  0.622905  0.623195  0.622403  0.621827  0.623709  0.622193  0.621381  0.621039  0.622872      0.622392\n",
      "Stat_average_t                              0.609490  0.609845  0.609748  0.608857  0.608675  0.610377  0.609355  0.608153  0.607523  0.609129      0.609115\n",
      "TwM_t-1                                     0.537804  0.538096  0.537872  0.536867  0.537079  0.538327  0.537890  0.536635  0.535471  0.537283      0.537332\n",
      "Nw_outDegreeCentrality-1                    0.206269  0.204261  0.207105  0.206108  0.204232  0.206419  0.206311  0.204937  0.206790  0.208393      0.206082\n",
      "Nw_degreeCentrality-1                       0.202127  0.199921  0.202946  0.201941  0.200042  0.202112  0.202102  0.200713  0.202482  0.204205      0.201859\n",
      "Stat_min_kOut                               0.198595  0.196675  0.199506  0.198708  0.196227  0.198567  0.198598  0.197638  0.199183  0.199677      0.198337\n",
      "Nw_betweennessCentrality-1                  0.186622  0.183868  0.187345  0.186306  0.184279  0.186036  0.186498  0.185013  0.186577  0.188498      0.186104\n",
      "Stat_average_kOut                           0.171318  0.170297  0.172952  0.172031  0.169841  0.171179  0.172995  0.171998  0.172581  0.173926      0.171912\n",
      "Nw_inDegreeCentrality-1                     0.168322  0.164971  0.169005  0.167962  0.165957  0.167302  0.167917  0.166437  0.167706  0.170058      0.167564\n",
      "UsM_normalizedUserFriendsCount-1            0.144138  0.141277  0.144016  0.143447  0.141876  0.143207  0.143603  0.141950  0.142940  0.145031      0.143149\n",
      "UsM_friendsCount-1                          0.143283  0.140590  0.143252  0.142890  0.141347  0.142782  0.142563  0.141368  0.142367  0.144291      0.142473\n",
      "Stat_average_friendsCount                   0.139465  0.137660  0.140568  0.139475  0.137594  0.138327  0.140948  0.139759  0.139813  0.141605      0.139521\n",
      "Stat_average_normalizedUserFriendsCount     0.136150  0.134098  0.137288  0.136001  0.134341  0.134783  0.137546  0.136450  0.136296  0.137882      0.136084\n",
      "Nw_closenessCentrality-1                    0.132502  0.129684  0.134099  0.133078  0.130262  0.132437  0.132067  0.133641  0.132420  0.135384      0.132557\n",
      "Nw_eigenvectorCentrality-1                  0.114965  0.111321  0.115991  0.114953  0.113256  0.113789  0.113893  0.113224  0.113430  0.116247      0.114107\n",
      "Nw_nNodes                                   0.081854  0.082627  0.080217  0.081111  0.080126  0.082177  0.082218  0.079625  0.082002  0.084051      0.081601\n",
      "Stat_average_deltaDays                      0.074089  0.076822  0.076453  0.077764  0.071825  0.073948  0.075185  0.073971  0.076572  0.078463      0.075509\n",
      "UsM_deltaDays-1                             0.070541  0.071803  0.070702  0.073171  0.068251  0.070446  0.070800  0.070534  0.072545  0.073914      0.071271\n",
      "Nw_averageNeighborDegree                    0.059314  0.054289  0.056640  0.057180  0.056845  0.055393  0.056434  0.055674  0.055245  0.053512      0.056052\n",
      "UsM_normalizedUserListedCount-1             0.044083  0.045687  0.045284  0.045990  0.043228  0.046090  0.044127  0.042756  0.045425  0.044630      0.044730\n",
      "Nw_averageNeighborDegree-1                  0.039574  0.035732  0.037053  0.040837  0.038397  0.038146  0.036399  0.037902  0.036124  0.035829      0.037599\n",
      "UsM_favouritesCount0                        0.035096  0.032847  0.035070  0.033731  0.033908  0.033384  0.036159  0.033410  0.033158  0.033257      0.034002\n",
      "UsM_listedCount-1                           0.032915  0.034795  0.034016  0.034760  0.032152  0.034675  0.032964  0.031697  0.034454  0.033465      0.033589\n",
      "UsM_normalizedUserFavouritesCount0          0.034658  0.031358  0.033598  0.032732  0.033092  0.032601  0.035346  0.031983  0.031732  0.032272      0.032937\n",
      "UsM_normalizedUserFriendsCount0             0.029001  0.027122  0.029613  0.028647  0.028962  0.026883  0.030487  0.031936  0.028727  0.030152      0.029153\n",
      "UsM_followersCount0                         0.029972  0.029105  0.028291  0.028025  0.028610  0.028848  0.030424  0.029874  0.029643  0.028202      0.029099\n",
      "UsM_normalizedUserFollowersCount0           0.029592  0.028993  0.028192  0.027823  0.028366  0.028718  0.030171  0.029493  0.029490  0.028028      0.028887\n",
      "UsM_friendsCount0                           0.027883  0.026450  0.028350  0.027295  0.027731  0.025900  0.029454  0.030962  0.027569  0.028998      0.028059\n",
      "UsM_listedCount0                            0.029361  0.027547  0.026853  0.026852  0.027473  0.027439  0.029282  0.028919  0.028327  0.027019      0.027907\n",
      "UsM_deltaDays                               0.026021  0.028596  0.027067  0.030676  0.028565  0.025296  0.026712  0.027406  0.029290  0.027052      0.027668\n",
      "UsM_normalizedUserListedCount0              0.028827  0.027058  0.026398  0.026334  0.026918  0.026947  0.028808  0.028384  0.027835  0.026588      0.027410\n",
      "Nw_betweennessCentrality0                   0.027257  0.025935  0.027509  0.026744  0.026989  0.025102  0.028352  0.030002  0.026705  0.028422      0.027302\n",
      "Nw_degreeCentrality0                        0.026976  0.025869  0.027285  0.026725  0.026864  0.025053  0.027945  0.029802  0.026562  0.028190      0.027127\n",
      "Nw_outDegreeCentrality0                     0.026920  0.025885  0.027248  0.026751  0.026853  0.025070  0.027844  0.029759  0.026540  0.028146      0.027102\n",
      "Nw_inDegreeCentrality0                      0.026760  0.025282  0.026961  0.026065  0.026406  0.024468  0.027960  0.029459  0.026166  0.027882      0.026741\n",
      "Nw_eigenvectorCentrality0                   0.025951  0.024727  0.026503  0.025496  0.026171  0.024131  0.027508  0.029082  0.025631  0.027312      0.026251\n",
      "UsM_normalizedUserFollowersCount-1          0.024679  0.024628  0.024141  0.027124  0.022223  0.025766  0.023734  0.022132  0.024904  0.024983      0.024431\n",
      "UsM_normalizedUserStatusesCount0            0.025494  0.023042  0.024794  0.023135  0.024487  0.022546  0.025245  0.023032  0.023945  0.023143      0.023886\n",
      "Stat_average_normalizedUserListedCount      0.019833  0.021885  0.022023  0.022287  0.020026  0.021941  0.020174  0.019209  0.021504  0.022485      0.021137\n",
      "UsM_friendsCount                            0.021395  0.019957  0.020593  0.021553  0.021654  0.022448  0.021198  0.021360  0.020566  0.020309      0.021103\n",
      "UsM_followersCount-1                        0.020778  0.021077  0.020332  0.023206  0.018475  0.021865  0.019901  0.018337  0.021252  0.021132      0.020635\n",
      "Nw_closenessCentrality0                     0.019149  0.017974  0.020577  0.019428  0.019954  0.018276  0.020528  0.022528  0.018418  0.021265      0.019810\n",
      "UsM_deltaDays0                              0.020240  0.016112  0.016286  0.017266  0.019131  0.019607  0.019227  0.017680  0.017994  0.017462      0.018101\n",
      "Nw_outDegreeCentrality                      0.018211  0.017844  0.017732  0.018740  0.018181  0.017571  0.018250  0.018216  0.017415  0.017470      0.017963\n",
      "Nw_degreeCentrality                         0.016883  0.016385  0.016223  0.017275  0.016624  0.016392  0.017102  0.016619  0.016011  0.016232      0.016575\n",
      "Stat_average_listedCount                    0.014176  0.016390  0.016401  0.016590  0.014460  0.016113  0.014553  0.013603  0.015940  0.016953      0.015518\n",
      "Stat_average_normalizedUserStatusesCount    0.013242  0.010887  0.012231  0.010791  0.011329  0.011998  0.012659  0.011033  0.010965  0.010895      0.011603\n",
      "Nw_betweennessCentrality                    0.011459  0.011210  0.011446  0.011441  0.012089  0.011644  0.011880  0.011586  0.011102  0.010604      0.011446\n",
      "Stat_average_statusesCount                  0.011904  0.011185  0.011680  0.011305  0.009735  0.010871  0.010679  0.009672  0.011785  0.011080      0.010990\n",
      "Stat_average_favouritesCount                0.011509  0.010979  0.010979  0.010610  0.010149  0.011787  0.011876  0.010041  0.008938  0.009738      0.010661\n",
      "Stat_average_normalizedUserFollowersCount   0.010303  0.010268  0.010778  0.012555  0.008995  0.011113  0.009750  0.009040  0.010662  0.012236      0.010570\n",
      "UsM_statusesCount0                          0.010791  0.009957  0.011739  0.009309  0.010570  0.008747  0.010760  0.009369  0.011311  0.009855      0.010241\n",
      "UsM_normalizedUserStatusesCount             0.009226  0.009692  0.009265  0.010103  0.011264  0.011043  0.010660  0.007201  0.007146  0.009255      0.009486\n",
      "UsM_normalizedUserFavouritesCount           0.007616  0.010447  0.007016  0.009310  0.009867  0.008554  0.008603  0.006081  0.006618  0.009406      0.008352\n",
      "UsM_normalizedUserListedCount               0.007848  0.009258  0.009543  0.006515  0.007773  0.008966  0.008014  0.007983  0.007071  0.009118      0.008209\n",
      "Nw_closenessCentrality                      0.006591  0.005953  0.009652  0.007562  0.008821  0.007065  0.007708  0.010419  0.006415  0.008854      0.007904\n",
      "Stat_average_followersCount                 0.007108  0.007530  0.007867  0.009389  0.006087  0.008051  0.006661  0.005923  0.007758  0.009246      0.007562\n",
      "UsM_normalizedUserFavouritesCount-1         0.007169  0.006661  0.006295  0.007863  0.007488  0.005750  0.006056  0.007348  0.010536  0.008720      0.007389\n",
      "Stat_max_kOut                               0.006333  0.005963  0.007812  0.007437  0.007276  0.005837  0.007219  0.009512  0.007024  0.008538      0.007295\n",
      "Nw_averageNeighborDegree0                   0.007262  0.008199  0.008386  0.006151  0.005861  0.008153  0.007891  0.006930  0.006253  0.005721      0.007081\n",
      "UsM_statusesCount                           0.006966  0.005154  0.007254  0.005374  0.007619  0.008002  0.007898  0.005971  0.004227  0.005693      0.006416\n",
      "Nw_eigenvectorCentrality                    0.007871  0.006532  0.004960  0.006221  0.004495  0.007066  0.008101  0.004510  0.004869  0.006940      0.006156\n",
      "Stat_average_normalizedUserFavouritesCount  0.006611  0.005118  0.005736  0.004980  0.005801  0.007076  0.007782  0.005211  0.003584  0.004131      0.005603\n",
      "Nw_inDegreeCentrality                       0.006055  0.005181  0.004754  0.005818  0.004798  0.006350  0.007009  0.004779  0.005049  0.005894      0.005569\n",
      "UsM_favouritesCount                         0.005097  0.005807  0.004833  0.003408  0.006745  0.006411  0.006960  0.003063  0.002116  0.005402      0.004984\n",
      "UsM_followersCount                          0.004021  0.005872  0.003580  0.004888  0.003549  0.004374  0.006096  0.004640  0.003920  0.005375      0.004632\n",
      "UsM_statusesCount-1                         0.003428  0.004246  0.003525  0.003967  0.005887  0.003718  0.004665  0.004855  0.004975  0.004605      0.004387\n",
      "UsM_normalizedUserStatusesCount-1           0.002718  0.004253  0.002133  0.004222  0.004918  0.002332  0.003035  0.004009  0.005819  0.004530      0.003797\n",
      "UsM_listedCount                             0.003384  0.003866  0.004841  0.001103  0.002784  0.004007  0.002304  0.002796  0.002567  0.002953      0.003060\n",
      "UsM_normalizedUserFollowersCount            0.002464  0.003911  0.001679  0.002890  0.001479  0.002406  0.004136  0.002822  0.001872  0.003311      0.002697\n",
      "UsM_normalizedUserFriendsCount              0.001989  0.002681  0.001696  0.003519  0.002460  0.003484  0.002919  0.001790  0.003052  0.002317      0.002591\n",
      "UsM_favouritesCount-1                       0.001555  0.001725  0.001686  0.002406  0.002803  0.000969  0.001841  0.002395  0.005519  0.003617      0.002452\n"
     ]
    }
   ],
   "source": [
    "# Random Forest 10 folds\n",
    "rf_10 = train(df, X, y, RandomForestClassifier(n_estimators= 100,min_samples_split=2,\n",
    "                                  min_samples_leaf=1,random_state=10), 10)"
   ]
  },
  {
   "cell_type": "code",
   "execution_count": 12,
   "metadata": {},
   "outputs": [
    {
     "name": "stdout",
     "output_type": "stream",
     "text": [
      "Start cross validation\n",
      "===Processing fold 0===\n",
      "[Up-sampling] data counts, with uninfected (0): 90557, infected (1): 90557\n",
      "[[20510  2425]\n",
      " [ 3544 87014]]\n",
      "===Processing fold 1===\n",
      "[Up-sampling] data counts, with uninfected (0): 90558, infected (1): 90558\n"
     ]
    },
    {
     "name": "stderr",
     "output_type": "stream",
     "text": [
      "/home/ec2-user/miniconda3/lib/python3.6/site-packages/pandas/core/frame.py:6211: FutureWarning: Sorting because non-concatenation axis is not aligned. A future version\n",
      "of pandas will change to not sort by default.\n",
      "\n",
      "To accept the future behavior, pass 'sort=False'.\n",
      "\n",
      "To retain the current behavior and silence the warning, pass 'sort=True'.\n",
      "\n",
      "  sort=sort)\n"
     ]
    },
    {
     "name": "stdout",
     "output_type": "stream",
     "text": [
      "[[19810  3124]\n",
      " [ 4317 86240]]\n",
      "Finished cross validation\n",
      "MSE: 0    0.059079\n",
      "dtype: float64 \n",
      "ACC: 0    0.940921\n",
      "dtype: float64 \n",
      "AUC: 0    0.917811\n",
      "dtype: float64 \n",
      "F1: 0    0.962741\n",
      "dtype: float64 \n",
      "ACC for t at 210: 0    0.792842\n",
      "dtype: float64 \n",
      "                                                 cv0       cv1  average corr\n",
      "TwM_t0                                      0.624205  0.625142      0.624673\n",
      "TwM_tCurrent                                0.622063  0.624017      0.623040\n",
      "Stat_average_t                              0.609606  0.610090      0.609848\n",
      "TwM_t-1                                     0.537956  0.537945      0.537950\n",
      "Nw_outDegreeCentrality-1                    0.204178  0.208046      0.206112\n",
      "Nw_degreeCentrality-1                       0.199932  0.203934      0.201933\n",
      "Stat_min_kOut                               0.197963  0.198967      0.198465\n",
      "Nw_betweennessCentrality-1                  0.184304  0.188412      0.186358\n",
      "Stat_average_kOut                           0.171815  0.173698      0.172756\n",
      "Nw_inDegreeCentrality-1                     0.165586  0.170255      0.167920\n",
      "UsM_normalizedUserFriendsCount-1            0.142213  0.143851      0.143032\n",
      "UsM_friendsCount-1                          0.141250  0.143448      0.142349\n",
      "Stat_average_friendsCount                   0.140661  0.139930      0.140295\n",
      "Stat_average_normalizedUserFriendsCount     0.137858  0.136416      0.137137\n",
      "Nw_closenessCentrality-1                    0.127400  0.138143      0.132771\n",
      "Nw_eigenvectorCentrality-1                  0.111138  0.117481      0.114310\n",
      "Nw_nNodes                                   0.081332  0.082431      0.081882\n",
      "Stat_average_deltaDays                      0.073942  0.075837      0.074890\n",
      "UsM_deltaDays-1                             0.069312  0.071958      0.070635\n",
      "Nw_averageNeighborDegree                    0.061667  0.054434      0.058051\n",
      "UsM_normalizedUserListedCount-1             0.044765  0.040672      0.042718\n",
      "Nw_averageNeighborDegree-1                  0.035701  0.037654      0.036678\n",
      "UsM_favouritesCount0                        0.036976  0.028445      0.032710\n",
      "UsM_normalizedUserFavouritesCount0          0.036228  0.027815      0.032021\n",
      "UsM_listedCount-1                           0.033739  0.029589      0.031664\n",
      "UsM_followersCount0                         0.034429  0.027148      0.030789\n",
      "UsM_normalizedUserFollowersCount0           0.034274  0.026943      0.030609\n",
      "UsM_normalizedUserFriendsCount0             0.031089  0.029772      0.030431\n",
      "UsM_listedCount0                            0.032791  0.026494      0.029642\n",
      "UsM_friendsCount0                           0.029264  0.029277      0.029271\n",
      "UsM_normalizedUserListedCount0              0.032226  0.026264      0.029245\n",
      "Nw_betweennessCentrality0                   0.028366  0.029108      0.028737\n",
      "Nw_degreeCentrality0                        0.028057  0.029060      0.028559\n",
      "Nw_outDegreeCentrality0                     0.028000  0.029052      0.028526\n",
      "Nw_inDegreeCentrality0                      0.027825  0.028542      0.028184\n",
      "Nw_eigenvectorCentrality0                   0.027465  0.028014      0.027740\n",
      "UsM_deltaDays                               0.031460  0.022120      0.026790\n",
      "UsM_normalizedUserFollowersCount-1          0.021698  0.023677      0.022688\n",
      "UsM_normalizedUserStatusesCount0            0.026835  0.018003      0.022419\n",
      "UsM_friendsCount                            0.024723  0.018469      0.021596\n",
      "Nw_closenessCentrality0                     0.019076  0.023902      0.021489\n",
      "Stat_average_normalizedUserListedCount      0.019241  0.019018      0.019129\n",
      "UsM_deltaDays0                              0.023008  0.015020      0.019014\n",
      "UsM_followersCount-1                        0.018211  0.019457      0.018834\n",
      "Nw_outDegreeCentrality                      0.019212  0.015770      0.017491\n",
      "Nw_degreeCentrality                         0.017760  0.014348      0.016054\n",
      "Stat_average_listedCount                    0.013539  0.013767      0.013653\n",
      "Nw_betweennessCentrality                    0.013333  0.009465      0.011399\n",
      "UsM_normalizedUserStatusesCount             0.012177  0.008634      0.010405\n",
      "Stat_average_normalizedUserStatusesCount    0.017498  0.002145      0.009822\n",
      "Nw_closenessCentrality                      0.003515  0.015400      0.009457\n",
      "UsM_normalizedUserFavouritesCount           0.009059  0.009473      0.009266\n",
      "Stat_average_favouritesCount                0.015795  0.002697      0.009246\n",
      "UsM_normalizedUserFavouritesCount-1         0.002200  0.015599      0.008900\n",
      "Stat_average_normalizedUserFollowersCount   0.007610  0.009881      0.008746\n",
      "Stat_average_statusesCount                  0.016058  0.001288      0.008673\n",
      "UsM_normalizedUserListedCount               0.010698  0.006360      0.008529\n",
      "Stat_max_kOut                               0.005147  0.011859      0.008503\n",
      "UsM_statusesCount                           0.008999  0.006558      0.007778\n",
      "UsM_statusesCount0                          0.012363  0.003132      0.007747\n",
      "Nw_averageNeighborDegree0                   0.005628  0.009408      0.007518\n",
      "Stat_average_normalizedUserFavouritesCount  0.011725  0.002682      0.007204\n",
      "UsM_normalizedUserStatusesCount-1           0.001804  0.011044      0.006424\n",
      "UsM_normalizedUserFriendsCount              0.008681  0.004028      0.006354\n",
      "UsM_favouritesCount                         0.005933  0.006562      0.006247\n",
      "Stat_average_followersCount                 0.004683  0.006820      0.005751\n",
      "UsM_followersCount                          0.003941  0.006965      0.005453\n",
      "UsM_statusesCount-1                         0.000042  0.010777      0.005410\n",
      "Nw_inDegreeCentrality                       0.006295  0.003705      0.005000\n",
      "Nw_eigenvectorCentrality                    0.005881  0.003411      0.004646\n",
      "UsM_favouritesCount-1                       0.000644  0.008341      0.004492\n",
      "UsM_normalizedUserFollowersCount            0.001406  0.005163      0.003285\n",
      "UsM_listedCount                             0.003406  0.002956      0.003181\n"
     ]
    }
   ],
   "source": [
    "rf_2 = train(df, X, y, RandomForestClassifier(n_estimators= 100,min_samples_split=2,\n",
    "                                  min_samples_leaf=1,random_state=10), 2)"
   ]
  },
  {
   "cell_type": "code",
   "execution_count": 18,
   "metadata": {},
   "outputs": [],
   "source": [
    "importances=rf_10.feature_importances_"
   ]
  },
  {
   "cell_type": "code",
   "execution_count": 17,
   "metadata": {},
   "outputs": [
    {
     "data": {
      "text/plain": [
       "array([0.11437357, 0.1255083 , 0.0985373 , 0.07220299, 0.0081229 ,\n",
       "       0.00850846, 0.01203892, 0.00558541, 0.0096856 , 0.00433541,\n",
       "       0.00625913, 0.00650834, 0.01107941, 0.0057833 , 0.01003228,\n",
       "       0.00530494, 0.00878706, 0.01013125, 0.00537493, 0.0149048 ,\n",
       "       0.00829611, 0.00511146, 0.00151205, 0.00659626, 0.00151777,\n",
       "       0.0016192 , 0.00156393, 0.00160628, 0.00146474, 0.0018072 ,\n",
       "       0.00161766, 0.00170088, 0.00153224, 0.0015575 , 0.00137469,\n",
       "       0.00152368, 0.00154734, 0.00801275, 0.05387167, 0.00627333,\n",
       "       0.00924356, 0.05388909, 0.00178274, 0.00781696, 0.00577942,\n",
       "       0.02387744, 0.00138614, 0.01449663, 0.00879068, 0.00220879,\n",
       "       0.00593977, 0.00578732, 0.00865982, 0.05753796, 0.00972171,\n",
       "       0.00162264, 0.05791569, 0.0065575 , 0.05501204, 0.00880309])"
      ]
     },
     "execution_count": 17,
     "metadata": {},
     "output_type": "execute_result"
    }
   ],
   "source": [
    "rf_2.feature_importances_"
   ]
  },
  {
   "cell_type": "code",
   "execution_count": 30,
   "metadata": {},
   "outputs": [
    {
     "data": {
      "image/png": "[encoded data removed]",
      "text/plain": [
       "<Figure size 432x288 with 1 Axes>"
      ]
     },
     "metadata": {},
     "output_type": "display_data"
    }
   ],
   "source": [
    "plt.figure()\n",
    "plt.title(\"Feature importances\")\n",
    "plt.scatter(range(0,60), importances,  color=\"r\")\n",
    "# plt.xticks(range(X.shape[1]), indices)\n",
    "# plt.xlim([-1, X.shape[1]])\n",
    "plt.show()"
   ]
  },
  {
   "cell_type": "code",
   "execution_count": 15,
   "metadata": {},
   "outputs": [
    {
     "name": "stdout",
     "output_type": "stream",
     "text": [
      "Start cross validation\n",
      "===Processing fold 0===\n",
      "[Up-sampling] data counts, with uninfected (0): 163003, infected (1): 163003\n"
     ]
    },
    {
     "ename": "KeyboardInterrupt",
     "evalue": "",
     "output_type": "error",
     "traceback": [
      "\u001b[0;31m---------------------------------------------------------------------------\u001b[0m",
      "\u001b[0;31mKeyboardInterrupt\u001b[0m                         Traceback (most recent call last)",
      "\u001b[0;32m<ipython-input-15-ebd9c6994874>\u001b[0m in \u001b[0;36m<module>\u001b[0;34m()\u001b[0m\n\u001b[1;32m      1\u001b[0m \u001b[0;31m# GBDT\u001b[0m\u001b[0;34m\u001b[0m\u001b[0;34m\u001b[0m\u001b[0m\n\u001b[1;32m      2\u001b[0m train(df, X, y, GradientBoostingClassifier(n_estimators=150, min_samples_split=30,\n\u001b[0;32m----> 3\u001b[0;31m                                   min_samples_leaf=2,max_depth=12,max_features='sqrt', subsample=0.8,random_state=10), 10)\n\u001b[0m",
      "\u001b[0;32m<ipython-input-8-36a97ed11b9c>\u001b[0m in \u001b[0;36mtrain\u001b[0;34m(df, X, y, model, n_folds)\u001b[0m\n\u001b[1;32m     49\u001b[0m         \u001b[0;31m# 5. Training\u001b[0m\u001b[0;34m\u001b[0m\u001b[0;34m\u001b[0m\u001b[0m\n\u001b[1;32m     50\u001b[0m         \u001b[0;31m# Fit logistic regression\u001b[0m\u001b[0;34m\u001b[0m\u001b[0;34m\u001b[0m\u001b[0m\n\u001b[0;32m---> 51\u001b[0;31m         \u001b[0mmodel\u001b[0m\u001b[0;34m.\u001b[0m\u001b[0mfit\u001b[0m\u001b[0;34m(\u001b[0m\u001b[0mtrain_fold_input\u001b[0m\u001b[0;34m,\u001b[0m \u001b[0mtrain_fold_output\u001b[0m\u001b[0;34m)\u001b[0m\u001b[0;34m\u001b[0m\u001b[0m\n\u001b[0m\u001b[1;32m     52\u001b[0m \u001b[0;34m\u001b[0m\u001b[0m\n\u001b[1;32m     53\u001b[0m         \u001b[0;31m# 6. Testing\u001b[0m\u001b[0;34m\u001b[0m\u001b[0;34m\u001b[0m\u001b[0m\n",
      "\u001b[0;32m~/miniconda3/lib/python3.6/site-packages/sklearn/ensemble/gradient_boosting.py\u001b[0m in \u001b[0;36mfit\u001b[0;34m(self, X, y, sample_weight, monitor)\u001b[0m\n\u001b[1;32m   1032\u001b[0m         \u001b[0;31m# fit the boosting stages\u001b[0m\u001b[0;34m\u001b[0m\u001b[0;34m\u001b[0m\u001b[0m\n\u001b[1;32m   1033\u001b[0m         n_stages = self._fit_stages(X, y, y_pred, sample_weight, random_state,\n\u001b[0;32m-> 1034\u001b[0;31m                                     begin_at_stage, monitor, X_idx_sorted)\n\u001b[0m\u001b[1;32m   1035\u001b[0m         \u001b[0;31m# change shape of arrays after fit (early-stopping or additional ests)\u001b[0m\u001b[0;34m\u001b[0m\u001b[0;34m\u001b[0m\u001b[0m\n\u001b[1;32m   1036\u001b[0m         \u001b[0;32mif\u001b[0m \u001b[0mn_stages\u001b[0m \u001b[0;34m!=\u001b[0m \u001b[0mself\u001b[0m\u001b[0;34m.\u001b[0m\u001b[0mestimators_\u001b[0m\u001b[0;34m.\u001b[0m\u001b[0mshape\u001b[0m\u001b[0;34m[\u001b[0m\u001b[0;36m0\u001b[0m\u001b[0;34m]\u001b[0m\u001b[0;34m:\u001b[0m\u001b[0;34m\u001b[0m\u001b[0m\n",
      "\u001b[0;32m~/miniconda3/lib/python3.6/site-packages/sklearn/ensemble/gradient_boosting.py\u001b[0m in \u001b[0;36m_fit_stages\u001b[0;34m(self, X, y, y_pred, sample_weight, random_state, begin_at_stage, monitor, X_idx_sorted)\u001b[0m\n\u001b[1;32m   1087\u001b[0m             y_pred = self._fit_stage(i, X, y, y_pred, sample_weight,\n\u001b[1;32m   1088\u001b[0m                                      \u001b[0msample_mask\u001b[0m\u001b[0;34m,\u001b[0m \u001b[0mrandom_state\u001b[0m\u001b[0;34m,\u001b[0m \u001b[0mX_idx_sorted\u001b[0m\u001b[0;34m,\u001b[0m\u001b[0;34m\u001b[0m\u001b[0m\n\u001b[0;32m-> 1089\u001b[0;31m                                      X_csc, X_csr)\n\u001b[0m\u001b[1;32m   1090\u001b[0m \u001b[0;34m\u001b[0m\u001b[0m\n\u001b[1;32m   1091\u001b[0m             \u001b[0;31m# track deviance (= loss)\u001b[0m\u001b[0;34m\u001b[0m\u001b[0;34m\u001b[0m\u001b[0m\n",
      "\u001b[0;32m~/miniconda3/lib/python3.6/site-packages/sklearn/ensemble/gradient_boosting.py\u001b[0m in \u001b[0;36m_fit_stage\u001b[0;34m(self, i, X, y, y_pred, sample_weight, sample_mask, random_state, X_idx_sorted, X_csc, X_csr)\u001b[0m\n\u001b[1;32m    786\u001b[0m             \u001b[0;32melse\u001b[0m\u001b[0;34m:\u001b[0m\u001b[0;34m\u001b[0m\u001b[0m\n\u001b[1;32m    787\u001b[0m                 tree.fit(X, residual, sample_weight=sample_weight,\n\u001b[0;32m--> 788\u001b[0;31m                          check_input=False, X_idx_sorted=X_idx_sorted)\n\u001b[0m\u001b[1;32m    789\u001b[0m \u001b[0;34m\u001b[0m\u001b[0m\n\u001b[1;32m    790\u001b[0m             \u001b[0;31m# update tree leaves\u001b[0m\u001b[0;34m\u001b[0m\u001b[0;34m\u001b[0m\u001b[0m\n",
      "\u001b[0;32m~/miniconda3/lib/python3.6/site-packages/sklearn/tree/tree.py\u001b[0m in \u001b[0;36mfit\u001b[0;34m(self, X, y, sample_weight, check_input, X_idx_sorted)\u001b[0m\n\u001b[1;32m   1122\u001b[0m             \u001b[0msample_weight\u001b[0m\u001b[0;34m=\u001b[0m\u001b[0msample_weight\u001b[0m\u001b[0;34m,\u001b[0m\u001b[0;34m\u001b[0m\u001b[0m\n\u001b[1;32m   1123\u001b[0m             \u001b[0mcheck_input\u001b[0m\u001b[0;34m=\u001b[0m\u001b[0mcheck_input\u001b[0m\u001b[0;34m,\u001b[0m\u001b[0;34m\u001b[0m\u001b[0m\n\u001b[0;32m-> 1124\u001b[0;31m             X_idx_sorted=X_idx_sorted)\n\u001b[0m\u001b[1;32m   1125\u001b[0m         \u001b[0;32mreturn\u001b[0m \u001b[0mself\u001b[0m\u001b[0;34m\u001b[0m\u001b[0m\n\u001b[1;32m   1126\u001b[0m \u001b[0;34m\u001b[0m\u001b[0m\n",
      "\u001b[0;32m~/miniconda3/lib/python3.6/site-packages/sklearn/tree/tree.py\u001b[0m in \u001b[0;36mfit\u001b[0;34m(self, X, y, sample_weight, check_input, X_idx_sorted)\u001b[0m\n\u001b[1;32m    360\u001b[0m                                            min_impurity_split)\n\u001b[1;32m    361\u001b[0m \u001b[0;34m\u001b[0m\u001b[0m\n\u001b[0;32m--> 362\u001b[0;31m         \u001b[0mbuilder\u001b[0m\u001b[0;34m.\u001b[0m\u001b[0mbuild\u001b[0m\u001b[0;34m(\u001b[0m\u001b[0mself\u001b[0m\u001b[0;34m.\u001b[0m\u001b[0mtree_\u001b[0m\u001b[0;34m,\u001b[0m \u001b[0mX\u001b[0m\u001b[0;34m,\u001b[0m \u001b[0my\u001b[0m\u001b[0;34m,\u001b[0m \u001b[0msample_weight\u001b[0m\u001b[0;34m,\u001b[0m \u001b[0mX_idx_sorted\u001b[0m\u001b[0;34m)\u001b[0m\u001b[0;34m\u001b[0m\u001b[0m\n\u001b[0m\u001b[1;32m    363\u001b[0m \u001b[0;34m\u001b[0m\u001b[0m\n\u001b[1;32m    364\u001b[0m         \u001b[0;32mif\u001b[0m \u001b[0mself\u001b[0m\u001b[0;34m.\u001b[0m\u001b[0mn_outputs_\u001b[0m \u001b[0;34m==\u001b[0m \u001b[0;36m1\u001b[0m\u001b[0;34m:\u001b[0m\u001b[0;34m\u001b[0m\u001b[0m\n",
      "\u001b[0;31mKeyboardInterrupt\u001b[0m: "
     ]
    }
   ],
   "source": [
    "# GBDT\n",
    "train(df, X, y, GradientBoostingClassifier(n_estimators=150, min_samples_split=30,\n",
    "                                  min_samples_leaf=2,max_depth=12,max_features='sqrt', subsample=0.8,random_state=10), 10)"
   ]
  },
  {
   "cell_type": "code",
   "execution_count": null,
   "metadata": {},
   "outputs": [],
   "source": []
  }
 ],
 "metadata": {
  "kernelspec": {
   "display_name": "Python 3",
   "language": "python",
   "name": "python3"
  },
  "language_info": {
   "codemirror_mode": {
    "name": "ipython",
    "version": 3
   },
   "file_extension": ".py",
   "mimetype": "text/x-python",
   "name": "python",
   "nbconvert_exporter": "python",
   "pygments_lexer": "ipython3",
   "version": "3.6.5"
  }
 },
 "nbformat": 4,
 "nbformat_minor": 2
}
