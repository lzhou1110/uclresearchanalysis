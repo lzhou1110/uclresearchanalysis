{
 "cells": [
  {
   "cell_type": "code",
   "execution_count": 1,
   "metadata": {},
   "outputs": [],
   "source": [
    "import time\n",
    "import tweepy\n",
    "from tweepy import OAuthHandler\n",
    "import json\n",
    "import datetime as dt\n",
    "import os\n",
    "import sys\n",
    "import pickle\n",
    "from tqdm import tqdm"
   ]
  },
  {
   "cell_type": "code",
   "execution_count": 2,
   "metadata": {},
   "outputs": [
    {
     "name": "stdout",
     "output_type": "stream",
     "text": [
      "{'data': {'dates': ['2018-03-13', '2018-03-14', '2018-03-15'],\n",
      "          'eventname': \"hawking's death\",\n",
      "          'phrases': ['stephen%20hawking%20death',\n",
      "                      'stephen%20hawking%20die',\n",
      "                      'stephen%20hawking%20passed%20away']},\n",
      " 'path': {'cwd': '/Users/lzhou/git/github/uclresearchanalysis/data/hawking',\n",
      "          'friends_dictionary': '/Users/lzhou/git/github/uclresearchanalysis/other/friends_dictionary.dat',\n",
      "          'pickle': {'network_dataframe': '/Users/lzhou/git/github/uclresearchanalysis/data/hawking/pickle/network.dat',\n",
      "                     'tweets_dataframe': '/Users/lzhou/git/github/uclresearchanalysis/data/hawking/pickle/tweets.dat',\n",
      "                     'users_dataframe': '/Users/lzhou/git/github/uclresearchanalysis/data/hawking/pickle/users.dat'},\n",
      "          'result': '/Users/lzhou/git/github/uclresearchanalysis/data/hawking/result',\n",
      "          'twitter': '/Users/lzhou/git/github/uclresearchanalysis/data/hawking/twitter'},\n",
      " 'timeframe': '1440'}\n",
      "'Loading users dataframe'\n",
      "'Loaded 112613 entries'\n"
     ]
    }
   ],
   "source": [
    "import config\n",
    "from config import load_users_dataframe\n",
    "users_dataframe = load_users_dataframe()"
   ]
  },
  {
   "cell_type": "code",
   "execution_count": 3,
   "metadata": {},
   "outputs": [
    {
     "data": {
      "text/html": [
       "<div>\n",
       "<style scoped>\n",
       "    .dataframe tbody tr th:only-of-type {\n",
       "        vertical-align: middle;\n",
       "    }\n",
       "\n",
       "    .dataframe tbody tr th {\n",
       "        vertical-align: top;\n",
       "    }\n",
       "\n",
       "    .dataframe thead th {\n",
       "        text-align: right;\n",
       "    }\n",
       "</style>\n",
       "<table border=\"1\" class=\"dataframe\">\n",
       "  <thead>\n",
       "    <tr style=\"text-align: right;\">\n",
       "      <th></th>\n",
       "      <th>user</th>\n",
       "      <th>user_id</th>\n",
       "      <th>time</th>\n",
       "      <th>followers_count</th>\n",
       "      <th>friends_count</th>\n",
       "      <th>source_candidates</th>\n",
       "    </tr>\n",
       "  </thead>\n",
       "  <tbody>\n",
       "    <tr>\n",
       "      <th>0</th>\n",
       "      <td>johnstempinNPR</td>\n",
       "      <td>836922157</td>\n",
       "      <td>0.00</td>\n",
       "      <td>2010</td>\n",
       "      <td>4305</td>\n",
       "      <td>{}</td>\n",
       "    </tr>\n",
       "    <tr>\n",
       "      <th>1</th>\n",
       "      <td>TheWebLender</td>\n",
       "      <td>405808530</td>\n",
       "      <td>1.58</td>\n",
       "      <td>625</td>\n",
       "      <td>263</td>\n",
       "      <td>{}</td>\n",
       "    </tr>\n",
       "    <tr>\n",
       "      <th>2</th>\n",
       "      <td>butterbob</td>\n",
       "      <td>39582174</td>\n",
       "      <td>1.78</td>\n",
       "      <td>4404</td>\n",
       "      <td>2072</td>\n",
       "      <td>{836922157}</td>\n",
       "    </tr>\n",
       "    <tr>\n",
       "      <th>3</th>\n",
       "      <td>_Refused</td>\n",
       "      <td>2868539474</td>\n",
       "      <td>2.97</td>\n",
       "      <td>404</td>\n",
       "      <td>210</td>\n",
       "      <td>{}</td>\n",
       "    </tr>\n",
       "    <tr>\n",
       "      <th>4</th>\n",
       "      <td>Rowaenthe</td>\n",
       "      <td>28820629</td>\n",
       "      <td>3.10</td>\n",
       "      <td>3046</td>\n",
       "      <td>2308</td>\n",
       "      <td>{239892125}</td>\n",
       "    </tr>\n",
       "  </tbody>\n",
       "</table>\n",
       "</div>"
      ],
      "text/plain": [
       "             user     user_id  time  followers_count  friends_count  \\\n",
       "0  johnstempinNPR   836922157  0.00             2010           4305   \n",
       "1    TheWebLender   405808530  1.58              625            263   \n",
       "2       butterbob    39582174  1.78             4404           2072   \n",
       "3        _Refused  2868539474  2.97              404            210   \n",
       "4       Rowaenthe    28820629  3.10             3046           2308   \n",
       "\n",
       "  source_candidates  \n",
       "0                {}  \n",
       "1                {}  \n",
       "2       {836922157}  \n",
       "3                {}  \n",
       "4       {239892125}  "
      ]
     },
     "execution_count": 3,
     "metadata": {},
     "output_type": "execute_result"
    }
   ],
   "source": [
    "print(users_dataframe.head())"
   ]
  },
  {
   "cell_type": "code",
   "execution_count": 4,
   "metadata": {},
   "outputs": [],
   "source": [
    "from config import load_friends_dictionary\n",
    "from config import save_friends_dictionary"
   ]
  },
  {
   "cell_type": "code",
   "execution_count": 5,
   "metadata": {},
   "outputs": [],
   "source": [
    "class TwitterApi(object):\n",
    "    def __init__(self, consumer_key, consumer_secret, access_token, access_secret): \n",
    "        self.consumer_key = consumer_key \n",
    "        self.consumer_secret = consumer_secret \n",
    "        self.access_token = access_token\n",
    "        self.access_secret = access_secret\n",
    "\n",
    "    def loadapi(self):\n",
    "        auth = OAuthHandler(self.consumer_key, self.consumer_secret)\n",
    "        auth.set_access_token(self.access_token, self.access_secret)\n",
    "        return tweepy.API(auth, wait_on_rate_limit=True, wait_on_rate_limit_notify=True, compression=True)\n",
    "\n",
    "twitter_api_list = []\n",
    "# Jimmy Canteen 0\n",
    "twitter_api_list.append(TwitterApi(\n",
    "    'ogd44qNt9NHukPsUsnKmn1Wm3', \n",
    "    'g0PMron4C0eOD7NYpSqekzUwPwRafUpYTOKgiAabA5fkpS2a4l', \n",
    "    '936587907007176704-2xAvOIe5u5FTkuAanmWLJRkwKlMPqnD',\n",
    "    'DTJQl1JjQdbVErGlTGBI7g7wyHeWt8o0eQZJIb4fewn3J'\n",
    ").loadapi())\n",
    "# BarberDdddavid 1\n",
    "twitter_api_list.append(TwitterApi(\n",
    "    'Imk26gt1YacAmZqsBvwXNNZp1', \n",
    "    'ZTVGMr0B6e8PLaFWFtQFbBSta4e0E3POjZO0Ps4uU7XX2jp08c', \n",
    "    '948501581372280832-2Ux6iejRB0Mr7KOyQ2psV5hgN8rCvAW',\n",
    "    'cwCusThG5QGtLoLusElVWdMKtZ8VHvJmngBGjqCkpO77S'\n",
    ").loadapi())\n",
    "# Hu13Steve 2\n",
    "twitter_api_list.append(TwitterApi(\n",
    "    'Lqz4r2UGJ3MALpX7TygEWkdvu', \n",
    "    '4irrPlKdKpqdo35PAlqx1g7oTLXL79KGh8ul0Ug3NP7NPnJ5fq', \n",
    "    '948494955756052481-HBHi8eC43VnafcgKj1hfQrkiQgdazld',\n",
    "    '1hfPh52QxAWtku4AqNnjUytGCWyt4AkNllR0RGdNag5wW'\n",
    ").loadapi())\n",
    "# james13_david 3\n",
    "twitter_api_list.append(TwitterApi(\n",
    "    'QweR1meYNPziTVMQfnPBw7u7L', \n",
    "    'w2imXsR0TKSqafgZP0LU1spudls7SnCcUqskUUubmvmstbah5S', \n",
    "    '940722476585312257-i94glXYrPQa4LYqhLz75qNfaDHXrFpU',\n",
    "    'xezy1i3SKqkiVVBHy25avg1pybkfuR1CIbUzRGj5mq6Mo'\n",
    ").loadapi())\n",
    "# hui's crawler 4\n",
    "twitter_api_list.append(TwitterApi(\n",
    "    'FImHy1gMljimQMQxG6432rATE', \n",
    "    '8oNc5WX3srEophN8oiGrnBeta1iX1QWPM9IDl3scyuzitHZkTp', \n",
    "    '1976839820-bH0EOOIuJQC5yqZRDv5iJo8Gpp3Uerz76OOug99',\n",
    "    'ntdfl0pjZZYVHsLTDK1wKiEsKHS5B9mAdvyCDhREQqDzG'\n",
    ").loadapi())\n",
    "# lzhoudevuk 5 \n",
    "twitter_api_list.append(TwitterApi(\n",
    "    'MP1ydHbs9wSPCvUO0HcJlBd1s', \n",
    "    'yeVQtGsq4pgYrX6tBqMtKcscrGULJE9SCPyP38vFDaAhUtSJiw', \n",
    "    '959980110588899329-A943y5m9XFhivFJXXw0N1uRSdesdYlY',\n",
    "    'hP63SwoueduNQSSe4pwlZNhegjJCXVn4qjeZPfv762KsJ'\n",
    ").loadapi())\n",
    "# lzhoudevcn 6 \n",
    "twitter_api_list.append(TwitterApi(\n",
    "    'cM2Ket4JdIrFCoFJfZR6dKEJW', \n",
    "    'VzewbPMeZcIu8aakQ0cnOmhPnJmHhazFDG9cCSgka01JqT463a', \n",
    "    '959978501125402624-iRPiJiSVy7TDihEf1HsV74Ow72iavWO',\n",
    "    'ZvInw0gQb8xRvMLwoG6PDy18JwM66vhhyFnskeisZBGRe'\n",
    ").loadapi())\n",
    "# lzhoudevau passed 7 \n",
    "twitter_api_list.append(TwitterApi(\n",
    "    'pbFZlAThsyleV4IWazYaG6WH0', \n",
    "    'w01obwo4ECZfl4aIbhEA8q5GnMGTKVXiWvsDq6D8eE4DiwTpps', \n",
    "    '959974918619385856-sGUbwHJQd8YrdoNkJGDTyvpafFjh7wi',\n",
    "    '676MhvwxiPZoUv6f8Upm2fVaZiPUa5jDvCwFHA05HowiE'\n",
    ").loadapi())\n",
    "# ucablz4 passed 8\n",
    "twitter_api_list.append(TwitterApi(\n",
    "    'CeIvDs3UbPO4Yj4XK6ZFHzVIU', \n",
    "    'j0eRROwvGFk1CEciSehtUOc2SCVmxzMhWbQd3sUDhztdICPtMW', \n",
    "    '930982504596672517-AE7R6i4xaNPUeXME2S4cyeTgSJNBVEv',\n",
    "    'JEmF4hPSTD65lFmYM1Zm3x4I6Xf7kUQ93NvlodJ2jPrQN'\n",
    ").loadapi())\n",
    "# liyi.zhou.17 passed 9\n",
    "twitter_api_list.append(TwitterApi(\n",
    "    'AdCVM7NUpICq9RcYnZiM68FLb', \n",
    "    '0hbBfyXK8CBCvl9S6Zu1CkWTlAo1c4rvfsAl8ot4VPehTLpHL4', \n",
    "    '930982019672178689-UpCYlSLDFDiwcr44weBZoDO4CY2npyE',\n",
    "    's3Z5H1cADAMYElfGhYCE27ZQSWNR4EP2n1FcJmcwG80ZB'\n",
    ").loadapi())\n",
    "# lzhou1110 10\n",
    "twitter_api_list.append(TwitterApi(\n",
    "    'yom0HoCImxDZobnZzDrJsESke',\n",
    "    'iPDqeGyq40FbovpFUoLdunLnFINEDB5MQuzFFbo0KBoBiM4mk0',\n",
    "    '910787059501150208-vvOcHytvhGncJTtuAF23tywLu5UTSbL',\n",
    "    'lL4vIlZlKMurhhgsZGM11hGh6LG6cUBtaHqbMiLYJTZhj'\n",
    ").loadapi())\n",
    "# tao 11\n",
    "twitter_api_list.append(TwitterApi(\n",
    "    'YZD91p9NpWydELrliHkx3FkV2',\n",
    "    'dchHYkpVxp7Uq1Mi5fA94GfCKWFUrQ1VRp0kQJsI2nXXTJjqUk',\n",
    "    '960929372206223360-TgkpvCQWqTdf9Po9DaOJCrOCGHiMGVV',\n",
    "    'pRCYaoy3cKWmzvIZ3rDExlxSBI1SVTVIGLRfvpzFxTaVp'\n",
    ").loadapi())\n",
    "# wu api 12\n",
    "twitter_api_list.append(TwitterApi(\n",
    "    '6hDKNKAEVflvc1QiKWRwEvqIU',\n",
    "    'LAOoZL1qKs4l9VTyWRKOibLj4tm14n6ZziMX9wd9Wo3NJ8ADyC',\n",
    "    '961193810951856129-nGfaxWcrgS4i0gReDmyg68xOZoWiBPU',\n",
    "    'xDwZpIXjrvcUZpqxz39e77XM924Ek9tBQ69aC9JtDPMEC'\n",
    ").loadapi())\n",
    "# peter.liyi.z api 13\n",
    "twitter_api_list.append(TwitterApi(\n",
    "    'AFRdbq1jpYv5uHzc2XXilJBMY',\n",
    "    'UvSj6ZnbUG0t3nQASgd7kSHeiCoL14Iadt4f8gI4Y4QhsanovG',\n",
    "    '2166615014-QcdbmCt252E02I2wAMVgXAJMXtE5tgyQpABuAkr',\n",
    "    '5nYYyhO1WenLXLuuQ6Kthlg8xOg7wlcX7zEP1aLg6abHT'\n",
    ").loadapi())\n",
    "# miao api 14\n",
    "twitter_api_list.append(TwitterApi(\n",
    "    'FlmshcUW970JhOuWCrffznTzM',\n",
    "    '33oh92E47FaeQm6GNWvC5axvmN3nRm6IKhKwN7UX7Xys7pfCtA',\n",
    "    '320714154-woEAipLwLvVwkJo2o9i5IYvoSaFGqzV6pN8nTboL',\n",
    "    'M0UVpBAPdGI3yzfXqXd7vhcx4DRttCLV9LsQTjRR7Fpei'\n",
    ").loadapi())\n",
    "# ucl lzhou adlrl account 15\n",
    "twitter_api_list.append(TwitterApi(\n",
    "    '45mvtiqyyq5B1cXi6kPJHq2TO',\n",
    "    'yrCn2qyWiyYNZXgGX0RhHCAUFV0pjg30twa9txtwltX2CYJvRy',\n",
    "    '961358756595535873-obN8fa0WJRG7y5ptgtEbO0btCXWagwx',\n",
    "    'hCKeIKCThs1xmCUsiaMms0jkHXNshVHSVTu1hbUcTa1kz'\n",
    ").loadapi())\n",
    "# ucl lzhou adlrl account ucablz4 16\n",
    "twitter_api_list.append(TwitterApi(\n",
    "    '75xtkzO360GjmMgLhaSZ1zH0u',\n",
    "    '2QM0T8J3Jwy4aJEuaTJk9GT6PxkcFVpGqgwoqWvmkvgvq7mqdr',\n",
    "    '961359707809157122-EUhutRfRHEBPSeE791pVGzYd2oMMq87',\n",
    "    'WrgrnvyxVNBFNtkDwD4e1sGw2rQNhvbiOU9YaGkgcK1jA'\n",
    ").loadapi())"
   ]
  },
  {
   "cell_type": "code",
   "execution_count": 6,
   "metadata": {},
   "outputs": [],
   "source": [
    "def tweet_find_friends(api, user_id, logger):\n",
    "    follower_ids = []\n",
    "    try:\n",
    "        c = tweepy.Cursor(api.friends_ids, id = user_id)\n",
    "        for page in c.pages():\n",
    "            follower_ids.extend(page)\n",
    "    except tweepy.TweepError as e:\n",
    "        print('tweepy.TweepError', e, ' from: ', logger)\n",
    "    except:\n",
    "        e = sys.exc_info()[0]\n",
    "        print(\"Error: %s\" % e)  \n",
    "    return follower_ids\n",
    "        \n",
    "def crawl_twitter_friend(api, friends_dictionary, user_id, logger):\n",
    "    friends_dictionary[user_id] = tweet_find_friends(api, user_id, logger)\n",
    "    \n",
    "# def find_friends(api, friends_dictionary, user_id, logger):\n",
    "#     if user_id not in friends_dictionary.keys():\n",
    "#         friends_dictionary[user_id] = tweet_find_friends(api, user_id, logger)\n",
    "#         save_friends_dictionary(friends_dictionary)\n",
    "#         load_friends_dictionary()\n",
    "#         return friends_dictionary[user_id], 1\n",
    "#     return friends_dictionary[user_id], 0\n",
    "\n",
    "# def find_first_intersection_element(listA, listB):\n",
    "#     for element in listA:\n",
    "#         if element in listB:\n",
    "#             return element\n",
    "#     return ''"
   ]
  },
  {
   "cell_type": "code",
   "execution_count": 7,
   "metadata": {},
   "outputs": [
    {
     "name": "stdout",
     "output_type": "stream",
     "text": [
      "'Loaded 39342 friends dictionary'\n",
      "Number of users we still need to crawl: 104297\n"
     ]
    }
   ],
   "source": [
    "friends_dictionary = load_friends_dictionary()\n",
    "all_users = set(users_dataframe.user_id)\n",
    "found_users = set(friends_dictionary.keys())\n",
    "need_to_crawl = all_users - found_users\n",
    "print('Number of users we still need to crawl: {}'.format(len(need_to_crawl)))"
   ]
  },
  {
   "cell_type": "code",
   "execution_count": null,
   "metadata": {},
   "outputs": [
    {
     "name": "stderr",
     "output_type": "stream",
     "text": [
      "  0%|          | 17.0/102k [00:09<15:47:19, 1.83Twitter friendship/s]"
     ]
    },
    {
     "name": "stdout",
     "output_type": "stream",
     "text": [
      "'Loaded 39359 friends dictionary'\n",
      "tweepy.TweepError Not authorized.  from:  6\n"
     ]
    },
    {
     "name": "stderr",
     "output_type": "stream",
     "text": [
      "  0%|          | 34.0/102k [00:34<23:42:38, 1.22Twitter friendship/s]"
     ]
    },
    {
     "name": "stdout",
     "output_type": "stream",
     "text": [
      "tweepy.TweepError Not authorized.  from:  16\n",
      "'Loaded 39376 friends dictionary'\n"
     ]
    },
    {
     "name": "stderr",
     "output_type": "stream",
     "text": [
      "  0%|          | 51.0/102k [01:05<32:40:29, 1.13s/Twitter friendship]"
     ]
    },
    {
     "name": "stdout",
     "output_type": "stream",
     "text": [
      "'Loaded 39393 friends dictionary'\n",
      "tweepy.TweepError Not authorized.  from:  1\n",
      "tweepy.TweepError [{'code': 34, 'message': 'Sorry, that page does not exist.'}]  from:  15\n"
     ]
    },
    {
     "name": "stderr",
     "output_type": "stream",
     "text": [
      "  0%|          | 68.0/102k [01:41<41:08:26, 1.42s/Twitter friendship]"
     ]
    },
    {
     "name": "stdout",
     "output_type": "stream",
     "text": [
      "'Loaded 39410 friends dictionary'\n",
      "tweepy.TweepError Not authorized.  from:  12\n"
     ]
    },
    {
     "name": "stderr",
     "output_type": "stream",
     "text": [
      "  0%|          | 85.0/102k [02:37<57:41:44, 1.99s/Twitter friendship]"
     ]
    },
    {
     "name": "stdout",
     "output_type": "stream",
     "text": [
      "'Loaded 39427 friends dictionary'\n",
      "tweepy.TweepError Not authorized.  from:  0\n"
     ]
    },
    {
     "name": "stderr",
     "output_type": "stream",
     "text": [
      "  0%|          | 102/102k [03:11<57:49:02, 2.00s/Twitter friendship] "
     ]
    },
    {
     "name": "stdout",
     "output_type": "stream",
     "text": [
      "'Loaded 39444 friends dictionary'\n"
     ]
    },
    {
     "name": "stderr",
     "output_type": "stream",
     "text": [
      "  0%|          | 119/102k [04:14<72:33:13, 2.51s/Twitter friendship]"
     ]
    },
    {
     "name": "stdout",
     "output_type": "stream",
     "text": [
      "'Loaded 39461 friends dictionary'\n",
      "tweepy.TweepError [{'code': 34, 'message': 'Sorry, that page does not exist.'}]  from:  8\n"
     ]
    },
    {
     "name": "stderr",
     "output_type": "stream",
     "text": [
      "  0%|          | 136/102k [04:40<64:04:43, 2.21s/Twitter friendship]"
     ]
    },
    {
     "name": "stdout",
     "output_type": "stream",
     "text": [
      "'Loaded 39478 friends dictionary'\n",
      "tweepy.TweepError [{'code': 34, 'message': 'Sorry, that page does not exist.'}]  from:  1\n"
     ]
    },
    {
     "name": "stderr",
     "output_type": "stream",
     "text": [
      "  0%|          | 153/102k [05:04<56:58:10, 1.97s/Twitter friendship]"
     ]
    },
    {
     "name": "stdout",
     "output_type": "stream",
     "text": [
      "'Loaded 39495 friends dictionary'\n"
     ]
    },
    {
     "name": "stderr",
     "output_type": "stream",
     "text": [
      "  0%|          | 170/102k [05:29<52:29:14, 1.81s/Twitter friendship]"
     ]
    },
    {
     "name": "stdout",
     "output_type": "stream",
     "text": [
      "'Loaded 39512 friends dictionary'\n"
     ]
    },
    {
     "name": "stderr",
     "output_type": "stream",
     "text": [
      "  0%|          | 187/102k [06:00<52:31:42, 1.82s/Twitter friendship]"
     ]
    },
    {
     "name": "stdout",
     "output_type": "stream",
     "text": [
      "'Loaded 39529 friends dictionary'\n",
      "tweepy.TweepError [{'code': 34, 'message': 'Sorry, that page does not exist.'}]  from:  11\n"
     ]
    },
    {
     "name": "stderr",
     "output_type": "stream",
     "text": [
      "  0%|          | 204/102k [06:33<53:50:14, 1.86s/Twitter friendship]"
     ]
    },
    {
     "name": "stdout",
     "output_type": "stream",
     "text": [
      "'Loaded 39546 friends dictionary'\n"
     ]
    },
    {
     "name": "stderr",
     "output_type": "stream",
     "text": [
      "Rate limit reached. Sleeping for: 395\n",
      "  0%|          | 221/102k [13:47<259:05:07, 8.96s/Twitter friendship]"
     ]
    },
    {
     "name": "stdout",
     "output_type": "stream",
     "text": [
      "'Loaded 39563 friends dictionary'\n"
     ]
    },
    {
     "name": "stderr",
     "output_type": "stream",
     "text": [
      "  0%|          | 238/102k [14:41<208:40:21, 7.22s/Twitter friendship]"
     ]
    },
    {
     "name": "stdout",
     "output_type": "stream",
     "text": [
      "'Loaded 39580 friends dictionary'\n",
      "tweepy.TweepError Not authorized.  from:  13\n"
     ]
    },
    {
     "name": "stderr",
     "output_type": "stream",
     "text": [
      "  0%|          | 255/102k [15:07<159:30:04, 5.52s/Twitter friendship]"
     ]
    },
    {
     "name": "stdout",
     "output_type": "stream",
     "text": [
      "'Loaded 39597 friends dictionary'\n"
     ]
    },
    {
     "name": "stderr",
     "output_type": "stream",
     "text": [
      "  0%|          | 272/102k [15:33<124:36:44, 4.31s/Twitter friendship]"
     ]
    },
    {
     "name": "stdout",
     "output_type": "stream",
     "text": [
      "'Loaded 39614 friends dictionary'\n"
     ]
    },
    {
     "name": "stderr",
     "output_type": "stream",
     "text": [
      "  0%|          | 289/102k [15:56<99:09:10, 3.43s/Twitter friendship] "
     ]
    },
    {
     "name": "stdout",
     "output_type": "stream",
     "text": [
      "'Loaded 39631 friends dictionary'\n"
     ]
    },
    {
     "name": "stderr",
     "output_type": "stream",
     "text": [
      "  0%|          | 306/102k [16:19<81:09:48, 2.81s/Twitter friendship]"
     ]
    },
    {
     "name": "stdout",
     "output_type": "stream",
     "text": [
      "tweepy.TweepError Not authorized.  from:  16\n",
      "'Loaded 39648 friends dictionary'\n"
     ]
    },
    {
     "name": "stderr",
     "output_type": "stream",
     "text": [
      "  0%|          | 323/102k [16:42<68:11:56, 2.36s/Twitter friendship]"
     ]
    },
    {
     "name": "stdout",
     "output_type": "stream",
     "text": [
      "'Loaded 39665 friends dictionary'\n"
     ]
    },
    {
     "name": "stderr",
     "output_type": "stream",
     "text": [
      "  0%|          | 340/102k [17:07<60:40:51, 2.10s/Twitter friendship]"
     ]
    },
    {
     "name": "stdout",
     "output_type": "stream",
     "text": [
      "'Loaded 39682 friends dictionary'\n",
      "tweepy.TweepError Not authorized.  from:  2\n"
     ]
    },
    {
     "name": "stderr",
     "output_type": "stream",
     "text": [
      "  0%|          | 357/102k [17:48<63:34:34, 2.20s/Twitter friendship]"
     ]
    },
    {
     "name": "stdout",
     "output_type": "stream",
     "text": [
      "'Loaded 39699 friends dictionary'\n",
      "tweepy.TweepError Not authorized.  from:  7\n"
     ]
    },
    {
     "name": "stderr",
     "output_type": "stream",
     "text": [
      "  0%|          | 374/102k [18:10<55:31:01, 1.92s/Twitter friendship]"
     ]
    },
    {
     "name": "stdout",
     "output_type": "stream",
     "text": [
      "'Loaded 39716 friends dictionary'\n",
      "tweepy.TweepError Not authorized.  from:  10\n"
     ]
    },
    {
     "name": "stderr",
     "output_type": "stream",
     "text": [
      "  0%|          | 391/102k [18:54<61:30:23, 2.13s/Twitter friendship]"
     ]
    },
    {
     "name": "stdout",
     "output_type": "stream",
     "text": [
      "'Loaded 39733 friends dictionary'\n",
      "tweepy.TweepError [{'code': 34, 'message': 'Sorry, that page does not exist.'}]  from:  7\n",
      "tweepy.TweepError Not authorized.  from:  15\n"
     ]
    },
    {
     "name": "stderr",
     "output_type": "stream",
     "text": [
      "  0%|          | 408/102k [19:17<54:37:40, 1.89s/Twitter friendship]"
     ]
    },
    {
     "name": "stdout",
     "output_type": "stream",
     "text": [
      "'Loaded 39750 friends dictionary'\n"
     ]
    },
    {
     "name": "stderr",
     "output_type": "stream",
     "text": [
      "  0%|          | 425/102k [19:40<49:51:56, 1.73s/Twitter friendship]"
     ]
    },
    {
     "name": "stdout",
     "output_type": "stream",
     "text": [
      "'Loaded 39767 friends dictionary'\n"
     ]
    },
    {
     "name": "stderr",
     "output_type": "stream",
     "text": [
      "  0%|          | 442/102k [20:04<47:11:59, 1.64s/Twitter friendship]"
     ]
    },
    {
     "name": "stdout",
     "output_type": "stream",
     "text": [
      "'Loaded 39784 friends dictionary'\n"
     ]
    },
    {
     "name": "stderr",
     "output_type": "stream",
     "text": [
      "Rate limit reached. Sleeping for: 554\n"
     ]
    },
    {
     "name": "stdout",
     "output_type": "stream",
     "text": [
      "tweepy.TweepError [{'code': 34, 'message': 'Sorry, that page does not exist.'}]  from:  9\n"
     ]
    },
    {
     "name": "stderr",
     "output_type": "stream",
     "text": [
      "  0%|          | 459/102k [29:49<330:51:02, 11.5s/Twitter friendship]"
     ]
    },
    {
     "name": "stdout",
     "output_type": "stream",
     "text": [
      "'Loaded 39801 friends dictionary'\n",
      "tweepy.TweepError Not authorized.  from:  0\n",
      "tweepy.TweepError [{'code': 34, 'message': 'Sorry, that page does not exist.'}]  from:  15\n"
     ]
    },
    {
     "name": "stderr",
     "output_type": "stream",
     "text": [
      "  0%|          | 476/102k [30:28<251:26:12, 8.72s/Twitter friendship]"
     ]
    },
    {
     "name": "stdout",
     "output_type": "stream",
     "text": [
      "'Loaded 39818 friends dictionary'\n"
     ]
    },
    {
     "name": "stderr",
     "output_type": "stream",
     "text": [
      "  0%|          | 493/102k [30:53<188:26:34, 6.54s/Twitter friendship]"
     ]
    },
    {
     "name": "stdout",
     "output_type": "stream",
     "text": [
      "'Loaded 39835 friends dictionary'\n"
     ]
    },
    {
     "name": "stderr",
     "output_type": "stream",
     "text": [
      "  0%|          | 510/102k [31:44<157:45:40, 5.47s/Twitter friendship]"
     ]
    },
    {
     "name": "stdout",
     "output_type": "stream",
     "text": [
      "'Loaded 39852 friends dictionary'\n",
      "tweepy.TweepError [{'code': 34, 'message': 'Sorry, that page does not exist.'}]  from:  9\n"
     ]
    },
    {
     "name": "stderr",
     "output_type": "stream",
     "text": [
      "  1%|          | 527/102k [32:10<123:51:22, 4.30s/Twitter friendship]"
     ]
    },
    {
     "name": "stdout",
     "output_type": "stream",
     "text": [
      "'Loaded 39869 friends dictionary'\n",
      "tweepy.TweepError Not authorized.  from:  15\n"
     ]
    },
    {
     "name": "stderr",
     "output_type": "stream",
     "text": [
      "  1%|          | 544/102k [33:07<115:50:07, 4.02s/Twitter friendship]"
     ]
    },
    {
     "name": "stdout",
     "output_type": "stream",
     "text": [
      "'Loaded 39886 friends dictionary'\n"
     ]
    },
    {
     "name": "stderr",
     "output_type": "stream",
     "text": [
      "  1%|          | 561/102k [33:37<96:05:29, 3.33s/Twitter friendship] "
     ]
    },
    {
     "name": "stdout",
     "output_type": "stream",
     "text": [
      "'Loaded 39903 friends dictionary'\n",
      "tweepy.TweepError Not authorized.  from:  13\n",
      "tweepy.TweepError Not authorized.  from:  14\n"
     ]
    },
    {
     "name": "stderr",
     "output_type": "stream",
     "text": [
      "  1%|          | 578/102k [34:04<81:12:59, 2.82s/Twitter friendship]"
     ]
    },
    {
     "name": "stdout",
     "output_type": "stream",
     "text": [
      "'Loaded 39920 friends dictionary'\n",
      "tweepy.TweepError Not authorized.  from:  3\n"
     ]
    },
    {
     "name": "stderr",
     "output_type": "stream",
     "text": [
      "  1%|          | 595/102k [34:40<74:52:50, 2.60s/Twitter friendship]"
     ]
    },
    {
     "name": "stdout",
     "output_type": "stream",
     "text": [
      "'Loaded 39937 friends dictionary'\n"
     ]
    },
    {
     "name": "stderr",
     "output_type": "stream",
     "text": [
      "  1%|          | 612/102k [35:07<66:19:54, 2.30s/Twitter friendship]"
     ]
    },
    {
     "name": "stdout",
     "output_type": "stream",
     "text": [
      "tweepy.TweepError Not authorized.  from:  16\n",
      "'Loaded 39954 friends dictionary'\n"
     ]
    },
    {
     "name": "stderr",
     "output_type": "stream",
     "text": [
      "  1%|          | 629/102k [35:49<67:36:50, 2.35s/Twitter friendship]"
     ]
    },
    {
     "name": "stdout",
     "output_type": "stream",
     "text": [
      "'Loaded 39971 friends dictionary'\n"
     ]
    },
    {
     "name": "stderr",
     "output_type": "stream",
     "text": [
      "  1%|          | 646/102k [36:15<60:36:10, 2.10s/Twitter friendship]"
     ]
    },
    {
     "name": "stdout",
     "output_type": "stream",
     "text": [
      "'Loaded 39988 friends dictionary'\n"
     ]
    },
    {
     "name": "stderr",
     "output_type": "stream",
     "text": [
      "  1%|          | 663/102k [37:06<68:18:37, 2.37s/Twitter friendship]"
     ]
    },
    {
     "name": "stdout",
     "output_type": "stream",
     "text": [
      "'Loaded 40005 friends dictionary'\n"
     ]
    },
    {
     "name": "stderr",
     "output_type": "stream",
     "text": [
      "  1%|          | 680/102k [37:30<59:52:14, 2.08s/Twitter friendship]"
     ]
    },
    {
     "name": "stdout",
     "output_type": "stream",
     "text": [
      "'Loaded 40022 friends dictionary'\n"
     ]
    },
    {
     "name": "stderr",
     "output_type": "stream",
     "text": [
      "Rate limit reached. Sleeping for: 390\n",
      "  1%|          | 697/102k [44:52<266:30:16, 9.26s/Twitter friendship]"
     ]
    },
    {
     "name": "stdout",
     "output_type": "stream",
     "text": [
      "'Loaded 40039 friends dictionary'\n"
     ]
    },
    {
     "name": "stderr",
     "output_type": "stream",
     "text": [
      "  1%|          | 714/102k [45:22<201:44:50, 7.01s/Twitter friendship]"
     ]
    },
    {
     "name": "stdout",
     "output_type": "stream",
     "text": [
      "'Loaded 40056 friends dictionary'\n"
     ]
    },
    {
     "name": "stderr",
     "output_type": "stream",
     "text": [
      "  1%|          | 731/102k [46:00<160:12:50, 5.57s/Twitter friendship]"
     ]
    },
    {
     "name": "stdout",
     "output_type": "stream",
     "text": [
      "'Loaded 40073 friends dictionary'\n",
      "tweepy.TweepError Not authorized.  from:  5\n",
      "tweepy.TweepError [{'code': 34, 'message': 'Sorry, that page does not exist.'}]  from:  6\n",
      "tweepy.TweepError Not authorized.  from:  7\n",
      "tweepy.TweepError Not authorized.  from:  8\n",
      "tweepy.TweepError Not authorized.  from:  9\n"
     ]
    },
    {
     "name": "stderr",
     "output_type": "stream",
     "text": [
      "  1%|          | 748/102k [46:35<130:00:38, 4.52s/Twitter friendship]"
     ]
    },
    {
     "name": "stdout",
     "output_type": "stream",
     "text": [
      "'Loaded 40090 friends dictionary'\n",
      "tweepy.TweepError Not authorized.  from:  0\n",
      "tweepy.TweepError Not authorized.  from:  8\n"
     ]
    },
    {
     "name": "stderr",
     "output_type": "stream",
     "text": [
      "  1%|          | 765/102k [47:02<104:47:44, 3.64s/Twitter friendship]"
     ]
    },
    {
     "name": "stdout",
     "output_type": "stream",
     "text": [
      "'Loaded 40107 friends dictionary'\n"
     ]
    },
    {
     "name": "stderr",
     "output_type": "stream",
     "text": [
      "  1%|          | 782/102k [47:54<99:45:10, 3.47s/Twitter friendship] "
     ]
    },
    {
     "name": "stdout",
     "output_type": "stream",
     "text": [
      "'Loaded 40124 friends dictionary'\n"
     ]
    },
    {
     "name": "stderr",
     "output_type": "stream",
     "text": [
      "  1%|          | 799/102k [48:23<84:17:57, 2.93s/Twitter friendship]"
     ]
    },
    {
     "name": "stdout",
     "output_type": "stream",
     "text": [
      "'Loaded 40141 friends dictionary'\n",
      "tweepy.TweepError Not authorized.  from:  1\n"
     ]
    },
    {
     "name": "stderr",
     "output_type": "stream",
     "text": [
      "  1%|          | 816/102k [49:07<81:16:41, 2.83s/Twitter friendship]"
     ]
    },
    {
     "name": "stdout",
     "output_type": "stream",
     "text": [
      "'Loaded 40158 friends dictionary'\n",
      "tweepy.TweepError Not authorized.  from:  5\n"
     ]
    },
    {
     "name": "stderr",
     "output_type": "stream",
     "text": [
      "  1%|          | 833/102k [49:33<70:07:22, 2.44s/Twitter friendship]"
     ]
    },
    {
     "name": "stdout",
     "output_type": "stream",
     "text": [
      "'Loaded 40175 friends dictionary'\n"
     ]
    },
    {
     "name": "stderr",
     "output_type": "stream",
     "text": [
      "  1%|          | 850/102k [50:19<72:30:35, 2.52s/Twitter friendship]"
     ]
    },
    {
     "name": "stdout",
     "output_type": "stream",
     "text": [
      "'Loaded 40192 friends dictionary'\n"
     ]
    },
    {
     "name": "stderr",
     "output_type": "stream",
     "text": [
      "  1%|          | 867/102k [50:46<64:44:28, 2.25s/Twitter friendship]"
     ]
    },
    {
     "name": "stdout",
     "output_type": "stream",
     "text": [
      "'Loaded 40209 friends dictionary'\n"
     ]
    },
    {
     "name": "stderr",
     "output_type": "stream",
     "text": [
      "  1%|          | 884/102k [51:09<56:50:49, 1.98s/Twitter friendship]"
     ]
    },
    {
     "name": "stdout",
     "output_type": "stream",
     "text": [
      "'Loaded 40226 friends dictionary'\n"
     ]
    },
    {
     "name": "stderr",
     "output_type": "stream",
     "text": [
      "Rate limit reached. Sleeping for: 500\n",
      "  1%|          | 901/102k [59:58<307:45:04, 10.7s/Twitter friendship]"
     ]
    },
    {
     "name": "stdout",
     "output_type": "stream",
     "text": [
      "'Loaded 40243 friends dictionary'\n",
      "tweepy.TweepError Not authorized.  from:  6\n"
     ]
    },
    {
     "name": "stderr",
     "output_type": "stream",
     "text": [
      "  1%|          | 918/102k [1:00:29<231:07:25, 8.05s/Twitter friendship]"
     ]
    },
    {
     "name": "stdout",
     "output_type": "stream",
     "text": [
      "'Loaded 40260 friends dictionary'\n"
     ]
    },
    {
     "name": "stderr",
     "output_type": "stream",
     "text": [
      "  1%|          | 935/102k [1:01:19<187:08:17, 6.52s/Twitter friendship]"
     ]
    },
    {
     "name": "stdout",
     "output_type": "stream",
     "text": [
      "'Loaded 40277 friends dictionary'\n"
     ]
    },
    {
     "name": "stderr",
     "output_type": "stream",
     "text": [
      "  1%|          | 952/102k [1:01:46<144:24:58, 5.03s/Twitter friendship]"
     ]
    },
    {
     "name": "stdout",
     "output_type": "stream",
     "text": [
      "'Loaded 40294 friends dictionary'\n",
      "tweepy.TweepError Not authorized.  from:  15\n"
     ]
    },
    {
     "name": "stderr",
     "output_type": "stream",
     "text": [
      "  1%|          | 969/102k [1:02:47<132:26:16, 4.61s/Twitter friendship]"
     ]
    },
    {
     "name": "stdout",
     "output_type": "stream",
     "text": [
      "'Loaded 40311 friends dictionary'\n"
     ]
    },
    {
     "name": "stderr",
     "output_type": "stream",
     "text": [
      "  1%|          | 986/102k [1:03:25<111:42:38, 3.89s/Twitter friendship]"
     ]
    },
    {
     "name": "stdout",
     "output_type": "stream",
     "text": [
      "'Loaded 40328 friends dictionary'\n",
      "tweepy.TweepError Not authorized.  from:  1\n"
     ]
    },
    {
     "name": "stderr",
     "output_type": "stream",
     "text": [
      "  1%|          | 0.98k/102k [1:04:26<108:57:33, 3.80s/Twitter friendship]"
     ]
    },
    {
     "name": "stdout",
     "output_type": "stream",
     "text": [
      "'Loaded 40345 friends dictionary'\n",
      "tweepy.TweepError [{'code': 34, 'message': 'Sorry, that page does not exist.'}]  from:  1\n"
     ]
    },
    {
     "name": "stderr",
     "output_type": "stream",
     "text": [
      "  1%|          | 1.00k/102k [1:04:54<90:22:52, 3.15s/Twitter friendship] "
     ]
    },
    {
     "name": "stdout",
     "output_type": "stream",
     "text": [
      "'Loaded 40362 friends dictionary'\n"
     ]
    },
    {
     "name": "stderr",
     "output_type": "stream",
     "text": [
      "  1%|          | 1.01k/102k [1:05:23<78:19:56, 2.73s/Twitter friendship]"
     ]
    },
    {
     "name": "stdout",
     "output_type": "stream",
     "text": [
      "'Loaded 40379 friends dictionary'\n",
      "tweepy.TweepError [{'code': 34, 'message': 'Sorry, that page does not exist.'}]  from:  5\n"
     ]
    },
    {
     "name": "stderr",
     "output_type": "stream",
     "text": [
      "  1%|          | 1.03k/102k [1:05:52<69:03:38, 2.41s/Twitter friendship]"
     ]
    },
    {
     "name": "stdout",
     "output_type": "stream",
     "text": [
      "'Loaded 40396 friends dictionary'\n",
      "tweepy.TweepError Not authorized.  from:  15\n"
     ]
    },
    {
     "name": "stderr",
     "output_type": "stream",
     "text": [
      "  1%|          | 1.05k/102k [1:06:18<61:37:45, 2.15s/Twitter friendship]"
     ]
    },
    {
     "name": "stdout",
     "output_type": "stream",
     "text": [
      "'Loaded 40413 friends dictionary'\n",
      "tweepy.TweepError Not authorized.  from:  5\n"
     ]
    },
    {
     "name": "stderr",
     "output_type": "stream",
     "text": [
      "  1%|          | 1.06k/102k [1:07:02<65:34:11, 2.29s/Twitter friendship]"
     ]
    },
    {
     "name": "stdout",
     "output_type": "stream",
     "text": [
      "'Loaded 40430 friends dictionary'\n",
      "tweepy.TweepError Not authorized.  from:  13\n"
     ]
    },
    {
     "name": "stderr",
     "output_type": "stream",
     "text": [
      "  1%|          | 1.08k/102k [1:07:28<59:03:52, 2.06s/Twitter friendship]"
     ]
    },
    {
     "name": "stdout",
     "output_type": "stream",
     "text": [
      "'Loaded 40447 friends dictionary'\n"
     ]
    },
    {
     "name": "stderr",
     "output_type": "stream",
     "text": [
      "  1%|          | 1.10k/102k [1:08:19<67:10:16, 2.34s/Twitter friendship]"
     ]
    },
    {
     "name": "stdout",
     "output_type": "stream",
     "text": [
      "'Loaded 40464 friends dictionary'\n",
      "tweepy.TweepError [{'code': 34, 'message': 'Sorry, that page does not exist.'}]  from:  9\n"
     ]
    },
    {
     "name": "stderr",
     "output_type": "stream",
     "text": [
      "  1%|          | 1.11k/102k [1:08:42<58:28:42, 2.04s/Twitter friendship]"
     ]
    },
    {
     "name": "stdout",
     "output_type": "stream",
     "text": [
      "'Loaded 40481 friends dictionary'\n",
      "tweepy.TweepError Not authorized.  from:  13\n"
     ]
    },
    {
     "name": "stderr",
     "output_type": "stream",
     "text": [
      "Rate limit reached. Sleeping for: 326\n",
      "  1%|          | 1.13k/102k [1:15:03<233:32:49, 8.15s/Twitter friendship]"
     ]
    },
    {
     "name": "stdout",
     "output_type": "stream",
     "text": [
      "'Loaded 40498 friends dictionary'\n"
     ]
    },
    {
     "name": "stderr",
     "output_type": "stream",
     "text": [
      "  1%|          | 1.15k/102k [1:15:35<179:39:54, 6.27s/Twitter friendship]"
     ]
    },
    {
     "name": "stdout",
     "output_type": "stream",
     "text": [
      "'Loaded 40515 friends dictionary'\n"
     ]
    },
    {
     "name": "stderr",
     "output_type": "stream",
     "text": [
      "Rate limit reached. Sleeping for: 17\n"
     ]
    },
    {
     "name": "stdout",
     "output_type": "stream",
     "text": [
      "tweepy.TweepError Not authorized.  from:  13\n"
     ]
    },
    {
     "name": "stderr",
     "output_type": "stream",
     "text": [
      "  1%|          | 1.16k/102k [1:16:24<150:24:34, 5.25s/Twitter friendship]"
     ]
    },
    {
     "name": "stdout",
     "output_type": "stream",
     "text": [
      "'Loaded 40532 friends dictionary'\n"
     ]
    },
    {
     "name": "stderr",
     "output_type": "stream",
     "text": [
      "  1%|          | 1.18k/102k [1:16:53<119:49:50, 4.18s/Twitter friendship]"
     ]
    },
    {
     "name": "stdout",
     "output_type": "stream",
     "text": [
      "'Loaded 40549 friends dictionary'\n",
      "tweepy.TweepError [{'code': 34, 'message': 'Sorry, that page does not exist.'}]  from:  11\n"
     ]
    },
    {
     "name": "stderr",
     "output_type": "stream",
     "text": [
      "  1%|          | 1.20k/102k [1:17:16<95:29:09, 3.34s/Twitter friendship] "
     ]
    },
    {
     "name": "stdout",
     "output_type": "stream",
     "text": [
      "'Loaded 40566 friends dictionary'\n"
     ]
    },
    {
     "name": "stderr",
     "output_type": "stream",
     "text": [
      "  1%|          | 1.21k/102k [1:17:45<81:32:01, 2.85s/Twitter friendship]"
     ]
    },
    {
     "name": "stdout",
     "output_type": "stream",
     "text": [
      "'Loaded 40583 friends dictionary'\n",
      "tweepy.TweepError Not authorized.  from:  0\n",
      "tweepy.TweepError Not authorized.  from:  1\n"
     ]
    },
    {
     "name": "stderr",
     "output_type": "stream",
     "text": [
      "  1%|          | 1.23k/102k [1:18:08<68:58:54, 2.41s/Twitter friendship]"
     ]
    },
    {
     "name": "stdout",
     "output_type": "stream",
     "text": [
      "'Loaded 40600 friends dictionary'\n"
     ]
    },
    {
     "name": "stderr",
     "output_type": "stream",
     "text": [
      "  1%|          | 1.25k/102k [1:18:49<68:48:21, 2.40s/Twitter friendship]"
     ]
    },
    {
     "name": "stdout",
     "output_type": "stream",
     "text": [
      "'Loaded 40617 friends dictionary'\n"
     ]
    },
    {
     "name": "stderr",
     "output_type": "stream",
     "text": [
      "Rate limit reached. Sleeping for: 72\n"
     ]
    },
    {
     "name": "stdout",
     "output_type": "stream",
     "text": [
      "tweepy.TweepError Not authorized.  from:  8\n"
     ]
    },
    {
     "name": "stderr",
     "output_type": "stream",
     "text": [
      "  1%|          | 1.26k/102k [1:20:28<98:10:39, 3.43s/Twitter friendship]"
     ]
    },
    {
     "name": "stdout",
     "output_type": "stream",
     "text": [
      "'Loaded 40634 friends dictionary'\n"
     ]
    },
    {
     "name": "stderr",
     "output_type": "stream",
     "text": [
      "Rate limit reached. Sleeping for: 558\n",
      "  1%|▏         | 1.28k/102k [1:30:40<377:40:32, 13.2s/Twitter friendship]"
     ]
    },
    {
     "name": "stdout",
     "output_type": "stream",
     "text": [
      "'Loaded 40651 friends dictionary'\n"
     ]
    },
    {
     "name": "stderr",
     "output_type": "stream",
     "text": [
      "  1%|▏         | 1.29k/102k [1:31:08<278:32:42, 9.74s/Twitter friendship]"
     ]
    },
    {
     "name": "stdout",
     "output_type": "stream",
     "text": [
      "'Loaded 40668 friends dictionary'\n"
     ]
    },
    {
     "name": "stderr",
     "output_type": "stream",
     "text": [
      "  1%|▏         | 1.31k/102k [1:31:36<208:45:24, 7.30s/Twitter friendship]"
     ]
    },
    {
     "name": "stdout",
     "output_type": "stream",
     "text": [
      "'Loaded 40685 friends dictionary'\n"
     ]
    },
    {
     "name": "stderr",
     "output_type": "stream",
     "text": [
      "  1%|▏         | 1.33k/102k [1:32:11<163:56:15, 5.73s/Twitter friendship]"
     ]
    },
    {
     "name": "stdout",
     "output_type": "stream",
     "text": [
      "'Loaded 40702 friends dictionary'\n",
      "tweepy.TweepError Not authorized.  from:  11\n"
     ]
    },
    {
     "name": "stderr",
     "output_type": "stream",
     "text": [
      "  1%|▏         | 1.34k/102k [1:32:47<133:06:31, 4.66s/Twitter friendship]"
     ]
    },
    {
     "name": "stdout",
     "output_type": "stream",
     "text": [
      "'Loaded 40719 friends dictionary'\n",
      "tweepy.TweepError [{'code': 34, 'message': 'Sorry, that page does not exist.'}]  from:  3\n"
     ]
    },
    {
     "name": "stderr",
     "output_type": "stream",
     "text": [
      "Rate limit reached. Sleeping for: 732\n",
      "  1%|▏         | 1.36k/102k [1:45:44<485:10:27, 17.0s/Twitter friendship]"
     ]
    },
    {
     "name": "stdout",
     "output_type": "stream",
     "text": [
      "'Loaded 40736 friends dictionary'\n"
     ]
    },
    {
     "name": "stderr",
     "output_type": "stream",
     "text": [
      "  1%|▏         | 1.38k/102k [1:46:22<358:23:45, 12.5s/Twitter friendship]"
     ]
    },
    {
     "name": "stdout",
     "output_type": "stream",
     "text": [
      "'Loaded 40753 friends dictionary'\n",
      "tweepy.TweepError Not authorized.  from:  6\n"
     ]
    },
    {
     "name": "stderr",
     "output_type": "stream",
     "text": [
      "  1%|▏         | 1.39k/102k [1:47:17<278:28:44, 9.75s/Twitter friendship]"
     ]
    },
    {
     "name": "stdout",
     "output_type": "stream",
     "text": [
      "'Loaded 40770 friends dictionary'\n"
     ]
    },
    {
     "name": "stderr",
     "output_type": "stream",
     "text": [
      "  1%|▏         | 1.41k/102k [1:47:44<208:40:06, 7.30s/Twitter friendship]"
     ]
    },
    {
     "name": "stdout",
     "output_type": "stream",
     "text": [
      "'Loaded 40787 friends dictionary'\n"
     ]
    },
    {
     "name": "stderr",
     "output_type": "stream",
     "text": [
      "  1%|▏         | 1.43k/102k [1:48:29<168:59:04, 5.92s/Twitter friendship]"
     ]
    },
    {
     "name": "stdout",
     "output_type": "stream",
     "text": [
      "'Loaded 40804 friends dictionary'\n"
     ]
    },
    {
     "name": "stderr",
     "output_type": "stream",
     "text": [
      "  1%|▏         | 1.44k/102k [1:48:55<131:19:35, 4.60s/Twitter friendship]"
     ]
    },
    {
     "name": "stdout",
     "output_type": "stream",
     "text": [
      "'Loaded 40821 friends dictionary'\n"
     ]
    },
    {
     "name": "stderr",
     "output_type": "stream",
     "text": [
      "Rate limit reached. Sleeping for: 655\n",
      "  1%|▏         | 1.46k/102k [2:00:50<451:57:54, 15.8s/Twitter friendship]"
     ]
    },
    {
     "name": "stdout",
     "output_type": "stream",
     "text": [
      "'Loaded 40838 friends dictionary'\n",
      "tweepy.TweepError Not authorized.  from:  4\n"
     ]
    },
    {
     "name": "stderr",
     "output_type": "stream",
     "text": [
      "  1%|▏         | 1.48k/102k [2:01:27<334:59:26, 11.7s/Twitter friendship]"
     ]
    },
    {
     "name": "stdout",
     "output_type": "stream",
     "text": [
      "'Loaded 40855 friends dictionary'\n",
      "tweepy.TweepError Not authorized.  from:  3\n",
      "tweepy.TweepError Not authorized.  from:  7\n"
     ]
    },
    {
     "name": "stderr",
     "output_type": "stream",
     "text": [
      "  1%|▏         | 1.49k/102k [2:01:57<249:27:35, 8.74s/Twitter friendship]"
     ]
    },
    {
     "name": "stdout",
     "output_type": "stream",
     "text": [
      "'Loaded 40872 friends dictionary'\n"
     ]
    },
    {
     "name": "stderr",
     "output_type": "stream",
     "text": [
      "  1%|▏         | 1.51k/102k [2:02:29<190:58:33, 6.69s/Twitter friendship]"
     ]
    },
    {
     "name": "stdout",
     "output_type": "stream",
     "text": [
      "'Loaded 40889 friends dictionary'\n"
     ]
    },
    {
     "name": "stderr",
     "output_type": "stream",
     "text": [
      "  1%|▏         | 1.53k/102k [2:03:02<150:23:31, 5.27s/Twitter friendship]"
     ]
    },
    {
     "name": "stdout",
     "output_type": "stream",
     "text": [
      "'Loaded 40906 friends dictionary'\n",
      "tweepy.TweepError Not authorized.  from:  9\n",
      "tweepy.TweepError Not authorized.  from:  11\n"
     ]
    },
    {
     "name": "stderr",
     "output_type": "stream",
     "text": [
      "  2%|▏         | 1.54k/102k [2:03:28<118:13:25, 4.14s/Twitter friendship]"
     ]
    },
    {
     "name": "stdout",
     "output_type": "stream",
     "text": [
      "'Loaded 40923 friends dictionary'\n"
     ]
    },
    {
     "name": "stderr",
     "output_type": "stream",
     "text": [
      "  2%|▏         | 1.56k/102k [2:03:51<94:23:11, 3.31s/Twitter friendship] "
     ]
    },
    {
     "name": "stdout",
     "output_type": "stream",
     "text": [
      "'Loaded 40940 friends dictionary'\n",
      "tweepy.TweepError Not authorized.  from:  15\n"
     ]
    },
    {
     "name": "stderr",
     "output_type": "stream",
     "text": [
      "  2%|▏         | 1.58k/102k [2:04:35<88:13:06, 3.09s/Twitter friendship]"
     ]
    },
    {
     "name": "stdout",
     "output_type": "stream",
     "text": [
      "'Loaded 40957 friends dictionary'\n"
     ]
    },
    {
     "name": "stderr",
     "output_type": "stream",
     "text": [
      "  2%|▏         | 1.59k/102k [2:04:58<72:59:40, 2.56s/Twitter friendship]"
     ]
    },
    {
     "name": "stdout",
     "output_type": "stream",
     "text": [
      "'Loaded 40974 friends dictionary'\n",
      "tweepy.TweepError Not authorized.  from:  4\n"
     ]
    },
    {
     "name": "stderr",
     "output_type": "stream",
     "text": [
      "  2%|▏         | 1.61k/102k [2:05:41<72:46:58, 2.55s/Twitter friendship]"
     ]
    },
    {
     "name": "stdout",
     "output_type": "stream",
     "text": [
      "'Loaded 40991 friends dictionary'\n",
      "tweepy.TweepError Not authorized.  from:  2\n"
     ]
    },
    {
     "name": "stderr",
     "output_type": "stream",
     "text": [
      "  2%|▏         | 1.63k/102k [2:06:02<61:38:48, 2.16s/Twitter friendship]"
     ]
    },
    {
     "name": "stdout",
     "output_type": "stream",
     "text": [
      "'Loaded 41008 friends dictionary'\n"
     ]
    },
    {
     "name": "stderr",
     "output_type": "stream",
     "text": [
      "  2%|▏         | 1.64k/102k [2:06:24<54:07:46, 1.90s/Twitter friendship]"
     ]
    },
    {
     "name": "stdout",
     "output_type": "stream",
     "text": [
      "'Loaded 41025 friends dictionary'\n"
     ]
    },
    {
     "name": "stderr",
     "output_type": "stream",
     "text": [
      "Rate limit reached. Sleeping for: 581\n",
      "  2%|▏         | 1.66k/102k [2:16:32<343:36:51, 12.1s/Twitter friendship]"
     ]
    },
    {
     "name": "stdout",
     "output_type": "stream",
     "text": [
      "'Loaded 41042 friends dictionary'\n"
     ]
    },
    {
     "name": "stderr",
     "output_type": "stream",
     "text": [
      "  2%|▏         | 1.68k/102k [2:17:08<258:49:07, 9.08s/Twitter friendship]"
     ]
    },
    {
     "name": "stdout",
     "output_type": "stream",
     "text": [
      "'Loaded 41059 friends dictionary'\n"
     ]
    },
    {
     "name": "stderr",
     "output_type": "stream",
     "text": [
      "  2%|▏         | 1.69k/102k [2:17:41<197:40:28, 6.94s/Twitter friendship]"
     ]
    },
    {
     "name": "stdout",
     "output_type": "stream",
     "text": [
      "'Loaded 41076 friends dictionary'\n"
     ]
    },
    {
     "name": "stderr",
     "output_type": "stream",
     "text": [
      "  2%|▏         | 1.71k/102k [2:18:08<152:03:50, 5.34s/Twitter friendship]"
     ]
    },
    {
     "name": "stdout",
     "output_type": "stream",
     "text": [
      "'Loaded 41093 friends dictionary'\n"
     ]
    },
    {
     "name": "stderr",
     "output_type": "stream",
     "text": [
      "  2%|▏         | 1.73k/102k [2:18:58<131:29:39, 4.62s/Twitter friendship]"
     ]
    },
    {
     "name": "stdout",
     "output_type": "stream",
     "text": [
      "'Loaded 41110 friends dictionary'\n",
      "tweepy.TweepError [{'code': 34, 'message': 'Sorry, that page does not exist.'}]  from:  0\n"
     ]
    },
    {
     "name": "stderr",
     "output_type": "stream",
     "text": [
      "  2%|▏         | 1.74k/102k [2:19:33<109:36:15, 3.85s/Twitter friendship]"
     ]
    },
    {
     "name": "stdout",
     "output_type": "stream",
     "text": [
      "'Loaded 41127 friends dictionary'\n"
     ]
    },
    {
     "name": "stderr",
     "output_type": "stream",
     "text": [
      "  2%|▏         | 1.76k/102k [2:20:29<104:34:44, 3.67s/Twitter friendship]"
     ]
    },
    {
     "name": "stdout",
     "output_type": "stream",
     "text": [
      "'Loaded 41144 friends dictionary'\n"
     ]
    },
    {
     "name": "stderr",
     "output_type": "stream",
     "text": [
      "  2%|▏         | 1.78k/102k [2:21:11<94:22:26, 3.32s/Twitter friendship] "
     ]
    },
    {
     "name": "stdout",
     "output_type": "stream",
     "text": [
      "'Loaded 41161 friends dictionary'\n"
     ]
    },
    {
     "name": "stderr",
     "output_type": "stream",
     "text": [
      "  2%|▏         | 1.79k/102k [2:22:26<103:57:44, 3.65s/Twitter friendship]"
     ]
    },
    {
     "name": "stdout",
     "output_type": "stream",
     "text": [
      "'Loaded 41178 friends dictionary'\n"
     ]
    },
    {
     "name": "stderr",
     "output_type": "stream",
     "text": [
      "  2%|▏         | 1.81k/102k [2:23:04<91:51:27, 3.23s/Twitter friendship] "
     ]
    },
    {
     "name": "stdout",
     "output_type": "stream",
     "text": [
      "'Loaded 41195 friends dictionary'\n"
     ]
    },
    {
     "name": "stderr",
     "output_type": "stream",
     "text": [
      "Rate limit reached. Sleeping for: 510\n",
      "  2%|▏         | 1.83k/102k [2:32:13<339:45:06, 11.9s/Twitter friendship]"
     ]
    },
    {
     "name": "stdout",
     "output_type": "stream",
     "text": [
      "'Loaded 41212 friends dictionary'\n"
     ]
    },
    {
     "name": "stderr",
     "output_type": "stream",
     "text": [
      "  2%|▏         | 1.84k/102k [2:32:59<261:03:31, 9.18s/Twitter friendship]"
     ]
    },
    {
     "name": "stdout",
     "output_type": "stream",
     "text": [
      "'Loaded 41229 friends dictionary'\n",
      "tweepy.TweepError Not authorized.  from:  6\n"
     ]
    },
    {
     "name": "stderr",
     "output_type": "stream",
     "text": [
      "  2%|▏         | 1.86k/102k [2:33:37<201:45:54, 7.09s/Twitter friendship]"
     ]
    },
    {
     "name": "stdout",
     "output_type": "stream",
     "text": [
      "'Loaded 41246 friends dictionary'\n",
      "tweepy.TweepError Not authorized.  from:  13\n"
     ]
    },
    {
     "name": "stderr",
     "output_type": "stream",
     "text": [
      "  2%|▏         | 1.88k/102k [2:34:04<154:37:28, 5.44s/Twitter friendship]"
     ]
    },
    {
     "name": "stdout",
     "output_type": "stream",
     "text": [
      "tweepy.TweepError Not authorized.  from:  16\n",
      "'Loaded 41263 friends dictionary'\n"
     ]
    },
    {
     "name": "stderr",
     "output_type": "stream",
     "text": [
      "  2%|▏         | 1.89k/102k [2:34:34<123:25:59, 4.34s/Twitter friendship]"
     ]
    },
    {
     "name": "stdout",
     "output_type": "stream",
     "text": [
      "'Loaded 41280 friends dictionary'\n"
     ]
    },
    {
     "name": "stderr",
     "output_type": "stream",
     "text": [
      "  2%|▏         | 1.91k/102k [2:35:28<113:24:14, 3.99s/Twitter friendship]"
     ]
    },
    {
     "name": "stdout",
     "output_type": "stream",
     "text": [
      "tweepy.TweepError Not authorized.  from:  16\n",
      "'Loaded 41297 friends dictionary'\n",
      "tweepy.TweepError Not authorized.  from:  5\n",
      "tweepy.TweepError Not authorized.  from:  14\n"
     ]
    },
    {
     "name": "stderr",
     "output_type": "stream",
     "text": [
      "  2%|▏         | 1.93k/102k [2:36:01<95:36:39, 3.36s/Twitter friendship] "
     ]
    },
    {
     "name": "stdout",
     "output_type": "stream",
     "text": [
      "'Loaded 41314 friends dictionary'\n",
      "tweepy.TweepError Not authorized.  from:  2\n",
      "tweepy.TweepError Not authorized.  from:  13\n"
     ]
    },
    {
     "name": "stderr",
     "output_type": "stream",
     "text": [
      "  2%|▏         | 1.94k/102k [2:37:03<98:22:13, 3.46s/Twitter friendship]"
     ]
    },
    {
     "name": "stdout",
     "output_type": "stream",
     "text": [
      "'Loaded 41331 friends dictionary'\n"
     ]
    },
    {
     "name": "stderr",
     "output_type": "stream",
     "text": [
      "  2%|▏         | 1.96k/102k [2:37:42<87:59:02, 3.10s/Twitter friendship]"
     ]
    },
    {
     "name": "stdout",
     "output_type": "stream",
     "text": [
      "'Loaded 41348 friends dictionary'\n"
     ]
    },
    {
     "name": "stderr",
     "output_type": "stream",
     "text": [
      "  2%|▏         | 1.98k/102k [2:38:50<95:54:54, 3.38s/Twitter friendship]"
     ]
    },
    {
     "name": "stdout",
     "output_type": "stream",
     "text": [
      "'Loaded 41365 friends dictionary'\n"
     ]
    },
    {
     "name": "stderr",
     "output_type": "stream",
     "text": [
      "  2%|▏         | 1.99k/102k [2:39:29<86:51:58, 3.06s/Twitter friendship]"
     ]
    },
    {
     "name": "stdout",
     "output_type": "stream",
     "text": [
      "'Loaded 41382 friends dictionary'\n",
      "tweepy.TweepError Not authorized.  from:  15\n"
     ]
    },
    {
     "name": "stderr",
     "output_type": "stream",
     "text": [
      "  2%|▏         | 2.01k/102k [2:40:31<91:46:09, 3.23s/Twitter friendship]"
     ]
    },
    {
     "name": "stdout",
     "output_type": "stream",
     "text": [
      "'Loaded 41399 friends dictionary'\n"
     ]
    },
    {
     "name": "stderr",
     "output_type": "stream",
     "text": [
      "  2%|▏         | 2.03k/102k [2:40:59<78:12:18, 2.75s/Twitter friendship]"
     ]
    },
    {
     "name": "stdout",
     "output_type": "stream",
     "text": [
      "'Loaded 41416 friends dictionary'\n"
     ]
    },
    {
     "name": "stderr",
     "output_type": "stream",
     "text": [
      "  2%|▏         | 2.04k/102k [2:41:36<73:27:43, 2.59s/Twitter friendship]"
     ]
    },
    {
     "name": "stdout",
     "output_type": "stream",
     "text": [
      "'Loaded 41433 friends dictionary'\n"
     ]
    },
    {
     "name": "stderr",
     "output_type": "stream",
     "text": [
      "Rate limit reached. Sleeping for: 303\n",
      "  2%|▏         | 2.06k/102k [2:47:18<222:27:22, 7.84s/Twitter friendship]"
     ]
    },
    {
     "name": "stdout",
     "output_type": "stream",
     "text": [
      "'Loaded 41450 friends dictionary'\n"
     ]
    },
    {
     "name": "stderr",
     "output_type": "stream",
     "text": [
      "  2%|▏         | 2.08k/102k [2:48:10<181:36:31, 6.40s/Twitter friendship]"
     ]
    },
    {
     "name": "stdout",
     "output_type": "stream",
     "text": [
      "'Loaded 41467 friends dictionary'\n"
     ]
    },
    {
     "name": "stderr",
     "output_type": "stream",
     "text": [
      "  2%|▏         | 2.09k/102k [2:49:19<161:39:44, 5.70s/Twitter friendship]"
     ]
    },
    {
     "name": "stdout",
     "output_type": "stream",
     "text": [
      "'Loaded 41484 friends dictionary'\n"
     ]
    },
    {
     "name": "stderr",
     "output_type": "stream",
     "text": [
      "  2%|▏         | 2.11k/102k [2:50:05<136:27:58, 4.81s/Twitter friendship]"
     ]
    },
    {
     "name": "stdout",
     "output_type": "stream",
     "text": [
      "'Loaded 41501 friends dictionary'\n",
      "tweepy.TweepError Not authorized.  from:  7\n"
     ]
    },
    {
     "name": "stderr",
     "output_type": "stream",
     "text": [
      "  2%|▏         | 2.12k/102k [2:51:17<131:26:07, 4.63s/Twitter friendship]"
     ]
    },
    {
     "name": "stdout",
     "output_type": "stream",
     "text": [
      "'Loaded 41518 friends dictionary'\n",
      "tweepy.TweepError Not authorized.  from:  10\n"
     ]
    },
    {
     "name": "stderr",
     "output_type": "stream",
     "text": [
      "  2%|▏         | 2.14k/102k [2:51:51<109:11:15, 3.85s/Twitter friendship]"
     ]
    },
    {
     "name": "stdout",
     "output_type": "stream",
     "text": [
      "'Loaded 41535 friends dictionary'\n",
      "tweepy.TweepError Not authorized.  from:  7\n"
     ]
    },
    {
     "name": "stderr",
     "output_type": "stream",
     "text": [
      "  2%|▏         | 2.16k/102k [2:52:50<105:31:33, 3.72s/Twitter friendship]"
     ]
    },
    {
     "name": "stdout",
     "output_type": "stream",
     "text": [
      "'Loaded 41552 friends dictionary'\n",
      "tweepy.TweepError Not authorized.  from:  7\n"
     ]
    },
    {
     "name": "stderr",
     "output_type": "stream",
     "text": [
      "  2%|▏         | 2.17k/102k [2:53:20<88:54:27, 3.14s/Twitter friendship] "
     ]
    },
    {
     "name": "stdout",
     "output_type": "stream",
     "text": [
      "tweepy.TweepError Not authorized.  from:  16\n",
      "'Loaded 41569 friends dictionary'\n",
      "tweepy.TweepError Not authorized.  from:  8\n"
     ]
    },
    {
     "name": "stderr",
     "output_type": "stream",
     "text": [
      "  2%|▏         | 2.19k/102k [2:54:14<89:35:20, 3.16s/Twitter friendship]"
     ]
    },
    {
     "name": "stdout",
     "output_type": "stream",
     "text": [
      "'Loaded 41586 friends dictionary'\n",
      "tweepy.TweepError Not authorized.  from:  8\n"
     ]
    },
    {
     "name": "stderr",
     "output_type": "stream",
     "text": [
      "  2%|▏         | 2.21k/102k [2:54:50<80:20:35, 2.83s/Twitter friendship]"
     ]
    },
    {
     "name": "stdout",
     "output_type": "stream",
     "text": [
      "'Loaded 41603 friends dictionary'\n"
     ]
    },
    {
     "name": "stderr",
     "output_type": "stream",
     "text": [
      "  2%|▏         | 2.22k/102k [2:55:25<73:53:18, 2.61s/Twitter friendship]"
     ]
    },
    {
     "name": "stdout",
     "output_type": "stream",
     "text": [
      "'Loaded 41620 friends dictionary'\n",
      "tweepy.TweepError Not authorized.  from:  12\n"
     ]
    },
    {
     "name": "stderr",
     "output_type": "stream",
     "text": [
      "  2%|▏         | 2.24k/102k [2:56:00<69:26:03, 2.45s/Twitter friendship]"
     ]
    },
    {
     "name": "stdout",
     "output_type": "stream",
     "text": [
      "'Loaded 41637 friends dictionary'\n",
      "tweepy.TweepError Not authorized.  from:  3\n"
     ]
    },
    {
     "name": "stderr",
     "output_type": "stream",
     "text": [
      "  2%|▏         | 2.26k/102k [2:56:30<63:27:08, 2.24s/Twitter friendship]"
     ]
    },
    {
     "name": "stdout",
     "output_type": "stream",
     "text": [
      "'Loaded 41654 friends dictionary'\n"
     ]
    },
    {
     "name": "stderr",
     "output_type": "stream",
     "text": [
      "  2%|▏         | 2.27k/102k [2:57:04<61:07:33, 2.16s/Twitter friendship]"
     ]
    },
    {
     "name": "stdout",
     "output_type": "stream",
     "text": [
      "'Loaded 41671 friends dictionary'\n"
     ]
    },
    {
     "name": "stderr",
     "output_type": "stream",
     "text": [
      "  2%|▏         | 2.29k/102k [2:57:33<57:37:02, 2.03s/Twitter friendship]"
     ]
    },
    {
     "name": "stdout",
     "output_type": "stream",
     "text": [
      "'Loaded 41688 friends dictionary'\n"
     ]
    },
    {
     "name": "stderr",
     "output_type": "stream",
     "text": [
      "Rate limit reached. Sleeping for: 280\n",
      "  2%|▏         | 2.31k/102k [3:03:15<210:52:02, 7.45s/Twitter friendship]"
     ]
    },
    {
     "name": "stdout",
     "output_type": "stream",
     "text": [
      "'Loaded 41705 friends dictionary'\n"
     ]
    },
    {
     "name": "stderr",
     "output_type": "stream",
     "text": [
      "  2%|▏         | 2.32k/102k [3:04:00<170:23:35, 6.02s/Twitter friendship]"
     ]
    },
    {
     "name": "stdout",
     "output_type": "stream",
     "text": [
      "'Loaded 41722 friends dictionary'\n"
     ]
    },
    {
     "name": "stderr",
     "output_type": "stream",
     "text": [
      "  2%|▏         | 2.34k/102k [3:05:00<148:53:44, 5.26s/Twitter friendship]"
     ]
    },
    {
     "name": "stdout",
     "output_type": "stream",
     "text": [
      "'Loaded 41739 friends dictionary'\n",
      "tweepy.TweepError Not authorized.  from:  10\n"
     ]
    },
    {
     "name": "stderr",
     "output_type": "stream",
     "text": [
      "  2%|▏         | 2.36k/102k [3:05:35<121:57:04, 4.31s/Twitter friendship]"
     ]
    },
    {
     "name": "stdout",
     "output_type": "stream",
     "text": [
      "'Loaded 41756 friends dictionary'\n"
     ]
    },
    {
     "name": "stderr",
     "output_type": "stream",
     "text": [
      "  2%|▏         | 2.37k/102k [3:06:27<111:25:08, 3.94s/Twitter friendship]"
     ]
    },
    {
     "name": "stdout",
     "output_type": "stream",
     "text": [
      "'Loaded 41773 friends dictionary'\n",
      "tweepy.TweepError Not authorized.  from:  13\n"
     ]
    },
    {
     "name": "stderr",
     "output_type": "stream",
     "text": [
      "  2%|▏         | 2.39k/102k [3:06:54<91:06:13, 3.22s/Twitter friendship] "
     ]
    },
    {
     "name": "stdout",
     "output_type": "stream",
     "text": [
      "tweepy.TweepError Not authorized.  from:  16\n",
      "'Loaded 41790 friends dictionary'\n"
     ]
    },
    {
     "name": "stderr",
     "output_type": "stream",
     "text": [
      "  2%|▏         | 2.41k/102k [3:07:59<96:28:57, 3.41s/Twitter friendship]"
     ]
    },
    {
     "name": "stdout",
     "output_type": "stream",
     "text": [
      "'Loaded 41807 friends dictionary'\n"
     ]
    },
    {
     "name": "stderr",
     "output_type": "stream",
     "text": [
      "  2%|▏         | 2.42k/102k [3:08:47<91:35:14, 3.24s/Twitter friendship]"
     ]
    },
    {
     "name": "stdout",
     "output_type": "stream",
     "text": [
      "'Loaded 41824 friends dictionary'\n"
     ]
    },
    {
     "name": "stderr",
     "output_type": "stream",
     "text": [
      "  2%|▏         | 2.44k/102k [3:09:27<83:40:01, 2.96s/Twitter friendship]"
     ]
    },
    {
     "name": "stdout",
     "output_type": "stream",
     "text": [
      "'Loaded 41841 friends dictionary'\n"
     ]
    },
    {
     "name": "stderr",
     "output_type": "stream",
     "text": [
      "  2%|▏         | 2.46k/102k [3:09:57<73:39:13, 2.61s/Twitter friendship]"
     ]
    },
    {
     "name": "stdout",
     "output_type": "stream",
     "text": [
      "'Loaded 41858 friends dictionary'\n"
     ]
    },
    {
     "name": "stderr",
     "output_type": "stream",
     "text": [
      "Rate limit reached. Sleeping for: 468\n",
      "  2%|▏         | 2.47k/102k [3:18:21<303:12:20, 10.7s/Twitter friendship]"
     ]
    },
    {
     "name": "stdout",
     "output_type": "stream",
     "text": [
      "'Loaded 41875 friends dictionary'\n"
     ]
    },
    {
     "name": "stderr",
     "output_type": "stream",
     "text": [
      "  2%|▏         | 2.49k/102k [3:19:06<234:39:57, 8.30s/Twitter friendship]"
     ]
    },
    {
     "name": "stdout",
     "output_type": "stream",
     "text": [
      "'Loaded 41892 friends dictionary'\n"
     ]
    },
    {
     "name": "stderr",
     "output_type": "stream",
     "text": [
      "  2%|▏         | 2.51k/102k [3:19:39<180:37:20, 6.39s/Twitter friendship]"
     ]
    },
    {
     "name": "stdout",
     "output_type": "stream",
     "text": [
      "'Loaded 41909 friends dictionary'\n"
     ]
    },
    {
     "name": "stderr",
     "output_type": "stream",
     "text": [
      "  2%|▏         | 2.52k/102k [3:20:30<151:41:14, 5.37s/Twitter friendship]"
     ]
    },
    {
     "name": "stdout",
     "output_type": "stream",
     "text": [
      "'Loaded 41926 friends dictionary'\n"
     ]
    },
    {
     "name": "stderr",
     "output_type": "stream",
     "text": [
      "  2%|▏         | 2.54k/102k [3:21:00<121:00:43, 4.28s/Twitter friendship]"
     ]
    },
    {
     "name": "stdout",
     "output_type": "stream",
     "text": [
      "'Loaded 41943 friends dictionary'\n",
      "tweepy.TweepError Not authorized.  from:  5\n",
      "tweepy.TweepError Not authorized.  from:  10\n"
     ]
    },
    {
     "name": "stderr",
     "output_type": "stream",
     "text": [
      "  3%|▎         | 2.56k/102k [3:21:50<109:44:49, 3.89s/Twitter friendship]"
     ]
    },
    {
     "name": "stdout",
     "output_type": "stream",
     "text": [
      "'Loaded 41960 friends dictionary'\n",
      "tweepy.TweepError Not authorized.  from:  10\n"
     ]
    },
    {
     "name": "stderr",
     "output_type": "stream",
     "text": [
      "  3%|▎         | 2.57k/102k [3:22:19<91:14:19, 3.23s/Twitter friendship] "
     ]
    },
    {
     "name": "stdout",
     "output_type": "stream",
     "text": [
      "'Loaded 41977 friends dictionary'\n"
     ]
    },
    {
     "name": "stderr",
     "output_type": "stream",
     "text": [
      "  3%|▎         | 2.59k/102k [3:23:08<88:07:29, 3.12s/Twitter friendship]"
     ]
    },
    {
     "name": "stdout",
     "output_type": "stream",
     "text": [
      "'Loaded 41994 friends dictionary'\n"
     ]
    },
    {
     "name": "stderr",
     "output_type": "stream",
     "text": [
      "Rate limit reached. Sleeping for: 630\n",
      "  3%|▎         | 2.61k/102k [3:34:11<392:22:16, 13.9s/Twitter friendship]"
     ]
    },
    {
     "name": "stdout",
     "output_type": "stream",
     "text": [
      "'Loaded 42011 friends dictionary'\n"
     ]
    },
    {
     "name": "stderr",
     "output_type": "stream",
     "text": [
      "  3%|▎         | 2.62k/102k [3:35:05<301:15:24, 10.7s/Twitter friendship]"
     ]
    },
    {
     "name": "stdout",
     "output_type": "stream",
     "text": [
      "'Loaded 42028 friends dictionary'\n",
      "tweepy.TweepError Not authorized.  from:  4\n",
      "tweepy.TweepError [{'code': 34, 'message': 'Sorry, that page does not exist.'}]  from:  12\n"
     ]
    },
    {
     "name": "stderr",
     "output_type": "stream",
     "text": [
      "  3%|▎         | 2.64k/102k [3:35:30<223:21:38, 7.91s/Twitter friendship]"
     ]
    },
    {
     "name": "stdout",
     "output_type": "stream",
     "text": [
      "'Loaded 42045 friends dictionary'\n"
     ]
    },
    {
     "name": "stderr",
     "output_type": "stream",
     "text": [
      "  3%|▎         | 2.66k/102k [3:35:56<169:20:47, 6.00s/Twitter friendship]"
     ]
    },
    {
     "name": "stdout",
     "output_type": "stream",
     "text": [
      "'Loaded 42062 friends dictionary'\n"
     ]
    },
    {
     "name": "stderr",
     "output_type": "stream",
     "text": [
      "  3%|▎         | 2.67k/102k [3:36:20<130:23:01, 4.62s/Twitter friendship]"
     ]
    },
    {
     "name": "stdout",
     "output_type": "stream",
     "text": [
      "'Loaded 42079 friends dictionary'\n"
     ]
    },
    {
     "name": "stderr",
     "output_type": "stream",
     "text": [
      "  3%|▎         | 2.69k/102k [3:36:45<103:41:28, 3.68s/Twitter friendship]"
     ]
    },
    {
     "name": "stdout",
     "output_type": "stream",
     "text": [
      "'Loaded 42096 friends dictionary'\n",
      "tweepy.TweepError Not authorized.  from:  0\n"
     ]
    },
    {
     "name": "stderr",
     "output_type": "stream",
     "text": [
      "  3%|▎         | 2.71k/102k [3:37:12<86:04:32, 3.05s/Twitter friendship] "
     ]
    },
    {
     "name": "stdout",
     "output_type": "stream",
     "text": [
      "'Loaded 42113 friends dictionary'\n"
     ]
    },
    {
     "name": "stderr",
     "output_type": "stream",
     "text": [
      "  3%|▎         | 2.72k/102k [3:37:41<74:49:13, 2.65s/Twitter friendship]"
     ]
    },
    {
     "name": "stdout",
     "output_type": "stream",
     "text": [
      "'Loaded 42130 friends dictionary'\n"
     ]
    },
    {
     "name": "stderr",
     "output_type": "stream",
     "text": [
      "  3%|▎         | 2.74k/102k [3:38:09<66:18:19, 2.35s/Twitter friendship]"
     ]
    },
    {
     "name": "stdout",
     "output_type": "stream",
     "text": [
      "'Loaded 42147 friends dictionary'\n"
     ]
    },
    {
     "name": "stderr",
     "output_type": "stream",
     "text": [
      "  3%|▎         | 2.76k/102k [3:38:33<57:57:19, 2.06s/Twitter friendship]"
     ]
    },
    {
     "name": "stdout",
     "output_type": "stream",
     "text": [
      "'Loaded 42164 friends dictionary'\n"
     ]
    },
    {
     "name": "stderr",
     "output_type": "stream",
     "text": [
      "  3%|▎         | 2.77k/102k [3:39:08<58:15:25, 2.07s/Twitter friendship]"
     ]
    },
    {
     "name": "stdout",
     "output_type": "stream",
     "text": [
      "'Loaded 42181 friends dictionary'\n"
     ]
    },
    {
     "name": "stderr",
     "output_type": "stream",
     "text": [
      "  3%|▎         | 2.79k/102k [3:39:37<54:55:41, 1.95s/Twitter friendship]"
     ]
    },
    {
     "name": "stdout",
     "output_type": "stream",
     "text": [
      "'Loaded 42198 friends dictionary'\n"
     ]
    },
    {
     "name": "stderr",
     "output_type": "stream",
     "text": [
      "  3%|▎         | 2.81k/102k [3:40:36<67:59:32, 2.41s/Twitter friendship]"
     ]
    },
    {
     "name": "stdout",
     "output_type": "stream",
     "text": [
      "'Loaded 42215 friends dictionary'\n"
     ]
    },
    {
     "name": "stderr",
     "output_type": "stream",
     "text": [
      "Rate limit reached. Sleeping for: 485\n",
      "  3%|▎         | 2.82k/102k [3:49:16<306:05:51, 10.9s/Twitter friendship]"
     ]
    },
    {
     "name": "stdout",
     "output_type": "stream",
     "text": [
      "'Loaded 42232 friends dictionary'\n",
      "tweepy.TweepError Not authorized.  from:  0\n"
     ]
    },
    {
     "name": "stderr",
     "output_type": "stream",
     "text": [
      "  3%|▎         | 2.84k/102k [3:50:07<239:28:26, 8.50s/Twitter friendship]"
     ]
    },
    {
     "name": "stdout",
     "output_type": "stream",
     "text": [
      "'Loaded 42249 friends dictionary'\n"
     ]
    },
    {
     "name": "stderr",
     "output_type": "stream",
     "text": [
      "  3%|▎         | 2.86k/102k [3:50:31<179:38:11, 6.38s/Twitter friendship]"
     ]
    },
    {
     "name": "stdout",
     "output_type": "stream",
     "text": [
      "'Loaded 42266 friends dictionary'\n",
      "tweepy.TweepError Not authorized.  from:  2\n",
      "tweepy.TweepError [{'code': 34, 'message': 'Sorry, that page does not exist.'}]  from:  12\n",
      "tweepy.TweepError Not authorized.  from:  14\n"
     ]
    },
    {
     "name": "stderr",
     "output_type": "stream",
     "text": [
      "  3%|▎         | 2.87k/102k [3:51:16<147:56:19, 5.25s/Twitter friendship]"
     ]
    },
    {
     "name": "stdout",
     "output_type": "stream",
     "text": [
      "'Loaded 42283 friends dictionary'\n"
     ]
    },
    {
     "name": "stderr",
     "output_type": "stream",
     "text": [
      "  3%|▎         | 2.89k/102k [3:51:38<114:31:01, 4.07s/Twitter friendship]"
     ]
    },
    {
     "name": "stdout",
     "output_type": "stream",
     "text": [
      "'Loaded 42300 friends dictionary'\n"
     ]
    },
    {
     "name": "stderr",
     "output_type": "stream",
     "text": [
      "  3%|▎         | 2.91k/102k [3:52:02<92:09:22, 3.27s/Twitter friendship] "
     ]
    },
    {
     "name": "stdout",
     "output_type": "stream",
     "text": [
      "'Loaded 42317 friends dictionary'\n"
     ]
    },
    {
     "name": "stderr",
     "output_type": "stream",
     "text": [
      "  3%|▎         | 2.92k/102k [3:52:24<75:10:11, 2.67s/Twitter friendship]"
     ]
    },
    {
     "name": "stdout",
     "output_type": "stream",
     "text": [
      "tweepy.TweepError [{'code': 34, 'message': 'Sorry, that page does not exist.'}]  from:  16\n",
      "'Loaded 42334 friends dictionary'\n"
     ]
    },
    {
     "name": "stderr",
     "output_type": "stream",
     "text": [
      "  3%|▎         | 2.94k/102k [3:52:46<63:49:53, 2.27s/Twitter friendship]"
     ]
    },
    {
     "name": "stdout",
     "output_type": "stream",
     "text": [
      "'Loaded 42351 friends dictionary'\n"
     ]
    },
    {
     "name": "stderr",
     "output_type": "stream",
     "text": [
      "  3%|▎         | 2.96k/102k [3:53:10<56:23:10, 2.00s/Twitter friendship]"
     ]
    },
    {
     "name": "stdout",
     "output_type": "stream",
     "text": [
      "'Loaded 42368 friends dictionary'\n"
     ]
    },
    {
     "name": "stderr",
     "output_type": "stream",
     "text": [
      "  3%|▎         | 2.97k/102k [3:53:32<50:29:49, 1.80s/Twitter friendship]"
     ]
    },
    {
     "name": "stdout",
     "output_type": "stream",
     "text": [
      "'Loaded 42385 friends dictionary'\n"
     ]
    },
    {
     "name": "stderr",
     "output_type": "stream",
     "text": [
      "  3%|▎         | 2.99k/102k [3:53:58<48:09:27, 1.71s/Twitter friendship]"
     ]
    },
    {
     "name": "stdout",
     "output_type": "stream",
     "text": [
      "'Loaded 42402 friends dictionary'\n",
      "tweepy.TweepError [{'code': 34, 'message': 'Sorry, that page does not exist.'}]  from:  4\n"
     ]
    },
    {
     "name": "stderr",
     "output_type": "stream",
     "text": [
      "  3%|▎         | 3.00k/102k [3:54:20<44:31:50, 1.58s/Twitter friendship]"
     ]
    },
    {
     "name": "stdout",
     "output_type": "stream",
     "text": [
      "'Loaded 42419 friends dictionary'\n"
     ]
    },
    {
     "name": "stderr",
     "output_type": "stream",
     "text": [
      "Rate limit reached. Sleeping for: 555\n",
      "  3%|▎         | 3.02k/102k [4:04:21<329:26:41, 11.7s/Twitter friendship]"
     ]
    },
    {
     "name": "stdout",
     "output_type": "stream",
     "text": [
      "'Loaded 42436 friends dictionary'\n"
     ]
    },
    {
     "name": "stderr",
     "output_type": "stream",
     "text": [
      "  3%|▎         | 3.04k/102k [4:04:52<246:12:29, 8.76s/Twitter friendship]"
     ]
    },
    {
     "name": "stdout",
     "output_type": "stream",
     "text": [
      "'Loaded 42453 friends dictionary'\n"
     ]
    },
    {
     "name": "stderr",
     "output_type": "stream",
     "text": [
      "  3%|▎         | 3.05k/102k [4:05:36<194:04:05, 6.91s/Twitter friendship]"
     ]
    },
    {
     "name": "stdout",
     "output_type": "stream",
     "text": [
      "tweepy.TweepError [{'code': 34, 'message': 'Sorry, that page does not exist.'}]  from:  16\n",
      "'Loaded 42470 friends dictionary'\n",
      "tweepy.TweepError Not authorized.  from:  8\n"
     ]
    },
    {
     "name": "stderr",
     "output_type": "stream",
     "text": [
      "  3%|▎         | 3.07k/102k [4:06:02<148:23:22, 5.28s/Twitter friendship]"
     ]
    },
    {
     "name": "stdout",
     "output_type": "stream",
     "text": [
      "'Loaded 42487 friends dictionary'\n"
     ]
    },
    {
     "name": "stderr",
     "output_type": "stream",
     "text": [
      "  3%|▎         | 3.09k/102k [4:06:44<124:50:20, 4.44s/Twitter friendship]"
     ]
    },
    {
     "name": "stdout",
     "output_type": "stream",
     "text": [
      "'Loaded 42504 friends dictionary'\n"
     ]
    },
    {
     "name": "stderr",
     "output_type": "stream",
     "text": [
      "  3%|▎         | 3.10k/102k [4:07:05<97:57:19, 3.49s/Twitter friendship] "
     ]
    },
    {
     "name": "stdout",
     "output_type": "stream",
     "text": [
      "'Loaded 42521 friends dictionary'\n"
     ]
    },
    {
     "name": "stderr",
     "output_type": "stream",
     "text": [
      "  3%|▎         | 3.12k/102k [4:07:49<90:16:23, 3.21s/Twitter friendship]"
     ]
    },
    {
     "name": "stdout",
     "output_type": "stream",
     "text": [
      "'Loaded 42538 friends dictionary'\n"
     ]
    },
    {
     "name": "stderr",
     "output_type": "stream",
     "text": [
      "  3%|▎         | 3.14k/102k [4:08:12<74:32:54, 2.65s/Twitter friendship]"
     ]
    },
    {
     "name": "stdout",
     "output_type": "stream",
     "text": [
      "'Loaded 42555 friends dictionary'\n",
      "tweepy.TweepError Not authorized.  from:  13\n"
     ]
    },
    {
     "name": "stderr",
     "output_type": "stream",
     "text": [
      "  3%|▎         | 3.15k/102k [4:08:56<73:53:51, 2.63s/Twitter friendship]"
     ]
    },
    {
     "name": "stdout",
     "output_type": "stream",
     "text": [
      "'Loaded 42572 friends dictionary'\n"
     ]
    },
    {
     "name": "stderr",
     "output_type": "stream",
     "text": [
      "  3%|▎         | 3.17k/102k [4:09:19<62:59:39, 2.24s/Twitter friendship]"
     ]
    },
    {
     "name": "stdout",
     "output_type": "stream",
     "text": [
      "'Loaded 42589 friends dictionary'\n"
     ]
    },
    {
     "name": "stderr",
     "output_type": "stream",
     "text": [
      "  3%|▎         | 3.19k/102k [4:09:41<54:59:14, 1.96s/Twitter friendship]"
     ]
    },
    {
     "name": "stdout",
     "output_type": "stream",
     "text": [
      "'Loaded 42606 friends dictionary'\n",
      "tweepy.TweepError [{'code': 34, 'message': 'Sorry, that page does not exist.'}]  from:  6\n"
     ]
    },
    {
     "name": "stderr",
     "output_type": "stream",
     "text": [
      "  3%|▎         | 3.20k/102k [4:10:04<49:48:30, 1.78s/Twitter friendship]"
     ]
    },
    {
     "name": "stdout",
     "output_type": "stream",
     "text": [
      "'Loaded 42623 friends dictionary'\n"
     ]
    },
    {
     "name": "stderr",
     "output_type": "stream",
     "text": [
      "  3%|▎         | 3.22k/102k [4:10:27<46:31:34, 1.66s/Twitter friendship]"
     ]
    },
    {
     "name": "stdout",
     "output_type": "stream",
     "text": [
      "'Loaded 42640 friends dictionary'\n"
     ]
    },
    {
     "name": "stderr",
     "output_type": "stream",
     "text": [
      "  3%|▎         | 3.24k/102k [4:10:55<46:23:46, 1.65s/Twitter friendship]"
     ]
    },
    {
     "name": "stdout",
     "output_type": "stream",
     "text": [
      "'Loaded 42657 friends dictionary'\n"
     ]
    },
    {
     "name": "stderr",
     "output_type": "stream",
     "text": [
      "Rate limit reached. Sleeping for: 483\n",
      "  3%|▎         | 3.25k/102k [4:19:27<285:41:17, 10.2s/Twitter friendship]"
     ]
    },
    {
     "name": "stdout",
     "output_type": "stream",
     "text": [
      "'Loaded 42674 friends dictionary'\n",
      "tweepy.TweepError Not authorized.  from:  2\n"
     ]
    },
    {
     "name": "stderr",
     "output_type": "stream",
     "text": [
      "  3%|▎         | 3.27k/102k [4:20:09<220:48:53, 7.87s/Twitter friendship]"
     ]
    },
    {
     "name": "stdout",
     "output_type": "stream",
     "text": [
      "'Loaded 42691 friends dictionary'\n"
     ]
    },
    {
     "name": "stderr",
     "output_type": "stream",
     "text": [
      "Rate limit reached. Sleeping for: 4\n"
     ]
    },
    {
     "name": "stdout",
     "output_type": "stream",
     "text": [
      "tweepy.TweepError Not authorized.  from:  8\n"
     ]
    },
    {
     "name": "stderr",
     "output_type": "stream",
     "text": [
      "  3%|▎         | 3.29k/102k [4:20:40<169:56:10, 6.06s/Twitter friendship]"
     ]
    },
    {
     "name": "stdout",
     "output_type": "stream",
     "text": [
      "'Loaded 42708 friends dictionary'\n",
      "tweepy.TweepError Not authorized.  from:  8\n"
     ]
    },
    {
     "name": "stderr",
     "output_type": "stream",
     "text": [
      "  3%|▎         | 3.30k/102k [4:21:25<141:01:30, 5.03s/Twitter friendship]"
     ]
    },
    {
     "name": "stdout",
     "output_type": "stream",
     "text": [
      "'Loaded 42725 friends dictionary'\n"
     ]
    },
    {
     "name": "stderr",
     "output_type": "stream",
     "text": [
      "  3%|▎         | 3.32k/102k [4:21:47<109:50:55, 3.92s/Twitter friendship]"
     ]
    },
    {
     "name": "stdout",
     "output_type": "stream",
     "text": [
      "'Loaded 42742 friends dictionary'\n"
     ]
    },
    {
     "name": "stderr",
     "output_type": "stream",
     "text": [
      "  3%|▎         | 3.34k/102k [4:22:28<97:05:51, 3.47s/Twitter friendship] "
     ]
    },
    {
     "name": "stdout",
     "output_type": "stream",
     "text": [
      "'Loaded 42759 friends dictionary'\n",
      "tweepy.TweepError Not authorized.  from:  11\n"
     ]
    },
    {
     "name": "stderr",
     "output_type": "stream",
     "text": [
      "  3%|▎         | 3.35k/102k [4:22:51<79:06:54, 2.82s/Twitter friendship]"
     ]
    },
    {
     "name": "stdout",
     "output_type": "stream",
     "text": [
      "'Loaded 42776 friends dictionary'\n"
     ]
    },
    {
     "name": "stderr",
     "output_type": "stream",
     "text": [
      "  3%|▎         | 3.37k/102k [4:23:35<77:04:54, 2.75s/Twitter friendship]"
     ]
    },
    {
     "name": "stdout",
     "output_type": "stream",
     "text": [
      "'Loaded 42793 friends dictionary'\n"
     ]
    },
    {
     "name": "stderr",
     "output_type": "stream",
     "text": [
      "  3%|▎         | 3.39k/102k [4:23:59<65:50:19, 2.35s/Twitter friendship]"
     ]
    },
    {
     "name": "stdout",
     "output_type": "stream",
     "text": [
      "'Loaded 42810 friends dictionary'\n"
     ]
    },
    {
     "name": "stderr",
     "output_type": "stream",
     "text": [
      "  3%|▎         | 3.40k/102k [4:24:46<69:27:51, 2.48s/Twitter friendship]"
     ]
    },
    {
     "name": "stdout",
     "output_type": "stream",
     "text": [
      "'Loaded 42827 friends dictionary'\n",
      "tweepy.TweepError [{'code': 34, 'message': 'Sorry, that page does not exist.'}]  from:  0\n"
     ]
    },
    {
     "name": "stderr",
     "output_type": "stream",
     "text": [
      "  3%|▎         | 3.42k/102k [4:25:10<60:34:32, 2.16s/Twitter friendship]"
     ]
    },
    {
     "name": "stdout",
     "output_type": "stream",
     "text": [
      "'Loaded 42844 friends dictionary'\n",
      "tweepy.TweepError Not authorized.  from:  13\n"
     ]
    },
    {
     "name": "stderr",
     "output_type": "stream",
     "text": [
      "  3%|▎         | 3.44k/102k [4:26:00<67:11:11, 2.40s/Twitter friendship]"
     ]
    },
    {
     "name": "stdout",
     "output_type": "stream",
     "text": [
      "'Loaded 42861 friends dictionary'\n"
     ]
    },
    {
     "name": "stderr",
     "output_type": "stream",
     "text": [
      "  3%|▎         | 3.45k/102k [4:26:24<58:56:09, 2.11s/Twitter friendship]"
     ]
    },
    {
     "name": "stdout",
     "output_type": "stream",
     "text": [
      "'Loaded 42878 friends dictionary'\n"
     ]
    },
    {
     "name": "stderr",
     "output_type": "stream",
     "text": [
      "  3%|▎         | 3.47k/102k [4:26:52<54:41:06, 1.95s/Twitter friendship]"
     ]
    },
    {
     "name": "stdout",
     "output_type": "stream",
     "text": [
      "'Loaded 42895 friends dictionary'\n"
     ]
    },
    {
     "name": "stderr",
     "output_type": "stream",
     "text": [
      "  3%|▎         | 3.49k/102k [4:27:19<51:35:52, 1.84s/Twitter friendship]"
     ]
    },
    {
     "name": "stdout",
     "output_type": "stream",
     "text": [
      "'Loaded 42912 friends dictionary'\n"
     ]
    },
    {
     "name": "stderr",
     "output_type": "stream",
     "text": [
      "Rate limit reached. Sleeping for: 444\n",
      "  3%|▎         | 3.50k/102k [4:35:14<270:50:35, 9.68s/Twitter friendship]"
     ]
    },
    {
     "name": "stdout",
     "output_type": "stream",
     "text": [
      "'Loaded 42929 friends dictionary'\n"
     ]
    },
    {
     "name": "stderr",
     "output_type": "stream",
     "text": [
      "Rate limit reached. Sleeping for: 34\n",
      "  3%|▎         | 3.52k/102k [4:36:30<227:02:44, 8.12s/Twitter friendship]"
     ]
    },
    {
     "name": "stdout",
     "output_type": "stream",
     "text": [
      "'Loaded 42946 friends dictionary'\n"
     ]
    },
    {
     "name": "stderr",
     "output_type": "stream",
     "text": [
      "  3%|▎         | 3.54k/102k [4:36:59<173:04:13, 6.19s/Twitter friendship]"
     ]
    },
    {
     "name": "stdout",
     "output_type": "stream",
     "text": [
      "'Loaded 42963 friends dictionary'\n"
     ]
    },
    {
     "name": "stderr",
     "output_type": "stream",
     "text": [
      "  3%|▎         | 3.55k/102k [4:37:28<135:30:56, 4.85s/Twitter friendship]"
     ]
    },
    {
     "name": "stdout",
     "output_type": "stream",
     "text": [
      "'Loaded 42980 friends dictionary'\n",
      "tweepy.TweepError Not authorized.  from:  4\n"
     ]
    },
    {
     "name": "stderr",
     "output_type": "stream",
     "text": [
      "  4%|▎         | 3.57k/102k [4:37:52<106:38:22, 3.81s/Twitter friendship]"
     ]
    },
    {
     "name": "stdout",
     "output_type": "stream",
     "text": [
      "'Loaded 42997 friends dictionary'\n"
     ]
    },
    {
     "name": "stderr",
     "output_type": "stream",
     "text": [
      "  4%|▎         | 3.59k/102k [4:38:39<97:44:45, 3.50s/Twitter friendship] "
     ]
    },
    {
     "name": "stdout",
     "output_type": "stream",
     "text": [
      "'Loaded 43014 friends dictionary'\n"
     ]
    },
    {
     "name": "stderr",
     "output_type": "stream",
     "text": [
      "  4%|▎         | 3.60k/102k [4:39:06<81:57:55, 2.93s/Twitter friendship]"
     ]
    },
    {
     "name": "stdout",
     "output_type": "stream",
     "text": [
      "'Loaded 43031 friends dictionary'\n",
      "tweepy.TweepError [{'code': 34, 'message': 'Sorry, that page does not exist.'}]  from:  7\n"
     ]
    },
    {
     "name": "stderr",
     "output_type": "stream",
     "text": [
      "  4%|▎         | 3.62k/102k [4:39:51<79:34:31, 2.85s/Twitter friendship]"
     ]
    },
    {
     "name": "stdout",
     "output_type": "stream",
     "text": [
      "'Loaded 43048 friends dictionary'\n",
      "tweepy.TweepError Not authorized.  from:  5\n"
     ]
    },
    {
     "name": "stderr",
     "output_type": "stream",
     "text": [
      "  4%|▎         | 3.64k/102k [4:40:17<68:35:01, 2.45s/Twitter friendship]"
     ]
    },
    {
     "name": "stdout",
     "output_type": "stream",
     "text": [
      "'Loaded 43065 friends dictionary'\n"
     ]
    },
    {
     "name": "stderr",
     "output_type": "stream",
     "text": [
      "  4%|▎         | 3.65k/102k [4:41:03<70:30:05, 2.52s/Twitter friendship]"
     ]
    },
    {
     "name": "stdout",
     "output_type": "stream",
     "text": [
      "'Loaded 43082 friends dictionary'\n"
     ]
    },
    {
     "name": "stderr",
     "output_type": "stream",
     "text": [
      "Rate limit reached. Sleeping for: 598\n",
      "  4%|▎         | 3.67k/102k [4:51:39<363:01:29, 13.0s/Twitter friendship]"
     ]
    },
    {
     "name": "stdout",
     "output_type": "stream",
     "text": [
      "'Loaded 43099 friends dictionary'\n"
     ]
    },
    {
     "name": "stderr",
     "output_type": "stream",
     "text": [
      "  4%|▎         | 3.69k/102k [4:52:34<280:54:18, 10.1s/Twitter friendship]"
     ]
    },
    {
     "name": "stdout",
     "output_type": "stream",
     "text": [
      "'Loaded 43116 friends dictionary'\n",
      "tweepy.TweepError [{'code': 34, 'message': 'Sorry, that page does not exist.'}]  from:  13\n"
     ]
    },
    {
     "name": "stderr",
     "output_type": "stream",
     "text": [
      "  4%|▎         | 3.70k/102k [4:53:01<209:52:22, 7.52s/Twitter friendship]"
     ]
    },
    {
     "name": "stdout",
     "output_type": "stream",
     "text": [
      "'Loaded 43133 friends dictionary'\n"
     ]
    },
    {
     "name": "stderr",
     "output_type": "stream",
     "text": [
      "Rate limit reached. Sleeping for: 765\n",
      "  4%|▎         | 3.72k/102k [5:06:43<552:02:01, 19.8s/Twitter friendship]"
     ]
    },
    {
     "name": "stdout",
     "output_type": "stream",
     "text": [
      "'Loaded 43150 friends dictionary'\n",
      "tweepy.TweepError Not authorized.  from:  8\n"
     ]
    },
    {
     "name": "stderr",
     "output_type": "stream",
     "text": [
      "  4%|▎         | 3.74k/102k [5:07:14<401:22:05, 14.4s/Twitter friendship]"
     ]
    },
    {
     "name": "stdout",
     "output_type": "stream",
     "text": [
      "'Loaded 43167 friends dictionary'\n"
     ]
    },
    {
     "name": "stderr",
     "output_type": "stream",
     "text": [
      "  4%|▎         | 3.75k/102k [5:08:05<306:02:42, 11.0s/Twitter friendship]"
     ]
    },
    {
     "name": "stdout",
     "output_type": "stream",
     "text": [
      "'Loaded 43184 friends dictionary'\n",
      "tweepy.TweepError [{'code': 34, 'message': 'Sorry, that page does not exist.'}]  from:  5\n"
     ]
    },
    {
     "name": "stderr",
     "output_type": "stream",
     "text": [
      "  4%|▎         | 3.77k/102k [5:08:31<227:02:16, 8.14s/Twitter friendship]"
     ]
    },
    {
     "name": "stdout",
     "output_type": "stream",
     "text": [
      "'Loaded 43201 friends dictionary'\n"
     ]
    },
    {
     "name": "stderr",
     "output_type": "stream",
     "text": [
      "  4%|▎         | 3.79k/102k [5:08:56<171:02:17, 6.13s/Twitter friendship]"
     ]
    },
    {
     "name": "stdout",
     "output_type": "stream",
     "text": [
      "'Loaded 43218 friends dictionary'\n"
     ]
    },
    {
     "name": "stderr",
     "output_type": "stream",
     "text": [
      "  4%|▎         | 3.80k/102k [5:09:21<132:20:55, 4.75s/Twitter friendship]"
     ]
    },
    {
     "name": "stdout",
     "output_type": "stream",
     "text": [
      "'Loaded 43235 friends dictionary'\n"
     ]
    },
    {
     "name": "stderr",
     "output_type": "stream",
     "text": [
      "  4%|▎         | 3.82k/102k [5:09:46<104:46:31, 3.76s/Twitter friendship]"
     ]
    },
    {
     "name": "stdout",
     "output_type": "stream",
     "text": [
      "'Loaded 43252 friends dictionary'\n"
     ]
    },
    {
     "name": "stderr",
     "output_type": "stream",
     "text": [
      "  4%|▍         | 3.83k/102k [5:10:11<85:35:12, 3.07s/Twitter friendship] "
     ]
    },
    {
     "name": "stdout",
     "output_type": "stream",
     "text": [
      "'Loaded 43269 friends dictionary'\n",
      "tweepy.TweepError Not authorized.  from:  4\n",
      "tweepy.TweepError Not authorized.  from:  10\n"
     ]
    },
    {
     "name": "stderr",
     "output_type": "stream",
     "text": [
      "  4%|▍         | 3.85k/102k [5:10:35<71:58:01, 2.58s/Twitter friendship]"
     ]
    },
    {
     "name": "stdout",
     "output_type": "stream",
     "text": [
      "'Loaded 43286 friends dictionary'\n",
      "tweepy.TweepError Not authorized.  from:  1\n"
     ]
    },
    {
     "name": "stderr",
     "output_type": "stream",
     "text": [
      "  4%|▍         | 3.87k/102k [5:11:03<63:45:59, 2.29s/Twitter friendship]"
     ]
    },
    {
     "name": "stdout",
     "output_type": "stream",
     "text": [
      "'Loaded 43303 friends dictionary'\n"
     ]
    },
    {
     "name": "stderr",
     "output_type": "stream",
     "text": [
      "  4%|▍         | 3.88k/102k [5:11:28<56:59:57, 2.05s/Twitter friendship]"
     ]
    },
    {
     "name": "stdout",
     "output_type": "stream",
     "text": [
      "'Loaded 43320 friends dictionary'\n",
      "tweepy.TweepError Not authorized.  from:  11\n"
     ]
    },
    {
     "name": "stderr",
     "output_type": "stream",
     "text": [
      "  4%|▍         | 3.90k/102k [5:11:57<54:26:32, 1.95s/Twitter friendship]"
     ]
    },
    {
     "name": "stdout",
     "output_type": "stream",
     "text": [
      "'Loaded 43337 friends dictionary'\n"
     ]
    },
    {
     "name": "stderr",
     "output_type": "stream",
     "text": [
      "  4%|▍         | 3.92k/102k [5:12:22<50:18:19, 1.81s/Twitter friendship]"
     ]
    },
    {
     "name": "stdout",
     "output_type": "stream",
     "text": [
      "'Loaded 43354 friends dictionary'\n",
      "tweepy.TweepError Not authorized.  from:  12\n"
     ]
    },
    {
     "name": "stderr",
     "output_type": "stream",
     "text": [
      "  4%|▍         | 3.93k/102k [5:12:53<50:18:23, 1.81s/Twitter friendship]"
     ]
    },
    {
     "name": "stdout",
     "output_type": "stream",
     "text": [
      "'Loaded 43371 friends dictionary'\n"
     ]
    },
    {
     "name": "stderr",
     "output_type": "stream",
     "text": [
      "Rate limit reached. Sleeping for: 503\n",
      "  4%|▍         | 3.95k/102k [5:21:48<298:03:04, 10.7s/Twitter friendship]"
     ]
    },
    {
     "name": "stdout",
     "output_type": "stream",
     "text": [
      "'Loaded 43388 friends dictionary'\n"
     ]
    },
    {
     "name": "stderr",
     "output_type": "stream",
     "text": [
      "  4%|▍         | 3.97k/102k [5:22:39<233:53:49, 8.40s/Twitter friendship]"
     ]
    },
    {
     "name": "stdout",
     "output_type": "stream",
     "text": [
      "'Loaded 43405 friends dictionary'\n",
      "tweepy.TweepError Not authorized.  from:  8\n"
     ]
    },
    {
     "name": "stderr",
     "output_type": "stream",
     "text": [
      "  4%|▍         | 3.98k/102k [5:23:08<177:50:00, 6.39s/Twitter friendship]"
     ]
    },
    {
     "name": "stdout",
     "output_type": "stream",
     "text": [
      "'Loaded 43422 friends dictionary'\n"
     ]
    },
    {
     "name": "stderr",
     "output_type": "stream",
     "text": [
      "  4%|▍         | 4.00k/102k [5:23:58<148:50:12, 5.35s/Twitter friendship]"
     ]
    },
    {
     "name": "stdout",
     "output_type": "stream",
     "text": [
      "'Loaded 43439 friends dictionary'\n"
     ]
    },
    {
     "name": "stderr",
     "output_type": "stream",
     "text": [
      "  4%|▍         | 4.02k/102k [5:24:25<117:45:50, 4.23s/Twitter friendship]"
     ]
    },
    {
     "name": "stdout",
     "output_type": "stream",
     "text": [
      "'Loaded 43456 friends dictionary'\n"
     ]
    },
    {
     "name": "stderr",
     "output_type": "stream",
     "text": [
      "  4%|▍         | 4.03k/102k [5:25:17<107:46:49, 3.87s/Twitter friendship]"
     ]
    },
    {
     "name": "stdout",
     "output_type": "stream",
     "text": [
      "'Loaded 43473 friends dictionary'\n"
     ]
    },
    {
     "name": "stderr",
     "output_type": "stream",
     "text": [
      "  4%|▍         | 4.05k/102k [5:25:42<87:38:07, 3.15s/Twitter friendship] "
     ]
    },
    {
     "name": "stdout",
     "output_type": "stream",
     "text": [
      "'Loaded 43490 friends dictionary'\n",
      "tweepy.TweepError Not authorized.  from:  8\n"
     ]
    },
    {
     "name": "stderr",
     "output_type": "stream",
     "text": [
      "  4%|▍         | 4.07k/102k [5:26:30<85:10:42, 3.06s/Twitter friendship]"
     ]
    },
    {
     "name": "stdout",
     "output_type": "stream",
     "text": [
      "'Loaded 43507 friends dictionary'\n"
     ]
    },
    {
     "name": "stderr",
     "output_type": "stream",
     "text": [
      "  4%|▍         | 4.08k/102k [5:26:55<71:41:58, 2.58s/Twitter friendship]"
     ]
    },
    {
     "name": "stdout",
     "output_type": "stream",
     "text": [
      "'Loaded 43524 friends dictionary'\n"
     ]
    },
    {
     "name": "stderr",
     "output_type": "stream",
     "text": [
      "Rate limit reached. Sleeping for: 624\n"
     ]
    },
    {
     "name": "stdout",
     "output_type": "stream",
     "text": [
      "tweepy.TweepError [{'code': 34, 'message': 'Sorry, that page does not exist.'}]  from:  2\n"
     ]
    },
    {
     "name": "stderr",
     "output_type": "stream",
     "text": [
      "  4%|▍         | 4.10k/102k [5:38:14<383:05:44, 13.8s/Twitter friendship]"
     ]
    },
    {
     "name": "stdout",
     "output_type": "stream",
     "text": [
      "'Loaded 43541 friends dictionary'\n"
     ]
    },
    {
     "name": "stderr",
     "output_type": "stream",
     "text": [
      "  4%|▍         | 4.12k/102k [5:38:44<283:11:37, 10.2s/Twitter friendship]"
     ]
    },
    {
     "name": "stdout",
     "output_type": "stream",
     "text": [
      "'Loaded 43558 friends dictionary'\n"
     ]
    },
    {
     "name": "stderr",
     "output_type": "stream",
     "text": [
      "  4%|▍         | 4.13k/102k [5:39:34<222:43:29, 8.01s/Twitter friendship]"
     ]
    },
    {
     "name": "stdout",
     "output_type": "stream",
     "text": [
      "'Loaded 43575 friends dictionary'\n"
     ]
    },
    {
     "name": "stderr",
     "output_type": "stream",
     "text": [
      "  4%|▍         | 4.15k/102k [5:40:04<170:23:07, 6.13s/Twitter friendship]"
     ]
    },
    {
     "name": "stdout",
     "output_type": "stream",
     "text": [
      "'Loaded 43592 friends dictionary'\n",
      "tweepy.TweepError Not authorized.  from:  11\n"
     ]
    },
    {
     "name": "stderr",
     "output_type": "stream",
     "text": [
      "  4%|▍         | 4.17k/102k [5:40:55<144:08:47, 5.19s/Twitter friendship]"
     ]
    },
    {
     "name": "stdout",
     "output_type": "stream",
     "text": [
      "'Loaded 43609 friends dictionary'\n"
     ]
    },
    {
     "name": "stderr",
     "output_type": "stream",
     "text": [
      "Rate limit reached. Sleeping for: 716\n",
      "  4%|▍         | 4.18k/102k [5:53:18<465:29:18, 16.8s/Twitter friendship]"
     ]
    },
    {
     "name": "stdout",
     "output_type": "stream",
     "text": [
      "'Loaded 43626 friends dictionary'\n"
     ]
    },
    {
     "name": "stderr",
     "output_type": "stream",
     "text": [
      "  4%|▍         | 4.20k/102k [5:53:49<341:00:58, 12.3s/Twitter friendship]"
     ]
    },
    {
     "name": "stdout",
     "output_type": "stream",
     "text": [
      "'Loaded 43643 friends dictionary'\n"
     ]
    },
    {
     "name": "stderr",
     "output_type": "stream",
     "text": [
      "  4%|▍         | 4.22k/102k [5:54:22<254:38:28, 9.17s/Twitter friendship]"
     ]
    },
    {
     "name": "stdout",
     "output_type": "stream",
     "text": [
      "'Loaded 43660 friends dictionary'\n",
      "tweepy.TweepError Not authorized.  from:  3\n"
     ]
    },
    {
     "name": "stderr",
     "output_type": "stream",
     "text": [
      "  4%|▍         | 4.23k/102k [5:54:54<193:59:27, 6.99s/Twitter friendship]"
     ]
    },
    {
     "name": "stdout",
     "output_type": "stream",
     "text": [
      "'Loaded 43677 friends dictionary'\n"
     ]
    },
    {
     "name": "stderr",
     "output_type": "stream",
     "text": [
      "  4%|▍         | 4.25k/102k [5:55:27<151:40:49, 5.46s/Twitter friendship]"
     ]
    },
    {
     "name": "stdout",
     "output_type": "stream",
     "text": [
      "'Loaded 43694 friends dictionary'\n",
      "tweepy.TweepError Not authorized.  from:  0\n",
      "tweepy.TweepError Not authorized.  from:  9\n",
      "tweepy.TweepError Not authorized.  from:  12\n",
      "tweepy.TweepError [{'code': 34, 'message': 'Sorry, that page does not exist.'}]  from:  15\n"
     ]
    },
    {
     "name": "stderr",
     "output_type": "stream",
     "text": [
      "  4%|▍         | 4.27k/102k [5:55:59<122:07:56, 4.40s/Twitter friendship]"
     ]
    },
    {
     "name": "stdout",
     "output_type": "stream",
     "text": [
      "'Loaded 43711 friends dictionary'\n"
     ]
    },
    {
     "name": "stderr",
     "output_type": "stream",
     "text": [
      "  4%|▍         | 4.28k/102k [5:56:33<102:04:37, 3.68s/Twitter friendship]"
     ]
    },
    {
     "name": "stdout",
     "output_type": "stream",
     "text": [
      "'Loaded 43728 friends dictionary'\n"
     ]
    },
    {
     "name": "stderr",
     "output_type": "stream",
     "text": [
      "  4%|▍         | 4.30k/102k [5:57:01<84:55:41, 3.06s/Twitter friendship] "
     ]
    },
    {
     "name": "stdout",
     "output_type": "stream",
     "text": [
      "'Loaded 43745 friends dictionary'\n"
     ]
    },
    {
     "name": "stderr",
     "output_type": "stream",
     "text": [
      "  4%|▍         | 4.32k/102k [5:57:40<78:33:53, 2.83s/Twitter friendship]"
     ]
    },
    {
     "name": "stdout",
     "output_type": "stream",
     "text": [
      "'Loaded 43762 friends dictionary'\n"
     ]
    },
    {
     "name": "stderr",
     "output_type": "stream",
     "text": [
      "  4%|▍         | 4.33k/102k [5:58:08<69:02:25, 2.49s/Twitter friendship]"
     ]
    },
    {
     "name": "stdout",
     "output_type": "stream",
     "text": [
      "tweepy.TweepError [{'code': 34, 'message': 'Sorry, that page does not exist.'}]  from:  16\n",
      "'Loaded 43779 friends dictionary'\n"
     ]
    },
    {
     "name": "stderr",
     "output_type": "stream",
     "text": [
      "  4%|▍         | 4.35k/102k [5:58:48<67:36:57, 2.44s/Twitter friendship]"
     ]
    },
    {
     "name": "stdout",
     "output_type": "stream",
     "text": [
      "'Loaded 43796 friends dictionary'\n"
     ]
    },
    {
     "name": "stderr",
     "output_type": "stream",
     "text": [
      "  4%|▍         | 4.37k/102k [5:59:13<59:49:56, 2.16s/Twitter friendship]"
     ]
    },
    {
     "name": "stdout",
     "output_type": "stream",
     "text": [
      "'Loaded 43813 friends dictionary'\n",
      "tweepy.TweepError Not authorized.  from:  14\n"
     ]
    },
    {
     "name": "stderr",
     "output_type": "stream",
     "text": [
      "  4%|▍         | 4.38k/102k [5:59:58<63:30:04, 2.29s/Twitter friendship]"
     ]
    },
    {
     "name": "stdout",
     "output_type": "stream",
     "text": [
      "'Loaded 43830 friends dictionary'\n",
      "tweepy.TweepError Not authorized.  from:  10\n"
     ]
    },
    {
     "name": "stderr",
     "output_type": "stream",
     "text": [
      "Rate limit reached. Sleeping for: 469\n",
      "  4%|▍         | 4.40k/102k [6:08:23<291:44:45, 10.5s/Twitter friendship]"
     ]
    },
    {
     "name": "stdout",
     "output_type": "stream",
     "text": [
      "'Loaded 43847 friends dictionary'\n",
      "tweepy.TweepError Not authorized.  from:  14\n"
     ]
    },
    {
     "name": "stderr",
     "output_type": "stream",
     "text": [
      "  4%|▍         | 4.42k/102k [6:09:13<228:46:54, 8.25s/Twitter friendship]"
     ]
    },
    {
     "name": "stdout",
     "output_type": "stream",
     "text": [
      "'Loaded 43864 friends dictionary'\n",
      "tweepy.TweepError Not authorized.  from:  13\n"
     ]
    },
    {
     "name": "stderr",
     "output_type": "stream",
     "text": [
      "  4%|▍         | 4.43k/102k [6:09:42<173:55:05, 6.28s/Twitter friendship]"
     ]
    },
    {
     "name": "stdout",
     "output_type": "stream",
     "text": [
      "'Loaded 43881 friends dictionary'\n"
     ]
    },
    {
     "name": "stderr",
     "output_type": "stream",
     "text": [
      "  4%|▍         | 4.45k/102k [6:10:27<143:41:50, 5.19s/Twitter friendship]"
     ]
    },
    {
     "name": "stdout",
     "output_type": "stream",
     "text": [
      "'Loaded 43898 friends dictionary'\n",
      "tweepy.TweepError Not authorized.  from:  11\n"
     ]
    },
    {
     "name": "stderr",
     "output_type": "stream",
     "text": [
      "  4%|▍         | 4.47k/102k [6:10:54<114:11:17, 4.12s/Twitter friendship]"
     ]
    },
    {
     "name": "stdout",
     "output_type": "stream",
     "text": [
      "'Loaded 43915 friends dictionary'\n"
     ]
    },
    {
     "name": "stderr",
     "output_type": "stream",
     "text": [
      "  4%|▍         | 4.48k/102k [6:11:41<102:26:06, 3.70s/Twitter friendship]"
     ]
    },
    {
     "name": "stdout",
     "output_type": "stream",
     "text": [
      "'Loaded 43932 friends dictionary'\n"
     ]
    },
    {
     "name": "stderr",
     "output_type": "stream",
     "text": [
      "  4%|▍         | 4.50k/102k [6:12:06<84:20:24, 3.05s/Twitter friendship] "
     ]
    },
    {
     "name": "stdout",
     "output_type": "stream",
     "text": [
      "'Loaded 43949 friends dictionary'\n"
     ]
    },
    {
     "name": "stderr",
     "output_type": "stream",
     "text": [
      "  4%|▍         | 4.52k/102k [6:12:58<84:01:56, 3.04s/Twitter friendship]"
     ]
    },
    {
     "name": "stdout",
     "output_type": "stream",
     "text": [
      "'Loaded 43966 friends dictionary'\n"
     ]
    },
    {
     "name": "stderr",
     "output_type": "stream",
     "text": [
      "  4%|▍         | 4.53k/102k [6:13:23<71:16:08, 2.57s/Twitter friendship]"
     ]
    },
    {
     "name": "stdout",
     "output_type": "stream",
     "text": [
      "'Loaded 43983 friends dictionary'\n",
      "tweepy.TweepError Not authorized.  from:  5\n"
     ]
    },
    {
     "name": "stderr",
     "output_type": "stream",
     "text": [
      "  4%|▍         | 4.55k/102k [6:14:07<71:09:24, 2.57s/Twitter friendship]"
     ]
    },
    {
     "name": "stdout",
     "output_type": "stream",
     "text": [
      "'Loaded 44000 friends dictionary'\n"
     ]
    },
    {
     "name": "stderr",
     "output_type": "stream",
     "text": [
      "  4%|▍         | 4.57k/102k [6:14:35<63:43:53, 2.30s/Twitter friendship]"
     ]
    },
    {
     "name": "stdout",
     "output_type": "stream",
     "text": [
      "'Loaded 44017 friends dictionary'\n"
     ]
    },
    {
     "name": "stderr",
     "output_type": "stream",
     "text": [
      "  4%|▍         | 4.58k/102k [6:15:23<68:09:35, 2.46s/Twitter friendship]"
     ]
    },
    {
     "name": "stdout",
     "output_type": "stream",
     "text": [
      "'Loaded 44034 friends dictionary'\n"
     ]
    },
    {
     "name": "stderr",
     "output_type": "stream",
     "text": [
      "Rate limit reached. Sleeping for: 502\n",
      "  5%|▍         | 4.60k/102k [6:24:18<308:51:42, 11.2s/Twitter friendship]"
     ]
    },
    {
     "name": "stdout",
     "output_type": "stream",
     "text": [
      "'Loaded 44051 friends dictionary'\n"
     ]
    },
    {
     "name": "stderr",
     "output_type": "stream",
     "text": [
      "  5%|▍         | 4.62k/102k [6:25:12<242:29:31, 8.77s/Twitter friendship]"
     ]
    },
    {
     "name": "stdout",
     "output_type": "stream",
     "text": [
      "'Loaded 44068 friends dictionary'\n"
     ]
    },
    {
     "name": "stderr",
     "output_type": "stream",
     "text": [
      "  5%|▍         | 4.63k/102k [6:25:42<184:06:20, 6.66s/Twitter friendship]"
     ]
    },
    {
     "name": "stdout",
     "output_type": "stream",
     "text": [
      "'Loaded 44085 friends dictionary'\n",
      "tweepy.TweepError [{'code': 34, 'message': 'Sorry, that page does not exist.'}]  from:  7\n",
      "tweepy.TweepError Not authorized.  from:  14\n"
     ]
    },
    {
     "name": "stderr",
     "output_type": "stream",
     "text": [
      "  5%|▍         | 4.65k/102k [6:26:28<151:14:15, 5.47s/Twitter friendship]"
     ]
    },
    {
     "name": "stdout",
     "output_type": "stream",
     "text": [
      "'Loaded 44102 friends dictionary'\n"
     ]
    },
    {
     "name": "stderr",
     "output_type": "stream",
     "text": [
      "  5%|▍         | 4.67k/102k [6:26:53<118:08:01, 4.27s/Twitter friendship]"
     ]
    },
    {
     "name": "stdout",
     "output_type": "stream",
     "text": [
      "'Loaded 44119 friends dictionary'\n"
     ]
    },
    {
     "name": "stderr",
     "output_type": "stream",
     "text": [
      "  5%|▍         | 4.68k/102k [6:27:40<105:41:47, 3.82s/Twitter friendship]"
     ]
    },
    {
     "name": "stdout",
     "output_type": "stream",
     "text": [
      "'Loaded 44136 friends dictionary'\n"
     ]
    },
    {
     "name": "stderr",
     "output_type": "stream",
     "text": [
      "  5%|▍         | 4.70k/102k [6:28:06<86:25:27, 3.13s/Twitter friendship] "
     ]
    },
    {
     "name": "stdout",
     "output_type": "stream",
     "text": [
      "'Loaded 44153 friends dictionary'\n"
     ]
    },
    {
     "name": "stderr",
     "output_type": "stream",
     "text": [
      "  5%|▍         | 4.71k/102k [6:28:28<71:25:51, 2.59s/Twitter friendship]"
     ]
    },
    {
     "name": "stdout",
     "output_type": "stream",
     "text": [
      "'Loaded 44170 friends dictionary'\n",
      "tweepy.TweepError Not authorized.  from:  14\n"
     ]
    },
    {
     "name": "stderr",
     "output_type": "stream",
     "text": [
      "  5%|▍         | 4.73k/102k [6:28:51<61:04:22, 2.21s/Twitter friendship]"
     ]
    },
    {
     "name": "stdout",
     "output_type": "stream",
     "text": [
      "'Loaded 44187 friends dictionary'\n"
     ]
    },
    {
     "name": "stderr",
     "output_type": "stream",
     "text": [
      "  5%|▍         | 4.75k/102k [6:29:16<54:50:19, 1.99s/Twitter friendship]"
     ]
    },
    {
     "name": "stdout",
     "output_type": "stream",
     "text": [
      "'Loaded 44204 friends dictionary'\n"
     ]
    },
    {
     "name": "stderr",
     "output_type": "stream",
     "text": [
      "  5%|▍         | 4.76k/102k [6:29:44<52:27:50, 1.90s/Twitter friendship]"
     ]
    },
    {
     "name": "stdout",
     "output_type": "stream",
     "text": [
      "'Loaded 44221 friends dictionary'\n"
     ]
    },
    {
     "name": "stderr",
     "output_type": "stream",
     "text": [
      "Rate limit reached. Sleeping for: 600\n",
      "Rate limit reached. Sleeping for: 896\n",
      "Rate limit reached. Sleeping for: 896\n",
      "Rate limit reached. Sleeping for: 895\n",
      "Rate limit reached. Sleeping for: 896\n"
     ]
    },
    {
     "name": "stdout",
     "output_type": "stream",
     "text": [
      "tweepy.TweepError Not authorized.  from:  7\n",
      "tweepy.TweepError Not authorized.  from:  13\n"
     ]
    },
    {
     "name": "stderr",
     "output_type": "stream",
     "text": [
      "  5%|▍         | 4.78k/102k [7:40:42<2111:14:50, 76.5s/Twitter friendship]"
     ]
    },
    {
     "name": "stdout",
     "output_type": "stream",
     "text": [
      "'Loaded 44238 friends dictionary'\n"
     ]
    },
    {
     "name": "stderr",
     "output_type": "stream",
     "text": [
      "  5%|▍         | 4.80k/102k [7:41:18<1495:16:34, 54.2s/Twitter friendship]"
     ]
    },
    {
     "name": "stdout",
     "output_type": "stream",
     "text": [
      "'Loaded 44255 friends dictionary'\n"
     ]
    },
    {
     "name": "stderr",
     "output_type": "stream",
     "text": [
      "  5%|▍         | 4.81k/102k [7:41:42<1058:13:17, 38.3s/Twitter friendship]"
     ]
    },
    {
     "name": "stdout",
     "output_type": "stream",
     "text": [
      "'Loaded 44272 friends dictionary'\n",
      "tweepy.TweepError Not authorized.  from:  2\n"
     ]
    },
    {
     "name": "stderr",
     "output_type": "stream",
     "text": [
      "  5%|▍         | 4.83k/102k [7:42:15<756:40:14, 27.4s/Twitter friendship] "
     ]
    },
    {
     "name": "stdout",
     "output_type": "stream",
     "text": [
      "'Loaded 44289 friends dictionary'\n"
     ]
    },
    {
     "name": "stderr",
     "output_type": "stream",
     "text": [
      "  5%|▍         | 4.85k/102k [7:42:45<543:50:29, 19.7s/Twitter friendship]"
     ]
    },
    {
     "name": "stdout",
     "output_type": "stream",
     "text": [
      "'Loaded 44306 friends dictionary'\n",
      "tweepy.TweepError Not authorized.  from:  9\n",
      "tweepy.TweepError [{'code': 34, 'message': 'Sorry, that page does not exist.'}]  from:  11\n",
      "tweepy.TweepError Not authorized.  from:  15\n"
     ]
    },
    {
     "name": "stderr",
     "output_type": "stream",
     "text": [
      "  5%|▍         | 4.86k/102k [7:43:15<395:26:59, 14.3s/Twitter friendship]"
     ]
    },
    {
     "name": "stdout",
     "output_type": "stream",
     "text": [
      "'Loaded 44323 friends dictionary'\n"
     ]
    },
    {
     "name": "stderr",
     "output_type": "stream",
     "text": [
      "Rate limit reached. Sleeping for: 719\n",
      "  5%|▍         | 4.88k/102k [7:55:50<644:16:16, 23.4s/Twitter friendship]"
     ]
    },
    {
     "name": "stdout",
     "output_type": "stream",
     "text": [
      "'Loaded 44340 friends dictionary'\n",
      "tweepy.TweepError Not authorized.  from:  12\n"
     ]
    },
    {
     "name": "stderr",
     "output_type": "stream",
     "text": [
      "  5%|▍         | 4.90k/102k [7:56:34<472:30:24, 17.1s/Twitter friendship]"
     ]
    },
    {
     "name": "stdout",
     "output_type": "stream",
     "text": [
      "'Loaded 44357 friends dictionary'\n"
     ]
    },
    {
     "name": "stderr",
     "output_type": "stream",
     "text": [
      "  5%|▍         | 4.91k/102k [7:56:59<342:27:32, 12.4s/Twitter friendship]"
     ]
    },
    {
     "name": "stdout",
     "output_type": "stream",
     "text": [
      "'Loaded 44374 friends dictionary'\n"
     ]
    },
    {
     "name": "stderr",
     "output_type": "stream",
     "text": [
      "  5%|▍         | 4.93k/102k [7:57:36<257:56:58, 9.36s/Twitter friendship]"
     ]
    },
    {
     "name": "stdout",
     "output_type": "stream",
     "text": [
      "'Loaded 44391 friends dictionary'\n",
      "tweepy.TweepError Not authorized.  from:  11\n"
     ]
    },
    {
     "name": "stderr",
     "output_type": "stream",
     "text": [
      "  5%|▍         | 4.95k/102k [7:58:04<194:10:04, 7.04s/Twitter friendship]"
     ]
    },
    {
     "name": "stdout",
     "output_type": "stream",
     "text": [
      "'Loaded 44408 friends dictionary'\n",
      "tweepy.TweepError Not authorized.  from:  7\n",
      "tweepy.TweepError Not authorized.  from:  15\n"
     ]
    },
    {
     "name": "stderr",
     "output_type": "stream",
     "text": [
      "  5%|▍         | 4.96k/102k [7:58:51<158:52:35, 5.76s/Twitter friendship]"
     ]
    },
    {
     "name": "stdout",
     "output_type": "stream",
     "text": [
      "'Loaded 44425 friends dictionary'\n"
     ]
    },
    {
     "name": "stderr",
     "output_type": "stream",
     "text": [
      "Rate limit reached. Sleeping for: 690\n"
     ]
    },
    {
     "name": "stdout",
     "output_type": "stream",
     "text": [
      "tweepy.TweepError [{'code': 34, 'message': 'Sorry, that page does not exist.'}]  from:  14\n"
     ]
    },
    {
     "name": "stderr",
     "output_type": "stream",
     "text": [
      "  5%|▍         | 4.98k/102k [8:10:53<461:55:22, 16.8s/Twitter friendship]"
     ]
    },
    {
     "name": "stdout",
     "output_type": "stream",
     "text": [
      "'Loaded 44442 friends dictionary'\n"
     ]
    },
    {
     "name": "stderr",
     "output_type": "stream",
     "text": [
      "  5%|▍         | 5.00k/102k [8:11:42<347:09:33, 12.6s/Twitter friendship]"
     ]
    },
    {
     "name": "stdout",
     "output_type": "stream",
     "text": [
      "'Loaded 44459 friends dictionary'\n"
     ]
    },
    {
     "name": "stderr",
     "output_type": "stream",
     "text": [
      "  5%|▍         | 5.01k/102k [8:12:11<257:21:08, 9.34s/Twitter friendship]"
     ]
    },
    {
     "name": "stdout",
     "output_type": "stream",
     "text": [
      "'Loaded 44476 friends dictionary'\n"
     ]
    },
    {
     "name": "stderr",
     "output_type": "stream",
     "text": [
      "  5%|▍         | 5.03k/102k [8:12:58<202:40:44, 7.36s/Twitter friendship]"
     ]
    },
    {
     "name": "stdout",
     "output_type": "stream",
     "text": [
      "'Loaded 44493 friends dictionary'\n",
      "tweepy.TweepError [{'code': 34, 'message': 'Sorry, that page does not exist.'}]  from:  0\n"
     ]
    },
    {
     "name": "stderr",
     "output_type": "stream",
     "text": [
      "  5%|▍         | 5.05k/102k [8:13:23<154:18:58, 5.60s/Twitter friendship]"
     ]
    },
    {
     "name": "stdout",
     "output_type": "stream",
     "text": [
      "'Loaded 44510 friends dictionary'\n"
     ]
    },
    {
     "name": "stderr",
     "output_type": "stream",
     "text": [
      "  5%|▍         | 5.06k/102k [8:14:09<130:15:12, 4.73s/Twitter friendship]"
     ]
    },
    {
     "name": "stdout",
     "output_type": "stream",
     "text": [
      "'Loaded 44527 friends dictionary'\n"
     ]
    },
    {
     "name": "stderr",
     "output_type": "stream",
     "text": [
      "  5%|▍         | 5.08k/102k [8:14:36<104:07:33, 3.78s/Twitter friendship]"
     ]
    },
    {
     "name": "stdout",
     "output_type": "stream",
     "text": [
      "'Loaded 44544 friends dictionary'\n"
     ]
    },
    {
     "name": "stderr",
     "output_type": "stream",
     "text": [
      "  5%|▌         | 5.10k/102k [8:15:24<96:10:56, 3.49s/Twitter friendship] "
     ]
    },
    {
     "name": "stdout",
     "output_type": "stream",
     "text": [
      "'Loaded 44561 friends dictionary'\n",
      "tweepy.TweepError [{'code': 34, 'message': 'Sorry, that page does not exist.'}]  from:  14\n"
     ]
    },
    {
     "name": "stderr",
     "output_type": "stream",
     "text": [
      "  5%|▌         | 5.11k/102k [8:15:48<79:11:50, 2.88s/Twitter friendship]"
     ]
    },
    {
     "name": "stdout",
     "output_type": "stream",
     "text": [
      "'Loaded 44578 friends dictionary'\n",
      "tweepy.TweepError Not authorized.  from:  10\n"
     ]
    },
    {
     "name": "stderr",
     "output_type": "stream",
     "text": [
      "  5%|▌         | 5.13k/102k [8:16:35<78:12:38, 2.84s/Twitter friendship]"
     ]
    },
    {
     "name": "stdout",
     "output_type": "stream",
     "text": [
      "'Loaded 44595 friends dictionary'\n"
     ]
    },
    {
     "name": "stderr",
     "output_type": "stream",
     "text": [
      "  5%|▌         | 5.15k/102k [8:17:00<66:34:56, 2.42s/Twitter friendship]"
     ]
    },
    {
     "name": "stdout",
     "output_type": "stream",
     "text": [
      "'Loaded 44612 friends dictionary'\n"
     ]
    },
    {
     "name": "stderr",
     "output_type": "stream",
     "text": [
      "  5%|▌         | 5.16k/102k [8:17:45<68:45:27, 2.50s/Twitter friendship]"
     ]
    },
    {
     "name": "stdout",
     "output_type": "stream",
     "text": [
      "'Loaded 44629 friends dictionary'\n"
     ]
    },
    {
     "name": "stderr",
     "output_type": "stream",
     "text": [
      "  5%|▌         | 5.18k/102k [8:18:10<59:58:47, 2.18s/Twitter friendship]"
     ]
    },
    {
     "name": "stdout",
     "output_type": "stream",
     "text": [
      "'Loaded 44646 friends dictionary'\n",
      "tweepy.TweepError Not authorized.  from:  13\n"
     ]
    },
    {
     "name": "stderr",
     "output_type": "stream",
     "text": [
      "  5%|▌         | 5.20k/102k [8:18:59<65:46:32, 2.39s/Twitter friendship]"
     ]
    },
    {
     "name": "stdout",
     "output_type": "stream",
     "text": [
      "'Loaded 44663 friends dictionary'\n"
     ]
    },
    {
     "name": "stderr",
     "output_type": "stream",
     "text": [
      "  5%|▌         | 5.21k/102k [8:19:22<57:25:43, 2.09s/Twitter friendship]"
     ]
    },
    {
     "name": "stdout",
     "output_type": "stream",
     "text": [
      "'Loaded 44680 friends dictionary'\n"
     ]
    },
    {
     "name": "stderr",
     "output_type": "stream",
     "text": [
      "Rate limit reached. Sleeping for: 388\n"
     ]
    },
    {
     "name": "stdout",
     "output_type": "stream",
     "text": [
      "tweepy.TweepError Not authorized.  from:  4\n"
     ]
    },
    {
     "name": "stderr",
     "output_type": "stream",
     "text": [
      "  5%|▌         | 5.23k/102k [8:26:47<255:52:05, 9.31s/Twitter friendship]"
     ]
    },
    {
     "name": "stdout",
     "output_type": "stream",
     "text": [
      "'Loaded 44697 friends dictionary'\n"
     ]
    },
    {
     "name": "stderr",
     "output_type": "stream",
     "text": [
      "  5%|▌         | 5.25k/102k [8:27:18<194:15:15, 7.07s/Twitter friendship]"
     ]
    },
    {
     "name": "stdout",
     "output_type": "stream",
     "text": [
      "'Loaded 44714 friends dictionary'\n",
      "tweepy.TweepError Not authorized.  from:  12\n"
     ]
    },
    {
     "name": "stderr",
     "output_type": "stream",
     "text": [
      "  5%|▌         | 5.26k/102k [8:28:08<159:53:19, 5.82s/Twitter friendship]"
     ]
    },
    {
     "name": "stdout",
     "output_type": "stream",
     "text": [
      "'Loaded 44731 friends dictionary'\n",
      "tweepy.TweepError Not authorized.  from:  3\n",
      "tweepy.TweepError Not authorized.  from:  8\n"
     ]
    },
    {
     "name": "stderr",
     "output_type": "stream",
     "text": [
      "  5%|▌         | 5.28k/102k [8:28:31<123:27:54, 4.49s/Twitter friendship]"
     ]
    },
    {
     "name": "stdout",
     "output_type": "stream",
     "text": [
      "'Loaded 44748 friends dictionary'\n"
     ]
    },
    {
     "name": "stderr",
     "output_type": "stream",
     "text": [
      "Rate limit reached. Sleeping for: 744\n",
      "  5%|▌         | 5.30k/102k [8:41:53<474:47:20, 17.3s/Twitter friendship]"
     ]
    },
    {
     "name": "stdout",
     "output_type": "stream",
     "text": [
      "'Loaded 44765 friends dictionary'\n"
     ]
    },
    {
     "name": "stderr",
     "output_type": "stream",
     "text": [
      "  5%|▌         | 5.31k/102k [8:42:23<346:59:15, 12.6s/Twitter friendship]"
     ]
    },
    {
     "name": "stdout",
     "output_type": "stream",
     "text": [
      "tweepy.TweepError Not authorized.  from:  16\n",
      "'Loaded 44782 friends dictionary'\n"
     ]
    },
    {
     "name": "stderr",
     "output_type": "stream",
     "text": [
      "  5%|▌         | 5.33k/102k [8:43:15<267:54:18, 9.76s/Twitter friendship]"
     ]
    },
    {
     "name": "stdout",
     "output_type": "stream",
     "text": [
      "'Loaded 44799 friends dictionary'\n"
     ]
    },
    {
     "name": "stderr",
     "output_type": "stream",
     "text": [
      "  5%|▌         | 5.35k/102k [8:43:44<201:38:05, 7.35s/Twitter friendship]"
     ]
    },
    {
     "name": "stdout",
     "output_type": "stream",
     "text": [
      "'Loaded 44816 friends dictionary'\n",
      "tweepy.TweepError Not authorized.  from:  15\n"
     ]
    },
    {
     "name": "stderr",
     "output_type": "stream",
     "text": [
      "  5%|▌         | 5.36k/102k [8:44:39<167:47:08, 6.11s/Twitter friendship]"
     ]
    },
    {
     "name": "stdout",
     "output_type": "stream",
     "text": [
      "'Loaded 44833 friends dictionary'\n"
     ]
    },
    {
     "name": "stderr",
     "output_type": "stream",
     "text": [
      "  5%|▌         | 5.38k/102k [8:45:10<132:18:05, 4.82s/Twitter friendship]"
     ]
    },
    {
     "name": "stdout",
     "output_type": "stream",
     "text": [
      "'Loaded 44850 friends dictionary'\n",
      "tweepy.TweepError Not authorized.  from:  1\n",
      "tweepy.TweepError Not authorized.  from:  13\n"
     ]
    },
    {
     "name": "stderr",
     "output_type": "stream",
     "text": [
      "  5%|▌         | 5.40k/102k [8:46:00<116:49:50, 4.26s/Twitter friendship]"
     ]
    },
    {
     "name": "stdout",
     "output_type": "stream",
     "text": [
      "'Loaded 44867 friends dictionary'\n"
     ]
    },
    {
     "name": "stderr",
     "output_type": "stream",
     "text": [
      "  5%|▌         | 5.41k/102k [8:46:26<94:19:26, 3.44s/Twitter friendship] "
     ]
    },
    {
     "name": "stdout",
     "output_type": "stream",
     "text": [
      "'Loaded 44884 friends dictionary'\n",
      "tweepy.TweepError Not authorized.  from:  11\n"
     ]
    },
    {
     "name": "stderr",
     "output_type": "stream",
     "text": [
      "  5%|▌         | 5.43k/102k [8:47:14<89:20:36, 3.26s/Twitter friendship]"
     ]
    },
    {
     "name": "stdout",
     "output_type": "stream",
     "text": [
      "'Loaded 44901 friends dictionary'\n",
      "tweepy.TweepError Not authorized.  from:  13\n",
      "tweepy.TweepError Not authorized.  from:  15\n"
     ]
    },
    {
     "name": "stderr",
     "output_type": "stream",
     "text": [
      "  5%|▌         | 5.45k/102k [8:47:38<74:11:36, 2.71s/Twitter friendship]"
     ]
    },
    {
     "name": "stdout",
     "output_type": "stream",
     "text": [
      "'Loaded 44918 friends dictionary'\n"
     ]
    },
    {
     "name": "stderr",
     "output_type": "stream",
     "text": [
      "  5%|▌         | 5.46k/102k [8:48:28<76:01:50, 2.77s/Twitter friendship]"
     ]
    },
    {
     "name": "stdout",
     "output_type": "stream",
     "text": [
      "'Loaded 44935 friends dictionary'\n"
     ]
    },
    {
     "name": "stderr",
     "output_type": "stream",
     "text": [
      "  5%|▌         | 5.48k/102k [8:48:51<64:37:57, 2.36s/Twitter friendship]"
     ]
    },
    {
     "name": "stdout",
     "output_type": "stream",
     "text": [
      "'Loaded 44952 friends dictionary'\n"
     ]
    },
    {
     "name": "stderr",
     "output_type": "stream",
     "text": [
      "Rate limit reached. Sleeping for: 432\n",
      "  5%|▌         | 5.50k/102k [8:56:56<279:48:06, 10.2s/Twitter friendship]"
     ]
    },
    {
     "name": "stdout",
     "output_type": "stream",
     "text": [
      "'Loaded 44969 friends dictionary'\n"
     ]
    },
    {
     "name": "stderr",
     "output_type": "stream",
     "text": [
      "  5%|▌         | 5.51k/102k [8:57:28<211:05:24, 7.70s/Twitter friendship]"
     ]
    },
    {
     "name": "stdout",
     "output_type": "stream",
     "text": [
      "tweepy.TweepError Not authorized.  from:  16\n",
      "'Loaded 44986 friends dictionary'\n",
      "tweepy.TweepError Not authorized.  from:  3\n",
      "tweepy.TweepError Not authorized.  from:  10\n"
     ]
    },
    {
     "name": "stderr",
     "output_type": "stream",
     "text": [
      "  5%|▌         | 5.53k/102k [8:58:19<172:24:48, 6.29s/Twitter friendship]"
     ]
    },
    {
     "name": "stdout",
     "output_type": "stream",
     "text": [
      "'Loaded 45003 friends dictionary'\n"
     ]
    },
    {
     "name": "stderr",
     "output_type": "stream",
     "text": [
      "  5%|▌         | 5.54k/102k [8:58:46<133:44:26, 4.88s/Twitter friendship]"
     ]
    },
    {
     "name": "stdout",
     "output_type": "stream",
     "text": [
      "'Loaded 45020 friends dictionary'\n"
     ]
    },
    {
     "name": "stderr",
     "output_type": "stream",
     "text": [
      "  5%|▌         | 5.56k/102k [8:59:40<119:26:28, 4.36s/Twitter friendship]"
     ]
    },
    {
     "name": "stdout",
     "output_type": "stream",
     "text": [
      "'Loaded 45037 friends dictionary'\n",
      "tweepy.TweepError Not authorized.  from:  14\n"
     ]
    },
    {
     "name": "stderr",
     "output_type": "stream",
     "text": [
      "  5%|▌         | 5.58k/102k [9:00:06<96:25:21, 3.52s/Twitter friendship] "
     ]
    },
    {
     "name": "stdout",
     "output_type": "stream",
     "text": [
      "'Loaded 45054 friends dictionary'\n",
      "tweepy.TweepError Not authorized.  from:  5\n"
     ]
    },
    {
     "name": "stderr",
     "output_type": "stream",
     "text": [
      "  5%|▌         | 5.59k/102k [9:00:57<92:07:11, 3.36s/Twitter friendship]"
     ]
    },
    {
     "name": "stdout",
     "output_type": "stream",
     "text": [
      "tweepy.TweepError Not authorized.  from:  16\n",
      "'Loaded 45071 friends dictionary'\n"
     ]
    },
    {
     "name": "stderr",
     "output_type": "stream",
     "text": [
      "  6%|▌         | 5.61k/102k [9:01:22<76:43:45, 2.80s/Twitter friendship]"
     ]
    },
    {
     "name": "stdout",
     "output_type": "stream",
     "text": [
      "'Loaded 45088 friends dictionary'\n",
      "tweepy.TweepError Not authorized.  from:  15\n"
     ]
    },
    {
     "name": "stderr",
     "output_type": "stream",
     "text": [
      "  6%|▌         | 5.63k/102k [9:02:11<77:14:57, 2.82s/Twitter friendship]"
     ]
    },
    {
     "name": "stdout",
     "output_type": "stream",
     "text": [
      "'Loaded 45105 friends dictionary'\n"
     ]
    },
    {
     "name": "stderr",
     "output_type": "stream",
     "text": [
      "  6%|▌         | 5.64k/102k [9:02:35<65:27:14, 2.39s/Twitter friendship]"
     ]
    },
    {
     "name": "stdout",
     "output_type": "stream",
     "text": [
      "'Loaded 45122 friends dictionary'\n"
     ]
    },
    {
     "name": "stderr",
     "output_type": "stream",
     "text": [
      "  6%|▌         | 5.66k/102k [9:03:22<68:50:56, 2.52s/Twitter friendship]"
     ]
    },
    {
     "name": "stdout",
     "output_type": "stream",
     "text": [
      "'Loaded 45139 friends dictionary'\n"
     ]
    },
    {
     "name": "stderr",
     "output_type": "stream",
     "text": [
      "  6%|▌         | 5.68k/102k [9:03:47<59:59:47, 2.19s/Twitter friendship]"
     ]
    },
    {
     "name": "stdout",
     "output_type": "stream",
     "text": [
      "'Loaded 45156 friends dictionary'\n"
     ]
    },
    {
     "name": "stderr",
     "output_type": "stream",
     "text": [
      "Rate limit reached. Sleeping for: 466\n",
      "  6%|▌         | 5.69k/102k [9:12:35<296:54:41, 10.9s/Twitter friendship]"
     ]
    },
    {
     "name": "stdout",
     "output_type": "stream",
     "text": [
      "'Loaded 45173 friends dictionary'\n",
      "tweepy.TweepError Not authorized.  from:  11\n"
     ]
    },
    {
     "name": "stderr",
     "output_type": "stream",
     "text": [
      "  6%|▌         | 5.71k/102k [9:13:07<222:59:15, 8.15s/Twitter friendship]"
     ]
    },
    {
     "name": "stdout",
     "output_type": "stream",
     "text": [
      "'Loaded 45190 friends dictionary'\n"
     ]
    },
    {
     "name": "stderr",
     "output_type": "stream",
     "text": [
      "  6%|▌         | 5.73k/102k [9:13:59<181:18:03, 6.63s/Twitter friendship]"
     ]
    },
    {
     "name": "stdout",
     "output_type": "stream",
     "text": [
      "'Loaded 45207 friends dictionary'\n",
      "tweepy.TweepError Not authorized.  from:  1\n"
     ]
    },
    {
     "name": "stderr",
     "output_type": "stream",
     "text": [
      "  6%|▌         | 5.74k/102k [9:14:24<139:14:35, 5.09s/Twitter friendship]"
     ]
    },
    {
     "name": "stdout",
     "output_type": "stream",
     "text": [
      "'Loaded 45224 friends dictionary'\n"
     ]
    },
    {
     "name": "stderr",
     "output_type": "stream",
     "text": [
      "  6%|▌         | 5.76k/102k [9:15:20<124:21:22, 4.55s/Twitter friendship]"
     ]
    },
    {
     "name": "stdout",
     "output_type": "stream",
     "text": [
      "'Loaded 45241 friends dictionary'\n",
      "tweepy.TweepError Not authorized.  from:  3\n",
      "tweepy.TweepError Not authorized.  from:  4\n"
     ]
    },
    {
     "name": "stderr",
     "output_type": "stream",
     "text": [
      "  6%|▌         | 5.78k/102k [9:15:46<99:33:26, 3.64s/Twitter friendship] "
     ]
    },
    {
     "name": "stdout",
     "output_type": "stream",
     "text": [
      "'Loaded 45258 friends dictionary'\n",
      "tweepy.TweepError Not authorized.  from:  8\n"
     ]
    },
    {
     "name": "stderr",
     "output_type": "stream",
     "text": [
      "  6%|▌         | 5.79k/102k [9:16:38<94:31:26, 3.46s/Twitter friendship]"
     ]
    },
    {
     "name": "stdout",
     "output_type": "stream",
     "text": [
      "'Loaded 45275 friends dictionary'\n"
     ]
    },
    {
     "name": "stderr",
     "output_type": "stream",
     "text": [
      "  6%|▌         | 5.81k/102k [9:17:03<78:15:07, 2.86s/Twitter friendship]"
     ]
    },
    {
     "name": "stdout",
     "output_type": "stream",
     "text": [
      "'Loaded 45292 friends dictionary'\n",
      "tweepy.TweepError Not authorized.  from:  15\n"
     ]
    },
    {
     "name": "stderr",
     "output_type": "stream",
     "text": [
      "  6%|▌         | 5.83k/102k [9:17:56<80:10:08, 2.94s/Twitter friendship]"
     ]
    },
    {
     "name": "stdout",
     "output_type": "stream",
     "text": [
      "'Loaded 45309 friends dictionary'\n"
     ]
    },
    {
     "name": "stderr",
     "output_type": "stream",
     "text": [
      "Rate limit reached. Sleeping for: 551\n",
      "  6%|▌         | 5.84k/102k [9:27:38<336:58:47, 12.3s/Twitter friendship]"
     ]
    },
    {
     "name": "stdout",
     "output_type": "stream",
     "text": [
      "'Loaded 45326 friends dictionary'\n"
     ]
    },
    {
     "name": "stderr",
     "output_type": "stream",
     "text": [
      "  6%|▌         | 5.86k/102k [9:28:42<266:20:51, 9.75s/Twitter friendship]"
     ]
    },
    {
     "name": "stdout",
     "output_type": "stream",
     "text": [
      "tweepy.TweepError Not authorized.  from:  16\n",
      "'Loaded 45343 friends dictionary'\n"
     ]
    },
    {
     "name": "stderr",
     "output_type": "stream",
     "text": [
      "  6%|▌         | 5.88k/102k [9:29:22<205:56:37, 7.54s/Twitter friendship]"
     ]
    },
    {
     "name": "stdout",
     "output_type": "stream",
     "text": [
      "'Loaded 45360 friends dictionary'\n",
      "tweepy.TweepError Not authorized.  from:  0\n"
     ]
    },
    {
     "name": "stderr",
     "output_type": "stream",
     "text": [
      "  6%|▌         | 5.89k/102k [9:30:17<170:40:19, 6.25s/Twitter friendship]"
     ]
    },
    {
     "name": "stdout",
     "output_type": "stream",
     "text": [
      "'Loaded 45377 friends dictionary'\n"
     ]
    },
    {
     "name": "stderr",
     "output_type": "stream",
     "text": [
      "  6%|▌         | 5.91k/102k [9:30:45<132:33:35, 4.86s/Twitter friendship]"
     ]
    },
    {
     "name": "stdout",
     "output_type": "stream",
     "text": [
      "'Loaded 45394 friends dictionary'\n"
     ]
    },
    {
     "name": "stderr",
     "output_type": "stream",
     "text": [
      "  6%|▌         | 5.93k/102k [9:31:37<118:13:05, 4.33s/Twitter friendship]"
     ]
    },
    {
     "name": "stdout",
     "output_type": "stream",
     "text": [
      "'Loaded 45411 friends dictionary'\n"
     ]
    },
    {
     "name": "stderr",
     "output_type": "stream",
     "text": [
      "  6%|▌         | 5.94k/102k [9:32:01<94:00:23, 3.45s/Twitter friendship] "
     ]
    },
    {
     "name": "stdout",
     "output_type": "stream",
     "text": [
      "'Loaded 45428 friends dictionary'\n"
     ]
    },
    {
     "name": "stderr",
     "output_type": "stream",
     "text": [
      "  6%|▌         | 5.96k/102k [9:32:54<91:35:18, 3.36s/Twitter friendship]"
     ]
    },
    {
     "name": "stdout",
     "output_type": "stream",
     "text": [
      "'Loaded 45445 friends dictionary'\n",
      "tweepy.TweepError Not authorized.  from:  4\n"
     ]
    },
    {
     "name": "stderr",
     "output_type": "stream",
     "text": [
      "  6%|▌         | 5.98k/102k [9:33:19<76:10:52, 2.79s/Twitter friendship]"
     ]
    },
    {
     "name": "stdout",
     "output_type": "stream",
     "text": [
      "'Loaded 45462 friends dictionary'\n"
     ]
    },
    {
     "name": "stderr",
     "output_type": "stream",
     "text": [
      "Rate limit reached. Sleeping for: 573\n",
      "  6%|▌         | 5.99k/102k [9:43:48<355:35:18, 13.0s/Twitter friendship]"
     ]
    },
    {
     "name": "stdout",
     "output_type": "stream",
     "text": [
      "'Loaded 45479 friends dictionary'\n"
     ]
    },
    {
     "name": "stderr",
     "output_type": "stream",
     "text": [
      "  6%|▌         | 6.01k/102k [9:44:21<265:04:51, 9.72s/Twitter friendship]"
     ]
    },
    {
     "name": "stdout",
     "output_type": "stream",
     "text": [
      "'Loaded 45496 friends dictionary'\n"
     ]
    },
    {
     "name": "stderr",
     "output_type": "stream",
     "text": [
      "  6%|▌         | 6.03k/102k [9:45:15<211:33:59, 7.76s/Twitter friendship]"
     ]
    },
    {
     "name": "stdout",
     "output_type": "stream",
     "text": [
      "'Loaded 45513 friends dictionary'\n",
      "tweepy.TweepError [{'code': 34, 'message': 'Sorry, that page does not exist.'}]  from:  2\n"
     ]
    },
    {
     "name": "stderr",
     "output_type": "stream",
     "text": [
      "  6%|▌         | 6.04k/102k [9:45:45<162:05:59, 5.95s/Twitter friendship]"
     ]
    },
    {
     "name": "stdout",
     "output_type": "stream",
     "text": [
      "'Loaded 45530 friends dictionary'\n"
     ]
    },
    {
     "name": "stderr",
     "output_type": "stream",
     "text": [
      "  6%|▌         | 6.06k/102k [9:46:35<137:25:33, 5.04s/Twitter friendship]"
     ]
    },
    {
     "name": "stdout",
     "output_type": "stream",
     "text": [
      "'Loaded 45547 friends dictionary'\n"
     ]
    },
    {
     "name": "stderr",
     "output_type": "stream",
     "text": [
      "  6%|▌         | 6.08k/102k [9:47:00<108:13:05, 3.97s/Twitter friendship]"
     ]
    },
    {
     "name": "stdout",
     "output_type": "stream",
     "text": [
      "'Loaded 45564 friends dictionary'\n",
      "tweepy.TweepError [{'code': 34, 'message': 'Sorry, that page does not exist.'}]  from:  1\n"
     ]
    },
    {
     "name": "stderr",
     "output_type": "stream",
     "text": [
      "  6%|▌         | 6.09k/102k [9:47:50<99:57:10, 3.67s/Twitter friendship] "
     ]
    },
    {
     "name": "stdout",
     "output_type": "stream",
     "text": [
      "'Loaded 45581 friends dictionary'\n"
     ]
    },
    {
     "name": "stderr",
     "output_type": "stream",
     "text": [
      "  6%|▌         | 6.11k/102k [9:48:15<81:47:51, 3.00s/Twitter friendship]"
     ]
    },
    {
     "name": "stdout",
     "output_type": "stream",
     "text": [
      "tweepy.TweepError [{'code': 34, 'message': 'Sorry, that page does not exist.'}]  from:  16\n",
      "'Loaded 45598 friends dictionary'\n",
      "tweepy.TweepError Not authorized.  from:  11\n"
     ]
    },
    {
     "name": "stderr",
     "output_type": "stream",
     "text": [
      "  6%|▌         | 6.13k/102k [9:48:58<78:20:55, 2.88s/Twitter friendship]"
     ]
    },
    {
     "name": "stdout",
     "output_type": "stream",
     "text": [
      "'Loaded 45615 friends dictionary'\n"
     ]
    },
    {
     "name": "stderr",
     "output_type": "stream",
     "text": [
      "  6%|▌         | 6.14k/102k [9:49:22<66:11:54, 2.43s/Twitter friendship]"
     ]
    },
    {
     "name": "stdout",
     "output_type": "stream",
     "text": [
      "'Loaded 45632 friends dictionary'\n"
     ]
    },
    {
     "name": "stderr",
     "output_type": "stream",
     "text": [
      "  6%|▌         | 6.16k/102k [9:50:15<71:39:08, 2.63s/Twitter friendship]"
     ]
    },
    {
     "name": "stdout",
     "output_type": "stream",
     "text": [
      "'Loaded 45649 friends dictionary'\n"
     ]
    },
    {
     "name": "stderr",
     "output_type": "stream",
     "text": [
      "  6%|▌         | 6.18k/102k [9:50:40<62:22:08, 2.29s/Twitter friendship]"
     ]
    },
    {
     "name": "stdout",
     "output_type": "stream",
     "text": [
      "'Loaded 45666 friends dictionary'\n"
     ]
    },
    {
     "name": "stderr",
     "output_type": "stream",
     "text": [
      "  6%|▌         | 6.19k/102k [9:51:32<68:18:10, 2.51s/Twitter friendship]"
     ]
    },
    {
     "name": "stdout",
     "output_type": "stream",
     "text": [
      "'Loaded 45683 friends dictionary'\n"
     ]
    },
    {
     "name": "stderr",
     "output_type": "stream",
     "text": [
      "Rate limit reached. Sleeping for: 411\n",
      "  6%|▌         | 6.21k/102k [9:58:54<259:56:31, 9.55s/Twitter friendship]"
     ]
    },
    {
     "name": "stdout",
     "output_type": "stream",
     "text": [
      "'Loaded 45700 friends dictionary'\n"
     ]
    },
    {
     "name": "stderr",
     "output_type": "stream",
     "text": [
      "  6%|▌         | 6.23k/102k [9:59:49<208:29:53, 7.67s/Twitter friendship]"
     ]
    },
    {
     "name": "stdout",
     "output_type": "stream",
     "text": [
      "'Loaded 45717 friends dictionary'\n"
     ]
    },
    {
     "name": "stderr",
     "output_type": "stream",
     "text": [
      "  6%|▌         | 6.24k/102k [10:00:13<157:30:47, 5.79s/Twitter friendship]"
     ]
    },
    {
     "name": "stdout",
     "output_type": "stream",
     "text": [
      "tweepy.TweepError [{'code': 34, 'message': 'Sorry, that page does not exist.'}]  from:  16\n",
      "'Loaded 45734 friends dictionary'\n"
     ]
    },
    {
     "name": "stderr",
     "output_type": "stream",
     "text": [
      "  6%|▌         | 6.26k/102k [10:01:07<136:13:53, 5.01s/Twitter friendship]"
     ]
    },
    {
     "name": "stdout",
     "output_type": "stream",
     "text": [
      "'Loaded 45751 friends dictionary'\n"
     ]
    },
    {
     "name": "stderr",
     "output_type": "stream",
     "text": [
      "  6%|▌         | 6.28k/102k [10:01:35<108:34:27, 3.99s/Twitter friendship]"
     ]
    },
    {
     "name": "stdout",
     "output_type": "stream",
     "text": [
      "'Loaded 45768 friends dictionary'\n"
     ]
    },
    {
     "name": "stderr",
     "output_type": "stream",
     "text": [
      "  6%|▌         | 6.29k/102k [10:02:25<100:09:27, 3.68s/Twitter friendship]"
     ]
    },
    {
     "name": "stdout",
     "output_type": "stream",
     "text": [
      "'Loaded 45785 friends dictionary'\n"
     ]
    },
    {
     "name": "stderr",
     "output_type": "stream",
     "text": [
      "  6%|▌         | 6.31k/102k [10:02:50<82:13:31, 3.03s/Twitter friendship] "
     ]
    },
    {
     "name": "stdout",
     "output_type": "stream",
     "text": [
      "'Loaded 45802 friends dictionary'\n"
     ]
    },
    {
     "name": "stderr",
     "output_type": "stream",
     "text": [
      "  6%|▌         | 6.33k/102k [10:03:44<83:00:07, 3.05s/Twitter friendship]"
     ]
    },
    {
     "name": "stdout",
     "output_type": "stream",
     "text": [
      "'Loaded 45819 friends dictionary'\n"
     ]
    },
    {
     "name": "stderr",
     "output_type": "stream",
     "text": [
      "  6%|▌         | 6.34k/102k [10:04:09<70:24:22, 2.59s/Twitter friendship]"
     ]
    },
    {
     "name": "stdout",
     "output_type": "stream",
     "text": [
      "'Loaded 45836 friends dictionary'\n"
     ]
    },
    {
     "name": "stderr",
     "output_type": "stream",
     "text": [
      "  6%|▌         | 6.36k/102k [10:05:04<75:38:59, 2.79s/Twitter friendship]"
     ]
    },
    {
     "name": "stdout",
     "output_type": "stream",
     "text": [
      "'Loaded 45853 friends dictionary'\n"
     ]
    },
    {
     "name": "stderr",
     "output_type": "stream",
     "text": [
      "  6%|▋         | 6.38k/102k [10:05:30<65:24:35, 2.41s/Twitter friendship]"
     ]
    },
    {
     "name": "stdout",
     "output_type": "stream",
     "text": [
      "'Loaded 45870 friends dictionary'\n"
     ]
    },
    {
     "name": "stderr",
     "output_type": "stream",
     "text": [
      "  6%|▋         | 6.39k/102k [10:06:23<71:13:33, 2.62s/Twitter friendship]"
     ]
    },
    {
     "name": "stdout",
     "output_type": "stream",
     "text": [
      "'Loaded 45887 friends dictionary'\n"
     ]
    },
    {
     "name": "stderr",
     "output_type": "stream",
     "text": [
      "  6%|▋         | 6.41k/102k [10:06:50<62:50:36, 2.31s/Twitter friendship]"
     ]
    },
    {
     "name": "stdout",
     "output_type": "stream",
     "text": [
      "'Loaded 45904 friends dictionary'\n"
     ]
    },
    {
     "name": "stderr",
     "output_type": "stream",
     "text": [
      "Rate limit reached. Sleeping for: 371\n"
     ]
    },
    {
     "name": "stdout",
     "output_type": "stream",
     "text": [
      "tweepy.TweepError Not authorized.  from:  7\n"
     ]
    },
    {
     "name": "stderr",
     "output_type": "stream",
     "text": [
      "  6%|▋         | 6.42k/102k [10:13:58<248:45:27, 9.16s/Twitter friendship]"
     ]
    },
    {
     "name": "stdout",
     "output_type": "stream",
     "text": [
      "'Loaded 45921 friends dictionary'\n"
     ]
    },
    {
     "name": "stderr",
     "output_type": "stream",
     "text": [
      "Rate limit reached. Sleeping for: 15\n",
      "  6%|▋         | 6.44k/102k [10:14:54<200:53:45, 7.40s/Twitter friendship]"
     ]
    },
    {
     "name": "stdout",
     "output_type": "stream",
     "text": [
      "'Loaded 45938 friends dictionary'\n"
     ]
    },
    {
     "name": "stderr",
     "output_type": "stream",
     "text": [
      "  6%|▋         | 6.46k/102k [10:15:48<166:22:17, 6.13s/Twitter friendship]"
     ]
    },
    {
     "name": "stdout",
     "output_type": "stream",
     "text": [
      "'Loaded 45955 friends dictionary'\n"
     ]
    },
    {
     "name": "stderr",
     "output_type": "stream",
     "text": [
      "  6%|▋         | 6.47k/102k [10:16:12<128:16:10, 4.73s/Twitter friendship]"
     ]
    },
    {
     "name": "stdout",
     "output_type": "stream",
     "text": [
      "'Loaded 45972 friends dictionary'\n",
      "tweepy.TweepError Not authorized.  from:  3\n"
     ]
    },
    {
     "name": "stderr",
     "output_type": "stream",
     "text": [
      "  6%|▋         | 6.49k/102k [10:17:04<114:25:27, 4.22s/Twitter friendship]"
     ]
    },
    {
     "name": "stdout",
     "output_type": "stream",
     "text": [
      "'Loaded 45989 friends dictionary'\n"
     ]
    },
    {
     "name": "stderr",
     "output_type": "stream",
     "text": [
      "  6%|▋         | 6.51k/102k [10:17:31<92:52:12, 3.42s/Twitter friendship] "
     ]
    },
    {
     "name": "stdout",
     "output_type": "stream",
     "text": [
      "'Loaded 46006 friends dictionary'\n"
     ]
    },
    {
     "name": "stderr",
     "output_type": "stream",
     "text": [
      "  6%|▋         | 6.52k/102k [10:18:24<90:36:56, 3.34s/Twitter friendship]"
     ]
    },
    {
     "name": "stdout",
     "output_type": "stream",
     "text": [
      "'Loaded 46023 friends dictionary'\n"
     ]
    },
    {
     "name": "stderr",
     "output_type": "stream",
     "text": [
      "  6%|▋         | 6.54k/102k [10:18:51<76:04:17, 2.81s/Twitter friendship]"
     ]
    },
    {
     "name": "stdout",
     "output_type": "stream",
     "text": [
      "'Loaded 46040 friends dictionary'\n"
     ]
    },
    {
     "name": "stderr",
     "output_type": "stream",
     "text": [
      "  6%|▋         | 6.56k/102k [10:19:39<76:35:13, 2.83s/Twitter friendship]"
     ]
    },
    {
     "name": "stdout",
     "output_type": "stream",
     "text": [
      "'Loaded 46057 friends dictionary'\n",
      "tweepy.TweepError [{'code': 34, 'message': 'Sorry, that page does not exist.'}]  from:  8\n"
     ]
    },
    {
     "name": "stderr",
     "output_type": "stream",
     "text": [
      "  6%|▋         | 6.57k/102k [10:20:04<65:33:40, 2.42s/Twitter friendship]"
     ]
    },
    {
     "name": "stdout",
     "output_type": "stream",
     "text": [
      "'Loaded 46074 friends dictionary'\n"
     ]
    },
    {
     "name": "stderr",
     "output_type": "stream",
     "text": [
      "  6%|▋         | 6.59k/102k [10:20:58<71:28:04, 2.64s/Twitter friendship]"
     ]
    },
    {
     "name": "stdout",
     "output_type": "stream",
     "text": [
      "'Loaded 46091 friends dictionary'\n"
     ]
    },
    {
     "name": "stderr",
     "output_type": "stream",
     "text": [
      "  6%|▋         | 6.61k/102k [10:21:27<64:06:03, 2.37s/Twitter friendship]"
     ]
    },
    {
     "name": "stdout",
     "output_type": "stream",
     "text": [
      "'Loaded 46108 friends dictionary'\n"
     ]
    },
    {
     "name": "stderr",
     "output_type": "stream",
     "text": [
      "  7%|▋         | 6.62k/102k [10:22:18<68:50:46, 2.54s/Twitter friendship]"
     ]
    },
    {
     "name": "stdout",
     "output_type": "stream",
     "text": [
      "'Loaded 46125 friends dictionary'\n"
     ]
    },
    {
     "name": "stderr",
     "output_type": "stream",
     "text": [
      "  7%|▋         | 6.64k/102k [10:22:43<60:24:37, 2.23s/Twitter friendship]"
     ]
    },
    {
     "name": "stdout",
     "output_type": "stream",
     "text": [
      "'Loaded 46142 friends dictionary'\n"
     ]
    },
    {
     "name": "stderr",
     "output_type": "stream",
     "text": [
      "Rate limit reached. Sleeping for: 321\n",
      "  7%|▋         | 6.66k/102k [10:29:03<223:50:39, 8.27s/Twitter friendship]"
     ]
    },
    {
     "name": "stdout",
     "output_type": "stream",
     "text": [
      "'Loaded 46159 friends dictionary'\n",
      "tweepy.TweepError [{'code': 34, 'message': 'Sorry, that page does not exist.'}]  from:  1\n"
     ]
    },
    {
     "name": "stderr",
     "output_type": "stream",
     "text": [
      "Rate limit reached. Sleeping for: 18\n"
     ]
    },
    {
     "name": "stdout",
     "output_type": "stream",
     "text": [
      "tweepy.TweepError Not authorized.  from:  7\n"
     ]
    },
    {
     "name": "stderr",
     "output_type": "stream",
     "text": [
      "  7%|▋         | 6.67k/102k [10:29:59<183:36:13, 6.78s/Twitter friendship]"
     ]
    },
    {
     "name": "stdout",
     "output_type": "stream",
     "text": [
      "tweepy.TweepError Not authorized.  from:  16\n",
      "'Loaded 46176 friends dictionary'\n",
      "tweepy.TweepError Not authorized.  from:  15\n"
     ]
    },
    {
     "name": "stderr",
     "output_type": "stream",
     "text": [
      "  7%|▋         | 6.69k/102k [10:30:54<154:34:31, 5.71s/Twitter friendship]"
     ]
    },
    {
     "name": "stdout",
     "output_type": "stream",
     "text": [
      "'Loaded 46193 friends dictionary'\n"
     ]
    },
    {
     "name": "stderr",
     "output_type": "stream",
     "text": [
      "  7%|▋         | 6.71k/102k [10:31:27<123:59:09, 4.58s/Twitter friendship]"
     ]
    },
    {
     "name": "stdout",
     "output_type": "stream",
     "text": [
      "'Loaded 46210 friends dictionary'\n"
     ]
    },
    {
     "name": "stderr",
     "output_type": "stream",
     "text": [
      "  7%|▋         | 6.72k/102k [10:32:17<110:33:47, 4.09s/Twitter friendship]"
     ]
    },
    {
     "name": "stdout",
     "output_type": "stream",
     "text": [
      "'Loaded 46227 friends dictionary'\n",
      "tweepy.TweepError Not authorized.  from:  13\n"
     ]
    },
    {
     "name": "stderr",
     "output_type": "stream",
     "text": [
      "  7%|▋         | 6.74k/102k [10:32:44<90:21:45, 3.34s/Twitter friendship] "
     ]
    },
    {
     "name": "stdout",
     "output_type": "stream",
     "text": [
      "'Loaded 46244 friends dictionary'\n"
     ]
    },
    {
     "name": "stderr",
     "output_type": "stream",
     "text": [
      "  7%|▋         | 6.76k/102k [10:33:31<85:48:19, 3.17s/Twitter friendship]"
     ]
    },
    {
     "name": "stdout",
     "output_type": "stream",
     "text": [
      "'Loaded 46261 friends dictionary'\n"
     ]
    },
    {
     "name": "stderr",
     "output_type": "stream",
     "text": [
      "  7%|▋         | 6.77k/102k [10:34:00<73:39:37, 2.72s/Twitter friendship]"
     ]
    },
    {
     "name": "stdout",
     "output_type": "stream",
     "text": [
      "'Loaded 46278 friends dictionary'\n"
     ]
    },
    {
     "name": "stderr",
     "output_type": "stream",
     "text": [
      "  7%|▋         | 6.79k/102k [10:34:47<74:11:45, 2.74s/Twitter friendship]"
     ]
    },
    {
     "name": "stdout",
     "output_type": "stream",
     "text": [
      "'Loaded 46295 friends dictionary'\n",
      "tweepy.TweepError [{'code': 34, 'message': 'Sorry, that page does not exist.'}]  from:  10\n"
     ]
    },
    {
     "name": "stderr",
     "output_type": "stream",
     "text": [
      "  7%|▋         | 6.81k/102k [10:35:15<64:55:16, 2.40s/Twitter friendship]"
     ]
    },
    {
     "name": "stdout",
     "output_type": "stream",
     "text": [
      "'Loaded 46312 friends dictionary'\n"
     ]
    },
    {
     "name": "stderr",
     "output_type": "stream",
     "text": [
      "  7%|▋         | 6.82k/102k [10:35:53<63:40:10, 2.36s/Twitter friendship]"
     ]
    },
    {
     "name": "stdout",
     "output_type": "stream",
     "text": [
      "'Loaded 46329 friends dictionary'\n"
     ]
    },
    {
     "name": "stderr",
     "output_type": "stream",
     "text": [
      "  7%|▋         | 6.84k/102k [10:36:20<57:38:35, 2.13s/Twitter friendship]"
     ]
    },
    {
     "name": "stdout",
     "output_type": "stream",
     "text": [
      "'Loaded 46346 friends dictionary'\n"
     ]
    },
    {
     "name": "stderr",
     "output_type": "stream",
     "text": [
      "  7%|▋         | 6.86k/102k [10:36:51<54:58:54, 2.03s/Twitter friendship]"
     ]
    },
    {
     "name": "stdout",
     "output_type": "stream",
     "text": [
      "'Loaded 46363 friends dictionary'\n",
      "tweepy.TweepError [{'code': 34, 'message': 'Sorry, that page does not exist.'}]  from:  11\n"
     ]
    },
    {
     "name": "stderr",
     "output_type": "stream",
     "text": [
      "  7%|▋         | 6.87k/102k [10:37:20<52:15:00, 1.93s/Twitter friendship]"
     ]
    },
    {
     "name": "stdout",
     "output_type": "stream",
     "text": [
      "tweepy.TweepError Not authorized.  from:  16\n",
      "'Loaded 46380 friends dictionary'\n",
      "tweepy.TweepError Not authorized.  from:  4\n"
     ]
    },
    {
     "name": "stderr",
     "output_type": "stream",
     "text": [
      "Rate limit reached. Sleeping for: 372\n"
     ]
    },
    {
     "name": "stdout",
     "output_type": "stream",
     "text": [
      "tweepy.TweepError [{'code': 34, 'message': 'Sorry, that page does not exist.'}]  from:  11\n"
     ]
    },
    {
     "name": "stderr",
     "output_type": "stream",
     "text": [
      "  7%|▋         | 6.89k/102k [10:44:08<231:19:37, 8.56s/Twitter friendship]"
     ]
    },
    {
     "name": "stdout",
     "output_type": "stream",
     "text": [
      "'Loaded 46397 friends dictionary'\n"
     ]
    },
    {
     "name": "stderr",
     "output_type": "stream",
     "text": [
      "Rate limit reached. Sleeping for: 18\n"
     ]
    },
    {
     "name": "stdout",
     "output_type": "stream",
     "text": [
      "tweepy.TweepError Not authorized.  from:  4\n"
     ]
    },
    {
     "name": "stderr",
     "output_type": "stream",
     "text": [
      "  7%|▋         | 6.91k/102k [10:45:04<188:14:02, 6.97s/Twitter friendship]"
     ]
    },
    {
     "name": "stdout",
     "output_type": "stream",
     "text": [
      "'Loaded 46414 friends dictionary'\n"
     ]
    },
    {
     "name": "stderr",
     "output_type": "stream",
     "text": [
      "  7%|▋         | 6.92k/102k [10:45:37<147:50:09, 5.47s/Twitter friendship]"
     ]
    },
    {
     "name": "stdout",
     "output_type": "stream",
     "text": [
      "'Loaded 46431 friends dictionary'\n"
     ]
    },
    {
     "name": "stderr",
     "output_type": "stream",
     "text": [
      "  7%|▋         | 6.94k/102k [10:46:05<116:37:23, 4.32s/Twitter friendship]"
     ]
    },
    {
     "name": "stdout",
     "output_type": "stream",
     "text": [
      "'Loaded 46448 friends dictionary'\n",
      "tweepy.TweepError Not authorized.  from:  10\n"
     ]
    },
    {
     "name": "stderr",
     "output_type": "stream",
     "text": [
      "  7%|▋         | 6.96k/102k [10:46:35<95:52:57, 3.55s/Twitter friendship] "
     ]
    },
    {
     "name": "stdout",
     "output_type": "stream",
     "text": [
      "'Loaded 46465 friends dictionary'\n",
      "tweepy.TweepError Not authorized.  from:  8\n"
     ]
    },
    {
     "name": "stderr",
     "output_type": "stream",
     "text": [
      "  7%|▋         | 6.97k/102k [10:47:06<81:51:21, 3.03s/Twitter friendship]"
     ]
    },
    {
     "name": "stdout",
     "output_type": "stream",
     "text": [
      "'Loaded 46482 friends dictionary'\n"
     ]
    },
    {
     "name": "stderr",
     "output_type": "stream",
     "text": [
      "  7%|▋         | 6.99k/102k [10:47:41<73:53:09, 2.74s/Twitter friendship]"
     ]
    },
    {
     "name": "stdout",
     "output_type": "stream",
     "text": [
      "'Loaded 46499 friends dictionary'\n",
      "tweepy.TweepError [{'code': 34, 'message': 'Sorry, that page does not exist.'}]  from:  7\n",
      "tweepy.TweepError Not authorized.  from:  9\n"
     ]
    },
    {
     "name": "stderr",
     "output_type": "stream",
     "text": [
      "  7%|▋         | 7.01k/102k [10:48:12<66:25:38, 2.46s/Twitter friendship]"
     ]
    },
    {
     "name": "stdout",
     "output_type": "stream",
     "text": [
      "'Loaded 46516 friends dictionary'\n"
     ]
    },
    {
     "name": "stderr",
     "output_type": "stream",
     "text": [
      "  7%|▋         | 7.02k/102k [10:48:40<59:52:10, 2.22s/Twitter friendship]"
     ]
    },
    {
     "name": "stdout",
     "output_type": "stream",
     "text": [
      "'Loaded 46533 friends dictionary'\n",
      "tweepy.TweepError Not authorized.  from:  5\n"
     ]
    },
    {
     "name": "stderr",
     "output_type": "stream",
     "text": [
      "  7%|▋         | 7.04k/102k [10:49:06<54:29:12, 2.02s/Twitter friendship]"
     ]
    },
    {
     "name": "stdout",
     "output_type": "stream",
     "text": [
      "tweepy.TweepError Not authorized.  from:  16\n",
      "'Loaded 46550 friends dictionary'\n"
     ]
    },
    {
     "name": "stderr",
     "output_type": "stream",
     "text": [
      "Rate limit reached. Sleeping for: 44\n",
      "  7%|▋         | 7.06k/102k [10:50:20<73:09:19, 2.71s/Twitter friendship]"
     ]
    },
    {
     "name": "stdout",
     "output_type": "stream",
     "text": [
      "'Loaded 46567 friends dictionary'\n"
     ]
    },
    {
     "name": "stderr",
     "output_type": "stream",
     "text": [
      "  7%|▋         | 7.07k/102k [10:51:14<76:50:06, 2.85s/Twitter friendship]"
     ]
    },
    {
     "name": "stdout",
     "output_type": "stream",
     "text": [
      "'Loaded 46584 friends dictionary'\n"
     ]
    },
    {
     "name": "stderr",
     "output_type": "stream",
     "text": [
      "  7%|▋         | 7.09k/102k [10:51:41<66:54:09, 2.48s/Twitter friendship]"
     ]
    },
    {
     "name": "stdout",
     "output_type": "stream",
     "text": [
      "'Loaded 46601 friends dictionary'\n",
      "tweepy.TweepError Not authorized.  from:  9\n",
      "tweepy.TweepError Not authorized.  from:  14\n"
     ]
    },
    {
     "name": "stderr",
     "output_type": "stream",
     "text": [
      "  7%|▋         | 7.11k/102k [10:52:31<70:28:53, 2.62s/Twitter friendship]"
     ]
    },
    {
     "name": "stdout",
     "output_type": "stream",
     "text": [
      "'Loaded 46618 friends dictionary'\n"
     ]
    },
    {
     "name": "stderr",
     "output_type": "stream",
     "text": [
      "Rate limit reached. Sleeping for: 423\n",
      "  7%|▋         | 7.12k/102k [11:00:10<267:25:08, 9.92s/Twitter friendship]"
     ]
    },
    {
     "name": "stdout",
     "output_type": "stream",
     "text": [
      "'Loaded 46635 friends dictionary'\n"
     ]
    },
    {
     "name": "stderr",
     "output_type": "stream",
     "text": [
      "  7%|▋         | 7.14k/102k [11:01:04<213:07:00, 7.91s/Twitter friendship]"
     ]
    },
    {
     "name": "stdout",
     "output_type": "stream",
     "text": [
      "'Loaded 46652 friends dictionary'\n"
     ]
    },
    {
     "name": "stderr",
     "output_type": "stream",
     "text": [
      "  7%|▋         | 7.16k/102k [11:01:35<163:28:58, 6.07s/Twitter friendship]"
     ]
    },
    {
     "name": "stdout",
     "output_type": "stream",
     "text": [
      "'Loaded 46669 friends dictionary'\n"
     ]
    },
    {
     "name": "stderr",
     "output_type": "stream",
     "text": [
      "  7%|▋         | 7.17k/102k [11:02:25<138:14:24, 5.13s/Twitter friendship]"
     ]
    },
    {
     "name": "stdout",
     "output_type": "stream",
     "text": [
      "'Loaded 46686 friends dictionary'\n"
     ]
    },
    {
     "name": "stderr",
     "output_type": "stream",
     "text": [
      "  7%|▋         | 7.19k/102k [11:02:54<110:29:06, 4.10s/Twitter friendship]"
     ]
    },
    {
     "name": "stdout",
     "output_type": "stream",
     "text": [
      "'Loaded 46703 friends dictionary'\n"
     ]
    },
    {
     "name": "stderr",
     "output_type": "stream",
     "text": [
      "  7%|▋         | 7.21k/102k [11:03:40<99:29:14, 3.70s/Twitter friendship] "
     ]
    },
    {
     "name": "stdout",
     "output_type": "stream",
     "text": [
      "'Loaded 46720 friends dictionary'\n"
     ]
    },
    {
     "name": "stderr",
     "output_type": "stream",
     "text": [
      "  7%|▋         | 7.22k/102k [11:04:06<81:52:50, 3.04s/Twitter friendship]"
     ]
    },
    {
     "name": "stdout",
     "output_type": "stream",
     "text": [
      "'Loaded 46737 friends dictionary'\n",
      "tweepy.TweepError Not authorized.  from:  8\n"
     ]
    },
    {
     "name": "stderr",
     "output_type": "stream",
     "text": [
      "  7%|▋         | 7.24k/102k [11:04:57<81:34:17, 3.03s/Twitter friendship]"
     ]
    },
    {
     "name": "stdout",
     "output_type": "stream",
     "text": [
      "'Loaded 46754 friends dictionary'\n"
     ]
    },
    {
     "name": "stderr",
     "output_type": "stream",
     "text": [
      "  7%|▋         | 7.25k/102k [11:05:27<71:10:25, 2.65s/Twitter friendship]"
     ]
    },
    {
     "name": "stdout",
     "output_type": "stream",
     "text": [
      "'Loaded 46771 friends dictionary'\n"
     ]
    },
    {
     "name": "stderr",
     "output_type": "stream",
     "text": [
      "  7%|▋         | 7.27k/102k [11:06:16<73:00:44, 2.71s/Twitter friendship]"
     ]
    },
    {
     "name": "stdout",
     "output_type": "stream",
     "text": [
      "'Loaded 46788 friends dictionary'\n"
     ]
    },
    {
     "name": "stderr",
     "output_type": "stream",
     "text": [
      "  7%|▋         | 7.29k/102k [11:06:45<65:01:07, 2.42s/Twitter friendship]"
     ]
    },
    {
     "name": "stdout",
     "output_type": "stream",
     "text": [
      "'Loaded 46805 friends dictionary'\n"
     ]
    },
    {
     "name": "stderr",
     "output_type": "stream",
     "text": [
      "  7%|▋         | 7.30k/102k [11:07:31<67:33:43, 2.51s/Twitter friendship]"
     ]
    },
    {
     "name": "stdout",
     "output_type": "stream",
     "text": [
      "'Loaded 46822 friends dictionary'\n"
     ]
    },
    {
     "name": "stderr",
     "output_type": "stream",
     "text": [
      "Rate limit reached. Sleeping for: 430\n"
     ]
    },
    {
     "name": "stdout",
     "output_type": "stream",
     "text": [
      "tweepy.TweepError Not authorized.  from:  9\n"
     ]
    },
    {
     "name": "stderr",
     "output_type": "stream",
     "text": [
      "  7%|▋         | 7.32k/102k [11:15:15<267:14:57, 9.94s/Twitter friendship]"
     ]
    },
    {
     "name": "stdout",
     "output_type": "stream",
     "text": [
      "'Loaded 46839 friends dictionary'\n",
      "tweepy.TweepError Not authorized.  from:  1\n",
      "tweepy.TweepError Not authorized.  from:  7\n"
     ]
    },
    {
     "name": "stderr",
     "output_type": "stream",
     "text": [
      "  7%|▋         | 7.34k/102k [11:16:08<212:23:53, 7.90s/Twitter friendship]"
     ]
    },
    {
     "name": "stdout",
     "output_type": "stream",
     "text": [
      "'Loaded 46856 friends dictionary'\n"
     ]
    },
    {
     "name": "stderr",
     "output_type": "stream",
     "text": [
      "  7%|▋         | 7.35k/102k [11:16:37<162:15:27, 6.04s/Twitter friendship]"
     ]
    },
    {
     "name": "stdout",
     "output_type": "stream",
     "text": [
      "'Loaded 46873 friends dictionary'\n"
     ]
    },
    {
     "name": "stderr",
     "output_type": "stream",
     "text": [
      "  7%|▋         | 7.37k/102k [11:17:21<134:10:16, 4.99s/Twitter friendship]"
     ]
    },
    {
     "name": "stdout",
     "output_type": "stream",
     "text": [
      "'Loaded 46890 friends dictionary'\n"
     ]
    },
    {
     "name": "stderr",
     "output_type": "stream",
     "text": [
      "  7%|▋         | 7.39k/102k [11:17:49<107:24:34, 4.00s/Twitter friendship]"
     ]
    },
    {
     "name": "stdout",
     "output_type": "stream",
     "text": [
      "'Loaded 46907 friends dictionary'\n"
     ]
    },
    {
     "name": "stderr",
     "output_type": "stream",
     "text": [
      "  7%|▋         | 7.40k/102k [11:18:35<96:58:30, 3.61s/Twitter friendship] "
     ]
    },
    {
     "name": "stdout",
     "output_type": "stream",
     "text": [
      "'Loaded 46924 friends dictionary'\n"
     ]
    },
    {
     "name": "stderr",
     "output_type": "stream",
     "text": [
      "  7%|▋         | 7.42k/102k [11:19:04<81:49:37, 3.05s/Twitter friendship]"
     ]
    },
    {
     "name": "stdout",
     "output_type": "stream",
     "text": [
      "'Loaded 46941 friends dictionary'\n",
      "tweepy.TweepError Not authorized.  from:  3\n"
     ]
    },
    {
     "name": "stderr",
     "output_type": "stream",
     "text": [
      "  7%|▋         | 7.44k/102k [11:19:37<72:43:05, 2.71s/Twitter friendship]"
     ]
    },
    {
     "name": "stdout",
     "output_type": "stream",
     "text": [
      "tweepy.TweepError [{'code': 34, 'message': 'Sorry, that page does not exist.'}]  from:  16\n",
      "'Loaded 46958 friends dictionary'\n"
     ]
    },
    {
     "name": "stderr",
     "output_type": "stream",
     "text": [
      "  7%|▋         | 7.45k/102k [11:20:06<64:43:18, 2.41s/Twitter friendship]"
     ]
    },
    {
     "name": "stdout",
     "output_type": "stream",
     "text": [
      "'Loaded 46975 friends dictionary'\n",
      "tweepy.TweepError Not authorized.  from:  9\n",
      "tweepy.TweepError Not authorized.  from:  14\n"
     ]
    },
    {
     "name": "stderr",
     "output_type": "stream",
     "text": [
      "  7%|▋         | 7.47k/102k [11:20:42<62:05:21, 2.31s/Twitter friendship]"
     ]
    },
    {
     "name": "stdout",
     "output_type": "stream",
     "text": [
      "'Loaded 46992 friends dictionary'\n",
      "tweepy.TweepError [{'code': 34, 'message': 'Sorry, that page does not exist.'}]  from:  9\n"
     ]
    },
    {
     "name": "stderr",
     "output_type": "stream",
     "text": [
      "  7%|▋         | 7.49k/102k [11:21:12<57:48:05, 2.15s/Twitter friendship]"
     ]
    },
    {
     "name": "stdout",
     "output_type": "stream",
     "text": [
      "'Loaded 47009 friends dictionary'\n",
      "tweepy.TweepError Not authorized.  from:  4\n"
     ]
    },
    {
     "name": "stderr",
     "output_type": "stream",
     "text": [
      "  7%|▋         | 7.50k/102k [11:21:41<54:08:02, 2.02s/Twitter friendship]"
     ]
    },
    {
     "name": "stdout",
     "output_type": "stream",
     "text": [
      "'Loaded 47026 friends dictionary'\n"
     ]
    },
    {
     "name": "stderr",
     "output_type": "stream",
     "text": [
      "Rate limit reached. Sleeping for: 569\n"
     ]
    },
    {
     "name": "stdout",
     "output_type": "stream",
     "text": [
      "tweepy.TweepError [{'code': 34, 'message': 'Sorry, that page does not exist.'}]  from:  3\n"
     ]
    },
    {
     "name": "stderr",
     "output_type": "stream",
     "text": [
      "  7%|▋         | 7.52k/102k [11:31:43<322:58:04, 12.0s/Twitter friendship]"
     ]
    },
    {
     "name": "stdout",
     "output_type": "stream",
     "text": [
      "'Loaded 47043 friends dictionary'\n",
      "tweepy.TweepError Not authorized.  from:  7\n"
     ]
    },
    {
     "name": "stderr",
     "output_type": "stream",
     "text": [
      "  7%|▋         | 7.54k/102k [11:32:23<245:10:29, 9.14s/Twitter friendship]"
     ]
    },
    {
     "name": "stdout",
     "output_type": "stream",
     "text": [
      "'Loaded 47060 friends dictionary'\n"
     ]
    },
    {
     "name": "stderr",
     "output_type": "stream",
     "text": [
      "  7%|▋         | 7.55k/102k [11:32:54<186:08:06, 6.94s/Twitter friendship]"
     ]
    },
    {
     "name": "stdout",
     "output_type": "stream",
     "text": [
      "'Loaded 47077 friends dictionary'\n",
      "tweepy.TweepError Not authorized.  from:  4\n"
     ]
    },
    {
     "name": "stderr",
     "output_type": "stream",
     "text": [
      "  7%|▋         | 7.57k/102k [11:33:22<143:40:35, 5.36s/Twitter friendship]"
     ]
    },
    {
     "name": "stdout",
     "output_type": "stream",
     "text": [
      "'Loaded 47094 friends dictionary'\n"
     ]
    },
    {
     "name": "stderr",
     "output_type": "stream",
     "text": [
      "  7%|▋         | 7.59k/102k [11:34:18<127:00:35, 4.74s/Twitter friendship]"
     ]
    },
    {
     "name": "stdout",
     "output_type": "stream",
     "text": [
      "'Loaded 47111 friends dictionary'\n"
     ]
    },
    {
     "name": "stderr",
     "output_type": "stream",
     "text": [
      "  7%|▋         | 7.60k/102k [11:34:47<102:35:33, 3.83s/Twitter friendship]"
     ]
    },
    {
     "name": "stdout",
     "output_type": "stream",
     "text": [
      "'Loaded 47128 friends dictionary'\n"
     ]
    },
    {
     "name": "stderr",
     "output_type": "stream",
     "text": [
      "  7%|▋         | 7.62k/102k [11:35:42<97:31:11, 3.64s/Twitter friendship] "
     ]
    },
    {
     "name": "stdout",
     "output_type": "stream",
     "text": [
      "'Loaded 47145 friends dictionary'\n",
      "tweepy.TweepError Not authorized.  from:  6\n"
     ]
    },
    {
     "name": "stderr",
     "output_type": "stream",
     "text": [
      "  7%|▋         | 7.64k/102k [11:36:11<82:16:48, 3.07s/Twitter friendship]"
     ]
    },
    {
     "name": "stdout",
     "output_type": "stream",
     "text": [
      "'Loaded 47162 friends dictionary'\n"
     ]
    },
    {
     "name": "stderr",
     "output_type": "stream",
     "text": [
      "  8%|▊         | 7.65k/102k [11:37:07<83:52:04, 3.13s/Twitter friendship]"
     ]
    },
    {
     "name": "stdout",
     "output_type": "stream",
     "text": [
      "'Loaded 47179 friends dictionary'\n"
     ]
    },
    {
     "name": "stderr",
     "output_type": "stream",
     "text": [
      "  8%|▊         | 7.67k/102k [11:37:34<71:22:18, 2.66s/Twitter friendship]"
     ]
    },
    {
     "name": "stdout",
     "output_type": "stream",
     "text": [
      "'Loaded 47196 friends dictionary'\n"
     ]
    },
    {
     "name": "stderr",
     "output_type": "stream",
     "text": [
      "  8%|▊         | 7.69k/102k [11:38:26<74:46:35, 2.79s/Twitter friendship]"
     ]
    },
    {
     "name": "stdout",
     "output_type": "stream",
     "text": [
      "'Loaded 47213 friends dictionary'\n"
     ]
    },
    {
     "name": "stderr",
     "output_type": "stream",
     "text": [
      "  8%|▊         | 7.70k/102k [11:38:54<65:24:14, 2.44s/Twitter friendship]"
     ]
    },
    {
     "name": "stdout",
     "output_type": "stream",
     "text": [
      "'Loaded 47230 friends dictionary'\n",
      "tweepy.TweepError Not authorized.  from:  2\n",
      "tweepy.TweepError Not authorized.  from:  8\n"
     ]
    },
    {
     "name": "stderr",
     "output_type": "stream",
     "text": [
      "  8%|▊         | 7.72k/102k [11:39:55<74:50:14, 2.79s/Twitter friendship]"
     ]
    },
    {
     "name": "stdout",
     "output_type": "stream",
     "text": [
      "'Loaded 47247 friends dictionary'\n"
     ]
    },
    {
     "name": "stderr",
     "output_type": "stream",
     "text": [
      "  8%|▊         | 7.74k/102k [11:40:27<67:32:02, 2.52s/Twitter friendship]"
     ]
    },
    {
     "name": "stdout",
     "output_type": "stream",
     "text": [
      "'Loaded 47264 friends dictionary'\n"
     ]
    },
    {
     "name": "stderr",
     "output_type": "stream",
     "text": [
      "Rate limit reached. Sleeping for: 323\n",
      "  8%|▊         | 7.75k/102k [11:46:48<227:12:21, 8.49s/Twitter friendship]"
     ]
    },
    {
     "name": "stdout",
     "output_type": "stream",
     "text": [
      "'Loaded 47281 friends dictionary'\n"
     ]
    },
    {
     "name": "stderr",
     "output_type": "stream",
     "text": [
      "  8%|▊         | 7.77k/102k [11:47:21<174:12:42, 6.51s/Twitter friendship]"
     ]
    },
    {
     "name": "stdout",
     "output_type": "stream",
     "text": [
      "'Loaded 47298 friends dictionary'\n"
     ]
    },
    {
     "name": "stderr",
     "output_type": "stream",
     "text": [
      "  8%|▊         | 7.79k/102k [11:48:12<146:02:18, 5.46s/Twitter friendship]"
     ]
    },
    {
     "name": "stdout",
     "output_type": "stream",
     "text": [
      "'Loaded 47315 friends dictionary'\n",
      "tweepy.TweepError Not authorized.  from:  13\n"
     ]
    },
    {
     "name": "stderr",
     "output_type": "stream",
     "text": [
      "  8%|▊         | 7.80k/102k [11:48:43<117:02:50, 4.38s/Twitter friendship]"
     ]
    },
    {
     "name": "stdout",
     "output_type": "stream",
     "text": [
      "'Loaded 47332 friends dictionary'\n",
      "tweepy.TweepError [{'code': 34, 'message': 'Sorry, that page does not exist.'}]  from:  0\n"
     ]
    },
    {
     "name": "stderr",
     "output_type": "stream",
     "text": [
      "  8%|▊         | 7.82k/102k [11:49:36<106:52:31, 4.00s/Twitter friendship]"
     ]
    },
    {
     "name": "stdout",
     "output_type": "stream",
     "text": [
      "'Loaded 47349 friends dictionary'\n"
     ]
    },
    {
     "name": "stderr",
     "output_type": "stream",
     "text": [
      "  8%|▊         | 7.84k/102k [11:50:05<88:19:54, 3.30s/Twitter friendship] "
     ]
    },
    {
     "name": "stdout",
     "output_type": "stream",
     "text": [
      "'Loaded 47366 friends dictionary'\n"
     ]
    },
    {
     "name": "stderr",
     "output_type": "stream",
     "text": [
      "  8%|▊         | 7.85k/102k [11:50:52<84:03:15, 3.14s/Twitter friendship]"
     ]
    },
    {
     "name": "stdout",
     "output_type": "stream",
     "text": [
      "'Loaded 47383 friends dictionary'\n",
      "tweepy.TweepError Not authorized.  from:  3\n"
     ]
    },
    {
     "name": "stderr",
     "output_type": "stream",
     "text": [
      "Rate limit reached. Sleeping for: 631\n",
      "  8%|▊         | 7.87k/102k [12:01:54<371:15:08, 13.9s/Twitter friendship]"
     ]
    },
    {
     "name": "stdout",
     "output_type": "stream",
     "text": [
      "'Loaded 47400 friends dictionary'\n"
     ]
    },
    {
     "name": "stderr",
     "output_type": "stream",
     "text": [
      "  8%|▊         | 7.89k/102k [12:02:35<279:19:07, 10.5s/Twitter friendship]"
     ]
    },
    {
     "name": "stdout",
     "output_type": "stream",
     "text": [
      "'Loaded 47417 friends dictionary'\n",
      "tweepy.TweepError [{'code': 34, 'message': 'Sorry, that page does not exist.'}]  from:  8\n"
     ]
    },
    {
     "name": "stderr",
     "output_type": "stream",
     "text": [
      "  8%|▊         | 7.90k/102k [12:03:01<207:26:51, 7.76s/Twitter friendship]"
     ]
    },
    {
     "name": "stdout",
     "output_type": "stream",
     "text": [
      "'Loaded 47434 friends dictionary'\n"
     ]
    },
    {
     "name": "stderr",
     "output_type": "stream",
     "text": [
      "  8%|▊         | 7.92k/102k [12:03:27<157:29:27, 5.89s/Twitter friendship]"
     ]
    },
    {
     "name": "stdout",
     "output_type": "stream",
     "text": [
      "'Loaded 47451 friends dictionary'\n"
     ]
    },
    {
     "name": "stderr",
     "output_type": "stream",
     "text": [
      "  8%|▊         | 7.94k/102k [12:03:51<121:36:16, 4.55s/Twitter friendship]"
     ]
    },
    {
     "name": "stdout",
     "output_type": "stream",
     "text": [
      "'Loaded 47468 friends dictionary'\n",
      "tweepy.TweepError [{'code': 34, 'message': 'Sorry, that page does not exist.'}]  from:  8\n"
     ]
    },
    {
     "name": "stderr",
     "output_type": "stream",
     "text": [
      "  8%|▊         | 7.95k/102k [12:04:22<99:48:40, 3.74s/Twitter friendship] "
     ]
    },
    {
     "name": "stdout",
     "output_type": "stream",
     "text": [
      "'Loaded 47485 friends dictionary'\n"
     ]
    },
    {
     "name": "stderr",
     "output_type": "stream",
     "text": [
      "  8%|▊         | 7.97k/102k [12:04:52<83:51:42, 3.14s/Twitter friendship]"
     ]
    },
    {
     "name": "stdout",
     "output_type": "stream",
     "text": [
      "tweepy.TweepError Not authorized.  from:  16\n",
      "'Loaded 47502 friends dictionary'\n"
     ]
    },
    {
     "name": "stderr",
     "output_type": "stream",
     "text": [
      "  8%|▊         | 7.99k/102k [12:05:19<71:35:13, 2.68s/Twitter friendship]"
     ]
    },
    {
     "name": "stdout",
     "output_type": "stream",
     "text": [
      "'Loaded 47519 friends dictionary'\n"
     ]
    },
    {
     "name": "stderr",
     "output_type": "stream",
     "text": [
      "  8%|▊         | 8.00k/102k [12:06:11<74:18:37, 2.78s/Twitter friendship]"
     ]
    },
    {
     "name": "stdout",
     "output_type": "stream",
     "text": [
      "'Loaded 47536 friends dictionary'\n"
     ]
    },
    {
     "name": "stderr",
     "output_type": "stream",
     "text": [
      "  8%|▊         | 8.02k/102k [12:06:38<64:59:09, 2.43s/Twitter friendship]"
     ]
    },
    {
     "name": "stdout",
     "output_type": "stream",
     "text": [
      "'Loaded 47553 friends dictionary'\n",
      "tweepy.TweepError Not authorized.  from:  10\n"
     ]
    },
    {
     "name": "stderr",
     "output_type": "stream",
     "text": [
      "  8%|▊         | 8.04k/102k [12:07:24<67:08:11, 2.52s/Twitter friendship]"
     ]
    },
    {
     "name": "stdout",
     "output_type": "stream",
     "text": [
      "'Loaded 47570 friends dictionary'\n"
     ]
    },
    {
     "name": "stderr",
     "output_type": "stream",
     "text": [
      "  8%|▊         | 8.05k/102k [12:07:50<59:16:23, 2.22s/Twitter friendship]"
     ]
    },
    {
     "name": "stdout",
     "output_type": "stream",
     "text": [
      "'Loaded 47587 friends dictionary'\n",
      "tweepy.TweepError [{'code': 34, 'message': 'Sorry, that page does not exist.'}]  from:  12\n"
     ]
    },
    {
     "name": "stderr",
     "output_type": "stream",
     "text": [
      "  8%|▊         | 8.07k/102k [12:08:39<64:15:09, 2.41s/Twitter friendship]"
     ]
    },
    {
     "name": "stdout",
     "output_type": "stream",
     "text": [
      "'Loaded 47604 friends dictionary'\n"
     ]
    },
    {
     "name": "stderr",
     "output_type": "stream",
     "text": [
      "  8%|▊         | 8.08k/102k [12:09:04<56:44:56, 2.13s/Twitter friendship]"
     ]
    },
    {
     "name": "stdout",
     "output_type": "stream",
     "text": [
      "'Loaded 47621 friends dictionary'\n"
     ]
    },
    {
     "name": "stderr",
     "output_type": "stream",
     "text": [
      "  8%|▊         | 8.10k/102k [12:09:51<62:02:17, 2.33s/Twitter friendship]"
     ]
    },
    {
     "name": "stdout",
     "output_type": "stream",
     "text": [
      "'Loaded 47638 friends dictionary'\n"
     ]
    },
    {
     "name": "stderr",
     "output_type": "stream",
     "text": [
      "Rate limit reached. Sleeping for: 437\n"
     ]
    },
    {
     "name": "stdout",
     "output_type": "stream",
     "text": [
      "tweepy.TweepError [{'code': 34, 'message': 'Sorry, that page does not exist.'}]  from:  11\n"
     ]
    },
    {
     "name": "stderr",
     "output_type": "stream",
     "text": [
      "  8%|▊         | 8.12k/102k [12:17:41<264:21:49, 9.92s/Twitter friendship]"
     ]
    },
    {
     "name": "stdout",
     "output_type": "stream",
     "text": [
      "'Loaded 47655 friends dictionary'\n",
      "tweepy.TweepError Not authorized.  from:  3\n",
      "tweepy.TweepError Not authorized.  from:  7\n"
     ]
    },
    {
     "name": "stderr",
     "output_type": "stream",
     "text": [
      "  8%|▊         | 8.13k/102k [12:18:37<211:45:46, 7.94s/Twitter friendship]"
     ]
    },
    {
     "name": "stdout",
     "output_type": "stream",
     "text": [
      "'Loaded 47672 friends dictionary'\n",
      "tweepy.TweepError [{'code': 34, 'message': 'Sorry, that page does not exist.'}]  from:  4\n"
     ]
    },
    {
     "name": "stderr",
     "output_type": "stream",
     "text": [
      "  8%|▊         | 8.15k/102k [12:19:06<161:35:34, 6.06s/Twitter friendship]"
     ]
    },
    {
     "name": "stdout",
     "output_type": "stream",
     "text": [
      "'Loaded 47689 friends dictionary'\n"
     ]
    },
    {
     "name": "stderr",
     "output_type": "stream",
     "text": [
      "  8%|▊         | 8.17k/102k [12:19:51<134:04:54, 5.03s/Twitter friendship]"
     ]
    },
    {
     "name": "stdout",
     "output_type": "stream",
     "text": [
      "'Loaded 47706 friends dictionary'\n"
     ]
    },
    {
     "name": "stderr",
     "output_type": "stream",
     "text": [
      "  8%|▊         | 8.18k/102k [12:20:18<106:42:59, 4.01s/Twitter friendship]"
     ]
    },
    {
     "name": "stdout",
     "output_type": "stream",
     "text": [
      "'Loaded 47723 friends dictionary'\n"
     ]
    },
    {
     "name": "stderr",
     "output_type": "stream",
     "text": [
      "  8%|▊         | 8.20k/102k [12:20:57<93:07:01, 3.50s/Twitter friendship] "
     ]
    },
    {
     "name": "stdout",
     "output_type": "stream",
     "text": [
      "'Loaded 47740 friends dictionary'\n",
      "tweepy.TweepError Not authorized.  from:  5\n"
     ]
    },
    {
     "name": "stderr",
     "output_type": "stream",
     "text": [
      "  8%|▊         | 8.22k/102k [12:21:28<79:52:35, 3.00s/Twitter friendship]"
     ]
    },
    {
     "name": "stdout",
     "output_type": "stream",
     "text": [
      "'Loaded 47757 friends dictionary'\n",
      "tweepy.TweepError Not authorized.  from:  2\n",
      "tweepy.TweepError [{'code': 34, 'message': 'Sorry, that page does not exist.'}]  from:  11\n"
     ]
    },
    {
     "name": "stderr",
     "output_type": "stream",
     "text": [
      "  8%|▊         | 8.23k/102k [12:21:57<69:23:53, 2.61s/Twitter friendship]"
     ]
    },
    {
     "name": "stdout",
     "output_type": "stream",
     "text": [
      "'Loaded 47774 friends dictionary'\n",
      "tweepy.TweepError Not authorized.  from:  10\n"
     ]
    },
    {
     "name": "stderr",
     "output_type": "stream",
     "text": [
      "  8%|▊         | 8.25k/102k [12:22:39<68:20:07, 2.57s/Twitter friendship]"
     ]
    },
    {
     "name": "stdout",
     "output_type": "stream",
     "text": [
      "'Loaded 47791 friends dictionary'\n"
     ]
    },
    {
     "name": "stderr",
     "output_type": "stream",
     "text": [
      "  8%|▊         | 8.27k/102k [12:23:12<63:10:57, 2.37s/Twitter friendship]"
     ]
    },
    {
     "name": "stdout",
     "output_type": "stream",
     "text": [
      "'Loaded 47808 friends dictionary'\n"
     ]
    },
    {
     "name": "stderr",
     "output_type": "stream",
     "text": [
      "Rate limit reached. Sleeping for: 537\n",
      "  8%|▊         | 8.28k/102k [12:32:47<314:33:07, 11.8s/Twitter friendship]"
     ]
    },
    {
     "name": "stdout",
     "output_type": "stream",
     "text": [
      "'Loaded 47825 friends dictionary'\n"
     ]
    },
    {
     "name": "stderr",
     "output_type": "stream",
     "text": [
      "  8%|▊         | 8.30k/102k [12:33:25<237:41:21, 8.93s/Twitter friendship]"
     ]
    },
    {
     "name": "stdout",
     "output_type": "stream",
     "text": [
      "'Loaded 47842 friends dictionary'\n"
     ]
    },
    {
     "name": "stderr",
     "output_type": "stream",
     "text": [
      "  8%|▊         | 8.32k/102k [12:34:21<192:41:13, 7.24s/Twitter friendship]"
     ]
    },
    {
     "name": "stdout",
     "output_type": "stream",
     "text": [
      "'Loaded 47859 friends dictionary'\n"
     ]
    },
    {
     "name": "stderr",
     "output_type": "stream",
     "text": [
      "  8%|▊         | 8.33k/102k [12:34:56<151:26:13, 5.69s/Twitter friendship]"
     ]
    },
    {
     "name": "stdout",
     "output_type": "stream",
     "text": [
      "'Loaded 47876 friends dictionary'\n"
     ]
    },
    {
     "name": "stderr",
     "output_type": "stream",
     "text": [
      "  8%|▊         | 8.35k/102k [12:35:54<132:56:12, 5.00s/Twitter friendship]"
     ]
    },
    {
     "name": "stdout",
     "output_type": "stream",
     "text": [
      "'Loaded 47893 friends dictionary'\n"
     ]
    },
    {
     "name": "stderr",
     "output_type": "stream",
     "text": [
      "  8%|▊         | 8.37k/102k [12:36:21<106:02:52, 3.99s/Twitter friendship]"
     ]
    },
    {
     "name": "stdout",
     "output_type": "stream",
     "text": [
      "'Loaded 47910 friends dictionary'\n",
      "tweepy.TweepError [{'code': 34, 'message': 'Sorry, that page does not exist.'}]  from:  13\n"
     ]
    },
    {
     "name": "stderr",
     "output_type": "stream",
     "text": [
      "  8%|▊         | 8.38k/102k [12:37:14<99:00:38, 3.72s/Twitter friendship] "
     ]
    },
    {
     "name": "stdout",
     "output_type": "stream",
     "text": [
      "'Loaded 47927 friends dictionary'\n"
     ]
    },
    {
     "name": "stderr",
     "output_type": "stream",
     "text": [
      "  8%|▊         | 8.40k/102k [12:37:42<82:17:57, 3.10s/Twitter friendship]"
     ]
    },
    {
     "name": "stdout",
     "output_type": "stream",
     "text": [
      "'Loaded 47944 friends dictionary'\n",
      "tweepy.TweepError Not authorized.  from:  12\n"
     ]
    },
    {
     "name": "stderr",
     "output_type": "stream",
     "text": [
      "  8%|▊         | 8.42k/102k [12:38:32<81:04:27, 3.05s/Twitter friendship]"
     ]
    },
    {
     "name": "stdout",
     "output_type": "stream",
     "text": [
      "'Loaded 47961 friends dictionary'\n"
     ]
    },
    {
     "name": "stderr",
     "output_type": "stream",
     "text": [
      "  8%|▊         | 8.43k/102k [12:39:00<69:40:07, 2.62s/Twitter friendship]"
     ]
    },
    {
     "name": "stdout",
     "output_type": "stream",
     "text": [
      "'Loaded 47978 friends dictionary'\n"
     ]
    },
    {
     "name": "stderr",
     "output_type": "stream",
     "text": [
      "  8%|▊         | 8.45k/102k [12:39:49<72:05:49, 2.71s/Twitter friendship]"
     ]
    },
    {
     "name": "stdout",
     "output_type": "stream",
     "text": [
      "'Loaded 47995 friends dictionary'\n",
      "tweepy.TweepError Not authorized.  from:  8\n"
     ]
    },
    {
     "name": "stderr",
     "output_type": "stream",
     "text": [
      "  8%|▊         | 8.47k/102k [12:40:16<62:53:26, 2.37s/Twitter friendship]"
     ]
    },
    {
     "name": "stdout",
     "output_type": "stream",
     "text": [
      "'Loaded 48012 friends dictionary'\n",
      "tweepy.TweepError Not authorized.  from:  6\n",
      "tweepy.TweepError Not authorized.  from:  13\n"
     ]
    },
    {
     "name": "stderr",
     "output_type": "stream",
     "text": [
      "  8%|▊         | 8.48k/102k [12:41:07<67:45:47, 2.55s/Twitter friendship]"
     ]
    },
    {
     "name": "stdout",
     "output_type": "stream",
     "text": [
      "'Loaded 48029 friends dictionary'\n",
      "tweepy.TweepError Not authorized.  from:  14\n"
     ]
    },
    {
     "name": "stderr",
     "output_type": "stream",
     "text": [
      "  8%|▊         | 8.50k/102k [12:41:34<60:11:31, 2.27s/Twitter friendship]"
     ]
    },
    {
     "name": "stdout",
     "output_type": "stream",
     "text": [
      "'Loaded 48046 friends dictionary'\n"
     ]
    },
    {
     "name": "stderr",
     "output_type": "stream",
     "text": [
      "Rate limit reached. Sleeping for: 341\n",
      "  8%|▊         | 8.52k/102k [12:47:51<218:58:39, 8.25s/Twitter friendship]"
     ]
    },
    {
     "name": "stdout",
     "output_type": "stream",
     "text": [
      "'Loaded 48063 friends dictionary'\n",
      "tweepy.TweepError Not authorized.  from:  9\n"
     ]
    },
    {
     "name": "stderr",
     "output_type": "stream",
     "text": [
      "  8%|▊         | 8.53k/102k [12:48:34<173:15:37, 6.53s/Twitter friendship]"
     ]
    },
    {
     "name": "stdout",
     "output_type": "stream",
     "text": [
      "'Loaded 48080 friends dictionary'\n"
     ]
    },
    {
     "name": "stderr",
     "output_type": "stream",
     "text": [
      "  8%|▊         | 8.55k/102k [12:49:12<139:18:33, 5.25s/Twitter friendship]"
     ]
    },
    {
     "name": "stdout",
     "output_type": "stream",
     "text": [
      "'Loaded 48097 friends dictionary'\n",
      "tweepy.TweepError [{'code': 34, 'message': 'Sorry, that page does not exist.'}]  from:  15\n"
     ]
    },
    {
     "name": "stderr",
     "output_type": "stream",
     "text": [
      "  8%|▊         | 8.57k/102k [12:49:40<110:09:51, 4.15s/Twitter friendship]"
     ]
    },
    {
     "name": "stdout",
     "output_type": "stream",
     "text": [
      "'Loaded 48114 friends dictionary'\n"
     ]
    },
    {
     "name": "stderr",
     "output_type": "stream",
     "text": [
      "  8%|▊         | 8.58k/102k [12:50:09<90:52:54, 3.43s/Twitter friendship] "
     ]
    },
    {
     "name": "stdout",
     "output_type": "stream",
     "text": [
      "'Loaded 48131 friends dictionary'\n"
     ]
    },
    {
     "name": "stderr",
     "output_type": "stream",
     "text": [
      "  8%|▊         | 8.60k/102k [12:50:35<75:48:53, 2.86s/Twitter friendship]"
     ]
    },
    {
     "name": "stdout",
     "output_type": "stream",
     "text": [
      "'Loaded 48148 friends dictionary'\n"
     ]
    },
    {
     "name": "stderr",
     "output_type": "stream",
     "text": [
      "  8%|▊         | 8.62k/102k [12:51:17<72:46:47, 2.74s/Twitter friendship]"
     ]
    },
    {
     "name": "stdout",
     "output_type": "stream",
     "text": [
      "'Loaded 48165 friends dictionary'\n",
      "tweepy.TweepError Not authorized.  from:  3\n",
      "tweepy.TweepError Not authorized.  from:  5\n",
      "tweepy.TweepError Not authorized.  from:  9\n"
     ]
    },
    {
     "name": "stderr",
     "output_type": "stream",
     "text": [
      "  8%|▊         | 8.63k/102k [12:52:19<79:43:37, 3.01s/Twitter friendship]"
     ]
    },
    {
     "name": "stdout",
     "output_type": "stream",
     "text": [
      "'Loaded 48182 friends dictionary'\n"
     ]
    },
    {
     "name": "stderr",
     "output_type": "stream",
     "text": [
      "  8%|▊         | 8.65k/102k [12:52:50<70:39:03, 2.66s/Twitter friendship]"
     ]
    },
    {
     "name": "stdout",
     "output_type": "stream",
     "text": [
      "'Loaded 48199 friends dictionary'\n",
      "tweepy.TweepError Not authorized.  from:  10\n"
     ]
    },
    {
     "name": "stderr",
     "output_type": "stream",
     "text": [
      "  9%|▊         | 8.67k/102k [12:54:10<86:50:13, 3.28s/Twitter friendship]"
     ]
    },
    {
     "name": "stdout",
     "output_type": "stream",
     "text": [
      "'Loaded 48216 friends dictionary'\n",
      "tweepy.TweepError [{'code': 34, 'message': 'Sorry, that page does not exist.'}]  from:  0\n"
     ]
    },
    {
     "name": "stderr",
     "output_type": "stream",
     "text": [
      "  9%|▊         | 8.68k/102k [12:54:42<75:35:01, 2.85s/Twitter friendship]"
     ]
    },
    {
     "name": "stdout",
     "output_type": "stream",
     "text": [
      "'Loaded 48233 friends dictionary'\n"
     ]
    },
    {
     "name": "stderr",
     "output_type": "stream",
     "text": [
      "  9%|▊         | 8.70k/102k [12:55:40<79:53:56, 3.02s/Twitter friendship]"
     ]
    },
    {
     "name": "stdout",
     "output_type": "stream",
     "text": [
      "'Loaded 48250 friends dictionary'\n"
     ]
    },
    {
     "name": "stderr",
     "output_type": "stream",
     "text": [
      "  9%|▊         | 8.72k/102k [12:56:12<71:00:25, 2.68s/Twitter friendship]"
     ]
    },
    {
     "name": "stdout",
     "output_type": "stream",
     "text": [
      "'Loaded 48267 friends dictionary'\n",
      "tweepy.TweepError Not authorized.  from:  11\n"
     ]
    },
    {
     "name": "stderr",
     "output_type": "stream",
     "text": [
      "Rate limit reached. Sleeping for: 348\n",
      "  9%|▊         | 8.73k/102k [13:02:56<238:37:07, 9.01s/Twitter friendship]"
     ]
    },
    {
     "name": "stdout",
     "output_type": "stream",
     "text": [
      "'Loaded 48284 friends dictionary'\n"
     ]
    },
    {
     "name": "stderr",
     "output_type": "stream",
     "text": [
      "Rate limit reached. Sleeping for: 5\n",
      "  9%|▊         | 8.75k/102k [13:03:40<187:20:06, 7.07s/Twitter friendship]"
     ]
    },
    {
     "name": "stdout",
     "output_type": "stream",
     "text": [
      "'Loaded 48301 friends dictionary'\n"
     ]
    },
    {
     "name": "stderr",
     "output_type": "stream",
     "text": [
      "  9%|▊         | 8.77k/102k [13:05:00<168:43:38, 6.37s/Twitter friendship]"
     ]
    },
    {
     "name": "stdout",
     "output_type": "stream",
     "text": [
      "'Loaded 48318 friends dictionary'\n"
     ]
    },
    {
     "name": "stderr",
     "output_type": "stream",
     "text": [
      "  9%|▊         | 8.78k/102k [13:05:38<135:42:19, 5.13s/Twitter friendship]"
     ]
    },
    {
     "name": "stdout",
     "output_type": "stream",
     "text": [
      "'Loaded 48335 friends dictionary'\n"
     ]
    },
    {
     "name": "stderr",
     "output_type": "stream",
     "text": [
      "  9%|▊         | 8.80k/102k [13:06:33<120:51:09, 4.57s/Twitter friendship]"
     ]
    },
    {
     "name": "stdout",
     "output_type": "stream",
     "text": [
      "'Loaded 48352 friends dictionary'\n",
      "tweepy.TweepError Not authorized.  from:  3\n",
      "tweepy.TweepError [{'code': 34, 'message': 'Sorry, that page does not exist.'}]  from:  7\n"
     ]
    },
    {
     "name": "stderr",
     "output_type": "stream",
     "text": [
      "  9%|▊         | 8.82k/102k [13:07:11<102:05:35, 3.86s/Twitter friendship]"
     ]
    },
    {
     "name": "stdout",
     "output_type": "stream",
     "text": [
      "'Loaded 48369 friends dictionary'\n",
      "tweepy.TweepError Not authorized.  from:  0\n"
     ]
    },
    {
     "name": "stderr",
     "output_type": "stream",
     "text": [
      "  9%|▊         | 8.83k/102k [13:07:51<90:22:29, 3.42s/Twitter friendship] "
     ]
    },
    {
     "name": "stdout",
     "output_type": "stream",
     "text": [
      "'Loaded 48386 friends dictionary'\n"
     ]
    },
    {
     "name": "stderr",
     "output_type": "stream",
     "text": [
      "  9%|▊         | 8.85k/102k [13:08:26<79:35:22, 3.01s/Twitter friendship]"
     ]
    },
    {
     "name": "stdout",
     "output_type": "stream",
     "text": [
      "'Loaded 48403 friends dictionary'\n"
     ]
    },
    {
     "name": "stderr",
     "output_type": "stream",
     "text": [
      "  9%|▊         | 8.87k/102k [13:09:32<86:20:55, 3.26s/Twitter friendship]"
     ]
    },
    {
     "name": "stdout",
     "output_type": "stream",
     "text": [
      "'Loaded 48420 friends dictionary'\n"
     ]
    },
    {
     "name": "stderr",
     "output_type": "stream",
     "text": [
      "  9%|▊         | 8.88k/102k [13:10:43<93:39:09, 3.54s/Twitter friendship]"
     ]
    },
    {
     "name": "stdout",
     "output_type": "stream",
     "text": [
      "'Loaded 48437 friends dictionary'\n"
     ]
    },
    {
     "name": "stderr",
     "output_type": "stream",
     "text": [
      "  9%|▊         | 8.90k/102k [13:11:17<81:28:50, 3.08s/Twitter friendship]"
     ]
    },
    {
     "name": "stdout",
     "output_type": "stream",
     "text": [
      "'Loaded 48454 friends dictionary'\n"
     ]
    },
    {
     "name": "stderr",
     "output_type": "stream",
     "text": [
      "  9%|▉         | 8.92k/102k [13:12:26<88:50:56, 3.36s/Twitter friendship]"
     ]
    },
    {
     "name": "stdout",
     "output_type": "stream",
     "text": [
      "'Loaded 48471 friends dictionary'\n",
      "tweepy.TweepError Not authorized.  from:  15\n"
     ]
    },
    {
     "name": "stderr",
     "output_type": "stream",
     "text": [
      "  9%|▉         | 8.93k/102k [13:13:03<79:46:33, 3.02s/Twitter friendship]"
     ]
    },
    {
     "name": "stdout",
     "output_type": "stream",
     "text": [
      "'Loaded 48488 friends dictionary'\n",
      "tweepy.TweepError Not authorized.  from:  7\n"
     ]
    },
    {
     "name": "stderr",
     "output_type": "stream",
     "text": [
      "  9%|▉         | 8.95k/102k [13:14:10<87:08:08, 3.30s/Twitter friendship]"
     ]
    },
    {
     "name": "stdout",
     "output_type": "stream",
     "text": [
      "'Loaded 48505 friends dictionary'\n"
     ]
    },
    {
     "name": "stderr",
     "output_type": "stream",
     "text": [
      "Rate limit reached. Sleeping for: 187\n",
      "  9%|▉         | 8.96k/102k [13:18:01<168:39:12, 6.38s/Twitter friendship]"
     ]
    },
    {
     "name": "stdout",
     "output_type": "stream",
     "text": [
      "'Loaded 48522 friends dictionary'\n"
     ]
    },
    {
     "name": "stderr",
     "output_type": "stream",
     "text": [
      "  9%|▉         | 8.98k/102k [13:19:36<162:11:07, 6.14s/Twitter friendship]"
     ]
    },
    {
     "name": "stdout",
     "output_type": "stream",
     "text": [
      "'Loaded 48539 friends dictionary'\n"
     ]
    },
    {
     "name": "stderr",
     "output_type": "stream",
     "text": [
      "  9%|▉         | 9.00k/102k [13:20:11<129:42:43, 4.91s/Twitter friendship]"
     ]
    },
    {
     "name": "stdout",
     "output_type": "stream",
     "text": [
      "'Loaded 48556 friends dictionary'\n"
     ]
    },
    {
     "name": "stderr",
     "output_type": "stream",
     "text": [
      "  9%|▉         | 9.01k/102k [13:21:22<123:45:07, 4.69s/Twitter friendship]"
     ]
    },
    {
     "name": "stdout",
     "output_type": "stream",
     "text": [
      "'Loaded 48573 friends dictionary'\n"
     ]
    },
    {
     "name": "stderr",
     "output_type": "stream",
     "text": [
      "  9%|▉         | 9.03k/102k [13:22:00<104:37:46, 3.96s/Twitter friendship]"
     ]
    },
    {
     "name": "stdout",
     "output_type": "stream",
     "text": [
      "'Loaded 48590 friends dictionary'\n"
     ]
    },
    {
     "name": "stderr",
     "output_type": "stream",
     "text": [
      "  9%|▉         | 9.05k/102k [13:22:59<100:48:31, 3.82s/Twitter friendship]"
     ]
    },
    {
     "name": "stdout",
     "output_type": "stream",
     "text": [
      "'Loaded 48607 friends dictionary'\n"
     ]
    },
    {
     "name": "stderr",
     "output_type": "stream",
     "text": [
      "  9%|▉         | 9.06k/102k [13:23:37<87:53:22, 3.33s/Twitter friendship] "
     ]
    },
    {
     "name": "stdout",
     "output_type": "stream",
     "text": [
      "'Loaded 48624 friends dictionary'\n",
      "tweepy.TweepError [{'code': 34, 'message': 'Sorry, that page does not exist.'}]  from:  6\n"
     ]
    },
    {
     "name": "stderr",
     "output_type": "stream",
     "text": [
      "  9%|▉         | 9.08k/102k [13:24:21<82:07:35, 3.11s/Twitter friendship]"
     ]
    },
    {
     "name": "stdout",
     "output_type": "stream",
     "text": [
      "'Loaded 48641 friends dictionary'\n"
     ]
    },
    {
     "name": "stderr",
     "output_type": "stream",
     "text": [
      "  9%|▉         | 9.10k/102k [13:24:59<75:11:41, 2.85s/Twitter friendship]"
     ]
    },
    {
     "name": "stdout",
     "output_type": "stream",
     "text": [
      "'Loaded 48658 friends dictionary'\n"
     ]
    },
    {
     "name": "stderr",
     "output_type": "stream",
     "text": [
      "  9%|▉         | 9.11k/102k [13:25:44<73:40:02, 2.79s/Twitter friendship]"
     ]
    },
    {
     "name": "stdout",
     "output_type": "stream",
     "text": [
      "'Loaded 48675 friends dictionary'\n"
     ]
    },
    {
     "name": "stderr",
     "output_type": "stream",
     "text": [
      "  9%|▉         | 9.13k/102k [13:26:54<83:52:33, 3.18s/Twitter friendship]"
     ]
    },
    {
     "name": "stdout",
     "output_type": "stream",
     "text": [
      "'Loaded 48692 friends dictionary'\n"
     ]
    },
    {
     "name": "stderr",
     "output_type": "stream",
     "text": [
      "  9%|▉         | 9.15k/102k [13:27:28<74:33:05, 2.83s/Twitter friendship]"
     ]
    },
    {
     "name": "stdout",
     "output_type": "stream",
     "text": [
      "'Loaded 48709 friends dictionary'\n"
     ]
    },
    {
     "name": "stderr",
     "output_type": "stream",
     "text": [
      "  9%|▉         | 9.16k/102k [13:28:31<81:42:59, 3.10s/Twitter friendship]"
     ]
    },
    {
     "name": "stdout",
     "output_type": "stream",
     "text": [
      "'Loaded 48726 friends dictionary'\n",
      "tweepy.TweepError Not authorized.  from:  6\n"
     ]
    },
    {
     "name": "stderr",
     "output_type": "stream",
     "text": [
      "  9%|▉         | 9.18k/102k [13:29:06<73:35:16, 2.79s/Twitter friendship]"
     ]
    },
    {
     "name": "stdout",
     "output_type": "stream",
     "text": [
      "'Loaded 48743 friends dictionary'\n",
      "tweepy.TweepError Not authorized.  from:  5\n"
     ]
    },
    {
     "name": "stderr",
     "output_type": "stream",
     "text": [
      "  9%|▉         | 9.20k/102k [13:30:10<81:00:08, 3.07s/Twitter friendship]"
     ]
    },
    {
     "name": "stdout",
     "output_type": "stream",
     "text": [
      "'Loaded 48760 friends dictionary'\n"
     ]
    },
    {
     "name": "stderr",
     "output_type": "stream",
     "text": [
      "Rate limit reached. Sleeping for: 267\n",
      "  9%|▉         | 9.21k/102k [13:35:17<199:34:07, 7.57s/Twitter friendship]"
     ]
    },
    {
     "name": "stdout",
     "output_type": "stream",
     "text": [
      "'Loaded 48777 friends dictionary'\n"
     ]
    },
    {
     "name": "stderr",
     "output_type": "stream",
     "text": [
      "  9%|▉         | 9.23k/102k [13:36:17<167:38:39, 6.36s/Twitter friendship]"
     ]
    },
    {
     "name": "stdout",
     "output_type": "stream",
     "text": [
      "'Loaded 48794 friends dictionary'\n",
      "tweepy.TweepError [{'code': 34, 'message': 'Sorry, that page does not exist.'}]  from:  9\n"
     ]
    },
    {
     "name": "stderr",
     "output_type": "stream",
     "text": [
      "  9%|▉         | 9.25k/102k [13:36:51<133:01:23, 5.05s/Twitter friendship]"
     ]
    },
    {
     "name": "stdout",
     "output_type": "stream",
     "text": [
      "'Loaded 48811 friends dictionary'\n"
     ]
    },
    {
     "name": "stderr",
     "output_type": "stream",
     "text": [
      "  9%|▉         | 9.26k/102k [13:37:51<120:47:25, 4.59s/Twitter friendship]"
     ]
    },
    {
     "name": "stdout",
     "output_type": "stream",
     "text": [
      "'Loaded 48828 friends dictionary'\n",
      "tweepy.TweepError [{'code': 34, 'message': 'Sorry, that page does not exist.'}]  from:  13\n"
     ]
    },
    {
     "name": "stderr",
     "output_type": "stream",
     "text": [
      "  9%|▉         | 9.28k/102k [13:38:25<100:18:07, 3.81s/Twitter friendship]"
     ]
    },
    {
     "name": "stdout",
     "output_type": "stream",
     "text": [
      "'Loaded 48845 friends dictionary'\n"
     ]
    },
    {
     "name": "stderr",
     "output_type": "stream",
     "text": [
      "  9%|▉         | 9.30k/102k [13:39:11<91:54:49, 3.49s/Twitter friendship] "
     ]
    },
    {
     "name": "stdout",
     "output_type": "stream",
     "text": [
      "'Loaded 48862 friends dictionary'\n",
      "tweepy.TweepError Not authorized.  from:  4\n"
     ]
    },
    {
     "name": "stderr",
     "output_type": "stream",
     "text": [
      "  9%|▉         | 9.31k/102k [13:39:47<81:03:17, 3.08s/Twitter friendship]"
     ]
    },
    {
     "name": "stdout",
     "output_type": "stream",
     "text": [
      "'Loaded 48879 friends dictionary'\n"
     ]
    },
    {
     "name": "stderr",
     "output_type": "stream",
     "text": [
      "Rate limit reached. Sleeping for: 87\n",
      "Rate limit reached. Sleeping for: 496\n",
      "  9%|▉         | 9.33k/102k [13:50:23<352:04:48, 13.4s/Twitter friendship]"
     ]
    },
    {
     "name": "stdout",
     "output_type": "stream",
     "text": [
      "'Loaded 48896 friends dictionary'\n"
     ]
    },
    {
     "name": "stderr",
     "output_type": "stream",
     "text": [
      "  9%|▉         | 9.35k/102k [13:51:44<284:03:22, 10.8s/Twitter friendship]"
     ]
    },
    {
     "name": "stdout",
     "output_type": "stream",
     "text": [
      "'Loaded 48913 friends dictionary'\n"
     ]
    },
    {
     "name": "stderr",
     "output_type": "stream",
     "text": [
      "  9%|▉         | 9.36k/102k [13:52:32<220:48:04, 8.39s/Twitter friendship]"
     ]
    },
    {
     "name": "stdout",
     "output_type": "stream",
     "text": [
      "'Loaded 48930 friends dictionary'\n"
     ]
    },
    {
     "name": "stderr",
     "output_type": "stream",
     "text": [
      "  9%|▉         | 9.38k/102k [13:53:40<186:12:56, 7.08s/Twitter friendship]"
     ]
    },
    {
     "name": "stdout",
     "output_type": "stream",
     "text": [
      "'Loaded 48947 friends dictionary'\n",
      "tweepy.TweepError Not authorized.  from:  1\n",
      "tweepy.TweepError Not authorized.  from:  11\n"
     ]
    },
    {
     "name": "stderr",
     "output_type": "stream",
     "text": [
      "  9%|▉         | 9.40k/102k [13:54:13<145:51:50, 5.55s/Twitter friendship]"
     ]
    },
    {
     "name": "stdout",
     "output_type": "stream",
     "text": [
      "'Loaded 48964 friends dictionary'\n",
      "tweepy.TweepError [{'code': 34, 'message': 'Sorry, that page does not exist.'}]  from:  11\n"
     ]
    },
    {
     "name": "stderr",
     "output_type": "stream",
     "text": [
      "  9%|▉         | 9.41k/102k [13:55:16<131:14:01, 4.99s/Twitter friendship]"
     ]
    },
    {
     "name": "stdout",
     "output_type": "stream",
     "text": [
      "'Loaded 48981 friends dictionary'\n"
     ]
    },
    {
     "name": "stderr",
     "output_type": "stream",
     "text": [
      "  9%|▉         | 9.43k/102k [13:55:52<108:13:12, 4.12s/Twitter friendship]"
     ]
    },
    {
     "name": "stdout",
     "output_type": "stream",
     "text": [
      "'Loaded 48998 friends dictionary'\n"
     ]
    },
    {
     "name": "stderr",
     "output_type": "stream",
     "text": [
      "  9%|▉         | 9.45k/102k [13:56:49<102:13:28, 3.89s/Twitter friendship]"
     ]
    },
    {
     "name": "stdout",
     "output_type": "stream",
     "text": [
      "'Loaded 49015 friends dictionary'\n",
      "tweepy.TweepError Not authorized.  from:  12\n"
     ]
    },
    {
     "name": "stderr",
     "output_type": "stream",
     "text": [
      "  9%|▉         | 9.46k/102k [13:57:22<86:53:06, 3.31s/Twitter friendship] "
     ]
    },
    {
     "name": "stdout",
     "output_type": "stream",
     "text": [
      "'Loaded 49032 friends dictionary'\n"
     ]
    },
    {
     "name": "stderr",
     "output_type": "stream",
     "text": [
      "  9%|▉         | 9.48k/102k [13:58:19<87:27:39, 3.33s/Twitter friendship]"
     ]
    },
    {
     "name": "stdout",
     "output_type": "stream",
     "text": [
      "tweepy.TweepError [{'code': 34, 'message': 'Sorry, that page does not exist.'}]  from:  16\n",
      "'Loaded 49049 friends dictionary'\n"
     ]
    },
    {
     "name": "stderr",
     "output_type": "stream",
     "text": [
      "Rate limit reached. Sleeping for: 385\n",
      "  9%|▉         | 9.50k/102k [14:05:28<259:57:10, 9.90s/Twitter friendship]"
     ]
    },
    {
     "name": "stdout",
     "output_type": "stream",
     "text": [
      "'Loaded 49066 friends dictionary'\n"
     ]
    },
    {
     "name": "stderr",
     "output_type": "stream",
     "text": [
      "  9%|▉         | 9.51k/102k [14:06:13<202:38:11, 7.71s/Twitter friendship]"
     ]
    },
    {
     "name": "stdout",
     "output_type": "stream",
     "text": [
      "'Loaded 49083 friends dictionary'\n"
     ]
    },
    {
     "name": "stderr",
     "output_type": "stream",
     "text": [
      "  9%|▉         | 9.53k/102k [14:06:47<157:54:22, 6.01s/Twitter friendship]"
     ]
    },
    {
     "name": "stdout",
     "output_type": "stream",
     "text": [
      "'Loaded 49100 friends dictionary'\n",
      "tweepy.TweepError Not authorized.  from:  14\n"
     ]
    },
    {
     "name": "stderr",
     "output_type": "stream",
     "text": [
      "  9%|▉         | 9.55k/102k [14:07:24<127:25:39, 4.85s/Twitter friendship]"
     ]
    },
    {
     "name": "stdout",
     "output_type": "stream",
     "text": [
      "'Loaded 49117 friends dictionary'\n",
      "tweepy.TweepError Not authorized.  from:  6\n"
     ]
    },
    {
     "name": "stderr",
     "output_type": "stream",
     "text": [
      "  9%|▉         | 9.56k/102k [14:08:28<118:46:45, 4.52s/Twitter friendship]"
     ]
    },
    {
     "name": "stdout",
     "output_type": "stream",
     "text": [
      "'Loaded 49134 friends dictionary'\n",
      "tweepy.TweepError [{'code': 34, 'message': 'Sorry, that page does not exist.'}]  from:  7\n"
     ]
    },
    {
     "name": "stderr",
     "output_type": "stream",
     "text": [
      "  9%|▉         | 9.58k/102k [14:08:59<97:45:45, 3.72s/Twitter friendship] "
     ]
    },
    {
     "name": "stdout",
     "output_type": "stream",
     "text": [
      "'Loaded 49151 friends dictionary'\n"
     ]
    },
    {
     "name": "stderr",
     "output_type": "stream",
     "text": [
      "  9%|▉         | 9.60k/102k [14:09:56<94:46:08, 3.61s/Twitter friendship]"
     ]
    },
    {
     "name": "stdout",
     "output_type": "stream",
     "text": [
      "'Loaded 49168 friends dictionary'\n",
      "tweepy.TweepError Not authorized.  from:  3\n",
      "tweepy.TweepError Not authorized.  from:  4\n",
      "tweepy.TweepError Not authorized.  from:  8\n"
     ]
    },
    {
     "name": "stderr",
     "output_type": "stream",
     "text": [
      "  9%|▉         | 9.61k/102k [14:10:28<81:18:27, 3.10s/Twitter friendship]"
     ]
    },
    {
     "name": "stdout",
     "output_type": "stream",
     "text": [
      "'Loaded 49185 friends dictionary'\n",
      "tweepy.TweepError Not authorized.  from:  9\n"
     ]
    },
    {
     "name": "stderr",
     "output_type": "stream",
     "text": [
      "  9%|▉         | 9.63k/102k [14:11:44<91:48:26, 3.50s/Twitter friendship]"
     ]
    },
    {
     "name": "stdout",
     "output_type": "stream",
     "text": [
      "'Loaded 49202 friends dictionary'\n",
      "tweepy.TweepError Not authorized.  from:  12\n"
     ]
    },
    {
     "name": "stderr",
     "output_type": "stream",
     "text": [
      "  9%|▉         | 9.65k/102k [14:13:05<101:48:06, 3.88s/Twitter friendship]"
     ]
    },
    {
     "name": "stdout",
     "output_type": "stream",
     "text": [
      "'Loaded 49219 friends dictionary'\n",
      "tweepy.TweepError Not authorized.  from:  13\n"
     ]
    },
    {
     "name": "stderr",
     "output_type": "stream",
     "text": [
      "  9%|▉         | 9.66k/102k [14:14:10<101:13:57, 3.86s/Twitter friendship]"
     ]
    },
    {
     "name": "stdout",
     "output_type": "stream",
     "text": [
      "'Loaded 49236 friends dictionary'\n",
      "tweepy.TweepError [{'code': 34, 'message': 'Sorry, that page does not exist.'}]  from:  4\n"
     ]
    },
    {
     "name": "stderr",
     "output_type": "stream",
     "text": [
      " 10%|▉         | 9.68k/102k [14:14:50<89:38:37, 3.42s/Twitter friendship] "
     ]
    },
    {
     "name": "stdout",
     "output_type": "stream",
     "text": [
      "'Loaded 49253 friends dictionary'\n"
     ]
    },
    {
     "name": "stderr",
     "output_type": "stream",
     "text": [
      " 10%|▉         | 9.70k/102k [14:16:02<95:46:44, 3.65s/Twitter friendship]"
     ]
    },
    {
     "name": "stdout",
     "output_type": "stream",
     "text": [
      "'Loaded 49270 friends dictionary'\n"
     ]
    },
    {
     "name": "stderr",
     "output_type": "stream",
     "text": [
      " 10%|▉         | 9.71k/102k [14:17:25<105:39:29, 4.03s/Twitter friendship]"
     ]
    },
    {
     "name": "stdout",
     "output_type": "stream",
     "text": [
      "'Loaded 49287 friends dictionary'\n"
     ]
    },
    {
     "name": "stderr",
     "output_type": "stream",
     "text": [
      "Rate limit reached. Sleeping for: 197\n",
      " 10%|▉         | 9.73k/102k [14:21:52<197:13:08, 7.53s/Twitter friendship]"
     ]
    },
    {
     "name": "stdout",
     "output_type": "stream",
     "text": [
      "'Loaded 49304 friends dictionary'\n"
     ]
    },
    {
     "name": "stderr",
     "output_type": "stream",
     "text": [
      " 10%|▉         | 9.75k/102k [14:22:33<157:11:05, 6.00s/Twitter friendship]"
     ]
    },
    {
     "name": "stdout",
     "output_type": "stream",
     "text": [
      "'Loaded 49321 friends dictionary'\n",
      "tweepy.TweepError Not authorized.  from:  6\n"
     ]
    },
    {
     "name": "stderr",
     "output_type": "stream",
     "text": [
      " 10%|▉         | 9.76k/102k [14:23:03<123:38:05, 4.72s/Twitter friendship]"
     ]
    },
    {
     "name": "stdout",
     "output_type": "stream",
     "text": [
      "'Loaded 49338 friends dictionary'\n",
      "tweepy.TweepError [{'code': 34, 'message': 'Sorry, that page does not exist.'}]  from:  0\n"
     ]
    },
    {
     "name": "stderr",
     "output_type": "stream",
     "text": [
      " 10%|▉         | 9.78k/102k [14:24:23<123:40:09, 4.72s/Twitter friendship]"
     ]
    },
    {
     "name": "stdout",
     "output_type": "stream",
     "text": [
      "'Loaded 49355 friends dictionary'\n"
     ]
    },
    {
     "name": "stderr",
     "output_type": "stream",
     "text": [
      " 10%|▉         | 9.79k/102k [14:25:07<106:48:58, 4.08s/Twitter friendship]"
     ]
    },
    {
     "name": "stdout",
     "output_type": "stream",
     "text": [
      "'Loaded 49372 friends dictionary'\n"
     ]
    },
    {
     "name": "stderr",
     "output_type": "stream",
     "text": [
      "Rate limit reached. Sleeping for: 610\n",
      "Rate limit reached. Sleeping for: 896\n",
      "Rate limit reached. Sleeping for: 895\n",
      "Rate limit reached. Sleeping for: 897\n",
      "Rate limit reached. Sleeping for: 897\n"
     ]
    },
    {
     "name": "stdout",
     "output_type": "stream",
     "text": [
      "tweepy.TweepError Not authorized.  from:  11\n"
     ]
    },
    {
     "name": "stderr",
     "output_type": "stream",
     "text": [
      " 10%|▉         | 9.81k/102k [15:37:20<2076:42:01, 79.3s/Twitter friendship]"
     ]
    },
    {
     "name": "stdout",
     "output_type": "stream",
     "text": [
      "'Loaded 49389 friends dictionary'\n",
      "tweepy.TweepError Not authorized.  from:  1\n"
     ]
    },
    {
     "name": "stderr",
     "output_type": "stream",
     "text": [
      " 10%|▉         | 9.83k/102k [15:38:07<1475:05:31, 56.4s/Twitter friendship]"
     ]
    },
    {
     "name": "stdout",
     "output_type": "stream",
     "text": [
      "'Loaded 49406 friends dictionary'\n"
     ]
    },
    {
     "name": "stderr",
     "output_type": "stream",
     "text": [
      " 10%|▉         | 9.84k/102k [15:39:13<1062:42:04, 40.6s/Twitter friendship]"
     ]
    },
    {
     "name": "stdout",
     "output_type": "stream",
     "text": [
      "'Loaded 49423 friends dictionary'\n"
     ]
    },
    {
     "name": "stderr",
     "output_type": "stream",
     "text": [
      " 10%|▉         | 9.86k/102k [15:39:52<761:57:07, 29.1s/Twitter friendship] "
     ]
    },
    {
     "name": "stdout",
     "output_type": "stream",
     "text": [
      "'Loaded 49440 friends dictionary'\n"
     ]
    },
    {
     "name": "stderr",
     "output_type": "stream",
     "text": [
      " 10%|▉         | 9.88k/102k [15:40:53<561:33:34, 21.5s/Twitter friendship]"
     ]
    },
    {
     "name": "stdout",
     "output_type": "stream",
     "text": [
      "'Loaded 49457 friends dictionary'\n"
     ]
    },
    {
     "name": "stderr",
     "output_type": "stream",
     "text": [
      " 10%|▉         | 9.89k/102k [15:41:45<417:03:24, 15.9s/Twitter friendship]"
     ]
    },
    {
     "name": "stdout",
     "output_type": "stream",
     "text": [
      "'Loaded 49474 friends dictionary'\n",
      "tweepy.TweepError Not authorized.  from:  14\n"
     ]
    },
    {
     "name": "stderr",
     "output_type": "stream",
     "text": [
      " 10%|▉         | 9.91k/102k [15:42:50<321:33:29, 12.3s/Twitter friendship]"
     ]
    },
    {
     "name": "stdout",
     "output_type": "stream",
     "text": [
      "'Loaded 49491 friends dictionary'\n"
     ]
    },
    {
     "name": "stderr",
     "output_type": "stream",
     "text": [
      "Rate limit reached. Sleeping for: 534\n",
      " 10%|▉         | 9.93k/102k [15:52:26<490:45:36, 18.8s/Twitter friendship]"
     ]
    },
    {
     "name": "stdout",
     "output_type": "stream",
     "text": [
      "'Loaded 49508 friends dictionary'\n"
     ]
    },
    {
     "name": "stderr",
     "output_type": "stream",
     "text": [
      " 10%|▉         | 9.94k/102k [15:53:15<366:20:11, 14.0s/Twitter friendship]"
     ]
    },
    {
     "name": "stdout",
     "output_type": "stream",
     "text": [
      "'Loaded 49525 friends dictionary'\n"
     ]
    },
    {
     "name": "stderr",
     "output_type": "stream",
     "text": [
      " 10%|▉         | 9.96k/102k [15:54:24<288:06:04, 11.0s/Twitter friendship]"
     ]
    },
    {
     "name": "stdout",
     "output_type": "stream",
     "text": [
      "'Loaded 49542 friends dictionary'\n"
     ]
    },
    {
     "name": "stderr",
     "output_type": "stream",
     "text": [
      " 10%|▉         | 9.98k/102k [15:54:59<218:00:52, 8.34s/Twitter friendship]"
     ]
    },
    {
     "name": "stdout",
     "output_type": "stream",
     "text": [
      "'Loaded 49559 friends dictionary'\n",
      "tweepy.TweepError Not authorized.  from:  3\n"
     ]
    },
    {
     "name": "stderr",
     "output_type": "stream",
     "text": [
      " 10%|▉         | 9.99k/102k [15:56:01<180:47:44, 6.92s/Twitter friendship]"
     ]
    },
    {
     "name": "stdout",
     "output_type": "stream",
     "text": [
      "'Loaded 49576 friends dictionary'\n",
      "tweepy.TweepError [{'code': 34, 'message': 'Sorry, that page does not exist.'}]  from:  1\n",
      "tweepy.TweepError Not authorized.  from:  2\n"
     ]
    },
    {
     "name": "stderr",
     "output_type": "stream",
     "text": [
      " 10%|▉         | 10.0k/102k [15:56:38<143:35:57, 5.50s/Twitter friendship]"
     ]
    },
    {
     "name": "stdout",
     "output_type": "stream",
     "text": [
      "'Loaded 49593 friends dictionary'\n"
     ]
    },
    {
     "name": "stderr",
     "output_type": "stream",
     "text": [
      " 10%|▉         | 10.0k/102k [15:57:41<129:29:33, 4.96s/Twitter friendship]"
     ]
    },
    {
     "name": "stdout",
     "output_type": "stream",
     "text": [
      "'Loaded 49610 friends dictionary'\n"
     ]
    },
    {
     "name": "stderr",
     "output_type": "stream",
     "text": [
      " 10%|▉         | 10.0k/102k [15:58:16<106:46:09, 4.09s/Twitter friendship]"
     ]
    },
    {
     "name": "stdout",
     "output_type": "stream",
     "text": [
      "'Loaded 49627 friends dictionary'\n",
      "tweepy.TweepError Not authorized.  from:  11\n"
     ]
    },
    {
     "name": "stderr",
     "output_type": "stream",
     "text": [
      " 10%|▉         | 10.1k/102k [15:59:15<102:04:47, 3.91s/Twitter friendship]"
     ]
    },
    {
     "name": "stdout",
     "output_type": "stream",
     "text": [
      "'Loaded 49644 friends dictionary'\n"
     ]
    },
    {
     "name": "stderr",
     "output_type": "stream",
     "text": [
      " 10%|▉         | 10.1k/102k [15:59:51<88:07:11, 3.38s/Twitter friendship] "
     ]
    },
    {
     "name": "stdout",
     "output_type": "stream",
     "text": [
      "'Loaded 49661 friends dictionary'\n"
     ]
    },
    {
     "name": "stderr",
     "output_type": "stream",
     "text": [
      " 10%|▉         | 10.1k/102k [16:00:49<88:10:26, 3.38s/Twitter friendship]"
     ]
    },
    {
     "name": "stdout",
     "output_type": "stream",
     "text": [
      "'Loaded 49678 friends dictionary'\n"
     ]
    },
    {
     "name": "stderr",
     "output_type": "stream",
     "text": [
      " 10%|▉         | 10.1k/102k [16:01:24<78:08:06, 2.99s/Twitter friendship]"
     ]
    },
    {
     "name": "stdout",
     "output_type": "stream",
     "text": [
      "'Loaded 49695 friends dictionary'\n",
      "tweepy.TweepError Not authorized.  from:  6\n",
      "tweepy.TweepError [{'code': 34, 'message': 'Sorry, that page does not exist.'}]  from:  10\n"
     ]
    },
    {
     "name": "stderr",
     "output_type": "stream",
     "text": [
      " 10%|▉         | 10.1k/102k [16:02:03<72:21:31, 2.77s/Twitter friendship]"
     ]
    },
    {
     "name": "stdout",
     "output_type": "stream",
     "text": [
      "'Loaded 49712 friends dictionary'\n"
     ]
    },
    {
     "name": "stderr",
     "output_type": "stream",
     "text": [
      "Rate limit reached. Sleeping for: 291\n",
      " 10%|▉         | 10.1k/102k [16:08:21<224:41:04, 8.61s/Twitter friendship]"
     ]
    },
    {
     "name": "stdout",
     "output_type": "stream",
     "text": [
      "'Loaded 49729 friends dictionary'\n"
     ]
    },
    {
     "name": "stderr",
     "output_type": "stream",
     "text": [
      " 10%|▉         | 10.2k/102k [16:08:54<172:31:31, 6.61s/Twitter friendship]"
     ]
    },
    {
     "name": "stdout",
     "output_type": "stream",
     "text": [
      "'Loaded 49746 friends dictionary'\n",
      "tweepy.TweepError Not authorized.  from:  3\n"
     ]
    },
    {
     "name": "stderr",
     "output_type": "stream",
     "text": [
      " 10%|▉         | 10.2k/102k [16:09:51<147:09:08, 5.64s/Twitter friendship]"
     ]
    },
    {
     "name": "stdout",
     "output_type": "stream",
     "text": [
      "tweepy.TweepError Not authorized.  from:  16\n",
      "'Loaded 49763 friends dictionary'\n"
     ]
    },
    {
     "name": "stderr",
     "output_type": "stream",
     "text": [
      " 10%|█         | 10.2k/102k [16:10:34<122:44:26, 4.71s/Twitter friendship]"
     ]
    },
    {
     "name": "stdout",
     "output_type": "stream",
     "text": [
      "'Loaded 49780 friends dictionary'\n"
     ]
    },
    {
     "name": "stderr",
     "output_type": "stream",
     "text": [
      " 10%|█         | 10.2k/102k [16:11:33<112:58:34, 4.33s/Twitter friendship]"
     ]
    },
    {
     "name": "stdout",
     "output_type": "stream",
     "text": [
      "tweepy.TweepError Not authorized.  from:  16\n",
      "'Loaded 49797 friends dictionary'\n"
     ]
    },
    {
     "name": "stderr",
     "output_type": "stream",
     "text": [
      " 10%|█         | 10.2k/102k [16:12:18<99:29:55, 3.82s/Twitter friendship] "
     ]
    },
    {
     "name": "stdout",
     "output_type": "stream",
     "text": [
      "'Loaded 49814 friends dictionary'\n"
     ]
    },
    {
     "name": "stderr",
     "output_type": "stream",
     "text": [
      " 10%|█         | 10.2k/102k [16:13:09<93:22:23, 3.58s/Twitter friendship]"
     ]
    },
    {
     "name": "stdout",
     "output_type": "stream",
     "text": [
      "'Loaded 49831 friends dictionary'\n"
     ]
    },
    {
     "name": "stderr",
     "output_type": "stream",
     "text": [
      " 10%|█         | 10.3k/102k [16:13:41<80:09:20, 3.08s/Twitter friendship]"
     ]
    },
    {
     "name": "stdout",
     "output_type": "stream",
     "text": [
      "'Loaded 49848 friends dictionary'\n"
     ]
    },
    {
     "name": "stderr",
     "output_type": "stream",
     "text": [
      " 10%|█         | 10.3k/102k [16:14:18<73:06:14, 2.81s/Twitter friendship]"
     ]
    },
    {
     "name": "stdout",
     "output_type": "stream",
     "text": [
      "'Loaded 49865 friends dictionary'\n"
     ]
    },
    {
     "name": "stderr",
     "output_type": "stream",
     "text": [
      " 10%|█         | 10.3k/102k [16:15:09<74:26:38, 2.86s/Twitter friendship]"
     ]
    },
    {
     "name": "stdout",
     "output_type": "stream",
     "text": [
      "'Loaded 49882 friends dictionary'\n"
     ]
    },
    {
     "name": "stderr",
     "output_type": "stream",
     "text": [
      " 10%|█         | 10.3k/102k [16:15:37<64:52:59, 2.49s/Twitter friendship]"
     ]
    },
    {
     "name": "stdout",
     "output_type": "stream",
     "text": [
      "'Loaded 49899 friends dictionary'\n"
     ]
    },
    {
     "name": "stderr",
     "output_type": "stream",
     "text": [
      " 10%|█         | 10.3k/102k [16:16:35<71:55:22, 2.76s/Twitter friendship]"
     ]
    },
    {
     "name": "stdout",
     "output_type": "stream",
     "text": [
      "tweepy.TweepError Not authorized.  from:  16\n",
      "'Loaded 49916 friends dictionary'\n"
     ]
    },
    {
     "name": "stderr",
     "output_type": "stream",
     "text": [
      " 10%|█         | 10.3k/102k [16:17:06<64:53:48, 2.49s/Twitter friendship]"
     ]
    },
    {
     "name": "stdout",
     "output_type": "stream",
     "text": [
      "'Loaded 49933 friends dictionary'\n"
     ]
    },
    {
     "name": "stderr",
     "output_type": "stream",
     "text": [
      "Rate limit reached. Sleeping for: 317\n",
      " 10%|█         | 10.4k/102k [16:23:26<219:35:55, 8.44s/Twitter friendship]"
     ]
    },
    {
     "name": "stdout",
     "output_type": "stream",
     "text": [
      "'Loaded 49950 friends dictionary'\n"
     ]
    },
    {
     "name": "stderr",
     "output_type": "stream",
     "text": [
      " 10%|█         | 10.4k/102k [16:23:58<168:28:39, 6.47s/Twitter friendship]"
     ]
    },
    {
     "name": "stdout",
     "output_type": "stream",
     "text": [
      "'Loaded 49967 friends dictionary'\n",
      "tweepy.TweepError Not authorized.  from:  6\n"
     ]
    },
    {
     "name": "stderr",
     "output_type": "stream",
     "text": [
      " 10%|█         | 10.4k/102k [16:24:56<144:44:30, 5.56s/Twitter friendship]"
     ]
    },
    {
     "name": "stdout",
     "output_type": "stream",
     "text": [
      "'Loaded 49984 friends dictionary'\n"
     ]
    },
    {
     "name": "stderr",
     "output_type": "stream",
     "text": [
      " 10%|█         | 10.4k/102k [16:25:27<115:39:46, 4.45s/Twitter friendship]"
     ]
    },
    {
     "name": "stdout",
     "output_type": "stream",
     "text": [
      "'Loaded 50001 friends dictionary'\n"
     ]
    },
    {
     "name": "stderr",
     "output_type": "stream",
     "text": [
      " 10%|█         | 10.4k/102k [16:26:17<103:38:54, 3.99s/Twitter friendship]"
     ]
    },
    {
     "name": "stdout",
     "output_type": "stream",
     "text": [
      "'Loaded 50018 friends dictionary'\n",
      "tweepy.TweepError Not authorized.  from:  12\n",
      "tweepy.TweepError Not authorized.  from:  14\n"
     ]
    },
    {
     "name": "stderr",
     "output_type": "stream",
     "text": [
      " 10%|█         | 10.4k/102k [16:26:49<87:07:03, 3.35s/Twitter friendship] "
     ]
    },
    {
     "name": "stdout",
     "output_type": "stream",
     "text": [
      "'Loaded 50035 friends dictionary'\n"
     ]
    },
    {
     "name": "stderr",
     "output_type": "stream",
     "text": [
      " 10%|█         | 10.5k/102k [16:27:23<76:52:00, 2.96s/Twitter friendship]"
     ]
    },
    {
     "name": "stdout",
     "output_type": "stream",
     "text": [
      "'Loaded 50052 friends dictionary'\n",
      "tweepy.TweepError Not authorized.  from:  6\n"
     ]
    },
    {
     "name": "stderr",
     "output_type": "stream",
     "text": [
      " 10%|█         | 10.5k/102k [16:28:39<88:42:42, 3.41s/Twitter friendship]"
     ]
    },
    {
     "name": "stdout",
     "output_type": "stream",
     "text": [
      "'Loaded 50069 friends dictionary'\n",
      "tweepy.TweepError Not authorized.  from:  6\n"
     ]
    },
    {
     "name": "stderr",
     "output_type": "stream",
     "text": [
      " 10%|█         | 10.5k/102k [16:29:07<74:52:49, 2.88s/Twitter friendship]"
     ]
    },
    {
     "name": "stdout",
     "output_type": "stream",
     "text": [
      "'Loaded 50086 friends dictionary'\n"
     ]
    },
    {
     "name": "stderr",
     "output_type": "stream",
     "text": [
      "Rate limit reached. Sleeping for: 499\n",
      " 10%|█         | 10.5k/102k [16:38:35<312:37:13, 12.0s/Twitter friendship]"
     ]
    },
    {
     "name": "stdout",
     "output_type": "stream",
     "text": [
      "'Loaded 50103 friends dictionary'\n"
     ]
    },
    {
     "name": "stderr",
     "output_type": "stream",
     "text": [
      " 10%|█         | 10.5k/102k [16:39:10<234:51:02, 9.04s/Twitter friendship]"
     ]
    },
    {
     "name": "stdout",
     "output_type": "stream",
     "text": [
      "'Loaded 50120 friends dictionary'\n"
     ]
    },
    {
     "name": "stderr",
     "output_type": "stream",
     "text": [
      " 10%|█         | 10.5k/102k [16:40:06<190:09:42, 7.32s/Twitter friendship]"
     ]
    },
    {
     "name": "stdout",
     "output_type": "stream",
     "text": [
      "'Loaded 50137 friends dictionary'\n"
     ]
    },
    {
     "name": "stderr",
     "output_type": "stream",
     "text": [
      "Rate limit reached. Sleeping for: 775\n"
     ]
    },
    {
     "name": "stdout",
     "output_type": "stream",
     "text": [
      "tweepy.TweepError Not authorized.  from:  9\n"
     ]
    },
    {
     "name": "stderr",
     "output_type": "stream",
     "text": [
      " 10%|█         | 10.6k/102k [16:53:36<504:21:38, 19.4s/Twitter friendship]"
     ]
    },
    {
     "name": "stdout",
     "output_type": "stream",
     "text": [
      "'Loaded 50154 friends dictionary'\n",
      "tweepy.TweepError Not authorized.  from:  3\n"
     ]
    },
    {
     "name": "stderr",
     "output_type": "stream",
     "text": [
      " 10%|█         | 10.6k/102k [16:54:36<380:05:25, 14.6s/Twitter friendship]"
     ]
    },
    {
     "name": "stdout",
     "output_type": "stream",
     "text": [
      "'Loaded 50171 friends dictionary'\n"
     ]
    },
    {
     "name": "stderr",
     "output_type": "stream",
     "text": [
      " 10%|█         | 10.6k/102k [16:55:09<281:32:57, 10.8s/Twitter friendship]"
     ]
    },
    {
     "name": "stdout",
     "output_type": "stream",
     "text": [
      "'Loaded 50188 friends dictionary'\n",
      "tweepy.TweepError Not authorized.  from:  1\n"
     ]
    },
    {
     "name": "stderr",
     "output_type": "stream",
     "text": [
      " 10%|█         | 10.6k/102k [16:55:45<213:09:45, 8.21s/Twitter friendship]"
     ]
    },
    {
     "name": "stdout",
     "output_type": "stream",
     "text": [
      "'Loaded 50205 friends dictionary'\n",
      "tweepy.TweepError Not authorized.  from:  2\n"
     ]
    },
    {
     "name": "stderr",
     "output_type": "stream",
     "text": [
      " 10%|█         | 10.6k/102k [16:56:21<166:02:03, 6.40s/Twitter friendship]"
     ]
    },
    {
     "name": "stdout",
     "output_type": "stream",
     "text": [
      "'Loaded 50222 friends dictionary'\n"
     ]
    },
    {
     "name": "stderr",
     "output_type": "stream",
     "text": [
      " 10%|█         | 10.6k/102k [16:56:48<128:11:40, 4.94s/Twitter friendship]"
     ]
    },
    {
     "name": "stdout",
     "output_type": "stream",
     "text": [
      "tweepy.TweepError Not authorized.  from:  16\n",
      "'Loaded 50239 friends dictionary'\n"
     ]
    },
    {
     "name": "stderr",
     "output_type": "stream",
     "text": [
      " 10%|█         | 10.7k/102k [16:57:40<113:35:15, 4.38s/Twitter friendship]"
     ]
    },
    {
     "name": "stdout",
     "output_type": "stream",
     "text": [
      "'Loaded 50256 friends dictionary'\n"
     ]
    },
    {
     "name": "stderr",
     "output_type": "stream",
     "text": [
      " 10%|█         | 10.7k/102k [16:58:11<93:55:56, 3.62s/Twitter friendship] "
     ]
    },
    {
     "name": "stdout",
     "output_type": "stream",
     "text": [
      "'Loaded 50273 friends dictionary'\n"
     ]
    },
    {
     "name": "stderr",
     "output_type": "stream",
     "text": [
      " 10%|█         | 10.7k/102k [16:59:04<89:41:56, 3.46s/Twitter friendship]"
     ]
    },
    {
     "name": "stdout",
     "output_type": "stream",
     "text": [
      "'Loaded 50290 friends dictionary'\n"
     ]
    },
    {
     "name": "stderr",
     "output_type": "stream",
     "text": [
      " 11%|█         | 10.7k/102k [16:59:36<77:28:47, 2.99s/Twitter friendship]"
     ]
    },
    {
     "name": "stdout",
     "output_type": "stream",
     "text": [
      "'Loaded 50307 friends dictionary'\n"
     ]
    },
    {
     "name": "stderr",
     "output_type": "stream",
     "text": [
      " 11%|█         | 10.7k/102k [17:00:29<78:27:05, 3.03s/Twitter friendship]"
     ]
    },
    {
     "name": "stdout",
     "output_type": "stream",
     "text": [
      "'Loaded 50324 friends dictionary'\n"
     ]
    },
    {
     "name": "stderr",
     "output_type": "stream",
     "text": [
      " 11%|█         | 10.7k/102k [17:01:00<69:16:18, 2.67s/Twitter friendship]"
     ]
    },
    {
     "name": "stdout",
     "output_type": "stream",
     "text": [
      "'Loaded 50341 friends dictionary'\n"
     ]
    },
    {
     "name": "stderr",
     "output_type": "stream",
     "text": [
      "Rate limit reached. Sleeping for: 424\n",
      " 11%|█         | 10.8k/102k [17:08:43<259:57:29, 10.0s/Twitter friendship]"
     ]
    },
    {
     "name": "stdout",
     "output_type": "stream",
     "text": [
      "'Loaded 50358 friends dictionary'\n"
     ]
    },
    {
     "name": "stderr",
     "output_type": "stream",
     "text": [
      " 11%|█         | 10.8k/102k [17:09:22<200:01:45, 7.72s/Twitter friendship]"
     ]
    },
    {
     "name": "stdout",
     "output_type": "stream",
     "text": [
      "'Loaded 50375 friends dictionary'\n"
     ]
    },
    {
     "name": "stderr",
     "output_type": "stream",
     "text": [
      " 11%|█         | 10.8k/102k [17:10:01<157:35:48, 6.08s/Twitter friendship]"
     ]
    },
    {
     "name": "stdout",
     "output_type": "stream",
     "text": [
      "'Loaded 50392 friends dictionary'\n",
      "tweepy.TweepError Not authorized.  from:  6\n"
     ]
    },
    {
     "name": "stderr",
     "output_type": "stream",
     "text": [
      " 11%|█         | 10.8k/102k [17:10:58<136:20:40, 5.26s/Twitter friendship]"
     ]
    },
    {
     "name": "stdout",
     "output_type": "stream",
     "text": [
      "'Loaded 50409 friends dictionary'\n"
     ]
    },
    {
     "name": "stderr",
     "output_type": "stream",
     "text": [
      " 11%|█         | 10.8k/102k [17:11:28<109:15:08, 4.22s/Twitter friendship]"
     ]
    },
    {
     "name": "stdout",
     "output_type": "stream",
     "text": [
      "'Loaded 50426 friends dictionary'\n",
      "tweepy.TweepError Not authorized.  from:  8\n"
     ]
    },
    {
     "name": "stderr",
     "output_type": "stream",
     "text": [
      " 11%|█         | 10.8k/102k [17:12:21<100:46:21, 3.89s/Twitter friendship]"
     ]
    },
    {
     "name": "stdout",
     "output_type": "stream",
     "text": [
      "'Loaded 50443 friends dictionary'\n",
      "tweepy.TweepError Not authorized.  from:  0\n"
     ]
    },
    {
     "name": "stderr",
     "output_type": "stream",
     "text": [
      " 11%|█         | 10.9k/102k [17:12:51<84:09:56, 3.25s/Twitter friendship] "
     ]
    },
    {
     "name": "stdout",
     "output_type": "stream",
     "text": [
      "'Loaded 50460 friends dictionary'\n",
      "tweepy.TweepError Not authorized.  from:  1\n"
     ]
    },
    {
     "name": "stderr",
     "output_type": "stream",
     "text": [
      " 11%|█         | 10.9k/102k [17:13:46<84:03:41, 3.25s/Twitter friendship]"
     ]
    },
    {
     "name": "stdout",
     "output_type": "stream",
     "text": [
      "'Loaded 50477 friends dictionary'\n"
     ]
    },
    {
     "name": "stderr",
     "output_type": "stream",
     "text": [
      " 11%|█         | 10.9k/102k [17:14:15<72:01:41, 2.78s/Twitter friendship]"
     ]
    },
    {
     "name": "stdout",
     "output_type": "stream",
     "text": [
      "'Loaded 50494 friends dictionary'\n"
     ]
    },
    {
     "name": "stderr",
     "output_type": "stream",
     "text": [
      " 11%|█         | 10.9k/102k [17:14:55<68:45:58, 2.66s/Twitter friendship]"
     ]
    },
    {
     "name": "stdout",
     "output_type": "stream",
     "text": [
      "'Loaded 50511 friends dictionary'\n"
     ]
    },
    {
     "name": "stderr",
     "output_type": "stream",
     "text": [
      " 11%|█         | 10.9k/102k [17:15:26<62:21:50, 2.41s/Twitter friendship]"
     ]
    },
    {
     "name": "stdout",
     "output_type": "stream",
     "text": [
      "'Loaded 50528 friends dictionary'\n"
     ]
    },
    {
     "name": "stderr",
     "output_type": "stream",
     "text": [
      " 11%|█         | 10.9k/102k [17:16:00<58:59:35, 2.28s/Twitter friendship]"
     ]
    },
    {
     "name": "stdout",
     "output_type": "stream",
     "text": [
      "'Loaded 50545 friends dictionary'\n",
      "tweepy.TweepError Not authorized.  from:  2\n",
      "tweepy.TweepError Not authorized.  from:  8\n",
      "tweepy.TweepError Not authorized.  from:  10\n"
     ]
    },
    {
     "name": "stderr",
     "output_type": "stream",
     "text": [
      " 11%|█         | 11.0k/102k [17:16:58<67:30:52, 2.61s/Twitter friendship]"
     ]
    },
    {
     "name": "stdout",
     "output_type": "stream",
     "text": [
      "'Loaded 50562 friends dictionary'\n"
     ]
    },
    {
     "name": "stderr",
     "output_type": "stream",
     "text": [
      "Rate limit reached. Sleeping for: 450\n"
     ]
    },
    {
     "name": "stdout",
     "output_type": "stream",
     "text": [
      "tweepy.TweepError Not authorized.  from:  14\n"
     ]
    },
    {
     "name": "stderr",
     "output_type": "stream",
     "text": [
      " 11%|█         | 11.0k/102k [17:25:06<270:11:28, 10.5s/Twitter friendship]"
     ]
    },
    {
     "name": "stdout",
     "output_type": "stream",
     "text": [
      "'Loaded 50579 friends dictionary'\n"
     ]
    },
    {
     "name": "stderr",
     "output_type": "stream",
     "text": [
      " 11%|█         | 11.0k/102k [17:26:00<213:45:28, 8.27s/Twitter friendship]"
     ]
    },
    {
     "name": "stdout",
     "output_type": "stream",
     "text": [
      "'Loaded 50596 friends dictionary'\n"
     ]
    },
    {
     "name": "stderr",
     "output_type": "stream",
     "text": [
      " 11%|█         | 11.0k/102k [17:26:31<163:27:57, 6.33s/Twitter friendship]"
     ]
    },
    {
     "name": "stdout",
     "output_type": "stream",
     "text": [
      "'Loaded 50613 friends dictionary'\n"
     ]
    },
    {
     "name": "stderr",
     "output_type": "stream",
     "text": [
      " 11%|█         | 11.0k/102k [17:27:22<137:44:05, 5.33s/Twitter friendship]"
     ]
    },
    {
     "name": "stdout",
     "output_type": "stream",
     "text": [
      "'Loaded 50630 friends dictionary'\n"
     ]
    },
    {
     "name": "stderr",
     "output_type": "stream",
     "text": [
      " 11%|█         | 11.0k/102k [17:27:53<110:31:22, 4.28s/Twitter friendship]"
     ]
    },
    {
     "name": "stdout",
     "output_type": "stream",
     "text": [
      "'Loaded 50647 friends dictionary'\n"
     ]
    },
    {
     "name": "stderr",
     "output_type": "stream",
     "text": [
      " 11%|█         | 11.1k/102k [17:28:35<96:26:41, 3.73s/Twitter friendship] "
     ]
    },
    {
     "name": "stdout",
     "output_type": "stream",
     "text": [
      "'Loaded 50664 friends dictionary'\n"
     ]
    },
    {
     "name": "stderr",
     "output_type": "stream",
     "text": [
      " 11%|█         | 11.1k/102k [17:29:10<83:37:27, 3.24s/Twitter friendship]"
     ]
    },
    {
     "name": "stdout",
     "output_type": "stream",
     "text": [
      "'Loaded 50681 friends dictionary'\n",
      "tweepy.TweepError Not authorized.  from:  0\n",
      "tweepy.TweepError Not authorized.  from:  13\n"
     ]
    },
    {
     "name": "stderr",
     "output_type": "stream",
     "text": [
      " 11%|█         | 11.1k/102k [17:29:36<70:31:39, 2.73s/Twitter friendship]"
     ]
    },
    {
     "name": "stdout",
     "output_type": "stream",
     "text": [
      "'Loaded 50698 friends dictionary'\n",
      "tweepy.TweepError Not authorized.  from:  1\n",
      "tweepy.TweepError Not authorized.  from:  2\n",
      "tweepy.TweepError Not authorized.  from:  14\n"
     ]
    },
    {
     "name": "stderr",
     "output_type": "stream",
     "text": [
      " 11%|█         | 11.1k/102k [17:30:31<74:05:02, 2.87s/Twitter friendship]"
     ]
    },
    {
     "name": "stdout",
     "output_type": "stream",
     "text": [
      "'Loaded 50715 friends dictionary'\n",
      "tweepy.TweepError [{'code': 34, 'message': 'Sorry, that page does not exist.'}]  from:  2\n",
      "tweepy.TweepError [{'code': 34, 'message': 'Sorry, that page does not exist.'}]  from:  13\n"
     ]
    },
    {
     "name": "stderr",
     "output_type": "stream",
     "text": [
      " 11%|█         | 11.1k/102k [17:30:59<64:41:22, 2.51s/Twitter friendship]"
     ]
    },
    {
     "name": "stdout",
     "output_type": "stream",
     "text": [
      "'Loaded 50732 friends dictionary'\n"
     ]
    },
    {
     "name": "stderr",
     "output_type": "stream",
     "text": [
      " 11%|█         | 11.1k/102k [17:31:52<69:30:52, 2.69s/Twitter friendship]"
     ]
    },
    {
     "name": "stdout",
     "output_type": "stream",
     "text": [
      "'Loaded 50749 friends dictionary'\n",
      "tweepy.TweepError Not authorized.  from:  12\n"
     ]
    },
    {
     "name": "stderr",
     "output_type": "stream",
     "text": [
      " 11%|█         | 11.2k/102k [17:32:23<62:40:27, 2.43s/Twitter friendship]"
     ]
    },
    {
     "name": "stdout",
     "output_type": "stream",
     "text": [
      "'Loaded 50766 friends dictionary'\n"
     ]
    },
    {
     "name": "stderr",
     "output_type": "stream",
     "text": [
      " 11%|█         | 11.2k/102k [17:33:14<67:07:47, 2.60s/Twitter friendship]"
     ]
    },
    {
     "name": "stdout",
     "output_type": "stream",
     "text": [
      "'Loaded 50783 friends dictionary'\n"
     ]
    },
    {
     "name": "stderr",
     "output_type": "stream",
     "text": [
      "Rate limit reached. Sleeping for: 382\n",
      " 11%|█         | 11.2k/102k [17:40:11<236:46:41, 9.18s/Twitter friendship]"
     ]
    },
    {
     "name": "stdout",
     "output_type": "stream",
     "text": [
      "'Loaded 50800 friends dictionary'\n"
     ]
    },
    {
     "name": "stderr",
     "output_type": "stream",
     "text": [
      " 11%|█         | 11.2k/102k [17:40:56<186:11:24, 7.22s/Twitter friendship]"
     ]
    },
    {
     "name": "stdout",
     "output_type": "stream",
     "text": [
      "'Loaded 50817 friends dictionary'\n"
     ]
    },
    {
     "name": "stderr",
     "output_type": "stream",
     "text": [
      " 11%|█         | 11.2k/102k [17:41:30<145:39:49, 5.65s/Twitter friendship]"
     ]
    },
    {
     "name": "stdout",
     "output_type": "stream",
     "text": [
      "'Loaded 50834 friends dictionary'\n"
     ]
    },
    {
     "name": "stderr",
     "output_type": "stream",
     "text": [
      " 11%|█         | 11.2k/102k [17:41:57<114:08:57, 4.43s/Twitter friendship]"
     ]
    },
    {
     "name": "stdout",
     "output_type": "stream",
     "text": [
      "'Loaded 50851 friends dictionary'\n"
     ]
    },
    {
     "name": "stderr",
     "output_type": "stream",
     "text": [
      " 11%|█         | 11.3k/102k [17:42:54<105:54:22, 4.11s/Twitter friendship]"
     ]
    },
    {
     "name": "stdout",
     "output_type": "stream",
     "text": [
      "'Loaded 50868 friends dictionary'\n"
     ]
    },
    {
     "name": "stderr",
     "output_type": "stream",
     "text": [
      " 11%|█         | 11.3k/102k [17:43:25<88:24:01, 3.43s/Twitter friendship] "
     ]
    },
    {
     "name": "stdout",
     "output_type": "stream",
     "text": [
      "'Loaded 50885 friends dictionary'\n",
      "tweepy.TweepError Not authorized.  from:  2\n"
     ]
    },
    {
     "name": "stderr",
     "output_type": "stream",
     "text": [
      " 11%|█         | 11.3k/102k [17:44:18<85:57:56, 3.34s/Twitter friendship]"
     ]
    },
    {
     "name": "stdout",
     "output_type": "stream",
     "text": [
      "tweepy.TweepError Not authorized.  from:  16\n",
      "'Loaded 50902 friends dictionary'\n",
      "tweepy.TweepError Not authorized.  from:  5\n",
      "tweepy.TweepError Not authorized.  from:  13\n"
     ]
    },
    {
     "name": "stderr",
     "output_type": "stream",
     "text": [
      " 11%|█         | 11.3k/102k [17:44:58<78:13:30, 3.04s/Twitter friendship]"
     ]
    },
    {
     "name": "stdout",
     "output_type": "stream",
     "text": [
      "'Loaded 50919 friends dictionary'\n"
     ]
    },
    {
     "name": "stderr",
     "output_type": "stream",
     "text": [
      " 11%|█         | 11.3k/102k [17:45:49<77:53:14, 3.02s/Twitter friendship]"
     ]
    },
    {
     "name": "stdout",
     "output_type": "stream",
     "text": [
      "'Loaded 50936 friends dictionary'\n"
     ]
    },
    {
     "name": "stderr",
     "output_type": "stream",
     "text": [
      " 11%|█         | 11.3k/102k [17:46:20<68:41:24, 2.67s/Twitter friendship]"
     ]
    },
    {
     "name": "stdout",
     "output_type": "stream",
     "text": [
      "'Loaded 50953 friends dictionary'\n",
      "tweepy.TweepError [{'code': 34, 'message': 'Sorry, that page does not exist.'}]  from:  10\n"
     ]
    },
    {
     "name": "stderr",
     "output_type": "stream",
     "text": [
      " 11%|█         | 11.4k/102k [17:46:53<62:57:16, 2.45s/Twitter friendship]"
     ]
    },
    {
     "name": "stdout",
     "output_type": "stream",
     "text": [
      "'Loaded 50970 friends dictionary'\n",
      "tweepy.TweepError [{'code': 34, 'message': 'Sorry, that page does not exist.'}]  from:  2\n",
      "tweepy.TweepError Not authorized.  from:  6\n"
     ]
    },
    {
     "name": "stderr",
     "output_type": "stream",
     "text": [
      " 11%|█         | 11.4k/102k [17:47:48<69:08:28, 2.69s/Twitter friendship]"
     ]
    },
    {
     "name": "stdout",
     "output_type": "stream",
     "text": [
      "'Loaded 50987 friends dictionary'\n",
      "tweepy.TweepError [{'code': 34, 'message': 'Sorry, that page does not exist.'}]  from:  2\n"
     ]
    },
    {
     "name": "stderr",
     "output_type": "stream",
     "text": [
      " 11%|█         | 11.4k/102k [17:48:19<62:24:25, 2.43s/Twitter friendship]"
     ]
    },
    {
     "name": "stdout",
     "output_type": "stream",
     "text": [
      "'Loaded 51004 friends dictionary'\n",
      "tweepy.TweepError [{'code': 34, 'message': 'Sorry, that page does not exist.'}]  from:  9\n"
     ]
    },
    {
     "name": "stderr",
     "output_type": "stream",
     "text": [
      " 11%|█         | 11.4k/102k [17:49:13<67:59:19, 2.64s/Twitter friendship]"
     ]
    },
    {
     "name": "stdout",
     "output_type": "stream",
     "text": [
      "'Loaded 51021 friends dictionary'\n"
     ]
    },
    {
     "name": "stderr",
     "output_type": "stream",
     "text": [
      "Rate limit reached. Sleeping for: 371\n",
      " 11%|█         | 11.4k/102k [17:56:00<232:39:47, 9.05s/Twitter friendship]"
     ]
    },
    {
     "name": "stdout",
     "output_type": "stream",
     "text": [
      "'Loaded 51038 friends dictionary'\n"
     ]
    },
    {
     "name": "stderr",
     "output_type": "stream",
     "text": [
      " 11%|█         | 11.4k/102k [17:56:54<186:57:05, 7.27s/Twitter friendship]"
     ]
    },
    {
     "name": "stdout",
     "output_type": "stream",
     "text": [
      "'Loaded 51055 friends dictionary'\n",
      "tweepy.TweepError Not authorized.  from:  11\n"
     ]
    },
    {
     "name": "stderr",
     "output_type": "stream",
     "text": [
      " 11%|█         | 11.5k/102k [17:57:23<144:16:14, 5.61s/Twitter friendship]"
     ]
    },
    {
     "name": "stdout",
     "output_type": "stream",
     "text": [
      "'Loaded 51072 friends dictionary'\n",
      "tweepy.TweepError Not authorized.  from:  12\n"
     ]
    },
    {
     "name": "stderr",
     "output_type": "stream",
     "text": [
      " 11%|█▏        | 11.5k/102k [17:58:00<117:33:48, 4.57s/Twitter friendship]"
     ]
    },
    {
     "name": "stdout",
     "output_type": "stream",
     "text": [
      "'Loaded 51089 friends dictionary'\n"
     ]
    },
    {
     "name": "stderr",
     "output_type": "stream",
     "text": [
      " 11%|█▏        | 11.5k/102k [17:58:29<95:43:53, 3.72s/Twitter friendship] "
     ]
    },
    {
     "name": "stdout",
     "output_type": "stream",
     "text": [
      "'Loaded 51106 friends dictionary'\n"
     ]
    },
    {
     "name": "stderr",
     "output_type": "stream",
     "text": [
      " 11%|█▏        | 11.5k/102k [17:59:10<85:36:23, 3.33s/Twitter friendship]"
     ]
    },
    {
     "name": "stdout",
     "output_type": "stream",
     "text": [
      "'Loaded 51123 friends dictionary'\n"
     ]
    },
    {
     "name": "stderr",
     "output_type": "stream",
     "text": [
      " 11%|█▏        | 11.5k/102k [18:00:00<82:22:47, 3.21s/Twitter friendship]"
     ]
    },
    {
     "name": "stdout",
     "output_type": "stream",
     "text": [
      "'Loaded 51140 friends dictionary'\n",
      "tweepy.TweepError Not authorized.  from:  7\n"
     ]
    },
    {
     "name": "stderr",
     "output_type": "stream",
     "text": [
      " 11%|█▏        | 11.5k/102k [18:00:31<71:44:22, 2.79s/Twitter friendship]"
     ]
    },
    {
     "name": "stdout",
     "output_type": "stream",
     "text": [
      "'Loaded 51157 friends dictionary'\n",
      "tweepy.TweepError [{'code': 34, 'message': 'Sorry, that page does not exist.'}]  from:  14\n"
     ]
    },
    {
     "name": "stderr",
     "output_type": "stream",
     "text": [
      " 11%|█▏        | 11.6k/102k [18:01:21<73:03:16, 2.84s/Twitter friendship]"
     ]
    },
    {
     "name": "stdout",
     "output_type": "stream",
     "text": [
      "'Loaded 51174 friends dictionary'\n",
      "tweepy.TweepError Not authorized.  from:  11\n"
     ]
    },
    {
     "name": "stderr",
     "output_type": "stream",
     "text": [
      " 11%|█▏        | 11.6k/102k [18:01:48<63:23:19, 2.47s/Twitter friendship]"
     ]
    },
    {
     "name": "stdout",
     "output_type": "stream",
     "text": [
      "'Loaded 51191 friends dictionary'\n"
     ]
    },
    {
     "name": "stderr",
     "output_type": "stream",
     "text": [
      " 11%|█▏        | 11.6k/102k [18:02:28<62:22:14, 2.43s/Twitter friendship]"
     ]
    },
    {
     "name": "stdout",
     "output_type": "stream",
     "text": [
      "'Loaded 51208 friends dictionary'\n"
     ]
    },
    {
     "name": "stderr",
     "output_type": "stream",
     "text": [
      " 11%|█▏        | 11.6k/102k [18:02:57<56:32:51, 2.20s/Twitter friendship]"
     ]
    },
    {
     "name": "stdout",
     "output_type": "stream",
     "text": [
      "'Loaded 51225 friends dictionary'\n",
      "tweepy.TweepError Not authorized.  from:  5\n"
     ]
    },
    {
     "name": "stderr",
     "output_type": "stream",
     "text": [
      " 11%|█▏        | 11.6k/102k [18:03:25<52:30:20, 2.05s/Twitter friendship]"
     ]
    },
    {
     "name": "stdout",
     "output_type": "stream",
     "text": [
      "'Loaded 51242 friends dictionary'\n",
      "tweepy.TweepError Not authorized.  from:  9\n"
     ]
    },
    {
     "name": "stderr",
     "output_type": "stream",
     "text": [
      " 11%|█▏        | 11.6k/102k [18:04:17<60:11:31, 2.35s/Twitter friendship]"
     ]
    },
    {
     "name": "stdout",
     "output_type": "stream",
     "text": [
      "'Loaded 51259 friends dictionary'\n"
     ]
    },
    {
     "name": "stderr",
     "output_type": "stream",
     "text": [
      " 11%|█▏        | 11.7k/102k [18:04:58<60:50:37, 2.37s/Twitter friendship]"
     ]
    },
    {
     "name": "stdout",
     "output_type": "stream",
     "text": [
      "'Loaded 51276 friends dictionary'\n"
     ]
    },
    {
     "name": "stderr",
     "output_type": "stream",
     "text": [
      "Rate limit reached. Sleeping for: 352\n",
      " 11%|█▏        | 11.7k/102k [18:11:59<232:57:51, 9.08s/Twitter friendship]"
     ]
    },
    {
     "name": "stdout",
     "output_type": "stream",
     "text": [
      "'Loaded 51293 friends dictionary'\n"
     ]
    },
    {
     "name": "stderr",
     "output_type": "stream",
     "text": [
      " 11%|█▏        | 11.7k/102k [18:12:33<178:18:50, 6.95s/Twitter friendship]"
     ]
    },
    {
     "name": "stdout",
     "output_type": "stream",
     "text": [
      "'Loaded 51310 friends dictionary'\n"
     ]
    },
    {
     "name": "stderr",
     "output_type": "stream",
     "text": [
      " 11%|█▏        | 11.7k/102k [18:13:25<148:21:36, 5.79s/Twitter friendship]"
     ]
    },
    {
     "name": "stdout",
     "output_type": "stream",
     "text": [
      "'Loaded 51327 friends dictionary'\n"
     ]
    },
    {
     "name": "stderr",
     "output_type": "stream",
     "text": [
      " 12%|█▏        | 11.7k/102k [18:13:56<117:58:00, 4.60s/Twitter friendship]"
     ]
    },
    {
     "name": "stdout",
     "output_type": "stream",
     "text": [
      "'Loaded 51344 friends dictionary'\n",
      "tweepy.TweepError Not authorized.  from:  2\n"
     ]
    },
    {
     "name": "stderr",
     "output_type": "stream",
     "text": [
      " 12%|█▏        | 11.7k/102k [18:14:39<102:00:50, 3.98s/Twitter friendship]"
     ]
    },
    {
     "name": "stdout",
     "output_type": "stream",
     "text": [
      "'Loaded 51361 friends dictionary'\n",
      "tweepy.TweepError Not authorized.  from:  10\n"
     ]
    },
    {
     "name": "stderr",
     "output_type": "stream",
     "text": [
      " 12%|█▏        | 11.8k/102k [18:15:09<85:07:29, 3.32s/Twitter friendship] "
     ]
    },
    {
     "name": "stdout",
     "output_type": "stream",
     "text": [
      "'Loaded 51378 friends dictionary'\n"
     ]
    },
    {
     "name": "stderr",
     "output_type": "stream",
     "text": [
      " 12%|█▏        | 11.8k/102k [18:15:43<74:37:21, 2.91s/Twitter friendship]"
     ]
    },
    {
     "name": "stdout",
     "output_type": "stream",
     "text": [
      "'Loaded 51395 friends dictionary'\n"
     ]
    },
    {
     "name": "stderr",
     "output_type": "stream",
     "text": [
      " 12%|█▏        | 11.8k/102k [18:16:34<75:39:06, 2.95s/Twitter friendship]"
     ]
    },
    {
     "name": "stdout",
     "output_type": "stream",
     "text": [
      "'Loaded 51412 friends dictionary'\n",
      "tweepy.TweepError Not authorized.  from:  13\n"
     ]
    },
    {
     "name": "stderr",
     "output_type": "stream",
     "text": [
      " 12%|█▏        | 11.8k/102k [18:17:05<66:40:24, 2.60s/Twitter friendship]"
     ]
    },
    {
     "name": "stdout",
     "output_type": "stream",
     "text": [
      "'Loaded 51429 friends dictionary'\n",
      "tweepy.TweepError Not authorized.  from:  3\n"
     ]
    },
    {
     "name": "stderr",
     "output_type": "stream",
     "text": [
      " 12%|█▏        | 11.8k/102k [18:17:59<71:08:41, 2.78s/Twitter friendship]"
     ]
    },
    {
     "name": "stdout",
     "output_type": "stream",
     "text": [
      "'Loaded 51446 friends dictionary'\n"
     ]
    },
    {
     "name": "stderr",
     "output_type": "stream",
     "text": [
      " 12%|█▏        | 11.8k/102k [18:18:30<63:43:16, 2.49s/Twitter friendship]"
     ]
    },
    {
     "name": "stdout",
     "output_type": "stream",
     "text": [
      "'Loaded 51463 friends dictionary'\n",
      "tweepy.TweepError Not authorized.  from:  5\n"
     ]
    },
    {
     "name": "stderr",
     "output_type": "stream",
     "text": [
      " 12%|█▏        | 11.9k/102k [18:19:20<67:20:11, 2.63s/Twitter friendship]"
     ]
    },
    {
     "name": "stdout",
     "output_type": "stream",
     "text": [
      "'Loaded 51480 friends dictionary'\n"
     ]
    },
    {
     "name": "stderr",
     "output_type": "stream",
     "text": [
      " 12%|█▏        | 11.9k/102k [18:19:53<61:54:14, 2.42s/Twitter friendship]"
     ]
    },
    {
     "name": "stdout",
     "output_type": "stream",
     "text": [
      "'Loaded 51497 friends dictionary'\n"
     ]
    },
    {
     "name": "stderr",
     "output_type": "stream",
     "text": [
      " 12%|█▏        | 11.9k/102k [18:20:26<58:06:59, 2.27s/Twitter friendship]"
     ]
    },
    {
     "name": "stdout",
     "output_type": "stream",
     "text": [
      "'Loaded 51514 friends dictionary'\n",
      "tweepy.TweepError Not authorized.  from:  9\n"
     ]
    },
    {
     "name": "stderr",
     "output_type": "stream",
     "text": [
      "Rate limit reached. Sleeping for: 337\n",
      " 12%|█▏        | 11.9k/102k [18:27:04<220:33:56, 8.62s/Twitter friendship]"
     ]
    },
    {
     "name": "stdout",
     "output_type": "stream",
     "text": [
      "'Loaded 51531 friends dictionary'\n",
      "tweepy.TweepError Not authorized.  from:  9\n"
     ]
    },
    {
     "name": "stderr",
     "output_type": "stream",
     "text": [
      " 12%|█▏        | 11.9k/102k [18:27:38<169:47:48, 6.64s/Twitter friendship]"
     ]
    },
    {
     "name": "stdout",
     "output_type": "stream",
     "text": [
      "'Loaded 51548 friends dictionary'\n"
     ]
    },
    {
     "name": "stderr",
     "output_type": "stream",
     "text": [
      " 12%|█▏        | 11.9k/102k [18:28:34<144:15:59, 5.64s/Twitter friendship]"
     ]
    },
    {
     "name": "stdout",
     "output_type": "stream",
     "text": [
      "'Loaded 51565 friends dictionary'\n"
     ]
    },
    {
     "name": "stderr",
     "output_type": "stream",
     "text": [
      " 12%|█▏        | 12.0k/102k [18:29:05<114:37:07, 4.48s/Twitter friendship]"
     ]
    },
    {
     "name": "stdout",
     "output_type": "stream",
     "text": [
      "'Loaded 51582 friends dictionary'\n",
      "tweepy.TweepError Not authorized.  from:  1\n",
      "tweepy.TweepError Not authorized.  from:  15\n"
     ]
    },
    {
     "name": "stderr",
     "output_type": "stream",
     "text": [
      " 12%|█▏        | 12.0k/102k [18:29:57<103:40:35, 4.06s/Twitter friendship]"
     ]
    },
    {
     "name": "stdout",
     "output_type": "stream",
     "text": [
      "'Loaded 51599 friends dictionary'\n",
      "tweepy.TweepError [{'code': 34, 'message': 'Sorry, that page does not exist.'}]  from:  4\n"
     ]
    },
    {
     "name": "stderr",
     "output_type": "stream",
     "text": [
      " 12%|█▏        | 12.0k/102k [18:30:25<85:06:49, 3.33s/Twitter friendship] "
     ]
    },
    {
     "name": "stdout",
     "output_type": "stream",
     "text": [
      "'Loaded 51616 friends dictionary'\n"
     ]
    },
    {
     "name": "stderr",
     "output_type": "stream",
     "text": [
      " 12%|█▏        | 12.0k/102k [18:30:59<75:08:06, 2.94s/Twitter friendship]"
     ]
    },
    {
     "name": "stdout",
     "output_type": "stream",
     "text": [
      "'Loaded 51633 friends dictionary'\n",
      "tweepy.TweepError [{'code': 34, 'message': 'Sorry, that page does not exist.'}]  from:  2\n",
      "tweepy.TweepError Not authorized.  from:  10\n",
      "tweepy.TweepError Not authorized.  from:  15\n"
     ]
    },
    {
     "name": "stderr",
     "output_type": "stream",
     "text": [
      " 12%|█▏        | 12.0k/102k [18:31:51<76:05:42, 2.98s/Twitter friendship]"
     ]
    },
    {
     "name": "stdout",
     "output_type": "stream",
     "text": [
      "'Loaded 51650 friends dictionary'\n"
     ]
    },
    {
     "name": "stderr",
     "output_type": "stream",
     "text": [
      " 12%|█▏        | 12.0k/102k [18:32:22<67:16:47, 2.63s/Twitter friendship]"
     ]
    },
    {
     "name": "stdout",
     "output_type": "stream",
     "text": [
      "'Loaded 51667 friends dictionary'\n"
     ]
    },
    {
     "name": "stderr",
     "output_type": "stream",
     "text": [
      " 12%|█▏        | 12.1k/102k [18:33:16<71:20:42, 2.79s/Twitter friendship]"
     ]
    },
    {
     "name": "stdout",
     "output_type": "stream",
     "text": [
      "'Loaded 51684 friends dictionary'\n"
     ]
    },
    {
     "name": "stderr",
     "output_type": "stream",
     "text": [
      " 12%|█▏        | 12.1k/102k [18:33:48<64:22:29, 2.52s/Twitter friendship]"
     ]
    },
    {
     "name": "stdout",
     "output_type": "stream",
     "text": [
      "'Loaded 51701 friends dictionary'\n",
      "tweepy.TweepError Not authorized.  from:  4\n"
     ]
    },
    {
     "name": "stderr",
     "output_type": "stream",
     "text": [
      " 12%|█▏        | 12.1k/102k [18:34:40<68:25:37, 2.68s/Twitter friendship]"
     ]
    },
    {
     "name": "stdout",
     "output_type": "stream",
     "text": [
      "'Loaded 51718 friends dictionary'\n"
     ]
    },
    {
     "name": "stderr",
     "output_type": "stream",
     "text": [
      " 12%|█▏        | 12.1k/102k [18:35:11<61:56:49, 2.43s/Twitter friendship]"
     ]
    },
    {
     "name": "stdout",
     "output_type": "stream",
     "text": [
      "'Loaded 51735 friends dictionary'\n",
      "tweepy.TweepError [{'code': 34, 'message': 'Sorry, that page does not exist.'}]  from:  11\n",
      "tweepy.TweepError Not authorized.  from:  14\n"
     ]
    },
    {
     "name": "stderr",
     "output_type": "stream",
     "text": [
      " 12%|█▏        | 12.1k/102k [18:35:44<57:56:33, 2.27s/Twitter friendship]"
     ]
    },
    {
     "name": "stdout",
     "output_type": "stream",
     "text": [
      "'Loaded 51752 friends dictionary'\n"
     ]
    },
    {
     "name": "stderr",
     "output_type": "stream",
     "text": [
      "Rate limit reached. Sleeping for: 349\n",
      " 12%|█▏        | 12.1k/102k [18:42:18<218:05:29, 8.55s/Twitter friendship]"
     ]
    },
    {
     "name": "stdout",
     "output_type": "stream",
     "text": [
      "'Loaded 51769 friends dictionary'\n",
      "tweepy.TweepError Not authorized.  from:  2\n"
     ]
    },
    {
     "name": "stderr",
     "output_type": "stream",
     "text": [
      " 12%|█▏        | 12.2k/102k [18:42:45<164:44:28, 6.46s/Twitter friendship]"
     ]
    },
    {
     "name": "stdout",
     "output_type": "stream",
     "text": [
      "'Loaded 51786 friends dictionary'\n"
     ]
    },
    {
     "name": "stderr",
     "output_type": "stream",
     "text": [
      " 12%|█▏        | 12.2k/102k [18:43:42<140:56:17, 5.52s/Twitter friendship]"
     ]
    },
    {
     "name": "stdout",
     "output_type": "stream",
     "text": [
      "'Loaded 51803 friends dictionary'\n",
      "tweepy.TweepError Not authorized.  from:  2\n",
      "tweepy.TweepError Not authorized.  from:  5\n"
     ]
    },
    {
     "name": "stderr",
     "output_type": "stream",
     "text": [
      " 12%|█▏        | 12.2k/102k [18:44:12<112:27:07, 4.41s/Twitter friendship]"
     ]
    },
    {
     "name": "stdout",
     "output_type": "stream",
     "text": [
      "'Loaded 51820 friends dictionary'\n",
      "tweepy.TweepError Not authorized.  from:  3\n"
     ]
    },
    {
     "name": "stderr",
     "output_type": "stream",
     "text": [
      " 12%|█▏        | 12.2k/102k [18:45:07<103:06:21, 4.04s/Twitter friendship]"
     ]
    },
    {
     "name": "stdout",
     "output_type": "stream",
     "text": [
      "'Loaded 51837 friends dictionary'\n",
      "tweepy.TweepError Not authorized.  from:  8\n"
     ]
    },
    {
     "name": "stderr",
     "output_type": "stream",
     "text": [
      " 12%|█▏        | 12.2k/102k [18:45:38<86:27:15, 3.39s/Twitter friendship] "
     ]
    },
    {
     "name": "stdout",
     "output_type": "stream",
     "text": [
      "'Loaded 51854 friends dictionary'\n"
     ]
    },
    {
     "name": "stderr",
     "output_type": "stream",
     "text": [
      " 12%|█▏        | 12.2k/102k [18:46:27<82:29:23, 3.24s/Twitter friendship]"
     ]
    },
    {
     "name": "stdout",
     "output_type": "stream",
     "text": [
      "'Loaded 51871 friends dictionary'\n",
      "tweepy.TweepError [{'code': 34, 'message': 'Sorry, that page does not exist.'}]  from:  4\n"
     ]
    },
    {
     "name": "stderr",
     "output_type": "stream",
     "text": [
      " 12%|█▏        | 12.3k/102k [18:47:07<75:30:05, 2.96s/Twitter friendship]"
     ]
    },
    {
     "name": "stdout",
     "output_type": "stream",
     "text": [
      "'Loaded 51888 friends dictionary'\n"
     ]
    },
    {
     "name": "stderr",
     "output_type": "stream",
     "text": [
      " 12%|█▏        | 12.3k/102k [18:47:33<64:34:48, 2.53s/Twitter friendship]"
     ]
    },
    {
     "name": "stdout",
     "output_type": "stream",
     "text": [
      "'Loaded 51905 friends dictionary'\n"
     ]
    },
    {
     "name": "stderr",
     "output_type": "stream",
     "text": [
      " 12%|█▏        | 12.3k/102k [18:48:25<68:43:54, 2.70s/Twitter friendship]"
     ]
    },
    {
     "name": "stdout",
     "output_type": "stream",
     "text": [
      "'Loaded 51922 friends dictionary'\n"
     ]
    },
    {
     "name": "stderr",
     "output_type": "stream",
     "text": [
      " 12%|█▏        | 12.3k/102k [18:48:58<62:37:30, 2.46s/Twitter friendship]"
     ]
    },
    {
     "name": "stdout",
     "output_type": "stream",
     "text": [
      "'Loaded 51939 friends dictionary'\n",
      "tweepy.TweepError [{'code': 34, 'message': 'Sorry, that page does not exist.'}]  from:  12\n"
     ]
    },
    {
     "name": "stderr",
     "output_type": "stream",
     "text": [
      " 12%|█▏        | 12.3k/102k [18:49:52<68:20:23, 2.68s/Twitter friendship]"
     ]
    },
    {
     "name": "stdout",
     "output_type": "stream",
     "text": [
      "'Loaded 51956 friends dictionary'\n"
     ]
    },
    {
     "name": "stderr",
     "output_type": "stream",
     "text": [
      " 12%|█▏        | 12.3k/102k [18:50:23<61:53:20, 2.43s/Twitter friendship]"
     ]
    },
    {
     "name": "stdout",
     "output_type": "stream",
     "text": [
      "'Loaded 51973 friends dictionary'\n"
     ]
    },
    {
     "name": "stderr",
     "output_type": "stream",
     "text": [
      "Rate limit reached. Sleeping for: 371\n",
      " 12%|█▏        | 12.4k/102k [18:57:23<231:50:38, 9.11s/Twitter friendship]"
     ]
    },
    {
     "name": "stdout",
     "output_type": "stream",
     "text": [
      "'Loaded 51990 friends dictionary'\n"
     ]
    },
    {
     "name": "stderr",
     "output_type": "stream",
     "text": [
      " 12%|█▏        | 12.4k/102k [18:58:01<179:27:29, 7.05s/Twitter friendship]"
     ]
    },
    {
     "name": "stdout",
     "output_type": "stream",
     "text": [
      "'Loaded 52007 friends dictionary'\n",
      "tweepy.TweepError Not authorized.  from:  14\n"
     ]
    },
    {
     "name": "stderr",
     "output_type": "stream",
     "text": [
      " 12%|█▏        | 12.4k/102k [18:58:28<137:43:26, 5.41s/Twitter friendship]"
     ]
    },
    {
     "name": "stdout",
     "output_type": "stream",
     "text": [
      "'Loaded 52024 friends dictionary'\n"
     ]
    },
    {
     "name": "stderr",
     "output_type": "stream",
     "text": [
      " 12%|█▏        | 12.4k/102k [18:59:24<121:26:57, 4.77s/Twitter friendship]"
     ]
    },
    {
     "name": "stdout",
     "output_type": "stream",
     "text": [
      "tweepy.TweepError Not authorized.  from:  16\n",
      "'Loaded 52041 friends dictionary'\n"
     ]
    },
    {
     "name": "stderr",
     "output_type": "stream",
     "text": [
      " 12%|█▏        | 12.4k/102k [18:59:56<99:10:27, 3.90s/Twitter friendship] "
     ]
    },
    {
     "name": "stdout",
     "output_type": "stream",
     "text": [
      "'Loaded 52058 friends dictionary'\n"
     ]
    },
    {
     "name": "stderr",
     "output_type": "stream",
     "text": [
      " 12%|█▏        | 12.4k/102k [19:00:49<93:26:48, 3.67s/Twitter friendship]"
     ]
    },
    {
     "name": "stdout",
     "output_type": "stream",
     "text": [
      "'Loaded 52075 friends dictionary'\n",
      "tweepy.TweepError [{'code': 34, 'message': 'Sorry, that page does not exist.'}]  from:  15\n"
     ]
    },
    {
     "name": "stderr",
     "output_type": "stream",
     "text": [
      " 12%|█▏        | 12.5k/102k [19:01:18<78:26:53, 3.08s/Twitter friendship]"
     ]
    },
    {
     "name": "stdout",
     "output_type": "stream",
     "text": [
      "'Loaded 52092 friends dictionary'\n"
     ]
    },
    {
     "name": "stderr",
     "output_type": "stream",
     "text": [
      " 12%|█▏        | 12.5k/102k [19:01:56<71:44:53, 2.82s/Twitter friendship]"
     ]
    },
    {
     "name": "stdout",
     "output_type": "stream",
     "text": [
      "'Loaded 52109 friends dictionary'\n"
     ]
    },
    {
     "name": "stderr",
     "output_type": "stream",
     "text": [
      " 12%|█▏        | 12.5k/102k [19:02:35<67:47:14, 2.67s/Twitter friendship]"
     ]
    },
    {
     "name": "stdout",
     "output_type": "stream",
     "text": [
      "'Loaded 52126 friends dictionary'\n"
     ]
    },
    {
     "name": "stderr",
     "output_type": "stream",
     "text": [
      " 12%|█▏        | 12.5k/102k [19:03:02<59:37:23, 2.35s/Twitter friendship]"
     ]
    },
    {
     "name": "stdout",
     "output_type": "stream",
     "text": [
      "'Loaded 52143 friends dictionary'\n"
     ]
    },
    {
     "name": "stderr",
     "output_type": "stream",
     "text": [
      " 12%|█▏        | 12.5k/102k [19:03:58<66:53:54, 2.63s/Twitter friendship]"
     ]
    },
    {
     "name": "stdout",
     "output_type": "stream",
     "text": [
      "'Loaded 52160 friends dictionary'\n"
     ]
    },
    {
     "name": "stderr",
     "output_type": "stream",
     "text": [
      " 12%|█▏        | 12.5k/102k [19:04:31<61:34:13, 2.42s/Twitter friendship]"
     ]
    },
    {
     "name": "stdout",
     "output_type": "stream",
     "text": [
      "'Loaded 52177 friends dictionary'\n",
      "tweepy.TweepError Not authorized.  from:  0\n"
     ]
    },
    {
     "name": "stderr",
     "output_type": "stream",
     "text": [
      " 12%|█▏        | 12.6k/102k [19:05:29<68:51:14, 2.71s/Twitter friendship]"
     ]
    },
    {
     "name": "stdout",
     "output_type": "stream",
     "text": [
      "'Loaded 52194 friends dictionary'\n"
     ]
    },
    {
     "name": "stderr",
     "output_type": "stream",
     "text": [
      " 12%|█▏        | 12.6k/102k [19:06:00<62:24:36, 2.46s/Twitter friendship]"
     ]
    },
    {
     "name": "stdout",
     "output_type": "stream",
     "text": [
      "'Loaded 52211 friends dictionary'\n"
     ]
    },
    {
     "name": "stderr",
     "output_type": "stream",
     "text": [
      "Rate limit reached. Sleeping for: 374\n",
      " 12%|█▏        | 12.6k/102k [19:13:02<232:35:52, 9.16s/Twitter friendship]"
     ]
    },
    {
     "name": "stdout",
     "output_type": "stream",
     "text": [
      "'Loaded 52228 friends dictionary'\n"
     ]
    },
    {
     "name": "stderr",
     "output_type": "stream",
     "text": [
      " 12%|█▏        | 12.6k/102k [19:13:42<180:41:32, 7.12s/Twitter friendship]"
     ]
    },
    {
     "name": "stdout",
     "output_type": "stream",
     "text": [
      "'Loaded 52245 friends dictionary'\n"
     ]
    },
    {
     "name": "stderr",
     "output_type": "stream",
     "text": [
      " 12%|█▏        | 12.6k/102k [19:14:09<138:29:12, 5.46s/Twitter friendship]"
     ]
    },
    {
     "name": "stdout",
     "output_type": "stream",
     "text": [
      "'Loaded 52262 friends dictionary'\n",
      "tweepy.TweepError Not authorized.  from:  2\n"
     ]
    },
    {
     "name": "stderr",
     "output_type": "stream",
     "text": [
      " 12%|█▏        | 12.6k/102k [19:15:05<122:09:37, 4.81s/Twitter friendship]"
     ]
    },
    {
     "name": "stdout",
     "output_type": "stream",
     "text": [
      "'Loaded 52279 friends dictionary'\n",
      "tweepy.TweepError Not authorized.  from:  2\n"
     ]
    },
    {
     "name": "stderr",
     "output_type": "stream",
     "text": [
      " 12%|█▏        | 12.7k/102k [19:15:37<99:51:17, 3.94s/Twitter friendship] "
     ]
    },
    {
     "name": "stdout",
     "output_type": "stream",
     "text": [
      "'Loaded 52296 friends dictionary'\n",
      "tweepy.TweepError [{'code': 34, 'message': 'Sorry, that page does not exist.'}]  from:  3\n"
     ]
    },
    {
     "name": "stderr",
     "output_type": "stream",
     "text": [
      " 12%|█▏        | 12.7k/102k [19:16:31<93:49:04, 3.70s/Twitter friendship]"
     ]
    },
    {
     "name": "stdout",
     "output_type": "stream",
     "text": [
      "'Loaded 52313 friends dictionary'\n"
     ]
    },
    {
     "name": "stderr",
     "output_type": "stream",
     "text": [
      " 12%|█▏        | 12.7k/102k [19:17:01<79:08:02, 3.12s/Twitter friendship]"
     ]
    },
    {
     "name": "stdout",
     "output_type": "stream",
     "text": [
      "'Loaded 52330 friends dictionary'\n"
     ]
    },
    {
     "name": "stderr",
     "output_type": "stream",
     "text": [
      " 12%|█▏        | 12.7k/102k [19:17:54<79:07:01, 3.12s/Twitter friendship]"
     ]
    },
    {
     "name": "stdout",
     "output_type": "stream",
     "text": [
      "'Loaded 52347 friends dictionary'\n"
     ]
    },
    {
     "name": "stderr",
     "output_type": "stream",
     "text": [
      " 12%|█▏        | 12.7k/102k [19:18:52<81:10:39, 3.20s/Twitter friendship]"
     ]
    },
    {
     "name": "stdout",
     "output_type": "stream",
     "text": [
      "'Loaded 52364 friends dictionary'\n",
      "tweepy.TweepError Not authorized.  from:  3\n"
     ]
    },
    {
     "name": "stderr",
     "output_type": "stream",
     "text": [
      " 13%|█▎        | 12.7k/102k [19:19:23<70:54:07, 2.80s/Twitter friendship]"
     ]
    },
    {
     "name": "stdout",
     "output_type": "stream",
     "text": [
      "'Loaded 52381 friends dictionary'\n"
     ]
    },
    {
     "name": "stderr",
     "output_type": "stream",
     "text": [
      " 13%|█▎        | 12.8k/102k [19:20:18<74:10:27, 2.93s/Twitter friendship]"
     ]
    },
    {
     "name": "stdout",
     "output_type": "stream",
     "text": [
      "'Loaded 52398 friends dictionary'\n"
     ]
    },
    {
     "name": "stderr",
     "output_type": "stream",
     "text": [
      " 13%|█▎        | 12.8k/102k [19:20:50<66:21:05, 2.62s/Twitter friendship]"
     ]
    },
    {
     "name": "stdout",
     "output_type": "stream",
     "text": [
      "'Loaded 52415 friends dictionary'\n"
     ]
    },
    {
     "name": "stderr",
     "output_type": "stream",
     "text": [
      "Rate limit reached. Sleeping for: 414\n"
     ]
    },
    {
     "name": "stdout",
     "output_type": "stream",
     "text": [
      "tweepy.TweepError Not authorized.  from:  10\n"
     ]
    },
    {
     "name": "stderr",
     "output_type": "stream",
     "text": [
      " 13%|█▎        | 12.8k/102k [19:28:40<256:39:48, 10.1s/Twitter friendship]"
     ]
    },
    {
     "name": "stdout",
     "output_type": "stream",
     "text": [
      "'Loaded 52432 friends dictionary'\n",
      "tweepy.TweepError Not authorized.  from:  8\n",
      "tweepy.TweepError [{'code': 34, 'message': 'Sorry, that page does not exist.'}]  from:  10\n"
     ]
    },
    {
     "name": "stderr",
     "output_type": "stream",
     "text": [
      " 13%|█▎        | 12.8k/102k [19:29:14<194:49:48, 7.69s/Twitter friendship]"
     ]
    },
    {
     "name": "stdout",
     "output_type": "stream",
     "text": [
      "tweepy.TweepError Not authorized.  from:  16\n",
      "'Loaded 52449 friends dictionary'\n"
     ]
    },
    {
     "name": "stderr",
     "output_type": "stream",
     "text": [
      " 13%|█▎        | 12.8k/102k [19:29:56<155:03:52, 6.12s/Twitter friendship]"
     ]
    },
    {
     "name": "stdout",
     "output_type": "stream",
     "text": [
      "'Loaded 52466 friends dictionary'\n"
     ]
    },
    {
     "name": "stderr",
     "output_type": "stream",
     "text": [
      " 13%|█▎        | 12.8k/102k [19:30:53<134:02:32, 5.29s/Twitter friendship]"
     ]
    },
    {
     "name": "stdout",
     "output_type": "stream",
     "text": [
      "'Loaded 52483 friends dictionary'\n"
     ]
    },
    {
     "name": "stderr",
     "output_type": "stream",
     "text": [
      " 13%|█▎        | 12.8k/102k [19:31:23<107:07:50, 4.23s/Twitter friendship]"
     ]
    },
    {
     "name": "stdout",
     "output_type": "stream",
     "text": [
      "'Loaded 52500 friends dictionary'\n"
     ]
    },
    {
     "name": "stderr",
     "output_type": "stream",
     "text": [
      " 13%|█▎        | 12.9k/102k [19:32:19<99:44:26, 3.94s/Twitter friendship] "
     ]
    },
    {
     "name": "stdout",
     "output_type": "stream",
     "text": [
      "'Loaded 52517 friends dictionary'\n"
     ]
    },
    {
     "name": "stderr",
     "output_type": "stream",
     "text": [
      " 13%|█▎        | 12.9k/102k [19:32:51<84:04:16, 3.32s/Twitter friendship]"
     ]
    },
    {
     "name": "stdout",
     "output_type": "stream",
     "text": [
      "'Loaded 52534 friends dictionary'\n",
      "tweepy.TweepError [{'code': 34, 'message': 'Sorry, that page does not exist.'}]  from:  1\n",
      "tweepy.TweepError Twitter error response: status code = 503  from:  9\n",
      "tweepy.TweepError Not authorized.  from:  14\n"
     ]
    },
    {
     "name": "stderr",
     "output_type": "stream",
     "text": [
      " 13%|█▎        | 12.9k/102k [19:33:44<82:37:18, 3.27s/Twitter friendship]"
     ]
    },
    {
     "name": "stdout",
     "output_type": "stream",
     "text": [
      "'Loaded 52551 friends dictionary'\n",
      "tweepy.TweepError Not authorized.  from:  12\n"
     ]
    },
    {
     "name": "stderr",
     "output_type": "stream",
     "text": [
      " 13%|█▎        | 12.9k/102k [19:34:13<70:53:17, 2.80s/Twitter friendship]"
     ]
    },
    {
     "name": "stdout",
     "output_type": "stream",
     "text": [
      "'Loaded 52568 friends dictionary'\n",
      "tweepy.TweepError Not authorized.  from:  1\n"
     ]
    },
    {
     "name": "stderr",
     "output_type": "stream",
     "text": [
      " 13%|█▎        | 12.9k/102k [19:34:50<66:11:32, 2.62s/Twitter friendship]"
     ]
    },
    {
     "name": "stdout",
     "output_type": "stream",
     "text": [
      "'Loaded 52585 friends dictionary'\n",
      "tweepy.TweepError Not authorized.  from:  2\n",
      "tweepy.TweepError Not authorized.  from:  7\n",
      "tweepy.TweepError Not authorized.  from:  8\n",
      "tweepy.TweepError Not authorized.  from:  9\n"
     ]
    },
    {
     "name": "stderr",
     "output_type": "stream",
     "text": [
      " 13%|█▎        | 12.9k/102k [19:35:46<71:22:50, 2.82s/Twitter friendship]"
     ]
    },
    {
     "name": "stdout",
     "output_type": "stream",
     "text": [
      "'Loaded 52602 friends dictionary'\n"
     ]
    },
    {
     "name": "stderr",
     "output_type": "stream",
     "text": [
      " 13%|█▎        | 13.0k/102k [19:36:19<64:19:35, 2.54s/Twitter friendship]"
     ]
    },
    {
     "name": "stdout",
     "output_type": "stream",
     "text": [
      "'Loaded 52619 friends dictionary'\n",
      "tweepy.TweepError Not authorized.  from:  13\n"
     ]
    },
    {
     "name": "stderr",
     "output_type": "stream",
     "text": [
      "Rate limit reached. Sleeping for: 388\n",
      " 13%|█▎        | 13.0k/102k [19:43:45<244:15:10, 9.66s/Twitter friendship]"
     ]
    },
    {
     "name": "stdout",
     "output_type": "stream",
     "text": [
      "'Loaded 52636 friends dictionary'\n"
     ]
    },
    {
     "name": "stderr",
     "output_type": "stream",
     "text": [
      " 13%|█▎        | 13.0k/102k [19:44:20<186:26:03, 7.38s/Twitter friendship]"
     ]
    },
    {
     "name": "stdout",
     "output_type": "stream",
     "text": [
      "'Loaded 52653 friends dictionary'\n"
     ]
    },
    {
     "name": "stderr",
     "output_type": "stream",
     "text": [
      " 13%|█▎        | 13.0k/102k [19:45:12<153:36:57, 6.08s/Twitter friendship]"
     ]
    },
    {
     "name": "stdout",
     "output_type": "stream",
     "text": [
      "'Loaded 52670 friends dictionary'\n"
     ]
    },
    {
     "name": "stderr",
     "output_type": "stream",
     "text": [
      " 13%|█▎        | 13.0k/102k [19:45:46<122:57:41, 4.87s/Twitter friendship]"
     ]
    },
    {
     "name": "stdout",
     "output_type": "stream",
     "text": [
      "'Loaded 52687 friends dictionary'\n"
     ]
    },
    {
     "name": "stderr",
     "output_type": "stream",
     "text": [
      " 13%|█▎        | 13.0k/102k [19:46:16<99:05:06, 3.92s/Twitter friendship] "
     ]
    },
    {
     "name": "stdout",
     "output_type": "stream",
     "text": [
      "'Loaded 52704 friends dictionary'\n"
     ]
    },
    {
     "name": "stderr",
     "output_type": "stream",
     "text": [
      " 13%|█▎        | 13.1k/102k [19:47:09<93:16:45, 3.69s/Twitter friendship]"
     ]
    },
    {
     "name": "stdout",
     "output_type": "stream",
     "text": [
      "'Loaded 52721 friends dictionary'\n",
      "tweepy.TweepError Not authorized.  from:  8\n",
      "tweepy.TweepError [{'code': 34, 'message': 'Sorry, that page does not exist.'}]  from:  14\n"
     ]
    },
    {
     "name": "stderr",
     "output_type": "stream",
     "text": [
      " 13%|█▎        | 13.1k/102k [19:47:41<79:30:28, 3.15s/Twitter friendship]"
     ]
    },
    {
     "name": "stdout",
     "output_type": "stream",
     "text": [
      "'Loaded 52738 friends dictionary'\n"
     ]
    },
    {
     "name": "stderr",
     "output_type": "stream",
     "text": [
      " 13%|█▎        | 13.1k/102k [19:48:35<79:23:03, 3.14s/Twitter friendship]"
     ]
    },
    {
     "name": "stdout",
     "output_type": "stream",
     "text": [
      "'Loaded 52755 friends dictionary'\n"
     ]
    },
    {
     "name": "stderr",
     "output_type": "stream",
     "text": [
      " 13%|█▎        | 13.1k/102k [19:49:04<68:33:16, 2.72s/Twitter friendship]"
     ]
    },
    {
     "name": "stdout",
     "output_type": "stream",
     "text": [
      "'Loaded 52772 friends dictionary'\n",
      "tweepy.TweepError Not authorized.  from:  2\n"
     ]
    },
    {
     "name": "stderr",
     "output_type": "stream",
     "text": [
      " 13%|█▎        | 13.1k/102k [19:49:42<65:07:25, 2.58s/Twitter friendship]"
     ]
    },
    {
     "name": "stdout",
     "output_type": "stream",
     "text": [
      "'Loaded 52789 friends dictionary'\n"
     ]
    },
    {
     "name": "stderr",
     "output_type": "stream",
     "text": [
      "Rate limit reached. Sleeping for: 520\n"
     ]
    },
    {
     "name": "stdout",
     "output_type": "stream",
     "text": [
      "tweepy.TweepError Not authorized.  from:  14\n"
     ]
    },
    {
     "name": "stderr",
     "output_type": "stream",
     "text": [
      " 13%|█▎        | 13.1k/102k [19:59:25<305:11:27, 12.1s/Twitter friendship]"
     ]
    },
    {
     "name": "stdout",
     "output_type": "stream",
     "text": [
      "'Loaded 52806 friends dictionary'\n",
      "tweepy.TweepError Not authorized.  from:  15\n"
     ]
    },
    {
     "name": "stderr",
     "output_type": "stream",
     "text": [
      " 13%|█▎        | 13.2k/102k [20:00:05<231:18:44, 9.17s/Twitter friendship]"
     ]
    },
    {
     "name": "stdout",
     "output_type": "stream",
     "text": [
      "'Loaded 52823 friends dictionary'\n",
      "tweepy.TweepError Not authorized.  from:  2\n"
     ]
    },
    {
     "name": "stderr",
     "output_type": "stream",
     "text": [
      " 13%|█▎        | 13.2k/102k [20:01:09<190:18:18, 7.55s/Twitter friendship]"
     ]
    },
    {
     "name": "stdout",
     "output_type": "stream",
     "text": [
      "'Loaded 52840 friends dictionary'\n"
     ]
    },
    {
     "name": "stderr",
     "output_type": "stream",
     "text": [
      " 13%|█▎        | 13.2k/102k [20:01:48<150:19:38, 5.96s/Twitter friendship]"
     ]
    },
    {
     "name": "stdout",
     "output_type": "stream",
     "text": [
      "'Loaded 52857 friends dictionary'\n"
     ]
    },
    {
     "name": "stderr",
     "output_type": "stream",
     "text": [
      " 13%|█▎        | 13.2k/102k [20:02:51<133:27:28, 5.29s/Twitter friendship]"
     ]
    },
    {
     "name": "stdout",
     "output_type": "stream",
     "text": [
      "'Loaded 52874 friends dictionary'\n",
      "tweepy.TweepError Not authorized.  from:  14\n"
     ]
    },
    {
     "name": "stderr",
     "output_type": "stream",
     "text": [
      " 13%|█▎        | 13.2k/102k [20:03:27<109:22:22, 4.34s/Twitter friendship]"
     ]
    },
    {
     "name": "stdout",
     "output_type": "stream",
     "text": [
      "'Loaded 52891 friends dictionary'\n"
     ]
    },
    {
     "name": "stderr",
     "output_type": "stream",
     "text": [
      " 13%|█▎        | 13.2k/102k [20:04:10<95:34:40, 3.79s/Twitter friendship] "
     ]
    },
    {
     "name": "stdout",
     "output_type": "stream",
     "text": [
      "'Loaded 52908 friends dictionary'\n"
     ]
    },
    {
     "name": "stderr",
     "output_type": "stream",
     "text": [
      " 13%|█▎        | 13.3k/102k [20:05:18<97:17:18, 3.86s/Twitter friendship]"
     ]
    },
    {
     "name": "stdout",
     "output_type": "stream",
     "text": [
      "'Loaded 52925 friends dictionary'\n"
     ]
    },
    {
     "name": "stderr",
     "output_type": "stream",
     "text": [
      " 13%|█▎        | 13.3k/102k [20:05:53<83:40:36, 3.32s/Twitter friendship]"
     ]
    },
    {
     "name": "stdout",
     "output_type": "stream",
     "text": [
      "'Loaded 52942 friends dictionary'\n"
     ]
    },
    {
     "name": "stderr",
     "output_type": "stream",
     "text": [
      " 13%|█▎        | 13.3k/102k [20:06:53<84:59:50, 3.37s/Twitter friendship]"
     ]
    },
    {
     "name": "stdout",
     "output_type": "stream",
     "text": [
      "'Loaded 52959 friends dictionary'\n"
     ]
    },
    {
     "name": "stderr",
     "output_type": "stream",
     "text": [
      " 13%|█▎        | 13.3k/102k [20:07:28<75:05:23, 2.98s/Twitter friendship]"
     ]
    },
    {
     "name": "stdout",
     "output_type": "stream",
     "text": [
      "'Loaded 52976 friends dictionary'\n"
     ]
    },
    {
     "name": "stderr",
     "output_type": "stream",
     "text": [
      "Rate limit reached. Sleeping for: 360\n",
      " 13%|█▎        | 13.3k/102k [20:14:30<240:21:40, 9.55s/Twitter friendship]"
     ]
    },
    {
     "name": "stdout",
     "output_type": "stream",
     "text": [
      "'Loaded 52993 friends dictionary'\n"
     ]
    },
    {
     "name": "stderr",
     "output_type": "stream",
     "text": [
      " 13%|█▎        | 13.3k/102k [20:15:24<191:52:31, 7.62s/Twitter friendship]"
     ]
    },
    {
     "name": "stdout",
     "output_type": "stream",
     "text": [
      "'Loaded 53010 friends dictionary'\n"
     ]
    },
    {
     "name": "stderr",
     "output_type": "stream",
     "text": [
      " 13%|█▎        | 13.4k/102k [20:15:54<147:58:25, 5.88s/Twitter friendship]"
     ]
    },
    {
     "name": "stdout",
     "output_type": "stream",
     "text": [
      "'Loaded 53027 friends dictionary'\n",
      "tweepy.TweepError Not authorized.  from:  2\n"
     ]
    },
    {
     "name": "stderr",
     "output_type": "stream",
     "text": [
      " 13%|█▎        | 13.4k/102k [20:16:57<131:19:27, 5.22s/Twitter friendship]"
     ]
    },
    {
     "name": "stdout",
     "output_type": "stream",
     "text": [
      "'Loaded 53044 friends dictionary'\n"
     ]
    },
    {
     "name": "stderr",
     "output_type": "stream",
     "text": [
      " 13%|█▎        | 13.4k/102k [20:17:30<106:35:17, 4.24s/Twitter friendship]"
     ]
    },
    {
     "name": "stdout",
     "output_type": "stream",
     "text": [
      "'Loaded 53061 friends dictionary'\n"
     ]
    },
    {
     "name": "stderr",
     "output_type": "stream",
     "text": [
      " 13%|█▎        | 13.4k/102k [20:18:27<100:04:08, 3.98s/Twitter friendship]"
     ]
    },
    {
     "name": "stdout",
     "output_type": "stream",
     "text": [
      "'Loaded 53078 friends dictionary'\n"
     ]
    },
    {
     "name": "stderr",
     "output_type": "stream",
     "text": [
      " 13%|█▎        | 13.4k/102k [20:19:01<84:51:49, 3.37s/Twitter friendship] "
     ]
    },
    {
     "name": "stdout",
     "output_type": "stream",
     "text": [
      "'Loaded 53095 friends dictionary'\n"
     ]
    },
    {
     "name": "stderr",
     "output_type": "stream",
     "text": [
      " 13%|█▎        | 13.4k/102k [20:19:38<75:54:46, 3.02s/Twitter friendship]"
     ]
    },
    {
     "name": "stdout",
     "output_type": "stream",
     "text": [
      "'Loaded 53112 friends dictionary'\n"
     ]
    },
    {
     "name": "stderr",
     "output_type": "stream",
     "text": [
      " 13%|█▎        | 13.5k/102k [20:20:36<78:47:47, 3.13s/Twitter friendship]"
     ]
    },
    {
     "name": "stdout",
     "output_type": "stream",
     "text": [
      "'Loaded 53129 friends dictionary'\n",
      "tweepy.TweepError [{'code': 34, 'message': 'Sorry, that page does not exist.'}]  from:  14\n"
     ]
    },
    {
     "name": "stderr",
     "output_type": "stream",
     "text": [
      " 13%|█▎        | 13.5k/102k [20:21:10<70:20:23, 2.80s/Twitter friendship]"
     ]
    },
    {
     "name": "stdout",
     "output_type": "stream",
     "text": [
      "'Loaded 53146 friends dictionary'\n",
      "tweepy.TweepError Not authorized.  from:  5\n"
     ]
    },
    {
     "name": "stderr",
     "output_type": "stream",
     "text": [
      " 13%|█▎        | 13.5k/102k [20:22:17<79:04:07, 3.15s/Twitter friendship]"
     ]
    },
    {
     "name": "stdout",
     "output_type": "stream",
     "text": [
      "'Loaded 53163 friends dictionary'\n",
      "tweepy.TweepError Not authorized.  from:  11\n"
     ]
    },
    {
     "name": "stderr",
     "output_type": "stream",
     "text": [
      " 13%|█▎        | 13.5k/102k [20:23:10<78:41:36, 3.13s/Twitter friendship]"
     ]
    },
    {
     "name": "stdout",
     "output_type": "stream",
     "text": [
      "'Loaded 53180 friends dictionary'\n"
     ]
    },
    {
     "name": "stderr",
     "output_type": "stream",
     "text": [
      " 13%|█▎        | 13.5k/102k [20:24:09<81:07:21, 3.23s/Twitter friendship]"
     ]
    },
    {
     "name": "stdout",
     "output_type": "stream",
     "text": [
      "'Loaded 53197 friends dictionary'\n"
     ]
    },
    {
     "name": "stderr",
     "output_type": "stream",
     "text": [
      " 13%|█▎        | 13.5k/102k [20:24:48<74:17:42, 2.96s/Twitter friendship]"
     ]
    },
    {
     "name": "stdout",
     "output_type": "stream",
     "text": [
      "'Loaded 53214 friends dictionary'\n"
     ]
    },
    {
     "name": "stderr",
     "output_type": "stream",
     "text": [
      " 13%|█▎        | 13.6k/102k [20:25:29<70:05:28, 2.79s/Twitter friendship]"
     ]
    },
    {
     "name": "stdout",
     "output_type": "stream",
     "text": [
      "'Loaded 53231 friends dictionary'\n"
     ]
    },
    {
     "name": "stderr",
     "output_type": "stream",
     "text": [
      "Rate limit reached. Sleeping for: 192\n"
     ]
    },
    {
     "name": "stdout",
     "output_type": "stream",
     "text": [
      "tweepy.TweepError [{'code': 34, 'message': 'Sorry, that page does not exist.'}]  from:  10\n"
     ]
    },
    {
     "name": "stderr",
     "output_type": "stream",
     "text": [
      " 13%|█▎        | 13.6k/102k [20:30:21<178:15:37, 7.10s/Twitter friendship]"
     ]
    },
    {
     "name": "stdout",
     "output_type": "stream",
     "text": [
      "'Loaded 53248 friends dictionary'\n",
      "tweepy.TweepError [{'code': 34, 'message': 'Sorry, that page does not exist.'}]  from:  8\n"
     ]
    },
    {
     "name": "stderr",
     "output_type": "stream",
     "text": [
      " 13%|█▎        | 13.6k/102k [20:31:06<144:48:30, 5.77s/Twitter friendship]"
     ]
    },
    {
     "name": "stdout",
     "output_type": "stream",
     "text": [
      "'Loaded 53265 friends dictionary'\n",
      "tweepy.TweepError Not authorized.  from:  13\n"
     ]
    },
    {
     "name": "stderr",
     "output_type": "stream",
     "text": [
      " 13%|█▎        | 13.6k/102k [20:32:04<127:09:46, 5.07s/Twitter friendship]"
     ]
    },
    {
     "name": "stdout",
     "output_type": "stream",
     "text": [
      "'Loaded 53282 friends dictionary'\n",
      "tweepy.TweepError Not authorized.  from:  5\n"
     ]
    },
    {
     "name": "stderr",
     "output_type": "stream",
     "text": [
      " 13%|█▎        | 13.6k/102k [20:32:48<108:16:58, 4.32s/Twitter friendship]"
     ]
    },
    {
     "name": "stdout",
     "output_type": "stream",
     "text": [
      "'Loaded 53299 friends dictionary'\n"
     ]
    },
    {
     "name": "stderr",
     "output_type": "stream",
     "text": [
      " 13%|█▎        | 13.6k/102k [20:33:37<97:38:17, 3.89s/Twitter friendship] "
     ]
    },
    {
     "name": "stdout",
     "output_type": "stream",
     "text": [
      "'Loaded 53316 friends dictionary'\n"
     ]
    },
    {
     "name": "stderr",
     "output_type": "stream",
     "text": [
      " 13%|█▎        | 13.7k/102k [20:35:19<113:21:11, 4.52s/Twitter friendship]"
     ]
    },
    {
     "name": "stdout",
     "output_type": "stream",
     "text": [
      "'Loaded 53333 friends dictionary'\n",
      "tweepy.TweepError Not authorized.  from:  0\n",
      "tweepy.TweepError Not authorized.  from:  15\n"
     ]
    },
    {
     "name": "stderr",
     "output_type": "stream",
     "text": [
      " 13%|█▎        | 13.7k/102k [20:36:05<99:33:41, 3.97s/Twitter friendship] "
     ]
    },
    {
     "name": "stdout",
     "output_type": "stream",
     "text": [
      "'Loaded 53350 friends dictionary'\n",
      "tweepy.TweepError Not authorized.  from:  15\n"
     ]
    },
    {
     "name": "stderr",
     "output_type": "stream",
     "text": [
      " 13%|█▎        | 13.7k/102k [20:37:22<103:57:41, 4.15s/Twitter friendship]"
     ]
    },
    {
     "name": "stdout",
     "output_type": "stream",
     "text": [
      "'Loaded 53367 friends dictionary'\n",
      "tweepy.TweepError Not authorized.  from:  5\n"
     ]
    },
    {
     "name": "stderr",
     "output_type": "stream",
     "text": [
      " 13%|█▎        | 13.7k/102k [20:38:04<91:29:38, 3.65s/Twitter friendship] "
     ]
    },
    {
     "name": "stdout",
     "output_type": "stream",
     "text": [
      "'Loaded 53384 friends dictionary'\n",
      "tweepy.TweepError Not authorized.  from:  12\n"
     ]
    },
    {
     "name": "stderr",
     "output_type": "stream",
     "text": [
      " 13%|█▎        | 13.7k/102k [20:39:14<94:53:57, 3.79s/Twitter friendship]"
     ]
    },
    {
     "name": "stdout",
     "output_type": "stream",
     "text": [
      "'Loaded 53401 friends dictionary'\n",
      "tweepy.TweepError Not authorized.  from:  8\n"
     ]
    },
    {
     "name": "stderr",
     "output_type": "stream",
     "text": [
      " 13%|█▎        | 13.7k/102k [20:40:46<106:50:34, 4.26s/Twitter friendship]"
     ]
    },
    {
     "name": "stdout",
     "output_type": "stream",
     "text": [
      "'Loaded 53418 friends dictionary'\n"
     ]
    },
    {
     "name": "stderr",
     "output_type": "stream",
     "text": [
      " 14%|█▎        | 13.8k/102k [20:41:24<91:31:46, 3.65s/Twitter friendship] "
     ]
    },
    {
     "name": "stdout",
     "output_type": "stream",
     "text": [
      "'Loaded 53435 friends dictionary'\n"
     ]
    },
    {
     "name": "stderr",
     "output_type": "stream",
     "text": [
      " 14%|█▎        | 13.8k/102k [20:42:31<94:00:08, 3.75s/Twitter friendship]"
     ]
    },
    {
     "name": "stdout",
     "output_type": "stream",
     "text": [
      "'Loaded 53452 friends dictionary'\n"
     ]
    },
    {
     "name": "stderr",
     "output_type": "stream",
     "text": [
      "Rate limit reached. Sleeping for: 128\n",
      " 14%|█▎        | 13.8k/102k [20:45:26<143:04:07, 5.71s/Twitter friendship]"
     ]
    },
    {
     "name": "stdout",
     "output_type": "stream",
     "text": [
      "'Loaded 53469 friends dictionary'\n"
     ]
    },
    {
     "name": "stderr",
     "output_type": "stream",
     "text": [
      " 14%|█▎        | 13.8k/102k [20:46:38<131:51:52, 5.27s/Twitter friendship]"
     ]
    },
    {
     "name": "stdout",
     "output_type": "stream",
     "text": [
      "'Loaded 53486 friends dictionary'\n"
     ]
    },
    {
     "name": "stderr",
     "output_type": "stream",
     "text": [
      " 14%|█▎        | 13.8k/102k [20:47:11<107:05:26, 4.28s/Twitter friendship]"
     ]
    },
    {
     "name": "stdout",
     "output_type": "stream",
     "text": [
      "'Loaded 53503 friends dictionary'\n",
      "tweepy.TweepError Not authorized.  from:  12\n"
     ]
    },
    {
     "name": "stderr",
     "output_type": "stream",
     "text": [
      " 14%|█▎        | 13.8k/102k [20:47:43<89:02:38, 3.56s/Twitter friendship] "
     ]
    },
    {
     "name": "stdout",
     "output_type": "stream",
     "text": [
      "'Loaded 53520 friends dictionary'\n"
     ]
    },
    {
     "name": "stderr",
     "output_type": "stream",
     "text": [
      " 14%|█▎        | 13.9k/102k [20:48:40<87:25:00, 3.49s/Twitter friendship]"
     ]
    },
    {
     "name": "stdout",
     "output_type": "stream",
     "text": [
      "'Loaded 53537 friends dictionary'\n"
     ]
    },
    {
     "name": "stderr",
     "output_type": "stream",
     "text": [
      " 14%|█▎        | 13.9k/102k [20:49:13<75:40:55, 3.02s/Twitter friendship]"
     ]
    },
    {
     "name": "stdout",
     "output_type": "stream",
     "text": [
      "'Loaded 53554 friends dictionary'\n"
     ]
    },
    {
     "name": "stderr",
     "output_type": "stream",
     "text": [
      " 14%|█▎        | 13.9k/102k [20:50:09<77:51:33, 3.11s/Twitter friendship]"
     ]
    },
    {
     "name": "stdout",
     "output_type": "stream",
     "text": [
      "'Loaded 53571 friends dictionary'\n",
      "tweepy.TweepError Not authorized.  from:  8\n",
      "tweepy.TweepError [{'code': 34, 'message': 'Sorry, that page does not exist.'}]  from:  14\n"
     ]
    },
    {
     "name": "stderr",
     "output_type": "stream",
     "text": [
      " 14%|█▎        | 13.9k/102k [20:50:38<67:05:11, 2.68s/Twitter friendship]"
     ]
    },
    {
     "name": "stdout",
     "output_type": "stream",
     "text": [
      "'Loaded 53588 friends dictionary'\n"
     ]
    },
    {
     "name": "stderr",
     "output_type": "stream",
     "text": [
      " 14%|█▎        | 13.9k/102k [20:51:16<63:36:22, 2.54s/Twitter friendship]"
     ]
    },
    {
     "name": "stdout",
     "output_type": "stream",
     "text": [
      "'Loaded 53605 friends dictionary'\n",
      "tweepy.TweepError Not authorized.  from:  4\n",
      "tweepy.TweepError Not authorized.  from:  12\n"
     ]
    },
    {
     "name": "stderr",
     "output_type": "stream",
     "text": [
      " 14%|█▎        | 13.9k/102k [20:52:33<78:49:17, 3.15s/Twitter friendship]"
     ]
    },
    {
     "name": "stdout",
     "output_type": "stream",
     "text": [
      "'Loaded 53622 friends dictionary'\n",
      "tweepy.TweepError Not authorized.  from:  8\n"
     ]
    },
    {
     "name": "stderr",
     "output_type": "stream",
     "text": [
      " 14%|█▎        | 14.0k/102k [20:53:12<72:21:18, 2.89s/Twitter friendship]"
     ]
    },
    {
     "name": "stdout",
     "output_type": "stream",
     "text": [
      "'Loaded 53639 friends dictionary'\n"
     ]
    },
    {
     "name": "stderr",
     "output_type": "stream",
     "text": [
      " 14%|█▎        | 14.0k/102k [20:54:10<76:00:10, 3.04s/Twitter friendship]"
     ]
    },
    {
     "name": "stdout",
     "output_type": "stream",
     "text": [
      "'Loaded 53656 friends dictionary'\n"
     ]
    },
    {
     "name": "stderr",
     "output_type": "stream",
     "text": [
      "Rate limit reached. Sleeping for: 343\n",
      " 14%|█▎        | 14.0k/102k [21:00:31<221:11:22, 8.85s/Twitter friendship]"
     ]
    },
    {
     "name": "stdout",
     "output_type": "stream",
     "text": [
      "'Loaded 53673 friends dictionary'\n",
      "tweepy.TweepError [{'code': 34, 'message': 'Sorry, that page does not exist.'}]  from:  15\n"
     ]
    },
    {
     "name": "stderr",
     "output_type": "stream",
     "text": [
      " 14%|█▍        | 14.0k/102k [21:01:27<179:38:33, 7.19s/Twitter friendship]"
     ]
    },
    {
     "name": "stdout",
     "output_type": "stream",
     "text": [
      "'Loaded 53690 friends dictionary'\n",
      "tweepy.TweepError Not authorized.  from:  5\n"
     ]
    },
    {
     "name": "stderr",
     "output_type": "stream",
     "text": [
      " 14%|█▍        | 14.0k/102k [21:02:48<161:13:58, 6.45s/Twitter friendship]"
     ]
    },
    {
     "name": "stdout",
     "output_type": "stream",
     "text": [
      "'Loaded 53707 friends dictionary'\n"
     ]
    },
    {
     "name": "stderr",
     "output_type": "stream",
     "text": [
      " 14%|█▍        | 14.0k/102k [21:03:27<130:00:58, 5.21s/Twitter friendship]"
     ]
    },
    {
     "name": "stdout",
     "output_type": "stream",
     "text": [
      "'Loaded 53724 friends dictionary'\n"
     ]
    },
    {
     "name": "stderr",
     "output_type": "stream",
     "text": [
      " 14%|█▍        | 14.1k/102k [21:04:32<119:45:50, 4.80s/Twitter friendship]"
     ]
    },
    {
     "name": "stdout",
     "output_type": "stream",
     "text": [
      "'Loaded 53741 friends dictionary'\n"
     ]
    },
    {
     "name": "stderr",
     "output_type": "stream",
     "text": [
      " 14%|█▍        | 14.1k/102k [21:05:13<101:43:08, 4.07s/Twitter friendship]"
     ]
    },
    {
     "name": "stdout",
     "output_type": "stream",
     "text": [
      "'Loaded 53758 friends dictionary'\n"
     ]
    },
    {
     "name": "stderr",
     "output_type": "stream",
     "text": [
      " 14%|█▍        | 14.1k/102k [21:06:19<100:26:06, 4.02s/Twitter friendship]"
     ]
    },
    {
     "name": "stdout",
     "output_type": "stream",
     "text": [
      "'Loaded 53775 friends dictionary'\n"
     ]
    },
    {
     "name": "stderr",
     "output_type": "stream",
     "text": [
      " 14%|█▍        | 14.1k/102k [21:06:56<86:25:51, 3.46s/Twitter friendship] "
     ]
    },
    {
     "name": "stdout",
     "output_type": "stream",
     "text": [
      "'Loaded 53792 friends dictionary'\n"
     ]
    },
    {
     "name": "stderr",
     "output_type": "stream",
     "text": [
      " 14%|█▍        | 14.1k/102k [21:07:35<77:48:46, 3.12s/Twitter friendship]"
     ]
    },
    {
     "name": "stdout",
     "output_type": "stream",
     "text": [
      "'Loaded 53809 friends dictionary'\n"
     ]
    },
    {
     "name": "stderr",
     "output_type": "stream",
     "text": [
      " 14%|█▍        | 14.1k/102k [21:08:38<82:04:49, 3.29s/Twitter friendship]"
     ]
    },
    {
     "name": "stdout",
     "output_type": "stream",
     "text": [
      "'Loaded 53826 friends dictionary'\n"
     ]
    },
    {
     "name": "stderr",
     "output_type": "stream",
     "text": [
      " 14%|█▍        | 14.2k/102k [21:09:17<74:36:09, 2.99s/Twitter friendship]"
     ]
    },
    {
     "name": "stdout",
     "output_type": "stream",
     "text": [
      "'Loaded 53843 friends dictionary'\n"
     ]
    },
    {
     "name": "stderr",
     "output_type": "stream",
     "text": [
      " 14%|█▍        | 14.2k/102k [21:10:18<79:16:37, 3.18s/Twitter friendship]"
     ]
    },
    {
     "name": "stdout",
     "output_type": "stream",
     "text": [
      "'Loaded 53860 friends dictionary'\n"
     ]
    },
    {
     "name": "stderr",
     "output_type": "stream",
     "text": [
      " 14%|█▍        | 14.2k/102k [21:10:54<71:12:10, 2.86s/Twitter friendship]"
     ]
    },
    {
     "name": "stdout",
     "output_type": "stream",
     "text": [
      "'Loaded 53877 friends dictionary'\n"
     ]
    },
    {
     "name": "stderr",
     "output_type": "stream",
     "text": [
      " 14%|█▍        | 14.2k/102k [21:11:38<69:10:21, 2.77s/Twitter friendship]"
     ]
    },
    {
     "name": "stdout",
     "output_type": "stream",
     "text": [
      "'Loaded 53894 friends dictionary'\n",
      "tweepy.TweepError [{'code': 34, 'message': 'Sorry, that page does not exist.'}]  from:  1\n"
     ]
    },
    {
     "name": "stderr",
     "output_type": "stream",
     "text": [
      " 14%|█▍        | 14.2k/102k [21:12:43<77:12:07, 3.10s/Twitter friendship]"
     ]
    },
    {
     "name": "stdout",
     "output_type": "stream",
     "text": [
      "'Loaded 53911 friends dictionary'\n"
     ]
    },
    {
     "name": "stderr",
     "output_type": "stream",
     "text": [
      "Rate limit reached. Sleeping for: 123\n",
      " 14%|█▍        | 14.2k/102k [21:15:36<130:03:11, 5.22s/Twitter friendship]"
     ]
    },
    {
     "name": "stdout",
     "output_type": "stream",
     "text": [
      "'Loaded 53928 friends dictionary'\n"
     ]
    },
    {
     "name": "stderr",
     "output_type": "stream",
     "text": [
      "Rate limit reached. Sleeping for: 33\n",
      " 14%|█▍        | 14.3k/102k [21:17:53<151:20:29, 6.07s/Twitter friendship]"
     ]
    },
    {
     "name": "stdout",
     "output_type": "stream",
     "text": [
      "'Loaded 53945 friends dictionary'\n",
      "tweepy.TweepError Not authorized.  from:  3\n"
     ]
    },
    {
     "name": "stderr",
     "output_type": "stream",
     "text": [
      " 14%|█▍        | 14.3k/102k [21:18:42<127:11:57, 5.11s/Twitter friendship]"
     ]
    },
    {
     "name": "stdout",
     "output_type": "stream",
     "text": [
      "'Loaded 53962 friends dictionary'\n"
     ]
    },
    {
     "name": "stderr",
     "output_type": "stream",
     "text": [
      " 14%|█▍        | 14.3k/102k [21:19:31<110:30:22, 4.44s/Twitter friendship]"
     ]
    },
    {
     "name": "stdout",
     "output_type": "stream",
     "text": [
      "'Loaded 53979 friends dictionary'\n",
      "tweepy.TweepError Not authorized.  from:  8\n",
      "tweepy.TweepError Not authorized.  from:  15\n"
     ]
    },
    {
     "name": "stderr",
     "output_type": "stream",
     "text": [
      " 14%|█▍        | 14.3k/102k [21:20:30<103:23:16, 4.15s/Twitter friendship]"
     ]
    },
    {
     "name": "stdout",
     "output_type": "stream",
     "text": [
      "'Loaded 53996 friends dictionary'\n"
     ]
    },
    {
     "name": "stderr",
     "output_type": "stream",
     "text": [
      " 14%|█▍        | 14.3k/102k [21:21:06<88:00:50, 3.54s/Twitter friendship] "
     ]
    },
    {
     "name": "stdout",
     "output_type": "stream",
     "text": [
      "'Loaded 54013 friends dictionary'\n"
     ]
    },
    {
     "name": "stderr",
     "output_type": "stream",
     "text": [
      " 14%|█▍        | 14.3k/102k [21:22:16<92:45:49, 3.73s/Twitter friendship]"
     ]
    },
    {
     "name": "stdout",
     "output_type": "stream",
     "text": [
      "'Loaded 54030 friends dictionary'\n"
     ]
    },
    {
     "name": "stderr",
     "output_type": "stream",
     "text": [
      " 14%|█▍        | 14.4k/102k [21:22:51<80:12:44, 3.22s/Twitter friendship]"
     ]
    },
    {
     "name": "stdout",
     "output_type": "stream",
     "text": [
      "'Loaded 54047 friends dictionary'\n"
     ]
    },
    {
     "name": "stderr",
     "output_type": "stream",
     "text": [
      " 14%|█▍        | 14.4k/102k [21:23:45<79:32:07, 3.20s/Twitter friendship]"
     ]
    },
    {
     "name": "stdout",
     "output_type": "stream",
     "text": [
      "'Loaded 54064 friends dictionary'\n",
      "tweepy.TweepError Not authorized.  from:  4\n",
      "tweepy.TweepError Not authorized.  from:  7\n",
      "tweepy.TweepError Not authorized.  from:  9\n"
     ]
    },
    {
     "name": "stderr",
     "output_type": "stream",
     "text": [
      " 14%|█▍        | 14.4k/102k [21:25:03<90:14:20, 3.63s/Twitter friendship]"
     ]
    },
    {
     "name": "stdout",
     "output_type": "stream",
     "text": [
      "'Loaded 54081 friends dictionary'\n"
     ]
    },
    {
     "name": "stderr",
     "output_type": "stream",
     "text": [
      " 14%|█▍        | 14.4k/102k [21:25:44<80:51:39, 3.25s/Twitter friendship]"
     ]
    },
    {
     "name": "stdout",
     "output_type": "stream",
     "text": [
      "'Loaded 54098 friends dictionary'\n",
      "tweepy.TweepError Not authorized.  from:  15\n"
     ]
    },
    {
     "name": "stderr",
     "output_type": "stream",
     "text": [
      " 14%|█▍        | 14.4k/102k [21:26:53<87:00:14, 3.50s/Twitter friendship]"
     ]
    },
    {
     "name": "stdout",
     "output_type": "stream",
     "text": [
      "tweepy.TweepError Not authorized.  from:  16\n",
      "'Loaded 54115 friends dictionary'\n"
     ]
    },
    {
     "name": "stderr",
     "output_type": "stream",
     "text": [
      " 14%|█▍        | 14.4k/102k [21:27:30<77:10:49, 3.10s/Twitter friendship]"
     ]
    },
    {
     "name": "stdout",
     "output_type": "stream",
     "text": [
      "'Loaded 54132 friends dictionary'\n"
     ]
    },
    {
     "name": "stderr",
     "output_type": "stream",
     "text": [
      " 14%|█▍        | 14.5k/102k [21:28:19<75:24:00, 3.03s/Twitter friendship]"
     ]
    },
    {
     "name": "stdout",
     "output_type": "stream",
     "text": [
      "'Loaded 54149 friends dictionary'\n"
     ]
    },
    {
     "name": "stderr",
     "output_type": "stream",
     "text": [
      " 14%|█▍        | 14.5k/102k [21:29:21<79:50:31, 3.21s/Twitter friendship]"
     ]
    },
    {
     "name": "stdout",
     "output_type": "stream",
     "text": [
      "'Loaded 54166 friends dictionary'\n",
      "tweepy.TweepError [{'code': 34, 'message': 'Sorry, that page does not exist.'}]  from:  2\n"
     ]
    },
    {
     "name": "stderr",
     "output_type": "stream",
     "text": [
      "Rate limit reached. Sleeping for: 178\n",
      " 14%|█▍        | 14.5k/102k [21:32:59<151:36:40, 6.10s/Twitter friendship]"
     ]
    },
    {
     "name": "stdout",
     "output_type": "stream",
     "text": [
      "'Loaded 54183 friends dictionary'\n"
     ]
    },
    {
     "name": "stderr",
     "output_type": "stream",
     "text": [
      " 14%|█▍        | 14.5k/102k [21:34:28<145:17:44, 5.85s/Twitter friendship]"
     ]
    },
    {
     "name": "stdout",
     "output_type": "stream",
     "text": [
      "'Loaded 54200 friends dictionary'\n"
     ]
    },
    {
     "name": "stderr",
     "output_type": "stream",
     "text": [
      " 14%|█▍        | 14.5k/102k [21:35:07<118:38:25, 4.78s/Twitter friendship]"
     ]
    },
    {
     "name": "stdout",
     "output_type": "stream",
     "text": [
      "'Loaded 54217 friends dictionary'\n",
      "tweepy.TweepError Not authorized.  from:  13\n"
     ]
    },
    {
     "name": "stderr",
     "output_type": "stream",
     "text": [
      " 14%|█▍        | 14.5k/102k [21:36:06<109:00:55, 4.39s/Twitter friendship]"
     ]
    },
    {
     "name": "stdout",
     "output_type": "stream",
     "text": [
      "'Loaded 54234 friends dictionary'\n"
     ]
    },
    {
     "name": "stderr",
     "output_type": "stream",
     "text": [
      " 14%|█▍        | 14.6k/102k [21:36:49<95:13:57, 3.84s/Twitter friendship] "
     ]
    },
    {
     "name": "stdout",
     "output_type": "stream",
     "text": [
      "'Loaded 54251 friends dictionary'\n",
      "tweepy.TweepError Not authorized.  from:  3\n"
     ]
    },
    {
     "name": "stderr",
     "output_type": "stream",
     "text": [
      " 14%|█▍        | 14.6k/102k [21:37:22<80:52:32, 3.26s/Twitter friendship]"
     ]
    },
    {
     "name": "stdout",
     "output_type": "stream",
     "text": [
      "'Loaded 54268 friends dictionary'\n",
      "tweepy.TweepError [{'code': 34, 'message': 'Sorry, that page does not exist.'}]  from:  4\n",
      "tweepy.TweepError [{'code': 34, 'message': 'Sorry, that page does not exist.'}]  from:  11\n",
      "tweepy.TweepError Not authorized.  from:  14\n"
     ]
    },
    {
     "name": "stderr",
     "output_type": "stream",
     "text": [
      " 14%|█▍        | 14.6k/102k [21:38:28<85:46:10, 3.46s/Twitter friendship]"
     ]
    },
    {
     "name": "stdout",
     "output_type": "stream",
     "text": [
      "'Loaded 54285 friends dictionary'\n"
     ]
    },
    {
     "name": "stderr",
     "output_type": "stream",
     "text": [
      " 14%|█▍        | 14.6k/102k [21:39:05<76:02:35, 3.06s/Twitter friendship]"
     ]
    },
    {
     "name": "stdout",
     "output_type": "stream",
     "text": [
      "'Loaded 54302 friends dictionary'\n"
     ]
    },
    {
     "name": "stderr",
     "output_type": "stream",
     "text": [
      " 14%|█▍        | 14.6k/102k [21:40:07<80:08:59, 3.23s/Twitter friendship]"
     ]
    },
    {
     "name": "stdout",
     "output_type": "stream",
     "text": [
      "'Loaded 54319 friends dictionary'\n"
     ]
    },
    {
     "name": "stderr",
     "output_type": "stream",
     "text": [
      " 14%|█▍        | 14.6k/102k [21:40:51<75:19:42, 3.04s/Twitter friendship]"
     ]
    },
    {
     "name": "stdout",
     "output_type": "stream",
     "text": [
      "'Loaded 54336 friends dictionary'\n",
      "tweepy.TweepError [{'code': 34, 'message': 'Sorry, that page does not exist.'}]  from:  1\n",
      "tweepy.TweepError Not authorized.  from:  12\n"
     ]
    },
    {
     "name": "stderr",
     "output_type": "stream",
     "text": [
      " 14%|█▍        | 14.7k/102k [21:41:37<72:54:29, 2.94s/Twitter friendship]"
     ]
    },
    {
     "name": "stdout",
     "output_type": "stream",
     "text": [
      "'Loaded 54353 friends dictionary'\n"
     ]
    },
    {
     "name": "stderr",
     "output_type": "stream",
     "text": [
      " 14%|█▍        | 14.7k/102k [21:42:54<84:58:10, 3.43s/Twitter friendship]"
     ]
    },
    {
     "name": "stdout",
     "output_type": "stream",
     "text": [
      "'Loaded 54370 friends dictionary'\n",
      "tweepy.TweepError Not authorized.  from:  7\n"
     ]
    },
    {
     "name": "stderr",
     "output_type": "stream",
     "text": [
      " 14%|█▍        | 14.7k/102k [21:43:34<76:51:08, 3.10s/Twitter friendship]"
     ]
    },
    {
     "name": "stdout",
     "output_type": "stream",
     "text": [
      "'Loaded 54387 friends dictionary'\n"
     ]
    },
    {
     "name": "stderr",
     "output_type": "stream",
     "text": [
      " 14%|█▍        | 14.7k/102k [21:44:36<80:51:51, 3.26s/Twitter friendship]"
     ]
    },
    {
     "name": "stdout",
     "output_type": "stream",
     "text": [
      "'Loaded 54404 friends dictionary'\n",
      "tweepy.TweepError Not authorized.  from:  6\n"
     ]
    },
    {
     "name": "stderr",
     "output_type": "stream",
     "text": [
      " 14%|█▍        | 14.7k/102k [21:45:12<72:35:17, 2.93s/Twitter friendship]"
     ]
    },
    {
     "name": "stdout",
     "output_type": "stream",
     "text": [
      "'Loaded 54421 friends dictionary'\n"
     ]
    },
    {
     "name": "stderr",
     "output_type": "stream",
     "text": [
      "Rate limit reached. Sleeping for: 215\n",
      " 14%|█▍        | 14.7k/102k [21:49:33<164:44:41, 6.65s/Twitter friendship]"
     ]
    },
    {
     "name": "stdout",
     "output_type": "stream",
     "text": [
      "'Loaded 54438 friends dictionary'\n"
     ]
    },
    {
     "name": "stderr",
     "output_type": "stream",
     "text": [
      " 14%|█▍        | 14.8k/102k [21:50:38<143:37:02, 5.80s/Twitter friendship]"
     ]
    },
    {
     "name": "stdout",
     "output_type": "stream",
     "text": [
      "'Loaded 54455 friends dictionary'\n",
      "tweepy.TweepError Not authorized.  from:  9\n"
     ]
    },
    {
     "name": "stderr",
     "output_type": "stream",
     "text": [
      " 15%|█▍        | 14.8k/102k [21:51:14<116:15:54, 4.69s/Twitter friendship]"
     ]
    },
    {
     "name": "stdout",
     "output_type": "stream",
     "text": [
      "'Loaded 54472 friends dictionary'\n"
     ]
    },
    {
     "name": "stderr",
     "output_type": "stream",
     "text": [
      " 15%|█▍        | 14.8k/102k [21:52:15<107:53:52, 4.36s/Twitter friendship]"
     ]
    },
    {
     "name": "stdout",
     "output_type": "stream",
     "text": [
      "'Loaded 54489 friends dictionary'\n"
     ]
    },
    {
     "name": "stderr",
     "output_type": "stream",
     "text": [
      " 15%|█▍        | 14.8k/102k [21:52:52<91:46:36, 3.71s/Twitter friendship] "
     ]
    },
    {
     "name": "stdout",
     "output_type": "stream",
     "text": [
      "'Loaded 54506 friends dictionary'\n",
      "tweepy.TweepError [{'code': 34, 'message': 'Sorry, that page does not exist.'}]  from:  0\n"
     ]
    },
    {
     "name": "stderr",
     "output_type": "stream",
     "text": [
      " 15%|█▍        | 14.8k/102k [21:53:32<81:51:10, 3.31s/Twitter friendship]"
     ]
    },
    {
     "name": "stdout",
     "output_type": "stream",
     "text": [
      "'Loaded 54523 friends dictionary'\n"
     ]
    },
    {
     "name": "stderr",
     "output_type": "stream",
     "text": [
      " 15%|█▍        | 14.8k/102k [21:54:40<87:09:51, 3.52s/Twitter friendship]"
     ]
    },
    {
     "name": "stdout",
     "output_type": "stream",
     "text": [
      "'Loaded 54540 friends dictionary'\n"
     ]
    },
    {
     "name": "stderr",
     "output_type": "stream",
     "text": [
      " 15%|█▍        | 14.9k/102k [21:55:17<76:51:44, 3.11s/Twitter friendship]"
     ]
    },
    {
     "name": "stdout",
     "output_type": "stream",
     "text": [
      "'Loaded 54557 friends dictionary'\n"
     ]
    },
    {
     "name": "stderr",
     "output_type": "stream",
     "text": [
      " 15%|█▍        | 14.9k/102k [21:56:18<80:27:44, 3.25s/Twitter friendship]"
     ]
    },
    {
     "name": "stdout",
     "output_type": "stream",
     "text": [
      "'Loaded 54574 friends dictionary'\n"
     ]
    },
    {
     "name": "stderr",
     "output_type": "stream",
     "text": [
      " 15%|█▍        | 14.9k/102k [21:56:54<71:52:58, 2.91s/Twitter friendship]"
     ]
    },
    {
     "name": "stdout",
     "output_type": "stream",
     "text": [
      "'Loaded 54591 friends dictionary'\n"
     ]
    },
    {
     "name": "stderr",
     "output_type": "stream",
     "text": [
      " 15%|█▍        | 14.9k/102k [21:57:33<67:26:35, 2.73s/Twitter friendship]"
     ]
    },
    {
     "name": "stdout",
     "output_type": "stream",
     "text": [
      "'Loaded 54608 friends dictionary'\n"
     ]
    },
    {
     "name": "stderr",
     "output_type": "stream",
     "text": [
      " 15%|█▍        | 14.9k/102k [21:58:35<74:32:22, 3.01s/Twitter friendship]"
     ]
    },
    {
     "name": "stdout",
     "output_type": "stream",
     "text": [
      "'Loaded 54625 friends dictionary'\n"
     ]
    },
    {
     "name": "stderr",
     "output_type": "stream",
     "text": [
      " 15%|█▍        | 14.9k/102k [21:59:11<67:39:18, 2.74s/Twitter friendship]"
     ]
    },
    {
     "name": "stdout",
     "output_type": "stream",
     "text": [
      "'Loaded 54642 friends dictionary'\n"
     ]
    },
    {
     "name": "stderr",
     "output_type": "stream",
     "text": [
      "Rate limit reached. Sleeping for: 262\n"
     ]
    },
    {
     "name": "stdout",
     "output_type": "stream",
     "text": [
      "tweepy.TweepError Not authorized.  from:  12\n",
      "tweepy.TweepError [{'code': 34, 'message': 'Sorry, that page does not exist.'}]  from:  15\n"
     ]
    },
    {
     "name": "stderr",
     "output_type": "stream",
     "text": [
      " 15%|█▍        | 15.0k/102k [22:04:39<190:23:06, 7.70s/Twitter friendship]"
     ]
    },
    {
     "name": "stdout",
     "output_type": "stream",
     "text": [
      "'Loaded 54659 friends dictionary'\n"
     ]
    },
    {
     "name": "stderr",
     "output_type": "stream",
     "text": [
      "Rate limit reached. Sleeping for: 22\n",
      " 15%|█▍        | 15.0k/102k [22:05:45<161:53:30, 6.55s/Twitter friendship]"
     ]
    },
    {
     "name": "stdout",
     "output_type": "stream",
     "text": [
      "'Loaded 54676 friends dictionary'\n",
      "tweepy.TweepError Not authorized.  from:  2\n"
     ]
    },
    {
     "name": "stderr",
     "output_type": "stream",
     "text": [
      " 15%|█▍        | 15.0k/102k [22:06:22<129:24:04, 5.24s/Twitter friendship]"
     ]
    },
    {
     "name": "stdout",
     "output_type": "stream",
     "text": [
      "'Loaded 54693 friends dictionary'\n"
     ]
    },
    {
     "name": "stderr",
     "output_type": "stream",
     "text": [
      " 15%|█▍        | 15.0k/102k [22:07:17<114:50:18, 4.65s/Twitter friendship]"
     ]
    },
    {
     "name": "stdout",
     "output_type": "stream",
     "text": [
      "'Loaded 54710 friends dictionary'\n"
     ]
    },
    {
     "name": "stderr",
     "output_type": "stream",
     "text": [
      " 15%|█▍        | 15.0k/102k [22:07:52<95:34:56, 3.87s/Twitter friendship] "
     ]
    },
    {
     "name": "stdout",
     "output_type": "stream",
     "text": [
      "'Loaded 54727 friends dictionary'\n"
     ]
    },
    {
     "name": "stderr",
     "output_type": "stream",
     "text": [
      " 15%|█▍        | 15.0k/102k [22:08:47<90:44:22, 3.67s/Twitter friendship]"
     ]
    },
    {
     "name": "stdout",
     "output_type": "stream",
     "text": [
      "'Loaded 54744 friends dictionary'\n"
     ]
    },
    {
     "name": "stderr",
     "output_type": "stream",
     "text": [
      " 15%|█▍        | 15.1k/102k [22:09:20<77:57:21, 3.16s/Twitter friendship]"
     ]
    },
    {
     "name": "stdout",
     "output_type": "stream",
     "text": [
      "'Loaded 54761 friends dictionary'\n",
      "tweepy.TweepError Not authorized.  from:  10\n"
     ]
    },
    {
     "name": "stderr",
     "output_type": "stream",
     "text": [
      " 15%|█▍        | 15.1k/102k [22:09:57<70:51:46, 2.87s/Twitter friendship]"
     ]
    },
    {
     "name": "stdout",
     "output_type": "stream",
     "text": [
      "'Loaded 54778 friends dictionary'\n"
     ]
    },
    {
     "name": "stderr",
     "output_type": "stream",
     "text": [
      "Rate limit reached. Sleeping for: 587\n"
     ]
    },
    {
     "name": "stdout",
     "output_type": "stream",
     "text": [
      "tweepy.TweepError [{'code': 34, 'message': 'Sorry, that page does not exist.'}]  from:  5\n"
     ]
    },
    {
     "name": "stderr",
     "output_type": "stream",
     "text": [
      " 15%|█▍        | 15.1k/102k [22:20:48<332:46:17, 13.5s/Twitter friendship]"
     ]
    },
    {
     "name": "stdout",
     "output_type": "stream",
     "text": [
      "'Loaded 54795 friends dictionary'\n"
     ]
    },
    {
     "name": "stderr",
     "output_type": "stream",
     "text": [
      " 15%|█▍        | 15.1k/102k [22:21:25<249:05:19, 10.1s/Twitter friendship]"
     ]
    },
    {
     "name": "stdout",
     "output_type": "stream",
     "text": [
      "'Loaded 54812 friends dictionary'\n",
      "tweepy.TweepError [{'code': 34, 'message': 'Sorry, that page does not exist.'}]  from:  1\n"
     ]
    },
    {
     "name": "stderr",
     "output_type": "stream",
     "text": [
      " 15%|█▍        | 15.1k/102k [22:22:26<200:48:28, 8.14s/Twitter friendship]"
     ]
    },
    {
     "name": "stdout",
     "output_type": "stream",
     "text": [
      "'Loaded 54829 friends dictionary'\n",
      "tweepy.TweepError Not authorized.  from:  15\n"
     ]
    },
    {
     "name": "stderr",
     "output_type": "stream",
     "text": [
      " 15%|█▍        | 15.1k/102k [22:22:59<155:03:46, 6.29s/Twitter friendship]"
     ]
    },
    {
     "name": "stdout",
     "output_type": "stream",
     "text": [
      "'Loaded 54846 friends dictionary'\n"
     ]
    },
    {
     "name": "stderr",
     "output_type": "stream",
     "text": [
      " 15%|█▍        | 15.2k/102k [22:23:35<124:09:41, 5.03s/Twitter friendship]"
     ]
    },
    {
     "name": "stdout",
     "output_type": "stream",
     "text": [
      "'Loaded 54863 friends dictionary'\n",
      "tweepy.TweepError [{'code': 34, 'message': 'Sorry, that page does not exist.'}]  from:  9\n"
     ]
    },
    {
     "name": "stderr",
     "output_type": "stream",
     "text": [
      " 15%|█▍        | 15.2k/102k [22:24:50<119:29:00, 4.85s/Twitter friendship]"
     ]
    },
    {
     "name": "stdout",
     "output_type": "stream",
     "text": [
      "'Loaded 54880 friends dictionary'\n",
      "tweepy.TweepError Not authorized.  from:  7\n"
     ]
    },
    {
     "name": "stderr",
     "output_type": "stream",
     "text": [
      " 15%|█▍        | 15.2k/102k [22:25:23<98:14:47, 3.99s/Twitter friendship] "
     ]
    },
    {
     "name": "stdout",
     "output_type": "stream",
     "text": [
      "'Loaded 54897 friends dictionary'\n"
     ]
    },
    {
     "name": "stderr",
     "output_type": "stream",
     "text": [
      " 15%|█▍        | 15.2k/102k [22:26:18<92:30:02, 3.75s/Twitter friendship]"
     ]
    },
    {
     "name": "stdout",
     "output_type": "stream",
     "text": [
      "'Loaded 54914 friends dictionary'\n"
     ]
    },
    {
     "name": "stderr",
     "output_type": "stream",
     "text": [
      " 15%|█▍        | 15.2k/102k [22:26:51<78:52:55, 3.20s/Twitter friendship]"
     ]
    },
    {
     "name": "stdout",
     "output_type": "stream",
     "text": [
      "'Loaded 54931 friends dictionary'\n"
     ]
    },
    {
     "name": "stderr",
     "output_type": "stream",
     "text": [
      " 15%|█▍        | 15.2k/102k [22:27:23<69:22:03, 2.82s/Twitter friendship]"
     ]
    },
    {
     "name": "stdout",
     "output_type": "stream",
     "text": [
      "'Loaded 54948 friends dictionary'\n",
      "tweepy.TweepError Not authorized.  from:  3\n"
     ]
    },
    {
     "name": "stderr",
     "output_type": "stream",
     "text": [
      " 15%|█▍        | 15.3k/102k [22:28:19<72:59:08, 2.96s/Twitter friendship]"
     ]
    },
    {
     "name": "stdout",
     "output_type": "stream",
     "text": [
      "'Loaded 54965 friends dictionary'\n"
     ]
    },
    {
     "name": "stderr",
     "output_type": "stream",
     "text": [
      " 15%|█▍        | 15.3k/102k [22:28:53<65:32:09, 2.66s/Twitter friendship]"
     ]
    },
    {
     "name": "stdout",
     "output_type": "stream",
     "text": [
      "'Loaded 54982 friends dictionary'\n"
     ]
    },
    {
     "name": "stderr",
     "output_type": "stream",
     "text": [
      " 15%|█▌        | 15.3k/102k [22:29:48<69:42:21, 2.83s/Twitter friendship]"
     ]
    },
    {
     "name": "stdout",
     "output_type": "stream",
     "text": [
      "'Loaded 54999 friends dictionary'\n",
      "tweepy.TweepError Not authorized.  from:  8\n"
     ]
    },
    {
     "name": "stderr",
     "output_type": "stream",
     "text": [
      "Rate limit reached. Sleeping for: 327\n",
      " 15%|█▌        | 15.3k/102k [22:35:54<208:11:49, 8.46s/Twitter friendship]"
     ]
    },
    {
     "name": "stdout",
     "output_type": "stream",
     "text": [
      "'Loaded 55016 friends dictionary'\n",
      "tweepy.TweepError Not authorized.  from:  6\n"
     ]
    },
    {
     "name": "stderr",
     "output_type": "stream",
     "text": [
      " 15%|█▌        | 15.3k/102k [22:36:33<162:17:49, 6.59s/Twitter friendship]"
     ]
    },
    {
     "name": "stdout",
     "output_type": "stream",
     "text": [
      "'Loaded 55033 friends dictionary'\n"
     ]
    },
    {
     "name": "stderr",
     "output_type": "stream",
     "text": [
      " 15%|█▌        | 15.3k/102k [22:37:29<138:05:39, 5.61s/Twitter friendship]"
     ]
    },
    {
     "name": "stdout",
     "output_type": "stream",
     "text": [
      "tweepy.TweepError Not authorized.  from:  16\n",
      "'Loaded 55050 friends dictionary'\n"
     ]
    },
    {
     "name": "stderr",
     "output_type": "stream",
     "text": [
      " 15%|█▌        | 15.4k/102k [22:38:01<110:30:51, 4.49s/Twitter friendship]"
     ]
    },
    {
     "name": "stdout",
     "output_type": "stream",
     "text": [
      "'Loaded 55067 friends dictionary'\n"
     ]
    },
    {
     "name": "stderr",
     "output_type": "stream",
     "text": [
      " 15%|█▌        | 15.4k/102k [22:38:53<100:02:42, 4.07s/Twitter friendship]"
     ]
    },
    {
     "name": "stdout",
     "output_type": "stream",
     "text": [
      "'Loaded 55084 friends dictionary'\n"
     ]
    },
    {
     "name": "stderr",
     "output_type": "stream",
     "text": [
      " 15%|█▌        | 15.4k/102k [22:39:33<87:11:28, 3.55s/Twitter friendship] "
     ]
    },
    {
     "name": "stdout",
     "output_type": "stream",
     "text": [
      "'Loaded 55101 friends dictionary'\n",
      "tweepy.TweepError Not authorized.  from:  5\n",
      "tweepy.TweepError Not authorized.  from:  9\n"
     ]
    },
    {
     "name": "stderr",
     "output_type": "stream",
     "text": [
      " 15%|█▌        | 15.4k/102k [22:40:02<73:32:01, 2.99s/Twitter friendship]"
     ]
    },
    {
     "name": "stdout",
     "output_type": "stream",
     "text": [
      "'Loaded 55118 friends dictionary'\n"
     ]
    },
    {
     "name": "stderr",
     "output_type": "stream",
     "text": [
      " 15%|█▌        | 15.4k/102k [22:40:57<75:28:29, 3.07s/Twitter friendship]"
     ]
    },
    {
     "name": "stdout",
     "output_type": "stream",
     "text": [
      "'Loaded 55135 friends dictionary'\n"
     ]
    },
    {
     "name": "stderr",
     "output_type": "stream",
     "text": [
      "Rate limit reached. Sleeping for: 568\n",
      " 15%|█▌        | 15.4k/102k [22:50:58<313:22:16, 12.7s/Twitter friendship]"
     ]
    },
    {
     "name": "stdout",
     "output_type": "stream",
     "text": [
      "'Loaded 55152 friends dictionary'\n"
     ]
    },
    {
     "name": "stderr",
     "output_type": "stream",
     "text": [
      " 15%|█▌        | 15.5k/102k [22:51:52<242:45:20, 9.88s/Twitter friendship]"
     ]
    },
    {
     "name": "stdout",
     "output_type": "stream",
     "text": [
      "'Loaded 55169 friends dictionary'\n",
      "tweepy.TweepError Not authorized.  from:  10\n"
     ]
    },
    {
     "name": "stderr",
     "output_type": "stream",
     "text": [
      " 15%|█▌        | 15.5k/102k [22:52:51<195:36:58, 7.96s/Twitter friendship]"
     ]
    },
    {
     "name": "stdout",
     "output_type": "stream",
     "text": [
      "'Loaded 55186 friends dictionary'\n"
     ]
    },
    {
     "name": "stderr",
     "output_type": "stream",
     "text": [
      " 15%|█▌        | 15.5k/102k [22:53:24<151:10:49, 6.15s/Twitter friendship]"
     ]
    },
    {
     "name": "stdout",
     "output_type": "stream",
     "text": [
      "'Loaded 55203 friends dictionary'\n"
     ]
    },
    {
     "name": "stderr",
     "output_type": "stream",
     "text": [
      " 15%|█▌        | 15.5k/102k [22:54:18<129:02:04, 5.25s/Twitter friendship]"
     ]
    },
    {
     "name": "stdout",
     "output_type": "stream",
     "text": [
      "'Loaded 55220 friends dictionary'\n",
      "tweepy.TweepError [{'code': 34, 'message': 'Sorry, that page does not exist.'}]  from:  4\n"
     ]
    },
    {
     "name": "stderr",
     "output_type": "stream",
     "text": [
      " 15%|█▌        | 15.5k/102k [22:54:51<104:44:48, 4.27s/Twitter friendship]"
     ]
    },
    {
     "name": "stdout",
     "output_type": "stream",
     "text": [
      "'Loaded 55237 friends dictionary'\n"
     ]
    },
    {
     "name": "stderr",
     "output_type": "stream",
     "text": [
      " 15%|█▌        | 15.5k/102k [22:55:28<89:31:10, 3.65s/Twitter friendship] "
     ]
    },
    {
     "name": "stdout",
     "output_type": "stream",
     "text": [
      "'Loaded 55254 friends dictionary'\n"
     ]
    },
    {
     "name": "stderr",
     "output_type": "stream",
     "text": [
      " 15%|█▌        | 15.6k/102k [22:56:25<87:00:51, 3.54s/Twitter friendship]"
     ]
    },
    {
     "name": "stdout",
     "output_type": "stream",
     "text": [
      "'Loaded 55271 friends dictionary'\n"
     ]
    },
    {
     "name": "stderr",
     "output_type": "stream",
     "text": [
      " 15%|█▌        | 15.6k/102k [22:56:59<75:37:09, 3.08s/Twitter friendship]"
     ]
    },
    {
     "name": "stdout",
     "output_type": "stream",
     "text": [
      "'Loaded 55288 friends dictionary'\n"
     ]
    },
    {
     "name": "stderr",
     "output_type": "stream",
     "text": [
      " 15%|█▌        | 15.6k/102k [22:57:53<76:23:50, 3.11s/Twitter friendship]"
     ]
    },
    {
     "name": "stdout",
     "output_type": "stream",
     "text": [
      "'Loaded 55305 friends dictionary'\n",
      "tweepy.TweepError Not authorized.  from:  13\n"
     ]
    },
    {
     "name": "stderr",
     "output_type": "stream",
     "text": [
      " 15%|█▌        | 15.6k/102k [22:58:22<66:13:02, 2.70s/Twitter friendship]"
     ]
    },
    {
     "name": "stdout",
     "output_type": "stream",
     "text": [
      "'Loaded 55322 friends dictionary'\n"
     ]
    },
    {
     "name": "stderr",
     "output_type": "stream",
     "text": [
      " 15%|█▌        | 15.6k/102k [22:59:00<62:32:53, 2.55s/Twitter friendship]"
     ]
    },
    {
     "name": "stdout",
     "output_type": "stream",
     "text": [
      "'Loaded 55339 friends dictionary'\n"
     ]
    },
    {
     "name": "stderr",
     "output_type": "stream",
     "text": [
      " 15%|█▌        | 15.6k/102k [22:59:55<67:44:23, 2.76s/Twitter friendship]"
     ]
    },
    {
     "name": "stdout",
     "output_type": "stream",
     "text": [
      "'Loaded 55356 friends dictionary'\n"
     ]
    },
    {
     "name": "stderr",
     "output_type": "stream",
     "text": [
      "Rate limit reached. Sleeping for: 383\n",
      " 15%|█▌        | 15.7k/102k [23:06:57<229:49:10, 9.37s/Twitter friendship]"
     ]
    },
    {
     "name": "stdout",
     "output_type": "stream",
     "text": [
      "'Loaded 55373 friends dictionary'\n",
      "tweepy.TweepError Not authorized.  from:  10\n"
     ]
    },
    {
     "name": "stderr",
     "output_type": "stream",
     "text": [
      " 15%|█▌        | 15.7k/102k [23:07:55<186:17:56, 7.60s/Twitter friendship]"
     ]
    },
    {
     "name": "stdout",
     "output_type": "stream",
     "text": [
      "'Loaded 55390 friends dictionary'\n",
      "tweepy.TweepError Not authorized.  from:  7\n"
     ]
    },
    {
     "name": "stderr",
     "output_type": "stream",
     "text": [
      " 15%|█▌        | 15.7k/102k [23:08:29<144:41:37, 5.90s/Twitter friendship]"
     ]
    },
    {
     "name": "stdout",
     "output_type": "stream",
     "text": [
      "'Loaded 55407 friends dictionary'\n",
      "tweepy.TweepError [{'code': 34, 'message': 'Sorry, that page does not exist.'}]  from:  0\n",
      "tweepy.TweepError Not authorized.  from:  7\n"
     ]
    },
    {
     "name": "stderr",
     "output_type": "stream",
     "text": [
      " 15%|█▌        | 15.7k/102k [23:09:05<117:12:46, 4.78s/Twitter friendship]"
     ]
    },
    {
     "name": "stdout",
     "output_type": "stream",
     "text": [
      "'Loaded 55424 friends dictionary'\n",
      "tweepy.TweepError Not authorized.  from:  10\n"
     ]
    },
    {
     "name": "stderr",
     "output_type": "stream",
     "text": [
      " 15%|█▌        | 15.7k/102k [23:10:08<109:06:01, 4.45s/Twitter friendship]"
     ]
    },
    {
     "name": "stdout",
     "output_type": "stream",
     "text": [
      "'Loaded 55441 friends dictionary'\n"
     ]
    },
    {
     "name": "stderr",
     "output_type": "stream",
     "text": [
      " 15%|█▌        | 15.7k/102k [23:10:48<93:49:55, 3.83s/Twitter friendship] "
     ]
    },
    {
     "name": "stdout",
     "output_type": "stream",
     "text": [
      "'Loaded 55458 friends dictionary'\n"
     ]
    },
    {
     "name": "stderr",
     "output_type": "stream",
     "text": [
      " 15%|█▌        | 15.8k/102k [23:11:43<89:15:27, 3.64s/Twitter friendship]"
     ]
    },
    {
     "name": "stdout",
     "output_type": "stream",
     "text": [
      "'Loaded 55475 friends dictionary'\n"
     ]
    },
    {
     "name": "stderr",
     "output_type": "stream",
     "text": [
      " 15%|█▌        | 15.8k/102k [23:12:18<77:25:59, 3.16s/Twitter friendship]"
     ]
    },
    {
     "name": "stdout",
     "output_type": "stream",
     "text": [
      "'Loaded 55492 friends dictionary'\n"
     ]
    },
    {
     "name": "stderr",
     "output_type": "stream",
     "text": [
      " 16%|█▌        | 15.8k/102k [23:12:53<69:21:27, 2.83s/Twitter friendship]"
     ]
    },
    {
     "name": "stdout",
     "output_type": "stream",
     "text": [
      "'Loaded 55509 friends dictionary'\n"
     ]
    },
    {
     "name": "stderr",
     "output_type": "stream",
     "text": [
      " 16%|█▌        | 15.8k/102k [23:13:46<71:28:51, 2.92s/Twitter friendship]"
     ]
    },
    {
     "name": "stdout",
     "output_type": "stream",
     "text": [
      "'Loaded 55526 friends dictionary'\n"
     ]
    },
    {
     "name": "stderr",
     "output_type": "stream",
     "text": [
      " 16%|█▌        | 15.8k/102k [23:14:19<64:08:57, 2.62s/Twitter friendship]"
     ]
    },
    {
     "name": "stdout",
     "output_type": "stream",
     "text": [
      "'Loaded 55543 friends dictionary'\n"
     ]
    },
    {
     "name": "stderr",
     "output_type": "stream",
     "text": [
      " 16%|█▌        | 15.8k/102k [23:15:14<68:56:52, 2.82s/Twitter friendship]"
     ]
    },
    {
     "name": "stdout",
     "output_type": "stream",
     "text": [
      "'Loaded 55560 friends dictionary'\n"
     ]
    },
    {
     "name": "stderr",
     "output_type": "stream",
     "text": [
      " 16%|█▌        | 15.9k/102k [23:16:13<73:36:09, 3.01s/Twitter friendship]"
     ]
    },
    {
     "name": "stdout",
     "output_type": "stream",
     "text": [
      "'Loaded 55577 friends dictionary'\n"
     ]
    },
    {
     "name": "stderr",
     "output_type": "stream",
     "text": [
      "Rate limit reached. Sleeping for: 311\n",
      " 16%|█▌        | 15.9k/102k [23:22:02<201:59:15, 8.26s/Twitter friendship]"
     ]
    },
    {
     "name": "stdout",
     "output_type": "stream",
     "text": [
      "'Loaded 55594 friends dictionary'\n"
     ]
    },
    {
     "name": "stderr",
     "output_type": "stream",
     "text": [
      " 16%|█▌        | 15.9k/102k [23:23:01<166:56:18, 6.83s/Twitter friendship]"
     ]
    },
    {
     "name": "stdout",
     "output_type": "stream",
     "text": [
      "'Loaded 55611 friends dictionary'\n"
     ]
    },
    {
     "name": "stderr",
     "output_type": "stream",
     "text": [
      " 16%|█▌        | 15.9k/102k [23:23:33<130:47:00, 5.35s/Twitter friendship]"
     ]
    },
    {
     "name": "stdout",
     "output_type": "stream",
     "text": [
      "'Loaded 55628 friends dictionary'\n"
     ]
    },
    {
     "name": "stderr",
     "output_type": "stream",
     "text": [
      " 16%|█▌        | 15.9k/102k [23:24:20<111:36:28, 4.57s/Twitter friendship]"
     ]
    },
    {
     "name": "stdout",
     "output_type": "stream",
     "text": [
      "'Loaded 55645 friends dictionary'\n"
     ]
    },
    {
     "name": "stderr",
     "output_type": "stream",
     "text": [
      " 16%|█▌        | 15.9k/102k [23:25:20<103:59:27, 4.26s/Twitter friendship]"
     ]
    },
    {
     "name": "stdout",
     "output_type": "stream",
     "text": [
      "'Loaded 55662 friends dictionary'\n",
      "tweepy.TweepError Not authorized.  from:  0\n"
     ]
    },
    {
     "name": "stderr",
     "output_type": "stream",
     "text": [
      " 16%|█▌        | 16.0k/102k [23:25:52<86:38:27, 3.55s/Twitter friendship] "
     ]
    },
    {
     "name": "stdout",
     "output_type": "stream",
     "text": [
      "'Loaded 55679 friends dictionary'\n"
     ]
    },
    {
     "name": "stderr",
     "output_type": "stream",
     "text": [
      " 16%|█▌        | 16.0k/102k [23:26:49<85:14:52, 3.49s/Twitter friendship]"
     ]
    },
    {
     "name": "stdout",
     "output_type": "stream",
     "text": [
      "'Loaded 55696 friends dictionary'\n",
      "tweepy.TweepError [{'code': 34, 'message': 'Sorry, that page does not exist.'}]  from:  9\n"
     ]
    },
    {
     "name": "stderr",
     "output_type": "stream",
     "text": [
      " 16%|█▌        | 16.0k/102k [23:27:22<73:45:42, 3.02s/Twitter friendship]"
     ]
    },
    {
     "name": "stdout",
     "output_type": "stream",
     "text": [
      "'Loaded 55713 friends dictionary'\n",
      "tweepy.TweepError Not authorized.  from:  12\n"
     ]
    },
    {
     "name": "stderr",
     "output_type": "stream",
     "text": [
      " 16%|█▌        | 16.0k/102k [23:27:56<66:17:27, 2.71s/Twitter friendship]"
     ]
    },
    {
     "name": "stdout",
     "output_type": "stream",
     "text": [
      "'Loaded 55730 friends dictionary'\n"
     ]
    },
    {
     "name": "stderr",
     "output_type": "stream",
     "text": [
      " 16%|█▌        | 16.0k/102k [23:28:56<72:16:59, 2.96s/Twitter friendship]"
     ]
    },
    {
     "name": "stdout",
     "output_type": "stream",
     "text": [
      "'Loaded 55747 friends dictionary'\n"
     ]
    },
    {
     "name": "stderr",
     "output_type": "stream",
     "text": [
      " 16%|█▌        | 16.0k/102k [23:29:30<65:11:18, 2.67s/Twitter friendship]"
     ]
    },
    {
     "name": "stdout",
     "output_type": "stream",
     "text": [
      "'Loaded 55764 friends dictionary'\n"
     ]
    },
    {
     "name": "stderr",
     "output_type": "stream",
     "text": [
      "Rate limit reached. Sleeping for: 397\n",
      " 16%|█▌        | 16.1k/102k [23:37:06<242:03:06, 9.92s/Twitter friendship]"
     ]
    },
    {
     "name": "stdout",
     "output_type": "stream",
     "text": [
      "'Loaded 55781 friends dictionary'\n"
     ]
    },
    {
     "name": "stderr",
     "output_type": "stream",
     "text": [
      " 16%|█▌        | 16.1k/102k [23:37:41<184:42:13, 7.57s/Twitter friendship]"
     ]
    },
    {
     "name": "stdout",
     "output_type": "stream",
     "text": [
      "'Loaded 55798 friends dictionary'\n",
      "tweepy.TweepError Not authorized.  from:  11\n"
     ]
    },
    {
     "name": "stderr",
     "output_type": "stream",
     "text": [
      " 16%|█▌        | 16.1k/102k [23:38:18<144:53:08, 5.94s/Twitter friendship]"
     ]
    },
    {
     "name": "stdout",
     "output_type": "stream",
     "text": [
      "'Loaded 55815 friends dictionary'\n"
     ]
    },
    {
     "name": "stderr",
     "output_type": "stream",
     "text": [
      " 16%|█▌        | 16.1k/102k [23:39:16<126:29:27, 5.19s/Twitter friendship]"
     ]
    },
    {
     "name": "stdout",
     "output_type": "stream",
     "text": [
      "'Loaded 55832 friends dictionary'\n"
     ]
    },
    {
     "name": "stderr",
     "output_type": "stream",
     "text": [
      " 16%|█▌        | 16.1k/102k [23:39:49<102:52:33, 4.22s/Twitter friendship]"
     ]
    },
    {
     "name": "stdout",
     "output_type": "stream",
     "text": [
      "'Loaded 55849 friends dictionary'\n"
     ]
    },
    {
     "name": "stderr",
     "output_type": "stream",
     "text": [
      " 16%|█▌        | 16.1k/102k [23:40:42<94:50:37, 3.89s/Twitter friendship] "
     ]
    },
    {
     "name": "stdout",
     "output_type": "stream",
     "text": [
      "'Loaded 55866 friends dictionary'\n"
     ]
    },
    {
     "name": "stderr",
     "output_type": "stream",
     "text": [
      " 16%|█▌        | 16.2k/102k [23:41:41<91:30:02, 3.75s/Twitter friendship]"
     ]
    },
    {
     "name": "stdout",
     "output_type": "stream",
     "text": [
      "'Loaded 55883 friends dictionary'\n"
     ]
    },
    {
     "name": "stderr",
     "output_type": "stream",
     "text": [
      " 16%|█▌        | 16.2k/102k [23:42:14<78:09:39, 3.21s/Twitter friendship]"
     ]
    },
    {
     "name": "stdout",
     "output_type": "stream",
     "text": [
      "'Loaded 55900 friends dictionary'\n",
      "tweepy.TweepError Not authorized.  from:  3\n"
     ]
    },
    {
     "name": "stderr",
     "output_type": "stream",
     "text": [
      " 16%|█▌        | 16.2k/102k [23:43:09<78:40:51, 3.23s/Twitter friendship]"
     ]
    },
    {
     "name": "stdout",
     "output_type": "stream",
     "text": [
      "'Loaded 55917 friends dictionary'\n",
      "tweepy.TweepError Not authorized.  from:  4\n"
     ]
    },
    {
     "name": "stderr",
     "output_type": "stream",
     "text": [
      " 16%|█▌        | 16.2k/102k [23:43:42<69:15:06, 2.84s/Twitter friendship]"
     ]
    },
    {
     "name": "stdout",
     "output_type": "stream",
     "text": [
      "'Loaded 55934 friends dictionary'\n"
     ]
    },
    {
     "name": "stderr",
     "output_type": "stream",
     "text": [
      " 16%|█▌        | 16.2k/102k [23:44:21<65:11:26, 2.68s/Twitter friendship]"
     ]
    },
    {
     "name": "stdout",
     "output_type": "stream",
     "text": [
      "'Loaded 55951 friends dictionary'\n"
     ]
    },
    {
     "name": "stderr",
     "output_type": "stream",
     "text": [
      " 16%|█▌        | 16.2k/102k [23:45:21<71:11:40, 2.92s/Twitter friendship]"
     ]
    },
    {
     "name": "stdout",
     "output_type": "stream",
     "text": [
      "'Loaded 55968 friends dictionary'\n"
     ]
    },
    {
     "name": "stderr",
     "output_type": "stream",
     "text": [
      " 16%|█▌        | 16.3k/102k [23:45:55<64:36:03, 2.65s/Twitter friendship]"
     ]
    },
    {
     "name": "stdout",
     "output_type": "stream",
     "text": [
      "'Loaded 55985 friends dictionary'\n",
      "tweepy.TweepError Not authorized.  from:  0\n"
     ]
    },
    {
     "name": "stderr",
     "output_type": "stream",
     "text": [
      " 16%|█▌        | 16.3k/102k [23:46:52<69:31:40, 2.86s/Twitter friendship]"
     ]
    },
    {
     "name": "stdout",
     "output_type": "stream",
     "text": [
      "'Loaded 56002 friends dictionary'\n"
     ]
    },
    {
     "name": "stderr",
     "output_type": "stream",
     "text": [
      " 16%|█▌        | 16.3k/102k [23:47:27<63:36:53, 2.61s/Twitter friendship]"
     ]
    },
    {
     "name": "stdout",
     "output_type": "stream",
     "text": [
      "'Loaded 56019 friends dictionary'\n"
     ]
    },
    {
     "name": "stderr",
     "output_type": "stream",
     "text": [
      "Rate limit reached. Sleeping for: 204\n",
      " 16%|█▌        | 16.3k/102k [23:52:11<166:31:46, 6.84s/Twitter friendship]"
     ]
    },
    {
     "name": "stdout",
     "output_type": "stream",
     "text": [
      "'Loaded 56036 friends dictionary'\n"
     ]
    },
    {
     "name": "stderr",
     "output_type": "stream",
     "text": [
      " 16%|█▌        | 16.3k/102k [23:53:18<145:35:43, 5.98s/Twitter friendship]"
     ]
    },
    {
     "name": "stdout",
     "output_type": "stream",
     "text": [
      "'Loaded 56053 friends dictionary'\n"
     ]
    },
    {
     "name": "stderr",
     "output_type": "stream",
     "text": [
      " 16%|█▌        | 16.3k/102k [23:53:56<118:10:11, 4.86s/Twitter friendship]"
     ]
    },
    {
     "name": "stdout",
     "output_type": "stream",
     "text": [
      "'Loaded 56070 friends dictionary'\n"
     ]
    },
    {
     "name": "stderr",
     "output_type": "stream",
     "text": [
      " 16%|█▌        | 16.4k/102k [23:55:02<110:48:42, 4.56s/Twitter friendship]"
     ]
    },
    {
     "name": "stdout",
     "output_type": "stream",
     "text": [
      "'Loaded 56087 friends dictionary'\n",
      "tweepy.TweepError Not authorized.  from:  12\n",
      "tweepy.TweepError Not authorized.  from:  15\n"
     ]
    },
    {
     "name": "stderr",
     "output_type": "stream",
     "text": [
      " 16%|█▌        | 16.4k/102k [23:56:07<105:24:21, 4.33s/Twitter friendship]"
     ]
    },
    {
     "name": "stdout",
     "output_type": "stream",
     "text": [
      "'Loaded 56104 friends dictionary'\n"
     ]
    },
    {
     "name": "stderr",
     "output_type": "stream",
     "text": [
      " 16%|█▌        | 16.4k/102k [23:56:43<89:07:15, 3.67s/Twitter friendship] "
     ]
    },
    {
     "name": "stdout",
     "output_type": "stream",
     "text": [
      "'Loaded 56121 friends dictionary'\n",
      "tweepy.TweepError Not authorized.  from:  4\n"
     ]
    },
    {
     "name": "stderr",
     "output_type": "stream",
     "text": [
      " 16%|█▌        | 16.4k/102k [23:57:43<88:12:06, 3.63s/Twitter friendship]"
     ]
    },
    {
     "name": "stdout",
     "output_type": "stream",
     "text": [
      "'Loaded 56138 friends dictionary'\n",
      "tweepy.TweepError Not authorized.  from:  3\n"
     ]
    },
    {
     "name": "stderr",
     "output_type": "stream",
     "text": [
      " 16%|█▌        | 16.4k/102k [23:58:19<77:12:46, 3.18s/Twitter friendship]"
     ]
    },
    {
     "name": "stdout",
     "output_type": "stream",
     "text": [
      "'Loaded 56155 friends dictionary'\n",
      "tweepy.TweepError Not authorized.  from:  15\n"
     ]
    },
    {
     "name": "stderr",
     "output_type": "stream",
     "text": [
      " 16%|█▌        | 16.4k/102k [23:59:04<73:11:58, 3.01s/Twitter friendship]"
     ]
    },
    {
     "name": "stdout",
     "output_type": "stream",
     "text": [
      "'Loaded 56172 friends dictionary'\n"
     ]
    },
    {
     "name": "stderr",
     "output_type": "stream",
     "text": [
      " 16%|█▌        | 16.5k/102k [24:00:23<85:29:32, 3.52s/Twitter friendship]"
     ]
    },
    {
     "name": "stdout",
     "output_type": "stream",
     "text": [
      "'Loaded 56189 friends dictionary'\n",
      "tweepy.TweepError Not authorized.  from:  8\n",
      "tweepy.TweepError Not authorized.  from:  14\n"
     ]
    },
    {
     "name": "stderr",
     "output_type": "stream",
     "text": [
      " 16%|█▌        | 16.5k/102k [24:01:08<78:50:14, 3.25s/Twitter friendship]"
     ]
    },
    {
     "name": "stdout",
     "output_type": "stream",
     "text": [
      "'Loaded 56206 friends dictionary'\n"
     ]
    },
    {
     "name": "stderr",
     "output_type": "stream",
     "text": [
      "Rate limit reached. Sleeping for: 353\n",
      " 16%|█▌        | 16.5k/102k [24:08:24<242:00:56, 9.97s/Twitter friendship]"
     ]
    },
    {
     "name": "stdout",
     "output_type": "stream",
     "text": [
      "'Loaded 56223 friends dictionary'\n",
      "tweepy.TweepError Not authorized.  from:  9\n"
     ]
    },
    {
     "name": "stderr",
     "output_type": "stream",
     "text": [
      " 16%|█▌        | 16.5k/102k [24:09:01<185:11:43, 7.63s/Twitter friendship]"
     ]
    },
    {
     "name": "stdout",
     "output_type": "stream",
     "text": [
      "'Loaded 56240 friends dictionary'\n",
      "tweepy.TweepError Not authorized.  from:  3\n",
      "tweepy.TweepError Not authorized.  from:  12\n"
     ]
    },
    {
     "name": "stderr",
     "output_type": "stream",
     "text": [
      " 16%|█▌        | 16.5k/102k [24:09:46<148:57:58, 6.14s/Twitter friendship]"
     ]
    },
    {
     "name": "stdout",
     "output_type": "stream",
     "text": [
      "'Loaded 56257 friends dictionary'\n",
      "tweepy.TweepError Not authorized.  from:  4\n"
     ]
    },
    {
     "name": "stderr",
     "output_type": "stream",
     "text": [
      " 16%|█▌        | 16.5k/102k [24:11:07<138:49:30, 5.72s/Twitter friendship]"
     ]
    },
    {
     "name": "stdout",
     "output_type": "stream",
     "text": [
      "'Loaded 56274 friends dictionary'\n"
     ]
    },
    {
     "name": "stderr",
     "output_type": "stream",
     "text": [
      " 16%|█▋        | 16.6k/102k [24:11:43<112:31:16, 4.64s/Twitter friendship]"
     ]
    },
    {
     "name": "stdout",
     "output_type": "stream",
     "text": [
      "tweepy.TweepError Not authorized.  from:  16\n",
      "'Loaded 56291 friends dictionary'\n"
     ]
    },
    {
     "name": "stderr",
     "output_type": "stream",
     "text": [
      " 16%|█▋        | 16.6k/102k [24:12:41<103:45:44, 4.28s/Twitter friendship]"
     ]
    },
    {
     "name": "stdout",
     "output_type": "stream",
     "text": [
      "'Loaded 56308 friends dictionary'\n",
      "tweepy.TweepError Not authorized.  from:  2\n"
     ]
    },
    {
     "name": "stderr",
     "output_type": "stream",
     "text": [
      " 16%|█▋        | 16.6k/102k [24:13:44<99:42:41, 4.11s/Twitter friendship] "
     ]
    },
    {
     "name": "stdout",
     "output_type": "stream",
     "text": [
      "'Loaded 56325 friends dictionary'\n"
     ]
    },
    {
     "name": "stderr",
     "output_type": "stream",
     "text": [
      " 16%|█▋        | 16.6k/102k [24:14:29<89:06:25, 3.67s/Twitter friendship]"
     ]
    },
    {
     "name": "stdout",
     "output_type": "stream",
     "text": [
      "'Loaded 56342 friends dictionary'\n"
     ]
    },
    {
     "name": "stderr",
     "output_type": "stream",
     "text": [
      " 16%|█▋        | 16.6k/102k [24:15:43<93:54:26, 3.87s/Twitter friendship]"
     ]
    },
    {
     "name": "stdout",
     "output_type": "stream",
     "text": [
      "'Loaded 56359 friends dictionary'\n"
     ]
    },
    {
     "name": "stderr",
     "output_type": "stream",
     "text": [
      " 16%|█▋        | 16.6k/102k [24:16:27<84:38:21, 3.49s/Twitter friendship]"
     ]
    },
    {
     "name": "stdout",
     "output_type": "stream",
     "text": [
      "'Loaded 56376 friends dictionary'\n",
      "tweepy.TweepError Not authorized.  from:  3\n"
     ]
    },
    {
     "name": "stderr",
     "output_type": "stream",
     "text": [
      " 16%|█▋        | 16.7k/102k [24:17:36<88:29:34, 3.65s/Twitter friendship]"
     ]
    },
    {
     "name": "stdout",
     "output_type": "stream",
     "text": [
      "'Loaded 56393 friends dictionary'\n"
     ]
    },
    {
     "name": "stderr",
     "output_type": "stream",
     "text": [
      " 16%|█▋        | 16.7k/102k [24:18:53<95:04:54, 3.92s/Twitter friendship]"
     ]
    },
    {
     "name": "stdout",
     "output_type": "stream",
     "text": [
      "'Loaded 56410 friends dictionary'\n",
      "tweepy.TweepError Not authorized.  from:  14\n",
      "tweepy.TweepError Not authorized.  from:  15\n"
     ]
    },
    {
     "name": "stderr",
     "output_type": "stream",
     "text": [
      " 16%|█▋        | 16.7k/102k [24:19:37<85:23:38, 3.52s/Twitter friendship]"
     ]
    },
    {
     "name": "stdout",
     "output_type": "stream",
     "text": [
      "'Loaded 56427 friends dictionary'\n"
     ]
    },
    {
     "name": "stderr",
     "output_type": "stream",
     "text": [
      " 16%|█▋        | 16.7k/102k [24:20:41<87:04:57, 3.60s/Twitter friendship]"
     ]
    },
    {
     "name": "stdout",
     "output_type": "stream",
     "text": [
      "'Loaded 56444 friends dictionary'\n"
     ]
    },
    {
     "name": "stderr",
     "output_type": "stream",
     "text": [
      "Rate limit reached. Sleeping for: 126\n",
      " 16%|█▋        | 16.7k/102k [24:23:29<132:29:16, 5.47s/Twitter friendship]"
     ]
    },
    {
     "name": "stdout",
     "output_type": "stream",
     "text": [
      "'Loaded 56461 friends dictionary'\n"
     ]
    },
    {
     "name": "stderr",
     "output_type": "stream",
     "text": [
      " 16%|█▋        | 16.7k/102k [24:24:30<119:04:10, 4.92s/Twitter friendship]"
     ]
    },
    {
     "name": "stdout",
     "output_type": "stream",
     "text": [
      "'Loaded 56478 friends dictionary'\n",
      "tweepy.TweepError Not authorized.  from:  12\n"
     ]
    },
    {
     "name": "stderr",
     "output_type": "stream",
     "text": [
      " 16%|█▋        | 16.8k/102k [24:25:51<117:48:53, 4.87s/Twitter friendship]"
     ]
    },
    {
     "name": "stdout",
     "output_type": "stream",
     "text": [
      "'Loaded 56495 friends dictionary'\n",
      "tweepy.TweepError Not authorized.  from:  11\n"
     ]
    },
    {
     "name": "stderr",
     "output_type": "stream",
     "text": [
      " 16%|█▋        | 16.8k/102k [24:26:36<101:35:14, 4.20s/Twitter friendship]"
     ]
    },
    {
     "name": "stdout",
     "output_type": "stream",
     "text": [
      "'Loaded 56512 friends dictionary'\n"
     ]
    },
    {
     "name": "stderr",
     "output_type": "stream",
     "text": [
      " 16%|█▋        | 16.8k/102k [24:27:38<97:28:25, 4.03s/Twitter friendship] "
     ]
    },
    {
     "name": "stdout",
     "output_type": "stream",
     "text": [
      "'Loaded 56529 friends dictionary'\n",
      "tweepy.TweepError Not authorized.  from:  2\n"
     ]
    },
    {
     "name": "stderr",
     "output_type": "stream",
     "text": [
      " 16%|█▋        | 16.8k/102k [24:28:45<97:04:21, 4.01s/Twitter friendship]"
     ]
    },
    {
     "name": "stdout",
     "output_type": "stream",
     "text": [
      "'Loaded 56546 friends dictionary'\n",
      "tweepy.TweepError Not authorized.  from:  0\n",
      "tweepy.TweepError [{'code': 34, 'message': 'Sorry, that page does not exist.'}]  from:  1\n",
      "tweepy.TweepError [{'code': 34, 'message': 'Sorry, that page does not exist.'}]  from:  3\n"
     ]
    },
    {
     "name": "stderr",
     "output_type": "stream",
     "text": [
      " 17%|█▋        | 16.8k/102k [24:29:21<83:12:01, 3.44s/Twitter friendship]"
     ]
    },
    {
     "name": "stdout",
     "output_type": "stream",
     "text": [
      "'Loaded 56563 friends dictionary'\n"
     ]
    },
    {
     "name": "stderr",
     "output_type": "stream",
     "text": [
      " 17%|█▋        | 16.8k/102k [24:30:34<89:22:58, 3.70s/Twitter friendship]"
     ]
    },
    {
     "name": "stdout",
     "output_type": "stream",
     "text": [
      "'Loaded 56580 friends dictionary'\n"
     ]
    },
    {
     "name": "stderr",
     "output_type": "stream",
     "text": [
      " 17%|█▋        | 16.9k/102k [24:31:17<80:40:41, 3.34s/Twitter friendship]"
     ]
    },
    {
     "name": "stdout",
     "output_type": "stream",
     "text": [
      "'Loaded 56597 friends dictionary'\n",
      "tweepy.TweepError [{'code': 34, 'message': 'Sorry, that page does not exist.'}]  from:  5\n"
     ]
    },
    {
     "name": "stderr",
     "output_type": "stream",
     "text": [
      " 17%|█▋        | 16.9k/102k [24:32:00<74:50:21, 3.10s/Twitter friendship]"
     ]
    },
    {
     "name": "stdout",
     "output_type": "stream",
     "text": [
      "'Loaded 56614 friends dictionary'\n",
      "tweepy.TweepError Not authorized.  from:  13\n"
     ]
    },
    {
     "name": "stderr",
     "output_type": "stream",
     "text": [
      " 17%|█▋        | 16.9k/102k [24:33:01<78:38:27, 3.25s/Twitter friendship]"
     ]
    },
    {
     "name": "stdout",
     "output_type": "stream",
     "text": [
      "'Loaded 56631 friends dictionary'\n",
      "tweepy.TweepError Not authorized.  from:  2\n"
     ]
    },
    {
     "name": "stderr",
     "output_type": "stream",
     "text": [
      " 17%|█▋        | 16.9k/102k [24:33:37<70:21:16, 2.91s/Twitter friendship]"
     ]
    },
    {
     "name": "stdout",
     "output_type": "stream",
     "text": [
      "'Loaded 56648 friends dictionary'\n"
     ]
    },
    {
     "name": "stderr",
     "output_type": "stream",
     "text": [
      " 17%|█▋        | 16.9k/102k [24:34:40<76:04:25, 3.15s/Twitter friendship]"
     ]
    },
    {
     "name": "stdout",
     "output_type": "stream",
     "text": [
      "'Loaded 56665 friends dictionary'\n"
     ]
    },
    {
     "name": "stderr",
     "output_type": "stream",
     "text": [
      " 17%|█▋        | 16.9k/102k [24:35:49<82:47:24, 3.43s/Twitter friendship]"
     ]
    },
    {
     "name": "stdout",
     "output_type": "stream",
     "text": [
      "'Loaded 56682 friends dictionary'\n"
     ]
    },
    {
     "name": "stderr",
     "output_type": "stream",
     "text": [
      "Rate limit reached. Sleeping for: 182\n",
      " 17%|█▋        | 17.0k/102k [24:39:36<154:23:13, 6.39s/Twitter friendship]"
     ]
    },
    {
     "name": "stdout",
     "output_type": "stream",
     "text": [
      "'Loaded 56699 friends dictionary'\n",
      "tweepy.TweepError Not authorized.  from:  8\n"
     ]
    },
    {
     "name": "stderr",
     "output_type": "stream",
     "text": [
      " 17%|█▋        | 17.0k/102k [24:40:40<135:37:51, 5.62s/Twitter friendship]"
     ]
    },
    {
     "name": "stdout",
     "output_type": "stream",
     "text": [
      "'Loaded 56716 friends dictionary'\n"
     ]
    },
    {
     "name": "stderr",
     "output_type": "stream",
     "text": [
      " 17%|█▋        | 17.0k/102k [24:41:25<114:07:52, 4.73s/Twitter friendship]"
     ]
    },
    {
     "name": "stdout",
     "output_type": "stream",
     "text": [
      "'Loaded 56733 friends dictionary'\n"
     ]
    },
    {
     "name": "stderr",
     "output_type": "stream",
     "text": [
      " 17%|█▋        | 17.0k/102k [24:42:24<104:59:07, 4.35s/Twitter friendship]"
     ]
    },
    {
     "name": "stdout",
     "output_type": "stream",
     "text": [
      "'Loaded 56750 friends dictionary'\n",
      "tweepy.TweepError Not authorized.  from:  8\n"
     ]
    },
    {
     "name": "stderr",
     "output_type": "stream",
     "text": [
      " 17%|█▋        | 17.0k/102k [24:43:33<102:36:08, 4.25s/Twitter friendship]"
     ]
    },
    {
     "name": "stdout",
     "output_type": "stream",
     "text": [
      "'Loaded 56767 friends dictionary'\n"
     ]
    },
    {
     "name": "stderr",
     "output_type": "stream",
     "text": [
      " 17%|█▋        | 17.0k/102k [24:44:09<87:11:56, 3.61s/Twitter friendship] "
     ]
    },
    {
     "name": "stdout",
     "output_type": "stream",
     "text": [
      "'Loaded 56784 friends dictionary'\n"
     ]
    },
    {
     "name": "stderr",
     "output_type": "stream",
     "text": [
      " 17%|█▋        | 17.0k/102k [24:45:17<89:51:17, 3.73s/Twitter friendship]"
     ]
    },
    {
     "name": "stdout",
     "output_type": "stream",
     "text": [
      "'Loaded 56801 friends dictionary'\n"
     ]
    },
    {
     "name": "stderr",
     "output_type": "stream",
     "text": [
      " 17%|█▋        | 17.1k/102k [24:46:23<91:09:11, 3.78s/Twitter friendship]"
     ]
    },
    {
     "name": "stdout",
     "output_type": "stream",
     "text": [
      "tweepy.TweepError [{'code': 34, 'message': 'Sorry, that page does not exist.'}]  from:  16\n",
      "'Loaded 56818 friends dictionary'\n"
     ]
    },
    {
     "name": "stderr",
     "output_type": "stream",
     "text": [
      " 17%|█▋        | 17.1k/102k [24:47:01<79:43:18, 3.31s/Twitter friendship]"
     ]
    },
    {
     "name": "stdout",
     "output_type": "stream",
     "text": [
      "'Loaded 56835 friends dictionary'\n"
     ]
    },
    {
     "name": "stderr",
     "output_type": "stream",
     "text": [
      " 17%|█▋        | 17.1k/102k [24:48:12<86:15:32, 3.58s/Twitter friendship]"
     ]
    },
    {
     "name": "stdout",
     "output_type": "stream",
     "text": [
      "'Loaded 56852 friends dictionary'\n",
      "tweepy.TweepError Not authorized.  from:  6\n"
     ]
    },
    {
     "name": "stderr",
     "output_type": "stream",
     "text": [
      " 17%|█▋        | 17.1k/102k [24:48:51<76:46:25, 3.19s/Twitter friendship]"
     ]
    },
    {
     "name": "stdout",
     "output_type": "stream",
     "text": [
      "'Loaded 56869 friends dictionary'\n",
      "tweepy.TweepError Not authorized.  from:  7\n"
     ]
    },
    {
     "name": "stderr",
     "output_type": "stream",
     "text": [
      " 17%|█▋        | 17.1k/102k [24:49:38<73:54:07, 3.07s/Twitter friendship]"
     ]
    },
    {
     "name": "stdout",
     "output_type": "stream",
     "text": [
      "'Loaded 56886 friends dictionary'\n"
     ]
    },
    {
     "name": "stderr",
     "output_type": "stream",
     "text": [
      " 17%|█▋        | 17.1k/102k [24:50:57<85:15:21, 3.54s/Twitter friendship]"
     ]
    },
    {
     "name": "stdout",
     "output_type": "stream",
     "text": [
      "'Loaded 56903 friends dictionary'\n",
      "tweepy.TweepError [{'code': 34, 'message': 'Sorry, that page does not exist.'}]  from:  2\n"
     ]
    },
    {
     "name": "stderr",
     "output_type": "stream",
     "text": [
      " 17%|█▋        | 17.2k/102k [24:51:34<75:12:42, 3.12s/Twitter friendship]"
     ]
    },
    {
     "name": "stdout",
     "output_type": "stream",
     "text": [
      "'Loaded 56920 friends dictionary'\n"
     ]
    },
    {
     "name": "stderr",
     "output_type": "stream",
     "text": [
      "Rate limit reached. Sleeping for: 115\n",
      " 17%|█▋        | 17.2k/102k [24:55:46<160:05:09, 6.65s/Twitter friendship]"
     ]
    },
    {
     "name": "stdout",
     "output_type": "stream",
     "text": [
      "'Loaded 56937 friends dictionary'\n",
      "tweepy.TweepError Not authorized.  from:  6\n"
     ]
    },
    {
     "name": "stderr",
     "output_type": "stream",
     "text": [
      " 17%|█▋        | 17.2k/102k [24:57:06<145:53:18, 6.06s/Twitter friendship]"
     ]
    },
    {
     "name": "stdout",
     "output_type": "stream",
     "text": [
      "'Loaded 56954 friends dictionary'\n"
     ]
    },
    {
     "name": "stderr",
     "output_type": "stream",
     "text": [
      " 17%|█▋        | 17.2k/102k [24:57:42<117:18:31, 4.87s/Twitter friendship]"
     ]
    },
    {
     "name": "stdout",
     "output_type": "stream",
     "text": [
      "'Loaded 56971 friends dictionary'\n",
      "tweepy.TweepError Not authorized.  from:  6\n",
      "tweepy.TweepError Not authorized.  from:  8\n"
     ]
    },
    {
     "name": "stderr",
     "output_type": "stream",
     "text": [
      " 17%|█▋        | 17.2k/102k [24:58:51<111:22:40, 4.63s/Twitter friendship]"
     ]
    },
    {
     "name": "stdout",
     "output_type": "stream",
     "text": [
      "'Loaded 56988 friends dictionary'\n",
      "tweepy.TweepError Not authorized.  from:  0\n"
     ]
    },
    {
     "name": "stderr",
     "output_type": "stream",
     "text": [
      " 17%|█▋        | 17.2k/102k [24:59:33<95:42:58, 3.98s/Twitter friendship] "
     ]
    },
    {
     "name": "stdout",
     "output_type": "stream",
     "text": [
      "'Loaded 57005 friends dictionary'\n"
     ]
    },
    {
     "name": "stderr",
     "output_type": "stream",
     "text": [
      " 17%|█▋        | 17.3k/102k [25:00:22<88:09:55, 3.66s/Twitter friendship]"
     ]
    },
    {
     "name": "stdout",
     "output_type": "stream",
     "text": [
      "'Loaded 57022 friends dictionary'\n",
      "tweepy.TweepError Not authorized.  from:  6\n"
     ]
    },
    {
     "name": "stderr",
     "output_type": "stream",
     "text": [
      " 17%|█▋        | 17.3k/102k [25:01:25<88:10:30, 3.67s/Twitter friendship]"
     ]
    },
    {
     "name": "stdout",
     "output_type": "stream",
     "text": [
      "'Loaded 57039 friends dictionary'\n"
     ]
    },
    {
     "name": "stderr",
     "output_type": "stream",
     "text": [
      " 17%|█▋        | 17.3k/102k [25:02:01<76:53:27, 3.20s/Twitter friendship]"
     ]
    },
    {
     "name": "stdout",
     "output_type": "stream",
     "text": [
      "'Loaded 57056 friends dictionary'\n"
     ]
    },
    {
     "name": "stderr",
     "output_type": "stream",
     "text": [
      " 17%|█▋        | 17.3k/102k [25:03:21<87:49:18, 3.65s/Twitter friendship]"
     ]
    },
    {
     "name": "stdout",
     "output_type": "stream",
     "text": [
      "'Loaded 57073 friends dictionary'\n",
      "tweepy.TweepError [{'code': 34, 'message': 'Sorry, that page does not exist.'}]  from:  1\n"
     ]
    },
    {
     "name": "stderr",
     "output_type": "stream",
     "text": [
      " 17%|█▋        | 17.3k/102k [25:04:55<101:29:23, 4.22s/Twitter friendship]"
     ]
    },
    {
     "name": "stdout",
     "output_type": "stream",
     "text": [
      "'Loaded 57090 friends dictionary'\n"
     ]
    },
    {
     "name": "stderr",
     "output_type": "stream",
     "text": [
      " 17%|█▋        | 17.3k/102k [25:05:33<86:54:37, 3.62s/Twitter friendship] "
     ]
    },
    {
     "name": "stdout",
     "output_type": "stream",
     "text": [
      "'Loaded 57107 friends dictionary'\n",
      "tweepy.TweepError Not authorized.  from:  13\n"
     ]
    },
    {
     "name": "stderr",
     "output_type": "stream",
     "text": [
      " 17%|█▋        | 17.4k/102k [25:06:33<86:34:07, 3.60s/Twitter friendship]"
     ]
    },
    {
     "name": "stdout",
     "output_type": "stream",
     "text": [
      "'Loaded 57124 friends dictionary'\n"
     ]
    },
    {
     "name": "stderr",
     "output_type": "stream",
     "text": [
      "Rate limit reached. Sleeping for: 215\n",
      " 17%|█▋        | 17.4k/102k [25:10:50<169:37:12, 7.06s/Twitter friendship]"
     ]
    },
    {
     "name": "stdout",
     "output_type": "stream",
     "text": [
      "'Loaded 57141 friends dictionary'\n"
     ]
    },
    {
     "name": "stderr",
     "output_type": "stream",
     "text": [
      " 17%|█▋        | 17.4k/102k [25:11:48<143:01:39, 5.95s/Twitter friendship]"
     ]
    },
    {
     "name": "stdout",
     "output_type": "stream",
     "text": [
      "'Loaded 57158 friends dictionary'\n"
     ]
    },
    {
     "name": "stderr",
     "output_type": "stream",
     "text": [
      " 17%|█▋        | 17.4k/102k [25:12:51<126:53:44, 5.28s/Twitter friendship]"
     ]
    },
    {
     "name": "stdout",
     "output_type": "stream",
     "text": [
      "'Loaded 57175 friends dictionary'\n",
      "tweepy.TweepError Not authorized.  from:  13\n"
     ]
    },
    {
     "name": "stderr",
     "output_type": "stream",
     "text": [
      " 17%|█▋        | 17.4k/102k [25:13:29<104:48:10, 4.36s/Twitter friendship]"
     ]
    },
    {
     "name": "stdout",
     "output_type": "stream",
     "text": [
      "'Loaded 57192 friends dictionary'\n"
     ]
    },
    {
     "name": "stderr",
     "output_type": "stream",
     "text": [
      " 17%|█▋        | 17.4k/102k [25:14:26<97:45:32, 4.07s/Twitter friendship] "
     ]
    },
    {
     "name": "stdout",
     "output_type": "stream",
     "text": [
      "'Loaded 57209 friends dictionary'\n"
     ]
    },
    {
     "name": "stderr",
     "output_type": "stream",
     "text": [
      " 17%|█▋        | 17.5k/102k [25:15:31<95:39:33, 3.99s/Twitter friendship]"
     ]
    },
    {
     "name": "stdout",
     "output_type": "stream",
     "text": [
      "'Loaded 57226 friends dictionary'\n",
      "tweepy.TweepError Not authorized.  from:  6\n"
     ]
    },
    {
     "name": "stderr",
     "output_type": "stream",
     "text": [
      " 17%|█▋        | 17.5k/102k [25:16:07<82:14:11, 3.43s/Twitter friendship]"
     ]
    },
    {
     "name": "stdout",
     "output_type": "stream",
     "text": [
      "'Loaded 57243 friends dictionary'\n",
      "tweepy.TweepError Not authorized.  from:  2\n",
      "tweepy.TweepError [{'code': 34, 'message': 'Sorry, that page does not exist.'}]  from:  5\n"
     ]
    },
    {
     "name": "stderr",
     "output_type": "stream",
     "text": [
      " 17%|█▋        | 17.5k/102k [25:17:07<82:58:16, 3.46s/Twitter friendship]"
     ]
    },
    {
     "name": "stdout",
     "output_type": "stream",
     "text": [
      "'Loaded 57260 friends dictionary'\n"
     ]
    },
    {
     "name": "stderr",
     "output_type": "stream",
     "text": [
      " 17%|█▋        | 17.5k/102k [25:17:42<72:57:38, 3.04s/Twitter friendship]"
     ]
    },
    {
     "name": "stdout",
     "output_type": "stream",
     "text": [
      "'Loaded 57277 friends dictionary'\n"
     ]
    },
    {
     "name": "stderr",
     "output_type": "stream",
     "text": [
      " 17%|█▋        | 17.5k/102k [25:18:20<67:04:32, 2.80s/Twitter friendship]"
     ]
    },
    {
     "name": "stdout",
     "output_type": "stream",
     "text": [
      "'Loaded 57294 friends dictionary'\n"
     ]
    },
    {
     "name": "stderr",
     "output_type": "stream",
     "text": [
      " 17%|█▋        | 17.5k/102k [25:19:24<74:11:41, 3.09s/Twitter friendship]"
     ]
    },
    {
     "name": "stdout",
     "output_type": "stream",
     "text": [
      "'Loaded 57311 friends dictionary'\n",
      "tweepy.TweepError Not authorized.  from:  3\n"
     ]
    },
    {
     "name": "stderr",
     "output_type": "stream",
     "text": [
      " 17%|█▋        | 17.6k/102k [25:20:09<70:42:24, 2.95s/Twitter friendship]"
     ]
    },
    {
     "name": "stdout",
     "output_type": "stream",
     "text": [
      "'Loaded 57328 friends dictionary'\n",
      "tweepy.TweepError [{'code': 34, 'message': 'Sorry, that page does not exist.'}]  from:  6\n"
     ]
    },
    {
     "name": "stderr",
     "output_type": "stream",
     "text": [
      " 17%|█▋        | 17.6k/102k [25:21:11<75:52:16, 3.17s/Twitter friendship]"
     ]
    },
    {
     "name": "stdout",
     "output_type": "stream",
     "text": [
      "'Loaded 57345 friends dictionary'\n"
     ]
    },
    {
     "name": "stderr",
     "output_type": "stream",
     "text": [
      "Rate limit reached. Sleeping for: 204\n",
      " 17%|█▋        | 17.6k/102k [25:25:56<173:33:10, 7.24s/Twitter friendship]"
     ]
    },
    {
     "name": "stdout",
     "output_type": "stream",
     "text": [
      "'Loaded 57362 friends dictionary'\n"
     ]
    },
    {
     "name": "stderr",
     "output_type": "stream",
     "text": [
      " 17%|█▋        | 17.6k/102k [25:26:33<137:06:08, 5.72s/Twitter friendship]"
     ]
    },
    {
     "name": "stdout",
     "output_type": "stream",
     "text": [
      "'Loaded 57379 friends dictionary'\n",
      "tweepy.TweepError Not authorized.  from:  8\n"
     ]
    },
    {
     "name": "stderr",
     "output_type": "stream",
     "text": [
      " 17%|█▋        | 17.6k/102k [25:27:33<121:33:50, 5.07s/Twitter friendship]"
     ]
    },
    {
     "name": "stdout",
     "output_type": "stream",
     "text": [
      "'Loaded 57396 friends dictionary'\n"
     ]
    },
    {
     "name": "stderr",
     "output_type": "stream",
     "text": [
      " 17%|█▋        | 17.6k/102k [25:28:09<100:02:28, 4.18s/Twitter friendship]"
     ]
    },
    {
     "name": "stdout",
     "output_type": "stream",
     "text": [
      "'Loaded 57413 friends dictionary'\n"
     ]
    },
    {
     "name": "stderr",
     "output_type": "stream",
     "text": [
      " 17%|█▋        | 17.7k/102k [25:28:47<86:07:01, 3.60s/Twitter friendship] "
     ]
    },
    {
     "name": "stdout",
     "output_type": "stream",
     "text": [
      "'Loaded 57430 friends dictionary'\n"
     ]
    },
    {
     "name": "stderr",
     "output_type": "stream",
     "text": [
      " 17%|█▋        | 17.7k/102k [25:29:50<86:59:16, 3.63s/Twitter friendship]"
     ]
    },
    {
     "name": "stdout",
     "output_type": "stream",
     "text": [
      "'Loaded 57447 friends dictionary'\n"
     ]
    },
    {
     "name": "stderr",
     "output_type": "stream",
     "text": [
      " 17%|█▋        | 17.7k/102k [25:30:27<76:33:26, 3.20s/Twitter friendship]"
     ]
    },
    {
     "name": "stdout",
     "output_type": "stream",
     "text": [
      "'Loaded 57464 friends dictionary'\n",
      "tweepy.TweepError Not authorized.  from:  9\n"
     ]
    },
    {
     "name": "stderr",
     "output_type": "stream",
     "text": [
      " 17%|█▋        | 17.7k/102k [25:31:23<77:10:18, 3.22s/Twitter friendship]"
     ]
    },
    {
     "name": "stdout",
     "output_type": "stream",
     "text": [
      "'Loaded 57481 friends dictionary'\n"
     ]
    },
    {
     "name": "stderr",
     "output_type": "stream",
     "text": [
      " 17%|█▋        | 17.7k/102k [25:32:27<81:02:28, 3.39s/Twitter friendship]"
     ]
    },
    {
     "name": "stdout",
     "output_type": "stream",
     "text": [
      "'Loaded 57498 friends dictionary'\n",
      "tweepy.TweepError Not authorized.  from:  1\n"
     ]
    },
    {
     "name": "stderr",
     "output_type": "stream",
     "text": [
      " 17%|█▋        | 17.7k/102k [25:33:02<71:34:20, 2.99s/Twitter friendship]"
     ]
    },
    {
     "name": "stdout",
     "output_type": "stream",
     "text": [
      "'Loaded 57515 friends dictionary'\n"
     ]
    },
    {
     "name": "stderr",
     "output_type": "stream",
     "text": [
      " 17%|█▋        | 17.8k/102k [25:34:01<75:01:37, 3.14s/Twitter friendship]"
     ]
    },
    {
     "name": "stdout",
     "output_type": "stream",
     "text": [
      "'Loaded 57532 friends dictionary'\n"
     ]
    },
    {
     "name": "stderr",
     "output_type": "stream",
     "text": [
      " 17%|█▋        | 17.8k/102k [25:34:53<74:19:37, 3.11s/Twitter friendship]"
     ]
    },
    {
     "name": "stdout",
     "output_type": "stream",
     "text": [
      "'Loaded 57549 friends dictionary'\n"
     ]
    },
    {
     "name": "stderr",
     "output_type": "stream",
     "text": [
      "Rate limit reached. Sleeping for: 330\n",
      " 17%|█▋        | 17.8k/102k [25:41:01<207:25:35, 8.68s/Twitter friendship]"
     ]
    },
    {
     "name": "stdout",
     "output_type": "stream",
     "text": [
      "'Loaded 57566 friends dictionary'\n"
     ]
    },
    {
     "name": "stderr",
     "output_type": "stream",
     "text": [
      " 17%|█▋        | 17.8k/102k [25:42:05<171:56:56, 7.19s/Twitter friendship]"
     ]
    },
    {
     "name": "stdout",
     "output_type": "stream",
     "text": [
      "'Loaded 57583 friends dictionary'\n",
      "tweepy.TweepError Not authorized.  from:  1\n",
      "tweepy.TweepError Not authorized.  from:  8\n"
     ]
    },
    {
     "name": "stderr",
     "output_type": "stream",
     "text": [
      "Rate limit reached. Sleeping for: 27\n",
      " 18%|█▊        | 17.8k/102k [25:43:14<149:24:43, 6.25s/Twitter friendship]"
     ]
    },
    {
     "name": "stdout",
     "output_type": "stream",
     "text": [
      "'Loaded 57600 friends dictionary'\n"
     ]
    },
    {
     "name": "stderr",
     "output_type": "stream",
     "text": [
      " 18%|█▊        | 17.8k/102k [25:44:10<128:19:54, 5.37s/Twitter friendship]"
     ]
    },
    {
     "name": "stdout",
     "output_type": "stream",
     "text": [
      "'Loaded 57617 friends dictionary'\n"
     ]
    },
    {
     "name": "stderr",
     "output_type": "stream",
     "text": [
      " 18%|█▊        | 17.9k/102k [25:45:12<115:56:56, 4.85s/Twitter friendship]"
     ]
    },
    {
     "name": "stdout",
     "output_type": "stream",
     "text": [
      "'Loaded 57634 friends dictionary'\n"
     ]
    },
    {
     "name": "stderr",
     "output_type": "stream",
     "text": [
      " 18%|█▊        | 17.9k/102k [25:45:48<96:26:08, 4.04s/Twitter friendship] "
     ]
    },
    {
     "name": "stdout",
     "output_type": "stream",
     "text": [
      "'Loaded 57651 friends dictionary'\n"
     ]
    },
    {
     "name": "stderr",
     "output_type": "stream",
     "text": [
      " 18%|█▊        | 17.9k/102k [25:46:50<93:32:32, 3.92s/Twitter friendship]"
     ]
    },
    {
     "name": "stdout",
     "output_type": "stream",
     "text": [
      "'Loaded 57668 friends dictionary'\n",
      "tweepy.TweepError Not authorized.  from:  2\n"
     ]
    },
    {
     "name": "stderr",
     "output_type": "stream",
     "text": [
      " 18%|█▊        | 17.9k/102k [25:48:03<96:16:13, 4.03s/Twitter friendship]"
     ]
    },
    {
     "name": "stdout",
     "output_type": "stream",
     "text": [
      "'Loaded 57685 friends dictionary'\n",
      "tweepy.TweepError Not authorized.  from:  1\n",
      "tweepy.TweepError Not authorized.  from:  2\n",
      "tweepy.TweepError Not authorized.  from:  15\n"
     ]
    },
    {
     "name": "stderr",
     "output_type": "stream",
     "text": [
      " 18%|█▊        | 17.9k/102k [25:48:41<83:17:55, 3.49s/Twitter friendship]"
     ]
    },
    {
     "name": "stdout",
     "output_type": "stream",
     "text": [
      "'Loaded 57702 friends dictionary'\n"
     ]
    },
    {
     "name": "stderr",
     "output_type": "stream",
     "text": [
      " 18%|█▊        | 17.9k/102k [25:49:44<84:44:05, 3.55s/Twitter friendship]"
     ]
    },
    {
     "name": "stdout",
     "output_type": "stream",
     "text": [
      "'Loaded 57719 friends dictionary'\n"
     ]
    },
    {
     "name": "stderr",
     "output_type": "stream",
     "text": [
      " 18%|█▊        | 18.0k/102k [25:50:20<74:40:31, 3.13s/Twitter friendship]"
     ]
    },
    {
     "name": "stdout",
     "output_type": "stream",
     "text": [
      "'Loaded 57736 friends dictionary'\n"
     ]
    },
    {
     "name": "stderr",
     "output_type": "stream",
     "text": [
      " 18%|█▊        | 18.0k/102k [25:51:01<69:11:40, 2.90s/Twitter friendship]"
     ]
    },
    {
     "name": "stdout",
     "output_type": "stream",
     "text": [
      "'Loaded 57753 friends dictionary'\n"
     ]
    },
    {
     "name": "stderr",
     "output_type": "stream",
     "text": [
      " 18%|█▊        | 18.0k/102k [25:52:13<78:53:30, 3.31s/Twitter friendship]"
     ]
    },
    {
     "name": "stdout",
     "output_type": "stream",
     "text": [
      "'Loaded 57770 friends dictionary'\n",
      "tweepy.TweepError Not authorized.  from:  1\n",
      "tweepy.TweepError Not authorized.  from:  6\n"
     ]
    },
    {
     "name": "stderr",
     "output_type": "stream",
     "text": [
      " 18%|█▊        | 18.0k/102k [25:52:54<72:22:43, 3.04s/Twitter friendship]"
     ]
    },
    {
     "name": "stdout",
     "output_type": "stream",
     "text": [
      "'Loaded 57787 friends dictionary'\n"
     ]
    },
    {
     "name": "stderr",
     "output_type": "stream",
     "text": [
      "Rate limit reached. Sleeping for: 129\n"
     ]
    },
    {
     "name": "stdout",
     "output_type": "stream",
     "text": [
      "tweepy.TweepError Not authorized.  from:  15\n"
     ]
    },
    {
     "name": "stderr",
     "output_type": "stream",
     "text": [
      " 18%|█▊        | 18.0k/102k [25:56:07<132:04:53, 5.54s/Twitter friendship]"
     ]
    },
    {
     "name": "stdout",
     "output_type": "stream",
     "text": [
      "'Loaded 57804 friends dictionary'\n"
     ]
    },
    {
     "name": "stderr",
     "output_type": "stream",
     "text": [
      " 18%|█▊        | 18.0k/102k [25:57:15<120:46:05, 5.07s/Twitter friendship]"
     ]
    },
    {
     "name": "stdout",
     "output_type": "stream",
     "text": [
      "'Loaded 57821 friends dictionary'\n"
     ]
    },
    {
     "name": "stderr",
     "output_type": "stream",
     "text": [
      "Rate limit reached. Sleeping for: 20\n",
      " 18%|█▊        | 18.1k/102k [25:58:19<111:31:24, 4.68s/Twitter friendship]"
     ]
    },
    {
     "name": "stdout",
     "output_type": "stream",
     "text": [
      "'Loaded 57838 friends dictionary'\n"
     ]
    },
    {
     "name": "stderr",
     "output_type": "stream",
     "text": [
      " 18%|█▊        | 18.1k/102k [25:59:19<103:22:34, 4.34s/Twitter friendship]"
     ]
    },
    {
     "name": "stdout",
     "output_type": "stream",
     "text": [
      "'Loaded 57855 friends dictionary'\n"
     ]
    },
    {
     "name": "stderr",
     "output_type": "stream",
     "text": [
      "Rate limit reached. Sleeping for: 45\n",
      " 18%|█▊        | 18.1k/102k [26:00:53<112:03:07, 4.70s/Twitter friendship]"
     ]
    },
    {
     "name": "stdout",
     "output_type": "stream",
     "text": [
      "'Loaded 57872 friends dictionary'\n"
     ]
    },
    {
     "name": "stderr",
     "output_type": "stream",
     "text": [
      " 18%|█▊        | 18.1k/102k [26:01:29<93:20:54, 3.92s/Twitter friendship] "
     ]
    },
    {
     "name": "stdout",
     "output_type": "stream",
     "text": [
      "'Loaded 57889 friends dictionary'\n"
     ]
    },
    {
     "name": "stderr",
     "output_type": "stream",
     "text": [
      " 18%|█▊        | 18.1k/102k [26:02:31<91:25:09, 3.84s/Twitter friendship]"
     ]
    },
    {
     "name": "stdout",
     "output_type": "stream",
     "text": [
      "'Loaded 57906 friends dictionary'\n",
      "tweepy.TweepError Not authorized.  from:  6\n"
     ]
    },
    {
     "name": "stderr",
     "output_type": "stream",
     "text": [
      "Rate limit reached. Sleeping for: 480\n"
     ]
    },
    {
     "name": "stdout",
     "output_type": "stream",
     "text": [
      "tweepy.TweepError Not authorized.  from:  15\n"
     ]
    },
    {
     "name": "stderr",
     "output_type": "stream",
     "text": [
      " 18%|█▊        | 18.1k/102k [26:11:14<283:39:08, 11.9s/Twitter friendship]"
     ]
    },
    {
     "name": "stdout",
     "output_type": "stream",
     "text": [
      "'Loaded 57923 friends dictionary'\n",
      "tweepy.TweepError [{'code': 34, 'message': 'Sorry, that page does not exist.'}]  from:  2\n",
      "tweepy.TweepError [{'code': 34, 'message': 'Sorry, that page does not exist.'}]  from:  5\n"
     ]
    },
    {
     "name": "stderr",
     "output_type": "stream",
     "text": [
      " 18%|█▊        | 18.2k/102k [26:12:14<223:40:30, 9.40s/Twitter friendship]"
     ]
    },
    {
     "name": "stdout",
     "output_type": "stream",
     "text": [
      "'Loaded 57940 friends dictionary'\n",
      "tweepy.TweepError Not authorized.  from:  12\n"
     ]
    },
    {
     "name": "stderr",
     "output_type": "stream",
     "text": [
      " 18%|█▊        | 18.2k/102k [26:13:21<184:42:29, 7.76s/Twitter friendship]"
     ]
    },
    {
     "name": "stdout",
     "output_type": "stream",
     "text": [
      "'Loaded 57957 friends dictionary'\n"
     ]
    },
    {
     "name": "stderr",
     "output_type": "stream",
     "text": [
      " 18%|█▊        | 18.2k/102k [26:14:00<145:41:18, 6.12s/Twitter friendship]"
     ]
    },
    {
     "name": "stdout",
     "output_type": "stream",
     "text": [
      "'Loaded 57974 friends dictionary'\n"
     ]
    },
    {
     "name": "stderr",
     "output_type": "stream",
     "text": [
      " 18%|█▊        | 18.2k/102k [26:15:07<130:05:12, 5.47s/Twitter friendship]"
     ]
    },
    {
     "name": "stdout",
     "output_type": "stream",
     "text": [
      "'Loaded 57991 friends dictionary'\n"
     ]
    },
    {
     "name": "stderr",
     "output_type": "stream",
     "text": [
      " 18%|█▊        | 18.2k/102k [26:16:27<124:29:46, 5.23s/Twitter friendship]"
     ]
    },
    {
     "name": "stdout",
     "output_type": "stream",
     "text": [
      "'Loaded 58008 friends dictionary'\n",
      "tweepy.TweepError [{'code': 34, 'message': 'Sorry, that page does not exist.'}]  from:  4\n"
     ]
    },
    {
     "name": "stderr",
     "output_type": "stream",
     "text": [
      " 18%|█▊        | 18.2k/102k [26:17:22<110:10:57, 4.63s/Twitter friendship]"
     ]
    },
    {
     "name": "stdout",
     "output_type": "stream",
     "text": [
      "'Loaded 58025 friends dictionary'\n",
      "tweepy.TweepError [{'code': 34, 'message': 'Sorry, that page does not exist.'}]  from:  15\n"
     ]
    },
    {
     "name": "stderr",
     "output_type": "stream",
     "text": [
      " 18%|█▊        | 18.3k/102k [26:19:22<127:35:49, 5.37s/Twitter friendship]"
     ]
    },
    {
     "name": "stdout",
     "output_type": "stream",
     "text": [
      "'Loaded 58042 friends dictionary'\n"
     ]
    },
    {
     "name": "stderr",
     "output_type": "stream",
     "text": [
      " 18%|█▊        | 18.3k/102k [26:20:21<114:11:10, 4.80s/Twitter friendship]"
     ]
    },
    {
     "name": "stdout",
     "output_type": "stream",
     "text": [
      "'Loaded 58059 friends dictionary'\n"
     ]
    },
    {
     "name": "stderr",
     "output_type": "stream",
     "text": [
      " 18%|█▊        | 18.3k/102k [26:22:07<124:24:12, 5.23s/Twitter friendship]"
     ]
    },
    {
     "name": "stdout",
     "output_type": "stream",
     "text": [
      "'Loaded 58076 friends dictionary'\n",
      "tweepy.TweepError Not authorized.  from:  5\n"
     ]
    },
    {
     "name": "stderr",
     "output_type": "stream",
     "text": [
      " 18%|█▊        | 18.3k/102k [26:23:33<123:01:11, 5.18s/Twitter friendship]"
     ]
    },
    {
     "name": "stdout",
     "output_type": "stream",
     "text": [
      "'Loaded 58093 friends dictionary'\n"
     ]
    },
    {
     "name": "stderr",
     "output_type": "stream",
     "text": [
      " 18%|█▊        | 18.3k/102k [26:24:21<106:21:25, 4.48s/Twitter friendship]"
     ]
    },
    {
     "name": "stdout",
     "output_type": "stream",
     "text": [
      "'Loaded 58110 friends dictionary'\n"
     ]
    },
    {
     "name": "stderr",
     "output_type": "stream",
     "text": [
      "Rate limit reached. Sleeping for: 46\n",
      " 18%|█▊        | 18.3k/102k [26:26:18<123:10:24, 5.19s/Twitter friendship]"
     ]
    },
    {
     "name": "stdout",
     "output_type": "stream",
     "text": [
      "'Loaded 58127 friends dictionary'\n"
     ]
    },
    {
     "name": "stderr",
     "output_type": "stream",
     "text": [
      " 18%|█▊        | 18.4k/102k [26:27:47<123:40:22, 5.21s/Twitter friendship]"
     ]
    },
    {
     "name": "stdout",
     "output_type": "stream",
     "text": [
      "'Loaded 58144 friends dictionary'\n"
     ]
    },
    {
     "name": "stderr",
     "output_type": "stream",
     "text": [
      " 18%|█▊        | 18.4k/102k [26:28:42<109:29:00, 4.61s/Twitter friendship]"
     ]
    },
    {
     "name": "stdout",
     "output_type": "stream",
     "text": [
      "'Loaded 58161 friends dictionary'\n",
      "tweepy.TweepError Not authorized.  from:  3\n"
     ]
    },
    {
     "name": "stderr",
     "output_type": "stream",
     "text": [
      " 18%|█▊        | 18.4k/102k [26:30:10<113:42:47, 4.79s/Twitter friendship]"
     ]
    },
    {
     "name": "stdout",
     "output_type": "stream",
     "text": [
      "'Loaded 58178 friends dictionary'\n",
      "tweepy.TweepError Not authorized.  from:  13\n"
     ]
    },
    {
     "name": "stderr",
     "output_type": "stream",
     "text": [
      " 18%|█▊        | 18.4k/102k [26:31:28<112:08:40, 4.72s/Twitter friendship]"
     ]
    },
    {
     "name": "stdout",
     "output_type": "stream",
     "text": [
      "'Loaded 58195 friends dictionary'\n"
     ]
    },
    {
     "name": "stderr",
     "output_type": "stream",
     "text": [
      " 18%|█▊        | 18.4k/102k [26:32:17<99:12:13, 4.18s/Twitter friendship] "
     ]
    },
    {
     "name": "stdout",
     "output_type": "stream",
     "text": [
      "'Loaded 58212 friends dictionary'\n",
      "tweepy.TweepError [{'code': 34, 'message': 'Sorry, that page does not exist.'}]  from:  6\n"
     ]
    },
    {
     "name": "stderr",
     "output_type": "stream",
     "text": [
      " 18%|█▊        | 18.4k/102k [26:33:38<103:15:59, 4.35s/Twitter friendship]"
     ]
    },
    {
     "name": "stdout",
     "output_type": "stream",
     "text": [
      "'Loaded 58229 friends dictionary'\n",
      "tweepy.TweepError Not authorized.  from:  11\n"
     ]
    },
    {
     "name": "stderr",
     "output_type": "stream",
     "text": [
      " 18%|█▊        | 18.5k/102k [26:35:16<112:57:53, 4.76s/Twitter friendship]"
     ]
    },
    {
     "name": "stdout",
     "output_type": "stream",
     "text": [
      "'Loaded 58246 friends dictionary'\n"
     ]
    },
    {
     "name": "stderr",
     "output_type": "stream",
     "text": [
      " 18%|█▊        | 18.5k/102k [26:36:07<100:45:28, 4.25s/Twitter friendship]"
     ]
    },
    {
     "name": "stdout",
     "output_type": "stream",
     "text": [
      "'Loaded 58263 friends dictionary'\n"
     ]
    },
    {
     "name": "stderr",
     "output_type": "stream",
     "text": [
      " 18%|█▊        | 18.5k/102k [26:37:56<116:01:03, 4.89s/Twitter friendship]"
     ]
    },
    {
     "name": "stdout",
     "output_type": "stream",
     "text": [
      "'Loaded 58280 friends dictionary'\n"
     ]
    },
    {
     "name": "stderr",
     "output_type": "stream",
     "text": [
      " 18%|█▊        | 18.5k/102k [26:38:58<107:13:42, 4.52s/Twitter friendship]"
     ]
    },
    {
     "name": "stdout",
     "output_type": "stream",
     "text": [
      "'Loaded 58297 friends dictionary'\n"
     ]
    },
    {
     "name": "stderr",
     "output_type": "stream",
     "text": [
      " 18%|█▊        | 18.5k/102k [26:40:22<110:10:42, 4.65s/Twitter friendship]"
     ]
    },
    {
     "name": "stdout",
     "output_type": "stream",
     "text": [
      "'Loaded 58314 friends dictionary'\n"
     ]
    },
    {
     "name": "stderr",
     "output_type": "stream",
     "text": [
      "Rate limit reached. Sleeping for: 38\n"
     ]
    },
    {
     "name": "stdout",
     "output_type": "stream",
     "text": [
      "tweepy.TweepError Not authorized.  from:  12\n"
     ]
    },
    {
     "name": "stderr",
     "output_type": "stream",
     "text": [
      " 18%|█▊        | 18.5k/102k [26:42:53<140:08:40, 5.91s/Twitter friendship]"
     ]
    },
    {
     "name": "stdout",
     "output_type": "stream",
     "text": [
      "'Loaded 58331 friends dictionary'\n"
     ]
    },
    {
     "name": "stderr",
     "output_type": "stream",
     "text": [
      " 18%|█▊        | 18.6k/102k [26:43:50<121:52:06, 5.14s/Twitter friendship]"
     ]
    },
    {
     "name": "stdout",
     "output_type": "stream",
     "text": [
      "'Loaded 58348 friends dictionary'\n",
      "tweepy.TweepError Not authorized.  from:  14\n"
     ]
    },
    {
     "name": "stderr",
     "output_type": "stream",
     "text": [
      " 18%|█▊        | 18.6k/102k [26:45:08<117:50:51, 4.98s/Twitter friendship]"
     ]
    },
    {
     "name": "stdout",
     "output_type": "stream",
     "text": [
      "'Loaded 58365 friends dictionary'\n"
     ]
    },
    {
     "name": "stderr",
     "output_type": "stream",
     "text": [
      " 18%|█▊        | 18.6k/102k [26:47:10<133:43:27, 5.65s/Twitter friendship]"
     ]
    },
    {
     "name": "stdout",
     "output_type": "stream",
     "text": [
      "'Loaded 58382 friends dictionary'\n"
     ]
    },
    {
     "name": "stderr",
     "output_type": "stream",
     "text": [
      " 18%|█▊        | 18.6k/102k [26:48:24<124:06:37, 5.24s/Twitter friendship]"
     ]
    },
    {
     "name": "stdout",
     "output_type": "stream",
     "text": [
      "'Loaded 58399 friends dictionary'\n"
     ]
    },
    {
     "name": "stderr",
     "output_type": "stream",
     "text": [
      " 18%|█▊        | 18.6k/102k [26:49:59<126:52:38, 5.36s/Twitter friendship]"
     ]
    },
    {
     "name": "stdout",
     "output_type": "stream",
     "text": [
      "'Loaded 58416 friends dictionary'\n",
      "tweepy.TweepError Not authorized.  from:  15\n"
     ]
    },
    {
     "name": "stderr",
     "output_type": "stream",
     "text": [
      " 18%|█▊        | 18.6k/102k [26:51:26<124:57:54, 5.28s/Twitter friendship]"
     ]
    },
    {
     "name": "stdout",
     "output_type": "stream",
     "text": [
      "'Loaded 58433 friends dictionary'\n",
      "tweepy.TweepError Not authorized.  from:  3\n",
      "tweepy.TweepError Not authorized.  from:  8\n",
      "tweepy.TweepError Not authorized.  from:  9\n"
     ]
    },
    {
     "name": "stderr",
     "output_type": "stream",
     "text": [
      " 18%|█▊        | 18.7k/102k [26:52:14<107:20:44, 4.54s/Twitter friendship]"
     ]
    },
    {
     "name": "stdout",
     "output_type": "stream",
     "text": [
      "'Loaded 58450 friends dictionary'\n"
     ]
    },
    {
     "name": "stderr",
     "output_type": "stream",
     "text": [
      " 18%|█▊        | 18.7k/102k [26:53:37<109:52:05, 4.64s/Twitter friendship]"
     ]
    },
    {
     "name": "stdout",
     "output_type": "stream",
     "text": [
      "'Loaded 58467 friends dictionary'\n"
     ]
    },
    {
     "name": "stderr",
     "output_type": "stream",
     "text": [
      " 18%|█▊        | 18.7k/102k [26:54:32<100:08:15, 4.23s/Twitter friendship]"
     ]
    },
    {
     "name": "stdout",
     "output_type": "stream",
     "text": [
      "'Loaded 58484 friends dictionary'\n",
      "tweepy.TweepError Not authorized.  from:  5\n"
     ]
    },
    {
     "name": "stderr",
     "output_type": "stream",
     "text": [
      " 18%|█▊        | 18.7k/102k [26:55:54<103:55:35, 4.39s/Twitter friendship]"
     ]
    },
    {
     "name": "stdout",
     "output_type": "stream",
     "text": [
      "'Loaded 58501 friends dictionary'\n",
      "tweepy.TweepError Not authorized.  from:  15\n"
     ]
    },
    {
     "name": "stderr",
     "output_type": "stream",
     "text": [
      " 18%|█▊        | 18.7k/102k [26:57:26<111:26:22, 4.71s/Twitter friendship]"
     ]
    },
    {
     "name": "stdout",
     "output_type": "stream",
     "text": [
      "'Loaded 58518 friends dictionary'\n"
     ]
    },
    {
     "name": "stderr",
     "output_type": "stream",
     "text": [
      " 18%|█▊        | 18.7k/102k [26:58:22<101:02:58, 4.27s/Twitter friendship]"
     ]
    },
    {
     "name": "stdout",
     "output_type": "stream",
     "text": [
      "tweepy.TweepError Not authorized.  from:  16\n",
      "'Loaded 58535 friends dictionary'\n",
      "tweepy.TweepError Not authorized.  from:  7\n"
     ]
    },
    {
     "name": "stderr",
     "output_type": "stream",
     "text": [
      " 18%|█▊        | 18.8k/102k [26:59:28<98:27:19, 4.17s/Twitter friendship] "
     ]
    },
    {
     "name": "stdout",
     "output_type": "stream",
     "text": [
      "'Loaded 58552 friends dictionary'\n"
     ]
    },
    {
     "name": "stderr",
     "output_type": "stream",
     "text": [
      " 18%|█▊        | 18.8k/102k [27:01:04<108:54:58, 4.61s/Twitter friendship]"
     ]
    },
    {
     "name": "stdout",
     "output_type": "stream",
     "text": [
      "'Loaded 58569 friends dictionary'\n"
     ]
    },
    {
     "name": "stderr",
     "output_type": "stream",
     "text": [
      " 18%|█▊        | 18.8k/102k [27:01:48<94:22:31, 3.99s/Twitter friendship] "
     ]
    },
    {
     "name": "stdout",
     "output_type": "stream",
     "text": [
      "'Loaded 58586 friends dictionary'\n"
     ]
    },
    {
     "name": "stderr",
     "output_type": "stream",
     "text": [
      " 18%|█▊        | 18.8k/102k [27:03:53<118:25:28, 5.01s/Twitter friendship]"
     ]
    },
    {
     "name": "stdout",
     "output_type": "stream",
     "text": [
      "'Loaded 58603 friends dictionary'\n"
     ]
    },
    {
     "name": "stderr",
     "output_type": "stream",
     "text": [
      " 18%|█▊        | 18.8k/102k [27:05:17<117:45:02, 4.99s/Twitter friendship]"
     ]
    },
    {
     "name": "stdout",
     "output_type": "stream",
     "text": [
      "'Loaded 58620 friends dictionary'\n"
     ]
    },
    {
     "name": "stderr",
     "output_type": "stream",
     "text": [
      " 19%|█▊        | 18.8k/102k [27:06:04<101:52:57, 4.31s/Twitter friendship]"
     ]
    },
    {
     "name": "stdout",
     "output_type": "stream",
     "text": [
      "'Loaded 58637 friends dictionary'\n",
      "tweepy.TweepError Not authorized.  from:  0\n",
      "tweepy.TweepError [{'code': 34, 'message': 'Sorry, that page does not exist.'}]  from:  5\n"
     ]
    },
    {
     "name": "stderr",
     "output_type": "stream",
     "text": [
      " 19%|█▊        | 18.9k/102k [27:07:32<108:06:28, 4.58s/Twitter friendship]"
     ]
    },
    {
     "name": "stdout",
     "output_type": "stream",
     "text": [
      "'Loaded 58654 friends dictionary'\n",
      "tweepy.TweepError Not authorized.  from:  12\n",
      "tweepy.TweepError [{'code': 34, 'message': 'Sorry, that page does not exist.'}]  from:  15\n"
     ]
    },
    {
     "name": "stderr",
     "output_type": "stream",
     "text": [
      " 19%|█▊        | 18.9k/102k [27:09:27<123:39:52, 5.24s/Twitter friendship]"
     ]
    },
    {
     "name": "stdout",
     "output_type": "stream",
     "text": [
      "'Loaded 58671 friends dictionary'\n"
     ]
    },
    {
     "name": "stderr",
     "output_type": "stream",
     "text": [
      " 19%|█▊        | 18.9k/102k [27:10:32<113:43:06, 4.82s/Twitter friendship]"
     ]
    },
    {
     "name": "stdout",
     "output_type": "stream",
     "text": [
      "'Loaded 58688 friends dictionary'\n"
     ]
    },
    {
     "name": "stderr",
     "output_type": "stream",
     "text": [
      " 19%|█▊        | 18.9k/102k [27:12:04<117:43:00, 4.99s/Twitter friendship]"
     ]
    },
    {
     "name": "stdout",
     "output_type": "stream",
     "text": [
      "'Loaded 58705 friends dictionary'\n"
     ]
    },
    {
     "name": "stderr",
     "output_type": "stream",
     "text": [
      " 19%|█▊        | 18.9k/102k [27:12:48<100:42:55, 4.27s/Twitter friendship]"
     ]
    },
    {
     "name": "stdout",
     "output_type": "stream",
     "text": [
      "'Loaded 58722 friends dictionary'\n",
      "tweepy.TweepError Not authorized.  from:  1\n"
     ]
    },
    {
     "name": "stderr",
     "output_type": "stream",
     "text": [
      " 19%|█▊        | 18.9k/102k [27:13:58<99:27:54, 4.22s/Twitter friendship] "
     ]
    },
    {
     "name": "stdout",
     "output_type": "stream",
     "text": [
      "'Loaded 58739 friends dictionary'\n"
     ]
    },
    {
     "name": "stderr",
     "output_type": "stream",
     "text": [
      " 19%|█▊        | 19.0k/102k [27:15:39<111:46:22, 4.74s/Twitter friendship]"
     ]
    },
    {
     "name": "stdout",
     "output_type": "stream",
     "text": [
      "'Loaded 58756 friends dictionary'\n"
     ]
    },
    {
     "name": "stderr",
     "output_type": "stream",
     "text": [
      " 19%|█▊        | 19.0k/102k [27:16:19<95:04:06, 4.03s/Twitter friendship] "
     ]
    },
    {
     "name": "stdout",
     "output_type": "stream",
     "text": [
      "'Loaded 58773 friends dictionary'\n",
      "tweepy.TweepError Not authorized.  from:  2\n"
     ]
    },
    {
     "name": "stderr",
     "output_type": "stream",
     "text": [
      " 19%|█▊        | 19.0k/102k [27:17:24<93:26:53, 3.96s/Twitter friendship]"
     ]
    },
    {
     "name": "stdout",
     "output_type": "stream",
     "text": [
      "'Loaded 58790 friends dictionary'\n"
     ]
    },
    {
     "name": "stderr",
     "output_type": "stream",
     "text": [
      " 19%|█▊        | 19.0k/102k [27:18:43<98:21:53, 4.17s/Twitter friendship]"
     ]
    },
    {
     "name": "stdout",
     "output_type": "stream",
     "text": [
      "'Loaded 58807 friends dictionary'\n"
     ]
    },
    {
     "name": "stderr",
     "output_type": "stream",
     "text": [
      " 19%|█▊        | 19.0k/102k [27:19:31<88:26:18, 3.75s/Twitter friendship]"
     ]
    },
    {
     "name": "stdout",
     "output_type": "stream",
     "text": [
      "'Loaded 58824 friends dictionary'\n"
     ]
    },
    {
     "name": "stderr",
     "output_type": "stream",
     "text": [
      " 19%|█▊        | 19.0k/102k [27:20:34<88:14:52, 3.75s/Twitter friendship]"
     ]
    },
    {
     "name": "stdout",
     "output_type": "stream",
     "text": [
      "'Loaded 58841 friends dictionary'\n"
     ]
    },
    {
     "name": "stderr",
     "output_type": "stream",
     "text": [
      " 19%|█▊        | 19.1k/102k [27:21:50<93:23:58, 3.97s/Twitter friendship]"
     ]
    },
    {
     "name": "stdout",
     "output_type": "stream",
     "text": [
      "'Loaded 58858 friends dictionary'\n",
      "tweepy.TweepError [{'code': 34, 'message': 'Sorry, that page does not exist.'}]  from:  14\n"
     ]
    },
    {
     "name": "stderr",
     "output_type": "stream",
     "text": [
      " 19%|█▊        | 19.1k/102k [27:22:31<82:14:51, 3.49s/Twitter friendship]"
     ]
    },
    {
     "name": "stdout",
     "output_type": "stream",
     "text": [
      "'Loaded 58875 friends dictionary'\n"
     ]
    },
    {
     "name": "stderr",
     "output_type": "stream",
     "text": [
      " 19%|█▊        | 19.1k/102k [27:23:59<94:10:28, 4.00s/Twitter friendship]"
     ]
    },
    {
     "name": "stdout",
     "output_type": "stream",
     "text": [
      "'Loaded 58892 friends dictionary'\n"
     ]
    },
    {
     "name": "stderr",
     "output_type": "stream",
     "text": [
      " 19%|█▉        | 19.1k/102k [27:25:19<99:11:56, 4.21s/Twitter friendship]"
     ]
    },
    {
     "name": "stdout",
     "output_type": "stream",
     "text": [
      "'Loaded 58909 friends dictionary'\n"
     ]
    },
    {
     "name": "stderr",
     "output_type": "stream",
     "text": [
      " 19%|█▉        | 19.1k/102k [27:26:14<92:09:59, 3.92s/Twitter friendship]"
     ]
    },
    {
     "name": "stdout",
     "output_type": "stream",
     "text": [
      "'Loaded 58926 friends dictionary'\n"
     ]
    },
    {
     "name": "stderr",
     "output_type": "stream",
     "text": [
      " 19%|█▉        | 19.1k/102k [27:27:52<105:18:28, 4.48s/Twitter friendship]"
     ]
    },
    {
     "name": "stdout",
     "output_type": "stream",
     "text": [
      "'Loaded 58943 friends dictionary'\n",
      "tweepy.TweepError Not authorized.  from:  7\n",
      "tweepy.TweepError [{'code': 34, 'message': 'Sorry, that page does not exist.'}]  from:  10\n",
      "tweepy.TweepError [{'code': 34, 'message': 'Sorry, that page does not exist.'}]  from:  15\n"
     ]
    },
    {
     "name": "stderr",
     "output_type": "stream",
     "text": [
      " 19%|█▉        | 19.2k/102k [27:28:58<100:55:58, 4.29s/Twitter friendship]"
     ]
    },
    {
     "name": "stdout",
     "output_type": "stream",
     "text": [
      "'Loaded 58960 friends dictionary'\n",
      "tweepy.TweepError Not authorized.  from:  0\n"
     ]
    },
    {
     "name": "stderr",
     "output_type": "stream",
     "text": [
      " 19%|█▉        | 19.2k/102k [27:29:36<86:35:11, 3.68s/Twitter friendship] "
     ]
    },
    {
     "name": "stdout",
     "output_type": "stream",
     "text": [
      "'Loaded 58977 friends dictionary'\n"
     ]
    },
    {
     "name": "stderr",
     "output_type": "stream",
     "text": [
      "Rate limit reached. Sleeping for: 226\n",
      " 19%|█▉        | 19.2k/102k [27:34:35<184:33:04, 7.85s/Twitter friendship]"
     ]
    },
    {
     "name": "stdout",
     "output_type": "stream",
     "text": [
      "'Loaded 58994 friends dictionary'\n",
      "tweepy.TweepError Not authorized.  from:  15\n"
     ]
    },
    {
     "name": "stderr",
     "output_type": "stream",
     "text": [
      " 19%|█▉        | 19.2k/102k [27:35:18<147:15:50, 6.26s/Twitter friendship]"
     ]
    },
    {
     "name": "stdout",
     "output_type": "stream",
     "text": [
      "'Loaded 59011 friends dictionary'\n"
     ]
    },
    {
     "name": "stderr",
     "output_type": "stream",
     "text": [
      " 19%|█▉        | 19.2k/102k [27:36:17<127:19:19, 5.42s/Twitter friendship]"
     ]
    },
    {
     "name": "stdout",
     "output_type": "stream",
     "text": [
      "'Loaded 59028 friends dictionary'\n",
      "tweepy.TweepError Not authorized.  from:  3\n",
      "tweepy.TweepError Not authorized.  from:  7\n"
     ]
    },
    {
     "name": "stderr",
     "output_type": "stream",
     "text": [
      " 19%|█▉        | 19.2k/102k [27:37:30<119:17:40, 5.08s/Twitter friendship]"
     ]
    },
    {
     "name": "stdout",
     "output_type": "stream",
     "text": [
      "'Loaded 59045 friends dictionary'\n"
     ]
    },
    {
     "name": "stderr",
     "output_type": "stream",
     "text": [
      " 19%|█▉        | 19.3k/102k [27:38:18<103:17:44, 4.40s/Twitter friendship]"
     ]
    },
    {
     "name": "stdout",
     "output_type": "stream",
     "text": [
      "'Loaded 59062 friends dictionary'\n",
      "tweepy.TweepError Not authorized.  from:  2\n"
     ]
    },
    {
     "name": "stderr",
     "output_type": "stream",
     "text": [
      " 19%|█▉        | 19.3k/102k [27:39:31<102:32:26, 4.37s/Twitter friendship]"
     ]
    },
    {
     "name": "stdout",
     "output_type": "stream",
     "text": [
      "'Loaded 59079 friends dictionary'\n"
     ]
    },
    {
     "name": "stderr",
     "output_type": "stream",
     "text": [
      " 19%|█▉        | 19.3k/102k [27:40:47<103:27:11, 4.41s/Twitter friendship]"
     ]
    },
    {
     "name": "stdout",
     "output_type": "stream",
     "text": [
      "'Loaded 59096 friends dictionary'\n"
     ]
    },
    {
     "name": "stderr",
     "output_type": "stream",
     "text": [
      " 19%|█▉        | 19.3k/102k [27:41:28<89:35:52, 3.82s/Twitter friendship] "
     ]
    },
    {
     "name": "stdout",
     "output_type": "stream",
     "text": [
      "'Loaded 59113 friends dictionary'\n"
     ]
    },
    {
     "name": "stderr",
     "output_type": "stream",
     "text": [
      " 19%|█▉        | 19.3k/102k [27:42:40<92:08:39, 3.93s/Twitter friendship]"
     ]
    },
    {
     "name": "stdout",
     "output_type": "stream",
     "text": [
      "'Loaded 59130 friends dictionary'\n"
     ]
    },
    {
     "name": "stderr",
     "output_type": "stream",
     "text": [
      " 19%|█▉        | 19.3k/102k [27:43:51<94:01:13, 4.01s/Twitter friendship]"
     ]
    },
    {
     "name": "stdout",
     "output_type": "stream",
     "text": [
      "'Loaded 59147 friends dictionary'\n"
     ]
    },
    {
     "name": "stderr",
     "output_type": "stream",
     "text": [
      " 19%|█▉        | 19.4k/102k [27:44:33<83:08:05, 3.54s/Twitter friendship]"
     ]
    },
    {
     "name": "stdout",
     "output_type": "stream",
     "text": [
      "'Loaded 59164 friends dictionary'\n"
     ]
    },
    {
     "name": "stderr",
     "output_type": "stream",
     "text": [
      "Rate limit reached. Sleeping for: 235\n",
      " 19%|█▉        | 19.4k/102k [27:49:40<185:20:37, 7.90s/Twitter friendship]"
     ]
    },
    {
     "name": "stdout",
     "output_type": "stream",
     "text": [
      "'Loaded 59181 friends dictionary'\n"
     ]
    },
    {
     "name": "stderr",
     "output_type": "stream",
     "text": [
      " 19%|█▉        | 19.4k/102k [27:51:11<167:26:47, 7.14s/Twitter friendship]"
     ]
    },
    {
     "name": "stdout",
     "output_type": "stream",
     "text": [
      "'Loaded 59198 friends dictionary'\n",
      "tweepy.TweepError Not authorized.  from:  11\n",
      "tweepy.TweepError Not authorized.  from:  14\n"
     ]
    },
    {
     "name": "stderr",
     "output_type": "stream",
     "text": [
      " 19%|█▉        | 19.4k/102k [27:52:18<144:59:15, 6.18s/Twitter friendship]"
     ]
    },
    {
     "name": "stdout",
     "output_type": "stream",
     "text": [
      "'Loaded 59215 friends dictionary'\n"
     ]
    },
    {
     "name": "stderr",
     "output_type": "stream",
     "text": [
      " 19%|█▉        | 19.4k/102k [27:53:32<132:12:38, 5.64s/Twitter friendship]"
     ]
    },
    {
     "name": "stdout",
     "output_type": "stream",
     "text": [
      "'Loaded 59232 friends dictionary'\n"
     ]
    },
    {
     "name": "stderr",
     "output_type": "stream",
     "text": [
      " 19%|█▉        | 19.4k/102k [27:54:11<108:23:59, 4.62s/Twitter friendship]"
     ]
    },
    {
     "name": "stdout",
     "output_type": "stream",
     "text": [
      "'Loaded 59249 friends dictionary'\n"
     ]
    },
    {
     "name": "stderr",
     "output_type": "stream",
     "text": [
      " 19%|█▉        | 19.5k/102k [27:55:19<104:07:16, 4.44s/Twitter friendship]"
     ]
    },
    {
     "name": "stdout",
     "output_type": "stream",
     "text": [
      "'Loaded 59266 friends dictionary'\n"
     ]
    },
    {
     "name": "stderr",
     "output_type": "stream",
     "text": [
      "Rate limit reached. Sleeping for: 481\n",
      " 19%|█▉        | 19.5k/102k [28:04:45<306:57:11, 13.1s/Twitter friendship]"
     ]
    },
    {
     "name": "stdout",
     "output_type": "stream",
     "text": [
      "'Loaded 59283 friends dictionary'\n"
     ]
    },
    {
     "name": "stderr",
     "output_type": "stream",
     "text": [
      " 19%|█▉        | 19.5k/102k [28:05:35<235:16:33, 10.0s/Twitter friendship]"
     ]
    },
    {
     "name": "stdout",
     "output_type": "stream",
     "text": [
      "'Loaded 59300 friends dictionary'\n"
     ]
    },
    {
     "name": "stderr",
     "output_type": "stream",
     "text": [
      " 19%|█▉        | 19.5k/102k [28:06:41<192:01:48, 8.20s/Twitter friendship]"
     ]
    },
    {
     "name": "stdout",
     "output_type": "stream",
     "text": [
      "'Loaded 59317 friends dictionary'\n"
     ]
    },
    {
     "name": "stderr",
     "output_type": "stream",
     "text": [
      " 19%|█▉        | 19.5k/102k [28:08:09<170:52:34, 7.30s/Twitter friendship]"
     ]
    },
    {
     "name": "stdout",
     "output_type": "stream",
     "text": [
      "'Loaded 59334 friends dictionary'\n",
      "tweepy.TweepError Not authorized.  from:  9\n",
      "tweepy.TweepError Not authorized.  from:  13\n"
     ]
    },
    {
     "name": "stderr",
     "output_type": "stream",
     "text": [
      " 19%|█▉        | 19.5k/102k [28:08:55<138:31:11, 5.92s/Twitter friendship]"
     ]
    },
    {
     "name": "stdout",
     "output_type": "stream",
     "text": [
      "'Loaded 59351 friends dictionary'\n"
     ]
    },
    {
     "name": "stderr",
     "output_type": "stream",
     "text": [
      " 19%|█▉        | 19.6k/102k [28:10:09<127:32:06, 5.45s/Twitter friendship]"
     ]
    },
    {
     "name": "stdout",
     "output_type": "stream",
     "text": [
      "'Loaded 59368 friends dictionary'\n"
     ]
    },
    {
     "name": "stderr",
     "output_type": "stream",
     "text": [
      " 19%|█▉        | 19.6k/102k [28:11:31<122:54:05, 5.25s/Twitter friendship]"
     ]
    },
    {
     "name": "stdout",
     "output_type": "stream",
     "text": [
      "'Loaded 59385 friends dictionary'\n"
     ]
    },
    {
     "name": "stderr",
     "output_type": "stream",
     "text": [
      " 19%|█▉        | 19.6k/102k [28:12:16<104:49:41, 4.48s/Twitter friendship]"
     ]
    },
    {
     "name": "stdout",
     "output_type": "stream",
     "text": [
      "'Loaded 59402 friends dictionary'\n"
     ]
    },
    {
     "name": "stderr",
     "output_type": "stream",
     "text": [
      " 19%|█▉        | 19.6k/102k [28:13:34<105:39:30, 4.52s/Twitter friendship]"
     ]
    },
    {
     "name": "stdout",
     "output_type": "stream",
     "text": [
      "'Loaded 59419 friends dictionary'\n",
      "tweepy.TweepError Not authorized.  from:  3\n"
     ]
    },
    {
     "name": "stderr",
     "output_type": "stream",
     "text": [
      " 19%|█▉        | 19.6k/102k [28:15:15<115:20:08, 4.93s/Twitter friendship]"
     ]
    },
    {
     "name": "stdout",
     "output_type": "stream",
     "text": [
      "'Loaded 59436 friends dictionary'\n",
      "tweepy.TweepError Not authorized.  from:  4\n"
     ]
    },
    {
     "name": "stderr",
     "output_type": "stream",
     "text": [
      " 19%|█▉        | 19.6k/102k [28:15:55<97:32:49, 4.17s/Twitter friendship] "
     ]
    },
    {
     "name": "stdout",
     "output_type": "stream",
     "text": [
      "'Loaded 59453 friends dictionary'\n"
     ]
    },
    {
     "name": "stderr",
     "output_type": "stream",
     "text": [
      " 19%|█▉        | 19.7k/102k [28:16:59<94:39:12, 4.05s/Twitter friendship]"
     ]
    },
    {
     "name": "stdout",
     "output_type": "stream",
     "text": [
      "'Loaded 59470 friends dictionary'\n"
     ]
    },
    {
     "name": "stderr",
     "output_type": "stream",
     "text": [
      " 19%|█▉        | 19.7k/102k [28:18:11<95:50:38, 4.10s/Twitter friendship]"
     ]
    },
    {
     "name": "stdout",
     "output_type": "stream",
     "text": [
      "'Loaded 59487 friends dictionary'\n",
      "tweepy.TweepError Not authorized.  from:  10\n"
     ]
    },
    {
     "name": "stderr",
     "output_type": "stream",
     "text": [
      "Rate limit reached. Sleeping for: 55\n",
      " 19%|█▉        | 19.7k/102k [28:19:50<108:04:20, 4.62s/Twitter friendship]"
     ]
    },
    {
     "name": "stdout",
     "output_type": "stream",
     "text": [
      "'Loaded 59504 friends dictionary'\n",
      "tweepy.TweepError Not authorized.  from:  1\n"
     ]
    },
    {
     "name": "stderr",
     "output_type": "stream",
     "text": [
      " 19%|█▉        | 19.7k/102k [28:20:53<101:19:58, 4.34s/Twitter friendship]"
     ]
    },
    {
     "name": "stdout",
     "output_type": "stream",
     "text": [
      "'Loaded 59521 friends dictionary'\n",
      "tweepy.TweepError Not authorized.  from:  13\n"
     ]
    },
    {
     "name": "stderr",
     "output_type": "stream",
     "text": [
      " 19%|█▉        | 19.7k/102k [28:22:00<98:39:37, 4.22s/Twitter friendship] "
     ]
    },
    {
     "name": "stdout",
     "output_type": "stream",
     "text": [
      "'Loaded 59538 friends dictionary'\n",
      "tweepy.TweepError Not authorized.  from:  0\n",
      "tweepy.TweepError [{'code': 34, 'message': 'Sorry, that page does not exist.'}]  from:  11\n",
      "tweepy.TweepError Not authorized.  from:  12\n"
     ]
    },
    {
     "name": "stderr",
     "output_type": "stream",
     "text": [
      " 19%|█▉        | 19.7k/102k [28:22:46<88:04:57, 3.77s/Twitter friendship]"
     ]
    },
    {
     "name": "stdout",
     "output_type": "stream",
     "text": [
      "'Loaded 59555 friends dictionary'\n",
      "tweepy.TweepError Not authorized.  from:  15\n"
     ]
    },
    {
     "name": "stderr",
     "output_type": "stream",
     "text": [
      " 19%|█▉        | 19.8k/102k [28:24:29<104:04:35, 4.46s/Twitter friendship]"
     ]
    },
    {
     "name": "stdout",
     "output_type": "stream",
     "text": [
      "'Loaded 59572 friends dictionary'\n",
      "tweepy.TweepError Not authorized.  from:  8\n"
     ]
    },
    {
     "name": "stderr",
     "output_type": "stream",
     "text": [
      " 19%|█▉        | 19.8k/102k [28:25:42<102:44:48, 4.40s/Twitter friendship]"
     ]
    },
    {
     "name": "stdout",
     "output_type": "stream",
     "text": [
      "'Loaded 59589 friends dictionary'\n"
     ]
    },
    {
     "name": "stderr",
     "output_type": "stream",
     "text": [
      " 19%|█▉        | 19.8k/102k [28:26:18<86:43:49, 3.72s/Twitter friendship] "
     ]
    },
    {
     "name": "stdout",
     "output_type": "stream",
     "text": [
      "'Loaded 59606 friends dictionary'\n"
     ]
    },
    {
     "name": "stderr",
     "output_type": "stream",
     "text": [
      " 19%|█▉        | 19.8k/102k [28:27:18<85:18:28, 3.66s/Twitter friendship]"
     ]
    },
    {
     "name": "stdout",
     "output_type": "stream",
     "text": [
      "'Loaded 59623 friends dictionary'\n",
      "tweepy.TweepError Not authorized.  from:  15\n"
     ]
    },
    {
     "name": "stderr",
     "output_type": "stream",
     "text": [
      " 19%|█▉        | 19.8k/102k [28:28:02<78:04:17, 3.35s/Twitter friendship]"
     ]
    },
    {
     "name": "stdout",
     "output_type": "stream",
     "text": [
      "'Loaded 59640 friends dictionary'\n",
      "tweepy.TweepError Not authorized.  from:  2\n"
     ]
    },
    {
     "name": "stderr",
     "output_type": "stream",
     "text": [
      " 19%|█▉        | 19.8k/102k [28:28:35<67:59:28, 2.91s/Twitter friendship]"
     ]
    },
    {
     "name": "stdout",
     "output_type": "stream",
     "text": [
      "'Loaded 59657 friends dictionary'\n",
      "tweepy.TweepError [{'code': 34, 'message': 'Sorry, that page does not exist.'}]  from:  15\n"
     ]
    },
    {
     "name": "stderr",
     "output_type": "stream",
     "text": [
      " 19%|█▉        | 19.9k/102k [28:29:36<72:54:33, 3.13s/Twitter friendship]"
     ]
    },
    {
     "name": "stdout",
     "output_type": "stream",
     "text": [
      "'Loaded 59674 friends dictionary'\n"
     ]
    },
    {
     "name": "stderr",
     "output_type": "stream",
     "text": [
      " 20%|█▉        | 19.9k/102k [28:30:13<66:19:51, 2.84s/Twitter friendship]"
     ]
    },
    {
     "name": "stdout",
     "output_type": "stream",
     "text": [
      "'Loaded 59691 friends dictionary'\n",
      "tweepy.TweepError Not authorized.  from:  2\n"
     ]
    },
    {
     "name": "stderr",
     "output_type": "stream",
     "text": [
      "Rate limit reached. Sleeping for: 368\n",
      " 20%|█▉        | 19.9k/102k [28:37:05<215:43:17, 9.25s/Twitter friendship]"
     ]
    },
    {
     "name": "stdout",
     "output_type": "stream",
     "text": [
      "'Loaded 59708 friends dictionary'\n",
      "tweepy.TweepError Not authorized.  from:  6\n"
     ]
    },
    {
     "name": "stderr",
     "output_type": "stream",
     "text": [
      " 20%|█▉        | 19.9k/102k [28:38:06<176:18:51, 7.56s/Twitter friendship]"
     ]
    },
    {
     "name": "stdout",
     "output_type": "stream",
     "text": [
      "'Loaded 59725 friends dictionary'\n"
     ]
    },
    {
     "name": "stderr",
     "output_type": "stream",
     "text": [
      " 20%|█▉        | 19.9k/102k [28:38:44<138:46:47, 5.96s/Twitter friendship]"
     ]
    },
    {
     "name": "stdout",
     "output_type": "stream",
     "text": [
      "'Loaded 59742 friends dictionary'\n"
     ]
    },
    {
     "name": "stderr",
     "output_type": "stream",
     "text": [
      " 20%|█▉        | 19.9k/102k [28:39:28<115:21:42, 4.95s/Twitter friendship]"
     ]
    },
    {
     "name": "stdout",
     "output_type": "stream",
     "text": [
      "'Loaded 59759 friends dictionary'\n",
      "tweepy.TweepError [{'code': 34, 'message': 'Sorry, that page does not exist.'}]  from:  6\n"
     ]
    },
    {
     "name": "stderr",
     "output_type": "stream",
     "text": [
      " 20%|█▉        | 20.0k/102k [28:40:34<107:55:27, 4.63s/Twitter friendship]"
     ]
    },
    {
     "name": "stdout",
     "output_type": "stream",
     "text": [
      "'Loaded 59776 friends dictionary'\n"
     ]
    },
    {
     "name": "stderr",
     "output_type": "stream",
     "text": [
      " 20%|█▉        | 20.0k/102k [28:41:09<89:49:56, 3.86s/Twitter friendship] "
     ]
    },
    {
     "name": "stdout",
     "output_type": "stream",
     "text": [
      "tweepy.TweepError Not authorized.  from:  16\n",
      "'Loaded 59793 friends dictionary'\n"
     ]
    },
    {
     "name": "stderr",
     "output_type": "stream",
     "text": [
      " 20%|█▉        | 20.0k/102k [28:41:51<79:54:45, 3.43s/Twitter friendship]"
     ]
    },
    {
     "name": "stdout",
     "output_type": "stream",
     "text": [
      "'Loaded 59810 friends dictionary'\n",
      "tweepy.TweepError Not authorized.  from:  0\n"
     ]
    },
    {
     "name": "stderr",
     "output_type": "stream",
     "text": [
      " 20%|█▉        | 20.0k/102k [28:42:50<80:15:14, 3.45s/Twitter friendship]"
     ]
    },
    {
     "name": "stdout",
     "output_type": "stream",
     "text": [
      "'Loaded 59827 friends dictionary'\n"
     ]
    },
    {
     "name": "stderr",
     "output_type": "stream",
     "text": [
      " 20%|█▉        | 20.0k/102k [28:43:40<76:42:44, 3.30s/Twitter friendship]"
     ]
    },
    {
     "name": "stdout",
     "output_type": "stream",
     "text": [
      "'Loaded 59844 friends dictionary'\n"
     ]
    },
    {
     "name": "stderr",
     "output_type": "stream",
     "text": [
      " 20%|█▉        | 20.0k/102k [28:44:40<78:27:41, 3.37s/Twitter friendship]"
     ]
    },
    {
     "name": "stdout",
     "output_type": "stream",
     "text": [
      "'Loaded 59861 friends dictionary'\n"
     ]
    },
    {
     "name": "stderr",
     "output_type": "stream",
     "text": [
      " 20%|█▉        | 20.1k/102k [28:45:43<80:44:23, 3.47s/Twitter friendship]"
     ]
    },
    {
     "name": "stdout",
     "output_type": "stream",
     "text": [
      "'Loaded 59878 friends dictionary'\n"
     ]
    },
    {
     "name": "stderr",
     "output_type": "stream",
     "text": [
      "Rate limit reached. Sleeping for: 338\n",
      " 20%|█▉        | 20.1k/102k [28:52:11<215:33:36, 9.27s/Twitter friendship]"
     ]
    },
    {
     "name": "stdout",
     "output_type": "stream",
     "text": [
      "'Loaded 59895 friends dictionary'\n"
     ]
    },
    {
     "name": "stderr",
     "output_type": "stream",
     "text": [
      " 20%|█▉        | 20.1k/102k [28:53:20<179:19:54, 7.71s/Twitter friendship]"
     ]
    },
    {
     "name": "stdout",
     "output_type": "stream",
     "text": [
      "'Loaded 59912 friends dictionary'\n"
     ]
    },
    {
     "name": "stderr",
     "output_type": "stream",
     "text": [
      " 20%|█▉        | 20.1k/102k [28:54:23<151:16:13, 6.51s/Twitter friendship]"
     ]
    },
    {
     "name": "stdout",
     "output_type": "stream",
     "text": [
      "'Loaded 59929 friends dictionary'\n"
     ]
    },
    {
     "name": "stderr",
     "output_type": "stream",
     "text": [
      " 20%|█▉        | 20.1k/102k [28:55:03<122:26:18, 5.27s/Twitter friendship]"
     ]
    },
    {
     "name": "stdout",
     "output_type": "stream",
     "text": [
      "'Loaded 59946 friends dictionary'\n"
     ]
    },
    {
     "name": "stderr",
     "output_type": "stream",
     "text": [
      " 20%|█▉        | 20.1k/102k [28:56:03<110:07:19, 4.74s/Twitter friendship]"
     ]
    },
    {
     "name": "stdout",
     "output_type": "stream",
     "text": [
      "'Loaded 59963 friends dictionary'\n",
      "tweepy.TweepError Not authorized.  from:  11\n"
     ]
    },
    {
     "name": "stderr",
     "output_type": "stream",
     "text": [
      " 20%|█▉        | 20.2k/102k [28:57:04<102:09:04, 4.40s/Twitter friendship]"
     ]
    },
    {
     "name": "stdout",
     "output_type": "stream",
     "text": [
      "'Loaded 59980 friends dictionary'\n",
      "tweepy.TweepError Not authorized.  from:  3\n",
      "tweepy.TweepError Not authorized.  from:  7\n"
     ]
    },
    {
     "name": "stderr",
     "output_type": "stream",
     "text": [
      " 20%|█▉        | 20.2k/102k [28:57:38<85:43:26, 3.69s/Twitter friendship] "
     ]
    },
    {
     "name": "stdout",
     "output_type": "stream",
     "text": [
      "'Loaded 59997 friends dictionary'\n",
      "tweepy.TweepError Not authorized.  from:  10\n"
     ]
    },
    {
     "name": "stderr",
     "output_type": "stream",
     "text": [
      " 20%|█▉        | 20.2k/102k [28:58:36<83:27:43, 3.59s/Twitter friendship]"
     ]
    },
    {
     "name": "stdout",
     "output_type": "stream",
     "text": [
      "'Loaded 60014 friends dictionary'\n"
     ]
    },
    {
     "name": "stderr",
     "output_type": "stream",
     "text": [
      " 20%|█▉        | 20.2k/102k [28:59:41<85:06:53, 3.66s/Twitter friendship]"
     ]
    },
    {
     "name": "stdout",
     "output_type": "stream",
     "text": [
      "'Loaded 60031 friends dictionary'\n"
     ]
    },
    {
     "name": "stderr",
     "output_type": "stream",
     "text": [
      "Rate limit reached. Sleeping for: 414\n",
      " 20%|█▉        | 20.2k/102k [29:07:15<245:50:35, 10.6s/Twitter friendship]"
     ]
    },
    {
     "name": "stdout",
     "output_type": "stream",
     "text": [
      "'Loaded 60048 friends dictionary'\n"
     ]
    },
    {
     "name": "stderr",
     "output_type": "stream",
     "text": [
      " 20%|█▉        | 20.2k/102k [29:08:12<195:20:27, 8.41s/Twitter friendship]"
     ]
    },
    {
     "name": "stdout",
     "output_type": "stream",
     "text": [
      "'Loaded 60065 friends dictionary'\n"
     ]
    },
    {
     "name": "stderr",
     "output_type": "stream",
     "text": [
      " 20%|█▉        | 20.3k/102k [29:09:14<161:47:47, 6.97s/Twitter friendship]"
     ]
    },
    {
     "name": "stdout",
     "output_type": "stream",
     "text": [
      "'Loaded 60082 friends dictionary'\n"
     ]
    },
    {
     "name": "stderr",
     "output_type": "stream",
     "text": [
      " 20%|█▉        | 20.3k/102k [29:09:49<127:38:18, 5.50s/Twitter friendship]"
     ]
    },
    {
     "name": "stdout",
     "output_type": "stream",
     "text": [
      "'Loaded 60099 friends dictionary'\n",
      "tweepy.TweepError Not authorized.  from:  11\n",
      "tweepy.TweepError Not authorized.  from:  12\n"
     ]
    },
    {
     "name": "stderr",
     "output_type": "stream",
     "text": [
      " 20%|█▉        | 20.3k/102k [29:10:45<112:33:23, 4.85s/Twitter friendship]"
     ]
    },
    {
     "name": "stdout",
     "output_type": "stream",
     "text": [
      "'Loaded 60116 friends dictionary'\n",
      "tweepy.TweepError Not authorized.  from:  0\n"
     ]
    },
    {
     "name": "stderr",
     "output_type": "stream",
     "text": [
      " 20%|█▉        | 20.3k/102k [29:11:52<105:53:36, 4.57s/Twitter friendship]"
     ]
    },
    {
     "name": "stdout",
     "output_type": "stream",
     "text": [
      "'Loaded 60133 friends dictionary'\n"
     ]
    },
    {
     "name": "stderr",
     "output_type": "stream",
     "text": [
      " 20%|█▉        | 20.3k/102k [29:12:26<88:13:04, 3.80s/Twitter friendship] "
     ]
    },
    {
     "name": "stdout",
     "output_type": "stream",
     "text": [
      "'Loaded 60150 friends dictionary'\n"
     ]
    },
    {
     "name": "stderr",
     "output_type": "stream",
     "text": [
      " 20%|█▉        | 20.3k/102k [29:13:25<85:55:00, 3.71s/Twitter friendship]"
     ]
    },
    {
     "name": "stdout",
     "output_type": "stream",
     "text": [
      "tweepy.TweepError [{'code': 34, 'message': 'Sorry, that page does not exist.'}]  from:  16\n",
      "'Loaded 60167 friends dictionary'\n",
      "tweepy.TweepError Not authorized.  from:  5\n"
     ]
    },
    {
     "name": "stderr",
     "output_type": "stream",
     "text": [
      " 20%|█▉        | 20.4k/102k [29:14:00<74:12:35, 3.20s/Twitter friendship]"
     ]
    },
    {
     "name": "stdout",
     "output_type": "stream",
     "text": [
      "'Loaded 60184 friends dictionary'\n"
     ]
    },
    {
     "name": "stderr",
     "output_type": "stream",
     "text": [
      " 20%|█▉        | 20.4k/102k [29:14:37<67:00:15, 2.89s/Twitter friendship]"
     ]
    },
    {
     "name": "stdout",
     "output_type": "stream",
     "text": [
      "'Loaded 60201 friends dictionary'\n"
     ]
    },
    {
     "name": "stderr",
     "output_type": "stream",
     "text": [
      "Rate limit reached. Sleeping for: 457\n"
     ]
    },
    {
     "name": "stdout",
     "output_type": "stream",
     "text": [
      "tweepy.TweepError [{'code': 34, 'message': 'Sorry, that page does not exist.'}]  from:  9\n"
     ]
    },
    {
     "name": "stderr",
     "output_type": "stream",
     "text": [
      " 20%|██        | 20.4k/102k [29:23:19<260:20:23, 11.2s/Twitter friendship]"
     ]
    },
    {
     "name": "stdout",
     "output_type": "stream",
     "text": [
      "'Loaded 60218 friends dictionary'\n"
     ]
    },
    {
     "name": "stderr",
     "output_type": "stream",
     "text": [
      " 20%|██        | 20.4k/102k [29:23:53<196:26:55, 8.48s/Twitter friendship]"
     ]
    },
    {
     "name": "stdout",
     "output_type": "stream",
     "text": [
      "'Loaded 60235 friends dictionary'\n"
     ]
    },
    {
     "name": "stderr",
     "output_type": "stream",
     "text": [
      " 20%|██        | 20.4k/102k [29:24:32<153:22:45, 6.62s/Twitter friendship]"
     ]
    },
    {
     "name": "stdout",
     "output_type": "stream",
     "text": [
      "'Loaded 60252 friends dictionary'\n"
     ]
    },
    {
     "name": "stderr",
     "output_type": "stream",
     "text": [
      " 20%|██        | 20.4k/102k [29:25:30<130:58:24, 5.66s/Twitter friendship]"
     ]
    },
    {
     "name": "stdout",
     "output_type": "stream",
     "text": [
      "'Loaded 60269 friends dictionary'\n",
      "tweepy.TweepError Not authorized.  from:  15\n"
     ]
    },
    {
     "name": "stderr",
     "output_type": "stream",
     "text": [
      " 20%|██        | 20.5k/102k [29:26:05<105:55:10, 4.57s/Twitter friendship]"
     ]
    },
    {
     "name": "stdout",
     "output_type": "stream",
     "text": [
      "'Loaded 60286 friends dictionary'\n"
     ]
    },
    {
     "name": "stderr",
     "output_type": "stream",
     "text": [
      " 20%|██        | 20.5k/102k [29:26:41<88:40:11, 3.83s/Twitter friendship] "
     ]
    },
    {
     "name": "stdout",
     "output_type": "stream",
     "text": [
      "'Loaded 60303 friends dictionary'\n"
     ]
    },
    {
     "name": "stderr",
     "output_type": "stream",
     "text": [
      " 20%|██        | 20.5k/102k [29:27:41<86:37:51, 3.74s/Twitter friendship]"
     ]
    },
    {
     "name": "stdout",
     "output_type": "stream",
     "text": [
      "'Loaded 60320 friends dictionary'\n",
      "tweepy.TweepError [{'code': 34, 'message': 'Sorry, that page does not exist.'}]  from:  10\n"
     ]
    },
    {
     "name": "stderr",
     "output_type": "stream",
     "text": [
      " 20%|██        | 20.5k/102k [29:28:16<74:51:31, 3.24s/Twitter friendship]"
     ]
    },
    {
     "name": "stdout",
     "output_type": "stream",
     "text": [
      "'Loaded 60337 friends dictionary'\n",
      "tweepy.TweepError Not authorized.  from:  3\n"
     ]
    },
    {
     "name": "stderr",
     "output_type": "stream",
     "text": [
      " 20%|██        | 20.5k/102k [29:28:53<67:35:16, 2.92s/Twitter friendship]"
     ]
    },
    {
     "name": "stdout",
     "output_type": "stream",
     "text": [
      "'Loaded 60354 friends dictionary'\n"
     ]
    },
    {
     "name": "stderr",
     "output_type": "stream",
     "text": [
      " 20%|██        | 20.5k/102k [29:29:54<72:11:32, 3.12s/Twitter friendship]"
     ]
    },
    {
     "name": "stdout",
     "output_type": "stream",
     "text": [
      "'Loaded 60371 friends dictionary'\n",
      "tweepy.TweepError [{'code': 34, 'message': 'Sorry, that page does not exist.'}]  from:  5\n"
     ]
    },
    {
     "name": "stderr",
     "output_type": "stream",
     "text": [
      " 20%|██        | 20.6k/102k [29:30:29<65:03:20, 2.81s/Twitter friendship]"
     ]
    },
    {
     "name": "stdout",
     "output_type": "stream",
     "text": [
      "'Loaded 60388 friends dictionary'\n"
     ]
    },
    {
     "name": "stderr",
     "output_type": "stream",
     "text": [
      " 20%|██        | 20.6k/102k [29:31:09<61:41:28, 2.67s/Twitter friendship]"
     ]
    },
    {
     "name": "stdout",
     "output_type": "stream",
     "text": [
      "'Loaded 60405 friends dictionary'\n"
     ]
    },
    {
     "name": "stderr",
     "output_type": "stream",
     "text": [
      "Rate limit reached. Sleeping for: 444\n"
     ]
    },
    {
     "name": "stdout",
     "output_type": "stream",
     "text": [
      "tweepy.TweepError [{'code': 34, 'message': 'Sorry, that page does not exist.'}]  from:  10\n",
      "tweepy.TweepError Not authorized.  from:  13\n"
     ]
    },
    {
     "name": "stderr",
     "output_type": "stream",
     "text": [
      " 20%|██        | 20.6k/102k [29:39:37<250:23:43, 10.8s/Twitter friendship]"
     ]
    },
    {
     "name": "stdout",
     "output_type": "stream",
     "text": [
      "'Loaded 60422 friends dictionary'\n"
     ]
    },
    {
     "name": "stderr",
     "output_type": "stream",
     "text": [
      " 20%|██        | 20.6k/102k [29:40:13<189:52:32, 8.22s/Twitter friendship]"
     ]
    },
    {
     "name": "stdout",
     "output_type": "stream",
     "text": [
      "'Loaded 60439 friends dictionary'\n",
      "tweepy.TweepError Not authorized.  from:  6\n"
     ]
    },
    {
     "name": "stderr",
     "output_type": "stream",
     "text": [
      " 20%|██        | 20.6k/102k [29:40:53<149:07:56, 6.45s/Twitter friendship]"
     ]
    },
    {
     "name": "stdout",
     "output_type": "stream",
     "text": [
      "'Loaded 60456 friends dictionary'\n",
      "tweepy.TweepError Not authorized.  from:  6\n"
     ]
    },
    {
     "name": "stderr",
     "output_type": "stream",
     "text": [
      " 20%|██        | 20.6k/102k [29:41:52<128:24:22, 5.56s/Twitter friendship]"
     ]
    },
    {
     "name": "stdout",
     "output_type": "stream",
     "text": [
      "'Loaded 60473 friends dictionary'\n",
      "tweepy.TweepError Not authorized.  from:  0\n"
     ]
    },
    {
     "name": "stderr",
     "output_type": "stream",
     "text": [
      " 20%|██        | 20.7k/102k [29:42:29<105:11:10, 4.55s/Twitter friendship]"
     ]
    },
    {
     "name": "stdout",
     "output_type": "stream",
     "text": [
      "'Loaded 60490 friends dictionary'\n"
     ]
    },
    {
     "name": "stderr",
     "output_type": "stream",
     "text": [
      " 20%|██        | 20.7k/102k [29:43:20<94:28:59, 4.09s/Twitter friendship] "
     ]
    },
    {
     "name": "stdout",
     "output_type": "stream",
     "text": [
      "'Loaded 60507 friends dictionary'\n"
     ]
    },
    {
     "name": "stderr",
     "output_type": "stream",
     "text": [
      " 20%|██        | 20.7k/102k [29:44:19<90:10:15, 3.91s/Twitter friendship]"
     ]
    },
    {
     "name": "stdout",
     "output_type": "stream",
     "text": [
      "'Loaded 60524 friends dictionary'\n"
     ]
    },
    {
     "name": "stderr",
     "output_type": "stream",
     "text": [
      " 20%|██        | 20.7k/102k [29:44:55<77:32:56, 3.36s/Twitter friendship]"
     ]
    },
    {
     "name": "stdout",
     "output_type": "stream",
     "text": [
      "'Loaded 60541 friends dictionary'\n",
      "tweepy.TweepError Not authorized.  from:  4\n"
     ]
    },
    {
     "name": "stderr",
     "output_type": "stream",
     "text": [
      " 20%|██        | 20.7k/102k [29:45:49<76:20:00, 3.31s/Twitter friendship]"
     ]
    },
    {
     "name": "stdout",
     "output_type": "stream",
     "text": [
      "'Loaded 60558 friends dictionary'\n"
     ]
    },
    {
     "name": "stderr",
     "output_type": "stream",
     "text": [
      " 20%|██        | 20.7k/102k [29:46:48<77:20:02, 3.35s/Twitter friendship]"
     ]
    },
    {
     "name": "stdout",
     "output_type": "stream",
     "text": [
      "'Loaded 60575 friends dictionary'\n",
      "tweepy.TweepError Not authorized.  from:  2\n",
      "tweepy.TweepError Not authorized.  from:  3\n"
     ]
    },
    {
     "name": "stderr",
     "output_type": "stream",
     "text": [
      " 20%|██        | 20.8k/102k [29:47:23<68:28:01, 2.97s/Twitter friendship]"
     ]
    },
    {
     "name": "stdout",
     "output_type": "stream",
     "text": [
      "'Loaded 60592 friends dictionary'\n"
     ]
    },
    {
     "name": "stderr",
     "output_type": "stream",
     "text": [
      " 20%|██        | 20.8k/102k [29:48:13<68:24:09, 2.97s/Twitter friendship]"
     ]
    },
    {
     "name": "stdout",
     "output_type": "stream",
     "text": [
      "'Loaded 60609 friends dictionary'\n",
      "tweepy.TweepError [{'code': 34, 'message': 'Sorry, that page does not exist.'}]  from:  15\n"
     ]
    },
    {
     "name": "stderr",
     "output_type": "stream",
     "text": [
      " 20%|██        | 20.8k/102k [29:49:13<72:05:20, 3.13s/Twitter friendship]"
     ]
    },
    {
     "name": "stdout",
     "output_type": "stream",
     "text": [
      "'Loaded 60626 friends dictionary'\n",
      "tweepy.TweepError Not authorized.  from:  13\n"
     ]
    },
    {
     "name": "stderr",
     "output_type": "stream",
     "text": [
      " 20%|██        | 20.8k/102k [29:49:48<64:39:04, 2.80s/Twitter friendship]"
     ]
    },
    {
     "name": "stdout",
     "output_type": "stream",
     "text": [
      "'Loaded 60643 friends dictionary'\n"
     ]
    },
    {
     "name": "stderr",
     "output_type": "stream",
     "text": [
      "Rate limit reached. Sleeping for: 236\n",
      " 20%|██        | 20.8k/102k [29:54:43<165:15:14, 7.17s/Twitter friendship]"
     ]
    },
    {
     "name": "stdout",
     "output_type": "stream",
     "text": [
      "'Loaded 60660 friends dictionary'\n"
     ]
    },
    {
     "name": "stderr",
     "output_type": "stream",
     "text": [
      " 20%|██        | 20.8k/102k [29:55:46<141:28:47, 6.14s/Twitter friendship]"
     ]
    },
    {
     "name": "stdout",
     "output_type": "stream",
     "text": [
      "'Loaded 60677 friends dictionary'\n",
      "tweepy.TweepError Not authorized.  from:  14\n"
     ]
    },
    {
     "name": "stderr",
     "output_type": "stream",
     "text": [
      " 20%|██        | 20.9k/102k [29:56:21<113:16:03, 4.92s/Twitter friendship]"
     ]
    },
    {
     "name": "stdout",
     "output_type": "stream",
     "text": [
      "'Loaded 60694 friends dictionary'\n",
      "tweepy.TweepError [{'code': 34, 'message': 'Sorry, that page does not exist.'}]  from:  8\n"
     ]
    },
    {
     "name": "stderr",
     "output_type": "stream",
     "text": [
      " 20%|██        | 20.9k/102k [29:57:16<101:17:08, 4.40s/Twitter friendship]"
     ]
    },
    {
     "name": "stdout",
     "output_type": "stream",
     "text": [
      "tweepy.TweepError Not authorized.  from:  16\n",
      "'Loaded 60711 friends dictionary'\n"
     ]
    },
    {
     "name": "stderr",
     "output_type": "stream",
     "text": [
      " 21%|██        | 20.9k/102k [29:58:28<100:19:26, 4.36s/Twitter friendship]"
     ]
    },
    {
     "name": "stdout",
     "output_type": "stream",
     "text": [
      "'Loaded 60728 friends dictionary'\n"
     ]
    },
    {
     "name": "stderr",
     "output_type": "stream",
     "text": [
      " 21%|██        | 20.9k/102k [29:59:17<89:59:57, 3.91s/Twitter friendship] "
     ]
    },
    {
     "name": "stdout",
     "output_type": "stream",
     "text": [
      "'Loaded 60745 friends dictionary'\n"
     ]
    },
    {
     "name": "stderr",
     "output_type": "stream",
     "text": [
      " 21%|██        | 20.9k/102k [30:00:13<85:51:57, 3.73s/Twitter friendship]"
     ]
    },
    {
     "name": "stdout",
     "output_type": "stream",
     "text": [
      "'Loaded 60762 friends dictionary'\n"
     ]
    },
    {
     "name": "stderr",
     "output_type": "stream",
     "text": [
      " 21%|██        | 20.9k/102k [30:01:12<84:05:53, 3.65s/Twitter friendship]"
     ]
    },
    {
     "name": "stdout",
     "output_type": "stream",
     "text": [
      "'Loaded 60779 friends dictionary'\n"
     ]
    },
    {
     "name": "stderr",
     "output_type": "stream",
     "text": [
      " 21%|██        | 21.0k/102k [30:01:48<73:15:31, 3.18s/Twitter friendship]"
     ]
    },
    {
     "name": "stdout",
     "output_type": "stream",
     "text": [
      "'Loaded 60796 friends dictionary'\n",
      "tweepy.TweepError Not authorized.  from:  7\n"
     ]
    },
    {
     "name": "stderr",
     "output_type": "stream",
     "text": [
      " 21%|██        | 21.0k/102k [30:02:42<73:31:31, 3.20s/Twitter friendship]"
     ]
    },
    {
     "name": "stdout",
     "output_type": "stream",
     "text": [
      "'Loaded 60813 friends dictionary'\n"
     ]
    },
    {
     "name": "stderr",
     "output_type": "stream",
     "text": [
      " 21%|██        | 21.0k/102k [30:03:44<76:19:28, 3.32s/Twitter friendship]"
     ]
    },
    {
     "name": "stdout",
     "output_type": "stream",
     "text": [
      "'Loaded 60830 friends dictionary'\n"
     ]
    },
    {
     "name": "stderr",
     "output_type": "stream",
     "text": [
      " 21%|██        | 21.0k/102k [30:04:19<67:54:14, 2.95s/Twitter friendship]"
     ]
    },
    {
     "name": "stdout",
     "output_type": "stream",
     "text": [
      "'Loaded 60847 friends dictionary'\n",
      "tweepy.TweepError Not authorized.  from:  5\n"
     ]
    },
    {
     "name": "stderr",
     "output_type": "stream",
     "text": [
      "Rate limit reached. Sleeping for: 269\n",
      " 21%|██        | 21.0k/102k [30:09:48<180:51:55, 7.87s/Twitter friendship]"
     ]
    },
    {
     "name": "stdout",
     "output_type": "stream",
     "text": [
      "'Loaded 60864 friends dictionary'\n"
     ]
    },
    {
     "name": "stderr",
     "output_type": "stream",
     "text": [
      " 21%|██        | 21.0k/102k [30:10:52<152:40:17, 6.64s/Twitter friendship]"
     ]
    },
    {
     "name": "stdout",
     "output_type": "stream",
     "text": [
      "'Loaded 60881 friends dictionary'\n"
     ]
    },
    {
     "name": "stderr",
     "output_type": "stream",
     "text": [
      " 21%|██        | 21.1k/102k [30:11:27<121:01:55, 5.27s/Twitter friendship]"
     ]
    },
    {
     "name": "stdout",
     "output_type": "stream",
     "text": [
      "'Loaded 60898 friends dictionary'\n",
      "tweepy.TweepError Not authorized.  from:  9\n"
     ]
    },
    {
     "name": "stderr",
     "output_type": "stream",
     "text": [
      " 21%|██        | 21.1k/102k [30:12:22<106:44:02, 4.64s/Twitter friendship]"
     ]
    },
    {
     "name": "stdout",
     "output_type": "stream",
     "text": [
      "'Loaded 60915 friends dictionary'\n"
     ]
    },
    {
     "name": "stderr",
     "output_type": "stream",
     "text": [
      " 21%|██        | 21.1k/102k [30:13:22<99:12:52, 4.32s/Twitter friendship] "
     ]
    },
    {
     "name": "stdout",
     "output_type": "stream",
     "text": [
      "'Loaded 60932 friends dictionary'\n",
      "tweepy.TweepError Not authorized.  from:  9\n"
     ]
    },
    {
     "name": "stderr",
     "output_type": "stream",
     "text": [
      " 21%|██        | 21.1k/102k [30:13:56<83:20:09, 3.63s/Twitter friendship]"
     ]
    },
    {
     "name": "stdout",
     "output_type": "stream",
     "text": [
      "'Loaded 60949 friends dictionary'\n",
      "tweepy.TweepError Not authorized.  from:  13\n"
     ]
    },
    {
     "name": "stderr",
     "output_type": "stream",
     "text": [
      " 21%|██        | 21.1k/102k [30:14:51<80:32:20, 3.51s/Twitter friendship]"
     ]
    },
    {
     "name": "stdout",
     "output_type": "stream",
     "text": [
      "'Loaded 60966 friends dictionary'\n",
      "tweepy.TweepError Not authorized.  from:  3\n",
      "tweepy.TweepError Not authorized.  from:  14\n"
     ]
    },
    {
     "name": "stderr",
     "output_type": "stream",
     "text": [
      " 21%|██        | 21.1k/102k [30:15:51<80:45:40, 3.52s/Twitter friendship]"
     ]
    },
    {
     "name": "stdout",
     "output_type": "stream",
     "text": [
      "'Loaded 60983 friends dictionary'\n"
     ]
    },
    {
     "name": "stderr",
     "output_type": "stream",
     "text": [
      " 21%|██        | 21.2k/102k [30:16:27<70:51:14, 3.09s/Twitter friendship]"
     ]
    },
    {
     "name": "stdout",
     "output_type": "stream",
     "text": [
      "'Loaded 61000 friends dictionary'\n"
     ]
    },
    {
     "name": "stderr",
     "output_type": "stream",
     "text": [
      "Rate limit reached. Sleeping for: 510\n"
     ]
    },
    {
     "name": "stdout",
     "output_type": "stream",
     "text": [
      "tweepy.TweepError Not authorized.  from:  5\n"
     ]
    },
    {
     "name": "stderr",
     "output_type": "stream",
     "text": [
      " 21%|██        | 21.2k/102k [30:25:56<280:08:03, 12.2s/Twitter friendship]"
     ]
    },
    {
     "name": "stdout",
     "output_type": "stream",
     "text": [
      "'Loaded 61017 friends dictionary'\n"
     ]
    },
    {
     "name": "stderr",
     "output_type": "stream",
     "text": [
      " 21%|██        | 21.2k/102k [30:26:58<221:10:35, 9.64s/Twitter friendship]"
     ]
    },
    {
     "name": "stdout",
     "output_type": "stream",
     "text": [
      "'Loaded 61034 friends dictionary'\n"
     ]
    },
    {
     "name": "stderr",
     "output_type": "stream",
     "text": [
      " 21%|██        | 21.2k/102k [30:27:32<168:40:28, 7.35s/Twitter friendship]"
     ]
    },
    {
     "name": "stdout",
     "output_type": "stream",
     "text": [
      "'Loaded 61051 friends dictionary'\n"
     ]
    },
    {
     "name": "stderr",
     "output_type": "stream",
     "text": [
      " 21%|██        | 21.2k/102k [30:28:22<138:09:04, 6.02s/Twitter friendship]"
     ]
    },
    {
     "name": "stdout",
     "output_type": "stream",
     "text": [
      "'Loaded 61068 friends dictionary'\n"
     ]
    },
    {
     "name": "stderr",
     "output_type": "stream",
     "text": [
      " 21%|██        | 21.2k/102k [30:29:21<120:45:34, 5.27s/Twitter friendship]"
     ]
    },
    {
     "name": "stdout",
     "output_type": "stream",
     "text": [
      "'Loaded 61085 friends dictionary'\n"
     ]
    },
    {
     "name": "stderr",
     "output_type": "stream",
     "text": [
      " 21%|██        | 21.2k/102k [30:30:00<100:16:30, 4.37s/Twitter friendship]"
     ]
    },
    {
     "name": "stdout",
     "output_type": "stream",
     "text": [
      "'Loaded 61102 friends dictionary'\n"
     ]
    },
    {
     "name": "stderr",
     "output_type": "stream",
     "text": [
      " 21%|██        | 21.3k/102k [30:30:51<90:26:39, 3.95s/Twitter friendship] "
     ]
    },
    {
     "name": "stdout",
     "output_type": "stream",
     "text": [
      "'Loaded 61119 friends dictionary'\n"
     ]
    },
    {
     "name": "stderr",
     "output_type": "stream",
     "text": [
      " 21%|██        | 21.3k/102k [30:31:52<88:09:55, 3.85s/Twitter friendship]"
     ]
    },
    {
     "name": "stdout",
     "output_type": "stream",
     "text": [
      "'Loaded 61136 friends dictionary'\n"
     ]
    },
    {
     "name": "stderr",
     "output_type": "stream",
     "text": [
      " 21%|██        | 21.3k/102k [30:32:27<75:49:18, 3.31s/Twitter friendship]"
     ]
    },
    {
     "name": "stdout",
     "output_type": "stream",
     "text": [
      "'Loaded 61153 friends dictionary'\n"
     ]
    },
    {
     "name": "stderr",
     "output_type": "stream",
     "text": [
      " 21%|██        | 21.3k/102k [30:33:17<73:28:43, 3.21s/Twitter friendship]"
     ]
    },
    {
     "name": "stdout",
     "output_type": "stream",
     "text": [
      "'Loaded 61170 friends dictionary'\n",
      "tweepy.TweepError Not authorized.  from:  6\n"
     ]
    },
    {
     "name": "stderr",
     "output_type": "stream",
     "text": [
      " 21%|██        | 21.3k/102k [30:34:18<75:53:16, 3.31s/Twitter friendship]"
     ]
    },
    {
     "name": "stdout",
     "output_type": "stream",
     "text": [
      "'Loaded 61187 friends dictionary'\n"
     ]
    },
    {
     "name": "stderr",
     "output_type": "stream",
     "text": [
      " 21%|██        | 21.3k/102k [30:34:54<67:31:44, 2.95s/Twitter friendship]"
     ]
    },
    {
     "name": "stdout",
     "output_type": "stream",
     "text": [
      "tweepy.TweepError Not authorized.  from:  16\n",
      "'Loaded 61204 friends dictionary'\n",
      "tweepy.TweepError Not authorized.  from:  2\n"
     ]
    },
    {
     "name": "stderr",
     "output_type": "stream",
     "text": [
      " 21%|██        | 21.4k/102k [30:35:41<66:32:40, 2.91s/Twitter friendship]"
     ]
    },
    {
     "name": "stdout",
     "output_type": "stream",
     "text": [
      "'Loaded 61221 friends dictionary'\n"
     ]
    },
    {
     "name": "stderr",
     "output_type": "stream",
     "text": [
      " 21%|██        | 21.4k/102k [30:36:40<70:22:59, 3.07s/Twitter friendship]"
     ]
    },
    {
     "name": "stdout",
     "output_type": "stream",
     "text": [
      "'Loaded 61238 friends dictionary'\n"
     ]
    },
    {
     "name": "stderr",
     "output_type": "stream",
     "text": [
      "Rate limit reached. Sleeping for: 221\n",
      " 21%|██        | 21.4k/102k [30:41:01<154:28:25, 6.75s/Twitter friendship]"
     ]
    },
    {
     "name": "stdout",
     "output_type": "stream",
     "text": [
      "'Loaded 61255 friends dictionary'\n"
     ]
    },
    {
     "name": "stderr",
     "output_type": "stream",
     "text": [
      " 21%|██        | 21.4k/102k [30:41:56<130:19:56, 5.70s/Twitter friendship]"
     ]
    },
    {
     "name": "stdout",
     "output_type": "stream",
     "text": [
      "'Loaded 61272 friends dictionary'\n"
     ]
    },
    {
     "name": "stderr",
     "output_type": "stream",
     "text": [
      " 21%|██        | 21.4k/102k [30:42:56<115:20:11, 5.04s/Twitter friendship]"
     ]
    },
    {
     "name": "stdout",
     "output_type": "stream",
     "text": [
      "'Loaded 61289 friends dictionary'\n"
     ]
    },
    {
     "name": "stderr",
     "output_type": "stream",
     "text": [
      "Rate limit reached. Sleeping for: 52\n"
     ]
    },
    {
     "name": "stdout",
     "output_type": "stream",
     "text": [
      "tweepy.TweepError Not authorized.  from:  15\n"
     ]
    },
    {
     "name": "stderr",
     "output_type": "stream",
     "text": [
      " 21%|██        | 21.4k/102k [30:44:27<117:45:23, 5.15s/Twitter friendship]"
     ]
    },
    {
     "name": "stdout",
     "output_type": "stream",
     "text": [
      "'Loaded 61306 friends dictionary'\n"
     ]
    },
    {
     "name": "stderr",
     "output_type": "stream",
     "text": [
      " 21%|██        | 21.5k/102k [30:45:18<102:45:14, 4.49s/Twitter friendship]"
     ]
    },
    {
     "name": "stdout",
     "output_type": "stream",
     "text": [
      "'Loaded 61323 friends dictionary'\n"
     ]
    },
    {
     "name": "stderr",
     "output_type": "stream",
     "text": [
      " 21%|██        | 21.5k/102k [30:46:17<95:42:52, 4.19s/Twitter friendship] "
     ]
    },
    {
     "name": "stdout",
     "output_type": "stream",
     "text": [
      "'Loaded 61340 friends dictionary'\n",
      "tweepy.TweepError Not authorized.  from:  2\n"
     ]
    },
    {
     "name": "stderr",
     "output_type": "stream",
     "text": [
      " 21%|██        | 21.5k/102k [30:46:52<81:00:39, 3.54s/Twitter friendship]"
     ]
    },
    {
     "name": "stdout",
     "output_type": "stream",
     "text": [
      "'Loaded 61357 friends dictionary'\n"
     ]
    },
    {
     "name": "stderr",
     "output_type": "stream",
     "text": [
      " 21%|██        | 21.5k/102k [30:47:33<73:25:31, 3.21s/Twitter friendship]"
     ]
    },
    {
     "name": "stdout",
     "output_type": "stream",
     "text": [
      "'Loaded 61374 friends dictionary'\n",
      "tweepy.TweepError Not authorized.  from:  0\n"
     ]
    },
    {
     "name": "stderr",
     "output_type": "stream",
     "text": [
      " 21%|██        | 21.5k/102k [30:48:36<76:36:20, 3.35s/Twitter friendship]"
     ]
    },
    {
     "name": "stdout",
     "output_type": "stream",
     "text": [
      "'Loaded 61391 friends dictionary'\n",
      "tweepy.TweepError [{'code': 34, 'message': 'Sorry, that page does not exist.'}]  from:  11\n"
     ]
    },
    {
     "name": "stderr",
     "output_type": "stream",
     "text": [
      " 21%|██        | 21.5k/102k [30:49:12<68:11:32, 2.99s/Twitter friendship]"
     ]
    },
    {
     "name": "stdout",
     "output_type": "stream",
     "text": [
      "'Loaded 61408 friends dictionary'\n",
      "tweepy.TweepError Not authorized.  from:  0\n"
     ]
    },
    {
     "name": "stderr",
     "output_type": "stream",
     "text": [
      " 21%|██        | 21.6k/102k [30:49:56<65:34:52, 2.87s/Twitter friendship]"
     ]
    },
    {
     "name": "stdout",
     "output_type": "stream",
     "text": [
      "'Loaded 61425 friends dictionary'\n",
      "tweepy.TweepError Not authorized.  from:  11\n"
     ]
    },
    {
     "name": "stderr",
     "output_type": "stream",
     "text": [
      " 21%|██        | 21.6k/102k [30:50:55<69:47:00, 3.06s/Twitter friendship]"
     ]
    },
    {
     "name": "stdout",
     "output_type": "stream",
     "text": [
      "'Loaded 61442 friends dictionary'\n",
      "tweepy.TweepError [{'code': 34, 'message': 'Sorry, that page does not exist.'}]  from:  6\n"
     ]
    },
    {
     "name": "stderr",
     "output_type": "stream",
     "text": [
      " 21%|██        | 21.6k/102k [30:51:31<63:07:03, 2.76s/Twitter friendship]"
     ]
    },
    {
     "name": "stdout",
     "output_type": "stream",
     "text": [
      "'Loaded 61459 friends dictionary'\n"
     ]
    },
    {
     "name": "stderr",
     "output_type": "stream",
     "text": [
      " 21%|██        | 21.6k/102k [30:52:09<59:22:52, 2.60s/Twitter friendship]"
     ]
    },
    {
     "name": "stdout",
     "output_type": "stream",
     "text": [
      "'Loaded 61476 friends dictionary'\n"
     ]
    },
    {
     "name": "stderr",
     "output_type": "stream",
     "text": [
      "Rate limit reached. Sleeping for: 173\n",
      " 21%|██        | 21.6k/102k [30:56:07<137:21:47, 6.02s/Twitter friendship]"
     ]
    },
    {
     "name": "stdout",
     "output_type": "stream",
     "text": [
      "'Loaded 61493 friends dictionary'\n",
      "tweepy.TweepError [{'code': 34, 'message': 'Sorry, that page does not exist.'}]  from:  13\n"
     ]
    },
    {
     "name": "stderr",
     "output_type": "stream",
     "text": [
      " 21%|██▏       | 21.6k/102k [30:56:45<111:34:23, 4.89s/Twitter friendship]"
     ]
    },
    {
     "name": "stdout",
     "output_type": "stream",
     "text": [
      "'Loaded 61510 friends dictionary'\n"
     ]
    },
    {
     "name": "stderr",
     "output_type": "stream",
     "text": [
      " 21%|██▏       | 21.7k/102k [30:57:23<93:32:28, 4.10s/Twitter friendship] "
     ]
    },
    {
     "name": "stdout",
     "output_type": "stream",
     "text": [
      "'Loaded 61527 friends dictionary'\n"
     ]
    },
    {
     "name": "stderr",
     "output_type": "stream",
     "text": [
      " 21%|██▏       | 21.7k/102k [30:58:21<88:39:30, 3.89s/Twitter friendship]"
     ]
    },
    {
     "name": "stdout",
     "output_type": "stream",
     "text": [
      "'Loaded 61544 friends dictionary'\n"
     ]
    },
    {
     "name": "stderr",
     "output_type": "stream",
     "text": [
      "Rate limit reached. Sleeping for: 32\n",
      " 21%|██▏       | 21.7k/102k [30:59:40<93:51:34, 4.12s/Twitter friendship]"
     ]
    },
    {
     "name": "stdout",
     "output_type": "stream",
     "text": [
      "'Loaded 61561 friends dictionary'\n",
      "tweepy.TweepError Not authorized.  from:  0\n"
     ]
    },
    {
     "name": "stderr",
     "output_type": "stream",
     "text": [
      " 21%|██▏       | 21.7k/102k [31:00:11<78:01:58, 3.42s/Twitter friendship]"
     ]
    },
    {
     "name": "stdout",
     "output_type": "stream",
     "text": [
      "'Loaded 61578 friends dictionary'\n",
      "tweepy.TweepError Not authorized.  from:  2\n"
     ]
    },
    {
     "name": "stderr",
     "output_type": "stream",
     "text": [
      " 21%|██▏       | 21.7k/102k [31:01:09<77:56:18, 3.42s/Twitter friendship]"
     ]
    },
    {
     "name": "stdout",
     "output_type": "stream",
     "text": [
      "'Loaded 61595 friends dictionary'\n"
     ]
    },
    {
     "name": "stderr",
     "output_type": "stream",
     "text": [
      " 21%|██▏       | 21.7k/102k [31:02:12<79:57:13, 3.51s/Twitter friendship]"
     ]
    },
    {
     "name": "stdout",
     "output_type": "stream",
     "text": [
      "'Loaded 61612 friends dictionary'\n"
     ]
    },
    {
     "name": "stderr",
     "output_type": "stream",
     "text": [
      " 21%|██▏       | 21.8k/102k [31:02:49<70:52:30, 3.11s/Twitter friendship]"
     ]
    },
    {
     "name": "stdout",
     "output_type": "stream",
     "text": [
      "'Loaded 61629 friends dictionary'\n"
     ]
    },
    {
     "name": "stderr",
     "output_type": "stream",
     "text": [
      " 21%|██▏       | 21.8k/102k [31:03:47<72:44:45, 3.19s/Twitter friendship]"
     ]
    },
    {
     "name": "stdout",
     "output_type": "stream",
     "text": [
      "'Loaded 61646 friends dictionary'\n"
     ]
    },
    {
     "name": "stderr",
     "output_type": "stream",
     "text": [
      " 21%|██▏       | 21.8k/102k [31:04:53<77:30:22, 3.40s/Twitter friendship]"
     ]
    },
    {
     "name": "stdout",
     "output_type": "stream",
     "text": [
      "'Loaded 61663 friends dictionary'\n"
     ]
    },
    {
     "name": "stderr",
     "output_type": "stream",
     "text": [
      " 21%|██▏       | 21.8k/102k [31:05:29<69:00:31, 3.03s/Twitter friendship]"
     ]
    },
    {
     "name": "stdout",
     "output_type": "stream",
     "text": [
      "'Loaded 61680 friends dictionary'\n",
      "tweepy.TweepError Not authorized.  from:  8\n"
     ]
    },
    {
     "name": "stderr",
     "output_type": "stream",
     "text": [
      " 21%|██▏       | 21.8k/102k [31:06:27<71:32:10, 3.14s/Twitter friendship]"
     ]
    },
    {
     "name": "stdout",
     "output_type": "stream",
     "text": [
      "'Loaded 61697 friends dictionary'\n",
      "tweepy.TweepError [{'code': 34, 'message': 'Sorry, that page does not exist.'}]  from:  2\n",
      "tweepy.TweepError Not authorized.  from:  6\n"
     ]
    },
    {
     "name": "stderr",
     "output_type": "stream",
     "text": [
      "Rate limit reached. Sleeping for: 217\n",
      " 21%|██▏       | 21.8k/102k [31:11:12<164:26:07, 7.23s/Twitter friendship]"
     ]
    },
    {
     "name": "stdout",
     "output_type": "stream",
     "text": [
      "'Loaded 61714 friends dictionary'\n",
      "tweepy.TweepError Not authorized.  from:  8\n",
      "tweepy.TweepError Not authorized.  from:  15\n"
     ]
    },
    {
     "name": "stderr",
     "output_type": "stream",
     "text": [
      " 21%|██▏       | 21.9k/102k [31:11:53<131:18:30, 5.77s/Twitter friendship]"
     ]
    },
    {
     "name": "stdout",
     "output_type": "stream",
     "text": [
      "'Loaded 61731 friends dictionary'\n"
     ]
    },
    {
     "name": "stderr",
     "output_type": "stream",
     "text": [
      " 21%|██▏       | 21.9k/102k [31:12:52<115:35:44, 5.08s/Twitter friendship]"
     ]
    },
    {
     "name": "stdout",
     "output_type": "stream",
     "text": [
      "'Loaded 61748 friends dictionary'\n"
     ]
    },
    {
     "name": "stderr",
     "output_type": "stream",
     "text": [
      " 21%|██▏       | 21.9k/102k [31:13:53<105:42:14, 4.65s/Twitter friendship]"
     ]
    },
    {
     "name": "stdout",
     "output_type": "stream",
     "text": [
      "'Loaded 61765 friends dictionary'\n"
     ]
    },
    {
     "name": "stderr",
     "output_type": "stream",
     "text": [
      " 22%|██▏       | 21.9k/102k [31:14:30<88:40:29, 3.90s/Twitter friendship] "
     ]
    },
    {
     "name": "stdout",
     "output_type": "stream",
     "text": [
      "'Loaded 61782 friends dictionary'\n",
      "tweepy.TweepError [{'code': 34, 'message': 'Sorry, that page does not exist.'}]  from:  3\n"
     ]
    },
    {
     "name": "stderr",
     "output_type": "stream",
     "text": [
      " 22%|██▏       | 21.9k/102k [31:15:27<85:07:03, 3.74s/Twitter friendship]"
     ]
    },
    {
     "name": "stdout",
     "output_type": "stream",
     "text": [
      "'Loaded 61799 friends dictionary'\n"
     ]
    },
    {
     "name": "stderr",
     "output_type": "stream",
     "text": [
      " 22%|██▏       | 21.9k/102k [31:16:28<83:40:19, 3.68s/Twitter friendship]"
     ]
    },
    {
     "name": "stdout",
     "output_type": "stream",
     "text": [
      "'Loaded 61816 friends dictionary'\n"
     ]
    },
    {
     "name": "stderr",
     "output_type": "stream",
     "text": [
      " 22%|██▏       | 22.0k/102k [31:17:02<72:27:59, 3.19s/Twitter friendship]"
     ]
    },
    {
     "name": "stdout",
     "output_type": "stream",
     "text": [
      "'Loaded 61833 friends dictionary'\n"
     ]
    },
    {
     "name": "stderr",
     "output_type": "stream",
     "text": [
      " 22%|██▏       | 22.0k/102k [31:17:58<72:54:05, 3.21s/Twitter friendship]"
     ]
    },
    {
     "name": "stdout",
     "output_type": "stream",
     "text": [
      "'Loaded 61850 friends dictionary'\n",
      "tweepy.TweepError Not authorized.  from:  11\n"
     ]
    },
    {
     "name": "stderr",
     "output_type": "stream",
     "text": [
      " 22%|██▏       | 22.0k/102k [31:18:59<75:32:00, 3.33s/Twitter friendship]"
     ]
    },
    {
     "name": "stdout",
     "output_type": "stream",
     "text": [
      "'Loaded 61867 friends dictionary'\n"
     ]
    },
    {
     "name": "stderr",
     "output_type": "stream",
     "text": [
      " 22%|██▏       | 22.0k/102k [31:19:34<67:02:08, 2.95s/Twitter friendship]"
     ]
    },
    {
     "name": "stdout",
     "output_type": "stream",
     "text": [
      "'Loaded 61884 friends dictionary'\n"
     ]
    },
    {
     "name": "stderr",
     "output_type": "stream",
     "text": [
      "Rate limit reached. Sleeping for: 382\n",
      " 22%|██▏       | 22.0k/102k [31:26:57<224:33:38, 9.89s/Twitter friendship]"
     ]
    },
    {
     "name": "stdout",
     "output_type": "stream",
     "text": [
      "'Loaded 61901 friends dictionary'\n"
     ]
    },
    {
     "name": "stderr",
     "output_type": "stream",
     "text": [
      " 22%|██▏       | 22.0k/102k [31:28:02<183:06:02, 8.07s/Twitter friendship]"
     ]
    },
    {
     "name": "stdout",
     "output_type": "stream",
     "text": [
      "'Loaded 61918 friends dictionary'\n"
     ]
    },
    {
     "name": "stderr",
     "output_type": "stream",
     "text": [
      " 22%|██▏       | 22.1k/102k [31:28:38<142:17:32, 6.27s/Twitter friendship]"
     ]
    },
    {
     "name": "stdout",
     "output_type": "stream",
     "text": [
      "'Loaded 61935 friends dictionary'\n",
      "tweepy.TweepError Not authorized.  from:  1\n"
     ]
    },
    {
     "name": "stderr",
     "output_type": "stream",
     "text": [
      " 22%|██▏       | 22.1k/102k [31:29:33<121:42:14, 5.36s/Twitter friendship]"
     ]
    },
    {
     "name": "stdout",
     "output_type": "stream",
     "text": [
      "'Loaded 61952 friends dictionary'\n"
     ]
    },
    {
     "name": "stderr",
     "output_type": "stream",
     "text": [
      " 22%|██▏       | 22.1k/102k [31:30:33<109:10:54, 4.81s/Twitter friendship]"
     ]
    },
    {
     "name": "stdout",
     "output_type": "stream",
     "text": [
      "'Loaded 61969 friends dictionary'\n",
      "tweepy.TweepError Not authorized.  from:  2\n",
      "tweepy.TweepError Not authorized.  from:  8\n"
     ]
    },
    {
     "name": "stderr",
     "output_type": "stream",
     "text": [
      " 22%|██▏       | 22.1k/102k [31:31:08<90:30:55, 3.99s/Twitter friendship] "
     ]
    },
    {
     "name": "stdout",
     "output_type": "stream",
     "text": [
      "'Loaded 61986 friends dictionary'\n"
     ]
    },
    {
     "name": "stderr",
     "output_type": "stream",
     "text": [
      " 22%|██▏       | 22.1k/102k [31:31:50<80:10:18, 3.54s/Twitter friendship]"
     ]
    },
    {
     "name": "stdout",
     "output_type": "stream",
     "text": [
      "'Loaded 62003 friends dictionary'\n",
      "tweepy.TweepError [{'code': 34, 'message': 'Sorry, that page does not exist.'}]  from:  5\n"
     ]
    },
    {
     "name": "stderr",
     "output_type": "stream",
     "text": [
      " 22%|██▏       | 22.1k/102k [31:32:51<80:21:02, 3.54s/Twitter friendship]"
     ]
    },
    {
     "name": "stdout",
     "output_type": "stream",
     "text": [
      "'Loaded 62020 friends dictionary'\n",
      "tweepy.TweepError Not authorized.  from:  13\n"
     ]
    },
    {
     "name": "stderr",
     "output_type": "stream",
     "text": [
      " 22%|██▏       | 22.2k/102k [31:33:31<72:21:45, 3.19s/Twitter friendship]"
     ]
    },
    {
     "name": "stdout",
     "output_type": "stream",
     "text": [
      "'Loaded 62037 friends dictionary'\n"
     ]
    },
    {
     "name": "stderr",
     "output_type": "stream",
     "text": [
      " 22%|██▏       | 22.2k/102k [31:34:10<66:18:40, 2.93s/Twitter friendship]"
     ]
    },
    {
     "name": "stdout",
     "output_type": "stream",
     "text": [
      "'Loaded 62054 friends dictionary'\n"
     ]
    },
    {
     "name": "stderr",
     "output_type": "stream",
     "text": [
      " 22%|██▏       | 22.2k/102k [31:35:09<70:05:53, 3.09s/Twitter friendship]"
     ]
    },
    {
     "name": "stdout",
     "output_type": "stream",
     "text": [
      "'Loaded 62071 friends dictionary'\n"
     ]
    },
    {
     "name": "stderr",
     "output_type": "stream",
     "text": [
      " 22%|██▏       | 22.2k/102k [31:35:46<63:49:39, 2.82s/Twitter friendship]"
     ]
    },
    {
     "name": "stdout",
     "output_type": "stream",
     "text": [
      "'Loaded 62088 friends dictionary'\n",
      "tweepy.TweepError Not authorized.  from:  12\n"
     ]
    },
    {
     "name": "stderr",
     "output_type": "stream",
     "text": [
      " 22%|██▏       | 22.2k/102k [31:36:27<60:56:39, 2.69s/Twitter friendship]"
     ]
    },
    {
     "name": "stdout",
     "output_type": "stream",
     "text": [
      "'Loaded 62105 friends dictionary'\n",
      "tweepy.TweepError Not authorized.  from:  5\n"
     ]
    },
    {
     "name": "stderr",
     "output_type": "stream",
     "text": [
      " 22%|██▏       | 22.2k/102k [31:37:25<65:50:40, 2.91s/Twitter friendship]"
     ]
    },
    {
     "name": "stdout",
     "output_type": "stream",
     "text": [
      "'Loaded 62122 friends dictionary'\n"
     ]
    },
    {
     "name": "stderr",
     "output_type": "stream",
     "text": [
      "Rate limit reached. Sleeping for: 209\n",
      " 22%|██▏       | 22.3k/102k [31:42:02<156:37:36, 6.92s/Twitter friendship]"
     ]
    },
    {
     "name": "stdout",
     "output_type": "stream",
     "text": [
      "'Loaded 62139 friends dictionary'\n"
     ]
    },
    {
     "name": "stderr",
     "output_type": "stream",
     "text": [
      " 22%|██▏       | 22.3k/102k [31:42:40<124:54:12, 5.52s/Twitter friendship]"
     ]
    },
    {
     "name": "stdout",
     "output_type": "stream",
     "text": [
      "'Loaded 62156 friends dictionary'\n"
     ]
    },
    {
     "name": "stderr",
     "output_type": "stream",
     "text": [
      " 22%|██▏       | 22.3k/102k [31:43:38<110:31:53, 4.88s/Twitter friendship]"
     ]
    },
    {
     "name": "stdout",
     "output_type": "stream",
     "text": [
      "'Loaded 62173 friends dictionary'\n"
     ]
    },
    {
     "name": "stderr",
     "output_type": "stream",
     "text": [
      " 22%|██▏       | 22.3k/102k [31:44:41<102:30:09, 4.53s/Twitter friendship]"
     ]
    },
    {
     "name": "stdout",
     "output_type": "stream",
     "text": [
      "tweepy.TweepError Not authorized.  from:  16\n",
      "'Loaded 62190 friends dictionary'\n",
      "tweepy.TweepError Not authorized.  from:  13\n"
     ]
    },
    {
     "name": "stderr",
     "output_type": "stream",
     "text": [
      " 22%|██▏       | 22.3k/102k [31:45:17<86:14:58, 3.81s/Twitter friendship] "
     ]
    },
    {
     "name": "stdout",
     "output_type": "stream",
     "text": [
      "'Loaded 62207 friends dictionary'\n"
     ]
    },
    {
     "name": "stderr",
     "output_type": "stream",
     "text": [
      " 22%|██▏       | 22.3k/102k [31:46:17<84:03:47, 3.72s/Twitter friendship]"
     ]
    },
    {
     "name": "stdout",
     "output_type": "stream",
     "text": [
      "tweepy.TweepError Not authorized.  from:  16\n",
      "'Loaded 62224 friends dictionary'\n"
     ]
    },
    {
     "name": "stderr",
     "output_type": "stream",
     "text": [
      " 22%|██▏       | 22.4k/102k [31:47:22<84:57:33, 3.76s/Twitter friendship]"
     ]
    },
    {
     "name": "stdout",
     "output_type": "stream",
     "text": [
      "'Loaded 62241 friends dictionary'\n"
     ]
    },
    {
     "name": "stderr",
     "output_type": "stream",
     "text": [
      " 22%|██▏       | 22.4k/102k [31:48:02<75:13:37, 3.33s/Twitter friendship]"
     ]
    },
    {
     "name": "stdout",
     "output_type": "stream",
     "text": [
      "'Loaded 62258 friends dictionary'\n"
     ]
    },
    {
     "name": "stderr",
     "output_type": "stream",
     "text": [
      " 22%|██▏       | 22.4k/102k [31:48:58<75:00:41, 3.32s/Twitter friendship]"
     ]
    },
    {
     "name": "stdout",
     "output_type": "stream",
     "text": [
      "'Loaded 62275 friends dictionary'\n",
      "tweepy.TweepError Not authorized.  from:  2\n"
     ]
    },
    {
     "name": "stderr",
     "output_type": "stream",
     "text": [
      " 22%|██▏       | 22.4k/102k [31:50:01<77:53:15, 3.45s/Twitter friendship]"
     ]
    },
    {
     "name": "stdout",
     "output_type": "stream",
     "text": [
      "'Loaded 62292 friends dictionary'\n"
     ]
    },
    {
     "name": "stderr",
     "output_type": "stream",
     "text": [
      " 22%|██▏       | 22.4k/102k [31:50:36<68:22:11, 3.03s/Twitter friendship]"
     ]
    },
    {
     "name": "stdout",
     "output_type": "stream",
     "text": [
      "'Loaded 62309 friends dictionary'\n"
     ]
    },
    {
     "name": "stderr",
     "output_type": "stream",
     "text": [
      " 22%|██▏       | 22.4k/102k [31:51:30<69:24:44, 3.07s/Twitter friendship]"
     ]
    },
    {
     "name": "stdout",
     "output_type": "stream",
     "text": [
      "tweepy.TweepError Not authorized.  from:  16\n",
      "'Loaded 62326 friends dictionary'\n"
     ]
    },
    {
     "name": "stderr",
     "output_type": "stream",
     "text": [
      "Rate limit reached. Sleeping for: 271\n",
      " 22%|██▏       | 22.5k/102k [31:57:08<183:07:07, 8.11s/Twitter friendship]"
     ]
    },
    {
     "name": "stdout",
     "output_type": "stream",
     "text": [
      "'Loaded 62343 friends dictionary'\n"
     ]
    },
    {
     "name": "stderr",
     "output_type": "stream",
     "text": [
      "Rate limit reached. Sleeping for: 206\n",
      " 22%|██▏       | 22.5k/102k [32:01:21<228:48:34, 10.1s/Twitter friendship]"
     ]
    },
    {
     "name": "stdout",
     "output_type": "stream",
     "text": [
      "'Loaded 62360 friends dictionary'\n",
      "tweepy.TweepError Not authorized.  from:  2\n"
     ]
    },
    {
     "name": "stderr",
     "output_type": "stream",
     "text": [
      " 22%|██▏       | 22.5k/102k [32:02:08<178:53:53, 7.93s/Twitter friendship]"
     ]
    },
    {
     "name": "stdout",
     "output_type": "stream",
     "text": [
      "'Loaded 62377 friends dictionary'\n"
     ]
    },
    {
     "name": "stderr",
     "output_type": "stream",
     "text": [
      " 22%|██▏       | 22.5k/102k [32:03:08<149:05:31, 6.61s/Twitter friendship]"
     ]
    },
    {
     "name": "stdout",
     "output_type": "stream",
     "text": [
      "'Loaded 62394 friends dictionary'\n"
     ]
    },
    {
     "name": "stderr",
     "output_type": "stream",
     "text": [
      " 22%|██▏       | 22.5k/102k [32:03:43<118:32:05, 5.25s/Twitter friendship]"
     ]
    },
    {
     "name": "stdout",
     "output_type": "stream",
     "text": [
      "'Loaded 62411 friends dictionary'\n"
     ]
    },
    {
     "name": "stderr",
     "output_type": "stream",
     "text": [
      " 22%|██▏       | 22.5k/102k [32:04:22<98:31:26, 4.37s/Twitter friendship] "
     ]
    },
    {
     "name": "stdout",
     "output_type": "stream",
     "text": [
      "'Loaded 62428 friends dictionary'\n",
      "tweepy.TweepError Not authorized.  from:  12\n"
     ]
    },
    {
     "name": "stderr",
     "output_type": "stream",
     "text": [
      " 22%|██▏       | 22.6k/102k [32:05:21<92:27:07, 4.10s/Twitter friendship]"
     ]
    },
    {
     "name": "stdout",
     "output_type": "stream",
     "text": [
      "'Loaded 62445 friends dictionary'\n"
     ]
    },
    {
     "name": "stderr",
     "output_type": "stream",
     "text": [
      " 22%|██▏       | 22.6k/102k [32:06:04<81:37:05, 3.62s/Twitter friendship]"
     ]
    },
    {
     "name": "stdout",
     "output_type": "stream",
     "text": [
      "tweepy.TweepError [{'code': 34, 'message': 'Sorry, that page does not exist.'}]  from:  16\n",
      "'Loaded 62462 friends dictionary'\n"
     ]
    },
    {
     "name": "stderr",
     "output_type": "stream",
     "text": [
      " 22%|██▏       | 22.6k/102k [32:06:35<69:19:22, 3.07s/Twitter friendship]"
     ]
    },
    {
     "name": "stdout",
     "output_type": "stream",
     "text": [
      "'Loaded 62479 friends dictionary'\n"
     ]
    },
    {
     "name": "stderr",
     "output_type": "stream",
     "text": [
      " 22%|██▏       | 22.6k/102k [32:07:34<72:03:01, 3.20s/Twitter friendship]"
     ]
    },
    {
     "name": "stdout",
     "output_type": "stream",
     "text": [
      "'Loaded 62496 friends dictionary'\n"
     ]
    },
    {
     "name": "stderr",
     "output_type": "stream",
     "text": [
      " 22%|██▏       | 22.6k/102k [32:08:37<75:32:41, 3.35s/Twitter friendship]"
     ]
    },
    {
     "name": "stdout",
     "output_type": "stream",
     "text": [
      "'Loaded 62513 friends dictionary'\n"
     ]
    },
    {
     "name": "stderr",
     "output_type": "stream",
     "text": [
      "Rate limit reached. Sleeping for: 174\n",
      " 22%|██▏       | 22.6k/102k [32:12:12<138:11:07, 6.13s/Twitter friendship]"
     ]
    },
    {
     "name": "stdout",
     "output_type": "stream",
     "text": [
      "'Loaded 62530 friends dictionary'\n",
      "tweepy.TweepError Not authorized.  from:  5\n"
     ]
    },
    {
     "name": "stderr",
     "output_type": "stream",
     "text": [
      " 22%|██▏       | 22.7k/102k [32:13:09<119:42:18, 5.31s/Twitter friendship]"
     ]
    },
    {
     "name": "stdout",
     "output_type": "stream",
     "text": [
      "'Loaded 62547 friends dictionary'\n",
      "tweepy.TweepError [{'code': 34, 'message': 'Sorry, that page does not exist.'}]  from:  6\n"
     ]
    },
    {
     "name": "stderr",
     "output_type": "stream",
     "text": [
      " 22%|██▏       | 22.7k/102k [32:14:12<108:46:35, 4.83s/Twitter friendship]"
     ]
    },
    {
     "name": "stdout",
     "output_type": "stream",
     "text": [
      "'Loaded 62564 friends dictionary'\n"
     ]
    },
    {
     "name": "stderr",
     "output_type": "stream",
     "text": [
      " 22%|██▏       | 22.7k/102k [32:14:48<90:15:32, 4.01s/Twitter friendship] "
     ]
    },
    {
     "name": "stdout",
     "output_type": "stream",
     "text": [
      "'Loaded 62581 friends dictionary'\n"
     ]
    },
    {
     "name": "stderr",
     "output_type": "stream",
     "text": [
      " 22%|██▏       | 22.7k/102k [32:15:46<86:25:08, 3.84s/Twitter friendship]"
     ]
    },
    {
     "name": "stdout",
     "output_type": "stream",
     "text": [
      "'Loaded 62598 friends dictionary'\n"
     ]
    },
    {
     "name": "stderr",
     "output_type": "stream",
     "text": [
      " 22%|██▏       | 22.7k/102k [32:16:49<85:11:39, 3.79s/Twitter friendship]"
     ]
    },
    {
     "name": "stdout",
     "output_type": "stream",
     "text": [
      "'Loaded 62615 friends dictionary'\n",
      "tweepy.TweepError Not authorized.  from:  4\n"
     ]
    },
    {
     "name": "stderr",
     "output_type": "stream",
     "text": [
      " 22%|██▏       | 22.7k/102k [32:17:26<74:28:57, 3.31s/Twitter friendship]"
     ]
    },
    {
     "name": "stdout",
     "output_type": "stream",
     "text": [
      "'Loaded 62632 friends dictionary'\n"
     ]
    },
    {
     "name": "stderr",
     "output_type": "stream",
     "text": [
      " 22%|██▏       | 22.8k/102k [32:18:21<74:08:16, 3.30s/Twitter friendship]"
     ]
    },
    {
     "name": "stdout",
     "output_type": "stream",
     "text": [
      "'Loaded 62649 friends dictionary'\n"
     ]
    },
    {
     "name": "stderr",
     "output_type": "stream",
     "text": [
      " 22%|██▏       | 22.8k/102k [32:19:22<76:01:39, 3.38s/Twitter friendship]"
     ]
    },
    {
     "name": "stdout",
     "output_type": "stream",
     "text": [
      "'Loaded 62666 friends dictionary'\n"
     ]
    },
    {
     "name": "stderr",
     "output_type": "stream",
     "text": [
      " 22%|██▏       | 22.8k/102k [32:19:57<67:11:14, 2.99s/Twitter friendship]"
     ]
    },
    {
     "name": "stdout",
     "output_type": "stream",
     "text": [
      "'Loaded 62683 friends dictionary'\n"
     ]
    },
    {
     "name": "stderr",
     "output_type": "stream",
     "text": [
      " 22%|██▏       | 22.8k/102k [32:20:40<63:52:42, 2.84s/Twitter friendship]"
     ]
    },
    {
     "name": "stdout",
     "output_type": "stream",
     "text": [
      "'Loaded 62700 friends dictionary'\n"
     ]
    },
    {
     "name": "stderr",
     "output_type": "stream",
     "text": [
      "Rate limit reached. Sleeping for: 330\n",
      " 22%|██▏       | 22.8k/102k [32:27:17<202:09:38, 8.99s/Twitter friendship]"
     ]
    },
    {
     "name": "stdout",
     "output_type": "stream",
     "text": [
      "'Loaded 62717 friends dictionary'\n"
     ]
    },
    {
     "name": "stderr",
     "output_type": "stream",
     "text": [
      " 22%|██▏       | 22.8k/102k [32:27:54<156:22:44, 6.96s/Twitter friendship]"
     ]
    },
    {
     "name": "stdout",
     "output_type": "stream",
     "text": [
      "'Loaded 62734 friends dictionary'\n"
     ]
    },
    {
     "name": "stderr",
     "output_type": "stream",
     "text": [
      " 22%|██▏       | 22.9k/102k [32:28:35<125:25:31, 5.58s/Twitter friendship]"
     ]
    },
    {
     "name": "stdout",
     "output_type": "stream",
     "text": [
      "'Loaded 62751 friends dictionary'\n"
     ]
    },
    {
     "name": "stderr",
     "output_type": "stream",
     "text": [
      " 22%|██▏       | 22.9k/102k [32:29:35<111:49:49, 4.98s/Twitter friendship]"
     ]
    },
    {
     "name": "stdout",
     "output_type": "stream",
     "text": [
      "'Loaded 62768 friends dictionary'\n",
      "tweepy.TweepError Not authorized.  from:  10\n"
     ]
    },
    {
     "name": "stderr",
     "output_type": "stream",
     "text": [
      " 22%|██▏       | 22.9k/102k [32:30:39<103:34:47, 4.61s/Twitter friendship]"
     ]
    },
    {
     "name": "stdout",
     "output_type": "stream",
     "text": [
      "'Loaded 62785 friends dictionary'\n",
      "tweepy.TweepError Not authorized.  from:  9\n"
     ]
    },
    {
     "name": "stderr",
     "output_type": "stream",
     "text": [
      " 22%|██▏       | 22.9k/102k [32:31:15<86:44:18, 3.86s/Twitter friendship] "
     ]
    },
    {
     "name": "stdout",
     "output_type": "stream",
     "text": [
      "'Loaded 62802 friends dictionary'\n"
     ]
    },
    {
     "name": "stderr",
     "output_type": "stream",
     "text": [
      " 23%|██▎       | 22.9k/102k [32:32:15<84:15:55, 3.75s/Twitter friendship]"
     ]
    },
    {
     "name": "stdout",
     "output_type": "stream",
     "text": [
      "'Loaded 62819 friends dictionary'\n"
     ]
    },
    {
     "name": "stderr",
     "output_type": "stream",
     "text": [
      " 23%|██▎       | 22.9k/102k [32:33:18<84:09:17, 3.75s/Twitter friendship]"
     ]
    },
    {
     "name": "stdout",
     "output_type": "stream",
     "text": [
      "'Loaded 62836 friends dictionary'\n"
     ]
    },
    {
     "name": "stderr",
     "output_type": "stream",
     "text": [
      " 23%|██▎       | 23.0k/102k [32:33:53<72:48:35, 3.24s/Twitter friendship]"
     ]
    },
    {
     "name": "stdout",
     "output_type": "stream",
     "text": [
      "'Loaded 62853 friends dictionary'\n"
     ]
    },
    {
     "name": "stderr",
     "output_type": "stream",
     "text": [
      " 23%|██▎       | 23.0k/102k [32:34:52<73:59:12, 3.30s/Twitter friendship]"
     ]
    },
    {
     "name": "stdout",
     "output_type": "stream",
     "text": [
      "'Loaded 62870 friends dictionary'\n"
     ]
    },
    {
     "name": "stderr",
     "output_type": "stream",
     "text": [
      " 23%|██▎       | 23.0k/102k [32:35:54<76:28:29, 3.41s/Twitter friendship]"
     ]
    },
    {
     "name": "stdout",
     "output_type": "stream",
     "text": [
      "'Loaded 62887 friends dictionary'\n"
     ]
    },
    {
     "name": "stderr",
     "output_type": "stream",
     "text": [
      " 23%|██▎       | 23.0k/102k [32:36:30<67:43:56, 3.02s/Twitter friendship]"
     ]
    },
    {
     "name": "stdout",
     "output_type": "stream",
     "text": [
      "'Loaded 62904 friends dictionary'\n"
     ]
    },
    {
     "name": "stderr",
     "output_type": "stream",
     "text": [
      " 23%|██▎       | 23.0k/102k [32:37:25<69:04:13, 3.08s/Twitter friendship]"
     ]
    },
    {
     "name": "stdout",
     "output_type": "stream",
     "text": [
      "'Loaded 62921 friends dictionary'\n",
      "tweepy.TweepError Not authorized.  from:  8\n",
      "tweepy.TweepError Not authorized.  from:  13\n"
     ]
    },
    {
     "name": "stderr",
     "output_type": "stream",
     "text": [
      "Rate limit reached. Sleeping for: 230\n",
      " 23%|██▎       | 23.0k/102k [32:42:21<165:27:11, 7.38s/Twitter friendship]"
     ]
    },
    {
     "name": "stdout",
     "output_type": "stream",
     "text": [
      "'Loaded 62938 friends dictionary'\n"
     ]
    },
    {
     "name": "stderr",
     "output_type": "stream",
     "text": [
      " 23%|██▎       | 23.1k/102k [32:42:57<130:19:44, 5.82s/Twitter friendship]"
     ]
    },
    {
     "name": "stdout",
     "output_type": "stream",
     "text": [
      "'Loaded 62955 friends dictionary'\n"
     ]
    },
    {
     "name": "stderr",
     "output_type": "stream",
     "text": [
      " 23%|██▎       | 23.1k/102k [32:43:36<106:36:50, 4.76s/Twitter friendship]"
     ]
    },
    {
     "name": "stdout",
     "output_type": "stream",
     "text": [
      "'Loaded 62972 friends dictionary'\n"
     ]
    },
    {
     "name": "stderr",
     "output_type": "stream",
     "text": [
      " 23%|██▎       | 23.1k/102k [32:44:37<98:37:47, 4.40s/Twitter friendship] "
     ]
    },
    {
     "name": "stdout",
     "output_type": "stream",
     "text": [
      "'Loaded 62989 friends dictionary'\n",
      "tweepy.TweepError Not authorized.  from:  12\n"
     ]
    },
    {
     "name": "stderr",
     "output_type": "stream",
     "text": [
      " 23%|██▎       | 23.1k/102k [32:45:14<83:46:31, 3.74s/Twitter friendship]"
     ]
    },
    {
     "name": "stdout",
     "output_type": "stream",
     "text": [
      "'Loaded 63006 friends dictionary'\n",
      "tweepy.TweepError [{'code': 34, 'message': 'Sorry, that page does not exist.'}]  from:  1\n"
     ]
    },
    {
     "name": "stderr",
     "output_type": "stream",
     "text": [
      " 23%|██▎       | 23.1k/102k [32:45:56<74:54:31, 3.35s/Twitter friendship]"
     ]
    },
    {
     "name": "stdout",
     "output_type": "stream",
     "text": [
      "'Loaded 63023 friends dictionary'\n"
     ]
    },
    {
     "name": "stderr",
     "output_type": "stream",
     "text": [
      " 23%|██▎       | 23.1k/102k [32:46:54<75:30:23, 3.37s/Twitter friendship]"
     ]
    },
    {
     "name": "stdout",
     "output_type": "stream",
     "text": [
      "'Loaded 63040 friends dictionary'\n"
     ]
    },
    {
     "name": "stderr",
     "output_type": "stream",
     "text": [
      " 23%|██▎       | 23.2k/102k [32:47:58<78:03:45, 3.49s/Twitter friendship]"
     ]
    },
    {
     "name": "stdout",
     "output_type": "stream",
     "text": [
      "'Loaded 63057 friends dictionary'\n"
     ]
    },
    {
     "name": "stderr",
     "output_type": "stream",
     "text": [
      " 23%|██▎       | 23.2k/102k [32:48:34<68:45:44, 3.07s/Twitter friendship]"
     ]
    },
    {
     "name": "stdout",
     "output_type": "stream",
     "text": [
      "'Loaded 63074 friends dictionary'\n"
     ]
    },
    {
     "name": "stderr",
     "output_type": "stream",
     "text": [
      " 23%|██▎       | 23.2k/102k [32:49:31<70:50:52, 3.17s/Twitter friendship]"
     ]
    },
    {
     "name": "stdout",
     "output_type": "stream",
     "text": [
      "'Loaded 63091 friends dictionary'\n"
     ]
    },
    {
     "name": "stderr",
     "output_type": "stream",
     "text": [
      " 23%|██▎       | 23.2k/102k [32:50:34<74:09:58, 3.32s/Twitter friendship]"
     ]
    },
    {
     "name": "stdout",
     "output_type": "stream",
     "text": [
      "'Loaded 63108 friends dictionary'\n"
     ]
    },
    {
     "name": "stderr",
     "output_type": "stream",
     "text": [
      " 23%|██▎       | 23.2k/102k [32:51:10<66:19:05, 2.97s/Twitter friendship]"
     ]
    },
    {
     "name": "stdout",
     "output_type": "stream",
     "text": [
      "tweepy.TweepError Not authorized.  from:  16\n",
      "'Loaded 63125 friends dictionary'\n",
      "tweepy.TweepError Not authorized.  from:  12\n"
     ]
    },
    {
     "name": "stderr",
     "output_type": "stream",
     "text": [
      " 23%|██▎       | 23.2k/102k [32:52:07<68:43:03, 3.07s/Twitter friendship]"
     ]
    },
    {
     "name": "stdout",
     "output_type": "stream",
     "text": [
      "'Loaded 63142 friends dictionary'\n"
     ]
    },
    {
     "name": "stderr",
     "output_type": "stream",
     "text": [
      " 23%|██▎       | 23.3k/102k [32:53:06<71:25:31, 3.19s/Twitter friendship]"
     ]
    },
    {
     "name": "stdout",
     "output_type": "stream",
     "text": [
      "'Loaded 63159 friends dictionary'\n"
     ]
    },
    {
     "name": "stderr",
     "output_type": "stream",
     "text": [
      " 23%|██▎       | 23.3k/102k [32:53:41<63:58:49, 2.86s/Twitter friendship]"
     ]
    },
    {
     "name": "stdout",
     "output_type": "stream",
     "text": [
      "'Loaded 63176 friends dictionary'\n"
     ]
    },
    {
     "name": "stderr",
     "output_type": "stream",
     "text": [
      "Rate limit reached. Sleeping for: 172\n",
      " 23%|██▎       | 23.3k/102k [32:57:26<133:31:50, 5.98s/Twitter friendship]"
     ]
    },
    {
     "name": "stdout",
     "output_type": "stream",
     "text": [
      "'Loaded 63193 friends dictionary'\n",
      "tweepy.TweepError Not authorized.  from:  10\n",
      "tweepy.TweepError Not authorized.  from:  11\n"
     ]
    },
    {
     "name": "stderr",
     "output_type": "stream",
     "text": [
      " 23%|██▎       | 23.3k/102k [32:58:32<119:21:25, 5.34s/Twitter friendship]"
     ]
    },
    {
     "name": "stdout",
     "output_type": "stream",
     "text": [
      "'Loaded 63210 friends dictionary'\n"
     ]
    },
    {
     "name": "stderr",
     "output_type": "stream",
     "text": [
      " 23%|██▎       | 23.3k/102k [32:59:10<98:20:16, 4.40s/Twitter friendship] "
     ]
    },
    {
     "name": "stdout",
     "output_type": "stream",
     "text": [
      "'Loaded 63227 friends dictionary'\n",
      "tweepy.TweepError Not authorized.  from:  1\n"
     ]
    },
    {
     "name": "stderr",
     "output_type": "stream",
     "text": [
      " 23%|██▎       | 23.3k/102k [32:59:52<85:40:38, 3.84s/Twitter friendship]"
     ]
    },
    {
     "name": "stdout",
     "output_type": "stream",
     "text": [
      "'Loaded 63244 friends dictionary'\n",
      "tweepy.TweepError Not authorized.  from:  4\n"
     ]
    },
    {
     "name": "stderr",
     "output_type": "stream",
     "text": [
      " 23%|██▎       | 23.4k/102k [33:00:51<83:04:03, 3.72s/Twitter friendship]"
     ]
    },
    {
     "name": "stdout",
     "output_type": "stream",
     "text": [
      "tweepy.TweepError Not authorized.  from:  16\n",
      "'Loaded 63261 friends dictionary'\n",
      "tweepy.TweepError [{'code': 34, 'message': 'Sorry, that page does not exist.'}]  from:  0\n"
     ]
    },
    {
     "name": "stderr",
     "output_type": "stream",
     "text": [
      " 23%|██▎       | 23.4k/102k [33:01:54<82:48:11, 3.71s/Twitter friendship]"
     ]
    },
    {
     "name": "stdout",
     "output_type": "stream",
     "text": [
      "'Loaded 63278 friends dictionary'\n"
     ]
    },
    {
     "name": "stderr",
     "output_type": "stream",
     "text": [
      " 23%|██▎       | 23.4k/102k [33:02:29<71:46:18, 3.22s/Twitter friendship]"
     ]
    },
    {
     "name": "stdout",
     "output_type": "stream",
     "text": [
      "'Loaded 63295 friends dictionary'\n"
     ]
    },
    {
     "name": "stderr",
     "output_type": "stream",
     "text": [
      "Rate limit reached. Sleeping for: 7\n",
      " 23%|██▎       | 23.4k/102k [33:03:39<78:05:22, 3.50s/Twitter friendship]"
     ]
    },
    {
     "name": "stdout",
     "output_type": "stream",
     "text": [
      "'Loaded 63312 friends dictionary'\n"
     ]
    },
    {
     "name": "stderr",
     "output_type": "stream",
     "text": [
      "Rate limit reached. Sleeping for: 564\n",
      " 23%|██▎       | 23.4k/102k [33:14:15<304:52:35, 13.7s/Twitter friendship]"
     ]
    },
    {
     "name": "stdout",
     "output_type": "stream",
     "text": [
      "'Loaded 63329 friends dictionary'\n",
      "tweepy.TweepError Not authorized.  from:  0\n"
     ]
    },
    {
     "name": "stderr",
     "output_type": "stream",
     "text": [
      " 23%|██▎       | 23.4k/102k [33:14:55<229:13:35, 10.3s/Twitter friendship]"
     ]
    },
    {
     "name": "stdout",
     "output_type": "stream",
     "text": [
      "'Loaded 63346 friends dictionary'\n"
     ]
    },
    {
     "name": "stderr",
     "output_type": "stream",
     "text": [
      " 23%|██▎       | 23.5k/102k [33:15:52<182:43:56, 8.19s/Twitter friendship]"
     ]
    },
    {
     "name": "stdout",
     "output_type": "stream",
     "text": [
      "'Loaded 63363 friends dictionary'\n"
     ]
    },
    {
     "name": "stderr",
     "output_type": "stream",
     "text": [
      " 23%|██▎       | 23.5k/102k [33:16:54<152:13:14, 6.83s/Twitter friendship]"
     ]
    },
    {
     "name": "stdout",
     "output_type": "stream",
     "text": [
      "'Loaded 63380 friends dictionary'\n"
     ]
    },
    {
     "name": "stderr",
     "output_type": "stream",
     "text": [
      " 23%|██▎       | 23.5k/102k [33:17:32<121:29:03, 5.45s/Twitter friendship]"
     ]
    },
    {
     "name": "stdout",
     "output_type": "stream",
     "text": [
      "'Loaded 63397 friends dictionary'\n"
     ]
    },
    {
     "name": "stderr",
     "output_type": "stream",
     "text": [
      " 23%|██▎       | 23.5k/102k [33:18:27<106:42:03, 4.79s/Twitter friendship]"
     ]
    },
    {
     "name": "stdout",
     "output_type": "stream",
     "text": [
      "'Loaded 63414 friends dictionary'\n"
     ]
    },
    {
     "name": "stderr",
     "output_type": "stream",
     "text": [
      "Rate limit reached. Sleeping for: 16\n",
      " 23%|██▎       | 23.5k/102k [33:19:48<106:33:33, 4.78s/Twitter friendship]"
     ]
    },
    {
     "name": "stdout",
     "output_type": "stream",
     "text": [
      "'Loaded 63431 friends dictionary'\n",
      "tweepy.TweepError Not authorized.  from:  3\n",
      "tweepy.TweepError Not authorized.  from:  15\n"
     ]
    },
    {
     "name": "stderr",
     "output_type": "stream",
     "text": [
      " 23%|██▎       | 23.5k/102k [33:20:24<88:43:11, 3.98s/Twitter friendship] "
     ]
    },
    {
     "name": "stdout",
     "output_type": "stream",
     "text": [
      "'Loaded 63448 friends dictionary'\n"
     ]
    },
    {
     "name": "stderr",
     "output_type": "stream",
     "text": [
      " 23%|██▎       | 23.6k/102k [33:21:04<77:36:07, 3.48s/Twitter friendship]"
     ]
    },
    {
     "name": "stdout",
     "output_type": "stream",
     "text": [
      "'Loaded 63465 friends dictionary'\n",
      "tweepy.TweepError Not authorized.  from:  9\n"
     ]
    },
    {
     "name": "stderr",
     "output_type": "stream",
     "text": [
      " 23%|██▎       | 23.6k/102k [33:22:05<78:27:14, 3.52s/Twitter friendship]"
     ]
    },
    {
     "name": "stdout",
     "output_type": "stream",
     "text": [
      "'Loaded 63482 friends dictionary'\n"
     ]
    },
    {
     "name": "stderr",
     "output_type": "stream",
     "text": [
      " 23%|██▎       | 23.6k/102k [33:23:09<80:09:42, 3.60s/Twitter friendship]"
     ]
    },
    {
     "name": "stdout",
     "output_type": "stream",
     "text": [
      "'Loaded 63499 friends dictionary'\n"
     ]
    },
    {
     "name": "stderr",
     "output_type": "stream",
     "text": [
      " 23%|██▎       | 23.6k/102k [33:23:46<70:20:52, 3.16s/Twitter friendship]"
     ]
    },
    {
     "name": "stdout",
     "output_type": "stream",
     "text": [
      "'Loaded 63516 friends dictionary'\n"
     ]
    },
    {
     "name": "stderr",
     "output_type": "stream",
     "text": [
      "Rate limit reached. Sleeping for: 271\n",
      " 23%|██▎       | 23.6k/102k [33:29:20<180:42:40, 8.12s/Twitter friendship]"
     ]
    },
    {
     "name": "stdout",
     "output_type": "stream",
     "text": [
      "'Loaded 63533 friends dictionary'\n"
     ]
    },
    {
     "name": "stderr",
     "output_type": "stream",
     "text": [
      " 23%|██▎       | 23.6k/102k [33:30:26<152:16:49, 6.85s/Twitter friendship]"
     ]
    },
    {
     "name": "stdout",
     "output_type": "stream",
     "text": [
      "'Loaded 63550 friends dictionary'\n"
     ]
    },
    {
     "name": "stderr",
     "output_type": "stream",
     "text": [
      " 23%|██▎       | 23.7k/102k [33:31:06<122:01:39, 5.49s/Twitter friendship]"
     ]
    },
    {
     "name": "stdout",
     "output_type": "stream",
     "text": [
      "'Loaded 63567 friends dictionary'\n",
      "tweepy.TweepError Not authorized.  from:  8\n"
     ]
    },
    {
     "name": "stderr",
     "output_type": "stream",
     "text": [
      " 23%|██▎       | 23.7k/102k [33:32:03<107:58:07, 4.86s/Twitter friendship]"
     ]
    },
    {
     "name": "stdout",
     "output_type": "stream",
     "text": [
      "'Loaded 63584 friends dictionary'\n"
     ]
    },
    {
     "name": "stderr",
     "output_type": "stream",
     "text": [
      " 23%|██▎       | 23.7k/102k [33:33:04<99:39:39, 4.48s/Twitter friendship] "
     ]
    },
    {
     "name": "stdout",
     "output_type": "stream",
     "text": [
      "'Loaded 63601 friends dictionary'\n"
     ]
    },
    {
     "name": "stderr",
     "output_type": "stream",
     "text": [
      " 23%|██▎       | 23.7k/102k [33:33:40<83:52:09, 3.77s/Twitter friendship]"
     ]
    },
    {
     "name": "stdout",
     "output_type": "stream",
     "text": [
      "'Loaded 63618 friends dictionary'\n",
      "tweepy.TweepError Not authorized.  from:  2\n"
     ]
    },
    {
     "name": "stderr",
     "output_type": "stream",
     "text": [
      " 23%|██▎       | 23.7k/102k [33:34:26<76:33:31, 3.44s/Twitter friendship]"
     ]
    },
    {
     "name": "stdout",
     "output_type": "stream",
     "text": [
      "'Loaded 63635 friends dictionary'\n"
     ]
    },
    {
     "name": "stderr",
     "output_type": "stream",
     "text": [
      " 23%|██▎       | 23.7k/102k [33:35:26<77:13:30, 3.48s/Twitter friendship]"
     ]
    },
    {
     "name": "stdout",
     "output_type": "stream",
     "text": [
      "'Loaded 63652 friends dictionary'\n"
     ]
    },
    {
     "name": "stderr",
     "output_type": "stream",
     "text": [
      " 23%|██▎       | 23.8k/102k [33:36:02<67:50:55, 3.05s/Twitter friendship]"
     ]
    },
    {
     "name": "stdout",
     "output_type": "stream",
     "text": [
      "'Loaded 63669 friends dictionary'\n"
     ]
    },
    {
     "name": "stderr",
     "output_type": "stream",
     "text": [
      " 23%|██▎       | 23.8k/102k [33:36:39<62:09:49, 2.80s/Twitter friendship]"
     ]
    },
    {
     "name": "stdout",
     "output_type": "stream",
     "text": [
      "'Loaded 63686 friends dictionary'\n",
      "tweepy.TweepError Not authorized.  from:  7\n"
     ]
    },
    {
     "name": "stderr",
     "output_type": "stream",
     "text": [
      " 23%|██▎       | 23.8k/102k [33:37:38<66:42:20, 3.00s/Twitter friendship]"
     ]
    },
    {
     "name": "stdout",
     "output_type": "stream",
     "text": [
      "'Loaded 63703 friends dictionary'\n"
     ]
    },
    {
     "name": "stderr",
     "output_type": "stream",
     "text": [
      " 23%|██▎       | 23.8k/102k [33:38:42<71:33:20, 3.22s/Twitter friendship]"
     ]
    },
    {
     "name": "stdout",
     "output_type": "stream",
     "text": [
      "'Loaded 63720 friends dictionary'\n"
     ]
    },
    {
     "name": "stderr",
     "output_type": "stream",
     "text": [
      "Rate limit reached. Sleeping for: 369\n",
      " 23%|██▎       | 23.8k/102k [33:45:32<210:36:10, 9.49s/Twitter friendship]"
     ]
    },
    {
     "name": "stdout",
     "output_type": "stream",
     "text": [
      "'Loaded 63737 friends dictionary'\n"
     ]
    },
    {
     "name": "stderr",
     "output_type": "stream",
     "text": [
      " 23%|██▎       | 23.8k/102k [33:46:31<170:48:32, 7.70s/Twitter friendship]"
     ]
    },
    {
     "name": "stdout",
     "output_type": "stream",
     "text": [
      "'Loaded 63754 friends dictionary'\n"
     ]
    },
    {
     "name": "stderr",
     "output_type": "stream",
     "text": [
      " 23%|██▎       | 23.9k/102k [33:47:33<143:30:09, 6.47s/Twitter friendship]"
     ]
    },
    {
     "name": "stdout",
     "output_type": "stream",
     "text": [
      "'Loaded 63771 friends dictionary'\n",
      "tweepy.TweepError Not authorized.  from:  3\n"
     ]
    },
    {
     "name": "stderr",
     "output_type": "stream",
     "text": [
      "Rate limit reached. Sleeping for: 797\n",
      "Rate limit reached. Sleeping for: 896\n",
      "Rate limit reached. Sleeping for: 895\n",
      "Rate limit reached. Sleeping for: 896\n",
      " 23%|██▎       | 23.9k/102k [34:46:56<1495:18:10, 67.4s/Twitter friendship]"
     ]
    },
    {
     "name": "stdout",
     "output_type": "stream",
     "text": [
      "'Loaded 63788 friends dictionary'\n"
     ]
    },
    {
     "name": "stderr",
     "output_type": "stream",
     "text": [
      " 23%|██▎       | 23.9k/102k [34:48:02<1072:09:35, 48.3s/Twitter friendship]"
     ]
    },
    {
     "name": "stdout",
     "output_type": "stream",
     "text": [
      "'Loaded 63805 friends dictionary'\n"
     ]
    },
    {
     "name": "stderr",
     "output_type": "stream",
     "text": [
      " 23%|██▎       | 23.9k/102k [34:49:06<775:42:00, 35.0s/Twitter friendship] "
     ]
    },
    {
     "name": "stdout",
     "output_type": "stream",
     "text": [
      "'Loaded 63822 friends dictionary'\n",
      "tweepy.TweepError Not authorized.  from:  5\n",
      "tweepy.TweepError Not authorized.  from:  8\n"
     ]
    },
    {
     "name": "stderr",
     "output_type": "stream",
     "text": [
      " 23%|██▎       | 23.9k/102k [34:49:44<557:38:13, 25.2s/Twitter friendship]"
     ]
    },
    {
     "name": "stdout",
     "output_type": "stream",
     "text": [
      "'Loaded 63839 friends dictionary'\n",
      "tweepy.TweepError Not authorized.  from:  5\n"
     ]
    },
    {
     "name": "stderr",
     "output_type": "stream",
     "text": [
      " 24%|██▎       | 23.9k/102k [34:50:26<406:37:45, 18.3s/Twitter friendship]"
     ]
    },
    {
     "name": "stdout",
     "output_type": "stream",
     "text": [
      "'Loaded 63856 friends dictionary'\n"
     ]
    },
    {
     "name": "stderr",
     "output_type": "stream",
     "text": [
      " 24%|██▎       | 24.0k/102k [34:51:28<308:45:49, 13.9s/Twitter friendship]"
     ]
    },
    {
     "name": "stdout",
     "output_type": "stream",
     "text": [
      "tweepy.TweepError Not authorized.  from:  16\n",
      "'Loaded 63873 friends dictionary'\n",
      "tweepy.TweepError [{'code': 34, 'message': 'Sorry, that page does not exist.'}]  from:  7\n"
     ]
    },
    {
     "name": "stderr",
     "output_type": "stream",
     "text": [
      "Rate limit reached. Sleeping for: 557\n",
      " 24%|██▎       | 24.0k/102k [35:01:57<461:51:42, 20.8s/Twitter friendship]"
     ]
    },
    {
     "name": "stdout",
     "output_type": "stream",
     "text": [
      "'Loaded 63890 friends dictionary'\n"
     ]
    },
    {
     "name": "stderr",
     "output_type": "stream",
     "text": [
      " 24%|██▎       | 24.0k/102k [35:02:34<338:00:03, 15.3s/Twitter friendship]"
     ]
    },
    {
     "name": "stdout",
     "output_type": "stream",
     "text": [
      "'Loaded 63907 friends dictionary'\n",
      "tweepy.TweepError [{'code': 34, 'message': 'Sorry, that page does not exist.'}]  from:  4\n",
      "tweepy.TweepError Not authorized.  from:  7\n"
     ]
    },
    {
     "name": "stderr",
     "output_type": "stream",
     "text": [
      " 24%|██▎       | 24.0k/102k [35:03:34<259:51:11, 11.7s/Twitter friendship]"
     ]
    },
    {
     "name": "stdout",
     "output_type": "stream",
     "text": [
      "'Loaded 63924 friends dictionary'\n"
     ]
    },
    {
     "name": "stderr",
     "output_type": "stream",
     "text": [
      " 24%|██▎       | 24.0k/102k [35:04:40<207:26:57, 9.37s/Twitter friendship]"
     ]
    },
    {
     "name": "stdout",
     "output_type": "stream",
     "text": [
      "'Loaded 63941 friends dictionary'\n",
      "tweepy.TweepError Not authorized.  from:  6\n"
     ]
    },
    {
     "name": "stderr",
     "output_type": "stream",
     "text": [
      " 24%|██▎       | 24.0k/102k [35:05:17<159:53:44, 7.22s/Twitter friendship]"
     ]
    },
    {
     "name": "stdout",
     "output_type": "stream",
     "text": [
      "'Loaded 63958 friends dictionary'\n",
      "tweepy.TweepError Not authorized.  from:  5\n"
     ]
    },
    {
     "name": "stderr",
     "output_type": "stream",
     "text": [
      " 24%|██▎       | 24.1k/102k [35:06:15<134:29:26, 6.08s/Twitter friendship]"
     ]
    },
    {
     "name": "stdout",
     "output_type": "stream",
     "text": [
      "'Loaded 63975 friends dictionary'\n"
     ]
    },
    {
     "name": "stderr",
     "output_type": "stream",
     "text": [
      " 24%|██▎       | 24.1k/102k [35:07:21<119:55:30, 5.42s/Twitter friendship]"
     ]
    },
    {
     "name": "stdout",
     "output_type": "stream",
     "text": [
      "'Loaded 63992 friends dictionary'\n",
      "tweepy.TweepError Not authorized.  from:  9\n",
      "tweepy.TweepError Not authorized.  from:  14\n"
     ]
    },
    {
     "name": "stderr",
     "output_type": "stream",
     "text": [
      " 24%|██▎       | 24.1k/102k [35:07:58<98:24:10, 4.45s/Twitter friendship] "
     ]
    },
    {
     "name": "stdout",
     "output_type": "stream",
     "text": [
      "'Loaded 64009 friends dictionary'\n"
     ]
    },
    {
     "name": "stderr",
     "output_type": "stream",
     "text": [
      " 24%|██▎       | 24.1k/102k [35:08:42<85:52:42, 3.88s/Twitter friendship]"
     ]
    },
    {
     "name": "stdout",
     "output_type": "stream",
     "text": [
      "'Loaded 64026 friends dictionary'\n",
      "tweepy.TweepError [{'code': 34, 'message': 'Sorry, that page does not exist.'}]  from:  9\n",
      "tweepy.TweepError [{'code': 34, 'message': 'Sorry, that page does not exist.'}]  from:  12\n"
     ]
    },
    {
     "name": "stderr",
     "output_type": "stream",
     "text": [
      " 24%|██▎       | 24.1k/102k [35:09:46<85:15:49, 3.86s/Twitter friendship]"
     ]
    },
    {
     "name": "stdout",
     "output_type": "stream",
     "text": [
      "'Loaded 64043 friends dictionary'\n"
     ]
    },
    {
     "name": "stderr",
     "output_type": "stream",
     "text": [
      " 24%|██▎       | 24.1k/102k [35:10:54<86:06:51, 3.90s/Twitter friendship]"
     ]
    },
    {
     "name": "stdout",
     "output_type": "stream",
     "text": [
      "'Loaded 64060 friends dictionary'\n"
     ]
    },
    {
     "name": "stderr",
     "output_type": "stream",
     "text": [
      " 24%|██▎       | 24.2k/102k [35:11:31<74:50:52, 3.39s/Twitter friendship]"
     ]
    },
    {
     "name": "stdout",
     "output_type": "stream",
     "text": [
      "'Loaded 64077 friends dictionary'\n"
     ]
    },
    {
     "name": "stderr",
     "output_type": "stream",
     "text": [
      " 24%|██▎       | 24.2k/102k [35:12:33<76:14:06, 3.45s/Twitter friendship]"
     ]
    },
    {
     "name": "stdout",
     "output_type": "stream",
     "text": [
      "'Loaded 64094 friends dictionary'\n"
     ]
    },
    {
     "name": "stderr",
     "output_type": "stream",
     "text": [
      " 24%|██▎       | 24.2k/102k [35:13:39<79:17:43, 3.59s/Twitter friendship]"
     ]
    },
    {
     "name": "stdout",
     "output_type": "stream",
     "text": [
      "'Loaded 64111 friends dictionary'\n",
      "tweepy.TweepError [{'code': 34, 'message': 'Sorry, that page does not exist.'}]  from:  4\n"
     ]
    },
    {
     "name": "stderr",
     "output_type": "stream",
     "text": [
      "Rate limit reached. Sleeping for: 159\n",
      " 24%|██▍       | 24.2k/102k [35:17:01<134:16:04, 6.08s/Twitter friendship]"
     ]
    },
    {
     "name": "stdout",
     "output_type": "stream",
     "text": [
      "'Loaded 64128 friends dictionary'\n",
      "tweepy.TweepError Not authorized.  from:  11\n"
     ]
    },
    {
     "name": "stderr",
     "output_type": "stream",
     "text": [
      " 24%|██▍       | 24.2k/102k [35:18:04<118:29:15, 5.37s/Twitter friendship]"
     ]
    },
    {
     "name": "stdout",
     "output_type": "stream",
     "text": [
      "'Loaded 64145 friends dictionary'\n"
     ]
    },
    {
     "name": "stderr",
     "output_type": "stream",
     "text": [
      " 24%|██▍       | 24.2k/102k [35:19:08<107:44:55, 4.88s/Twitter friendship]"
     ]
    },
    {
     "name": "stdout",
     "output_type": "stream",
     "text": [
      "'Loaded 64162 friends dictionary'\n"
     ]
    },
    {
     "name": "stderr",
     "output_type": "stream",
     "text": [
      " 24%|██▍       | 24.3k/102k [35:19:47<90:27:53, 4.10s/Twitter friendship] "
     ]
    },
    {
     "name": "stdout",
     "output_type": "stream",
     "text": [
      "'Loaded 64179 friends dictionary'\n"
     ]
    },
    {
     "name": "stderr",
     "output_type": "stream",
     "text": [
      " 24%|██▍       | 24.3k/102k [35:20:30<80:03:53, 3.63s/Twitter friendship]"
     ]
    },
    {
     "name": "stdout",
     "output_type": "stream",
     "text": [
      "'Loaded 64196 friends dictionary'\n"
     ]
    },
    {
     "name": "stderr",
     "output_type": "stream",
     "text": [
      " 24%|██▍       | 24.3k/102k [35:21:38<82:47:35, 3.75s/Twitter friendship]"
     ]
    },
    {
     "name": "stdout",
     "output_type": "stream",
     "text": [
      "'Loaded 64213 friends dictionary'\n"
     ]
    },
    {
     "name": "stderr",
     "output_type": "stream",
     "text": [
      " 24%|██▍       | 24.3k/102k [35:22:43<83:13:23, 3.77s/Twitter friendship]"
     ]
    },
    {
     "name": "stdout",
     "output_type": "stream",
     "text": [
      "'Loaded 64230 friends dictionary'\n"
     ]
    },
    {
     "name": "stderr",
     "output_type": "stream",
     "text": [
      " 24%|██▍       | 24.3k/102k [35:23:20<72:41:51, 3.30s/Twitter friendship]"
     ]
    },
    {
     "name": "stdout",
     "output_type": "stream",
     "text": [
      "'Loaded 64247 friends dictionary'\n"
     ]
    },
    {
     "name": "stderr",
     "output_type": "stream",
     "text": [
      " 24%|██▍       | 24.3k/102k [35:24:20<74:07:59, 3.36s/Twitter friendship]"
     ]
    },
    {
     "name": "stdout",
     "output_type": "stream",
     "text": [
      "'Loaded 64264 friends dictionary'\n"
     ]
    },
    {
     "name": "stderr",
     "output_type": "stream",
     "text": [
      " 24%|██▍       | 24.4k/102k [35:25:25<77:09:04, 3.50s/Twitter friendship]"
     ]
    },
    {
     "name": "stdout",
     "output_type": "stream",
     "text": [
      "'Loaded 64281 friends dictionary'\n",
      "tweepy.TweepError [{'code': 34, 'message': 'Sorry, that page does not exist.'}]  from:  4\n",
      "tweepy.TweepError Not authorized.  from:  7\n"
     ]
    },
    {
     "name": "stderr",
     "output_type": "stream",
     "text": [
      " 24%|██▍       | 24.4k/102k [35:26:01<68:05:45, 3.09s/Twitter friendship]"
     ]
    },
    {
     "name": "stdout",
     "output_type": "stream",
     "text": [
      "'Loaded 64298 friends dictionary'\n"
     ]
    },
    {
     "name": "stderr",
     "output_type": "stream",
     "text": [
      " 24%|██▍       | 24.4k/102k [35:26:44<64:14:11, 2.92s/Twitter friendship]"
     ]
    },
    {
     "name": "stdout",
     "output_type": "stream",
     "text": [
      "'Loaded 64315 friends dictionary'\n"
     ]
    },
    {
     "name": "stderr",
     "output_type": "stream",
     "text": [
      "Rate limit reached. Sleeping for: 382\n"
     ]
    },
    {
     "name": "stdout",
     "output_type": "stream",
     "text": [
      "tweepy.TweepError Not authorized.  from:  13\n"
     ]
    },
    {
     "name": "stderr",
     "output_type": "stream",
     "text": [
      " 24%|██▍       | 24.4k/102k [35:34:13<219:25:21, 9.96s/Twitter friendship]"
     ]
    },
    {
     "name": "stdout",
     "output_type": "stream",
     "text": [
      "'Loaded 64332 friends dictionary'\n"
     ]
    },
    {
     "name": "stderr",
     "output_type": "stream",
     "text": [
      " 24%|██▍       | 24.4k/102k [35:34:58<171:02:59, 7.77s/Twitter friendship]"
     ]
    },
    {
     "name": "stdout",
     "output_type": "stream",
     "text": [
      "'Loaded 64349 friends dictionary'\n",
      "tweepy.TweepError Not authorized.  from:  1\n"
     ]
    },
    {
     "name": "stderr",
     "output_type": "stream",
     "text": [
      " 24%|██▍       | 24.4k/102k [35:35:31<132:38:08, 6.02s/Twitter friendship]"
     ]
    },
    {
     "name": "stdout",
     "output_type": "stream",
     "text": [
      "tweepy.TweepError Not authorized.  from:  16\n",
      "'Loaded 64366 friends dictionary'\n",
      "tweepy.TweepError Not authorized.  from:  1\n"
     ]
    },
    {
     "name": "stderr",
     "output_type": "stream",
     "text": [
      " 24%|██▍       | 24.5k/102k [35:36:30<115:38:41, 5.25s/Twitter friendship]"
     ]
    },
    {
     "name": "stdout",
     "output_type": "stream",
     "text": [
      "'Loaded 64383 friends dictionary'\n"
     ]
    },
    {
     "name": "stderr",
     "output_type": "stream",
     "text": [
      " 24%|██▍       | 24.5k/102k [35:37:33<105:24:34, 4.79s/Twitter friendship]"
     ]
    },
    {
     "name": "stdout",
     "output_type": "stream",
     "text": [
      "'Loaded 64400 friends dictionary'\n"
     ]
    },
    {
     "name": "stderr",
     "output_type": "stream",
     "text": [
      " 24%|██▍       | 24.5k/102k [35:38:10<88:06:44, 4.00s/Twitter friendship] "
     ]
    },
    {
     "name": "stdout",
     "output_type": "stream",
     "text": [
      "'Loaded 64417 friends dictionary'\n"
     ]
    },
    {
     "name": "stderr",
     "output_type": "stream",
     "text": [
      " 24%|██▍       | 24.5k/102k [35:39:07<84:05:23, 3.82s/Twitter friendship]"
     ]
    },
    {
     "name": "stdout",
     "output_type": "stream",
     "text": [
      "'Loaded 64434 friends dictionary'\n"
     ]
    },
    {
     "name": "stderr",
     "output_type": "stream",
     "text": [
      " 24%|██▍       | 24.5k/102k [35:40:11<83:40:12, 3.80s/Twitter friendship]"
     ]
    },
    {
     "name": "stdout",
     "output_type": "stream",
     "text": [
      "'Loaded 64451 friends dictionary'\n"
     ]
    },
    {
     "name": "stderr",
     "output_type": "stream",
     "text": [
      " 24%|██▍       | 24.5k/102k [35:40:49<73:01:41, 3.32s/Twitter friendship]"
     ]
    },
    {
     "name": "stdout",
     "output_type": "stream",
     "text": [
      "'Loaded 64468 friends dictionary'\n"
     ]
    },
    {
     "name": "stderr",
     "output_type": "stream",
     "text": [
      " 24%|██▍       | 24.6k/102k [35:41:32<67:54:35, 3.09s/Twitter friendship]"
     ]
    },
    {
     "name": "stdout",
     "output_type": "stream",
     "text": [
      "'Loaded 64485 friends dictionary'\n"
     ]
    },
    {
     "name": "stderr",
     "output_type": "stream",
     "text": [
      " 24%|██▍       | 24.6k/102k [35:42:31<70:36:07, 3.21s/Twitter friendship]"
     ]
    },
    {
     "name": "stdout",
     "output_type": "stream",
     "text": [
      "'Loaded 64502 friends dictionary'\n"
     ]
    },
    {
     "name": "stderr",
     "output_type": "stream",
     "text": [
      " 24%|██▍       | 24.6k/102k [35:43:35<74:04:37, 3.37s/Twitter friendship]"
     ]
    },
    {
     "name": "stdout",
     "output_type": "stream",
     "text": [
      "'Loaded 64519 friends dictionary'\n",
      "tweepy.TweepError Not authorized.  from:  4\n"
     ]
    },
    {
     "name": "stderr",
     "output_type": "stream",
     "text": [
      "Rate limit reached. Sleeping for: 297\n",
      " 24%|██▍       | 24.6k/102k [35:49:19<185:02:42, 8.42s/Twitter friendship]"
     ]
    },
    {
     "name": "stdout",
     "output_type": "stream",
     "text": [
      "'Loaded 64536 friends dictionary'\n",
      "tweepy.TweepError Not authorized.  from:  13\n"
     ]
    },
    {
     "name": "stderr",
     "output_type": "stream",
     "text": [
      " 24%|██▍       | 24.6k/102k [35:50:30<157:03:49, 7.15s/Twitter friendship]"
     ]
    },
    {
     "name": "stdout",
     "output_type": "stream",
     "text": [
      "'Loaded 64553 friends dictionary'\n"
     ]
    },
    {
     "name": "stderr",
     "output_type": "stream",
     "text": [
      " 24%|██▍       | 24.6k/102k [35:51:34<134:46:10, 6.14s/Twitter friendship]"
     ]
    },
    {
     "name": "stdout",
     "output_type": "stream",
     "text": [
      "'Loaded 64570 friends dictionary'\n",
      "tweepy.TweepError [{'code': 34, 'message': 'Sorry, that page does not exist.'}]  from:  14\n"
     ]
    },
    {
     "name": "stderr",
     "output_type": "stream",
     "text": [
      " 24%|██▍       | 24.7k/102k [35:52:13<109:33:49, 4.99s/Twitter friendship]"
     ]
    },
    {
     "name": "stdout",
     "output_type": "stream",
     "text": [
      "'Loaded 64587 friends dictionary'\n"
     ]
    },
    {
     "name": "stderr",
     "output_type": "stream",
     "text": [
      " 24%|██▍       | 24.7k/102k [35:53:27<105:10:15, 4.79s/Twitter friendship]"
     ]
    },
    {
     "name": "stdout",
     "output_type": "stream",
     "text": [
      "'Loaded 64604 friends dictionary'\n"
     ]
    },
    {
     "name": "stderr",
     "output_type": "stream",
     "text": [
      " 24%|██▍       | 24.7k/102k [35:54:30<97:56:55, 4.46s/Twitter friendship] "
     ]
    },
    {
     "name": "stdout",
     "output_type": "stream",
     "text": [
      "'Loaded 64621 friends dictionary'\n"
     ]
    },
    {
     "name": "stderr",
     "output_type": "stream",
     "text": [
      " 24%|██▍       | 24.7k/102k [35:55:36<94:05:59, 4.29s/Twitter friendship]"
     ]
    },
    {
     "name": "stdout",
     "output_type": "stream",
     "text": [
      "'Loaded 64638 friends dictionary'\n"
     ]
    },
    {
     "name": "stderr",
     "output_type": "stream",
     "text": [
      " 24%|██▍       | 24.7k/102k [35:56:12<79:54:32, 3.64s/Twitter friendship]"
     ]
    },
    {
     "name": "stdout",
     "output_type": "stream",
     "text": [
      "'Loaded 64655 friends dictionary'\n"
     ]
    },
    {
     "name": "stderr",
     "output_type": "stream",
     "text": [
      " 24%|██▍       | 24.7k/102k [35:57:12<79:08:51, 3.61s/Twitter friendship]"
     ]
    },
    {
     "name": "stdout",
     "output_type": "stream",
     "text": [
      "tweepy.TweepError [{'code': 34, 'message': 'Sorry, that page does not exist.'}]  from:  16\n",
      "'Loaded 64672 friends dictionary'\n",
      "tweepy.TweepError [{'code': 34, 'message': 'Sorry, that page does not exist.'}]  from:  2\n"
     ]
    },
    {
     "name": "stderr",
     "output_type": "stream",
     "text": [
      " 24%|██▍       | 24.8k/102k [35:58:17<80:37:15, 3.68s/Twitter friendship]"
     ]
    },
    {
     "name": "stdout",
     "output_type": "stream",
     "text": [
      "'Loaded 64689 friends dictionary'\n",
      "tweepy.TweepError Not authorized.  from:  14\n"
     ]
    },
    {
     "name": "stderr",
     "output_type": "stream",
     "text": [
      " 24%|██▍       | 24.8k/102k [35:58:55<71:14:38, 3.25s/Twitter friendship]"
     ]
    },
    {
     "name": "stdout",
     "output_type": "stream",
     "text": [
      "'Loaded 64706 friends dictionary'\n"
     ]
    },
    {
     "name": "stderr",
     "output_type": "stream",
     "text": [
      " 24%|██▍       | 24.8k/102k [35:59:53<72:16:44, 3.30s/Twitter friendship]"
     ]
    },
    {
     "name": "stdout",
     "output_type": "stream",
     "text": [
      "'Loaded 64723 friends dictionary'\n"
     ]
    },
    {
     "name": "stderr",
     "output_type": "stream",
     "text": [
      " 24%|██▍       | 24.8k/102k [36:00:59<76:01:16, 3.47s/Twitter friendship]"
     ]
    },
    {
     "name": "stdout",
     "output_type": "stream",
     "text": [
      "'Loaded 64740 friends dictionary'\n"
     ]
    },
    {
     "name": "stderr",
     "output_type": "stream",
     "text": [
      " 24%|██▍       | 24.8k/102k [36:01:37<67:47:45, 3.09s/Twitter friendship]"
     ]
    },
    {
     "name": "stdout",
     "output_type": "stream",
     "text": [
      "'Loaded 64757 friends dictionary'\n"
     ]
    },
    {
     "name": "stderr",
     "output_type": "stream",
     "text": [
      "Rate limit reached. Sleeping for: 190\n",
      " 24%|██▍       | 24.8k/102k [36:05:35<139:33:58, 6.37s/Twitter friendship]"
     ]
    },
    {
     "name": "stdout",
     "output_type": "stream",
     "text": [
      "'Loaded 64774 friends dictionary'\n",
      "tweepy.TweepError Not authorized.  from:  11\n"
     ]
    },
    {
     "name": "stderr",
     "output_type": "stream",
     "text": [
      " 24%|██▍       | 24.9k/102k [36:06:43<124:02:22, 5.66s/Twitter friendship]"
     ]
    },
    {
     "name": "stdout",
     "output_type": "stream",
     "text": [
      "'Loaded 64791 friends dictionary'\n",
      "tweepy.TweepError Not authorized.  from:  6\n",
      "tweepy.TweepError Not authorized.  from:  15\n"
     ]
    },
    {
     "name": "stderr",
     "output_type": "stream",
     "text": [
      " 24%|██▍       | 24.9k/102k [36:07:53<113:39:32, 5.19s/Twitter friendship]"
     ]
    },
    {
     "name": "stdout",
     "output_type": "stream",
     "text": [
      "'Loaded 64808 friends dictionary'\n"
     ]
    },
    {
     "name": "stderr",
     "output_type": "stream",
     "text": [
      " 24%|██▍       | 24.9k/102k [36:08:32<94:33:44, 4.32s/Twitter friendship] "
     ]
    },
    {
     "name": "stdout",
     "output_type": "stream",
     "text": [
      "'Loaded 64825 friends dictionary'\n"
     ]
    },
    {
     "name": "stderr",
     "output_type": "stream",
     "text": [
      " 24%|██▍       | 24.9k/102k [36:09:32<89:28:56, 4.09s/Twitter friendship]"
     ]
    },
    {
     "name": "stdout",
     "output_type": "stream",
     "text": [
      "'Loaded 64842 friends dictionary'\n"
     ]
    },
    {
     "name": "stderr",
     "output_type": "stream",
     "text": [
      " 24%|██▍       | 24.9k/102k [36:10:39<88:23:09, 4.04s/Twitter friendship]"
     ]
    },
    {
     "name": "stdout",
     "output_type": "stream",
     "text": [
      "'Loaded 64859 friends dictionary'\n"
     ]
    },
    {
     "name": "stderr",
     "output_type": "stream",
     "text": [
      " 24%|██▍       | 24.9k/102k [36:11:16<76:19:27, 3.49s/Twitter friendship]"
     ]
    },
    {
     "name": "stdout",
     "output_type": "stream",
     "text": [
      "'Loaded 64876 friends dictionary'\n",
      "tweepy.TweepError Not authorized.  from:  10\n"
     ]
    },
    {
     "name": "stderr",
     "output_type": "stream",
     "text": [
      " 24%|██▍       | 25.0k/102k [36:12:04<71:46:56, 3.28s/Twitter friendship]"
     ]
    },
    {
     "name": "stdout",
     "output_type": "stream",
     "text": [
      "'Loaded 64893 friends dictionary'\n"
     ]
    },
    {
     "name": "stderr",
     "output_type": "stream",
     "text": [
      " 25%|██▍       | 25.0k/102k [36:13:11<76:15:20, 3.49s/Twitter friendship]"
     ]
    },
    {
     "name": "stdout",
     "output_type": "stream",
     "text": [
      "'Loaded 64910 friends dictionary'\n",
      "tweepy.TweepError [{'code': 34, 'message': 'Sorry, that page does not exist.'}]  from:  9\n"
     ]
    },
    {
     "name": "stderr",
     "output_type": "stream",
     "text": [
      " 25%|██▍       | 25.0k/102k [36:14:19<79:44:01, 3.65s/Twitter friendship]"
     ]
    },
    {
     "name": "stdout",
     "output_type": "stream",
     "text": [
      "'Loaded 64927 friends dictionary'\n"
     ]
    },
    {
     "name": "stderr",
     "output_type": "stream",
     "text": [
      " 25%|██▍       | 25.0k/102k [36:14:58<70:32:13, 3.23s/Twitter friendship]"
     ]
    },
    {
     "name": "stdout",
     "output_type": "stream",
     "text": [
      "'Loaded 64944 friends dictionary'\n",
      "tweepy.TweepError Not authorized.  from:  14\n"
     ]
    },
    {
     "name": "stderr",
     "output_type": "stream",
     "text": [
      " 25%|██▍       | 25.0k/102k [36:15:59<73:05:56, 3.34s/Twitter friendship]"
     ]
    },
    {
     "name": "stdout",
     "output_type": "stream",
     "text": [
      "'Loaded 64961 friends dictionary'\n"
     ]
    },
    {
     "name": "stderr",
     "output_type": "stream",
     "text": [
      "Rate limit reached. Sleeping for: 209\n",
      " 25%|██▍       | 25.0k/102k [36:20:40<159:26:15, 7.30s/Twitter friendship]"
     ]
    },
    {
     "name": "stdout",
     "output_type": "stream",
     "text": [
      "'Loaded 64978 friends dictionary'\n"
     ]
    },
    {
     "name": "stderr",
     "output_type": "stream",
     "text": [
      " 25%|██▍       | 25.1k/102k [36:21:19<126:32:54, 5.79s/Twitter friendship]"
     ]
    },
    {
     "name": "stdout",
     "output_type": "stream",
     "text": [
      "'Loaded 64995 friends dictionary'\n"
     ]
    },
    {
     "name": "stderr",
     "output_type": "stream",
     "text": [
      " 25%|██▍       | 25.1k/102k [36:22:17<111:01:59, 5.08s/Twitter friendship]"
     ]
    },
    {
     "name": "stdout",
     "output_type": "stream",
     "text": [
      "'Loaded 65012 friends dictionary'\n"
     ]
    },
    {
     "name": "stderr",
     "output_type": "stream",
     "text": [
      " 25%|██▍       | 25.1k/102k [36:23:20<102:05:31, 4.68s/Twitter friendship]"
     ]
    },
    {
     "name": "stdout",
     "output_type": "stream",
     "text": [
      "'Loaded 65029 friends dictionary'\n"
     ]
    },
    {
     "name": "stderr",
     "output_type": "stream",
     "text": [
      " 25%|██▍       | 25.1k/102k [36:24:29<98:00:25, 4.49s/Twitter friendship] "
     ]
    },
    {
     "name": "stdout",
     "output_type": "stream",
     "text": [
      "'Loaded 65046 friends dictionary'\n",
      "tweepy.TweepError [{'code': 34, 'message': 'Sorry, that page does not exist.'}]  from:  6\n",
      "tweepy.TweepError Not authorized.  from:  15\n"
     ]
    },
    {
     "name": "stderr",
     "output_type": "stream",
     "text": [
      " 25%|██▍       | 25.1k/102k [36:25:07<83:11:17, 3.81s/Twitter friendship]"
     ]
    },
    {
     "name": "stdout",
     "output_type": "stream",
     "text": [
      "'Loaded 65063 friends dictionary'\n",
      "tweepy.TweepError Not authorized.  from:  13\n",
      "tweepy.TweepError Not authorized.  from:  14\n"
     ]
    },
    {
     "name": "stderr",
     "output_type": "stream",
     "text": [
      " 25%|██▍       | 25.1k/102k [36:26:08<81:30:53, 3.74s/Twitter friendship]"
     ]
    },
    {
     "name": "stdout",
     "output_type": "stream",
     "text": [
      "'Loaded 65080 friends dictionary'\n",
      "tweepy.TweepError Not authorized.  from:  0\n"
     ]
    },
    {
     "name": "stderr",
     "output_type": "stream",
     "text": [
      " 25%|██▍       | 25.2k/102k [36:27:14<82:34:01, 3.78s/Twitter friendship]"
     ]
    },
    {
     "name": "stdout",
     "output_type": "stream",
     "text": [
      "'Loaded 65097 friends dictionary'\n",
      "tweepy.TweepError Not authorized.  from:  3\n",
      "tweepy.TweepError Not authorized.  from:  8\n"
     ]
    },
    {
     "name": "stderr",
     "output_type": "stream",
     "text": [
      " 25%|██▍       | 25.2k/102k [36:27:52<72:21:00, 3.32s/Twitter friendship]"
     ]
    },
    {
     "name": "stdout",
     "output_type": "stream",
     "text": [
      "'Loaded 65114 friends dictionary'\n"
     ]
    },
    {
     "name": "stderr",
     "output_type": "stream",
     "text": [
      " 25%|██▍       | 25.2k/102k [36:28:49<72:47:40, 3.34s/Twitter friendship]"
     ]
    },
    {
     "name": "stdout",
     "output_type": "stream",
     "text": [
      "'Loaded 65131 friends dictionary'\n",
      "tweepy.TweepError Not authorized.  from:  15\n"
     ]
    },
    {
     "name": "stderr",
     "output_type": "stream",
     "text": [
      " 25%|██▍       | 25.2k/102k [36:29:53<75:13:10, 3.45s/Twitter friendship]"
     ]
    },
    {
     "name": "stdout",
     "output_type": "stream",
     "text": [
      "tweepy.TweepError Not authorized.  from:  16\n",
      "'Loaded 65148 friends dictionary'\n"
     ]
    },
    {
     "name": "stderr",
     "output_type": "stream",
     "text": [
      "Rate limit reached. Sleeping for: 318\n",
      " 25%|██▍       | 25.2k/102k [36:36:24<203:24:47, 9.33s/Twitter friendship]"
     ]
    },
    {
     "name": "stdout",
     "output_type": "stream",
     "text": [
      "'Loaded 65165 friends dictionary'\n"
     ]
    },
    {
     "name": "stderr",
     "output_type": "stream",
     "text": [
      " 25%|██▍       | 25.2k/102k [36:37:05<157:54:51, 7.25s/Twitter friendship]"
     ]
    },
    {
     "name": "stdout",
     "output_type": "stream",
     "text": [
      "'Loaded 65182 friends dictionary'\n",
      "tweepy.TweepError Not authorized.  from:  14\n"
     ]
    },
    {
     "name": "stderr",
     "output_type": "stream",
     "text": [
      " 25%|██▍       | 25.3k/102k [36:38:07<134:19:27, 6.16s/Twitter friendship]"
     ]
    },
    {
     "name": "stdout",
     "output_type": "stream",
     "text": [
      "'Loaded 65199 friends dictionary'\n"
     ]
    },
    {
     "name": "stderr",
     "output_type": "stream",
     "text": [
      " 25%|██▍       | 25.3k/102k [36:39:13<119:33:20, 5.49s/Twitter friendship]"
     ]
    },
    {
     "name": "stdout",
     "output_type": "stream",
     "text": [
      "'Loaded 65216 friends dictionary'\n",
      "tweepy.TweepError Not authorized.  from:  13\n"
     ]
    },
    {
     "name": "stderr",
     "output_type": "stream",
     "text": [
      " 25%|██▍       | 25.3k/102k [36:39:51<98:13:56, 4.51s/Twitter friendship] "
     ]
    },
    {
     "name": "stdout",
     "output_type": "stream",
     "text": [
      "tweepy.TweepError Not authorized.  from:  16\n",
      "'Loaded 65233 friends dictionary'\n"
     ]
    },
    {
     "name": "stderr",
     "output_type": "stream",
     "text": [
      " 25%|██▍       | 25.3k/102k [36:40:49<90:55:33, 4.18s/Twitter friendship]"
     ]
    },
    {
     "name": "stdout",
     "output_type": "stream",
     "text": [
      "'Loaded 65250 friends dictionary'\n",
      "tweepy.TweepError Not authorized.  from:  1\n",
      "tweepy.TweepError Not authorized.  from:  14\n"
     ]
    },
    {
     "name": "stderr",
     "output_type": "stream",
     "text": [
      " 25%|██▍       | 25.3k/102k [36:41:54<88:26:47, 4.06s/Twitter friendship]"
     ]
    },
    {
     "name": "stdout",
     "output_type": "stream",
     "text": [
      "'Loaded 65267 friends dictionary'\n"
     ]
    },
    {
     "name": "stderr",
     "output_type": "stream",
     "text": [
      " 25%|██▍       | 25.3k/102k [36:43:01<87:45:22, 4.03s/Twitter friendship]"
     ]
    },
    {
     "name": "stdout",
     "output_type": "stream",
     "text": [
      "'Loaded 65284 friends dictionary'\n"
     ]
    },
    {
     "name": "stderr",
     "output_type": "stream",
     "text": [
      " 25%|██▍       | 25.4k/102k [36:43:39<75:54:00, 3.49s/Twitter friendship]"
     ]
    },
    {
     "name": "stdout",
     "output_type": "stream",
     "text": [
      "'Loaded 65301 friends dictionary'\n"
     ]
    },
    {
     "name": "stderr",
     "output_type": "stream",
     "text": [
      " 25%|██▍       | 25.4k/102k [36:44:40<76:51:11, 3.53s/Twitter friendship]"
     ]
    },
    {
     "name": "stdout",
     "output_type": "stream",
     "text": [
      "'Loaded 65318 friends dictionary'\n"
     ]
    },
    {
     "name": "stderr",
     "output_type": "stream",
     "text": [
      " 25%|██▍       | 25.4k/102k [36:45:49<80:18:37, 3.69s/Twitter friendship]"
     ]
    },
    {
     "name": "stdout",
     "output_type": "stream",
     "text": [
      "'Loaded 65335 friends dictionary'\n"
     ]
    },
    {
     "name": "stderr",
     "output_type": "stream",
     "text": [
      " 25%|██▍       | 25.4k/102k [36:46:27<70:38:42, 3.25s/Twitter friendship]"
     ]
    },
    {
     "name": "stdout",
     "output_type": "stream",
     "text": [
      "'Loaded 65352 friends dictionary'\n"
     ]
    },
    {
     "name": "stderr",
     "output_type": "stream",
     "text": [
      "Rate limit reached. Sleeping for: 239\n",
      " 25%|██▍       | 25.4k/102k [36:51:29<165:18:18, 7.60s/Twitter friendship]"
     ]
    },
    {
     "name": "stdout",
     "output_type": "stream",
     "text": [
      "'Loaded 65369 friends dictionary'\n"
     ]
    },
    {
     "name": "stderr",
     "output_type": "stream",
     "text": [
      " 25%|██▍       | 25.4k/102k [36:52:35<141:08:14, 6.49s/Twitter friendship]"
     ]
    },
    {
     "name": "stdout",
     "output_type": "stream",
     "text": [
      "'Loaded 65386 friends dictionary'\n"
     ]
    },
    {
     "name": "stderr",
     "output_type": "stream",
     "text": [
      " 25%|██▍       | 25.5k/102k [36:53:47<126:03:57, 5.80s/Twitter friendship]"
     ]
    },
    {
     "name": "stdout",
     "output_type": "stream",
     "text": [
      "'Loaded 65403 friends dictionary'\n"
     ]
    },
    {
     "name": "stderr",
     "output_type": "stream",
     "text": [
      " 25%|██▌       | 25.5k/102k [36:54:24<102:45:27, 4.73s/Twitter friendship]"
     ]
    },
    {
     "name": "stdout",
     "output_type": "stream",
     "text": [
      "'Loaded 65420 friends dictionary'\n"
     ]
    },
    {
     "name": "stderr",
     "output_type": "stream",
     "text": [
      " 25%|██▌       | 25.5k/102k [36:55:27<96:01:42, 4.42s/Twitter friendship] "
     ]
    },
    {
     "name": "stdout",
     "output_type": "stream",
     "text": [
      "'Loaded 65437 friends dictionary'\n",
      "tweepy.TweepError [{'code': 34, 'message': 'Sorry, that page does not exist.'}]  from:  14\n"
     ]
    },
    {
     "name": "stderr",
     "output_type": "stream",
     "text": [
      " 25%|██▌       | 25.5k/102k [36:56:33<92:25:06, 4.26s/Twitter friendship]"
     ]
    },
    {
     "name": "stdout",
     "output_type": "stream",
     "text": [
      "'Loaded 65454 friends dictionary'\n"
     ]
    },
    {
     "name": "stderr",
     "output_type": "stream",
     "text": [
      " 25%|██▌       | 25.5k/102k [36:57:11<79:04:26, 3.64s/Twitter friendship]"
     ]
    },
    {
     "name": "stdout",
     "output_type": "stream",
     "text": [
      "'Loaded 65471 friends dictionary'\n"
     ]
    },
    {
     "name": "stderr",
     "output_type": "stream",
     "text": [
      " 25%|██▌       | 25.5k/102k [36:58:09<77:35:59, 3.57s/Twitter friendship]"
     ]
    },
    {
     "name": "stdout",
     "output_type": "stream",
     "text": [
      "'Loaded 65488 friends dictionary'\n"
     ]
    },
    {
     "name": "stderr",
     "output_type": "stream",
     "text": [
      " 25%|██▌       | 25.5k/102k [36:59:12<78:22:30, 3.61s/Twitter friendship]"
     ]
    },
    {
     "name": "stdout",
     "output_type": "stream",
     "text": [
      "'Loaded 65505 friends dictionary'\n"
     ]
    },
    {
     "name": "stderr",
     "output_type": "stream",
     "text": [
      " 25%|██▌       | 25.6k/102k [37:00:21<81:33:24, 3.76s/Twitter friendship]"
     ]
    },
    {
     "name": "stdout",
     "output_type": "stream",
     "text": [
      "'Loaded 65522 friends dictionary'\n"
     ]
    },
    {
     "name": "stderr",
     "output_type": "stream",
     "text": [
      " 25%|██▌       | 25.6k/102k [37:01:00<71:39:47, 3.30s/Twitter friendship]"
     ]
    },
    {
     "name": "stdout",
     "output_type": "stream",
     "text": [
      "'Loaded 65539 friends dictionary'\n"
     ]
    },
    {
     "name": "stderr",
     "output_type": "stream",
     "text": [
      " 25%|██▌       | 25.6k/102k [37:02:01<73:43:46, 3.40s/Twitter friendship]"
     ]
    },
    {
     "name": "stdout",
     "output_type": "stream",
     "text": [
      "'Loaded 65556 friends dictionary'\n",
      "tweepy.TweepError [{'code': 34, 'message': 'Sorry, that page does not exist.'}]  from:  15\n"
     ]
    },
    {
     "name": "stderr",
     "output_type": "stream",
     "text": [
      " 25%|██▌       | 25.6k/102k [37:03:07<76:47:25, 3.54s/Twitter friendship]"
     ]
    },
    {
     "name": "stdout",
     "output_type": "stream",
     "text": [
      "'Loaded 65573 friends dictionary'\n",
      "tweepy.TweepError [{'code': 34, 'message': 'Sorry, that page does not exist.'}]  from:  1\n"
     ]
    },
    {
     "name": "stderr",
     "output_type": "stream",
     "text": [
      "Rate limit reached. Sleeping for: 227\n",
      " 25%|██▌       | 25.6k/102k [37:07:41<158:25:30, 7.31s/Twitter friendship]"
     ]
    },
    {
     "name": "stdout",
     "output_type": "stream",
     "text": [
      "'Loaded 65590 friends dictionary'\n"
     ]
    },
    {
     "name": "stderr",
     "output_type": "stream",
     "text": [
      " 25%|██▌       | 25.6k/102k [37:08:44<135:17:21, 6.24s/Twitter friendship]"
     ]
    },
    {
     "name": "stdout",
     "output_type": "stream",
     "text": [
      "'Loaded 65607 friends dictionary'\n",
      "tweepy.TweepError [{'code': 34, 'message': 'Sorry, that page does not exist.'}]  from:  13\n"
     ]
    },
    {
     "name": "stderr",
     "output_type": "stream",
     "text": [
      " 25%|██▌       | 25.7k/102k [37:09:51<120:07:59, 5.54s/Twitter friendship]"
     ]
    },
    {
     "name": "stdout",
     "output_type": "stream",
     "text": [
      "'Loaded 65624 friends dictionary'\n",
      "tweepy.TweepError Not authorized.  from:  0\n",
      "tweepy.TweepError [{'code': 34, 'message': 'Sorry, that page does not exist.'}]  from:  1\n",
      "tweepy.TweepError Not authorized.  from:  10\n"
     ]
    },
    {
     "name": "stderr",
     "output_type": "stream",
     "text": [
      " 25%|██▌       | 25.7k/102k [37:10:59<110:10:21, 5.09s/Twitter friendship]"
     ]
    },
    {
     "name": "stdout",
     "output_type": "stream",
     "text": [
      "'Loaded 65641 friends dictionary'\n"
     ]
    },
    {
     "name": "stderr",
     "output_type": "stream",
     "text": [
      " 25%|██▌       | 25.7k/102k [37:11:37<91:24:35, 4.22s/Twitter friendship] "
     ]
    },
    {
     "name": "stdout",
     "output_type": "stream",
     "text": [
      "'Loaded 65658 friends dictionary'\n"
     ]
    },
    {
     "name": "stderr",
     "output_type": "stream",
     "text": [
      " 25%|██▌       | 25.7k/102k [37:12:39<87:43:46, 4.05s/Twitter friendship]"
     ]
    },
    {
     "name": "stdout",
     "output_type": "stream",
     "text": [
      "'Loaded 65675 friends dictionary'\n"
     ]
    },
    {
     "name": "stderr",
     "output_type": "stream",
     "text": [
      " 25%|██▌       | 25.7k/102k [37:13:45<86:41:39, 4.00s/Twitter friendship]"
     ]
    },
    {
     "name": "stdout",
     "output_type": "stream",
     "text": [
      "'Loaded 65692 friends dictionary'\n"
     ]
    },
    {
     "name": "stderr",
     "output_type": "stream",
     "text": [
      " 25%|██▌       | 25.7k/102k [37:14:23<75:10:26, 3.47s/Twitter friendship]"
     ]
    },
    {
     "name": "stdout",
     "output_type": "stream",
     "text": [
      "'Loaded 65709 friends dictionary'\n",
      "tweepy.TweepError Not authorized.  from:  0\n"
     ]
    },
    {
     "name": "stderr",
     "output_type": "stream",
     "text": [
      " 25%|██▌       | 25.8k/102k [37:15:12<71:09:19, 3.29s/Twitter friendship]"
     ]
    },
    {
     "name": "stdout",
     "output_type": "stream",
     "text": [
      "'Loaded 65726 friends dictionary'\n",
      "tweepy.TweepError Not authorized.  from:  6\n"
     ]
    },
    {
     "name": "stderr",
     "output_type": "stream",
     "text": [
      " 25%|██▌       | 25.8k/102k [37:16:14<73:41:34, 3.41s/Twitter friendship]"
     ]
    },
    {
     "name": "stdout",
     "output_type": "stream",
     "text": [
      "'Loaded 65743 friends dictionary'\n",
      "tweepy.TweepError Not authorized.  from:  2\n"
     ]
    },
    {
     "name": "stderr",
     "output_type": "stream",
     "text": [
      " 25%|██▌       | 25.8k/102k [37:17:23<77:54:07, 3.60s/Twitter friendship]"
     ]
    },
    {
     "name": "stdout",
     "output_type": "stream",
     "text": [
      "'Loaded 65760 friends dictionary'\n"
     ]
    },
    {
     "name": "stderr",
     "output_type": "stream",
     "text": [
      " 25%|██▌       | 25.8k/102k [37:18:20<76:10:58, 3.52s/Twitter friendship]"
     ]
    },
    {
     "name": "stdout",
     "output_type": "stream",
     "text": [
      "'Loaded 65777 friends dictionary'\n"
     ]
    },
    {
     "name": "stderr",
     "output_type": "stream",
     "text": [
      " 25%|██▌       | 25.8k/102k [37:20:18<98:29:41, 4.55s/Twitter friendship]"
     ]
    },
    {
     "name": "stdout",
     "output_type": "stream",
     "text": [
      "'Loaded 65794 friends dictionary'\n"
     ]
    },
    {
     "name": "stderr",
     "output_type": "stream",
     "text": [
      " 25%|██▌       | 25.8k/102k [37:21:57<106:31:33, 4.93s/Twitter friendship]"
     ]
    },
    {
     "name": "stdout",
     "output_type": "stream",
     "text": [
      "'Loaded 65811 friends dictionary'\n"
     ]
    },
    {
     "name": "stderr",
     "output_type": "stream",
     "text": [
      "Rate limit reached. Sleeping for: 6\n",
      " 25%|██▌       | 25.9k/102k [37:22:46<93:30:18, 4.33s/Twitter friendship] "
     ]
    },
    {
     "name": "stdout",
     "output_type": "stream",
     "text": [
      "'Loaded 65828 friends dictionary'\n"
     ]
    },
    {
     "name": "stderr",
     "output_type": "stream",
     "text": [
      " 25%|██▌       | 25.9k/102k [37:23:40<85:55:19, 3.98s/Twitter friendship]"
     ]
    },
    {
     "name": "stdout",
     "output_type": "stream",
     "text": [
      "'Loaded 65845 friends dictionary'\n"
     ]
    },
    {
     "name": "stderr",
     "output_type": "stream",
     "text": [
      " 25%|██▌       | 25.9k/102k [37:25:00<90:33:07, 4.19s/Twitter friendship]"
     ]
    },
    {
     "name": "stdout",
     "output_type": "stream",
     "text": [
      "'Loaded 65862 friends dictionary'\n"
     ]
    },
    {
     "name": "stderr",
     "output_type": "stream",
     "text": [
      " 25%|██▌       | 25.9k/102k [37:26:38<100:35:54, 4.66s/Twitter friendship]"
     ]
    },
    {
     "name": "stdout",
     "output_type": "stream",
     "text": [
      "'Loaded 65879 friends dictionary'\n"
     ]
    },
    {
     "name": "stderr",
     "output_type": "stream",
     "text": [
      " 25%|██▌       | 25.9k/102k [37:27:17<85:34:16, 3.96s/Twitter friendship] "
     ]
    },
    {
     "name": "stdout",
     "output_type": "stream",
     "text": [
      "'Loaded 65896 friends dictionary'\n",
      "tweepy.TweepError Not authorized.  from:  9\n"
     ]
    },
    {
     "name": "stderr",
     "output_type": "stream",
     "text": [
      " 25%|██▌       | 25.9k/102k [37:28:26<86:04:33, 3.99s/Twitter friendship]"
     ]
    },
    {
     "name": "stdout",
     "output_type": "stream",
     "text": [
      "'Loaded 65913 friends dictionary'\n"
     ]
    },
    {
     "name": "stderr",
     "output_type": "stream",
     "text": [
      " 25%|██▌       | 26.0k/102k [37:29:48<91:33:20, 4.24s/Twitter friendship]"
     ]
    },
    {
     "name": "stdout",
     "output_type": "stream",
     "text": [
      "'Loaded 65930 friends dictionary'\n"
     ]
    },
    {
     "name": "stderr",
     "output_type": "stream",
     "text": [
      " 26%|██▌       | 26.0k/102k [37:31:18<98:22:39, 4.56s/Twitter friendship]"
     ]
    },
    {
     "name": "stdout",
     "output_type": "stream",
     "text": [
      "'Loaded 65947 friends dictionary'\n"
     ]
    },
    {
     "name": "stderr",
     "output_type": "stream",
     "text": [
      " 26%|██▌       | 26.0k/102k [37:32:01<85:01:14, 3.94s/Twitter friendship]"
     ]
    },
    {
     "name": "stdout",
     "output_type": "stream",
     "text": [
      "'Loaded 65964 friends dictionary'\n"
     ]
    },
    {
     "name": "stderr",
     "output_type": "stream",
     "text": [
      " 26%|██▌       | 26.0k/102k [37:33:04<83:38:41, 3.88s/Twitter friendship]"
     ]
    },
    {
     "name": "stdout",
     "output_type": "stream",
     "text": [
      "'Loaded 65981 friends dictionary'\n"
     ]
    },
    {
     "name": "stderr",
     "output_type": "stream",
     "text": [
      " 26%|██▌       | 26.0k/102k [37:34:19<87:04:30, 4.04s/Twitter friendship]"
     ]
    },
    {
     "name": "stdout",
     "output_type": "stream",
     "text": [
      "'Loaded 65998 friends dictionary'\n"
     ]
    },
    {
     "name": "stderr",
     "output_type": "stream",
     "text": [
      " 26%|██▌       | 26.0k/102k [37:35:01<76:41:37, 3.56s/Twitter friendship]"
     ]
    },
    {
     "name": "stdout",
     "output_type": "stream",
     "text": [
      "'Loaded 66015 friends dictionary'\n"
     ]
    },
    {
     "name": "stderr",
     "output_type": "stream",
     "text": [
      " 26%|██▌       | 26.1k/102k [37:35:59<75:43:53, 3.51s/Twitter friendship]"
     ]
    },
    {
     "name": "stdout",
     "output_type": "stream",
     "text": [
      "'Loaded 66032 friends dictionary'\n",
      "tweepy.TweepError [{'code': 34, 'message': 'Sorry, that page does not exist.'}]  from:  13\n"
     ]
    },
    {
     "name": "stderr",
     "output_type": "stream",
     "text": [
      " 26%|██▌       | 26.1k/102k [37:37:09<79:43:54, 3.70s/Twitter friendship]"
     ]
    },
    {
     "name": "stdout",
     "output_type": "stream",
     "text": [
      "'Loaded 66049 friends dictionary'\n"
     ]
    },
    {
     "name": "stderr",
     "output_type": "stream",
     "text": [
      " 26%|██▌       | 26.1k/102k [37:38:22<83:37:59, 3.88s/Twitter friendship]"
     ]
    },
    {
     "name": "stdout",
     "output_type": "stream",
     "text": [
      "'Loaded 66066 friends dictionary'\n"
     ]
    },
    {
     "name": "stderr",
     "output_type": "stream",
     "text": [
      " 26%|██▌       | 26.1k/102k [37:39:02<73:50:01, 3.43s/Twitter friendship]"
     ]
    },
    {
     "name": "stdout",
     "output_type": "stream",
     "text": [
      "'Loaded 66083 friends dictionary'\n"
     ]
    },
    {
     "name": "stderr",
     "output_type": "stream",
     "text": [
      " 26%|██▌       | 26.1k/102k [37:40:06<75:44:50, 3.52s/Twitter friendship]"
     ]
    },
    {
     "name": "stdout",
     "output_type": "stream",
     "text": [
      "'Loaded 66100 friends dictionary'\n"
     ]
    },
    {
     "name": "stderr",
     "output_type": "stream",
     "text": [
      " 26%|██▌       | 26.1k/102k [37:41:20<81:18:15, 3.78s/Twitter friendship]"
     ]
    },
    {
     "name": "stdout",
     "output_type": "stream",
     "text": [
      "'Loaded 66117 friends dictionary'\n",
      "tweepy.TweepError Not authorized.  from:  1\n",
      "tweepy.TweepError Not authorized.  from:  5\n",
      "tweepy.TweepError [{'code': 34, 'message': 'Sorry, that page does not exist.'}]  from:  7\n",
      "tweepy.TweepError Not authorized.  from:  11\n",
      "tweepy.TweepError [{'code': 34, 'message': 'Sorry, that page does not exist.'}]  from:  15\n"
     ]
    },
    {
     "name": "stderr",
     "output_type": "stream",
     "text": [
      " 26%|██▌       | 26.2k/102k [37:42:01<72:15:58, 3.36s/Twitter friendship]"
     ]
    },
    {
     "name": "stdout",
     "output_type": "stream",
     "text": [
      "'Loaded 66134 friends dictionary'\n",
      "tweepy.TweepError Not authorized.  from:  8\n",
      "tweepy.TweepError Not authorized.  from:  9\n",
      "tweepy.TweepError [{'code': 34, 'message': 'Sorry, that page does not exist.'}]  from:  14\n"
     ]
    },
    {
     "name": "stderr",
     "output_type": "stream",
     "text": [
      " 26%|██▌       | 26.2k/102k [37:43:03<74:07:15, 3.44s/Twitter friendship]"
     ]
    },
    {
     "name": "stdout",
     "output_type": "stream",
     "text": [
      "'Loaded 66151 friends dictionary'\n"
     ]
    },
    {
     "name": "stderr",
     "output_type": "stream",
     "text": [
      " 26%|██▌       | 26.2k/102k [37:44:15<79:23:00, 3.69s/Twitter friendship]"
     ]
    },
    {
     "name": "stdout",
     "output_type": "stream",
     "text": [
      "'Loaded 66168 friends dictionary'\n"
     ]
    },
    {
     "name": "stderr",
     "output_type": "stream",
     "text": [
      " 26%|██▌       | 26.2k/102k [37:45:33<85:07:44, 3.96s/Twitter friendship]"
     ]
    },
    {
     "name": "stdout",
     "output_type": "stream",
     "text": [
      "'Loaded 66185 friends dictionary'\n"
     ]
    },
    {
     "name": "stderr",
     "output_type": "stream",
     "text": [
      " 26%|██▌       | 26.2k/102k [37:46:11<74:05:34, 3.44s/Twitter friendship]"
     ]
    },
    {
     "name": "stdout",
     "output_type": "stream",
     "text": [
      "'Loaded 66202 friends dictionary'\n",
      "tweepy.TweepError Not authorized.  from:  15\n"
     ]
    },
    {
     "name": "stderr",
     "output_type": "stream",
     "text": [
      " 26%|██▌       | 26.2k/102k [37:47:17<77:00:01, 3.58s/Twitter friendship]"
     ]
    },
    {
     "name": "stdout",
     "output_type": "stream",
     "text": [
      "'Loaded 66219 friends dictionary'\n",
      "tweepy.TweepError Not authorized.  from:  4\n"
     ]
    },
    {
     "name": "stderr",
     "output_type": "stream",
     "text": [
      " 26%|██▌       | 26.3k/102k [37:48:24<79:14:37, 3.69s/Twitter friendship]"
     ]
    },
    {
     "name": "stdout",
     "output_type": "stream",
     "text": [
      "'Loaded 66236 friends dictionary'\n",
      "tweepy.TweepError [{'code': 34, 'message': 'Sorry, that page does not exist.'}]  from:  4\n"
     ]
    },
    {
     "name": "stderr",
     "output_type": "stream",
     "text": [
      " 26%|██▌       | 26.3k/102k [37:49:12<73:28:41, 3.42s/Twitter friendship]"
     ]
    },
    {
     "name": "stdout",
     "output_type": "stream",
     "text": [
      "'Loaded 66253 friends dictionary'\n",
      "tweepy.TweepError [{'code': 34, 'message': 'Sorry, that page does not exist.'}]  from:  9\n"
     ]
    },
    {
     "name": "stderr",
     "output_type": "stream",
     "text": [
      " 26%|██▌       | 26.3k/102k [37:49:48<65:14:10, 3.04s/Twitter friendship]"
     ]
    },
    {
     "name": "stdout",
     "output_type": "stream",
     "text": [
      "'Loaded 66270 friends dictionary'\n",
      "tweepy.TweepError Not authorized.  from:  4\n"
     ]
    },
    {
     "name": "stderr",
     "output_type": "stream",
     "text": [
      " 26%|██▌       | 26.3k/102k [37:51:13<77:53:26, 3.63s/Twitter friendship]"
     ]
    },
    {
     "name": "stdout",
     "output_type": "stream",
     "text": [
      "'Loaded 66287 friends dictionary'\n"
     ]
    },
    {
     "name": "stderr",
     "output_type": "stream",
     "text": [
      "Rate limit reached. Sleeping for: 84\n"
     ]
    },
    {
     "name": "stdout",
     "output_type": "stream",
     "text": [
      "Error: <class 'KeyboardInterrupt'>\n"
     ]
    },
    {
     "name": "stderr",
     "output_type": "stream",
     "text": [
      "Rate limit reached. Sleeping for: 4\n",
      " 26%|██▌       | 26.3k/102k [37:53:19<102:15:00, 4.76s/Twitter friendship]"
     ]
    },
    {
     "name": "stdout",
     "output_type": "stream",
     "text": [
      "Error: <class 'KeyboardInterrupt'>\n"
     ]
    }
   ],
   "source": [
    "api_counter = 0\n",
    "number_of_apis = len(twitter_api_list)\n",
    "with tqdm(total = len(need_to_crawl), unit='Twitter friendship', unit_scale=True, unit_divisor=1024) as pbar:\n",
    "    while len(need_to_crawl) != 0:\n",
    "        for api_counter in range(min(len(need_to_crawl), number_of_apis)):\n",
    "            user_id = need_to_crawl.pop()\n",
    "            crawl_twitter_friend(twitter_api_list[api_counter], friends_dictionary, user_id, api_counter)\n",
    "        pbar.update(number_of_apis)\n",
    "        save_friends_dictionary(friends_dictionary)\n",
    "        friends_dictionary = load_friends_dictionary()"
   ]
  }
 ],
 "metadata": {
  "kernelspec": {
   "display_name": "Python 3",
   "language": "python",
   "name": "python3"
  },
  "language_info": {
   "codemirror_mode": {
    "name": "ipython",
    "version": 3
   },
   "file_extension": ".py",
   "mimetype": "text/x-python",
   "name": "python",
   "nbconvert_exporter": "python",
   "pygments_lexer": "ipython3",
   "version": "3.6.5"
  }
 },
 "nbformat": 4,
 "nbformat_minor": 2
}
