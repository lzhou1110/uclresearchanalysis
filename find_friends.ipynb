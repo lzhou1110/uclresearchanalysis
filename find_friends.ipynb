{
 "cells": [
  {
   "cell_type": "code",
   "execution_count": 1,
   "metadata": {},
   "outputs": [],
   "source": [
    "import time\n",
    "import tweepy\n",
    "from tweepy import OAuthHandler\n",
    "import json\n",
    "import datetime as dt\n",
    "import os\n",
    "import sys\n",
    "import pickle\n",
    "from tqdm import tqdm"
   ]
  },
  {
   "cell_type": "code",
   "execution_count": 2,
   "metadata": {},
   "outputs": [
    {
     "name": "stdout",
     "output_type": "stream",
     "text": [
      "{'calculate': {'analysis': True,\n",
      "               'friends': False,\n",
      "               'network': True,\n",
      "               'uniquetweets': True,\n",
      "               'uniqueusers': True},\n",
      " 'data': {'dates': ['2017-12-10', '2017-12-11', '2017-12-12'],\n",
      "          'eventname': 'nyc attack',\n",
      "          'phrases': ['nyc%20explosion',\n",
      "                      'nyc%20bombing',\n",
      "                      'nyc%20attack',\n",
      "                      'nyc%20terror',\n",
      "                      'new%20york%20explosion',\n",
      "                      'new%20york%20bombing',\n",
      "                      'new%20york%20attack',\n",
      "                      'new%20york%20terror',\n",
      "                      'manhattan%20explosion',\n",
      "                      'manhattan%20bombing',\n",
      "                      'manhattan%20attack',\n",
      "                      'manhattan%20terror',\n",
      "                      'port%20authority%20explosion',\n",
      "                      'port%20authority%20bombing',\n",
      "                      'port%20authority%20attack',\n",
      "                      'port%20authority%20terror'],\n",
      "          'starttime': 'Dec 11 07:00:00 -0500 2017'},\n",
      " 'path': {'cwd': '/Users/lzhou/git/github/uclresearchanalysis/data/nyc',\n",
      "          'networkx': {'all': '/Users/lzhou/git/github/uclresearchanalysis/data/nyc/pickle/networkx_all.dat',\n",
      "                       'friends': '/Users/lzhou/git/github/uclresearchanalysis/data/nyc/pickle/networkx_friends.dat',\n",
      "                       'potential': '/Users/lzhou/git/github/uclresearchanalysis/data/nyc/pickle/networkx_potential.dat'},\n",
      "          'newcrawl': '/Users/lzhou/git/github/uclresearchanalysis/other/newcrawl.dat',\n",
      "          'pickle': {'friends': '/Users/lzhou/git/github/uclresearchanalysis/data/nyc/pickle/friends.dat',\n",
      "                     'needcrawl': '/Users/lzhou/git/github/uclresearchanalysis/data/nyc/pickle/needcrawl.dat',\n",
      "                     'network': '/Users/lzhou/git/github/uclresearchanalysis/data/nyc/pickle/network.dat',\n",
      "                     'tweets': '/Users/lzhou/git/github/uclresearchanalysis/data/nyc/pickle/tweets.dat',\n",
      "                     'users': '/Users/lzhou/git/github/uclresearchanalysis/data/nyc/pickle/users.dat'},\n",
      "          'result': '/Users/lzhou/git/github/uclresearchanalysis/data/nyc/result',\n",
      "          'twitter': '/Users/lzhou/git/github/uclresearchanalysis/data/nyc/twitter'},\n",
      " 'save_to_file': 'False',\n",
      " 'timeframe': '1440'}\n"
     ]
    }
   ],
   "source": [
    "import config\n",
    "from config import load_needcrawl_set\n",
    "from config import load_newcrawl_dictionary\n",
    "from config import dump_newcrawl_dictionary"
   ]
  },
  {
   "cell_type": "code",
   "execution_count": 3,
   "metadata": {},
   "outputs": [],
   "source": [
    "class TwitterApi(object):\n",
    "    def __init__(self, consumer_key, consumer_secret, access_token, access_secret): \n",
    "        self.consumer_key = consumer_key \n",
    "        self.consumer_secret = consumer_secret \n",
    "        self.access_token = access_token\n",
    "        self.access_secret = access_secret\n",
    "\n",
    "    def loadapi(self):\n",
    "        auth = OAuthHandler(self.consumer_key, self.consumer_secret)\n",
    "        auth.set_access_token(self.access_token, self.access_secret)\n",
    "        return tweepy.API(auth, wait_on_rate_limit=True, wait_on_rate_limit_notify=True, compression=True)\n",
    "\n",
    "twitter_api_list = []\n",
    "# Jimmy Canteen 0\n",
    "twitter_api_list.append(TwitterApi(\n",
    "    'ogd44qNt9NHukPsUsnKmn1Wm3', \n",
    "    'g0PMron4C0eOD7NYpSqekzUwPwRafUpYTOKgiAabA5fkpS2a4l', \n",
    "    '936587907007176704-2xAvOIe5u5FTkuAanmWLJRkwKlMPqnD',\n",
    "    'DTJQl1JjQdbVErGlTGBI7g7wyHeWt8o0eQZJIb4fewn3J'\n",
    ").loadapi())\n",
    "# BarberDdddavid 1\n",
    "twitter_api_list.append(TwitterApi(\n",
    "    'Imk26gt1YacAmZqsBvwXNNZp1', \n",
    "    'ZTVGMr0B6e8PLaFWFtQFbBSta4e0E3POjZO0Ps4uU7XX2jp08c', \n",
    "    '948501581372280832-2Ux6iejRB0Mr7KOyQ2psV5hgN8rCvAW',\n",
    "    'cwCusThG5QGtLoLusElVWdMKtZ8VHvJmngBGjqCkpO77S'\n",
    ").loadapi())\n",
    "# Hu13Steve 2\n",
    "twitter_api_list.append(TwitterApi(\n",
    "    'Lqz4r2UGJ3MALpX7TygEWkdvu', \n",
    "    '4irrPlKdKpqdo35PAlqx1g7oTLXL79KGh8ul0Ug3NP7NPnJ5fq', \n",
    "    '948494955756052481-HBHi8eC43VnafcgKj1hfQrkiQgdazld',\n",
    "    '1hfPh52QxAWtku4AqNnjUytGCWyt4AkNllR0RGdNag5wW'\n",
    ").loadapi())\n",
    "# james13_david 3\n",
    "twitter_api_list.append(TwitterApi(\n",
    "    'QweR1meYNPziTVMQfnPBw7u7L', \n",
    "    'w2imXsR0TKSqafgZP0LU1spudls7SnCcUqskUUubmvmstbah5S', \n",
    "    '940722476585312257-i94glXYrPQa4LYqhLz75qNfaDHXrFpU',\n",
    "    'xezy1i3SKqkiVVBHy25avg1pybkfuR1CIbUzRGj5mq6Mo'\n",
    ").loadapi())\n",
    "# hui's crawler 4\n",
    "twitter_api_list.append(TwitterApi(\n",
    "    'FImHy1gMljimQMQxG6432rATE', \n",
    "    '8oNc5WX3srEophN8oiGrnBeta1iX1QWPM9IDl3scyuzitHZkTp', \n",
    "    '1976839820-bH0EOOIuJQC5yqZRDv5iJo8Gpp3Uerz76OOug99',\n",
    "    'ntdfl0pjZZYVHsLTDK1wKiEsKHS5B9mAdvyCDhREQqDzG'\n",
    ").loadapi())\n",
    "# lzhoudevuk 5 \n",
    "twitter_api_list.append(TwitterApi(\n",
    "    'MP1ydHbs9wSPCvUO0HcJlBd1s', \n",
    "    'yeVQtGsq4pgYrX6tBqMtKcscrGULJE9SCPyP38vFDaAhUtSJiw', \n",
    "    '959980110588899329-A943y5m9XFhivFJXXw0N1uRSdesdYlY',\n",
    "    'hP63SwoueduNQSSe4pwlZNhegjJCXVn4qjeZPfv762KsJ'\n",
    ").loadapi())\n",
    "# lzhoudevcn 6 \n",
    "twitter_api_list.append(TwitterApi(\n",
    "    'cM2Ket4JdIrFCoFJfZR6dKEJW', \n",
    "    'VzewbPMeZcIu8aakQ0cnOmhPnJmHhazFDG9cCSgka01JqT463a', \n",
    "    '959978501125402624-iRPiJiSVy7TDihEf1HsV74Ow72iavWO',\n",
    "    'ZvInw0gQb8xRvMLwoG6PDy18JwM66vhhyFnskeisZBGRe'\n",
    ").loadapi())\n",
    "# lzhoudevau passed 7 \n",
    "twitter_api_list.append(TwitterApi(\n",
    "    'pbFZlAThsyleV4IWazYaG6WH0', \n",
    "    'w01obwo4ECZfl4aIbhEA8q5GnMGTKVXiWvsDq6D8eE4DiwTpps', \n",
    "    '959974918619385856-sGUbwHJQd8YrdoNkJGDTyvpafFjh7wi',\n",
    "    '676MhvwxiPZoUv6f8Upm2fVaZiPUa5jDvCwFHA05HowiE'\n",
    ").loadapi())\n",
    "# ucablz4 passed 8\n",
    "twitter_api_list.append(TwitterApi(\n",
    "    'CeIvDs3UbPO4Yj4XK6ZFHzVIU', \n",
    "    'j0eRROwvGFk1CEciSehtUOc2SCVmxzMhWbQd3sUDhztdICPtMW', \n",
    "    '930982504596672517-AE7R6i4xaNPUeXME2S4cyeTgSJNBVEv',\n",
    "    'JEmF4hPSTD65lFmYM1Zm3x4I6Xf7kUQ93NvlodJ2jPrQN'\n",
    ").loadapi())\n",
    "# liyi.zhou.17 passed 9\n",
    "twitter_api_list.append(TwitterApi(\n",
    "    'AdCVM7NUpICq9RcYnZiM68FLb', \n",
    "    '0hbBfyXK8CBCvl9S6Zu1CkWTlAo1c4rvfsAl8ot4VPehTLpHL4', \n",
    "    '930982019672178689-UpCYlSLDFDiwcr44weBZoDO4CY2npyE',\n",
    "    's3Z5H1cADAMYElfGhYCE27ZQSWNR4EP2n1FcJmcwG80ZB'\n",
    ").loadapi())\n",
    "# lzhou1110 10\n",
    "twitter_api_list.append(TwitterApi(\n",
    "    'yom0HoCImxDZobnZzDrJsESke',\n",
    "    'iPDqeGyq40FbovpFUoLdunLnFINEDB5MQuzFFbo0KBoBiM4mk0',\n",
    "    '910787059501150208-vvOcHytvhGncJTtuAF23tywLu5UTSbL',\n",
    "    'lL4vIlZlKMurhhgsZGM11hGh6LG6cUBtaHqbMiLYJTZhj'\n",
    ").loadapi())\n",
    "# tao 11\n",
    "twitter_api_list.append(TwitterApi(\n",
    "    'YZD91p9NpWydELrliHkx3FkV2',\n",
    "    'dchHYkpVxp7Uq1Mi5fA94GfCKWFUrQ1VRp0kQJsI2nXXTJjqUk',\n",
    "    '960929372206223360-TgkpvCQWqTdf9Po9DaOJCrOCGHiMGVV',\n",
    "    'pRCYaoy3cKWmzvIZ3rDExlxSBI1SVTVIGLRfvpzFxTaVp'\n",
    ").loadapi())\n",
    "# wu api 12\n",
    "twitter_api_list.append(TwitterApi(\n",
    "    '6hDKNKAEVflvc1QiKWRwEvqIU',\n",
    "    'LAOoZL1qKs4l9VTyWRKOibLj4tm14n6ZziMX9wd9Wo3NJ8ADyC',\n",
    "    '961193810951856129-nGfaxWcrgS4i0gReDmyg68xOZoWiBPU',\n",
    "    'xDwZpIXjrvcUZpqxz39e77XM924Ek9tBQ69aC9JtDPMEC'\n",
    ").loadapi())\n",
    "# peter.liyi.z api 13\n",
    "twitter_api_list.append(TwitterApi(\n",
    "    'AFRdbq1jpYv5uHzc2XXilJBMY',\n",
    "    'UvSj6ZnbUG0t3nQASgd7kSHeiCoL14Iadt4f8gI4Y4QhsanovG',\n",
    "    '2166615014-QcdbmCt252E02I2wAMVgXAJMXtE5tgyQpABuAkr',\n",
    "    '5nYYyhO1WenLXLuuQ6Kthlg8xOg7wlcX7zEP1aLg6abHT'\n",
    ").loadapi())\n",
    "# miao api 14\n",
    "twitter_api_list.append(TwitterApi(\n",
    "    'FlmshcUW970JhOuWCrffznTzM',\n",
    "    '33oh92E47FaeQm6GNWvC5axvmN3nRm6IKhKwN7UX7Xys7pfCtA',\n",
    "    '320714154-woEAipLwLvVwkJo2o9i5IYvoSaFGqzV6pN8nTboL',\n",
    "    'M0UVpBAPdGI3yzfXqXd7vhcx4DRttCLV9LsQTjRR7Fpei'\n",
    ").loadapi())\n",
    "# ucl lzhou adlrl account 15\n",
    "twitter_api_list.append(TwitterApi(\n",
    "    '45mvtiqyyq5B1cXi6kPJHq2TO',\n",
    "    'yrCn2qyWiyYNZXgGX0RhHCAUFV0pjg30twa9txtwltX2CYJvRy',\n",
    "    '961358756595535873-obN8fa0WJRG7y5ptgtEbO0btCXWagwx',\n",
    "    'hCKeIKCThs1xmCUsiaMms0jkHXNshVHSVTu1hbUcTa1kz'\n",
    ").loadapi())\n",
    "# ucl lzhou adlrl account ucablz4 16\n",
    "twitter_api_list.append(TwitterApi(\n",
    "    '75xtkzO360GjmMgLhaSZ1zH0u',\n",
    "    '2QM0T8J3Jwy4aJEuaTJk9GT6PxkcFVpGqgwoqWvmkvgvq7mqdr',\n",
    "    '961359707809157122-EUhutRfRHEBPSeE791pVGzYd2oMMq87',\n",
    "    'WrgrnvyxVNBFNtkDwD4e1sGw2rQNhvbiOU9YaGkgcK1jA'\n",
    ").loadapi())\n",
    "# 浙大 刑 17\n",
    "twitter_api_list.append(TwitterApi(\n",
    "    'T5cDUb70emiXsUqIInL9cDo8v',\n",
    "    'mrdtfmZdaHI0c7C1i07F6YOs6Pvwg2br6P3KJ6jAFnXFJOAuYd',\n",
    "    '811130947982626816-LFaMFVl0nH51VP8Ug6PdythywNGs1V1',\n",
    "    '9NsemWbHwhH0KhERWGJyKIXZ7ws4iEqKiIMLjJA2VoPlO'\n",
    ").loadapi())"
   ]
  },
  {
   "cell_type": "code",
   "execution_count": null,
   "metadata": {},
   "outputs": [
    {
     "name": "stdout",
     "output_type": "stream",
     "text": [
      "Loading data file from path /Users/lzhou/git/github/uclresearchanalysis/other/newcrawl.dat\n"
     ]
    },
    {
     "name": "stderr",
     "output_type": "stream",
     "text": [
      "  0%|          | 0.00/106k [00:00<?, ?Twitter friendship/s]"
     ]
    },
    {
     "name": "stdout",
     "output_type": "stream",
     "text": [
      "'Loaded 4914 entires'\n",
      "Loading data file from path /Users/lzhou/git/github/uclresearchanalysis/data/nyc/pickle/needcrawl.dat\n",
      "'Loaded 110195 entires'\n",
      "Number of users we still need to crawl: 108179\n"
     ]
    },
    {
     "name": "stderr",
     "output_type": "stream",
     "text": [
      "Rate limit reached. Sleeping for: 430\n",
      "  0%|          | 18.0/106k [07:24<741:45:02, 24.7s/Twitter friendship]"
     ]
    },
    {
     "name": "stdout",
     "output_type": "stream",
     "text": [
      "Dumping data to path /Users/lzhou/git/github/uclresearchanalysis/other/newcrawl.dat\n",
      "('Finished dumping data to path '\n",
      " '/Users/lzhou/git/github/uclresearchanalysis/other/newcrawl.dat')\n",
      "Loading data file from path /Users/lzhou/git/github/uclresearchanalysis/other/newcrawl.dat\n",
      "'Loaded 4932 entires'\n"
     ]
    },
    {
     "name": "stderr",
     "output_type": "stream",
     "text": [
      "  0%|          | 36.0/106k [07:33<523:27:20, 17.4s/Twitter friendship]"
     ]
    },
    {
     "name": "stdout",
     "output_type": "stream",
     "text": [
      "Dumping data to path /Users/lzhou/git/github/uclresearchanalysis/other/newcrawl.dat\n",
      "('Finished dumping data to path '\n",
      " '/Users/lzhou/git/github/uclresearchanalysis/other/newcrawl.dat')\n",
      "Loading data file from path /Users/lzhou/git/github/uclresearchanalysis/other/newcrawl.dat\n",
      "'Loaded 4950 entires'\n"
     ]
    },
    {
     "name": "stderr",
     "output_type": "stream",
     "text": [
      "  0%|          | 54.0/106k [07:44<372:03:29, 12.4s/Twitter friendship]"
     ]
    },
    {
     "name": "stdout",
     "output_type": "stream",
     "text": [
      "Dumping data to path /Users/lzhou/git/github/uclresearchanalysis/other/newcrawl.dat\n",
      "('Finished dumping data to path '\n",
      " '/Users/lzhou/git/github/uclresearchanalysis/other/newcrawl.dat')\n",
      "Loading data file from path /Users/lzhou/git/github/uclresearchanalysis/other/newcrawl.dat\n",
      "'Loaded 4968 entires'\n"
     ]
    },
    {
     "name": "stderr",
     "output_type": "stream",
     "text": [
      "  0%|          | 72.0/106k [07:55<265:52:37, 8.85s/Twitter friendship]"
     ]
    },
    {
     "name": "stdout",
     "output_type": "stream",
     "text": [
      "Dumping data to path /Users/lzhou/git/github/uclresearchanalysis/other/newcrawl.dat\n",
      "('Finished dumping data to path '\n",
      " '/Users/lzhou/git/github/uclresearchanalysis/other/newcrawl.dat')\n",
      "Loading data file from path /Users/lzhou/git/github/uclresearchanalysis/other/newcrawl.dat\n",
      "'Loaded 4986 entires'\n",
      "tweepy.TweepError Not authorized.  from:  2\n",
      "tweepy.TweepError Not authorized.  from:  7\n",
      "tweepy.TweepError Not authorized.  from:  10\n"
     ]
    },
    {
     "name": "stderr",
     "output_type": "stream",
     "text": [
      "  0%|          | 90.0/106k [08:04<190:29:21, 6.34s/Twitter friendship]"
     ]
    },
    {
     "name": "stdout",
     "output_type": "stream",
     "text": [
      "Dumping data to path /Users/lzhou/git/github/uclresearchanalysis/other/newcrawl.dat\n",
      "('Finished dumping data to path '\n",
      " '/Users/lzhou/git/github/uclresearchanalysis/other/newcrawl.dat')\n",
      "Loading data file from path /Users/lzhou/git/github/uclresearchanalysis/other/newcrawl.dat\n",
      "'Loaded 5004 entires'\n"
     ]
    },
    {
     "name": "stderr",
     "output_type": "stream",
     "text": [
      "Rate limit reached. Sleeping for: 850\n"
     ]
    },
    {
     "name": "stdout",
     "output_type": "stream",
     "text": [
      "tweepy.TweepError Not authorized.  from:  3\n",
      "tweepy.TweepError Not authorized.  from:  9\n"
     ]
    },
    {
     "name": "stderr",
     "output_type": "stream",
     "text": [
      "  0%|          | 108/106k [22:31<567:06:06, 18.9s/Twitter friendship] "
     ]
    },
    {
     "name": "stdout",
     "output_type": "stream",
     "text": [
      "tweepy.TweepError Not authorized.  from:  17\n",
      "Dumping data to path /Users/lzhou/git/github/uclresearchanalysis/other/newcrawl.dat\n",
      "('Finished dumping data to path '\n",
      " '/Users/lzhou/git/github/uclresearchanalysis/other/newcrawl.dat')\n",
      "Loading data file from path /Users/lzhou/git/github/uclresearchanalysis/other/newcrawl.dat\n",
      "'Loaded 5022 entires'\n",
      "tweepy.TweepError Not authorized.  from:  13\n"
     ]
    },
    {
     "name": "stderr",
     "output_type": "stream",
     "text": [
      "  0%|          | 126/106k [22:37<399:55:44, 13.3s/Twitter friendship]"
     ]
    },
    {
     "name": "stdout",
     "output_type": "stream",
     "text": [
      "Dumping data to path /Users/lzhou/git/github/uclresearchanalysis/other/newcrawl.dat\n",
      "('Finished dumping data to path '\n",
      " '/Users/lzhou/git/github/uclresearchanalysis/other/newcrawl.dat')\n",
      "Loading data file from path /Users/lzhou/git/github/uclresearchanalysis/other/newcrawl.dat\n",
      "'Loaded 5040 entires'\n"
     ]
    },
    {
     "name": "stderr",
     "output_type": "stream",
     "text": [
      "Rate limit reached. Sleeping for: 882\n",
      "  0%|          | 144/106k [37:33<728:04:46, 24.3s/Twitter friendship]"
     ]
    },
    {
     "name": "stdout",
     "output_type": "stream",
     "text": [
      "Dumping data to path /Users/lzhou/git/github/uclresearchanalysis/other/newcrawl.dat\n",
      "('Finished dumping data to path '\n",
      " '/Users/lzhou/git/github/uclresearchanalysis/other/newcrawl.dat')\n",
      "Loading data file from path /Users/lzhou/git/github/uclresearchanalysis/other/newcrawl.dat\n",
      "'Loaded 5058 entires'\n",
      "tweepy.TweepError Not authorized.  from:  0\n",
      "tweepy.TweepError Not authorized.  from:  13\n"
     ]
    },
    {
     "name": "stderr",
     "output_type": "stream",
     "text": [
      "  0%|          | 162/106k [37:42<514:05:20, 17.1s/Twitter friendship]"
     ]
    },
    {
     "name": "stdout",
     "output_type": "stream",
     "text": [
      "Dumping data to path /Users/lzhou/git/github/uclresearchanalysis/other/newcrawl.dat\n",
      "('Finished dumping data to path '\n",
      " '/Users/lzhou/git/github/uclresearchanalysis/other/newcrawl.dat')\n",
      "Loading data file from path /Users/lzhou/git/github/uclresearchanalysis/other/newcrawl.dat\n",
      "'Loaded 5076 entires'\n"
     ]
    },
    {
     "name": "stderr",
     "output_type": "stream",
     "text": [
      "  0%|          | 180/106k [37:47<362:37:22, 12.1s/Twitter friendship]"
     ]
    },
    {
     "name": "stdout",
     "output_type": "stream",
     "text": [
      "Dumping data to path /Users/lzhou/git/github/uclresearchanalysis/other/newcrawl.dat\n",
      "('Finished dumping data to path '\n",
      " '/Users/lzhou/git/github/uclresearchanalysis/other/newcrawl.dat')\n",
      "Loading data file from path /Users/lzhou/git/github/uclresearchanalysis/other/newcrawl.dat\n",
      "'Loaded 5094 entires'\n",
      "tweepy.TweepError [{'code': 34, 'message': 'Sorry, that page does not exist.'}]  from:  2\n",
      "tweepy.TweepError [{'code': 34, 'message': 'Sorry, that page does not exist.'}]  from:  5\n"
     ]
    },
    {
     "name": "stderr",
     "output_type": "stream",
     "text": [
      "  0%|          | 198/106k [37:58<259:19:33, 8.65s/Twitter friendship]"
     ]
    },
    {
     "name": "stdout",
     "output_type": "stream",
     "text": [
      "tweepy.TweepError [{'code': 34, 'message': 'Sorry, that page does not exist.'}]  from:  17\n",
      "Dumping data to path /Users/lzhou/git/github/uclresearchanalysis/other/newcrawl.dat\n",
      "('Finished dumping data to path '\n",
      " '/Users/lzhou/git/github/uclresearchanalysis/other/newcrawl.dat')\n",
      "Loading data file from path /Users/lzhou/git/github/uclresearchanalysis/other/newcrawl.dat\n",
      "'Loaded 5112 entires'\n",
      "tweepy.TweepError Not authorized.  from:  11\n"
     ]
    },
    {
     "name": "stderr",
     "output_type": "stream",
     "text": [
      "  0%|          | 216/106k [38:06<185:17:54, 6.18s/Twitter friendship]"
     ]
    },
    {
     "name": "stdout",
     "output_type": "stream",
     "text": [
      "Dumping data to path /Users/lzhou/git/github/uclresearchanalysis/other/newcrawl.dat\n",
      "('Finished dumping data to path '\n",
      " '/Users/lzhou/git/github/uclresearchanalysis/other/newcrawl.dat')\n",
      "Loading data file from path /Users/lzhou/git/github/uclresearchanalysis/other/newcrawl.dat\n",
      "'Loaded 5130 entires'\n",
      "tweepy.TweepError Not authorized.  from:  3\n",
      "tweepy.TweepError Not authorized.  from:  5\n",
      "tweepy.TweepError Not authorized.  from:  16\n"
     ]
    },
    {
     "name": "stderr",
     "output_type": "stream",
     "text": [
      "  0%|          | 234/106k [38:16<134:42:21, 4.49s/Twitter friendship]"
     ]
    },
    {
     "name": "stdout",
     "output_type": "stream",
     "text": [
      "Dumping data to path /Users/lzhou/git/github/uclresearchanalysis/other/newcrawl.dat\n",
      "('Finished dumping data to path '\n",
      " '/Users/lzhou/git/github/uclresearchanalysis/other/newcrawl.dat')\n",
      "Loading data file from path /Users/lzhou/git/github/uclresearchanalysis/other/newcrawl.dat\n",
      "'Loaded 5148 entires'\n",
      "tweepy.TweepError Not authorized.  from:  2\n",
      "tweepy.TweepError Not authorized.  from:  3\n",
      "tweepy.TweepError Not authorized.  from:  6\n"
     ]
    },
    {
     "name": "stderr",
     "output_type": "stream",
     "text": [
      "  0%|          | 252/106k [38:24<98:05:41, 3.27s/Twitter friendship] "
     ]
    },
    {
     "name": "stdout",
     "output_type": "stream",
     "text": [
      "Dumping data to path /Users/lzhou/git/github/uclresearchanalysis/other/newcrawl.dat\n",
      "('Finished dumping data to path '\n",
      " '/Users/lzhou/git/github/uclresearchanalysis/other/newcrawl.dat')\n",
      "Loading data file from path /Users/lzhou/git/github/uclresearchanalysis/other/newcrawl.dat\n",
      "'Loaded 5166 entires'\n",
      "tweepy.TweepError Not authorized.  from:  12\n"
     ]
    },
    {
     "name": "stderr",
     "output_type": "stream",
     "text": [
      "  0%|          | 270/106k [38:34<73:37:56, 2.46s/Twitter friendship]"
     ]
    },
    {
     "name": "stdout",
     "output_type": "stream",
     "text": [
      "Dumping data to path /Users/lzhou/git/github/uclresearchanalysis/other/newcrawl.dat\n",
      "('Finished dumping data to path '\n",
      " '/Users/lzhou/git/github/uclresearchanalysis/other/newcrawl.dat')\n",
      "Loading data file from path /Users/lzhou/git/github/uclresearchanalysis/other/newcrawl.dat\n",
      "'Loaded 5184 entires'\n",
      "tweepy.TweepError Not authorized.  from:  12\n"
     ]
    },
    {
     "name": "stderr",
     "output_type": "stream",
     "text": [
      "  0%|          | 288/106k [38:43<56:03:36, 1.87s/Twitter friendship]"
     ]
    },
    {
     "name": "stdout",
     "output_type": "stream",
     "text": [
      "Dumping data to path /Users/lzhou/git/github/uclresearchanalysis/other/newcrawl.dat\n",
      "('Finished dumping data to path '\n",
      " '/Users/lzhou/git/github/uclresearchanalysis/other/newcrawl.dat')\n",
      "Loading data file from path /Users/lzhou/git/github/uclresearchanalysis/other/newcrawl.dat\n",
      "'Loaded 5202 entires'\n"
     ]
    },
    {
     "name": "stderr",
     "output_type": "stream",
     "text": [
      "Rate limit reached. Sleeping for: 819\n",
      "  0%|          | 306/106k [52:37<456:04:41, 15.2s/Twitter friendship]"
     ]
    },
    {
     "name": "stdout",
     "output_type": "stream",
     "text": [
      "Dumping data to path /Users/lzhou/git/github/uclresearchanalysis/other/newcrawl.dat\n",
      "('Finished dumping data to path '\n",
      " '/Users/lzhou/git/github/uclresearchanalysis/other/newcrawl.dat')\n",
      "Loading data file from path /Users/lzhou/git/github/uclresearchanalysis/other/newcrawl.dat\n",
      "'Loaded 5220 entires'\n"
     ]
    },
    {
     "name": "stderr",
     "output_type": "stream",
     "text": [
      "  0%|          | 324/106k [52:47<323:50:26, 10.8s/Twitter friendship]"
     ]
    },
    {
     "name": "stdout",
     "output_type": "stream",
     "text": [
      "tweepy.TweepError [{'code': 34, 'message': 'Sorry, that page does not exist.'}]  from:  17\n",
      "Dumping data to path /Users/lzhou/git/github/uclresearchanalysis/other/newcrawl.dat\n",
      "('Finished dumping data to path '\n",
      " '/Users/lzhou/git/github/uclresearchanalysis/other/newcrawl.dat')\n",
      "Loading data file from path /Users/lzhou/git/github/uclresearchanalysis/other/newcrawl.dat\n",
      "'Loaded 5238 entires'\n",
      "tweepy.TweepError Not authorized.  from:  3\n"
     ]
    },
    {
     "name": "stderr",
     "output_type": "stream",
     "text": [
      "  0%|          | 342/106k [52:56<231:15:47, 7.72s/Twitter friendship]"
     ]
    },
    {
     "name": "stdout",
     "output_type": "stream",
     "text": [
      "Dumping data to path /Users/lzhou/git/github/uclresearchanalysis/other/newcrawl.dat\n",
      "('Finished dumping data to path '\n",
      " '/Users/lzhou/git/github/uclresearchanalysis/other/newcrawl.dat')\n",
      "Loading data file from path /Users/lzhou/git/github/uclresearchanalysis/other/newcrawl.dat\n",
      "'Loaded 5256 entires'\n",
      "tweepy.TweepError [{'code': 34, 'message': 'Sorry, that page does not exist.'}]  from:  3\n",
      "tweepy.TweepError Not authorized.  from:  10\n",
      "tweepy.TweepError [{'code': 34, 'message': 'Sorry, that page does not exist.'}]  from:  13\n"
     ]
    },
    {
     "name": "stderr",
     "output_type": "stream",
     "text": [
      "  0%|          | 360/106k [53:03<165:28:28, 5.53s/Twitter friendship]"
     ]
    },
    {
     "name": "stdout",
     "output_type": "stream",
     "text": [
      "Dumping data to path /Users/lzhou/git/github/uclresearchanalysis/other/newcrawl.dat\n",
      "('Finished dumping data to path '\n",
      " '/Users/lzhou/git/github/uclresearchanalysis/other/newcrawl.dat')\n",
      "Loading data file from path /Users/lzhou/git/github/uclresearchanalysis/other/newcrawl.dat\n",
      "'Loaded 5274 entires'\n"
     ]
    },
    {
     "name": "stderr",
     "output_type": "stream",
     "text": [
      "  0%|          | 378/106k [53:10<118:57:13, 3.97s/Twitter friendship]"
     ]
    },
    {
     "name": "stdout",
     "output_type": "stream",
     "text": [
      "Dumping data to path /Users/lzhou/git/github/uclresearchanalysis/other/newcrawl.dat\n",
      "('Finished dumping data to path '\n",
      " '/Users/lzhou/git/github/uclresearchanalysis/other/newcrawl.dat')\n",
      "Loading data file from path /Users/lzhou/git/github/uclresearchanalysis/other/newcrawl.dat\n",
      "'Loaded 5292 entires'\n"
     ]
    },
    {
     "name": "stderr",
     "output_type": "stream",
     "text": [
      "  0%|          | 396/106k [53:17<87:11:25, 2.91s/Twitter friendship] "
     ]
    },
    {
     "name": "stdout",
     "output_type": "stream",
     "text": [
      "Dumping data to path /Users/lzhou/git/github/uclresearchanalysis/other/newcrawl.dat\n",
      "('Finished dumping data to path '\n",
      " '/Users/lzhou/git/github/uclresearchanalysis/other/newcrawl.dat')\n",
      "Loading data file from path /Users/lzhou/git/github/uclresearchanalysis/other/newcrawl.dat\n",
      "'Loaded 5310 entires'\n",
      "tweepy.TweepError Not authorized.  from:  11\n",
      "tweepy.TweepError Not authorized.  from:  13\n"
     ]
    },
    {
     "name": "stderr",
     "output_type": "stream",
     "text": [
      "  0%|          | 414/106k [53:24<64:11:22, 2.14s/Twitter friendship]"
     ]
    },
    {
     "name": "stdout",
     "output_type": "stream",
     "text": [
      "Dumping data to path /Users/lzhou/git/github/uclresearchanalysis/other/newcrawl.dat\n",
      "('Finished dumping data to path '\n",
      " '/Users/lzhou/git/github/uclresearchanalysis/other/newcrawl.dat')\n",
      "Loading data file from path /Users/lzhou/git/github/uclresearchanalysis/other/newcrawl.dat\n",
      "'Loaded 5328 entires'\n"
     ]
    },
    {
     "name": "stderr",
     "output_type": "stream",
     "text": [
      "  0%|          | 432/106k [53:33<49:39:46, 1.66s/Twitter friendship]"
     ]
    },
    {
     "name": "stdout",
     "output_type": "stream",
     "text": [
      "Dumping data to path /Users/lzhou/git/github/uclresearchanalysis/other/newcrawl.dat\n",
      "('Finished dumping data to path '\n",
      " '/Users/lzhou/git/github/uclresearchanalysis/other/newcrawl.dat')\n",
      "Loading data file from path /Users/lzhou/git/github/uclresearchanalysis/other/newcrawl.dat\n",
      "'Loaded 5346 entires'\n"
     ]
    },
    {
     "name": "stderr",
     "output_type": "stream",
     "text": [
      "  0%|          | 450/106k [53:41<38:25:57, 1.28s/Twitter friendship]"
     ]
    },
    {
     "name": "stdout",
     "output_type": "stream",
     "text": [
      "tweepy.TweepError Not authorized.  from:  17\n",
      "Dumping data to path /Users/lzhou/git/github/uclresearchanalysis/other/newcrawl.dat\n",
      "('Finished dumping data to path '\n",
      " '/Users/lzhou/git/github/uclresearchanalysis/other/newcrawl.dat')\n",
      "Loading data file from path /Users/lzhou/git/github/uclresearchanalysis/other/newcrawl.dat\n",
      "'Loaded 5364 entires'\n",
      "tweepy.TweepError Not authorized.  from:  1\n",
      "tweepy.TweepError Not authorized.  from:  12\n"
     ]
    },
    {
     "name": "stderr",
     "output_type": "stream",
     "text": [
      "  0%|          | 468/106k [53:49<30:57:39, 1.03s/Twitter friendship]"
     ]
    },
    {
     "name": "stdout",
     "output_type": "stream",
     "text": [
      "Dumping data to path /Users/lzhou/git/github/uclresearchanalysis/other/newcrawl.dat\n",
      "('Finished dumping data to path '\n",
      " '/Users/lzhou/git/github/uclresearchanalysis/other/newcrawl.dat')\n",
      "Loading data file from path /Users/lzhou/git/github/uclresearchanalysis/other/newcrawl.dat\n",
      "'Loaded 5382 entires'\n"
     ]
    },
    {
     "name": "stderr",
     "output_type": "stream",
     "text": [
      "Rate limit reached. Sleeping for: 829\n"
     ]
    },
    {
     "name": "stdout",
     "output_type": "stream",
     "text": [
      "tweepy.TweepError [{'code': 34, 'message': 'Sorry, that page does not exist.'}]  from:  2\n"
     ]
    },
    {
     "name": "stderr",
     "output_type": "stream",
     "text": [
      "  0%|          | 486/106k [1:07:50<441:15:24, 14.8s/Twitter friendship]"
     ]
    },
    {
     "name": "stdout",
     "output_type": "stream",
     "text": [
      "Dumping data to path /Users/lzhou/git/github/uclresearchanalysis/other/newcrawl.dat\n",
      "('Finished dumping data to path '\n",
      " '/Users/lzhou/git/github/uclresearchanalysis/other/newcrawl.dat')\n",
      "Loading data file from path /Users/lzhou/git/github/uclresearchanalysis/other/newcrawl.dat\n",
      "'Loaded 5400 entires'\n",
      "tweepy.TweepError Not authorized.  from:  9\n",
      "tweepy.TweepError [{'code': 34, 'message': 'Sorry, that page does not exist.'}]  from:  13\n"
     ]
    },
    {
     "name": "stderr",
     "output_type": "stream",
     "text": [
      "  0%|          | 504/106k [1:07:57<312:17:20, 10.4s/Twitter friendship]"
     ]
    },
    {
     "name": "stdout",
     "output_type": "stream",
     "text": [
      "tweepy.TweepError Not authorized.  from:  17\n",
      "Dumping data to path /Users/lzhou/git/github/uclresearchanalysis/other/newcrawl.dat\n",
      "('Finished dumping data to path '\n",
      " '/Users/lzhou/git/github/uclresearchanalysis/other/newcrawl.dat')\n",
      "Loading data file from path /Users/lzhou/git/github/uclresearchanalysis/other/newcrawl.dat\n",
      "'Loaded 5418 entires'\n",
      "tweepy.TweepError [{'code': 34, 'message': 'Sorry, that page does not exist.'}]  from:  11\n"
     ]
    },
    {
     "name": "stderr",
     "output_type": "stream",
     "text": [
      "  0%|          | 522/106k [1:08:05<222:21:11, 7.44s/Twitter friendship]"
     ]
    },
    {
     "name": "stdout",
     "output_type": "stream",
     "text": [
      "Dumping data to path /Users/lzhou/git/github/uclresearchanalysis/other/newcrawl.dat\n",
      "('Finished dumping data to path '\n",
      " '/Users/lzhou/git/github/uclresearchanalysis/other/newcrawl.dat')\n",
      "Loading data file from path /Users/lzhou/git/github/uclresearchanalysis/other/newcrawl.dat\n",
      "'Loaded 5436 entires'\n"
     ]
    },
    {
     "name": "stderr",
     "output_type": "stream",
     "text": [
      "  0%|          | 540/106k [1:08:13<159:31:08, 5.34s/Twitter friendship]"
     ]
    },
    {
     "name": "stdout",
     "output_type": "stream",
     "text": [
      "Dumping data to path /Users/lzhou/git/github/uclresearchanalysis/other/newcrawl.dat\n",
      "('Finished dumping data to path '\n",
      " '/Users/lzhou/git/github/uclresearchanalysis/other/newcrawl.dat')\n",
      "Loading data file from path /Users/lzhou/git/github/uclresearchanalysis/other/newcrawl.dat\n",
      "'Loaded 5454 entires'\n",
      "tweepy.TweepError Not authorized.  from:  4\n",
      "tweepy.TweepError [{'code': 34, 'message': 'Sorry, that page does not exist.'}]  from:  9\n"
     ]
    },
    {
     "name": "stderr",
     "output_type": "stream",
     "text": [
      "  1%|          | 558/106k [1:08:21<115:50:42, 3.88s/Twitter friendship]"
     ]
    },
    {
     "name": "stdout",
     "output_type": "stream",
     "text": [
      "Dumping data to path /Users/lzhou/git/github/uclresearchanalysis/other/newcrawl.dat\n",
      "('Finished dumping data to path '\n",
      " '/Users/lzhou/git/github/uclresearchanalysis/other/newcrawl.dat')\n",
      "Loading data file from path /Users/lzhou/git/github/uclresearchanalysis/other/newcrawl.dat\n",
      "'Loaded 5472 entires'\n"
     ]
    },
    {
     "name": "stderr",
     "output_type": "stream",
     "text": [
      "  1%|          | 576/106k [1:08:29<84:54:33, 2.84s/Twitter friendship] "
     ]
    },
    {
     "name": "stdout",
     "output_type": "stream",
     "text": [
      "Dumping data to path /Users/lzhou/git/github/uclresearchanalysis/other/newcrawl.dat\n",
      "('Finished dumping data to path '\n",
      " '/Users/lzhou/git/github/uclresearchanalysis/other/newcrawl.dat')\n",
      "Loading data file from path /Users/lzhou/git/github/uclresearchanalysis/other/newcrawl.dat\n",
      "'Loaded 5490 entires'\n"
     ]
    },
    {
     "name": "stderr",
     "output_type": "stream",
     "text": [
      "Rate limit reached. Sleeping for: 851\n"
     ]
    },
    {
     "name": "stdout",
     "output_type": "stream",
     "text": [
      "tweepy.TweepError Not authorized.  from:  9\n",
      "tweepy.TweepError [{'code': 34, 'message': 'Sorry, that page does not exist.'}]  from:  15\n"
     ]
    },
    {
     "name": "stderr",
     "output_type": "stream",
     "text": [
      "  1%|          | 594/106k [1:22:55<490:39:29, 16.4s/Twitter friendship]"
     ]
    },
    {
     "name": "stdout",
     "output_type": "stream",
     "text": [
      "tweepy.TweepError Not authorized.  from:  17\n",
      "Dumping data to path /Users/lzhou/git/github/uclresearchanalysis/other/newcrawl.dat\n",
      "('Finished dumping data to path '\n",
      " '/Users/lzhou/git/github/uclresearchanalysis/other/newcrawl.dat')\n",
      "Loading data file from path /Users/lzhou/git/github/uclresearchanalysis/other/newcrawl.dat\n",
      "'Loaded 5508 entires'\n",
      "tweepy.TweepError Not authorized.  from:  3\n"
     ]
    },
    {
     "name": "stderr",
     "output_type": "stream",
     "text": [
      "  1%|          | 612/106k [1:23:06<348:55:39, 11.7s/Twitter friendship]"
     ]
    },
    {
     "name": "stdout",
     "output_type": "stream",
     "text": [
      "Dumping data to path /Users/lzhou/git/github/uclresearchanalysis/other/newcrawl.dat\n",
      "('Finished dumping data to path '\n",
      " '/Users/lzhou/git/github/uclresearchanalysis/other/newcrawl.dat')\n",
      "Loading data file from path /Users/lzhou/git/github/uclresearchanalysis/other/newcrawl.dat\n",
      "'Loaded 5526 entires'\n",
      "tweepy.TweepError Not authorized.  from:  7\n"
     ]
    },
    {
     "name": "stderr",
     "output_type": "stream",
     "text": [
      "  1%|          | 630/106k [1:23:21<252:02:31, 8.44s/Twitter friendship]"
     ]
    },
    {
     "name": "stdout",
     "output_type": "stream",
     "text": [
      "Dumping data to path /Users/lzhou/git/github/uclresearchanalysis/other/newcrawl.dat\n",
      "('Finished dumping data to path '\n",
      " '/Users/lzhou/git/github/uclresearchanalysis/other/newcrawl.dat')\n",
      "Loading data file from path /Users/lzhou/git/github/uclresearchanalysis/other/newcrawl.dat\n",
      "'Loaded 5544 entires'\n"
     ]
    },
    {
     "name": "stderr",
     "output_type": "stream",
     "text": [
      "Rate limit reached. Sleeping for: 863\n"
     ]
    },
    {
     "name": "stdout",
     "output_type": "stream",
     "text": [
      "tweepy.TweepError Not authorized.  from:  11\n"
     ]
    },
    {
     "name": "stderr",
     "output_type": "stream",
     "text": [
      "  1%|          | 648/106k [1:37:59<613:17:23, 20.5s/Twitter friendship]"
     ]
    },
    {
     "name": "stdout",
     "output_type": "stream",
     "text": [
      "tweepy.TweepError Not authorized.  from:  17\n",
      "Dumping data to path /Users/lzhou/git/github/uclresearchanalysis/other/newcrawl.dat\n",
      "('Finished dumping data to path '\n",
      " '/Users/lzhou/git/github/uclresearchanalysis/other/newcrawl.dat')\n",
      "Loading data file from path /Users/lzhou/git/github/uclresearchanalysis/other/newcrawl.dat\n",
      "'Loaded 5562 entires'\n",
      "tweepy.TweepError Not authorized.  from:  1\n"
     ]
    },
    {
     "name": "stderr",
     "output_type": "stream",
     "text": [
      "  1%|          | 666/106k [1:38:07<433:14:05, 14.5s/Twitter friendship]"
     ]
    },
    {
     "name": "stdout",
     "output_type": "stream",
     "text": [
      "Dumping data to path /Users/lzhou/git/github/uclresearchanalysis/other/newcrawl.dat\n",
      "('Finished dumping data to path '\n",
      " '/Users/lzhou/git/github/uclresearchanalysis/other/newcrawl.dat')\n",
      "Loading data file from path /Users/lzhou/git/github/uclresearchanalysis/other/newcrawl.dat\n",
      "'Loaded 5580 entires'\n"
     ]
    },
    {
     "name": "stderr",
     "output_type": "stream",
     "text": [
      "  1%|          | 684/106k [1:38:14<306:53:23, 10.3s/Twitter friendship]"
     ]
    },
    {
     "name": "stdout",
     "output_type": "stream",
     "text": [
      "Dumping data to path /Users/lzhou/git/github/uclresearchanalysis/other/newcrawl.dat\n",
      "('Finished dumping data to path '\n",
      " '/Users/lzhou/git/github/uclresearchanalysis/other/newcrawl.dat')\n",
      "Loading data file from path /Users/lzhou/git/github/uclresearchanalysis/other/newcrawl.dat\n",
      "'Loaded 5598 entires'\n",
      "tweepy.TweepError Not authorized.  from:  9\n",
      "tweepy.TweepError Not authorized.  from:  13\n"
     ]
    },
    {
     "name": "stderr",
     "output_type": "stream",
     "text": [
      "  1%|          | 702/106k [1:38:24<219:37:36, 7.36s/Twitter friendship]"
     ]
    },
    {
     "name": "stdout",
     "output_type": "stream",
     "text": [
      "Dumping data to path /Users/lzhou/git/github/uclresearchanalysis/other/newcrawl.dat\n",
      "('Finished dumping data to path '\n",
      " '/Users/lzhou/git/github/uclresearchanalysis/other/newcrawl.dat')\n",
      "Loading data file from path /Users/lzhou/git/github/uclresearchanalysis/other/newcrawl.dat\n",
      "'Loaded 5616 entires'\n",
      "tweepy.TweepError [{'code': 34, 'message': 'Sorry, that page does not exist.'}]  from:  4\n",
      "tweepy.TweepError Not authorized.  from:  9\n"
     ]
    },
    {
     "name": "stderr",
     "output_type": "stream",
     "text": [
      "  1%|          | 720/106k [1:38:33<157:55:07, 5.29s/Twitter friendship]"
     ]
    },
    {
     "name": "stdout",
     "output_type": "stream",
     "text": [
      "Dumping data to path /Users/lzhou/git/github/uclresearchanalysis/other/newcrawl.dat\n",
      "('Finished dumping data to path '\n",
      " '/Users/lzhou/git/github/uclresearchanalysis/other/newcrawl.dat')\n",
      "Loading data file from path /Users/lzhou/git/github/uclresearchanalysis/other/newcrawl.dat\n",
      "'Loaded 5634 entires'\n"
     ]
    },
    {
     "name": "stderr",
     "output_type": "stream",
     "text": [
      "  1%|          | 738/106k [1:38:39<113:50:48, 3.81s/Twitter friendship]"
     ]
    },
    {
     "name": "stdout",
     "output_type": "stream",
     "text": [
      "Dumping data to path /Users/lzhou/git/github/uclresearchanalysis/other/newcrawl.dat\n",
      "('Finished dumping data to path '\n",
      " '/Users/lzhou/git/github/uclresearchanalysis/other/newcrawl.dat')\n",
      "Loading data file from path /Users/lzhou/git/github/uclresearchanalysis/other/newcrawl.dat\n",
      "'Loaded 5652 entires'\n",
      "tweepy.TweepError Not authorized.  from:  11\n"
     ]
    },
    {
     "name": "stderr",
     "output_type": "stream",
     "text": [
      "  1%|          | 756/106k [1:38:49<84:37:28, 2.84s/Twitter friendship] "
     ]
    },
    {
     "name": "stdout",
     "output_type": "stream",
     "text": [
      "tweepy.TweepError Not authorized.  from:  17\n",
      "Dumping data to path /Users/lzhou/git/github/uclresearchanalysis/other/newcrawl.dat\n",
      "('Finished dumping data to path '\n",
      " '/Users/lzhou/git/github/uclresearchanalysis/other/newcrawl.dat')\n",
      "Loading data file from path /Users/lzhou/git/github/uclresearchanalysis/other/newcrawl.dat\n",
      "'Loaded 5670 entires'\n",
      "tweepy.TweepError Not authorized.  from:  3\n",
      "tweepy.TweepError [{'code': 34, 'message': 'Sorry, that page does not exist.'}]  from:  16\n"
     ]
    },
    {
     "name": "stderr",
     "output_type": "stream",
     "text": [
      "  1%|          | 774/106k [1:38:56<62:37:12, 2.10s/Twitter friendship]"
     ]
    },
    {
     "name": "stdout",
     "output_type": "stream",
     "text": [
      "Dumping data to path /Users/lzhou/git/github/uclresearchanalysis/other/newcrawl.dat\n",
      "('Finished dumping data to path '\n",
      " '/Users/lzhou/git/github/uclresearchanalysis/other/newcrawl.dat')\n",
      "Loading data file from path /Users/lzhou/git/github/uclresearchanalysis/other/newcrawl.dat\n",
      "'Loaded 5688 entires'\n",
      "tweepy.TweepError [{'code': 34, 'message': 'Sorry, that page does not exist.'}]  from:  3\n"
     ]
    },
    {
     "name": "stderr",
     "output_type": "stream",
     "text": [
      "  1%|          | 792/106k [1:39:05<48:01:41, 1.61s/Twitter friendship]"
     ]
    },
    {
     "name": "stdout",
     "output_type": "stream",
     "text": [
      "Dumping data to path /Users/lzhou/git/github/uclresearchanalysis/other/newcrawl.dat\n",
      "('Finished dumping data to path '\n",
      " '/Users/lzhou/git/github/uclresearchanalysis/other/newcrawl.dat')\n",
      "Loading data file from path /Users/lzhou/git/github/uclresearchanalysis/other/newcrawl.dat\n",
      "'Loaded 5706 entires'\n",
      "tweepy.TweepError Not authorized.  from:  0\n"
     ]
    },
    {
     "name": "stderr",
     "output_type": "stream",
     "text": [
      "  1%|          | 810/106k [1:39:11<36:35:29, 1.23s/Twitter friendship]"
     ]
    },
    {
     "name": "stdout",
     "output_type": "stream",
     "text": [
      "Dumping data to path /Users/lzhou/git/github/uclresearchanalysis/other/newcrawl.dat\n",
      "('Finished dumping data to path '\n",
      " '/Users/lzhou/git/github/uclresearchanalysis/other/newcrawl.dat')\n",
      "Loading data file from path /Users/lzhou/git/github/uclresearchanalysis/other/newcrawl.dat\n",
      "'Loaded 5724 entires'\n"
     ]
    },
    {
     "name": "stderr",
     "output_type": "stream",
     "text": [
      "  1%|          | 828/106k [1:39:19<29:43:50, 1.00Twitter friendship/s]"
     ]
    },
    {
     "name": "stdout",
     "output_type": "stream",
     "text": [
      "Dumping data to path /Users/lzhou/git/github/uclresearchanalysis/other/newcrawl.dat\n",
      "('Finished dumping data to path '\n",
      " '/Users/lzhou/git/github/uclresearchanalysis/other/newcrawl.dat')\n",
      "Loading data file from path /Users/lzhou/git/github/uclresearchanalysis/other/newcrawl.dat\n",
      "'Loaded 5742 entires'\n",
      "tweepy.TweepError Not authorized.  from:  8\n",
      "tweepy.TweepError Not authorized.  from:  11\n",
      "tweepy.TweepError [{'code': 34, 'message': 'Sorry, that page does not exist.'}]  from:  13\n"
     ]
    },
    {
     "name": "stderr",
     "output_type": "stream",
     "text": [
      "  1%|          | 846/106k [1:39:25<23:57:20, 1.24Twitter friendship/s]"
     ]
    },
    {
     "name": "stdout",
     "output_type": "stream",
     "text": [
      "Dumping data to path /Users/lzhou/git/github/uclresearchanalysis/other/newcrawl.dat\n",
      "('Finished dumping data to path '\n",
      " '/Users/lzhou/git/github/uclresearchanalysis/other/newcrawl.dat')\n",
      "Loading data file from path /Users/lzhou/git/github/uclresearchanalysis/other/newcrawl.dat\n",
      "'Loaded 5760 entires'\n",
      "tweepy.TweepError Not authorized.  from:  1\n",
      "tweepy.TweepError Not authorized.  from:  5\n",
      "tweepy.TweepError Not authorized.  from:  8\n"
     ]
    },
    {
     "name": "stderr",
     "output_type": "stream",
     "text": [
      "Rate limit reached. Sleeping for: 804\n",
      "  1%|          | 864/106k [1:53:06<424:41:07, 14.2s/Twitter friendship]"
     ]
    },
    {
     "name": "stdout",
     "output_type": "stream",
     "text": [
      "Dumping data to path /Users/lzhou/git/github/uclresearchanalysis/other/newcrawl.dat\n",
      "('Finished dumping data to path '\n",
      " '/Users/lzhou/git/github/uclresearchanalysis/other/newcrawl.dat')\n",
      "Loading data file from path /Users/lzhou/git/github/uclresearchanalysis/other/newcrawl.dat\n",
      "'Loaded 5778 entires'\n",
      "tweepy.TweepError [{'code': 34, 'message': 'Sorry, that page does not exist.'}]  from:  16\n"
     ]
    },
    {
     "name": "stderr",
     "output_type": "stream",
     "text": [
      "  1%|          | 882/106k [1:53:15<301:43:11, 10.1s/Twitter friendship]"
     ]
    },
    {
     "name": "stdout",
     "output_type": "stream",
     "text": [
      "Dumping data to path /Users/lzhou/git/github/uclresearchanalysis/other/newcrawl.dat\n",
      "('Finished dumping data to path '\n",
      " '/Users/lzhou/git/github/uclresearchanalysis/other/newcrawl.dat')\n",
      "Loading data file from path /Users/lzhou/git/github/uclresearchanalysis/other/newcrawl.dat\n",
      "'Loaded 5796 entires'\n",
      "tweepy.TweepError Not authorized.  from:  4\n",
      "tweepy.TweepError Not authorized.  from:  8\n",
      "tweepy.TweepError [{'code': 34, 'message': 'Sorry, that page does not exist.'}]  from:  14\n"
     ]
    },
    {
     "name": "stderr",
     "output_type": "stream",
     "text": [
      "  1%|          | 900/106k [1:53:23<215:04:42, 7.22s/Twitter friendship]"
     ]
    },
    {
     "name": "stdout",
     "output_type": "stream",
     "text": [
      "Dumping data to path /Users/lzhou/git/github/uclresearchanalysis/other/newcrawl.dat\n",
      "('Finished dumping data to path '\n",
      " '/Users/lzhou/git/github/uclresearchanalysis/other/newcrawl.dat')\n",
      "Loading data file from path /Users/lzhou/git/github/uclresearchanalysis/other/newcrawl.dat\n",
      "'Loaded 5814 entires'\n",
      "tweepy.TweepError Not authorized.  from:  3\n",
      "tweepy.TweepError Not authorized.  from:  6\n",
      "tweepy.TweepError Not authorized.  from:  13\n"
     ]
    },
    {
     "name": "stderr",
     "output_type": "stream",
     "text": [
      "  1%|          | 918/106k [1:53:30<153:48:31, 5.16s/Twitter friendship]"
     ]
    },
    {
     "name": "stdout",
     "output_type": "stream",
     "text": [
      "Dumping data to path /Users/lzhou/git/github/uclresearchanalysis/other/newcrawl.dat\n",
      "('Finished dumping data to path '\n",
      " '/Users/lzhou/git/github/uclresearchanalysis/other/newcrawl.dat')\n",
      "Loading data file from path /Users/lzhou/git/github/uclresearchanalysis/other/newcrawl.dat\n",
      "'Loaded 5832 entires'\n"
     ]
    },
    {
     "name": "stderr",
     "output_type": "stream",
     "text": [
      "  1%|          | 936/106k [1:53:40<112:30:53, 3.78s/Twitter friendship]"
     ]
    },
    {
     "name": "stdout",
     "output_type": "stream",
     "text": [
      "Dumping data to path /Users/lzhou/git/github/uclresearchanalysis/other/newcrawl.dat\n",
      "('Finished dumping data to path '\n",
      " '/Users/lzhou/git/github/uclresearchanalysis/other/newcrawl.dat')\n",
      "Loading data file from path /Users/lzhou/git/github/uclresearchanalysis/other/newcrawl.dat\n",
      "'Loaded 5850 entires'\n",
      "tweepy.TweepError Not authorized.  from:  9\n",
      "tweepy.TweepError Not authorized.  from:  15\n"
     ]
    },
    {
     "name": "stderr",
     "output_type": "stream",
     "text": [
      "  1%|          | 954/106k [1:53:49<83:21:41, 2.80s/Twitter friendship] "
     ]
    },
    {
     "name": "stdout",
     "output_type": "stream",
     "text": [
      "Dumping data to path /Users/lzhou/git/github/uclresearchanalysis/other/newcrawl.dat\n",
      "('Finished dumping data to path '\n",
      " '/Users/lzhou/git/github/uclresearchanalysis/other/newcrawl.dat')\n",
      "Loading data file from path /Users/lzhou/git/github/uclresearchanalysis/other/newcrawl.dat\n",
      "'Loaded 5868 entires'\n",
      "tweepy.TweepError [{'code': 34, 'message': 'Sorry, that page does not exist.'}]  from:  5\n",
      "tweepy.TweepError [{'code': 34, 'message': 'Sorry, that page does not exist.'}]  from:  6\n",
      "tweepy.TweepError [{'code': 34, 'message': 'Sorry, that page does not exist.'}]  from:  14\n"
     ]
    },
    {
     "name": "stderr",
     "output_type": "stream",
     "text": [
      "  1%|          | 972/106k [1:54:00<63:50:36, 2.14s/Twitter friendship]"
     ]
    },
    {
     "name": "stdout",
     "output_type": "stream",
     "text": [
      "Dumping data to path /Users/lzhou/git/github/uclresearchanalysis/other/newcrawl.dat\n",
      "('Finished dumping data to path '\n",
      " '/Users/lzhou/git/github/uclresearchanalysis/other/newcrawl.dat')\n",
      "Loading data file from path /Users/lzhou/git/github/uclresearchanalysis/other/newcrawl.dat\n",
      "'Loaded 5886 entires'\n",
      "tweepy.TweepError [{'code': 34, 'message': 'Sorry, that page does not exist.'}]  from:  4\n"
     ]
    },
    {
     "name": "stderr",
     "output_type": "stream",
     "text": [
      "Rate limit reached. Sleeping for: 836\n",
      "  1%|          | 990/106k [2:08:11<467:13:52, 15.7s/Twitter friendship]"
     ]
    },
    {
     "name": "stdout",
     "output_type": "stream",
     "text": [
      "Dumping data to path /Users/lzhou/git/github/uclresearchanalysis/other/newcrawl.dat\n",
      "('Finished dumping data to path '\n",
      " '/Users/lzhou/git/github/uclresearchanalysis/other/newcrawl.dat')\n",
      "Loading data file from path /Users/lzhou/git/github/uclresearchanalysis/other/newcrawl.dat\n",
      "'Loaded 5904 entires'\n"
     ]
    },
    {
     "name": "stderr",
     "output_type": "stream",
     "text": [
      "  1%|          | 0.98k/106k [2:08:24<333:10:34, 11.2s/Twitter friendship]"
     ]
    },
    {
     "name": "stdout",
     "output_type": "stream",
     "text": [
      "tweepy.TweepError [{'code': 34, 'message': 'Sorry, that page does not exist.'}]  from:  17\n",
      "Dumping data to path /Users/lzhou/git/github/uclresearchanalysis/other/newcrawl.dat\n",
      "('Finished dumping data to path '\n",
      " '/Users/lzhou/git/github/uclresearchanalysis/other/newcrawl.dat')\n",
      "Loading data file from path /Users/lzhou/git/github/uclresearchanalysis/other/newcrawl.dat\n",
      "'Loaded 5922 entires'\n",
      "tweepy.TweepError [{'code': 34, 'message': 'Sorry, that page does not exist.'}]  from:  1\n",
      "tweepy.TweepError Not authorized.  from:  3\n",
      "tweepy.TweepError Not authorized.  from:  7\n",
      "tweepy.TweepError [{'code': 34, 'message': 'Sorry, that page does not exist.'}]  from:  9\n",
      "tweepy.TweepError Not authorized.  from:  15\n"
     ]
    },
    {
     "name": "stderr",
     "output_type": "stream",
     "text": [
      "  1%|          | 1.00k/106k [2:08:32<237:05:47, 7.97s/Twitter friendship]"
     ]
    },
    {
     "name": "stdout",
     "output_type": "stream",
     "text": [
      "Dumping data to path /Users/lzhou/git/github/uclresearchanalysis/other/newcrawl.dat\n",
      "('Finished dumping data to path '\n",
      " '/Users/lzhou/git/github/uclresearchanalysis/other/newcrawl.dat')\n",
      "Loading data file from path /Users/lzhou/git/github/uclresearchanalysis/other/newcrawl.dat\n",
      "'Loaded 5940 entires'\n",
      "tweepy.TweepError [{'code': 34, 'message': 'Sorry, that page does not exist.'}]  from:  0\n",
      "tweepy.TweepError Not authorized.  from:  3\n"
     ]
    },
    {
     "name": "stderr",
     "output_type": "stream",
     "text": [
      "  1%|          | 1.02k/106k [2:08:41<170:23:40, 5.73s/Twitter friendship]"
     ]
    },
    {
     "name": "stdout",
     "output_type": "stream",
     "text": [
      "Dumping data to path /Users/lzhou/git/github/uclresearchanalysis/other/newcrawl.dat\n",
      "('Finished dumping data to path '\n",
      " '/Users/lzhou/git/github/uclresearchanalysis/other/newcrawl.dat')\n",
      "Loading data file from path /Users/lzhou/git/github/uclresearchanalysis/other/newcrawl.dat\n",
      "'Loaded 5958 entires'\n",
      "tweepy.TweepError [{'code': 34, 'message': 'Sorry, that page does not exist.'}]  from:  2\n",
      "tweepy.TweepError [{'code': 34, 'message': 'Sorry, that page does not exist.'}]  from:  9\n"
     ]
    },
    {
     "name": "stderr",
     "output_type": "stream",
     "text": [
      "  1%|          | 1.04k/106k [2:08:48<122:39:58, 4.12s/Twitter friendship]"
     ]
    },
    {
     "name": "stdout",
     "output_type": "stream",
     "text": [
      "Dumping data to path /Users/lzhou/git/github/uclresearchanalysis/other/newcrawl.dat\n",
      "('Finished dumping data to path '\n",
      " '/Users/lzhou/git/github/uclresearchanalysis/other/newcrawl.dat')\n",
      "Loading data file from path /Users/lzhou/git/github/uclresearchanalysis/other/newcrawl.dat\n",
      "'Loaded 5976 entires'\n",
      "tweepy.TweepError Not authorized.  from:  1\n"
     ]
    },
    {
     "name": "stderr",
     "output_type": "stream",
     "text": [
      "  1%|          | 1.05k/106k [2:08:57<90:30:35, 3.04s/Twitter friendship] "
     ]
    },
    {
     "name": "stdout",
     "output_type": "stream",
     "text": [
      "Dumping data to path /Users/lzhou/git/github/uclresearchanalysis/other/newcrawl.dat\n",
      "('Finished dumping data to path '\n",
      " '/Users/lzhou/git/github/uclresearchanalysis/other/newcrawl.dat')\n",
      "Loading data file from path /Users/lzhou/git/github/uclresearchanalysis/other/newcrawl.dat\n",
      "'Loaded 5994 entires'\n",
      "tweepy.TweepError [{'code': 34, 'message': 'Sorry, that page does not exist.'}]  from:  16\n"
     ]
    },
    {
     "name": "stderr",
     "output_type": "stream",
     "text": [
      "  1%|          | 1.07k/106k [2:09:05<67:25:06, 2.27s/Twitter friendship]"
     ]
    },
    {
     "name": "stdout",
     "output_type": "stream",
     "text": [
      "Dumping data to path /Users/lzhou/git/github/uclresearchanalysis/other/newcrawl.dat\n",
      "('Finished dumping data to path '\n",
      " '/Users/lzhou/git/github/uclresearchanalysis/other/newcrawl.dat')\n",
      "Loading data file from path /Users/lzhou/git/github/uclresearchanalysis/other/newcrawl.dat\n",
      "'Loaded 6012 entires'\n"
     ]
    },
    {
     "name": "stderr",
     "output_type": "stream",
     "text": [
      "  1%|          | 1.09k/106k [2:09:14<51:47:50, 1.74s/Twitter friendship]"
     ]
    },
    {
     "name": "stdout",
     "output_type": "stream",
     "text": [
      "Dumping data to path /Users/lzhou/git/github/uclresearchanalysis/other/newcrawl.dat\n",
      "('Finished dumping data to path '\n",
      " '/Users/lzhou/git/github/uclresearchanalysis/other/newcrawl.dat')\n",
      "Loading data file from path /Users/lzhou/git/github/uclresearchanalysis/other/newcrawl.dat\n",
      "'Loaded 6030 entires'\n",
      "tweepy.TweepError Not authorized.  from:  1\n",
      "tweepy.TweepError Not authorized.  from:  4\n",
      "tweepy.TweepError Not authorized.  from:  6\n"
     ]
    },
    {
     "name": "stderr",
     "output_type": "stream",
     "text": [
      "  1%|          | 1.11k/106k [2:09:25<41:22:16, 1.39s/Twitter friendship]"
     ]
    },
    {
     "name": "stdout",
     "output_type": "stream",
     "text": [
      "Dumping data to path /Users/lzhou/git/github/uclresearchanalysis/other/newcrawl.dat\n",
      "('Finished dumping data to path '\n",
      " '/Users/lzhou/git/github/uclresearchanalysis/other/newcrawl.dat')\n",
      "Loading data file from path /Users/lzhou/git/github/uclresearchanalysis/other/newcrawl.dat\n",
      "'Loaded 6048 entires'\n",
      "tweepy.TweepError Not authorized.  from:  16\n"
     ]
    },
    {
     "name": "stderr",
     "output_type": "stream",
     "text": [
      "  1%|          | 1.12k/106k [2:09:34<33:28:25, 1.13s/Twitter friendship]"
     ]
    },
    {
     "name": "stdout",
     "output_type": "stream",
     "text": [
      "Dumping data to path /Users/lzhou/git/github/uclresearchanalysis/other/newcrawl.dat\n",
      "('Finished dumping data to path '\n",
      " '/Users/lzhou/git/github/uclresearchanalysis/other/newcrawl.dat')\n",
      "Loading data file from path /Users/lzhou/git/github/uclresearchanalysis/other/newcrawl.dat\n",
      "'Loaded 6066 entires'\n"
     ]
    },
    {
     "name": "stderr",
     "output_type": "stream",
     "text": [
      "  1%|          | 1.14k/106k [2:09:47<29:54:47, 1.01s/Twitter friendship]"
     ]
    },
    {
     "name": "stdout",
     "output_type": "stream",
     "text": [
      "Dumping data to path /Users/lzhou/git/github/uclresearchanalysis/other/newcrawl.dat\n",
      "('Finished dumping data to path '\n",
      " '/Users/lzhou/git/github/uclresearchanalysis/other/newcrawl.dat')\n",
      "Loading data file from path /Users/lzhou/git/github/uclresearchanalysis/other/newcrawl.dat\n",
      "'Loaded 6084 entires'\n",
      "tweepy.TweepError [{'code': 34, 'message': 'Sorry, that page does not exist.'}]  from:  11\n"
     ]
    },
    {
     "name": "stderr",
     "output_type": "stream",
     "text": [
      "  1%|          | 1.16k/106k [2:09:57<26:01:45, 1.14Twitter friendship/s]"
     ]
    },
    {
     "name": "stdout",
     "output_type": "stream",
     "text": [
      "Dumping data to path /Users/lzhou/git/github/uclresearchanalysis/other/newcrawl.dat\n",
      "('Finished dumping data to path '\n",
      " '/Users/lzhou/git/github/uclresearchanalysis/other/newcrawl.dat')\n",
      "Loading data file from path /Users/lzhou/git/github/uclresearchanalysis/other/newcrawl.dat\n",
      "'Loaded 6102 entires'\n",
      "tweepy.TweepError Not authorized.  from:  3\n",
      "tweepy.TweepError Not authorized.  from:  7\n"
     ]
    },
    {
     "name": "stderr",
     "output_type": "stream",
     "text": [
      "  1%|          | 1.18k/106k [2:10:05<22:11:00, 1.34Twitter friendship/s]"
     ]
    },
    {
     "name": "stdout",
     "output_type": "stream",
     "text": [
      "Dumping data to path /Users/lzhou/git/github/uclresearchanalysis/other/newcrawl.dat\n",
      "('Finished dumping data to path '\n",
      " '/Users/lzhou/git/github/uclresearchanalysis/other/newcrawl.dat')\n",
      "Loading data file from path /Users/lzhou/git/github/uclresearchanalysis/other/newcrawl.dat\n",
      "'Loaded 6120 entires'\n"
     ]
    },
    {
     "name": "stderr",
     "output_type": "stream",
     "text": [
      "Rate limit reached. Sleeping for: 787\n"
     ]
    },
    {
     "name": "stdout",
     "output_type": "stream",
     "text": [
      "tweepy.TweepError [{'code': 34, 'message': 'Sorry, that page does not exist.'}]  from:  7\n"
     ]
    },
    {
     "name": "stderr",
     "output_type": "stream",
     "text": [
      "  1%|          | 1.20k/106k [2:23:27<412:43:16, 13.9s/Twitter friendship]"
     ]
    },
    {
     "name": "stdout",
     "output_type": "stream",
     "text": [
      "Dumping data to path /Users/lzhou/git/github/uclresearchanalysis/other/newcrawl.dat\n",
      "('Finished dumping data to path '\n",
      " '/Users/lzhou/git/github/uclresearchanalysis/other/newcrawl.dat')\n",
      "Loading data file from path /Users/lzhou/git/github/uclresearchanalysis/other/newcrawl.dat\n",
      "'Loaded 6138 entires'\n",
      "tweepy.TweepError Not authorized.  from:  11\n",
      "tweepy.TweepError Not authorized.  from:  14\n"
     ]
    },
    {
     "name": "stderr",
     "output_type": "stream",
     "text": [
      "  1%|          | 1.21k/106k [2:23:41<295:33:18, 9.95s/Twitter friendship]"
     ]
    },
    {
     "name": "stdout",
     "output_type": "stream",
     "text": [
      "Dumping data to path /Users/lzhou/git/github/uclresearchanalysis/other/newcrawl.dat\n",
      "('Finished dumping data to path '\n",
      " '/Users/lzhou/git/github/uclresearchanalysis/other/newcrawl.dat')\n",
      "Loading data file from path /Users/lzhou/git/github/uclresearchanalysis/other/newcrawl.dat\n",
      "'Loaded 6156 entires'\n",
      "tweepy.TweepError Not authorized.  from:  4\n",
      "tweepy.TweepError Not authorized.  from:  9\n"
     ]
    },
    {
     "name": "stderr",
     "output_type": "stream",
     "text": [
      "  1%|          | 1.23k/106k [2:23:51<211:34:04, 7.12s/Twitter friendship]"
     ]
    },
    {
     "name": "stdout",
     "output_type": "stream",
     "text": [
      "Dumping data to path /Users/lzhou/git/github/uclresearchanalysis/other/newcrawl.dat\n",
      "('Finished dumping data to path '\n",
      " '/Users/lzhou/git/github/uclresearchanalysis/other/newcrawl.dat')\n",
      "Loading data file from path /Users/lzhou/git/github/uclresearchanalysis/other/newcrawl.dat\n",
      "'Loaded 6174 entires'\n",
      "tweepy.TweepError Not authorized.  from:  6\n",
      "tweepy.TweepError Not authorized.  from:  16\n"
     ]
    },
    {
     "name": "stderr",
     "output_type": "stream",
     "text": [
      "  1%|          | 1.25k/106k [2:24:00<152:33:43, 5.14s/Twitter friendship]"
     ]
    },
    {
     "name": "stdout",
     "output_type": "stream",
     "text": [
      "Dumping data to path /Users/lzhou/git/github/uclresearchanalysis/other/newcrawl.dat\n",
      "('Finished dumping data to path '\n",
      " '/Users/lzhou/git/github/uclresearchanalysis/other/newcrawl.dat')\n",
      "Loading data file from path /Users/lzhou/git/github/uclresearchanalysis/other/newcrawl.dat\n",
      "'Loaded 6192 entires'\n",
      "tweepy.TweepError Not authorized.  from:  6\n",
      "tweepy.TweepError Not authorized.  from:  13\n"
     ]
    },
    {
     "name": "stderr",
     "output_type": "stream",
     "text": [
      "  1%|          | 1.27k/106k [2:24:12<112:48:24, 3.80s/Twitter friendship]"
     ]
    },
    {
     "name": "stdout",
     "output_type": "stream",
     "text": [
      "Dumping data to path /Users/lzhou/git/github/uclresearchanalysis/other/newcrawl.dat\n",
      "('Finished dumping data to path '\n",
      " '/Users/lzhou/git/github/uclresearchanalysis/other/newcrawl.dat')\n",
      "Loading data file from path /Users/lzhou/git/github/uclresearchanalysis/other/newcrawl.dat\n",
      "'Loaded 6210 entires'\n",
      "tweepy.TweepError Not authorized.  from:  1\n",
      "tweepy.TweepError Not authorized.  from:  14\n"
     ]
    },
    {
     "name": "stderr",
     "output_type": "stream",
     "text": [
      "  1%|          | 1.28k/106k [2:24:20<82:56:48, 2.79s/Twitter friendship] "
     ]
    },
    {
     "name": "stdout",
     "output_type": "stream",
     "text": [
      "Dumping data to path /Users/lzhou/git/github/uclresearchanalysis/other/newcrawl.dat\n",
      "('Finished dumping data to path '\n",
      " '/Users/lzhou/git/github/uclresearchanalysis/other/newcrawl.dat')\n",
      "Loading data file from path /Users/lzhou/git/github/uclresearchanalysis/other/newcrawl.dat\n",
      "'Loaded 6228 entires'\n",
      "tweepy.TweepError [{'code': 34, 'message': 'Sorry, that page does not exist.'}]  from:  8\n"
     ]
    },
    {
     "name": "stderr",
     "output_type": "stream",
     "text": [
      "  1%|          | 1.30k/106k [2:24:34<64:55:50, 2.19s/Twitter friendship]"
     ]
    },
    {
     "name": "stdout",
     "output_type": "stream",
     "text": [
      "Dumping data to path /Users/lzhou/git/github/uclresearchanalysis/other/newcrawl.dat\n",
      "('Finished dumping data to path '\n",
      " '/Users/lzhou/git/github/uclresearchanalysis/other/newcrawl.dat')\n",
      "Loading data file from path /Users/lzhou/git/github/uclresearchanalysis/other/newcrawl.dat\n",
      "'Loaded 6246 entires'\n"
     ]
    },
    {
     "name": "stderr",
     "output_type": "stream",
     "text": [
      "Rate limit reached. Sleeping for: 832\n",
      "  1%|          | 1.32k/106k [2:38:43<465:18:20, 15.7s/Twitter friendship]"
     ]
    },
    {
     "name": "stdout",
     "output_type": "stream",
     "text": [
      "Dumping data to path /Users/lzhou/git/github/uclresearchanalysis/other/newcrawl.dat\n",
      "('Finished dumping data to path '\n",
      " '/Users/lzhou/git/github/uclresearchanalysis/other/newcrawl.dat')\n",
      "Loading data file from path /Users/lzhou/git/github/uclresearchanalysis/other/newcrawl.dat\n",
      "'Loaded 6264 entires'\n",
      "tweepy.TweepError Not authorized.  from:  4\n",
      "tweepy.TweepError Not authorized.  from:  6\n"
     ]
    },
    {
     "name": "stderr",
     "output_type": "stream",
     "text": [
      "  1%|▏         | 1.34k/106k [2:38:51<329:47:03, 11.1s/Twitter friendship]"
     ]
    },
    {
     "name": "stdout",
     "output_type": "stream",
     "text": [
      "Dumping data to path /Users/lzhou/git/github/uclresearchanalysis/other/newcrawl.dat\n",
      "('Finished dumping data to path '\n",
      " '/Users/lzhou/git/github/uclresearchanalysis/other/newcrawl.dat')\n",
      "Loading data file from path /Users/lzhou/git/github/uclresearchanalysis/other/newcrawl.dat\n",
      "'Loaded 6282 entires'\n"
     ]
    },
    {
     "name": "stderr",
     "output_type": "stream",
     "text": [
      "  1%|▏         | 1.35k/106k [2:38:59<234:42:42, 7.91s/Twitter friendship]"
     ]
    },
    {
     "name": "stdout",
     "output_type": "stream",
     "text": [
      "Dumping data to path /Users/lzhou/git/github/uclresearchanalysis/other/newcrawl.dat\n",
      "('Finished dumping data to path '\n",
      " '/Users/lzhou/git/github/uclresearchanalysis/other/newcrawl.dat')\n",
      "Loading data file from path /Users/lzhou/git/github/uclresearchanalysis/other/newcrawl.dat\n",
      "'Loaded 6300 entires'\n",
      "tweepy.TweepError [{'code': 34, 'message': 'Sorry, that page does not exist.'}]  from:  9\n",
      "tweepy.TweepError Not authorized.  from:  12\n"
     ]
    },
    {
     "name": "stderr",
     "output_type": "stream",
     "text": [
      "  1%|▏         | 1.37k/106k [2:39:07<168:11:22, 5.67s/Twitter friendship]"
     ]
    },
    {
     "name": "stdout",
     "output_type": "stream",
     "text": [
      "Dumping data to path /Users/lzhou/git/github/uclresearchanalysis/other/newcrawl.dat\n",
      "('Finished dumping data to path '\n",
      " '/Users/lzhou/git/github/uclresearchanalysis/other/newcrawl.dat')\n",
      "Loading data file from path /Users/lzhou/git/github/uclresearchanalysis/other/newcrawl.dat\n",
      "'Loaded 6318 entires'\n",
      "tweepy.TweepError [{'code': 34, 'message': 'Sorry, that page does not exist.'}]  from:  3\n",
      "tweepy.TweepError [{'code': 34, 'message': 'Sorry, that page does not exist.'}]  from:  5\n",
      "tweepy.TweepError [{'code': 34, 'message': 'Sorry, that page does not exist.'}]  from:  8\n"
     ]
    },
    {
     "name": "stderr",
     "output_type": "stream",
     "text": [
      "  1%|▏         | 1.39k/106k [2:39:16<122:18:13, 4.12s/Twitter friendship]"
     ]
    },
    {
     "name": "stdout",
     "output_type": "stream",
     "text": [
      "Dumping data to path /Users/lzhou/git/github/uclresearchanalysis/other/newcrawl.dat\n",
      "('Finished dumping data to path '\n",
      " '/Users/lzhou/git/github/uclresearchanalysis/other/newcrawl.dat')\n",
      "Loading data file from path /Users/lzhou/git/github/uclresearchanalysis/other/newcrawl.dat\n",
      "'Loaded 6336 entires'\n",
      "tweepy.TweepError Not authorized.  from:  0\n"
     ]
    },
    {
     "name": "stderr",
     "output_type": "stream",
     "text": [
      "  1%|▏         | 1.41k/106k [2:39:26<90:24:40, 3.05s/Twitter friendship] "
     ]
    },
    {
     "name": "stdout",
     "output_type": "stream",
     "text": [
      "Dumping data to path /Users/lzhou/git/github/uclresearchanalysis/other/newcrawl.dat\n",
      "('Finished dumping data to path '\n",
      " '/Users/lzhou/git/github/uclresearchanalysis/other/newcrawl.dat')\n",
      "Loading data file from path /Users/lzhou/git/github/uclresearchanalysis/other/newcrawl.dat\n",
      "'Loaded 6354 entires'\n",
      "tweepy.TweepError Not authorized.  from:  11\n"
     ]
    },
    {
     "name": "stderr",
     "output_type": "stream",
     "text": [
      "  1%|▏         | 1.42k/106k [2:39:37<68:31:33, 2.31s/Twitter friendship]"
     ]
    },
    {
     "name": "stdout",
     "output_type": "stream",
     "text": [
      "Dumping data to path /Users/lzhou/git/github/uclresearchanalysis/other/newcrawl.dat\n",
      "('Finished dumping data to path '\n",
      " '/Users/lzhou/git/github/uclresearchanalysis/other/newcrawl.dat')\n",
      "Loading data file from path /Users/lzhou/git/github/uclresearchanalysis/other/newcrawl.dat\n",
      "'Loaded 6372 entires'\n",
      "tweepy.TweepError [{'code': 34, 'message': 'Sorry, that page does not exist.'}]  from:  2\n",
      "tweepy.TweepError Not authorized.  from:  3\n"
     ]
    },
    {
     "name": "stderr",
     "output_type": "stream",
     "text": [
      "  1%|▏         | 1.44k/106k [2:39:44<51:28:13, 1.74s/Twitter friendship]"
     ]
    },
    {
     "name": "stdout",
     "output_type": "stream",
     "text": [
      "Dumping data to path /Users/lzhou/git/github/uclresearchanalysis/other/newcrawl.dat\n",
      "('Finished dumping data to path '\n",
      " '/Users/lzhou/git/github/uclresearchanalysis/other/newcrawl.dat')\n",
      "Loading data file from path /Users/lzhou/git/github/uclresearchanalysis/other/newcrawl.dat\n",
      "'Loaded 6390 entires'\n",
      "tweepy.TweepError Not authorized.  from:  3\n",
      "tweepy.TweepError Not authorized.  from:  10\n"
     ]
    },
    {
     "name": "stderr",
     "output_type": "stream",
     "text": [
      "  1%|▏         | 1.46k/106k [2:39:54<40:54:15, 1.38s/Twitter friendship]"
     ]
    },
    {
     "name": "stdout",
     "output_type": "stream",
     "text": [
      "Dumping data to path /Users/lzhou/git/github/uclresearchanalysis/other/newcrawl.dat\n",
      "('Finished dumping data to path '\n",
      " '/Users/lzhou/git/github/uclresearchanalysis/other/newcrawl.dat')\n",
      "Loading data file from path /Users/lzhou/git/github/uclresearchanalysis/other/newcrawl.dat\n",
      "'Loaded 6408 entires'\n"
     ]
    },
    {
     "name": "stderr",
     "output_type": "stream",
     "text": [
      "  1%|▏         | 1.48k/106k [2:40:03<33:31:58, 1.13s/Twitter friendship]"
     ]
    },
    {
     "name": "stdout",
     "output_type": "stream",
     "text": [
      "Dumping data to path /Users/lzhou/git/github/uclresearchanalysis/other/newcrawl.dat\n",
      "('Finished dumping data to path '\n",
      " '/Users/lzhou/git/github/uclresearchanalysis/other/newcrawl.dat')\n",
      "Loading data file from path /Users/lzhou/git/github/uclresearchanalysis/other/newcrawl.dat\n",
      "'Loaded 6426 entires'\n"
     ]
    },
    {
     "name": "stderr",
     "output_type": "stream",
     "text": [
      "  1%|▏         | 1.49k/106k [2:40:12<27:53:54, 1.06Twitter friendship/s]"
     ]
    },
    {
     "name": "stdout",
     "output_type": "stream",
     "text": [
      "Dumping data to path /Users/lzhou/git/github/uclresearchanalysis/other/newcrawl.dat\n",
      "('Finished dumping data to path '\n",
      " '/Users/lzhou/git/github/uclresearchanalysis/other/newcrawl.dat')\n",
      "Loading data file from path /Users/lzhou/git/github/uclresearchanalysis/other/newcrawl.dat\n",
      "'Loaded 6444 entires'\n"
     ]
    },
    {
     "name": "stderr",
     "output_type": "stream",
     "text": [
      "Rate limit reached. Sleeping for: 803\n",
      "  1%|▏         | 1.51k/106k [2:53:49<422:41:43, 14.3s/Twitter friendship]"
     ]
    },
    {
     "name": "stdout",
     "output_type": "stream",
     "text": [
      "Dumping data to path /Users/lzhou/git/github/uclresearchanalysis/other/newcrawl.dat\n",
      "('Finished dumping data to path '\n",
      " '/Users/lzhou/git/github/uclresearchanalysis/other/newcrawl.dat')\n",
      "Loading data file from path /Users/lzhou/git/github/uclresearchanalysis/other/newcrawl.dat\n",
      "'Loaded 6462 entires'\n",
      "tweepy.TweepError Not authorized.  from:  1\n"
     ]
    },
    {
     "name": "stderr",
     "output_type": "stream",
     "text": [
      "  1%|▏         | 1.53k/106k [2:53:57<299:54:25, 10.1s/Twitter friendship]"
     ]
    },
    {
     "name": "stdout",
     "output_type": "stream",
     "text": [
      "Dumping data to path /Users/lzhou/git/github/uclresearchanalysis/other/newcrawl.dat\n",
      "('Finished dumping data to path '\n",
      " '/Users/lzhou/git/github/uclresearchanalysis/other/newcrawl.dat')\n",
      "Loading data file from path /Users/lzhou/git/github/uclresearchanalysis/other/newcrawl.dat\n",
      "'Loaded 6480 entires'\n",
      "tweepy.TweepError Not authorized.  from:  6\n"
     ]
    },
    {
     "name": "stderr",
     "output_type": "stream",
     "text": [
      "  1%|▏         | 1.55k/106k [2:54:07<214:43:20, 7.25s/Twitter friendship]"
     ]
    },
    {
     "name": "stdout",
     "output_type": "stream",
     "text": [
      "tweepy.TweepError [{'code': 34, 'message': 'Sorry, that page does not exist.'}]  from:  17\n",
      "Dumping data to path /Users/lzhou/git/github/uclresearchanalysis/other/newcrawl.dat\n",
      "('Finished dumping data to path '\n",
      " '/Users/lzhou/git/github/uclresearchanalysis/other/newcrawl.dat')\n",
      "Loading data file from path /Users/lzhou/git/github/uclresearchanalysis/other/newcrawl.dat\n",
      "'Loaded 6498 entires'\n",
      "tweepy.TweepError [{'code': 34, 'message': 'Sorry, that page does not exist.'}]  from:  1\n",
      "tweepy.TweepError Not authorized.  from:  11\n"
     ]
    },
    {
     "name": "stderr",
     "output_type": "stream",
     "text": [
      "  1%|▏         | 1.56k/106k [2:54:16<154:46:46, 5.23s/Twitter friendship]"
     ]
    },
    {
     "name": "stdout",
     "output_type": "stream",
     "text": [
      "Dumping data to path /Users/lzhou/git/github/uclresearchanalysis/other/newcrawl.dat\n",
      "('Finished dumping data to path '\n",
      " '/Users/lzhou/git/github/uclresearchanalysis/other/newcrawl.dat')\n",
      "Loading data file from path /Users/lzhou/git/github/uclresearchanalysis/other/newcrawl.dat\n",
      "'Loaded 6516 entires'\n"
     ]
    },
    {
     "name": "stderr",
     "output_type": "stream",
     "text": [
      "  1%|▏         | 1.58k/106k [2:54:25<112:44:59, 3.81s/Twitter friendship]"
     ]
    },
    {
     "name": "stdout",
     "output_type": "stream",
     "text": [
      "Dumping data to path /Users/lzhou/git/github/uclresearchanalysis/other/newcrawl.dat\n",
      "('Finished dumping data to path '\n",
      " '/Users/lzhou/git/github/uclresearchanalysis/other/newcrawl.dat')\n",
      "Loading data file from path /Users/lzhou/git/github/uclresearchanalysis/other/newcrawl.dat\n",
      "'Loaded 6534 entires'\n",
      "tweepy.TweepError Not authorized.  from:  8\n",
      "tweepy.TweepError Not authorized.  from:  15\n"
     ]
    },
    {
     "name": "stderr",
     "output_type": "stream",
     "text": [
      "  2%|▏         | 1.60k/106k [2:54:36<84:25:11, 2.85s/Twitter friendship] "
     ]
    },
    {
     "name": "stdout",
     "output_type": "stream",
     "text": [
      "Dumping data to path /Users/lzhou/git/github/uclresearchanalysis/other/newcrawl.dat\n",
      "('Finished dumping data to path '\n",
      " '/Users/lzhou/git/github/uclresearchanalysis/other/newcrawl.dat')\n",
      "Loading data file from path /Users/lzhou/git/github/uclresearchanalysis/other/newcrawl.dat\n",
      "'Loaded 6552 entires'\n",
      "tweepy.TweepError Not authorized.  from:  13\n",
      "tweepy.TweepError [{'code': 34, 'message': 'Sorry, that page does not exist.'}]  from:  15\n"
     ]
    },
    {
     "name": "stderr",
     "output_type": "stream",
     "text": [
      "  2%|▏         | 1.62k/106k [2:54:45<63:27:02, 2.14s/Twitter friendship]"
     ]
    },
    {
     "name": "stdout",
     "output_type": "stream",
     "text": [
      "Dumping data to path /Users/lzhou/git/github/uclresearchanalysis/other/newcrawl.dat\n",
      "('Finished dumping data to path '\n",
      " '/Users/lzhou/git/github/uclresearchanalysis/other/newcrawl.dat')\n",
      "Loading data file from path /Users/lzhou/git/github/uclresearchanalysis/other/newcrawl.dat\n",
      "'Loaded 6570 entires'\n",
      "tweepy.TweepError [{'code': 34, 'message': 'Sorry, that page does not exist.'}]  from:  7\n",
      "tweepy.TweepError Not authorized.  from:  10\n"
     ]
    },
    {
     "name": "stderr",
     "output_type": "stream",
     "text": [
      "  2%|▏         | 1.63k/106k [2:54:55<49:22:46, 1.67s/Twitter friendship]"
     ]
    },
    {
     "name": "stdout",
     "output_type": "stream",
     "text": [
      "Dumping data to path /Users/lzhou/git/github/uclresearchanalysis/other/newcrawl.dat\n",
      "('Finished dumping data to path '\n",
      " '/Users/lzhou/git/github/uclresearchanalysis/other/newcrawl.dat')\n",
      "Loading data file from path /Users/lzhou/git/github/uclresearchanalysis/other/newcrawl.dat\n",
      "'Loaded 6588 entires'\n",
      "tweepy.TweepError Not authorized.  from:  6\n",
      "tweepy.TweepError Not authorized.  from:  7\n"
     ]
    },
    {
     "name": "stderr",
     "output_type": "stream",
     "text": [
      "  2%|▏         | 1.65k/106k [2:55:04<38:37:39, 1.31s/Twitter friendship]"
     ]
    },
    {
     "name": "stdout",
     "output_type": "stream",
     "text": [
      "Dumping data to path /Users/lzhou/git/github/uclresearchanalysis/other/newcrawl.dat\n",
      "('Finished dumping data to path '\n",
      " '/Users/lzhou/git/github/uclresearchanalysis/other/newcrawl.dat')\n",
      "Loading data file from path /Users/lzhou/git/github/uclresearchanalysis/other/newcrawl.dat\n",
      "'Loaded 6606 entires'\n",
      "tweepy.TweepError Not authorized.  from:  0\n",
      "tweepy.TweepError Not authorized.  from:  2\n",
      "tweepy.TweepError [{'code': 34, 'message': 'Sorry, that page does not exist.'}]  from:  3\n"
     ]
    },
    {
     "name": "stderr",
     "output_type": "stream",
     "text": [
      "Rate limit reached. Sleeping for: 818\n"
     ]
    },
    {
     "name": "stdout",
     "output_type": "stream",
     "text": [
      "tweepy.TweepError Not authorized.  from:  14\n"
     ]
    },
    {
     "name": "stderr",
     "output_type": "stream",
     "text": [
      "  2%|▏         | 1.67k/106k [3:08:55<436:48:36, 14.8s/Twitter friendship]"
     ]
    },
    {
     "name": "stdout",
     "output_type": "stream",
     "text": [
      "Dumping data to path /Users/lzhou/git/github/uclresearchanalysis/other/newcrawl.dat\n",
      "('Finished dumping data to path '\n",
      " '/Users/lzhou/git/github/uclresearchanalysis/other/newcrawl.dat')\n",
      "Loading data file from path /Users/lzhou/git/github/uclresearchanalysis/other/newcrawl.dat\n",
      "'Loaded 6624 entires'\n",
      "tweepy.TweepError Not authorized.  from:  5\n",
      "tweepy.TweepError Not authorized.  from:  8\n"
     ]
    },
    {
     "name": "stderr",
     "output_type": "stream",
     "text": [
      "  2%|▏         | 1.69k/106k [3:09:03<309:48:22, 10.5s/Twitter friendship]"
     ]
    },
    {
     "name": "stdout",
     "output_type": "stream",
     "text": [
      "Dumping data to path /Users/lzhou/git/github/uclresearchanalysis/other/newcrawl.dat\n",
      "('Finished dumping data to path '\n",
      " '/Users/lzhou/git/github/uclresearchanalysis/other/newcrawl.dat')\n",
      "Loading data file from path /Users/lzhou/git/github/uclresearchanalysis/other/newcrawl.dat\n",
      "'Loaded 6642 entires'\n"
     ]
    },
    {
     "name": "stderr",
     "output_type": "stream",
     "text": [
      "  2%|▏         | 1.71k/106k [3:09:14<221:58:52, 7.51s/Twitter friendship]"
     ]
    },
    {
     "name": "stdout",
     "output_type": "stream",
     "text": [
      "Dumping data to path /Users/lzhou/git/github/uclresearchanalysis/other/newcrawl.dat\n",
      "('Finished dumping data to path '\n",
      " '/Users/lzhou/git/github/uclresearchanalysis/other/newcrawl.dat')\n",
      "Loading data file from path /Users/lzhou/git/github/uclresearchanalysis/other/newcrawl.dat\n",
      "'Loaded 6660 entires'\n",
      "tweepy.TweepError [{'code': 34, 'message': 'Sorry, that page does not exist.'}]  from:  7\n",
      "tweepy.TweepError Not authorized.  from:  8\n",
      "tweepy.TweepError [{'code': 34, 'message': 'Sorry, that page does not exist.'}]  from:  12\n",
      "tweepy.TweepError Not authorized.  from:  15\n"
     ]
    },
    {
     "name": "stderr",
     "output_type": "stream",
     "text": [
      "  2%|▏         | 1.72k/106k [3:09:21<158:58:06, 5.38s/Twitter friendship]"
     ]
    },
    {
     "name": "stdout",
     "output_type": "stream",
     "text": [
      "Dumping data to path /Users/lzhou/git/github/uclresearchanalysis/other/newcrawl.dat\n",
      "('Finished dumping data to path '\n",
      " '/Users/lzhou/git/github/uclresearchanalysis/other/newcrawl.dat')\n",
      "Loading data file from path /Users/lzhou/git/github/uclresearchanalysis/other/newcrawl.dat\n",
      "'Loaded 6678 entires'\n",
      "tweepy.TweepError Not authorized.  from:  3\n",
      "tweepy.TweepError [{'code': 34, 'message': 'Sorry, that page does not exist.'}]  from:  7\n",
      "tweepy.TweepError Not authorized.  from:  8\n"
     ]
    },
    {
     "name": "stderr",
     "output_type": "stream",
     "text": [
      "Rate limit reached. Sleeping for: 860\n"
     ]
    },
    {
     "name": "stdout",
     "output_type": "stream",
     "text": [
      "tweepy.TweepError [{'code': 34, 'message': 'Sorry, that page does not exist.'}]  from:  13\n"
     ]
    },
    {
     "name": "stderr",
     "output_type": "stream",
     "text": [
      "  2%|▏         | 1.74k/106k [3:24:00<544:16:17, 18.4s/Twitter friendship]"
     ]
    },
    {
     "name": "stdout",
     "output_type": "stream",
     "text": [
      "Dumping data to path /Users/lzhou/git/github/uclresearchanalysis/other/newcrawl.dat\n",
      "('Finished dumping data to path '\n",
      " '/Users/lzhou/git/github/uclresearchanalysis/other/newcrawl.dat')\n",
      "Loading data file from path /Users/lzhou/git/github/uclresearchanalysis/other/newcrawl.dat\n",
      "'Loaded 6696 entires'\n"
     ]
    },
    {
     "name": "stderr",
     "output_type": "stream",
     "text": [
      "  2%|▏         | 1.76k/106k [3:24:07<384:35:25, 13.0s/Twitter friendship]"
     ]
    },
    {
     "name": "stdout",
     "output_type": "stream",
     "text": [
      "Dumping data to path /Users/lzhou/git/github/uclresearchanalysis/other/newcrawl.dat\n",
      "('Finished dumping data to path '\n",
      " '/Users/lzhou/git/github/uclresearchanalysis/other/newcrawl.dat')\n",
      "Loading data file from path /Users/lzhou/git/github/uclresearchanalysis/other/newcrawl.dat\n",
      "'Loaded 6714 entires'\n",
      "tweepy.TweepError Not authorized.  from:  0\n",
      "tweepy.TweepError Not authorized.  from:  10\n",
      "tweepy.TweepError Not authorized.  from:  11\n",
      "tweepy.TweepError Not authorized.  from:  16\n"
     ]
    },
    {
     "name": "stderr",
     "output_type": "stream",
     "text": [
      "  2%|▏         | 1.78k/106k [3:24:19<274:35:35, 9.29s/Twitter friendship]"
     ]
    },
    {
     "name": "stdout",
     "output_type": "stream",
     "text": [
      "Dumping data to path /Users/lzhou/git/github/uclresearchanalysis/other/newcrawl.dat\n",
      "('Finished dumping data to path '\n",
      " '/Users/lzhou/git/github/uclresearchanalysis/other/newcrawl.dat')\n",
      "Loading data file from path /Users/lzhou/git/github/uclresearchanalysis/other/newcrawl.dat\n",
      "'Loaded 6732 entires'\n",
      "tweepy.TweepError Not authorized.  from:  0\n"
     ]
    },
    {
     "name": "stderr",
     "output_type": "stream",
     "text": [
      "  2%|▏         | 1.79k/106k [3:24:25<195:21:32, 6.61s/Twitter friendship]"
     ]
    },
    {
     "name": "stdout",
     "output_type": "stream",
     "text": [
      "Dumping data to path /Users/lzhou/git/github/uclresearchanalysis/other/newcrawl.dat\n",
      "('Finished dumping data to path '\n",
      " '/Users/lzhou/git/github/uclresearchanalysis/other/newcrawl.dat')\n",
      "Loading data file from path /Users/lzhou/git/github/uclresearchanalysis/other/newcrawl.dat\n",
      "'Loaded 6750 entires'\n"
     ]
    },
    {
     "name": "stderr",
     "output_type": "stream",
     "text": [
      "  2%|▏         | 1.81k/106k [3:24:34<140:57:06, 4.77s/Twitter friendship]"
     ]
    },
    {
     "name": "stdout",
     "output_type": "stream",
     "text": [
      "Dumping data to path /Users/lzhou/git/github/uclresearchanalysis/other/newcrawl.dat\n",
      "('Finished dumping data to path '\n",
      " '/Users/lzhou/git/github/uclresearchanalysis/other/newcrawl.dat')\n",
      "Loading data file from path /Users/lzhou/git/github/uclresearchanalysis/other/newcrawl.dat\n",
      "'Loaded 6768 entires'\n",
      "tweepy.TweepError Not authorized.  from:  2\n"
     ]
    },
    {
     "name": "stderr",
     "output_type": "stream",
     "text": [
      "  2%|▏         | 1.83k/106k [3:24:41<102:19:42, 3.47s/Twitter friendship]"
     ]
    },
    {
     "name": "stdout",
     "output_type": "stream",
     "text": [
      "Dumping data to path /Users/lzhou/git/github/uclresearchanalysis/other/newcrawl.dat\n",
      "('Finished dumping data to path '\n",
      " '/Users/lzhou/git/github/uclresearchanalysis/other/newcrawl.dat')\n",
      "Loading data file from path /Users/lzhou/git/github/uclresearchanalysis/other/newcrawl.dat\n",
      "'Loaded 6786 entires'\n",
      "tweepy.TweepError Not authorized.  from:  3\n"
     ]
    },
    {
     "name": "stderr",
     "output_type": "stream",
     "text": [
      "  2%|▏         | 1.85k/106k [3:24:50<76:01:44, 2.58s/Twitter friendship] "
     ]
    },
    {
     "name": "stdout",
     "output_type": "stream",
     "text": [
      "Dumping data to path /Users/lzhou/git/github/uclresearchanalysis/other/newcrawl.dat\n",
      "('Finished dumping data to path '\n",
      " '/Users/lzhou/git/github/uclresearchanalysis/other/newcrawl.dat')\n",
      "Loading data file from path /Users/lzhou/git/github/uclresearchanalysis/other/newcrawl.dat\n",
      "'Loaded 6804 entires'\n",
      "tweepy.TweepError [{'code': 34, 'message': 'Sorry, that page does not exist.'}]  from:  0\n"
     ]
    },
    {
     "name": "stderr",
     "output_type": "stream",
     "text": [
      "  2%|▏         | 1.86k/106k [3:24:58<57:13:58, 1.94s/Twitter friendship]"
     ]
    },
    {
     "name": "stdout",
     "output_type": "stream",
     "text": [
      "Dumping data to path /Users/lzhou/git/github/uclresearchanalysis/other/newcrawl.dat\n",
      "('Finished dumping data to path '\n",
      " '/Users/lzhou/git/github/uclresearchanalysis/other/newcrawl.dat')\n",
      "Loading data file from path /Users/lzhou/git/github/uclresearchanalysis/other/newcrawl.dat\n",
      "'Loaded 6822 entires'\n",
      "tweepy.TweepError Not authorized.  from:  13\n"
     ]
    },
    {
     "name": "stderr",
     "output_type": "stream",
     "text": [
      "  2%|▏         | 1.88k/106k [3:25:06<44:06:46, 1.49s/Twitter friendship]"
     ]
    },
    {
     "name": "stdout",
     "output_type": "stream",
     "text": [
      "Dumping data to path /Users/lzhou/git/github/uclresearchanalysis/other/newcrawl.dat\n",
      "('Finished dumping data to path '\n",
      " '/Users/lzhou/git/github/uclresearchanalysis/other/newcrawl.dat')\n",
      "Loading data file from path /Users/lzhou/git/github/uclresearchanalysis/other/newcrawl.dat\n",
      "'Loaded 6840 entires'\n"
     ]
    },
    {
     "name": "stderr",
     "output_type": "stream",
     "text": [
      "  2%|▏         | 1.90k/106k [3:25:15<34:58:06, 1.18s/Twitter friendship]"
     ]
    },
    {
     "name": "stdout",
     "output_type": "stream",
     "text": [
      "Dumping data to path /Users/lzhou/git/github/uclresearchanalysis/other/newcrawl.dat\n",
      "('Finished dumping data to path '\n",
      " '/Users/lzhou/git/github/uclresearchanalysis/other/newcrawl.dat')\n",
      "Loading data file from path /Users/lzhou/git/github/uclresearchanalysis/other/newcrawl.dat\n",
      "'Loaded 6858 entires'\n"
     ]
    },
    {
     "name": "stderr",
     "output_type": "stream",
     "text": [
      "Rate limit reached. Sleeping for: 823\n"
     ]
    },
    {
     "name": "stdout",
     "output_type": "stream",
     "text": [
      "tweepy.TweepError [{'code': 34, 'message': 'Sorry, that page does not exist.'}]  from:  11\n"
     ]
    },
    {
     "name": "stderr",
     "output_type": "stream",
     "text": [
      "  2%|▏         | 1.92k/106k [3:39:14<437:16:27, 14.8s/Twitter friendship]"
     ]
    },
    {
     "name": "stdout",
     "output_type": "stream",
     "text": [
      "Dumping data to path /Users/lzhou/git/github/uclresearchanalysis/other/newcrawl.dat\n",
      "('Finished dumping data to path '\n",
      " '/Users/lzhou/git/github/uclresearchanalysis/other/newcrawl.dat')\n",
      "Loading data file from path /Users/lzhou/git/github/uclresearchanalysis/other/newcrawl.dat\n",
      "'Loaded 6876 entires'\n",
      "tweepy.TweepError [{'code': 34, 'message': 'Sorry, that page does not exist.'}]  from:  6\n",
      "tweepy.TweepError Not authorized.  from:  10\n"
     ]
    },
    {
     "name": "stderr",
     "output_type": "stream",
     "text": [
      "  2%|▏         | 1.93k/106k [3:39:21<309:36:22, 10.5s/Twitter friendship]"
     ]
    },
    {
     "name": "stdout",
     "output_type": "stream",
     "text": [
      "Dumping data to path /Users/lzhou/git/github/uclresearchanalysis/other/newcrawl.dat\n",
      "('Finished dumping data to path '\n",
      " '/Users/lzhou/git/github/uclresearchanalysis/other/newcrawl.dat')\n",
      "Loading data file from path /Users/lzhou/git/github/uclresearchanalysis/other/newcrawl.dat\n",
      "'Loaded 6894 entires'\n",
      "tweepy.TweepError Not authorized.  from:  0\n"
     ]
    },
    {
     "name": "stderr",
     "output_type": "stream",
     "text": [
      "  2%|▏         | 1.95k/106k [3:39:31<221:21:41, 7.51s/Twitter friendship]"
     ]
    },
    {
     "name": "stdout",
     "output_type": "stream",
     "text": [
      "Dumping data to path /Users/lzhou/git/github/uclresearchanalysis/other/newcrawl.dat\n",
      "('Finished dumping data to path '\n",
      " '/Users/lzhou/git/github/uclresearchanalysis/other/newcrawl.dat')\n",
      "Loading data file from path /Users/lzhou/git/github/uclresearchanalysis/other/newcrawl.dat\n",
      "'Loaded 6912 entires'\n",
      "tweepy.TweepError Not authorized.  from:  2\n"
     ]
    },
    {
     "name": "stderr",
     "output_type": "stream",
     "text": [
      "  2%|▏         | 1.97k/106k [3:39:38<158:19:34, 5.37s/Twitter friendship]"
     ]
    },
    {
     "name": "stdout",
     "output_type": "stream",
     "text": [
      "tweepy.TweepError Not authorized.  from:  17\n",
      "Dumping data to path /Users/lzhou/git/github/uclresearchanalysis/other/newcrawl.dat\n",
      "('Finished dumping data to path '\n",
      " '/Users/lzhou/git/github/uclresearchanalysis/other/newcrawl.dat')\n",
      "Loading data file from path /Users/lzhou/git/github/uclresearchanalysis/other/newcrawl.dat\n",
      "'Loaded 6930 entires'\n",
      "tweepy.TweepError Not authorized.  from:  2\n"
     ]
    },
    {
     "name": "stderr",
     "output_type": "stream",
     "text": [
      "  2%|▏         | 1.99k/106k [3:39:47<115:10:16, 3.91s/Twitter friendship]"
     ]
    },
    {
     "name": "stdout",
     "output_type": "stream",
     "text": [
      "Dumping data to path /Users/lzhou/git/github/uclresearchanalysis/other/newcrawl.dat\n",
      "('Finished dumping data to path '\n",
      " '/Users/lzhou/git/github/uclresearchanalysis/other/newcrawl.dat')\n",
      "Loading data file from path /Users/lzhou/git/github/uclresearchanalysis/other/newcrawl.dat\n",
      "'Loaded 6948 entires'\n",
      "tweepy.TweepError Not authorized.  from:  8\n",
      "tweepy.TweepError Not authorized.  from:  12\n"
     ]
    },
    {
     "name": "stderr",
     "output_type": "stream",
     "text": [
      "  2%|▏         | 2.00k/106k [3:39:54<84:07:55, 2.85s/Twitter friendship] "
     ]
    },
    {
     "name": "stdout",
     "output_type": "stream",
     "text": [
      "Dumping data to path /Users/lzhou/git/github/uclresearchanalysis/other/newcrawl.dat\n",
      "('Finished dumping data to path '\n",
      " '/Users/lzhou/git/github/uclresearchanalysis/other/newcrawl.dat')\n",
      "Loading data file from path /Users/lzhou/git/github/uclresearchanalysis/other/newcrawl.dat\n",
      "'Loaded 6966 entires'\n",
      "tweepy.TweepError Not authorized.  from:  12\n"
     ]
    },
    {
     "name": "stderr",
     "output_type": "stream",
     "text": [
      "  2%|▏         | 2.02k/106k [3:40:03<63:09:34, 2.14s/Twitter friendship]"
     ]
    },
    {
     "name": "stdout",
     "output_type": "stream",
     "text": [
      "Dumping data to path /Users/lzhou/git/github/uclresearchanalysis/other/newcrawl.dat\n",
      "('Finished dumping data to path '\n",
      " '/Users/lzhou/git/github/uclresearchanalysis/other/newcrawl.dat')\n",
      "Loading data file from path /Users/lzhou/git/github/uclresearchanalysis/other/newcrawl.dat\n",
      "'Loaded 6984 entires'\n",
      "tweepy.TweepError Not authorized.  from:  2\n",
      "tweepy.TweepError Not authorized.  from:  11\n"
     ]
    },
    {
     "name": "stderr",
     "output_type": "stream",
     "text": [
      "  2%|▏         | 2.04k/106k [3:40:10<47:58:41, 1.63s/Twitter friendship]"
     ]
    },
    {
     "name": "stdout",
     "output_type": "stream",
     "text": [
      "Dumping data to path /Users/lzhou/git/github/uclresearchanalysis/other/newcrawl.dat\n",
      "('Finished dumping data to path '\n",
      " '/Users/lzhou/git/github/uclresearchanalysis/other/newcrawl.dat')\n",
      "Loading data file from path /Users/lzhou/git/github/uclresearchanalysis/other/newcrawl.dat\n",
      "'Loaded 7002 entires'\n",
      "tweepy.TweepError Not authorized.  from:  4\n",
      "tweepy.TweepError Not authorized.  from:  8\n"
     ]
    },
    {
     "name": "stderr",
     "output_type": "stream",
     "text": [
      "  2%|▏         | 2.06k/106k [3:40:19<37:41:40, 1.28s/Twitter friendship]"
     ]
    },
    {
     "name": "stdout",
     "output_type": "stream",
     "text": [
      "Dumping data to path /Users/lzhou/git/github/uclresearchanalysis/other/newcrawl.dat\n",
      "('Finished dumping data to path '\n",
      " '/Users/lzhou/git/github/uclresearchanalysis/other/newcrawl.dat')\n",
      "Loading data file from path /Users/lzhou/git/github/uclresearchanalysis/other/newcrawl.dat\n",
      "'Loaded 7020 entires'\n",
      "tweepy.TweepError Not authorized.  from:  7\n"
     ]
    },
    {
     "name": "stderr",
     "output_type": "stream",
     "text": [
      "  2%|▏         | 2.07k/106k [3:40:26<30:07:08, 1.02s/Twitter friendship]"
     ]
    },
    {
     "name": "stdout",
     "output_type": "stream",
     "text": [
      "Dumping data to path /Users/lzhou/git/github/uclresearchanalysis/other/newcrawl.dat\n",
      "('Finished dumping data to path '\n",
      " '/Users/lzhou/git/github/uclresearchanalysis/other/newcrawl.dat')\n",
      "Loading data file from path /Users/lzhou/git/github/uclresearchanalysis/other/newcrawl.dat\n",
      "'Loaded 7038 entires'\n"
     ]
    },
    {
     "name": "stderr",
     "output_type": "stream",
     "text": [
      "Rate limit reached. Sleeping for: 819\n"
     ]
    }
   ],
   "source": [
    "def tweet_find_friends(api, user_id, logger):\n",
    "    follower_ids = []\n",
    "    try:\n",
    "        c = tweepy.Cursor(api.friends_ids, id = user_id)\n",
    "        for page in c.pages():\n",
    "            follower_ids.extend(page)\n",
    "    except tweepy.TweepError as e:\n",
    "        print('tweepy.TweepError', e, ' from: ', logger)\n",
    "    except:\n",
    "        e = sys.exc_info()[0]\n",
    "        print(\"Error: %s\" % e)  \n",
    "    return follower_ids\n",
    "        \n",
    "def crawl_twitter_friend(api, friends_dictionary, user_id, logger):\n",
    "    friends_dictionary[user_id] = tweet_find_friends(api, user_id, logger)\n",
    "\n",
    "    \n",
    "try:\n",
    "    friends_dictionary = load_newcrawl_dictionary()\n",
    "except:\n",
    "    friends_dictionary = {}\n",
    "    \n",
    "need_to_crawl = list(load_needcrawl_set() - friends_dictionary.keys())\n",
    "\n",
    "print('Number of users we still need to crawl: {}'.format(len(need_to_crawl)))\n",
    "api_counter = 0\n",
    "number_of_apis = len(twitter_api_list)\n",
    "with tqdm(total = len(need_to_crawl), unit='Twitter friendship', unit_scale=True, unit_divisor=1024) as pbar:\n",
    "    while len(need_to_crawl) != 0:\n",
    "        for api_counter in range(min(len(need_to_crawl), number_of_apis)):\n",
    "            user_id = need_to_crawl.pop()\n",
    "            crawl_twitter_friend(twitter_api_list[api_counter], friends_dictionary, user_id, api_counter)\n",
    "        pbar.update(number_of_apis)\n",
    "        dump_newcrawl_dictionary(friends_dictionary)\n",
    "        friends_dictionary = load_newcrawl_dictionary()"
   ]
  }
 ],
 "metadata": {
  "kernelspec": {
   "display_name": "Python 3",
   "language": "python",
   "name": "python3"
  },
  "language_info": {
   "codemirror_mode": {
    "name": "ipython",
    "version": 3
   },
   "file_extension": ".py",
   "mimetype": "text/x-python",
   "name": "python",
   "nbconvert_exporter": "python",
   "pygments_lexer": "ipython3",
   "version": "3.6.5"
  }
 },
 "nbformat": 4,
 "nbformat_minor": 2
}
