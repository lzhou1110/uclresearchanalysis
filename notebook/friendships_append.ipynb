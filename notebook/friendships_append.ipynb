{
 "cells": [
  {
   "cell_type": "code",
   "execution_count": 1,
   "metadata": {},
   "outputs": [
    {
     "name": "stdout",
     "output_type": "stream",
     "text": [
      "/home/ec2-user/uclresearchanalysis\n"
     ]
    }
   ],
   "source": [
    "%cd .."
   ]
  },
  {
   "cell_type": "code",
   "execution_count": 2,
   "metadata": {},
   "outputs": [
    {
     "name": "stdout",
     "output_type": "stream",
     "text": [
      "('Reading config file from location: '\n",
      " '/home/ec2-user/uclresearchanalysis/configuration/env.properties')\n",
      "{'calculate': {'analysis': True,\n",
      "               'friends': True,\n",
      "               'network': True,\n",
      "               'uniquetweets': True,\n",
      "               'uniqueusers': True},\n",
      " 'data': {'dates': ['2017-12-10', '2017-12-11', '2017-12-12'],\n",
      "          'eventname': 'nyc attack',\n",
      "          'phrases': ['nyc%20explosion',\n",
      "                      'nyc%20bombing',\n",
      "                      'nyc%20attack',\n",
      "                      'nyc%20terror',\n",
      "                      'new%20york%20explosion',\n",
      "                      'new%20york%20bombing',\n",
      "                      'new%20york%20attack',\n",
      "                      'new%20york%20terror',\n",
      "                      'manhattan%20explosion',\n",
      "                      'manhattan%20bombing',\n",
      "                      'manhattan%20attack',\n",
      "                      'manhattan%20terror',\n",
      "                      'port%20authority%20explosion',\n",
      "                      'port%20authority%20bombing',\n",
      "                      'port%20authority%20attack',\n",
      "                      'port%20authority%20terror'],\n",
      "          'starttime': 'Dec 11 07:00:00 -0500 2017'},\n",
      " 'path': {'cwd': '/home/ec2-user/uclresearchanalysis/data/nyc',\n",
      "          'ml': '/home/ec2-user/uclresearchanalysis/data/nyc/pickle',\n",
      "          'networkx': {'all': '/home/ec2-user/uclresearchanalysis/data/nyc/pickle/networkx_all.dat',\n",
      "                       'friends': '/home/ec2-user/uclresearchanalysis/data/nyc/pickle/networkx_friends.dat',\n",
      "                       'potential': '/home/ec2-user/uclresearchanalysis/data/nyc/pickle/networkx_potential.dat'},\n",
      "          'newcrawl': '/home/ec2-user/uclresearchanalysis/other/newcrawl.dat',\n",
      "          'other': '/home/ec2-user/uclresearchanalysis/other',\n",
      "          'pickle': {'friends': '/home/ec2-user/uclresearchanalysis/data/nyc/pickle/friends.dat',\n",
      "                     'needcrawl': '/home/ec2-user/uclresearchanalysis/data/nyc/pickle/needcrawl.dat',\n",
      "                     'network': '/home/ec2-user/uclresearchanalysis/data/nyc/pickle/network.dat',\n",
      "                     'tweets': '/home/ec2-user/uclresearchanalysis/data/nyc/pickle/tweets.dat',\n",
      "                     'users': '/home/ec2-user/uclresearchanalysis/data/nyc/pickle/users.dat'},\n",
      "          'result': '/home/ec2-user/uclresearchanalysis/data/nyc/result',\n",
      "          'twitter': '/home/ec2-user/uclresearchanalysis/data/nyc/twitter'},\n",
      " 'save_to_file': 'False',\n",
      " 'timeframe': '1440'}\n"
     ]
    }
   ],
   "source": [
    "import builtins\n",
    "# builtins.uclresearch_topic = 'GIVENCHY' #0 -- Finished\n",
    "# builtins.uclresearch_topic = 'HAWKING' #0 -- Finished\n",
    "builtins.uclresearch_topic = 'NYC' # 81859\n",
    "# builtins.uclresearch_topic = 'FLORIDA' # 446233\n",
    "from configuration import config\n",
    "import os"
   ]
  },
  {
   "cell_type": "code",
   "execution_count": 3,
   "metadata": {},
   "outputs": [
    {
     "name": "stdout",
     "output_type": "stream",
     "text": [
      "Loading data file from path /home/ec2-user/uclresearchanalysis/data/nyc/pickle/users.dat\n",
      "'Loaded 113978 entires'\n"
     ]
    }
   ],
   "source": [
    "unique_users = config.load_users_dataframe()\n",
    "users_set = set(unique_users.user_id)"
   ]
  },
  {
   "cell_type": "code",
   "execution_count": 4,
   "metadata": {},
   "outputs": [
    {
     "name": "stdout",
     "output_type": "stream",
     "text": [
      "Loading data file from path /home/ec2-user/uclresearchanalysis/data/nyc/pickle/friends.dat\n",
      "'Loaded 29719 entires'\n"
     ]
    }
   ],
   "source": [
    "friends_dictionary = config.load_friends_dictionary()\n",
    "friends_set = set(friends_dictionary.keys())"
   ]
  },
  {
   "cell_type": "code",
   "execution_count": 5,
   "metadata": {},
   "outputs": [
    {
     "name": "stdout",
     "output_type": "stream",
     "text": [
      "Loading data file from path /home/ec2-user/uclresearchanalysis/other/newcrawl-2018-07-09 20:08:05.dat\n",
      "'Loaded 100 entires'\n",
      "Processing newcrawl-2018-07-09 20:08:05.dat, newly Found Users: 100\n",
      "Dumping data to path /home/ec2-user/uclresearchanalysis/data/nyc/pickle/friends.dat\n",
      "('Finished dumping data to path '\n",
      " '/home/ec2-user/uclresearchanalysis/data/nyc/pickle/friends.dat')\n",
      "Loading data file from path /home/ec2-user/uclresearchanalysis/other/newcrawl-2018-07-09 20:22:54.dat\n",
      "'Loaded 100 entires'\n",
      "Processing newcrawl-2018-07-09 20:22:54.dat, newly Found Users: 100\n",
      "Dumping data to path /home/ec2-user/uclresearchanalysis/data/nyc/pickle/friends.dat\n",
      "('Finished dumping data to path '\n",
      " '/home/ec2-user/uclresearchanalysis/data/nyc/pickle/friends.dat')\n",
      "Loading data file from path /home/ec2-user/uclresearchanalysis/other/newcrawl-2018-07-09 20:23:22.dat\n",
      "'Loaded 100 entires'\n",
      "Processing newcrawl-2018-07-09 20:23:22.dat, newly Found Users: 100\n",
      "Dumping data to path /home/ec2-user/uclresearchanalysis/data/nyc/pickle/friends.dat\n",
      "('Finished dumping data to path '\n",
      " '/home/ec2-user/uclresearchanalysis/data/nyc/pickle/friends.dat')\n",
      "Loading data file from path /home/ec2-user/uclresearchanalysis/other/newcrawl-2018-07-09 20:37:54.dat\n",
      "'Loaded 100 entires'\n",
      "Processing newcrawl-2018-07-09 20:37:54.dat, newly Found Users: 100\n",
      "Dumping data to path /home/ec2-user/uclresearchanalysis/data/nyc/pickle/friends.dat\n",
      "('Finished dumping data to path '\n",
      " '/home/ec2-user/uclresearchanalysis/data/nyc/pickle/friends.dat')\n",
      "Loading data file from path /home/ec2-user/uclresearchanalysis/other/newcrawl-2018-07-09 20:38:20.dat\n",
      "'Loaded 100 entires'\n",
      "Processing newcrawl-2018-07-09 20:38:20.dat, newly Found Users: 100\n",
      "Dumping data to path /home/ec2-user/uclresearchanalysis/data/nyc/pickle/friends.dat\n",
      "('Finished dumping data to path '\n",
      " '/home/ec2-user/uclresearchanalysis/data/nyc/pickle/friends.dat')\n",
      "Loading data file from path /home/ec2-user/uclresearchanalysis/other/newcrawl-2018-07-09 20:52:59.dat\n",
      "'Loaded 100 entires'\n",
      "Processing newcrawl-2018-07-09 20:52:59.dat, newly Found Users: 100\n",
      "Dumping data to path /home/ec2-user/uclresearchanalysis/data/nyc/pickle/friends.dat\n",
      "('Finished dumping data to path '\n",
      " '/home/ec2-user/uclresearchanalysis/data/nyc/pickle/friends.dat')\n",
      "Loading data file from path /home/ec2-user/uclresearchanalysis/other/newcrawl-2018-07-09 20:53:24.dat\n",
      "'Loaded 100 entires'\n",
      "Processing newcrawl-2018-07-09 20:53:24.dat, newly Found Users: 100\n",
      "Dumping data to path /home/ec2-user/uclresearchanalysis/data/nyc/pickle/friends.dat\n",
      "('Finished dumping data to path '\n",
      " '/home/ec2-user/uclresearchanalysis/data/nyc/pickle/friends.dat')\n",
      "Loading data file from path /home/ec2-user/uclresearchanalysis/other/newcrawl-2018-07-09 21:08:24.dat\n",
      "'Loaded 100 entires'\n",
      "Processing newcrawl-2018-07-09 21:08:24.dat, newly Found Users: 100\n",
      "Dumping data to path /home/ec2-user/uclresearchanalysis/data/nyc/pickle/friends.dat\n",
      "('Finished dumping data to path '\n",
      " '/home/ec2-user/uclresearchanalysis/data/nyc/pickle/friends.dat')\n",
      "Loading data file from path /home/ec2-user/uclresearchanalysis/other/newcrawl-2018-07-09 21:23:20.dat\n",
      "'Loaded 100 entires'\n",
      "Processing newcrawl-2018-07-09 21:23:20.dat, newly Found Users: 100\n",
      "Dumping data to path /home/ec2-user/uclresearchanalysis/data/nyc/pickle/friends.dat\n",
      "('Finished dumping data to path '\n",
      " '/home/ec2-user/uclresearchanalysis/data/nyc/pickle/friends.dat')\n",
      "Loading data file from path /home/ec2-user/uclresearchanalysis/other/newcrawl-2018-07-09 21:38:21.dat\n",
      "'Loaded 100 entires'\n",
      "Processing newcrawl-2018-07-09 21:38:21.dat, newly Found Users: 100\n",
      "Dumping data to path /home/ec2-user/uclresearchanalysis/data/nyc/pickle/friends.dat\n",
      "('Finished dumping data to path '\n",
      " '/home/ec2-user/uclresearchanalysis/data/nyc/pickle/friends.dat')\n",
      "Loading data file from path /home/ec2-user/uclresearchanalysis/other/newcrawl-2018-07-09 21:53:42.dat\n",
      "'Loaded 100 entires'\n",
      "Processing newcrawl-2018-07-09 21:53:42.dat, newly Found Users: 100\n",
      "Dumping data to path /home/ec2-user/uclresearchanalysis/data/nyc/pickle/friends.dat\n",
      "('Finished dumping data to path '\n",
      " '/home/ec2-user/uclresearchanalysis/data/nyc/pickle/friends.dat')\n",
      "Loading data file from path /home/ec2-user/uclresearchanalysis/other/newcrawl-2018-07-09 21:54:11.dat\n",
      "'Loaded 100 entires'\n",
      "Processing newcrawl-2018-07-09 21:54:11.dat, newly Found Users: 100\n",
      "Dumping data to path /home/ec2-user/uclresearchanalysis/data/nyc/pickle/friends.dat\n",
      "('Finished dumping data to path '\n",
      " '/home/ec2-user/uclresearchanalysis/data/nyc/pickle/friends.dat')\n",
      "Loading data file from path /home/ec2-user/uclresearchanalysis/other/newcrawl-2018-07-09 22:39:10.dat\n",
      "'Loaded 100 entires'\n",
      "Processing newcrawl-2018-07-09 22:39:10.dat, newly Found Users: 100\n",
      "Dumping data to path /home/ec2-user/uclresearchanalysis/data/nyc/pickle/friends.dat\n",
      "('Finished dumping data to path '\n",
      " '/home/ec2-user/uclresearchanalysis/data/nyc/pickle/friends.dat')\n",
      "Loading data file from path /home/ec2-user/uclresearchanalysis/other/newcrawl-2018-07-09 22:53:52.dat\n",
      "'Loaded 100 entires'\n",
      "Processing newcrawl-2018-07-09 22:53:52.dat, newly Found Users: 100\n",
      "Dumping data to path /home/ec2-user/uclresearchanalysis/data/nyc/pickle/friends.dat\n",
      "('Finished dumping data to path '\n",
      " '/home/ec2-user/uclresearchanalysis/data/nyc/pickle/friends.dat')\n",
      "Loading data file from path /home/ec2-user/uclresearchanalysis/other/newcrawl-2018-07-09 22:54:23.dat\n",
      "'Loaded 100 entires'\n",
      "Processing newcrawl-2018-07-09 22:54:23.dat, newly Found Users: 100\n",
      "Dumping data to path /home/ec2-user/uclresearchanalysis/data/nyc/pickle/friends.dat\n",
      "('Finished dumping data to path '\n",
      " '/home/ec2-user/uclresearchanalysis/data/nyc/pickle/friends.dat')\n",
      "Loading data file from path /home/ec2-user/uclresearchanalysis/other/newcrawl-2018-07-09 23:09:21.dat\n",
      "'Loaded 100 entires'\n",
      "Processing newcrawl-2018-07-09 23:09:21.dat, newly Found Users: 100\n",
      "Dumping data to path /home/ec2-user/uclresearchanalysis/data/nyc/pickle/friends.dat\n",
      "('Finished dumping data to path '\n",
      " '/home/ec2-user/uclresearchanalysis/data/nyc/pickle/friends.dat')\n",
      "Loading data file from path /home/ec2-user/uclresearchanalysis/other/newcrawl-2018-07-09 23:09:48.dat\n",
      "'Loaded 100 entires'\n",
      "Processing newcrawl-2018-07-09 23:09:48.dat, newly Found Users: 100\n",
      "Dumping data to path /home/ec2-user/uclresearchanalysis/data/nyc/pickle/friends.dat\n",
      "('Finished dumping data to path '\n",
      " '/home/ec2-user/uclresearchanalysis/data/nyc/pickle/friends.dat')\n",
      "Loading data file from path /home/ec2-user/uclresearchanalysis/other/newcrawl-2018-07-09 23:24:19.dat\n",
      "'Loaded 100 entires'\n",
      "Processing newcrawl-2018-07-09 23:24:19.dat, newly Found Users: 100\n",
      "Dumping data to path /home/ec2-user/uclresearchanalysis/data/nyc/pickle/friends.dat\n",
      "('Finished dumping data to path '\n",
      " '/home/ec2-user/uclresearchanalysis/data/nyc/pickle/friends.dat')\n",
      "Loading data file from path /home/ec2-user/uclresearchanalysis/other/newcrawl-2018-07-09 23:24:48.dat\n",
      "'Loaded 100 entires'\n",
      "Processing newcrawl-2018-07-09 23:24:48.dat, newly Found Users: 100\n",
      "Dumping data to path /home/ec2-user/uclresearchanalysis/data/nyc/pickle/friends.dat\n",
      "('Finished dumping data to path '\n",
      " '/home/ec2-user/uclresearchanalysis/data/nyc/pickle/friends.dat')\n",
      "Loading data file from path /home/ec2-user/uclresearchanalysis/other/newcrawl-2018-07-09 23:39:27.dat\n",
      "'Loaded 100 entires'\n",
      "Processing newcrawl-2018-07-09 23:39:27.dat, newly Found Users: 100\n",
      "Dumping data to path /home/ec2-user/uclresearchanalysis/data/nyc/pickle/friends.dat\n",
      "('Finished dumping data to path '\n",
      " '/home/ec2-user/uclresearchanalysis/data/nyc/pickle/friends.dat')\n",
      "Loading data file from path /home/ec2-user/uclresearchanalysis/other/newcrawl-2018-07-09 23:39:56.dat\n",
      "'Loaded 100 entires'\n",
      "Processing newcrawl-2018-07-09 23:39:56.dat, newly Found Users: 100\n",
      "Dumping data to path /home/ec2-user/uclresearchanalysis/data/nyc/pickle/friends.dat\n",
      "('Finished dumping data to path '\n",
      " '/home/ec2-user/uclresearchanalysis/data/nyc/pickle/friends.dat')\n",
      "Loading data file from path /home/ec2-user/uclresearchanalysis/other/newcrawl-2018-07-10 00:09:34.dat\n",
      "'Loaded 100 entires'\n",
      "Processing newcrawl-2018-07-10 00:09:34.dat, newly Found Users: 100\n",
      "Dumping data to path /home/ec2-user/uclresearchanalysis/data/nyc/pickle/friends.dat\n",
      "('Finished dumping data to path '\n",
      " '/home/ec2-user/uclresearchanalysis/data/nyc/pickle/friends.dat')\n",
      "Loading data file from path /home/ec2-user/uclresearchanalysis/other/newcrawl-2018-07-10 00:10:03.dat\n",
      "'Loaded 100 entires'\n",
      "Processing newcrawl-2018-07-10 00:10:03.dat, newly Found Users: 100\n",
      "Dumping data to path /home/ec2-user/uclresearchanalysis/data/nyc/pickle/friends.dat\n",
      "('Finished dumping data to path '\n",
      " '/home/ec2-user/uclresearchanalysis/data/nyc/pickle/friends.dat')\n",
      "Loading data file from path /home/ec2-user/uclresearchanalysis/other/newcrawl-2018-07-10 00:10:29.dat\n",
      "'Loaded 100 entires'\n",
      "Processing newcrawl-2018-07-10 00:10:29.dat, newly Found Users: 100\n",
      "Dumping data to path /home/ec2-user/uclresearchanalysis/data/nyc/pickle/friends.dat\n",
      "('Finished dumping data to path '\n",
      " '/home/ec2-user/uclresearchanalysis/data/nyc/pickle/friends.dat')\n"
     ]
    }
   ],
   "source": [
    "\n",
    "for file in os.listdir(config.settings['path']['other']):\n",
    "    if file.endswith(\".dat\"):\n",
    "        \n",
    "        crawl_dictionary = config.load_newcrawl_dictionary(file)\n",
    "        crawl_set = set(crawl_dictionary.keys())\n",
    "\n",
    "        newlyfound_set = (crawl_set & users_set) - friends_set\n",
    "        print('Processing {}, newly Found Users: {}'.format(file, len(newlyfound_set)))\n",
    "\n",
    "        # Append newly crawled into friends_dictionary\n",
    "        if len(newlyfound_set) > 0:\n",
    "            for newly_found_relationship_key in newlyfound_set:\n",
    "                friends_dictionary[newly_found_relationship_key] = crawl_dictionary[newly_found_relationship_key]\n",
    "            config.dump_friends_dictionary(friends_dictionary)"
   ]
  },
  {
   "cell_type": "code",
   "execution_count": 6,
   "metadata": {},
   "outputs": [
    {
     "name": "stdout",
     "output_type": "stream",
     "text": [
      "Dumping data to path /home/ec2-user/uclresearchanalysis/data/nyc/pickle/needcrawl.dat\n",
      "('Finished dumping data to path '\n",
      " '/home/ec2-user/uclresearchanalysis/data/nyc/pickle/needcrawl.dat')\n",
      "Number of users still need to crawl: 81859\n"
     ]
    }
   ],
   "source": [
    "need_to_crawl = users_set - set(friends_dictionary.keys())\n",
    "config.dump_needcrawl_set(need_to_crawl)\n",
    "print('Number of users still need to crawl: {}'.format(len(need_to_crawl)))  "
   ]
  }
 ],
 "metadata": {
  "kernelspec": {
   "display_name": "Python 3",
   "language": "python",
   "name": "python3"
  },
  "language_info": {
   "codemirror_mode": {
    "name": "ipython",
    "version": 3
   },
   "file_extension": ".py",
   "mimetype": "text/x-python",
   "name": "python",
   "nbconvert_exporter": "python",
   "pygments_lexer": "ipython3",
   "version": "3.6.6"
  }
 },
 "nbformat": 4,
 "nbformat_minor": 2
}
