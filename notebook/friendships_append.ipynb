{
 "cells": [
  {
   "cell_type": "code",
   "execution_count": 2,
   "metadata": {},
   "outputs": [
    {
     "name": "stdout",
     "output_type": "stream",
     "text": [
      "/home/ec2-user\n"
     ]
    }
   ],
   "source": [
    "%cd .."
   ]
  },
  {
   "cell_type": "code",
   "execution_count": 3,
   "metadata": {},
   "outputs": [
    {
     "ename": "ModuleNotFoundError",
     "evalue": "No module named 'configuration'",
     "output_type": "error",
     "traceback": [
      "\u001b[0;31m---------------------------------------------------------------------------\u001b[0m",
      "\u001b[0;31mModuleNotFoundError\u001b[0m                       Traceback (most recent call last)",
      "\u001b[0;32m<ipython-input-3-f1506ac48e69>\u001b[0m in \u001b[0;36m<module>\u001b[0;34m()\u001b[0m\n\u001b[1;32m      4\u001b[0m \u001b[0mbuiltins\u001b[0m\u001b[0;34m.\u001b[0m\u001b[0muclresearch_topic\u001b[0m \u001b[0;34m=\u001b[0m \u001b[0;34m'NYC'\u001b[0m \u001b[0;31m# 39947\u001b[0m\u001b[0;34m\u001b[0m\u001b[0m\n\u001b[1;32m      5\u001b[0m \u001b[0;31m# builtins.uclresearch_topic = 'FLORIDA' # 431783\u001b[0m\u001b[0;34m\u001b[0m\u001b[0;34m\u001b[0m\u001b[0m\n\u001b[0;32m----> 6\u001b[0;31m \u001b[0;32mfrom\u001b[0m \u001b[0mconfiguration\u001b[0m \u001b[0;32mimport\u001b[0m \u001b[0mconfig\u001b[0m\u001b[0;34m\u001b[0m\u001b[0m\n\u001b[0m\u001b[1;32m      7\u001b[0m \u001b[0;32mimport\u001b[0m \u001b[0mos\u001b[0m\u001b[0;34m\u001b[0m\u001b[0m\n",
      "\u001b[0;31mModuleNotFoundError\u001b[0m: No module named 'configuration'"
     ]
    }
   ],
   "source": [
    "import builtins\n",
    "# builtins.uclresearch_topic = 'GIVENCHY' #0 -- Finished\n",
    "# builtins.uclresearch_topic = 'HAWKING' #0 -- Finished\n",
    "builtins.uclresearch_topic = 'NYC' # 39947\n",
    "# builtins.uclresearch_topic = 'FLORIDA' # 431783\n",
    "from configuration import config\n",
    "import os"
   ]
  },
  {
   "cell_type": "code",
   "execution_count": null,
   "metadata": {},
   "outputs": [],
   "source": [
    "unique_users = config.load_users_dataframe()\n",
    "users_set = set(unique_users.user_id)"
   ]
  },
  {
   "cell_type": "code",
   "execution_count": null,
   "metadata": {},
   "outputs": [],
   "source": [
    "friends_dictionary = config.load_friends_dictionary()\n",
    "friends_set = set(friends_dictionary.keys())"
   ]
  },
  {
   "cell_type": "code",
   "execution_count": null,
   "metadata": {},
   "outputs": [],
   "source": [
    "for file in os.listdir(config.settings['path']['crawl']['friends']):\n",
    "    if file.endswith(\".dat\"):\n",
    "        \n",
    "        crawl_dictionary = config.load_new_friends_dictionary(file)\n",
    "        crawl_set = set(crawl_dictionary.keys())\n",
    "\n",
    "        newlyfound_set = (crawl_set & users_set) - friends_set\n",
    "        print('Processing {}, newly Found Users: {}'.format(file, len(newlyfound_set)))\n",
    "\n",
    "        # Append newly crawled into friends_dictionary\n",
    "        if len(newlyfound_set) > 0:\n",
    "            for newly_found_relationship_key in newlyfound_set:\n",
    "                friends_dictionary[newly_found_relationship_key] = crawl_dictionary[newly_found_relationship_key]\n",
    "config.dump_friends_dictionary(friends_dictionary)"
   ]
  },
  {
   "cell_type": "code",
   "execution_count": null,
   "metadata": {},
   "outputs": [],
   "source": [
    "need_to_crawl = users_set - set(friends_dictionary.keys())\n",
    "config.dump_needcrawl_set(need_to_crawl)\n",
    "print('Number of users still need to crawl: {}'.format(len(need_to_crawl)))  "
   ]
  }
 ],
 "metadata": {
  "kernelspec": {
   "display_name": "Python 3",
   "language": "python",
   "name": "python3"
  },
  "language_info": {
   "codemirror_mode": {
    "name": "ipython",
    "version": 3
   },
   "file_extension": ".py",
   "mimetype": "text/x-python",
   "name": "python",
   "nbconvert_exporter": "python",
   "pygments_lexer": "ipython3",
   "version": "3.6.6"
  }
 },
 "nbformat": 4,
 "nbformat_minor": 2
}
