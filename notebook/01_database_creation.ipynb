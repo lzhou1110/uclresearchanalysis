{
 "cells": [
  {
   "cell_type": "code",
   "execution_count": 1,
   "metadata": {},
   "outputs": [
    {
     "name": "stdout",
     "output_type": "stream",
     "text": [
      "/home/ec2-user/uclresearchanalysis\n"
     ]
    }
   ],
   "source": [
    "cd .."
   ]
  },
  {
   "cell_type": "code",
   "execution_count": 2,
   "metadata": {},
   "outputs": [
    {
     "name": "stdout",
     "output_type": "stream",
     "text": [
      "Reading config file from location: /home/ec2-user/uclresearchanalysis/configuration/db.properties\n"
     ]
    }
   ],
   "source": [
    "import os\n",
    "from configuration import db\n",
    "twitterDatabase = db.TwitterDatabase()"
   ]
  },
  {
   "cell_type": "code",
   "execution_count": 3,
   "metadata": {},
   "outputs": [],
   "source": [
    "sql_directory = os.path.join(\n",
    "    os.path.dirname(os.path.realpath('__file__')),\n",
    "    'sql'\n",
    ")"
   ]
  },
  {
   "cell_type": "code",
   "execution_count": 4,
   "metadata": {},
   "outputs": [
    {
     "name": "stdout",
     "output_type": "stream",
     "text": [
      "Executing file: 0_creates_table.sql\n",
      "Executing file: 1_add_column_followers.sql\n",
      "Exception: (1060, \"Duplicate column name 'followers_json'\"), SQL: ALTER TABLE `user`\n",
      "ADD COLUMN `followers_json` json default NULL;, parameters: []\n",
      "Reconnected!\n",
      "Executing file: 2_add_column_friends.sql\n",
      "Exception: (1060, \"Duplicate column name 'friends_json'\"), SQL: ALTER TABLE `user`\n",
      "ADD COLUMN `friends_json` json default NULL;, parameters: []\n",
      "Reconnected!\n",
      "Executing file: 3_add_feature_columns.sql\n"
     ]
    },
    {
     "name": "stderr",
     "output_type": "stream",
     "text": [
      "/home/ec2-user/miniconda3/lib/python3.6/site-packages/pymysql/cursors.py:329: Warning: (1050, \"Table 'user' already exists\")\n",
      "  self._do_get_result()\n"
     ]
    }
   ],
   "source": [
    "twitterDatabase.connect()\n",
    "for the_file in sorted(os.listdir(sql_directory)):    \n",
    "    file_path = os.path.join(sql_directory, the_file)\n",
    "    if os.path.isfile(file_path) and file_path.endswith('.sql'):\n",
    "        print('Executing file: {}'.format(the_file))\n",
    "        fd = open(file_path, 'r')\n",
    "        sqlCommand = fd.read()\n",
    "        fd.close()\n",
    "        twitterDatabase.execute(sqlCommand)\n",
    "twitterDatabase.close()"
   ]
  }
 ],
 "metadata": {
  "kernelspec": {
   "display_name": "Python 3",
   "language": "python",
   "name": "python3"
  },
  "language_info": {
   "codemirror_mode": {
    "name": "ipython",
    "version": 3
   },
   "file_extension": ".py",
   "mimetype": "text/x-python",
   "name": "python",
   "nbconvert_exporter": "python",
   "pygments_lexer": "ipython3",
   "version": "3.6.6"
  }
 },
 "nbformat": 4,
 "nbformat_minor": 2
}
