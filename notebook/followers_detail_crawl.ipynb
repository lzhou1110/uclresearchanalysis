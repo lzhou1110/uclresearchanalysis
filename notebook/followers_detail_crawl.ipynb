{
 "cells": [
  {
   "cell_type": "code",
   "execution_count": 1,
   "metadata": {},
   "outputs": [
    {
     "name": "stdout",
     "output_type": "stream",
     "text": [
      "/home/ec2-user/uclresearchanalysis\n"
     ]
    }
   ],
   "source": [
    "%cd .."
   ]
  },
  {
   "cell_type": "code",
   "execution_count": 2,
   "metadata": {},
   "outputs": [
    {
     "name": "stdout",
     "output_type": "stream",
     "text": [
      "('Reading config file from location: '\n",
      " '/home/ec2-user/uclresearchanalysis/configuration/env.properties')\n",
      "{'calculate': {'analysis': True,\n",
      "               'network': True,\n",
      "               'uniquetweets': True,\n",
      "               'uniqueusers': True},\n",
      " 'data': {'dates': ['2018-03-11', '2018-03-12', '2018-03-13'],\n",
      "          'eventname': \"Givenchy's Death\",\n",
      "          'phrases': ['givenchy%20death', 'givenchy%20passed%20away'],\n",
      "          'starttime': 'Mar 12 08:20:00 -0500 2018'},\n",
      " 'path': {'crawl': {'followers': '/home/ec2-user/uclresearchanalysis/followers',\n",
      "                    'friends': '/home/ec2-user/uclresearchanalysis/friends'},\n",
      "          'cwd': '/home/ec2-user/uclresearchanalysis/data/givenchy',\n",
      "          'ml': '/home/ec2-user/uclresearchanalysis/data/givenchy/pickle',\n",
      "          'networkx': {'all': '/home/ec2-user/uclresearchanalysis/data/givenchy/pickle/networkx_all.dat',\n",
      "                       'friends': '/home/ec2-user/uclresearchanalysis/data/givenchy/pickle/networkx_friends.dat',\n",
      "                       'potential': '/home/ec2-user/uclresearchanalysis/data/givenchy/pickle/networkx_potential.dat'},\n",
      "          'pickle': {'followers': '/home/ec2-user/uclresearchanalysis/data/givenchy/pickle/followers.dat',\n",
      "                     'followersneedcrawl': '/home/ec2-user/uclresearchanalysis/data/givenchy/pickle/followersneedcrawl.dat',\n",
      "                     'friends': '/home/ec2-user/uclresearchanalysis/data/givenchy/pickle/friends.dat',\n",
      "                     'needcrawl': '/home/ec2-user/uclresearchanalysis/data/givenchy/pickle/needcrawl.dat',\n",
      "                     'network': '/home/ec2-user/uclresearchanalysis/data/givenchy/pickle/network.dat',\n",
      "                     'tweets': '/home/ec2-user/uclresearchanalysis/data/givenchy/pickle/tweets.dat',\n",
      "                     'users': '/home/ec2-user/uclresearchanalysis/data/givenchy/pickle/users.dat'},\n",
      "          'result': '/home/ec2-user/uclresearchanalysis/data/givenchy/result',\n",
      "          'twitter': '/home/ec2-user/uclresearchanalysis/data/givenchy/twitter'},\n",
      " 'save_to_file': 'False',\n",
      " 'timeframe': '1440'}\n"
     ]
    }
   ],
   "source": [
    "import builtins\n",
    "builtins.uclresearch_topic = 'GIVENCHY'\n",
    "# builtins.uclresearch_topic = 'HAWKING'\n",
    "# builtins.uclresearch_topic = 'NYC'\n",
    "# builtins.uclresearch_topic = 'FLORIDA'\n",
    "from configuration import config"
   ]
  },
  {
   "cell_type": "code",
   "execution_count": 5,
   "metadata": {},
   "outputs": [
    {
     "name": "stdout",
     "output_type": "stream",
     "text": [
      "Loading data file from path /home/ec2-user/uclresearchanalysis/data/givenchy/pickle/followers.dat\n",
      "'Loaded 5011 entires'\n"
     ]
    }
   ],
   "source": [
    "# 564966240\n",
    "friends_dictionary = config.load_followers_dictionary()"
   ]
  },
  {
   "cell_type": "code",
   "execution_count": 6,
   "metadata": {},
   "outputs": [
    {
     "data": {
      "text/plain": [
       "5011"
      ]
     },
     "execution_count": 6,
     "metadata": {},
     "output_type": "execute_result"
    }
   ],
   "source": [
    "len(friends_dictionary)"
   ]
  },
  {
   "cell_type": "code",
   "execution_count": 7,
   "metadata": {},
   "outputs": [],
   "source": [
    "values = list(friends_dictionary.values())"
   ]
  },
  {
   "cell_type": "code",
   "execution_count": 9,
   "metadata": {},
   "outputs": [
    {
     "data": {
      "text/plain": [
       "259"
      ]
     },
     "execution_count": 9,
     "metadata": {},
     "output_type": "execute_result"
    }
   ],
   "source": [
    "len(values[0])"
   ]
  },
  {
   "cell_type": "code",
   "execution_count": 11,
   "metadata": {},
   "outputs": [],
   "source": [
    "need_to_crawl = set([item for sublist in friends_dictionary.values() for item in sublist])"
   ]
  },
  {
   "cell_type": "code",
   "execution_count": 13,
   "metadata": {},
   "outputs": [
    {
     "data": {
      "text/plain": [
       "7410736"
      ]
     },
     "execution_count": 13,
     "metadata": {},
     "output_type": "execute_result"
    }
   ],
   "source": [
    "len(need_to_crawl)"
   ]
  }
 ],
 "metadata": {
  "kernelspec": {
   "display_name": "Python 3",
   "language": "python",
   "name": "python3"
  },
  "language_info": {
   "codemirror_mode": {
    "name": "ipython",
    "version": 3
   },
   "file_extension": ".py",
   "mimetype": "text/x-python",
   "name": "python",
   "nbconvert_exporter": "python",
   "pygments_lexer": "ipython3",
   "version": "3.6.6"
  }
 },
 "nbformat": 4,
 "nbformat_minor": 2
}
