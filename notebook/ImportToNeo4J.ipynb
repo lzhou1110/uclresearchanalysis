{
 "cells": [
  {
   "cell_type": "code",
   "execution_count": 44,
   "metadata": {},
   "outputs": [
    {
     "name": "stdout",
     "output_type": "stream",
     "text": [
      "/home/ec2-user/uclresearchanalysis\n"
     ]
    }
   ],
   "source": [
    "cd .."
   ]
  },
  {
   "cell_type": "code",
   "execution_count": 46,
   "metadata": {},
   "outputs": [],
   "source": [
    "import builtins\n",
    "builtins.uclresearch_topic = 'GIVENCHY' #0 -- Finished\n",
    "# builtins.uclresearch_topic = 'HAWKING' #0 -- Finished\n",
    "# builtins.uclresearch_topic = 'NYC' # 73502\n",
    "# builtins.uclresearch_topic = 'FLORIDA' # 443351\n",
    "from configuration import config\n",
    "from py2neo import Graph\n",
    "from py2neo import Node\n",
    "from py2neo import Relationship"
   ]
  },
  {
   "cell_type": "code",
   "execution_count": 57,
   "metadata": {},
   "outputs": [
    {
     "name": "stdout",
     "output_type": "stream",
     "text": [
      "Loading data file from path /home/ec2-user/uclresearchanalysis/data/givenchy/pickle/followers.dat\n",
      "'Loaded 5011 entires'\n"
     ]
    }
   ],
   "source": [
    "users = config.load_followers_dictionary()"
   ]
  },
  {
   "cell_type": "code",
   "execution_count": null,
   "metadata": {},
   "outputs": [],
   "source": [
    "users"
   ]
  },
  {
   "cell_type": "code",
   "execution_count": 48,
   "metadata": {},
   "outputs": [
    {
     "data": {
      "text/html": [
       "<div>\n",
       "<style scoped>\n",
       "    .dataframe tbody tr th:only-of-type {\n",
       "        vertical-align: middle;\n",
       "    }\n",
       "\n",
       "    .dataframe tbody tr th {\n",
       "        vertical-align: top;\n",
       "    }\n",
       "\n",
       "    .dataframe thead th {\n",
       "        text-align: right;\n",
       "    }\n",
       "</style>\n",
       "<table border=\"1\" class=\"dataframe\">\n",
       "  <thead>\n",
       "    <tr style=\"text-align: right;\">\n",
       "      <th></th>\n",
       "      <th>user</th>\n",
       "      <th>user_id</th>\n",
       "      <th>time_lapsed</th>\n",
       "      <th>followers_count</th>\n",
       "      <th>friends_count</th>\n",
       "      <th>user_created_days</th>\n",
       "      <th>user_statuses_count</th>\n",
       "      <th>user_listed_count</th>\n",
       "      <th>user_favourites_count</th>\n",
       "      <th>normalized_user_statuses_count</th>\n",
       "      <th>normalized_user_followers_count</th>\n",
       "      <th>normalized_user_favourites_count</th>\n",
       "      <th>normalized_user_listed_count</th>\n",
       "      <th>normalized_user_friends_count</th>\n",
       "      <th>mention_and_reply</th>\n",
       "      <th>source_candidates</th>\n",
       "      <th>source_index</th>\n",
       "      <th>seed_index</th>\n",
       "      <th>generation</th>\n",
       "      <th>time_since_seed</th>\n",
       "    </tr>\n",
       "  </thead>\n",
       "  <tbody>\n",
       "    <tr>\n",
       "      <th>0</th>\n",
       "      <td>davelackie</td>\n",
       "      <td>100766356</td>\n",
       "      <td>0.00</td>\n",
       "      <td>143119</td>\n",
       "      <td>4643</td>\n",
       "      <td>2993</td>\n",
       "      <td>181393</td>\n",
       "      <td>555</td>\n",
       "      <td>11938</td>\n",
       "      <td>60.605747</td>\n",
       "      <td>47.817908</td>\n",
       "      <td>3.988640</td>\n",
       "      <td>0.185433</td>\n",
       "      <td>1.551286</td>\n",
       "      <td>[]</td>\n",
       "      <td>[3, 5, 6, 7, 10, 11, 14, 15, 19, 20, 24, 74, 8...</td>\n",
       "      <td>None</td>\n",
       "      <td>0</td>\n",
       "      <td>0</td>\n",
       "      <td>0</td>\n",
       "    </tr>\n",
       "    <tr>\n",
       "      <th>1</th>\n",
       "      <td>alexanderskhan</td>\n",
       "      <td>3186545203</td>\n",
       "      <td>0.15</td>\n",
       "      <td>753</td>\n",
       "      <td>3428</td>\n",
       "      <td>1042</td>\n",
       "      <td>12853</td>\n",
       "      <td>8</td>\n",
       "      <td>34186</td>\n",
       "      <td>12.334933</td>\n",
       "      <td>0.722649</td>\n",
       "      <td>32.808061</td>\n",
       "      <td>0.007678</td>\n",
       "      <td>3.289827</td>\n",
       "      <td>[0]</td>\n",
       "      <td>[0]</td>\n",
       "      <td>0</td>\n",
       "      <td>0</td>\n",
       "      <td>1</td>\n",
       "      <td>0.15</td>\n",
       "    </tr>\n",
       "    <tr>\n",
       "      <th>2</th>\n",
       "      <td>consiglierela</td>\n",
       "      <td>4134992843</td>\n",
       "      <td>0.23</td>\n",
       "      <td>2161</td>\n",
       "      <td>396</td>\n",
       "      <td>856</td>\n",
       "      <td>46934</td>\n",
       "      <td>36</td>\n",
       "      <td>78797</td>\n",
       "      <td>54.829439</td>\n",
       "      <td>2.524533</td>\n",
       "      <td>92.052570</td>\n",
       "      <td>0.042056</td>\n",
       "      <td>0.462617</td>\n",
       "      <td>[0]</td>\n",
       "      <td>[0, 12, 21, 32, 48, 748, 819, 972, 2358, 2778,...</td>\n",
       "      <td>0</td>\n",
       "      <td>0</td>\n",
       "      <td>1</td>\n",
       "      <td>0.23</td>\n",
       "    </tr>\n",
       "    <tr>\n",
       "      <th>3</th>\n",
       "      <td>ImpactPrincess</td>\n",
       "      <td>1955472014</td>\n",
       "      <td>0.63</td>\n",
       "      <td>242</td>\n",
       "      <td>642</td>\n",
       "      <td>1613</td>\n",
       "      <td>23179</td>\n",
       "      <td>55</td>\n",
       "      <td>28995</td>\n",
       "      <td>14.370118</td>\n",
       "      <td>0.150031</td>\n",
       "      <td>17.975821</td>\n",
       "      <td>0.034098</td>\n",
       "      <td>0.398016</td>\n",
       "      <td>[0]</td>\n",
       "      <td>[0, 115, 577]</td>\n",
       "      <td>0</td>\n",
       "      <td>0</td>\n",
       "      <td>1</td>\n",
       "      <td>0.63</td>\n",
       "    </tr>\n",
       "    <tr>\n",
       "      <th>4</th>\n",
       "      <td>Damek0Masca</td>\n",
       "      <td>406301175</td>\n",
       "      <td>1.13</td>\n",
       "      <td>116</td>\n",
       "      <td>239</td>\n",
       "      <td>2318</td>\n",
       "      <td>2407</td>\n",
       "      <td>12</td>\n",
       "      <td>1058</td>\n",
       "      <td>1.038395</td>\n",
       "      <td>0.050043</td>\n",
       "      <td>0.456428</td>\n",
       "      <td>0.005177</td>\n",
       "      <td>0.103106</td>\n",
       "      <td>[]</td>\n",
       "      <td>[]</td>\n",
       "      <td>None</td>\n",
       "      <td>4</td>\n",
       "      <td>0</td>\n",
       "      <td>0</td>\n",
       "    </tr>\n",
       "  </tbody>\n",
       "</table>\n",
       "</div>"
      ],
      "text/plain": [
       "             user     user_id  time_lapsed  followers_count  friends_count  \\\n",
       "0      davelackie   100766356         0.00           143119           4643   \n",
       "1  alexanderskhan  3186545203         0.15              753           3428   \n",
       "2   consiglierela  4134992843         0.23             2161            396   \n",
       "3  ImpactPrincess  1955472014         0.63              242            642   \n",
       "4     Damek0Masca   406301175         1.13              116            239   \n",
       "\n",
       "   user_created_days  user_statuses_count  user_listed_count  \\\n",
       "0               2993               181393                555   \n",
       "1               1042                12853                  8   \n",
       "2                856                46934                 36   \n",
       "3               1613                23179                 55   \n",
       "4               2318                 2407                 12   \n",
       "\n",
       "   user_favourites_count  normalized_user_statuses_count  \\\n",
       "0                  11938                       60.605747   \n",
       "1                  34186                       12.334933   \n",
       "2                  78797                       54.829439   \n",
       "3                  28995                       14.370118   \n",
       "4                   1058                        1.038395   \n",
       "\n",
       "   normalized_user_followers_count  normalized_user_favourites_count  \\\n",
       "0                        47.817908                          3.988640   \n",
       "1                         0.722649                         32.808061   \n",
       "2                         2.524533                         92.052570   \n",
       "3                         0.150031                         17.975821   \n",
       "4                         0.050043                          0.456428   \n",
       "\n",
       "   normalized_user_listed_count  normalized_user_friends_count  \\\n",
       "0                      0.185433                       1.551286   \n",
       "1                      0.007678                       3.289827   \n",
       "2                      0.042056                       0.462617   \n",
       "3                      0.034098                       0.398016   \n",
       "4                      0.005177                       0.103106   \n",
       "\n",
       "  mention_and_reply                                  source_candidates  \\\n",
       "0                []  [3, 5, 6, 7, 10, 11, 14, 15, 19, 20, 24, 74, 8...   \n",
       "1               [0]                                                [0]   \n",
       "2               [0]  [0, 12, 21, 32, 48, 748, 819, 972, 2358, 2778,...   \n",
       "3               [0]                                      [0, 115, 577]   \n",
       "4                []                                                 []   \n",
       "\n",
       "  source_index  seed_index  generation time_since_seed  \n",
       "0         None           0           0               0  \n",
       "1            0           0           1            0.15  \n",
       "2            0           0           1            0.23  \n",
       "3            0           0           1            0.63  \n",
       "4         None           4           0               0  "
      ]
     },
     "execution_count": 48,
     "metadata": {},
     "output_type": "execute_result"
    }
   ],
   "source": [
    "users.head()"
   ]
  },
  {
   "cell_type": "code",
   "execution_count": 55,
   "metadata": {},
   "outputs": [
    {
     "name": "stdout",
     "output_type": "stream",
     "text": [
      "0 100766356\n",
      "1 3186545203\n",
      "2 4134992843\n",
      "3 1955472014\n",
      "4 406301175\n",
      "5 2938214163\n",
      "6 89805327\n",
      "7 342931336\n",
      "8 27220084\n",
      "9 97360017\n"
     ]
    }
   ],
   "source": [
    "for index, row in users[0:10].iterrows():\n",
    "    Node('TwitterUser', user_id=row.user_id, )\n",
    "    \n",
    "    \n",
    "    print(index, row.user_id)"
   ]
  },
  {
   "cell_type": "code",
   "execution_count": 40,
   "metadata": {},
   "outputs": [],
   "source": [
    "graph = Graph()"
   ]
  },
  {
   "cell_type": "code",
   "execution_count": 41,
   "metadata": {},
   "outputs": [],
   "source": [
    "a = Node('User', name='Test')"
   ]
  },
  {
   "cell_type": "code",
   "execution_count": 42,
   "metadata": {},
   "outputs": [],
   "source": [
    "a['attribute1'] = 'test'"
   ]
  },
  {
   "cell_type": "code",
   "execution_count": 43,
   "metadata": {},
   "outputs": [
    {
     "data": {
      "text/plain": [
       "(:User {attribute1: 'test', name: 'Test'})"
      ]
     },
     "execution_count": 43,
     "metadata": {},
     "output_type": "execute_result"
    }
   ],
   "source": [
    "a"
   ]
  },
  {
   "cell_type": "code",
   "execution_count": 34,
   "metadata": {},
   "outputs": [
    {
     "data": {
      "text/plain": [
       "<GraphServiceAddress http_uri='http://localhost:7474/' bolt_uri='bolt://localhost:7687/'>"
      ]
     },
     "execution_count": 34,
     "metadata": {},
     "output_type": "execute_result"
    }
   ],
   "source": [
    "graph.address"
   ]
  },
  {
   "cell_type": "code",
   "execution_count": 37,
   "metadata": {},
   "outputs": [
    {
     "data": {
      "text/plain": [
       "<bound method Graph.node of <Graph uri='http://localhost:7474/db/data/'>>"
      ]
     },
     "execution_count": 37,
     "metadata": {},
     "output_type": "execute_result"
    }
   ],
   "source": [
    "graph.node"
   ]
  },
  {
   "cell_type": "code",
   "execution_count": 29,
   "metadata": {},
   "outputs": [
    {
     "data": {
      "text/plain": [
       "(Alice)-[:KNOWS {}]->(Bob)"
      ]
     },
     "execution_count": 29,
     "metadata": {},
     "output_type": "execute_result"
    }
   ],
   "source": [
    "a = Node(\"Person\", name=\"Alice\")\n",
    "b = Node(\"Person\", name=\"Bob\")\n",
    "ab = Relationship(a, \"KNOWS\", b)\n",
    "ab"
   ]
  },
  {
   "cell_type": "code",
   "execution_count": 31,
   "metadata": {},
   "outputs": [
    {
     "data": {
      "text/plain": [
       "(Alice)-[:WORKS_WITH {}]->(Carol)"
      ]
     },
     "execution_count": 31,
     "metadata": {},
     "output_type": "execute_result"
    }
   ],
   "source": [
    "c = Node(\"Person\", name=\"Carol\")\n",
    "class WorksWith(Relationship): pass\n",
    "ac = WorksWith(a, c)\n",
    "ac"
   ]
  },
  {
   "cell_type": "code",
   "execution_count": 20,
   "metadata": {},
   "outputs": [],
   "source": [
    "graph = Graph()"
   ]
  },
  {
   "cell_type": "code",
   "execution_count": 21,
   "metadata": {},
   "outputs": [],
   "source": [
    "nicole = Node(\"Person\", name=\"Nicole\", age=24)\n",
    "drew = Node(\"Person\", name=\"Drew\", age=20)\n",
    "\n",
    "mtdew = Node(\"Drink\", name=\"Mountain Dew\", calories=9000)\n",
    "cokezero = Node(\"Drink\", name=\"Coke Zero\", calories=0)\n",
    "\n",
    "coke = Node(\"Manufacturer\", name=\"Coca Cola\")\n",
    "pepsi = Node(\"Manufacturer\", name=\"Pepsi\")"
   ]
  },
  {
   "cell_type": "code",
   "execution_count": 22,
   "metadata": {},
   "outputs": [],
   "source": [
    "graph.create(nicole | drew | mtdew | cokezero | coke | pepsi)"
   ]
  },
  {
   "cell_type": "code",
   "execution_count": 23,
   "metadata": {},
   "outputs": [
    {
     "data": {
      "text/plain": [
       "<Graph uri='http://localhost:7474/db/data/'>"
      ]
     },
     "execution_count": 23,
     "metadata": {},
     "output_type": "execute_result"
    }
   ],
   "source": [
    "graph"
   ]
  },
  {
   "cell_type": "code",
   "execution_count": 25,
   "metadata": {},
   "outputs": [
    {
     "ename": "ModuleNotFoundError",
     "evalue": "No module named 'scripts'",
     "output_type": "error",
     "traceback": [
      "\u001b[0;31m---------------------------------------------------------------------------\u001b[0m",
      "\u001b[0;31mModuleNotFoundError\u001b[0m                       Traceback (most recent call last)",
      "\u001b[0;32m<ipython-input-25-67d2fa2a4dc8>\u001b[0m in \u001b[0;36m<module>\u001b[0;34m()\u001b[0m\n\u001b[0;32m----> 1\u001b[0;31m \u001b[0;32mfrom\u001b[0m \u001b[0mscripts\u001b[0m\u001b[0;34m.\u001b[0m\u001b[0mvis\u001b[0m \u001b[0;32mimport\u001b[0m \u001b[0mdraw\u001b[0m\u001b[0;34m\u001b[0m\u001b[0m\n\u001b[0m\u001b[1;32m      2\u001b[0m \u001b[0;34m\u001b[0m\u001b[0m\n\u001b[1;32m      3\u001b[0m \u001b[0moptions\u001b[0m \u001b[0;34m=\u001b[0m \u001b[0;34m{\u001b[0m\u001b[0;34m\"Person\"\u001b[0m\u001b[0;34m:\u001b[0m \u001b[0;34m\"name\"\u001b[0m\u001b[0;34m,\u001b[0m \u001b[0;34m\"Drink\"\u001b[0m\u001b[0;34m:\u001b[0m \u001b[0;34m\"name\"\u001b[0m\u001b[0;34m,\u001b[0m \u001b[0;34m\"Manufacturer\"\u001b[0m\u001b[0;34m:\u001b[0m \u001b[0;34m\"name\"\u001b[0m\u001b[0;34m}\u001b[0m\u001b[0;34m\u001b[0m\u001b[0m\n\u001b[1;32m      4\u001b[0m \u001b[0mdraw\u001b[0m\u001b[0;34m(\u001b[0m\u001b[0mgraph\u001b[0m\u001b[0;34m,\u001b[0m \u001b[0moptions\u001b[0m\u001b[0;34m)\u001b[0m\u001b[0;34m\u001b[0m\u001b[0m\n",
      "\u001b[0;31mModuleNotFoundError\u001b[0m: No module named 'scripts'"
     ]
    }
   ],
   "source": [
    "from scripts.vis import draw\n",
    "\n",
    "options = {\"Person\": \"name\", \"Drink\": \"name\", \"Manufacturer\": \"name\"}\n",
    "draw(graph, options)"
   ]
  }
 ],
 "metadata": {
  "kernelspec": {
   "display_name": "Python 3",
   "language": "python",
   "name": "python3"
  },
  "language_info": {
   "codemirror_mode": {
    "name": "ipython",
    "version": 3
   },
   "file_extension": ".py",
   "mimetype": "text/x-python",
   "name": "python",
   "nbconvert_exporter": "python",
   "pygments_lexer": "ipython3",
   "version": "3.6.6"
  }
 },
 "nbformat": 4,
 "nbformat_minor": 2
}
