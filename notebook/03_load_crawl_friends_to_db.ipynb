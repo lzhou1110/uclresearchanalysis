{
 "cells": [
  {
   "cell_type": "code",
   "execution_count": 1,
   "metadata": {},
   "outputs": [
    {
     "name": "stdout",
     "output_type": "stream",
     "text": [
      "/home/ec2-user/uclresearchanalysis\n"
     ]
    }
   ],
   "source": [
    "cd .."
   ]
  },
  {
   "cell_type": "code",
   "execution_count": 2,
   "metadata": {},
   "outputs": [
    {
     "name": "stdout",
     "output_type": "stream",
     "text": [
      "('Reading config file from location: '\n",
      " '/home/ec2-user/uclresearchanalysis/configuration/env.properties')\n",
      "{'calculate': {'analysis': True,\n",
      "               'network': True,\n",
      "               'uniquetweets': True,\n",
      "               'uniqueusers': True},\n",
      " 'data': {'dates': ['2017-12-10', '2017-12-11', '2017-12-12'],\n",
      "          'eventname': 'nyc attack',\n",
      "          'phrases': ['nyc%20explosion',\n",
      "                      'nyc%20bombing',\n",
      "                      'nyc%20attack',\n",
      "                      'nyc%20terror',\n",
      "                      'new%20york%20explosion',\n",
      "                      'new%20york%20bombing',\n",
      "                      'new%20york%20attack',\n",
      "                      'new%20york%20terror',\n",
      "                      'manhattan%20explosion',\n",
      "                      'manhattan%20bombing',\n",
      "                      'manhattan%20attack',\n",
      "                      'manhattan%20terror',\n",
      "                      'port%20authority%20explosion',\n",
      "                      'port%20authority%20bombing',\n",
      "                      'port%20authority%20attack',\n",
      "                      'port%20authority%20terror'],\n",
      "          'starttime': 'Dec 11 07:00:00 -0500 2017'},\n",
      " 'path': {'crawl': {'followers': '/home/ec2-user/uclresearchanalysis/followers',\n",
      "                    'friends': '/home/ec2-user/uclresearchanalysis/friends'},\n",
      "          'cwd': '/home/ec2-user/uclresearchanalysis/data/nyc',\n",
      "          'ml': '/home/ec2-user/uclresearchanalysis/data/nyc/pickle',\n",
      "          'networkx': {'all': '/home/ec2-user/uclresearchanalysis/data/nyc/pickle/networkx_all.dat',\n",
      "                       'friends': '/home/ec2-user/uclresearchanalysis/data/nyc/pickle/networkx_friends.dat',\n",
      "                       'potential': '/home/ec2-user/uclresearchanalysis/data/nyc/pickle/networkx_potential.dat'},\n",
      "          'pickle': {'followers': '/home/ec2-user/uclresearchanalysis/data/nyc/pickle/followers.dat',\n",
      "                     'followersneedcrawl': '/home/ec2-user/uclresearchanalysis/data/nyc/pickle/followersneedcrawl.dat',\n",
      "                     'friends': '/home/ec2-user/uclresearchanalysis/data/nyc/pickle/friends.dat',\n",
      "                     'needcrawl': '/home/ec2-user/uclresearchanalysis/data/nyc/pickle/needcrawl.dat',\n",
      "                     'network': '/home/ec2-user/uclresearchanalysis/data/nyc/pickle/network.dat',\n",
      "                     'tweets': '/home/ec2-user/uclresearchanalysis/data/nyc/pickle/tweets.dat',\n",
      "                     'users': '/home/ec2-user/uclresearchanalysis/data/nyc/pickle/users.dat'},\n",
      "          'result': '/home/ec2-user/uclresearchanalysis/data/nyc/result',\n",
      "          'twitter': '/home/ec2-user/uclresearchanalysis/data/nyc/twitter'},\n",
      " 'save_to_file': 'False',\n",
      " 'timeframe': '1440'}\n",
      "Reading config file from location: /home/ec2-user/uclresearchanalysis/configuration/db.properties\n"
     ]
    }
   ],
   "source": [
    "import builtins\n",
    "# builtins.uclresearch_topic = 'GIVENCHY'\n",
    "# builtins.uclresearch_topic = 'HAWKING'\n",
    "builtins.uclresearch_topic = 'NYC'\n",
    "# builtins.uclresearch_topic = 'FLORIDA'\n",
    "\n",
    "import os\n",
    "import json\n",
    "import warnings\n",
    "from tqdm import tqdm\n",
    "\n",
    "from configuration import config\n",
    "from configuration import db\n",
    "\n",
    "twitterDatabase = db.TwitterDatabase()"
   ]
  },
  {
   "cell_type": "code",
   "execution_count": 3,
   "metadata": {},
   "outputs": [
    {
     "name": "stdout",
     "output_type": "stream",
     "text": [
      "Loading data file from path /home/ec2-user/uclresearchanalysis/data/nyc/pickle/friends.dat\n",
      "'Loaded 62196 entires'\n"
     ]
    }
   ],
   "source": [
    "friends_dictionary = config.load_friends_dictionary()"
   ]
  },
  {
   "cell_type": "code",
   "execution_count": 4,
   "metadata": {},
   "outputs": [
    {
     "name": "stderr",
     "output_type": "stream",
     "text": [
      "100%|██████████| 62196/62196 [36:11<00:00, 28.64it/s]\n"
     ]
    }
   ],
   "source": [
    "twitterDatabase.connect()\n",
    "for key, value in tqdm(friends_dictionary.items()):\n",
    "    twitterDatabase.insertTwitterUserFriends(user_id=key, id_list=value)\n",
    "twitterDatabase.close()"
   ]
  }
 ],
 "metadata": {
  "kernelspec": {
   "display_name": "Python 3",
   "language": "python",
   "name": "python3"
  },
  "language_info": {
   "codemirror_mode": {
    "name": "ipython",
    "version": 3
   },
   "file_extension": ".py",
   "mimetype": "text/x-python",
   "name": "python",
   "nbconvert_exporter": "python",
   "pygments_lexer": "ipython3",
   "version": "3.6.6"
  }
 },
 "nbformat": 4,
 "nbformat_minor": 2
}
