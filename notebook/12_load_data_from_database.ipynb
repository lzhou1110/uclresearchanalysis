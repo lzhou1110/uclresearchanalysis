{
 "cells": [
  {
   "cell_type": "code",
   "execution_count": 1,
   "metadata": {},
   "outputs": [
    {
     "name": "stdout",
     "output_type": "stream",
     "text": [
      "/home/ec2-user/uclresearchanalysis\n"
     ]
    }
   ],
   "source": [
    "cd .."
   ]
  },
  {
   "cell_type": "code",
   "execution_count": 2,
   "metadata": {},
   "outputs": [
    {
     "name": "stdout",
     "output_type": "stream",
     "text": [
      "('Reading config file from location: '\n",
      " '/home/ec2-user/uclresearchanalysis/configuration/env.properties')\n",
      "{'calculate': {'analysis': True,\n",
      "               'network': True,\n",
      "               'uniquetweets': True,\n",
      "               'uniqueusers': True},\n",
      " 'data': {'dates': ['2018-02-13', '2018-02-14', '2018-02-15'],\n",
      "          'eventname': 'florida shooting',\n",
      "          'phrases': ['florida%20shooting',\n",
      "                      'florida%20massacre',\n",
      "                      'Stoneman%20Douglas%20High%20School%20shooting',\n",
      "                      'Stoneman%20Douglas%20High%20School%20massacre',\n",
      "                      'Parkland%20shooting',\n",
      "                      'Parkland%20massacre'],\n",
      "          'starttime': 'Feb 14 14:10:00 -0500 2018'},\n",
      " 'path': {'crawl': {'followers': '/home/ec2-user/uclresearchanalysis/followers',\n",
      "                    'friends': '/home/ec2-user/uclresearchanalysis/friends'},\n",
      "          'cwd': '/home/ec2-user/uclresearchanalysis/data/florida',\n",
      "          'ml': '/home/ec2-user/uclresearchanalysis/data/florida/pickle',\n",
      "          'networkx': {'all': '/home/ec2-user/uclresearchanalysis/data/florida/pickle/networkx_all.dat',\n",
      "                       'friends': '/home/ec2-user/uclresearchanalysis/data/florida/pickle/networkx_friends.dat',\n",
      "                       'potential': '/home/ec2-user/uclresearchanalysis/data/florida/pickle/networkx_potential.dat'},\n",
      "          'pickle': {'exposed_user_ids_selected': '/home/ec2-user/uclresearchanalysis/data/florida/pickle/exposed_user_ids_selected.dat',\n",
      "                     'followers': '/home/ec2-user/uclresearchanalysis/data/florida/pickle/followers.dat',\n",
      "                     'followersneedcrawl': '/home/ec2-user/uclresearchanalysis/data/florida/pickle/followersneedcrawl.dat',\n",
      "                     'friends': '/home/ec2-user/uclresearchanalysis/data/florida/pickle/friends.dat',\n",
      "                     'infected_user_ids': '/home/ec2-user/uclresearchanalysis/data/florida/pickle/infected_user_ids.dat',\n",
      "                     'needcrawl': '/home/ec2-user/uclresearchanalysis/data/florida/pickle/needcrawl.dat',\n",
      "                     'network': '/home/ec2-user/uclresearchanalysis/data/florida/pickle/network.dat',\n",
      "                     'tweets': '/home/ec2-user/uclresearchanalysis/data/florida/pickle/tweets.dat',\n",
      "                     'users': '/home/ec2-user/uclresearchanalysis/data/florida/pickle/users.dat'},\n",
      "          'result': '/home/ec2-user/uclresearchanalysis/data/florida/result',\n",
      "          'twitter': '/home/ec2-user/uclresearchanalysis/data/florida/twitter'},\n",
      " 'save_to_file': 'False',\n",
      " 'timeframe': '1440'}\n",
      "Initialted a total of 88 twitter api objects\n"
     ]
    }
   ],
   "source": [
    "# Adding project path\n",
    "import sys\n",
    "sys.path.append('/home/ec2-user/uclresearchanalysis/configuration')\n",
    "\n",
    "import builtins\n",
    "# builtins.uclresearch_topic = 'GIVENCHY'\n",
    "# builtins.uclresearch_topic = 'HAWKING'\n",
    "# builtins.uclresearch_topic = 'NYC'\n",
    "builtins.uclresearch_topic = 'FLORIDA'\n",
    "\n",
    "import os\n",
    "import json\n",
    "import math\n",
    "import random\n",
    "import warnings\n",
    "from tqdm import tqdm\n",
    "\n",
    "from configuration import data_access\n",
    "from configuration import config\n",
    "from configuration import db\n",
    "\n",
    "import pandas as pd\n",
    "import json\n",
    "\n",
    "twitterDatabase = db.TwitterDatabase()\n",
    "dataAccessManager = data_access.DataAccess()"
   ]
  },
  {
   "cell_type": "code",
   "execution_count": null,
   "metadata": {},
   "outputs": [
    {
     "name": "stdout",
     "output_type": "stream",
     "text": [
      "Loading data file from path /home/ec2-user/uclresearchanalysis/data/florida/pickle/tweets.dat\n",
      "'Loaded 857669 entires'\n",
      "Dumping data to path /home/ec2-user/uclresearchanalysis/data/florida/pickle/infected_user_ids.dat\n",
      "Finished dumping data to path /home/ec2-user/uclresearchanalysis/data/florida/pickle/infected_user_ids.dat\n",
      "2018-08-01 19:32:50.334475 - ogd44qNt9NHukPsUsnKmn1Wm3 - Started Thread\n",
      "2018-08-01 19:32:51.391166 - Imk26gt1YacAmZqsBvwXNNZp1 - Started Thread\n",
      "2018-08-01 19:32:52.392618 - Lqz4r2UGJ3MALpX7TygEWkdvu - Started Thread\n",
      "2018-08-01 19:32:53.394369 - QweR1meYNPziTVMQfnPBw7u7L - Started Thread\n",
      "2018-08-01 19:32:53.501398 - ogd44qNt9NHukPsUsnKmn1Wm3 - Database result obtained\n",
      "2018-08-01 19:32:53.506380 - ogd44qNt9NHukPsUsnKmn1Wm3 - 20 users not found, 4269 with no firends, 4686 with no followers\n",
      "2018-08-01 19:32:53.506444 - ogd44qNt9NHukPsUsnKmn1Wm3 - Crawl new users\n",
      "2018-08-01 19:32:53.727740 - Imk26gt1YacAmZqsBvwXNNZp1 - Database result obtained\n",
      "2018-08-01 19:32:53.732508 - Imk26gt1YacAmZqsBvwXNNZp1 - 22 users not found, 4193 with no firends, 4662 with no followers\n",
      "2018-08-01 19:32:53.732933 - Imk26gt1YacAmZqsBvwXNNZp1 - Crawl new users\n"
     ]
    },
    {
     "name": "stderr",
     "output_type": "stream",
     "text": [
      "Exception in thread Thread-4:\n",
      "Traceback (most recent call last):\n",
      "  File \"/home/ec2-user/miniconda3/lib/python3.6/threading.py\", line 916, in _bootstrap_inner\n",
      "    self.run()\n",
      "  File \"/home/ec2-user/uclresearchanalysis/configuration/data_access.py\", line 93, in run\n",
      "    crawlled_users = self._api.crawl_list_of_users(list(ids_not_found_portion))\n",
      "  File \"/home/ec2-user/uclresearchanalysis/configuration/crawl.py\", line 56, in crawl_list_of_users\n",
      "    return self._api.lookup_users(user_ids = twitter_user_id_list)\n",
      "  File \"/home/ec2-user/miniconda3/lib/python3.6/site-packages/tweepy/api.py\", line 322, in lookup_users\n",
      "    return self._lookup_users(post_data=post_data)\n",
      "  File \"/home/ec2-user/miniconda3/lib/python3.6/site-packages/tweepy/binder.py\", line 245, in _call\n",
      "    return method.execute()\n",
      "  File \"/home/ec2-user/miniconda3/lib/python3.6/site-packages/tweepy/binder.py\", line 229, in execute\n",
      "    raise TweepError(error_msg, resp, api_code=api_error_code)\n",
      "tweepy.error.TweepError: [{'code': 17, 'message': 'No user matches for specified terms.'}]\n",
      "\n"
     ]
    },
    {
     "name": "stdout",
     "output_type": "stream",
     "text": [
      "2018-08-01 19:32:54.060507 - Imk26gt1YacAmZqsBvwXNNZp1 - Finished crawlling users\n",
      "2018-08-01 19:32:54.060570 - Imk26gt1YacAmZqsBvwXNNZp1 - Start crawl friends\n",
      "Rate limit reached. Sleeping for: 439\n",
      "2018-08-01 19:32:54.396046 - FImHy1gMljimQMQxG6432rATE - Started Thread\n",
      "2018-08-01 19:32:55.131276 - Lqz4r2UGJ3MALpX7TygEWkdvu - Database result obtained\n",
      "2018-08-01 19:32:55.136198 - Lqz4r2UGJ3MALpX7TygEWkdvu - 22 users not found, 4188 with no firends, 4654 with no followers\n",
      "2018-08-01 19:32:55.136456 - Lqz4r2UGJ3MALpX7TygEWkdvu - Crawl new users\n",
      "2018-08-01 19:32:55.397403 - MP1ydHbs9wSPCvUO0HcJlBd1s - Started Thread\n",
      "2018-08-01 19:32:55.405136 - Lqz4r2UGJ3MALpX7TygEWkdvu - Finished crawlling users\n",
      "2018-08-01 19:32:55.405253 - Lqz4r2UGJ3MALpX7TygEWkdvu - Start crawl friends\n",
      "2018-08-01 19:32:56.398776 - cM2Ket4JdIrFCoFJfZR6dKEJW - Started Thread\n",
      "2018-08-01 19:32:56.737964 - QweR1meYNPziTVMQfnPBw7u7L - Database result obtained\n",
      "2018-08-01 19:32:56.742736 - QweR1meYNPziTVMQfnPBw7u7L - 22 users not found, 4198 with no firends, 4654 with no followers\n",
      "2018-08-01 19:32:56.743031 - QweR1meYNPziTVMQfnPBw7u7L - Crawl new users\n"
     ]
    },
    {
     "name": "stderr",
     "output_type": "stream",
     "text": [
      "Exception in thread Thread-7:\n",
      "Traceback (most recent call last):\n",
      "  File \"/home/ec2-user/miniconda3/lib/python3.6/threading.py\", line 916, in _bootstrap_inner\n",
      "    self.run()\n",
      "  File \"/home/ec2-user/uclresearchanalysis/configuration/data_access.py\", line 93, in run\n",
      "    crawlled_users = self._api.crawl_list_of_users(list(ids_not_found_portion))\n",
      "  File \"/home/ec2-user/uclresearchanalysis/configuration/crawl.py\", line 56, in crawl_list_of_users\n",
      "    return self._api.lookup_users(user_ids = twitter_user_id_list)\n",
      "  File \"/home/ec2-user/miniconda3/lib/python3.6/site-packages/tweepy/api.py\", line 322, in lookup_users\n",
      "    return self._lookup_users(post_data=post_data)\n",
      "  File \"/home/ec2-user/miniconda3/lib/python3.6/site-packages/tweepy/binder.py\", line 245, in _call\n",
      "    return method.execute()\n",
      "  File \"/home/ec2-user/miniconda3/lib/python3.6/site-packages/tweepy/binder.py\", line 229, in execute\n",
      "    raise TweepError(error_msg, resp, api_code=api_error_code)\n",
      "tweepy.error.TweepError: [{'code': 17, 'message': 'No user matches for specified terms.'}]\n",
      "\n"
     ]
    },
    {
     "name": "stdout",
     "output_type": "stream",
     "text": [
      "2018-08-01 19:32:57.400383 - pbFZlAThsyleV4IWazYaG6WH0 - Started Thread\n",
      "2018-08-01 19:32:58.079054 - FImHy1gMljimQMQxG6432rATE - Database result obtained\n",
      "2018-08-01 19:32:58.084173 - FImHy1gMljimQMQxG6432rATE - 17 users not found, 4261 with no firends, 4675 with no followers\n",
      "2018-08-01 19:32:58.084680 - FImHy1gMljimQMQxG6432rATE - Crawl new users\n",
      "2018-08-01 19:32:58.405011 - CeIvDs3UbPO4Yj4XK6ZFHzVIU - Started Thread\n",
      "2018-08-01 19:32:58.599482 - MP1ydHbs9wSPCvUO0HcJlBd1s - Database result obtained\n",
      "2018-08-01 19:32:58.604654 - MP1ydHbs9wSPCvUO0HcJlBd1s - 21 users not found, 4210 with no firends, 4630 with no followers\n",
      "2018-08-01 19:32:58.604726 - MP1ydHbs9wSPCvUO0HcJlBd1s - Crawl new users\n"
     ]
    },
    {
     "name": "stderr",
     "output_type": "stream",
     "text": [
      "Exception in thread Thread-8:\n",
      "Traceback (most recent call last):\n",
      "  File \"/home/ec2-user/miniconda3/lib/python3.6/threading.py\", line 916, in _bootstrap_inner\n",
      "    self.run()\n",
      "  File \"/home/ec2-user/uclresearchanalysis/configuration/data_access.py\", line 93, in run\n",
      "    crawlled_users = self._api.crawl_list_of_users(list(ids_not_found_portion))\n",
      "  File \"/home/ec2-user/uclresearchanalysis/configuration/crawl.py\", line 56, in crawl_list_of_users\n",
      "    return self._api.lookup_users(user_ids = twitter_user_id_list)\n",
      "  File \"/home/ec2-user/miniconda3/lib/python3.6/site-packages/tweepy/api.py\", line 322, in lookup_users\n",
      "    return self._lookup_users(post_data=post_data)\n",
      "  File \"/home/ec2-user/miniconda3/lib/python3.6/site-packages/tweepy/binder.py\", line 245, in _call\n",
      "    return method.execute()\n",
      "  File \"/home/ec2-user/miniconda3/lib/python3.6/site-packages/tweepy/binder.py\", line 229, in execute\n",
      "    raise TweepError(error_msg, resp, api_code=api_error_code)\n",
      "tweepy.error.TweepError: [{'code': 17, 'message': 'No user matches for specified terms.'}]\n",
      "\n"
     ]
    },
    {
     "name": "stdout",
     "output_type": "stream",
     "text": [
      "2018-08-01 19:32:58.921502 - MP1ydHbs9wSPCvUO0HcJlBd1s - Finished crawlling users\n",
      "2018-08-01 19:32:58.921633 - MP1ydHbs9wSPCvUO0HcJlBd1s - Start crawl friends\n",
      "2018-08-01 19:32:59.160935 - cM2Ket4JdIrFCoFJfZR6dKEJW - Database result obtained\n",
      "2018-08-01 19:32:59.166028 - cM2Ket4JdIrFCoFJfZR6dKEJW - 26 users not found, 4235 with no firends, 4635 with no followers\n",
      "2018-08-01 19:32:59.166252 - cM2Ket4JdIrFCoFJfZR6dKEJW - Crawl new users\n",
      "2018-08-01 19:32:59.406476 - AdCVM7NUpICq9RcYnZiM68FLb - Started Thread\n"
     ]
    },
    {
     "name": "stderr",
     "output_type": "stream",
     "text": [
      "Exception in thread Thread-10:\n",
      "Traceback (most recent call last):\n",
      "  File \"/home/ec2-user/miniconda3/lib/python3.6/threading.py\", line 916, in _bootstrap_inner\n",
      "    self.run()\n",
      "  File \"/home/ec2-user/uclresearchanalysis/configuration/data_access.py\", line 93, in run\n",
      "    crawlled_users = self._api.crawl_list_of_users(list(ids_not_found_portion))\n",
      "  File \"/home/ec2-user/uclresearchanalysis/configuration/crawl.py\", line 56, in crawl_list_of_users\n",
      "    return self._api.lookup_users(user_ids = twitter_user_id_list)\n",
      "  File \"/home/ec2-user/miniconda3/lib/python3.6/site-packages/tweepy/api.py\", line 322, in lookup_users\n",
      "    return self._lookup_users(post_data=post_data)\n",
      "  File \"/home/ec2-user/miniconda3/lib/python3.6/site-packages/tweepy/binder.py\", line 245, in _call\n",
      "    return method.execute()\n",
      "  File \"/home/ec2-user/miniconda3/lib/python3.6/site-packages/tweepy/binder.py\", line 229, in execute\n",
      "    raise TweepError(error_msg, resp, api_code=api_error_code)\n",
      "tweepy.error.TweepError: [{'code': 17, 'message': 'No user matches for specified terms.'}]\n",
      "\n"
     ]
    },
    {
     "name": "stdout",
     "output_type": "stream",
     "text": [
      "Rate limit reached. Sleeping for: 896\n",
      "2018-08-01 19:33:00.407897 - yom0HoCImxDZobnZzDrJsESke - Started Thread\n",
      "2018-08-01 19:33:01.409576 - 6hDKNKAEVflvc1QiKWRwEvqIU - Started Thread\n",
      "2018-08-01 19:33:02.060275 - pbFZlAThsyleV4IWazYaG6WH0 - Database result obtained\n",
      "2018-08-01 19:33:02.065817 - pbFZlAThsyleV4IWazYaG6WH0 - 21 users not found, 4209 with no firends, 4634 with no followers\n",
      "2018-08-01 19:33:02.066989 - pbFZlAThsyleV4IWazYaG6WH0 - Crawl new users\n",
      "2018-08-01 19:33:02.343042 - AdCVM7NUpICq9RcYnZiM68FLb - Database result obtained\n",
      "2018-08-01 19:33:02.348586 - AdCVM7NUpICq9RcYnZiM68FLb - 31 users not found, 4225 with no firends, 4646 with no followers\n",
      "2018-08-01 19:33:02.348793 - AdCVM7NUpICq9RcYnZiM68FLb - Crawl new users\n",
      "2018-08-01 19:33:02.411275 - AFRdbq1jpYv5uHzc2XXilJBMY - Started Thread\n"
     ]
    },
    {
     "name": "stderr",
     "output_type": "stream",
     "text": [
      "Exception in thread Thread-11:\n",
      "Traceback (most recent call last):\n",
      "  File \"/home/ec2-user/miniconda3/lib/python3.6/threading.py\", line 916, in _bootstrap_inner\n",
      "    self.run()\n",
      "  File \"/home/ec2-user/uclresearchanalysis/configuration/data_access.py\", line 93, in run\n",
      "    crawlled_users = self._api.crawl_list_of_users(list(ids_not_found_portion))\n",
      "  File \"/home/ec2-user/uclresearchanalysis/configuration/crawl.py\", line 56, in crawl_list_of_users\n",
      "    return self._api.lookup_users(user_ids = twitter_user_id_list)\n",
      "  File \"/home/ec2-user/miniconda3/lib/python3.6/site-packages/tweepy/api.py\", line 322, in lookup_users\n",
      "    return self._lookup_users(post_data=post_data)\n",
      "  File \"/home/ec2-user/miniconda3/lib/python3.6/site-packages/tweepy/binder.py\", line 245, in _call\n",
      "    return method.execute()\n",
      "  File \"/home/ec2-user/miniconda3/lib/python3.6/site-packages/tweepy/binder.py\", line 229, in execute\n",
      "    raise TweepError(error_msg, resp, api_code=api_error_code)\n",
      "tweepy.error.TweepError: [{'code': 17, 'message': 'No user matches for specified terms.'}]\n",
      "\n",
      "Exception in thread Thread-13:\n",
      "Traceback (most recent call last):\n",
      "  File \"/home/ec2-user/miniconda3/lib/python3.6/threading.py\", line 916, in _bootstrap_inner\n",
      "    self.run()\n",
      "  File \"/home/ec2-user/uclresearchanalysis/configuration/data_access.py\", line 93, in run\n",
      "    crawlled_users = self._api.crawl_list_of_users(list(ids_not_found_portion))\n",
      "  File \"/home/ec2-user/uclresearchanalysis/configuration/crawl.py\", line 56, in crawl_list_of_users\n",
      "    return self._api.lookup_users(user_ids = twitter_user_id_list)\n",
      "  File \"/home/ec2-user/miniconda3/lib/python3.6/site-packages/tweepy/api.py\", line 322, in lookup_users\n",
      "    return self._lookup_users(post_data=post_data)\n",
      "  File \"/home/ec2-user/miniconda3/lib/python3.6/site-packages/tweepy/binder.py\", line 245, in _call\n",
      "    return method.execute()\n",
      "  File \"/home/ec2-user/miniconda3/lib/python3.6/site-packages/tweepy/binder.py\", line 229, in execute\n",
      "    raise TweepError(error_msg, resp, api_code=api_error_code)\n",
      "tweepy.error.TweepError: [{'code': 17, 'message': 'No user matches for specified terms.'}]\n",
      "\n"
     ]
    },
    {
     "name": "stdout",
     "output_type": "stream",
     "text": [
      "2018-08-01 19:33:03.336132 - CeIvDs3UbPO4Yj4XK6ZFHzVIU - Database result obtained\n",
      "2018-08-01 19:33:03.341624 - CeIvDs3UbPO4Yj4XK6ZFHzVIU - 21 users not found, 4197 with no firends, 4610 with no followers\n",
      "2018-08-01 19:33:03.341697 - CeIvDs3UbPO4Yj4XK6ZFHzVIU - Crawl new users\n",
      "2018-08-01 19:33:03.414596 - FlmshcUW970JhOuWCrffznTzM - Started Thread\n",
      "Rate limit reached. Sleeping for: 896\n",
      "2018-08-01 19:33:03.813022 - CeIvDs3UbPO4Yj4XK6ZFHzVIU - Finished crawlling users\n",
      "2018-08-01 19:33:03.813089 - CeIvDs3UbPO4Yj4XK6ZFHzVIU - Start crawl friends\n",
      "2018-08-01 19:33:04.164589 - yom0HoCImxDZobnZzDrJsESke - Database result obtained\n",
      "2018-08-01 19:33:04.170139 - yom0HoCImxDZobnZzDrJsESke - 22 users not found, 4237 with no firends, 4654 with no followers\n",
      "2018-08-01 19:33:04.170203 - yom0HoCImxDZobnZzDrJsESke - Crawl new users\n",
      "2018-08-01 19:33:04.416953 - 45mvtiqyyq5B1cXi6kPJHq2TO - Started Thread\n",
      "2018-08-01 19:33:04.480498 - yom0HoCImxDZobnZzDrJsESke - Finished crawlling users\n",
      "2018-08-01 19:33:04.480547 - yom0HoCImxDZobnZzDrJsESke - Start crawl friends\n",
      "Rate limit reached. Sleeping for: 527\n",
      "2018-08-01 19:33:04.845018 - 6hDKNKAEVflvc1QiKWRwEvqIU - Database result obtained\n",
      "2018-08-01 19:33:04.851016 - 6hDKNKAEVflvc1QiKWRwEvqIU - 21 users not found, 4259 with no firends, 4677 with no followers\n",
      "2018-08-01 19:33:04.852161 - 6hDKNKAEVflvc1QiKWRwEvqIU - Crawl new users\n"
     ]
    },
    {
     "name": "stderr",
     "output_type": "stream",
     "text": [
      "Exception in thread Thread-15:\n",
      "Traceback (most recent call last):\n",
      "  File \"/home/ec2-user/miniconda3/lib/python3.6/threading.py\", line 916, in _bootstrap_inner\n",
      "    self.run()\n",
      "  File \"/home/ec2-user/uclresearchanalysis/configuration/data_access.py\", line 93, in run\n",
      "    crawlled_users = self._api.crawl_list_of_users(list(ids_not_found_portion))\n",
      "  File \"/home/ec2-user/uclresearchanalysis/configuration/crawl.py\", line 56, in crawl_list_of_users\n",
      "    return self._api.lookup_users(user_ids = twitter_user_id_list)\n",
      "  File \"/home/ec2-user/miniconda3/lib/python3.6/site-packages/tweepy/api.py\", line 322, in lookup_users\n",
      "    return self._lookup_users(post_data=post_data)\n",
      "  File \"/home/ec2-user/miniconda3/lib/python3.6/site-packages/tweepy/binder.py\", line 245, in _call\n",
      "    return method.execute()\n",
      "  File \"/home/ec2-user/miniconda3/lib/python3.6/site-packages/tweepy/binder.py\", line 229, in execute\n",
      "    raise TweepError(error_msg, resp, api_code=api_error_code)\n",
      "tweepy.error.TweepError: [{'code': 17, 'message': 'No user matches for specified terms.'}]\n",
      "\n"
     ]
    },
    {
     "name": "stdout",
     "output_type": "stream",
     "text": [
      "2018-08-01 19:33:05.418330 - 75xtkzO360GjmMgLhaSZ1zH0u - Started Thread\n",
      "2018-08-01 19:33:05.842038 - AFRdbq1jpYv5uHzc2XXilJBMY - Database result obtained\n",
      "2018-08-01 19:33:05.847216 - AFRdbq1jpYv5uHzc2XXilJBMY - 14 users not found, 4245 with no firends, 4647 with no followers\n",
      "2018-08-01 19:33:05.847436 - AFRdbq1jpYv5uHzc2XXilJBMY - Crawl new users\n",
      "2018-08-01 19:33:06.220523 - AFRdbq1jpYv5uHzc2XXilJBMY - Finished crawlling users\n",
      "2018-08-01 19:33:06.220594 - AFRdbq1jpYv5uHzc2XXilJBMY - Start crawl friends\n",
      "2018-08-01 19:33:06.420078 - T5cDUb70emiXsUqIInL9cDo8v - Started Thread\n",
      "[key:CeIvDs3UbPO4Yj4XK6ZFHzVIU]:TweepError - [{'code': 34, 'message': 'Sorry, that page does not exist.'}]\n",
      "[key:CeIvDs3UbPO4Yj4XK6ZFHzVIU]:TweepError - Not authorized.\n",
      "2018-08-01 19:33:07.005407 - FlmshcUW970JhOuWCrffznTzM - Database result obtained\n",
      "2018-08-01 19:33:07.011030 - FlmshcUW970JhOuWCrffznTzM - 39 users not found, 4255 with no firends, 4683 with no followers\n",
      "2018-08-01 19:33:07.011789 - FlmshcUW970JhOuWCrffznTzM - Crawl new users\n",
      "2018-08-01 19:33:07.194004 - 45mvtiqyyq5B1cXi6kPJHq2TO - Database result obtained\n",
      "2018-08-01 19:33:07.199315 - 45mvtiqyyq5B1cXi6kPJHq2TO - 29 users not found, 4209 with no firends, 4633 with no followers\n",
      "2018-08-01 19:33:07.199371 - 45mvtiqyyq5B1cXi6kPJHq2TO - Crawl new users\n",
      "[key:CeIvDs3UbPO4Yj4XK6ZFHzVIU]:TweepError - [{'code': 34, 'message': 'Sorry, that page does not exist.'}]\n"
     ]
    },
    {
     "name": "stderr",
     "output_type": "stream",
     "text": [
      "Exception in thread Thread-17:\n",
      "Traceback (most recent call last):\n",
      "  File \"/home/ec2-user/miniconda3/lib/python3.6/threading.py\", line 916, in _bootstrap_inner\n",
      "    self.run()\n",
      "  File \"/home/ec2-user/uclresearchanalysis/configuration/data_access.py\", line 93, in run\n",
      "    crawlled_users = self._api.crawl_list_of_users(list(ids_not_found_portion))\n",
      "  File \"/home/ec2-user/uclresearchanalysis/configuration/crawl.py\", line 56, in crawl_list_of_users\n",
      "    return self._api.lookup_users(user_ids = twitter_user_id_list)\n",
      "  File \"/home/ec2-user/miniconda3/lib/python3.6/site-packages/tweepy/api.py\", line 322, in lookup_users\n",
      "    return self._lookup_users(post_data=post_data)\n",
      "  File \"/home/ec2-user/miniconda3/lib/python3.6/site-packages/tweepy/binder.py\", line 245, in _call\n",
      "    return method.execute()\n",
      "  File \"/home/ec2-user/miniconda3/lib/python3.6/site-packages/tweepy/binder.py\", line 229, in execute\n",
      "    raise TweepError(error_msg, resp, api_code=api_error_code)\n",
      "tweepy.error.TweepError: [{'code': 17, 'message': 'No user matches for specified terms.'}]\n",
      "\n",
      "Exception in thread Thread-18:\n",
      "Traceback (most recent call last):\n",
      "  File \"/home/ec2-user/miniconda3/lib/python3.6/threading.py\", line 916, in _bootstrap_inner\n",
      "    self.run()\n",
      "  File \"/home/ec2-user/uclresearchanalysis/configuration/data_access.py\", line 93, in run\n",
      "    crawlled_users = self._api.crawl_list_of_users(list(ids_not_found_portion))\n",
      "  File \"/home/ec2-user/uclresearchanalysis/configuration/crawl.py\", line 56, in crawl_list_of_users\n",
      "    return self._api.lookup_users(user_ids = twitter_user_id_list)\n",
      "  File \"/home/ec2-user/miniconda3/lib/python3.6/site-packages/tweepy/api.py\", line 322, in lookup_users\n",
      "    return self._lookup_users(post_data=post_data)\n",
      "  File \"/home/ec2-user/miniconda3/lib/python3.6/site-packages/tweepy/binder.py\", line 245, in _call\n",
      "    return method.execute()\n",
      "  File \"/home/ec2-user/miniconda3/lib/python3.6/site-packages/tweepy/binder.py\", line 229, in execute\n",
      "    raise TweepError(error_msg, resp, api_code=api_error_code)\n",
      "tweepy.error.TweepError: [{'code': 17, 'message': 'No user matches for specified terms.'}]\n",
      "\n"
     ]
    },
    {
     "name": "stdout",
     "output_type": "stream",
     "text": [
      "2018-08-01 19:33:07.421794 - YZD91p9NpWydELrliHkx3FkV2 - Started Thread\n",
      "Rate limit reached. Sleeping for: 895\n",
      "2018-08-01 19:33:08.258216 - 75xtkzO360GjmMgLhaSZ1zH0u - Database result obtained\n",
      "2018-08-01 19:33:08.263289 - 75xtkzO360GjmMgLhaSZ1zH0u - 22 users not found, 4205 with no firends, 4650 with no followers\n",
      "2018-08-01 19:33:08.263444 - 75xtkzO360GjmMgLhaSZ1zH0u - Crawl new users\n",
      "2018-08-01 19:33:08.423422 - nosxuZXtOzwHvaUUWHPoZKMev - Started Thread\n"
     ]
    },
    {
     "name": "stderr",
     "output_type": "stream",
     "text": [
      "Exception in thread Thread-19:\n",
      "Traceback (most recent call last):\n",
      "  File \"/home/ec2-user/miniconda3/lib/python3.6/threading.py\", line 916, in _bootstrap_inner\n",
      "    self.run()\n",
      "  File \"/home/ec2-user/uclresearchanalysis/configuration/data_access.py\", line 93, in run\n",
      "    crawlled_users = self._api.crawl_list_of_users(list(ids_not_found_portion))\n",
      "  File \"/home/ec2-user/uclresearchanalysis/configuration/crawl.py\", line 56, in crawl_list_of_users\n",
      "    return self._api.lookup_users(user_ids = twitter_user_id_list)\n",
      "  File \"/home/ec2-user/miniconda3/lib/python3.6/site-packages/tweepy/api.py\", line 322, in lookup_users\n",
      "    return self._lookup_users(post_data=post_data)\n",
      "  File \"/home/ec2-user/miniconda3/lib/python3.6/site-packages/tweepy/binder.py\", line 245, in _call\n",
      "    return method.execute()\n",
      "  File \"/home/ec2-user/miniconda3/lib/python3.6/site-packages/tweepy/binder.py\", line 229, in execute\n",
      "    raise TweepError(error_msg, resp, api_code=api_error_code)\n",
      "tweepy.error.TweepError: [{'code': 17, 'message': 'No user matches for specified terms.'}]\n",
      "\n"
     ]
    },
    {
     "name": "stdout",
     "output_type": "stream",
     "text": [
      "2018-08-01 19:33:09.425181 - im3rIGitnUWeJbQVdE2maUI4L - Started Thread\n",
      "2018-08-01 19:33:09.645025 - T5cDUb70emiXsUqIInL9cDo8v - Database result obtained\n",
      "2018-08-01 19:33:09.650668 - T5cDUb70emiXsUqIInL9cDo8v - 25 users not found, 4248 with no firends, 4689 with no followers\n",
      "2018-08-01 19:33:09.650861 - T5cDUb70emiXsUqIInL9cDo8v - Crawl new users\n"
     ]
    },
    {
     "name": "stderr",
     "output_type": "stream",
     "text": [
      "Exception in thread Thread-20:\n",
      "Traceback (most recent call last):\n",
      "  File \"/home/ec2-user/miniconda3/lib/python3.6/threading.py\", line 916, in _bootstrap_inner\n",
      "    self.run()\n",
      "  File \"/home/ec2-user/uclresearchanalysis/configuration/data_access.py\", line 93, in run\n",
      "    crawlled_users = self._api.crawl_list_of_users(list(ids_not_found_portion))\n",
      "  File \"/home/ec2-user/uclresearchanalysis/configuration/crawl.py\", line 56, in crawl_list_of_users\n",
      "    return self._api.lookup_users(user_ids = twitter_user_id_list)\n",
      "  File \"/home/ec2-user/miniconda3/lib/python3.6/site-packages/tweepy/api.py\", line 322, in lookup_users\n",
      "    return self._lookup_users(post_data=post_data)\n",
      "  File \"/home/ec2-user/miniconda3/lib/python3.6/site-packages/tweepy/binder.py\", line 245, in _call\n",
      "    return method.execute()\n",
      "  File \"/home/ec2-user/miniconda3/lib/python3.6/site-packages/tweepy/binder.py\", line 229, in execute\n",
      "    raise TweepError(error_msg, resp, api_code=api_error_code)\n",
      "tweepy.error.TweepError: [{'code': 17, 'message': 'No user matches for specified terms.'}]\n",
      "\n"
     ]
    },
    {
     "name": "stdout",
     "output_type": "stream",
     "text": [
      "2018-08-01 19:33:10.426668 - 2UeHDIBHXqsA6MHkZg9bv6q3r - Started Thread\n",
      "Rate limit reached. Sleeping for: 896\n",
      "2018-08-01 19:33:10.849624 - YZD91p9NpWydELrliHkx3FkV2 - Database result obtained\n",
      "2018-08-01 19:33:10.855466 - YZD91p9NpWydELrliHkx3FkV2 - 21 users not found, 4263 with no firends, 4691 with no followers\n",
      "2018-08-01 19:33:10.855677 - YZD91p9NpWydELrliHkx3FkV2 - Crawl new users\n"
     ]
    },
    {
     "name": "stderr",
     "output_type": "stream",
     "text": [
      "Exception in thread Thread-21:\n",
      "Traceback (most recent call last):\n",
      "  File \"/home/ec2-user/miniconda3/lib/python3.6/threading.py\", line 916, in _bootstrap_inner\n",
      "    self.run()\n",
      "  File \"/home/ec2-user/uclresearchanalysis/configuration/data_access.py\", line 93, in run\n",
      "    crawlled_users = self._api.crawl_list_of_users(list(ids_not_found_portion))\n",
      "  File \"/home/ec2-user/uclresearchanalysis/configuration/crawl.py\", line 56, in crawl_list_of_users\n",
      "    return self._api.lookup_users(user_ids = twitter_user_id_list)\n",
      "  File \"/home/ec2-user/miniconda3/lib/python3.6/site-packages/tweepy/api.py\", line 322, in lookup_users\n",
      "    return self._lookup_users(post_data=post_data)\n",
      "  File \"/home/ec2-user/miniconda3/lib/python3.6/site-packages/tweepy/binder.py\", line 245, in _call\n",
      "    return method.execute()\n",
      "  File \"/home/ec2-user/miniconda3/lib/python3.6/site-packages/tweepy/binder.py\", line 229, in execute\n",
      "    raise TweepError(error_msg, resp, api_code=api_error_code)\n",
      "tweepy.error.TweepError: [{'code': 17, 'message': 'No user matches for specified terms.'}]\n",
      "\n"
     ]
    },
    {
     "name": "stdout",
     "output_type": "stream",
     "text": [
      "2018-08-01 19:33:11.428082 - 3PMDUIpLYVrHidOcExgc5NZXs - Started Thread\n",
      "2018-08-01 19:33:12.196396 - nosxuZXtOzwHvaUUWHPoZKMev - Database result obtained\n",
      "2018-08-01 19:33:12.202244 - nosxuZXtOzwHvaUUWHPoZKMev - 13 users not found, 4222 with no firends, 4673 with no followers\n",
      "2018-08-01 19:33:12.202701 - nosxuZXtOzwHvaUUWHPoZKMev - Crawl new users\n",
      "2018-08-01 19:33:12.429829 - kGQHviSlqxD95oVgsvZLPfiHF - Started Thread\n",
      "2018-08-01 19:33:12.560642 - nosxuZXtOzwHvaUUWHPoZKMev - Finished crawlling users\n",
      "2018-08-01 19:33:12.560714 - nosxuZXtOzwHvaUUWHPoZKMev - Start crawl friends\n",
      "2018-08-01 19:33:13.408621 - im3rIGitnUWeJbQVdE2maUI4L - Database result obtained\n",
      "2018-08-01 19:33:13.414106 - im3rIGitnUWeJbQVdE2maUI4L - 16 users not found, 4235 with no firends, 4654 with no followers\n",
      "2018-08-01 19:33:13.414921 - im3rIGitnUWeJbQVdE2maUI4L - Crawl new users\n",
      "2018-08-01 19:33:13.431518 - gKTaQEqo6WvZK19JElvuNSFew - Started Thread\n",
      "2018-08-01 19:33:13.707839 - im3rIGitnUWeJbQVdE2maUI4L - Finished crawlling users\n",
      "2018-08-01 19:33:13.707910 - im3rIGitnUWeJbQVdE2maUI4L - Start crawl friends\n",
      "2018-08-01 19:33:14.087135 - 2UeHDIBHXqsA6MHkZg9bv6q3r - Database result obtained\n",
      "2018-08-01 19:33:14.092386 - 2UeHDIBHXqsA6MHkZg9bv6q3r - 26 users not found, 4288 with no firends, 4693 with no followers\n",
      "2018-08-01 19:33:14.092479 - 2UeHDIBHXqsA6MHkZg9bv6q3r - Crawl new users\n",
      "[key:im3rIGitnUWeJbQVdE2maUI4L]:TweepError - Not authorized.\n"
     ]
    },
    {
     "name": "stderr",
     "output_type": "stream",
     "text": [
      "Exception in thread Thread-24:\n",
      "Traceback (most recent call last):\n",
      "  File \"/home/ec2-user/miniconda3/lib/python3.6/threading.py\", line 916, in _bootstrap_inner\n",
      "    self.run()\n",
      "  File \"/home/ec2-user/uclresearchanalysis/configuration/data_access.py\", line 93, in run\n",
      "    crawlled_users = self._api.crawl_list_of_users(list(ids_not_found_portion))\n",
      "  File \"/home/ec2-user/uclresearchanalysis/configuration/crawl.py\", line 56, in crawl_list_of_users\n",
      "    return self._api.lookup_users(user_ids = twitter_user_id_list)\n",
      "  File \"/home/ec2-user/miniconda3/lib/python3.6/site-packages/tweepy/api.py\", line 322, in lookup_users\n",
      "    return self._lookup_users(post_data=post_data)\n",
      "  File \"/home/ec2-user/miniconda3/lib/python3.6/site-packages/tweepy/binder.py\", line 245, in _call\n",
      "    return method.execute()\n",
      "  File \"/home/ec2-user/miniconda3/lib/python3.6/site-packages/tweepy/binder.py\", line 229, in execute\n",
      "    raise TweepError(error_msg, resp, api_code=api_error_code)\n",
      "tweepy.error.TweepError: [{'code': 17, 'message': 'No user matches for specified terms.'}]\n",
      "\n"
     ]
    },
    {
     "name": "stdout",
     "output_type": "stream",
     "text": [
      "2018-08-01 19:33:14.433109 - 9DfA8aOJxu3R6PqEpyZXm8amn - Started Thread\n",
      "2018-08-01 19:33:14.456415 - 3PMDUIpLYVrHidOcExgc5NZXs - Database result obtained\n",
      "2018-08-01 19:33:14.462544 - 3PMDUIpLYVrHidOcExgc5NZXs - 17 users not found, 4245 with no firends, 4676 with no followers\n",
      "2018-08-01 19:33:14.462590 - 3PMDUIpLYVrHidOcExgc5NZXs - Crawl new users\n",
      "2018-08-01 19:33:14.772029 - 3PMDUIpLYVrHidOcExgc5NZXs - Finished crawlling users\n",
      "2018-08-01 19:33:14.772395 - 3PMDUIpLYVrHidOcExgc5NZXs - Start crawl friends\n",
      "2018-08-01 19:33:15.436063 - VE7FCjeGxVmzDQBELpuyVicST - Started Thread\n",
      "2018-08-01 19:33:15.826928 - kGQHviSlqxD95oVgsvZLPfiHF - Database result obtained\n",
      "2018-08-01 19:33:15.832479 - kGQHviSlqxD95oVgsvZLPfiHF - 22 users not found, 4213 with no firends, 4632 with no followers\n",
      "2018-08-01 19:33:15.833140 - kGQHviSlqxD95oVgsvZLPfiHF - Crawl new users\n"
     ]
    },
    {
     "name": "stderr",
     "output_type": "stream",
     "text": [
      "Exception in thread Thread-26:\n",
      "Traceback (most recent call last):\n",
      "  File \"/home/ec2-user/miniconda3/lib/python3.6/threading.py\", line 916, in _bootstrap_inner\n",
      "    self.run()\n",
      "  File \"/home/ec2-user/uclresearchanalysis/configuration/data_access.py\", line 93, in run\n",
      "    crawlled_users = self._api.crawl_list_of_users(list(ids_not_found_portion))\n",
      "  File \"/home/ec2-user/uclresearchanalysis/configuration/crawl.py\", line 56, in crawl_list_of_users\n",
      "    return self._api.lookup_users(user_ids = twitter_user_id_list)\n",
      "  File \"/home/ec2-user/miniconda3/lib/python3.6/site-packages/tweepy/api.py\", line 322, in lookup_users\n",
      "    return self._lookup_users(post_data=post_data)\n",
      "  File \"/home/ec2-user/miniconda3/lib/python3.6/site-packages/tweepy/binder.py\", line 245, in _call\n",
      "    return method.execute()\n",
      "  File \"/home/ec2-user/miniconda3/lib/python3.6/site-packages/tweepy/binder.py\", line 229, in execute\n",
      "    raise TweepError(error_msg, resp, api_code=api_error_code)\n",
      "tweepy.error.TweepError: [{'code': 17, 'message': 'No user matches for specified terms.'}]\n",
      "\n"
     ]
    },
    {
     "name": "stdout",
     "output_type": "stream",
     "text": [
      "[key:3PMDUIpLYVrHidOcExgc5NZXs]:TweepError - Not authorized.\n",
      "2018-08-01 19:33:16.437497 - lpy3svkWoZH0qKjvWZmFfhlAa - Started Thread\n",
      "Rate limit reached. Sleeping for: 895\n",
      "2018-08-01 19:33:17.438756 - U0GlvoHrYG2EGnLVGmfMGcQnT - Started Thread\n",
      "2018-08-01 19:33:17.641916 - gKTaQEqo6WvZK19JElvuNSFew - Database result obtained\n",
      "2018-08-01 19:33:17.646955 - gKTaQEqo6WvZK19JElvuNSFew - 21 users not found, 4171 with no firends, 4609 with no followers\n",
      "2018-08-01 19:33:17.647005 - gKTaQEqo6WvZK19JElvuNSFew - Crawl new users\n",
      "[key:im3rIGitnUWeJbQVdE2maUI4L]:TweepError - Not authorized.\n",
      "Rate limit reached. Sleeping for: 896\n"
     ]
    },
    {
     "name": "stderr",
     "output_type": "stream",
     "text": [
      "Exception in thread Thread-27:\n",
      "Traceback (most recent call last):\n",
      "  File \"/home/ec2-user/miniconda3/lib/python3.6/threading.py\", line 916, in _bootstrap_inner\n",
      "    self.run()\n",
      "  File \"/home/ec2-user/uclresearchanalysis/configuration/data_access.py\", line 93, in run\n",
      "    crawlled_users = self._api.crawl_list_of_users(list(ids_not_found_portion))\n",
      "  File \"/home/ec2-user/uclresearchanalysis/configuration/crawl.py\", line 56, in crawl_list_of_users\n",
      "    return self._api.lookup_users(user_ids = twitter_user_id_list)\n",
      "  File \"/home/ec2-user/miniconda3/lib/python3.6/site-packages/tweepy/api.py\", line 322, in lookup_users\n",
      "    return self._lookup_users(post_data=post_data)\n",
      "  File \"/home/ec2-user/miniconda3/lib/python3.6/site-packages/tweepy/binder.py\", line 245, in _call\n",
      "    return method.execute()\n",
      "  File \"/home/ec2-user/miniconda3/lib/python3.6/site-packages/tweepy/binder.py\", line 229, in execute\n",
      "    raise TweepError(error_msg, resp, api_code=api_error_code)\n",
      "tweepy.error.TweepError: [{'code': 17, 'message': 'No user matches for specified terms.'}]\n",
      "\n"
     ]
    },
    {
     "name": "stdout",
     "output_type": "stream",
     "text": [
      "2018-08-01 19:33:18.440570 - VyUCSd5rEEBo4d47BgJGyzw9x - Started Thread\n",
      "2018-08-01 19:33:18.497077 - VE7FCjeGxVmzDQBELpuyVicST - Database result obtained\n",
      "2018-08-01 19:33:18.503043 - VE7FCjeGxVmzDQBELpuyVicST - 25 users not found, 4226 with no firends, 4659 with no followers\n",
      "2018-08-01 19:33:18.503572 - VE7FCjeGxVmzDQBELpuyVicST - Crawl new users\n"
     ]
    },
    {
     "name": "stderr",
     "output_type": "stream",
     "text": [
      "Exception in thread Thread-29:\n",
      "Traceback (most recent call last):\n",
      "  File \"/home/ec2-user/miniconda3/lib/python3.6/threading.py\", line 916, in _bootstrap_inner\n",
      "    self.run()\n",
      "  File \"/home/ec2-user/uclresearchanalysis/configuration/data_access.py\", line 93, in run\n",
      "    crawlled_users = self._api.crawl_list_of_users(list(ids_not_found_portion))\n",
      "  File \"/home/ec2-user/uclresearchanalysis/configuration/crawl.py\", line 56, in crawl_list_of_users\n",
      "    return self._api.lookup_users(user_ids = twitter_user_id_list)\n",
      "  File \"/home/ec2-user/miniconda3/lib/python3.6/site-packages/tweepy/api.py\", line 322, in lookup_users\n",
      "    return self._lookup_users(post_data=post_data)\n",
      "  File \"/home/ec2-user/miniconda3/lib/python3.6/site-packages/tweepy/binder.py\", line 245, in _call\n",
      "    return method.execute()\n",
      "  File \"/home/ec2-user/miniconda3/lib/python3.6/site-packages/tweepy/binder.py\", line 229, in execute\n",
      "    raise TweepError(error_msg, resp, api_code=api_error_code)\n",
      "tweepy.error.TweepError: [{'code': 17, 'message': 'No user matches for specified terms.'}]\n",
      "\n"
     ]
    },
    {
     "name": "stdout",
     "output_type": "stream",
     "text": [
      "2018-08-01 19:33:19.125495 - 9DfA8aOJxu3R6PqEpyZXm8amn - Database result obtained\n",
      "2018-08-01 19:33:19.131059 - 9DfA8aOJxu3R6PqEpyZXm8amn - 19 users not found, 4206 with no firends, 4634 with no followers\n",
      "2018-08-01 19:33:19.131124 - 9DfA8aOJxu3R6PqEpyZXm8amn - Crawl new users\n",
      "Rate limit reached. Sleeping for: 895\n"
     ]
    },
    {
     "name": "stderr",
     "output_type": "stream",
     "text": [
      "Exception in thread Thread-28:\n",
      "Traceback (most recent call last):\n",
      "  File \"/home/ec2-user/miniconda3/lib/python3.6/threading.py\", line 916, in _bootstrap_inner\n",
      "    self.run()\n",
      "  File \"/home/ec2-user/uclresearchanalysis/configuration/data_access.py\", line 93, in run\n",
      "    crawlled_users = self._api.crawl_list_of_users(list(ids_not_found_portion))\n",
      "  File \"/home/ec2-user/uclresearchanalysis/configuration/crawl.py\", line 56, in crawl_list_of_users\n",
      "    return self._api.lookup_users(user_ids = twitter_user_id_list)\n",
      "  File \"/home/ec2-user/miniconda3/lib/python3.6/site-packages/tweepy/api.py\", line 322, in lookup_users\n",
      "    return self._lookup_users(post_data=post_data)\n",
      "  File \"/home/ec2-user/miniconda3/lib/python3.6/site-packages/tweepy/binder.py\", line 245, in _call\n",
      "    return method.execute()\n",
      "  File \"/home/ec2-user/miniconda3/lib/python3.6/site-packages/tweepy/binder.py\", line 229, in execute\n",
      "    raise TweepError(error_msg, resp, api_code=api_error_code)\n",
      "tweepy.error.TweepError: [{'code': 17, 'message': 'No user matches for specified terms.'}]\n",
      "\n"
     ]
    },
    {
     "name": "stdout",
     "output_type": "stream",
     "text": [
      "2018-08-01 19:33:19.442396 - Q4kFr8rS1b5gHjxQbo0p1rhSM - Started Thread\n",
      "2018-08-01 19:33:19.482399 - lpy3svkWoZH0qKjvWZmFfhlAa - Database result obtained\n",
      "2018-08-01 19:33:19.487474 - lpy3svkWoZH0qKjvWZmFfhlAa - 27 users not found, 4268 with no firends, 4666 with no followers\n",
      "2018-08-01 19:33:19.487524 - lpy3svkWoZH0qKjvWZmFfhlAa - Crawl new users\n"
     ]
    },
    {
     "name": "stderr",
     "output_type": "stream",
     "text": [
      "Exception in thread Thread-30:\n",
      "Traceback (most recent call last):\n",
      "  File \"/home/ec2-user/miniconda3/lib/python3.6/threading.py\", line 916, in _bootstrap_inner\n",
      "    self.run()\n",
      "  File \"/home/ec2-user/uclresearchanalysis/configuration/data_access.py\", line 93, in run\n",
      "    crawlled_users = self._api.crawl_list_of_users(list(ids_not_found_portion))\n",
      "  File \"/home/ec2-user/uclresearchanalysis/configuration/crawl.py\", line 56, in crawl_list_of_users\n",
      "    return self._api.lookup_users(user_ids = twitter_user_id_list)\n",
      "  File \"/home/ec2-user/miniconda3/lib/python3.6/site-packages/tweepy/api.py\", line 322, in lookup_users\n",
      "    return self._lookup_users(post_data=post_data)\n",
      "  File \"/home/ec2-user/miniconda3/lib/python3.6/site-packages/tweepy/binder.py\", line 245, in _call\n",
      "    return method.execute()\n",
      "  File \"/home/ec2-user/miniconda3/lib/python3.6/site-packages/tweepy/binder.py\", line 229, in execute\n",
      "    raise TweepError(error_msg, resp, api_code=api_error_code)\n",
      "tweepy.error.TweepError: [{'code': 17, 'message': 'No user matches for specified terms.'}]\n",
      "\n"
     ]
    },
    {
     "name": "stdout",
     "output_type": "stream",
     "text": [
      "2018-08-01 19:33:20.444193 - BUMUK18ZZsLrxr2mtaqQEgXix - Started Thread\n",
      "2018-08-01 19:33:21.446474 - pufF0PGzWDk6rzK5sUFRtuECR - Started Thread\n",
      "2018-08-01 19:33:21.705836 - VyUCSd5rEEBo4d47BgJGyzw9x - Database result obtained\n",
      "2018-08-01 19:33:21.712009 - VyUCSd5rEEBo4d47BgJGyzw9x - 18 users not found, 4258 with no firends, 4655 with no followers\n",
      "2018-08-01 19:33:21.712116 - VyUCSd5rEEBo4d47BgJGyzw9x - Crawl new users\n",
      "2018-08-01 19:33:21.830856 - U0GlvoHrYG2EGnLVGmfMGcQnT - Database result obtained\n",
      "2018-08-01 19:33:21.836605 - U0GlvoHrYG2EGnLVGmfMGcQnT - 33 users not found, 4222 with no firends, 4625 with no followers\n",
      "2018-08-01 19:33:21.836796 - U0GlvoHrYG2EGnLVGmfMGcQnT - Crawl new users\n"
     ]
    },
    {
     "name": "stderr",
     "output_type": "stream",
     "text": [
      "Exception in thread Thread-32:\n",
      "Traceback (most recent call last):\n",
      "  File \"/home/ec2-user/miniconda3/lib/python3.6/threading.py\", line 916, in _bootstrap_inner\n",
      "    self.run()\n",
      "  File \"/home/ec2-user/uclresearchanalysis/configuration/data_access.py\", line 93, in run\n",
      "    crawlled_users = self._api.crawl_list_of_users(list(ids_not_found_portion))\n",
      "  File \"/home/ec2-user/uclresearchanalysis/configuration/crawl.py\", line 56, in crawl_list_of_users\n",
      "    return self._api.lookup_users(user_ids = twitter_user_id_list)\n",
      "  File \"/home/ec2-user/miniconda3/lib/python3.6/site-packages/tweepy/api.py\", line 322, in lookup_users\n",
      "    return self._lookup_users(post_data=post_data)\n",
      "  File \"/home/ec2-user/miniconda3/lib/python3.6/site-packages/tweepy/binder.py\", line 245, in _call\n",
      "    return method.execute()\n",
      "  File \"/home/ec2-user/miniconda3/lib/python3.6/site-packages/tweepy/binder.py\", line 229, in execute\n",
      "    raise TweepError(error_msg, resp, api_code=api_error_code)\n",
      "tweepy.error.TweepError: [{'code': 17, 'message': 'No user matches for specified terms.'}]\n",
      "\n"
     ]
    },
    {
     "name": "stdout",
     "output_type": "stream",
     "text": [
      "2018-08-01 19:33:22.143903 - U0GlvoHrYG2EGnLVGmfMGcQnT - Finished crawlling users\n",
      "2018-08-01 19:33:22.144299 - U0GlvoHrYG2EGnLVGmfMGcQnT - Start crawl friends\n",
      "2018-08-01 19:33:22.448187 - 6q3ztmafkyJ3YjYk5KSx02jl5 - Started Thread\n",
      "2018-08-01 19:33:22.749345 - Q4kFr8rS1b5gHjxQbo0p1rhSM - Database result obtained\n",
      "2018-08-01 19:33:22.755018 - Q4kFr8rS1b5gHjxQbo0p1rhSM - 21 users not found, 4214 with no firends, 4632 with no followers\n",
      "2018-08-01 19:33:22.755571 - Q4kFr8rS1b5gHjxQbo0p1rhSM - Crawl new users\n",
      "2018-08-01 19:33:23.062465 - Q4kFr8rS1b5gHjxQbo0p1rhSM - Finished crawlling users\n",
      "2018-08-01 19:33:23.062534 - Q4kFr8rS1b5gHjxQbo0p1rhSM - Start crawl friends\n",
      "2018-08-01 19:33:23.449584 - 0jQYYGAEN4fkAlWZAfWjDYYjk - Started Thread\n",
      "2018-08-01 19:33:24.466258 - 59AqGKhkEZwKcyTEKumeSJIx4 - Started Thread\n",
      "2018-08-01 19:33:24.552123 - pufF0PGzWDk6rzK5sUFRtuECR - Database result obtained\n",
      "2018-08-01 19:33:24.557496 - pufF0PGzWDk6rzK5sUFRtuECR - 19 users not found, 4242 with no firends, 4665 with no followers\n",
      "2018-08-01 19:33:24.557667 - pufF0PGzWDk6rzK5sUFRtuECR - Crawl new users\n",
      "2018-08-01 19:33:24.640639 - BUMUK18ZZsLrxr2mtaqQEgXix - Database result obtained\n",
      "2018-08-01 19:33:24.645720 - BUMUK18ZZsLrxr2mtaqQEgXix - 28 users not found, 4214 with no firends, 4636 with no followers\n",
      "2018-08-01 19:33:24.645774 - BUMUK18ZZsLrxr2mtaqQEgXix - Crawl new users\n"
     ]
    },
    {
     "name": "stderr",
     "output_type": "stream",
     "text": [
      "Exception in thread Thread-35:\n",
      "Traceback (most recent call last):\n",
      "  File \"/home/ec2-user/miniconda3/lib/python3.6/threading.py\", line 916, in _bootstrap_inner\n",
      "    self.run()\n",
      "  File \"/home/ec2-user/uclresearchanalysis/configuration/data_access.py\", line 93, in run\n",
      "    crawlled_users = self._api.crawl_list_of_users(list(ids_not_found_portion))\n",
      "  File \"/home/ec2-user/uclresearchanalysis/configuration/crawl.py\", line 56, in crawl_list_of_users\n",
      "    return self._api.lookup_users(user_ids = twitter_user_id_list)\n",
      "  File \"/home/ec2-user/miniconda3/lib/python3.6/site-packages/tweepy/api.py\", line 322, in lookup_users\n",
      "    return self._lookup_users(post_data=post_data)\n",
      "  File \"/home/ec2-user/miniconda3/lib/python3.6/site-packages/tweepy/binder.py\", line 245, in _call\n",
      "    return method.execute()\n",
      "  File \"/home/ec2-user/miniconda3/lib/python3.6/site-packages/tweepy/binder.py\", line 229, in execute\n",
      "    raise TweepError(error_msg, resp, api_code=api_error_code)\n",
      "tweepy.error.TweepError: [{'code': 17, 'message': 'No user matches for specified terms.'}]\n",
      "\n",
      "Exception in thread Thread-34:\n",
      "Traceback (most recent call last):\n",
      "  File \"/home/ec2-user/miniconda3/lib/python3.6/threading.py\", line 916, in _bootstrap_inner\n",
      "    self.run()\n",
      "  File \"/home/ec2-user/uclresearchanalysis/configuration/data_access.py\", line 93, in run\n",
      "    crawlled_users = self._api.crawl_list_of_users(list(ids_not_found_portion))\n",
      "  File \"/home/ec2-user/uclresearchanalysis/configuration/crawl.py\", line 56, in crawl_list_of_users\n",
      "    return self._api.lookup_users(user_ids = twitter_user_id_list)\n",
      "  File \"/home/ec2-user/miniconda3/lib/python3.6/site-packages/tweepy/api.py\", line 322, in lookup_users\n",
      "    return self._lookup_users(post_data=post_data)\n",
      "  File \"/home/ec2-user/miniconda3/lib/python3.6/site-packages/tweepy/binder.py\", line 245, in _call\n",
      "    return method.execute()\n",
      "  File \"/home/ec2-user/miniconda3/lib/python3.6/site-packages/tweepy/binder.py\", line 229, in execute\n",
      "    raise TweepError(error_msg, resp, api_code=api_error_code)\n",
      "tweepy.error.TweepError: [{'code': 17, 'message': 'No user matches for specified terms.'}]\n",
      "\n"
     ]
    },
    {
     "name": "stdout",
     "output_type": "stream",
     "text": [
      "2018-08-01 19:33:25.467978 - PbvpCUgF3IE4B5XX4lI2U649k - Started Thread\n",
      "[key:U0GlvoHrYG2EGnLVGmfMGcQnT]:TweepError - [{'code': 34, 'message': 'Sorry, that page does not exist.'}]\n",
      "2018-08-01 19:33:26.173684 - 6q3ztmafkyJ3YjYk5KSx02jl5 - Database result obtained\n",
      "2018-08-01 19:33:26.178629 - 6q3ztmafkyJ3YjYk5KSx02jl5 - 16 users not found, 4198 with no firends, 4637 with no followers\n",
      "2018-08-01 19:33:26.178696 - 6q3ztmafkyJ3YjYk5KSx02jl5 - Crawl new users\n"
     ]
    },
    {
     "name": "stderr",
     "output_type": "stream",
     "text": [
      "Exception in thread Thread-36:\n",
      "Traceback (most recent call last):\n",
      "  File \"/home/ec2-user/miniconda3/lib/python3.6/threading.py\", line 916, in _bootstrap_inner\n",
      "    self.run()\n",
      "  File \"/home/ec2-user/uclresearchanalysis/configuration/data_access.py\", line 93, in run\n",
      "    crawlled_users = self._api.crawl_list_of_users(list(ids_not_found_portion))\n",
      "  File \"/home/ec2-user/uclresearchanalysis/configuration/crawl.py\", line 56, in crawl_list_of_users\n",
      "    return self._api.lookup_users(user_ids = twitter_user_id_list)\n",
      "  File \"/home/ec2-user/miniconda3/lib/python3.6/site-packages/tweepy/api.py\", line 322, in lookup_users\n",
      "    return self._lookup_users(post_data=post_data)\n",
      "  File \"/home/ec2-user/miniconda3/lib/python3.6/site-packages/tweepy/binder.py\", line 245, in _call\n",
      "    return method.execute()\n",
      "  File \"/home/ec2-user/miniconda3/lib/python3.6/site-packages/tweepy/binder.py\", line 229, in execute\n",
      "    raise TweepError(error_msg, resp, api_code=api_error_code)\n",
      "tweepy.error.TweepError: [{'code': 17, 'message': 'No user matches for specified terms.'}]\n",
      "\n"
     ]
    },
    {
     "name": "stdout",
     "output_type": "stream",
     "text": [
      "2018-08-01 19:33:26.468184 - 0jQYYGAEN4fkAlWZAfWjDYYjk - Database result obtained\n",
      "2018-08-01 19:33:26.473278 - 0jQYYGAEN4fkAlWZAfWjDYYjk - 27 users not found, 4175 with no firends, 4635 with no followers2018-08-01 19:33:26.473423 - CixcNk5XS6pJAfHYEiOA9aTPp - Started Thread\n",
      "\n",
      "2018-08-01 19:33:26.474000 - 0jQYYGAEN4fkAlWZAfWjDYYjk - Crawl new users\n",
      "Rate limit reached. Sleeping for: 896\n"
     ]
    },
    {
     "name": "stderr",
     "output_type": "stream",
     "text": [
      "Exception in thread Thread-37:\n",
      "Traceback (most recent call last):\n",
      "  File \"/home/ec2-user/miniconda3/lib/python3.6/threading.py\", line 916, in _bootstrap_inner\n",
      "    self.run()\n",
      "  File \"/home/ec2-user/uclresearchanalysis/configuration/data_access.py\", line 93, in run\n",
      "    crawlled_users = self._api.crawl_list_of_users(list(ids_not_found_portion))\n",
      "  File \"/home/ec2-user/uclresearchanalysis/configuration/crawl.py\", line 56, in crawl_list_of_users\n",
      "    return self._api.lookup_users(user_ids = twitter_user_id_list)\n",
      "  File \"/home/ec2-user/miniconda3/lib/python3.6/site-packages/tweepy/api.py\", line 322, in lookup_users\n",
      "    return self._lookup_users(post_data=post_data)\n",
      "  File \"/home/ec2-user/miniconda3/lib/python3.6/site-packages/tweepy/binder.py\", line 245, in _call\n",
      "    return method.execute()\n",
      "  File \"/home/ec2-user/miniconda3/lib/python3.6/site-packages/tweepy/binder.py\", line 229, in execute\n",
      "    raise TweepError(error_msg, resp, api_code=api_error_code)\n",
      "tweepy.error.TweepError: [{'code': 17, 'message': 'No user matches for specified terms.'}]\n",
      "\n"
     ]
    },
    {
     "name": "stdout",
     "output_type": "stream",
     "text": [
      "2018-08-01 19:33:27.477649 - 1UHDeqi3B8xVpJ6XGbVe08R0P - Started Thread\n",
      "Rate limit reached. Sleeping for: 896\n",
      "2018-08-01 19:33:28.479470 - Tk8jQgGhgNqs1NZ1LeKI44Xs6 - Started Thread\n",
      "2018-08-01 19:33:28.765467 - 59AqGKhkEZwKcyTEKumeSJIx4 - Database result obtained\n",
      "2018-08-01 19:33:28.770887 - 59AqGKhkEZwKcyTEKumeSJIx4 - 13 users not found, 4275 with no firends, 4660 with no followers\n",
      "2018-08-01 19:33:28.770937 - 59AqGKhkEZwKcyTEKumeSJIx4 - Crawl new users\n"
     ]
    },
    {
     "name": "stderr",
     "output_type": "stream",
     "text": [
      "Exception in thread Thread-38:\n",
      "Traceback (most recent call last):\n",
      "  File \"/home/ec2-user/miniconda3/lib/python3.6/threading.py\", line 916, in _bootstrap_inner\n",
      "    self.run()\n",
      "  File \"/home/ec2-user/uclresearchanalysis/configuration/data_access.py\", line 93, in run\n",
      "    crawlled_users = self._api.crawl_list_of_users(list(ids_not_found_portion))\n",
      "  File \"/home/ec2-user/uclresearchanalysis/configuration/crawl.py\", line 56, in crawl_list_of_users\n",
      "    return self._api.lookup_users(user_ids = twitter_user_id_list)\n",
      "  File \"/home/ec2-user/miniconda3/lib/python3.6/site-packages/tweepy/api.py\", line 322, in lookup_users\n",
      "    return self._lookup_users(post_data=post_data)\n",
      "  File \"/home/ec2-user/miniconda3/lib/python3.6/site-packages/tweepy/binder.py\", line 245, in _call\n",
      "    return method.execute()\n",
      "  File \"/home/ec2-user/miniconda3/lib/python3.6/site-packages/tweepy/binder.py\", line 229, in execute\n",
      "    raise TweepError(error_msg, resp, api_code=api_error_code)\n",
      "tweepy.error.TweepError: [{'code': 17, 'message': 'No user matches for specified terms.'}]\n",
      "\n"
     ]
    },
    {
     "name": "stdout",
     "output_type": "stream",
     "text": [
      "2018-08-01 19:33:29.157180 - PbvpCUgF3IE4B5XX4lI2U649k - Database result obtained\n",
      "2018-08-01 19:33:29.162924 - PbvpCUgF3IE4B5XX4lI2U649k - 22 users not found, 4231 with no firends, 4660 with no followers\n",
      "2018-08-01 19:33:29.163175 - PbvpCUgF3IE4B5XX4lI2U649k - Crawl new users\n"
     ]
    },
    {
     "name": "stderr",
     "output_type": "stream",
     "text": [
      "Exception in thread Thread-39:\n",
      "Traceback (most recent call last):\n",
      "  File \"/home/ec2-user/miniconda3/lib/python3.6/threading.py\", line 916, in _bootstrap_inner\n",
      "    self.run()\n",
      "  File \"/home/ec2-user/uclresearchanalysis/configuration/data_access.py\", line 93, in run\n",
      "    crawlled_users = self._api.crawl_list_of_users(list(ids_not_found_portion))\n",
      "  File \"/home/ec2-user/uclresearchanalysis/configuration/crawl.py\", line 56, in crawl_list_of_users\n",
      "    return self._api.lookup_users(user_ids = twitter_user_id_list)\n",
      "  File \"/home/ec2-user/miniconda3/lib/python3.6/site-packages/tweepy/api.py\", line 322, in lookup_users\n",
      "    return self._lookup_users(post_data=post_data)\n",
      "  File \"/home/ec2-user/miniconda3/lib/python3.6/site-packages/tweepy/binder.py\", line 245, in _call\n",
      "    return method.execute()\n",
      "  File \"/home/ec2-user/miniconda3/lib/python3.6/site-packages/tweepy/binder.py\", line 229, in execute\n",
      "    raise TweepError(error_msg, resp, api_code=api_error_code)\n",
      "tweepy.error.TweepError: [{'code': 17, 'message': 'No user matches for specified terms.'}]\n",
      "\n"
     ]
    },
    {
     "name": "stdout",
     "output_type": "stream",
     "text": [
      "2018-08-01 19:33:29.481188 - HMxjfuE1UsWmVek1dk02U006o - Started Thread\n",
      "2018-08-01 19:33:30.479327 - CixcNk5XS6pJAfHYEiOA9aTPp - Database result obtained\n",
      "2018-08-01 19:33:30.484959 - kf1hZv0NhGCSabIg6sw8mduoq - Started Thread\n",
      "2018-08-01 19:33:30.485463 - CixcNk5XS6pJAfHYEiOA9aTPp - 25 users not found, 4241 with no firends, 4656 with no followers\n",
      "2018-08-01 19:33:30.485531 - CixcNk5XS6pJAfHYEiOA9aTPp - Crawl new users\n"
     ]
    },
    {
     "name": "stderr",
     "output_type": "stream",
     "text": [
      "/home/ec2-user/miniconda3/lib/python3.6/site-packages/pymysql/cursors.py:329: Warning: (1062, \"Duplicate entry 'HaydenGehrlein' for key 'screen_name'\")\n",
      "  self._do_get_result()\n"
     ]
    },
    {
     "name": "stdout",
     "output_type": "stream",
     "text": [
      "2018-08-01 19:33:31.070294 - CixcNk5XS6pJAfHYEiOA9aTPp - Finished crawlling users\n",
      "2018-08-01 19:33:31.070430 - CixcNk5XS6pJAfHYEiOA9aTPp - Start crawl friends\n",
      "2018-08-01 19:33:31.356215 - 1UHDeqi3B8xVpJ6XGbVe08R0P - Database result obtained\n",
      "2018-08-01 19:33:31.361633 - 1UHDeqi3B8xVpJ6XGbVe08R0P - 23 users not found, 4226 with no firends, 4662 with no followers\n",
      "2018-08-01 19:33:31.361682 - 1UHDeqi3B8xVpJ6XGbVe08R0P - Crawl new users\n",
      "2018-08-01 19:33:31.486655 - bjLEF6WsIJGmERMjhGApoUJjB - Started Thread\n"
     ]
    },
    {
     "name": "stderr",
     "output_type": "stream",
     "text": [
      "Exception in thread Thread-41:\n",
      "Traceback (most recent call last):\n",
      "  File \"/home/ec2-user/miniconda3/lib/python3.6/threading.py\", line 916, in _bootstrap_inner\n",
      "    self.run()\n",
      "  File \"/home/ec2-user/uclresearchanalysis/configuration/data_access.py\", line 93, in run\n",
      "    crawlled_users = self._api.crawl_list_of_users(list(ids_not_found_portion))\n",
      "  File \"/home/ec2-user/uclresearchanalysis/configuration/crawl.py\", line 56, in crawl_list_of_users\n",
      "    return self._api.lookup_users(user_ids = twitter_user_id_list)\n",
      "  File \"/home/ec2-user/miniconda3/lib/python3.6/site-packages/tweepy/api.py\", line 322, in lookup_users\n",
      "    return self._lookup_users(post_data=post_data)\n",
      "  File \"/home/ec2-user/miniconda3/lib/python3.6/site-packages/tweepy/binder.py\", line 245, in _call\n",
      "    return method.execute()\n",
      "  File \"/home/ec2-user/miniconda3/lib/python3.6/site-packages/tweepy/binder.py\", line 229, in execute\n",
      "    raise TweepError(error_msg, resp, api_code=api_error_code)\n",
      "tweepy.error.TweepError: [{'code': 17, 'message': 'No user matches for specified terms.'}]\n",
      "\n"
     ]
    },
    {
     "name": "stdout",
     "output_type": "stream",
     "text": [
      "2018-08-01 19:33:31.716258 - Tk8jQgGhgNqs1NZ1LeKI44Xs6 - Database result obtained\n",
      "2018-08-01 19:33:31.721698 - Tk8jQgGhgNqs1NZ1LeKI44Xs6 - 18 users not found, 4224 with no firends, 4668 with no followers\n",
      "2018-08-01 19:33:31.721748 - Tk8jQgGhgNqs1NZ1LeKI44Xs6 - Crawl new users\n"
     ]
    },
    {
     "name": "stderr",
     "output_type": "stream",
     "text": [
      "Exception in thread Thread-42:\n",
      "Traceback (most recent call last):\n",
      "  File \"/home/ec2-user/miniconda3/lib/python3.6/threading.py\", line 916, in _bootstrap_inner\n",
      "    self.run()\n",
      "  File \"/home/ec2-user/uclresearchanalysis/configuration/data_access.py\", line 93, in run\n",
      "    crawlled_users = self._api.crawl_list_of_users(list(ids_not_found_portion))\n",
      "  File \"/home/ec2-user/uclresearchanalysis/configuration/crawl.py\", line 56, in crawl_list_of_users\n",
      "    return self._api.lookup_users(user_ids = twitter_user_id_list)\n",
      "  File \"/home/ec2-user/miniconda3/lib/python3.6/site-packages/tweepy/api.py\", line 322, in lookup_users\n",
      "    return self._lookup_users(post_data=post_data)\n",
      "  File \"/home/ec2-user/miniconda3/lib/python3.6/site-packages/tweepy/binder.py\", line 245, in _call\n",
      "    return method.execute()\n",
      "  File \"/home/ec2-user/miniconda3/lib/python3.6/site-packages/tweepy/binder.py\", line 229, in execute\n",
      "    raise TweepError(error_msg, resp, api_code=api_error_code)\n",
      "tweepy.error.TweepError: [{'code': 17, 'message': 'No user matches for specified terms.'}]\n",
      "\n"
     ]
    },
    {
     "name": "stdout",
     "output_type": "stream",
     "text": [
      "2018-08-01 19:33:32.488278 - Dq7mn9PwmxFQE33G7C7z67tnG - Started Thread\n",
      "[key:CixcNk5XS6pJAfHYEiOA9aTPp]:TweepError - Not authorized.\n",
      "2018-08-01 19:33:33.489598 - bI4eXFUIfEUXPKBa4Wb7MXhKz - Started Thread\n",
      "[key:CixcNk5XS6pJAfHYEiOA9aTPp]:TweepError - [{'code': 34, 'message': 'Sorry, that page does not exist.'}]\n",
      "2018-08-01 19:33:34.495104 - 5QcApMjYatyCf2VLkoCjOsoHv - Started Thread\n",
      "2018-08-01 19:33:34.948071 - HMxjfuE1UsWmVek1dk02U006o - Database result obtained\n",
      "2018-08-01 19:33:34.953479 - HMxjfuE1UsWmVek1dk02U006o - 16 users not found, 4202 with no firends, 4609 with no followers\n",
      "2018-08-01 19:33:34.953725 - HMxjfuE1UsWmVek1dk02U006o - Crawl new users\n",
      "2018-08-01 19:33:35.252997 - HMxjfuE1UsWmVek1dk02U006o - Finished crawlling users\n",
      "2018-08-01 19:33:35.253066 - HMxjfuE1UsWmVek1dk02U006o - Start crawl friends\n",
      "Rate limit reached. Sleeping for: 896\n",
      "2018-08-01 19:33:35.498863 - gWqWYmVu4ZjpcRlH8RnDdJTAC - Started Thread\n",
      "2018-08-01 19:33:35.671850 - kf1hZv0NhGCSabIg6sw8mduoq - Database result obtained\n",
      "2018-08-01 19:33:35.677284 - kf1hZv0NhGCSabIg6sw8mduoq - 15 users not found, 4214 with no firends, 4696 with no followers\n",
      "2018-08-01 19:33:35.677410 - kf1hZv0NhGCSabIg6sw8mduoq - Crawl new users\n"
     ]
    },
    {
     "name": "stderr",
     "output_type": "stream",
     "text": [
      "Exception in thread Thread-44:\n",
      "Traceback (most recent call last):\n",
      "  File \"/home/ec2-user/miniconda3/lib/python3.6/threading.py\", line 916, in _bootstrap_inner\n",
      "    self.run()\n",
      "  File \"/home/ec2-user/uclresearchanalysis/configuration/data_access.py\", line 93, in run\n",
      "    crawlled_users = self._api.crawl_list_of_users(list(ids_not_found_portion))\n",
      "  File \"/home/ec2-user/uclresearchanalysis/configuration/crawl.py\", line 56, in crawl_list_of_users\n",
      "    return self._api.lookup_users(user_ids = twitter_user_id_list)\n",
      "  File \"/home/ec2-user/miniconda3/lib/python3.6/site-packages/tweepy/api.py\", line 322, in lookup_users\n",
      "    return self._lookup_users(post_data=post_data)\n",
      "  File \"/home/ec2-user/miniconda3/lib/python3.6/site-packages/tweepy/binder.py\", line 245, in _call\n",
      "    return method.execute()\n",
      "  File \"/home/ec2-user/miniconda3/lib/python3.6/site-packages/tweepy/binder.py\", line 229, in execute\n",
      "    raise TweepError(error_msg, resp, api_code=api_error_code)\n",
      "tweepy.error.TweepError: [{'code': 17, 'message': 'No user matches for specified terms.'}]\n",
      "\n"
     ]
    },
    {
     "name": "stdout",
     "output_type": "stream",
     "text": [
      "[key:HMxjfuE1UsWmVek1dk02U006o]:TweepError - Not authorized.\n",
      "2018-08-01 19:33:36.500196 - elMzNmKDfGMFlbr4zg1eS7u0p - Started Thread\n",
      "[key:HMxjfuE1UsWmVek1dk02U006o]:TweepError - [{'code': 34, 'message': 'Sorry, that page does not exist.'}]\n",
      "2018-08-01 19:33:37.503466 - Dwvt5jvx8bWcDrAKdnNRFIf6d - Started Thread\n",
      "2018-08-01 19:33:37.706837 - bjLEF6WsIJGmERMjhGApoUJjB - Database result obtained\n",
      "2018-08-01 19:33:37.712436 - bjLEF6WsIJGmERMjhGApoUJjB - 19 users not found, 4253 with no firends, 4649 with no followers\n",
      "2018-08-01 19:33:37.712488 - bjLEF6WsIJGmERMjhGApoUJjB - Crawl new users\n",
      "2018-08-01 19:33:38.028940 - bjLEF6WsIJGmERMjhGApoUJjB - Finished crawlling users\n",
      "2018-08-01 19:33:38.029021 - bjLEF6WsIJGmERMjhGApoUJjB - Start crawl friends\n",
      "2018-08-01 19:33:38.506185 - k6bPoRhmvMgsy6pZFQEkuBPQ0 - Started Thread\n",
      "[key:HMxjfuE1UsWmVek1dk02U006o]:TweepError - Not authorized.\n",
      "2018-08-01 19:33:39.507583 - jy2q3YT0Y2uhPDuE0MQUvpgkk - Started Thread\n",
      "Rate limit reached. Sleeping for: 896\n",
      "2018-08-01 19:33:40.509163 - aa3RplLurlflcXTU8bOD7MCVX - Started Thread\n",
      "2018-08-01 19:33:41.510554 - A15kX8B6OtCVoBDZWOijXzNxs - Started Thread\n",
      "2018-08-01 19:33:41.665137 - Dq7mn9PwmxFQE33G7C7z67tnG - Database result obtained\n",
      "2018-08-01 19:33:41.670207 - Dq7mn9PwmxFQE33G7C7z67tnG - 12 users not found, 4201 with no firends, 4618 with no followers\n",
      "2018-08-01 19:33:41.670566 - Dq7mn9PwmxFQE33G7C7z67tnG - Crawl new users\n"
     ]
    },
    {
     "name": "stderr",
     "output_type": "stream",
     "text": [
      "/home/ec2-user/miniconda3/lib/python3.6/site-packages/pymysql/cursors.py:329: Warning: (1062, \"Duplicate entry 'livininpa' for key 'screen_name'\")\n",
      "  self._do_get_result()\n"
     ]
    },
    {
     "name": "stdout",
     "output_type": "stream",
     "text": [
      "2018-08-01 19:33:42.003411 - Dq7mn9PwmxFQE33G7C7z67tnG - Finished crawlling users2018-08-01 19:33:42.003461 - 5QcApMjYatyCf2VLkoCjOsoHv - Database result obtained\n",
      "2018-08-01 19:33:42.003559 - Dq7mn9PwmxFQE33G7C7z67tnG - Start crawl friends\n",
      "\n",
      "2018-08-01 19:33:42.009653 - 5QcApMjYatyCf2VLkoCjOsoHv - 17 users not found, 4185 with no firends, 4624 with no followers\n",
      "2018-08-01 19:33:42.009705 - 5QcApMjYatyCf2VLkoCjOsoHv - Crawl new users\n"
     ]
    },
    {
     "name": "stderr",
     "output_type": "stream",
     "text": [
      "Exception in thread Thread-48:\n",
      "Traceback (most recent call last):\n",
      "  File \"/home/ec2-user/miniconda3/lib/python3.6/threading.py\", line 916, in _bootstrap_inner\n",
      "    self.run()\n",
      "  File \"/home/ec2-user/uclresearchanalysis/configuration/data_access.py\", line 93, in run\n",
      "    crawlled_users = self._api.crawl_list_of_users(list(ids_not_found_portion))\n",
      "  File \"/home/ec2-user/uclresearchanalysis/configuration/crawl.py\", line 56, in crawl_list_of_users\n",
      "    return self._api.lookup_users(user_ids = twitter_user_id_list)\n",
      "  File \"/home/ec2-user/miniconda3/lib/python3.6/site-packages/tweepy/api.py\", line 322, in lookup_users\n",
      "    return self._lookup_users(post_data=post_data)\n",
      "  File \"/home/ec2-user/miniconda3/lib/python3.6/site-packages/tweepy/binder.py\", line 245, in _call\n",
      "    return method.execute()\n",
      "  File \"/home/ec2-user/miniconda3/lib/python3.6/site-packages/tweepy/binder.py\", line 229, in execute\n",
      "    raise TweepError(error_msg, resp, api_code=api_error_code)\n",
      "tweepy.error.TweepError: [{'code': 17, 'message': 'No user matches for specified terms.'}]\n",
      "\n"
     ]
    },
    {
     "name": "stdout",
     "output_type": "stream",
     "text": [
      "Rate limit reached. Sleeping for: 896\n",
      "2018-08-01 19:33:42.512267 - 2Ow61tdYyGRMF37DGPlj5foNw - Started Thread\n",
      "2018-08-01 19:33:43.513962 - dycBKeq1JzQS5NDN9O27CQoG7 - Started Thread\n",
      "2018-08-01 19:33:43.665060 - bI4eXFUIfEUXPKBa4Wb7MXhKz - Database result obtained\n",
      "2018-08-01 19:33:43.669939 - bI4eXFUIfEUXPKBa4Wb7MXhKz - 17 users not found, 4250 with no firends, 4652 with no followers\n",
      "2018-08-01 19:33:43.670395 - bI4eXFUIfEUXPKBa4Wb7MXhKz - Crawl new users\n"
     ]
    },
    {
     "name": "stderr",
     "output_type": "stream",
     "text": [
      "Exception in thread Thread-47:\n",
      "Traceback (most recent call last):\n",
      "  File \"/home/ec2-user/miniconda3/lib/python3.6/threading.py\", line 916, in _bootstrap_inner\n",
      "    self.run()\n",
      "  File \"/home/ec2-user/uclresearchanalysis/configuration/data_access.py\", line 93, in run\n",
      "    crawlled_users = self._api.crawl_list_of_users(list(ids_not_found_portion))\n",
      "  File \"/home/ec2-user/uclresearchanalysis/configuration/crawl.py\", line 56, in crawl_list_of_users\n",
      "    return self._api.lookup_users(user_ids = twitter_user_id_list)\n",
      "  File \"/home/ec2-user/miniconda3/lib/python3.6/site-packages/tweepy/api.py\", line 322, in lookup_users\n",
      "    return self._lookup_users(post_data=post_data)\n",
      "  File \"/home/ec2-user/miniconda3/lib/python3.6/site-packages/tweepy/binder.py\", line 245, in _call\n",
      "    return method.execute()\n",
      "  File \"/home/ec2-user/miniconda3/lib/python3.6/site-packages/tweepy/binder.py\", line 229, in execute\n",
      "    raise TweepError(error_msg, resp, api_code=api_error_code)\n",
      "tweepy.error.TweepError: [{'code': 17, 'message': 'No user matches for specified terms.'}]\n",
      "\n"
     ]
    },
    {
     "name": "stdout",
     "output_type": "stream",
     "text": [
      "2018-08-01 19:33:44.515623 - JH7UuEf3or0UEfAWJtLMJHE1I - Started Thread\n",
      "2018-08-01 19:33:44.611017 - gWqWYmVu4ZjpcRlH8RnDdJTAC - Database result obtained\n",
      "2018-08-01 19:33:44.616218 - gWqWYmVu4ZjpcRlH8RnDdJTAC - 29 users not found, 4214 with no firends, 4647 with no followers\n",
      "2018-08-01 19:33:44.616274 - gWqWYmVu4ZjpcRlH8RnDdJTAC - Crawl new users\n",
      "2018-08-01 19:33:44.658199 - elMzNmKDfGMFlbr4zg1eS7u0p - Database result obtained\n",
      "2018-08-01 19:33:44.663302 - elMzNmKDfGMFlbr4zg1eS7u0p - 30 users not found, 4226 with no firends, 4624 with no followers\n",
      "2018-08-01 19:33:44.663422 - elMzNmKDfGMFlbr4zg1eS7u0p - Crawl new users\n"
     ]
    },
    {
     "name": "stderr",
     "output_type": "stream",
     "text": [
      "Exception in thread Thread-49:\n",
      "Traceback (most recent call last):\n",
      "  File \"/home/ec2-user/miniconda3/lib/python3.6/threading.py\", line 916, in _bootstrap_inner\n",
      "    self.run()\n",
      "  File \"/home/ec2-user/uclresearchanalysis/configuration/data_access.py\", line 93, in run\n",
      "    crawlled_users = self._api.crawl_list_of_users(list(ids_not_found_portion))\n",
      "  File \"/home/ec2-user/uclresearchanalysis/configuration/crawl.py\", line 56, in crawl_list_of_users\n",
      "    return self._api.lookup_users(user_ids = twitter_user_id_list)\n",
      "  File \"/home/ec2-user/miniconda3/lib/python3.6/site-packages/tweepy/api.py\", line 322, in lookup_users\n",
      "    return self._lookup_users(post_data=post_data)\n",
      "  File \"/home/ec2-user/miniconda3/lib/python3.6/site-packages/tweepy/binder.py\", line 245, in _call\n",
      "    return method.execute()\n",
      "  File \"/home/ec2-user/miniconda3/lib/python3.6/site-packages/tweepy/binder.py\", line 229, in execute\n",
      "    raise TweepError(error_msg, resp, api_code=api_error_code)\n",
      "tweepy.error.TweepError: [{'code': 17, 'message': 'No user matches for specified terms.'}]\n",
      "\n",
      "Exception in thread Thread-50:\n",
      "Traceback (most recent call last):\n",
      "  File \"/home/ec2-user/miniconda3/lib/python3.6/threading.py\", line 916, in _bootstrap_inner\n",
      "    self.run()\n",
      "  File \"/home/ec2-user/uclresearchanalysis/configuration/data_access.py\", line 93, in run\n",
      "    crawlled_users = self._api.crawl_list_of_users(list(ids_not_found_portion))\n",
      "  File \"/home/ec2-user/uclresearchanalysis/configuration/crawl.py\", line 56, in crawl_list_of_users\n",
      "    return self._api.lookup_users(user_ids = twitter_user_id_list)\n",
      "  File \"/home/ec2-user/miniconda3/lib/python3.6/site-packages/tweepy/api.py\", line 322, in lookup_users\n",
      "    return self._lookup_users(post_data=post_data)\n",
      "  File \"/home/ec2-user/miniconda3/lib/python3.6/site-packages/tweepy/binder.py\", line 245, in _call\n",
      "    return method.execute()\n",
      "  File \"/home/ec2-user/miniconda3/lib/python3.6/site-packages/tweepy/binder.py\", line 229, in execute\n",
      "    raise TweepError(error_msg, resp, api_code=api_error_code)\n",
      "tweepy.error.TweepError: [{'code': 17, 'message': 'No user matches for specified terms.'}]\n",
      "\n"
     ]
    },
    {
     "name": "stdout",
     "output_type": "stream",
     "text": [
      "2018-08-01 19:33:45.518316 - 29n7CUnvNQ9HEZy0XbJ40uux6 - Started Thread\n",
      "2018-08-01 19:33:45.910881 - Dwvt5jvx8bWcDrAKdnNRFIf6d - Database result obtained\n",
      "2018-08-01 19:33:45.916386 - Dwvt5jvx8bWcDrAKdnNRFIf6d - 29 users not found, 4236 with no firends, 4663 with no followers\n",
      "2018-08-01 19:33:45.917105 - Dwvt5jvx8bWcDrAKdnNRFIf6d - Crawl new users\n",
      "2018-08-01 19:33:46.232996 - Dwvt5jvx8bWcDrAKdnNRFIf6d - Finished crawlling users\n",
      "2018-08-01 19:33:46.233581 - Dwvt5jvx8bWcDrAKdnNRFIf6d - Start crawl friends\n",
      "[key:Dq7mn9PwmxFQE33G7C7z67tnG]:TweepError - Not authorized.\n",
      "Rate limit reached. Sleeping for: 896\n",
      "2018-08-01 19:33:46.520304 - 8hc7WVzyXBoZpUekBOe6x8Mbd - Started Thread\n",
      "2018-08-01 19:33:47.522460 - CIpY8cqPAVqOcAiyqrRvkrzud - Started Thread\n",
      "2018-08-01 19:33:48.467153 - jy2q3YT0Y2uhPDuE0MQUvpgkk - Database result obtained\n",
      "2018-08-01 19:33:48.472181 - jy2q3YT0Y2uhPDuE0MQUvpgkk - 25 users not found, 4224 with no firends, 4645 with no followers\n",
      "2018-08-01 19:33:48.473121 - jy2q3YT0Y2uhPDuE0MQUvpgkk - Crawl new users\n",
      "2018-08-01 19:33:48.523815 - 7hBroLImgC57VNmt6wlwoR4ro - Started Thread\n",
      "2018-08-01 19:33:48.954260 - jy2q3YT0Y2uhPDuE0MQUvpgkk - Finished crawlling users\n",
      "2018-08-01 19:33:48.954330 - jy2q3YT0Y2uhPDuE0MQUvpgkk - Start crawl friends\n",
      "2018-08-01 19:33:49.155509 - k6bPoRhmvMgsy6pZFQEkuBPQ0 - Database result obtained\n",
      "2018-08-01 19:33:49.161644 - k6bPoRhmvMgsy6pZFQEkuBPQ0 - 29 users not found, 4260 with no firends, 4673 with no followers\n",
      "2018-08-01 19:33:49.161954 - k6bPoRhmvMgsy6pZFQEkuBPQ0 - Crawl new users\n"
     ]
    },
    {
     "name": "stderr",
     "output_type": "stream",
     "text": [
      "Exception in thread Thread-52:\n",
      "Traceback (most recent call last):\n",
      "  File \"/home/ec2-user/miniconda3/lib/python3.6/threading.py\", line 916, in _bootstrap_inner\n",
      "    self.run()\n",
      "  File \"/home/ec2-user/uclresearchanalysis/configuration/data_access.py\", line 93, in run\n",
      "    crawlled_users = self._api.crawl_list_of_users(list(ids_not_found_portion))\n",
      "  File \"/home/ec2-user/uclresearchanalysis/configuration/crawl.py\", line 56, in crawl_list_of_users\n",
      "    return self._api.lookup_users(user_ids = twitter_user_id_list)\n",
      "  File \"/home/ec2-user/miniconda3/lib/python3.6/site-packages/tweepy/api.py\", line 322, in lookup_users\n",
      "    return self._lookup_users(post_data=post_data)\n",
      "  File \"/home/ec2-user/miniconda3/lib/python3.6/site-packages/tweepy/binder.py\", line 245, in _call\n",
      "    return method.execute()\n",
      "  File \"/home/ec2-user/miniconda3/lib/python3.6/site-packages/tweepy/binder.py\", line 229, in execute\n",
      "    raise TweepError(error_msg, resp, api_code=api_error_code)\n",
      "tweepy.error.TweepError: [{'code': 17, 'message': 'No user matches for specified terms.'}]\n",
      "\n"
     ]
    },
    {
     "name": "stdout",
     "output_type": "stream",
     "text": [
      "[key:jy2q3YT0Y2uhPDuE0MQUvpgkk]:TweepError - Not authorized.\n",
      "2018-08-01 19:33:49.525264 - Xt77x2HQF64WJnYQc2gFSSyJW - Started Thread\n",
      "[key:jy2q3YT0Y2uhPDuE0MQUvpgkk]:TweepError - Not authorized.\n",
      "2018-08-01 19:33:50.526851 - LxFDe1soHsqYLgLxH9YD7Idwz - Started Thread\n",
      "Rate limit reached. Sleeping for: 896\n",
      "[key:jy2q3YT0Y2uhPDuE0MQUvpgkk]:TweepError - Not authorized.\n",
      "2018-08-01 19:33:51.529082 - HO8aFC8UIt4Xg6v0MrM0upUMB - Started Thread\n",
      "2018-08-01 19:33:51.938149 - dycBKeq1JzQS5NDN9O27CQoG7 - Database result obtained\n",
      "2018-08-01 19:33:51.945312 - dycBKeq1JzQS5NDN9O27CQoG7 - 18 users not found, 4197 with no firends, 4620 with no followers\n",
      "2018-08-01 19:33:51.947596 - dycBKeq1JzQS5NDN9O27CQoG7 - Crawl new users\n"
     ]
    },
    {
     "name": "stderr",
     "output_type": "stream",
     "text": [
      "Exception in thread Thread-57:\n",
      "Traceback (most recent call last):\n",
      "  File \"/home/ec2-user/miniconda3/lib/python3.6/threading.py\", line 916, in _bootstrap_inner\n",
      "    self.run()\n",
      "  File \"/home/ec2-user/uclresearchanalysis/configuration/data_access.py\", line 93, in run\n",
      "    crawlled_users = self._api.crawl_list_of_users(list(ids_not_found_portion))\n",
      "  File \"/home/ec2-user/uclresearchanalysis/configuration/crawl.py\", line 56, in crawl_list_of_users\n",
      "    return self._api.lookup_users(user_ids = twitter_user_id_list)\n",
      "  File \"/home/ec2-user/miniconda3/lib/python3.6/site-packages/tweepy/api.py\", line 322, in lookup_users\n",
      "    return self._lookup_users(post_data=post_data)\n",
      "  File \"/home/ec2-user/miniconda3/lib/python3.6/site-packages/tweepy/binder.py\", line 245, in _call\n",
      "    return method.execute()\n",
      "  File \"/home/ec2-user/miniconda3/lib/python3.6/site-packages/tweepy/binder.py\", line 229, in execute\n",
      "    raise TweepError(error_msg, resp, api_code=api_error_code)\n",
      "tweepy.error.TweepError: [{'code': 17, 'message': 'No user matches for specified terms.'}]\n",
      "\n"
     ]
    },
    {
     "name": "stdout",
     "output_type": "stream",
     "text": [
      "2018-08-01 19:33:52.530450 - YWR0CYWn627j908h6bb0lGl5Z - Started Thread\n",
      "2018-08-01 19:33:52.827522 - A15kX8B6OtCVoBDZWOijXzNxs - Database result obtained\n",
      "2018-08-01 19:33:52.833300 - A15kX8B6OtCVoBDZWOijXzNxs - 19 users not found, 4234 with no firends, 4647 with no followers\n",
      "2018-08-01 19:33:52.834250 - A15kX8B6OtCVoBDZWOijXzNxs - Crawl new users\n"
     ]
    },
    {
     "name": "stderr",
     "output_type": "stream",
     "text": [
      "Exception in thread Thread-55:\n",
      "Traceback (most recent call last):\n",
      "  File \"/home/ec2-user/miniconda3/lib/python3.6/threading.py\", line 916, in _bootstrap_inner\n",
      "    self.run()\n",
      "  File \"/home/ec2-user/uclresearchanalysis/configuration/data_access.py\", line 93, in run\n",
      "    crawlled_users = self._api.crawl_list_of_users(list(ids_not_found_portion))\n",
      "  File \"/home/ec2-user/uclresearchanalysis/configuration/crawl.py\", line 56, in crawl_list_of_users\n",
      "    return self._api.lookup_users(user_ids = twitter_user_id_list)\n",
      "  File \"/home/ec2-user/miniconda3/lib/python3.6/site-packages/tweepy/api.py\", line 322, in lookup_users\n",
      "    return self._lookup_users(post_data=post_data)\n",
      "  File \"/home/ec2-user/miniconda3/lib/python3.6/site-packages/tweepy/binder.py\", line 245, in _call\n",
      "    return method.execute()\n",
      "  File \"/home/ec2-user/miniconda3/lib/python3.6/site-packages/tweepy/binder.py\", line 229, in execute\n",
      "    raise TweepError(error_msg, resp, api_code=api_error_code)\n",
      "tweepy.error.TweepError: [{'code': 17, 'message': 'No user matches for specified terms.'}]\n",
      "\n"
     ]
    },
    {
     "name": "stdout",
     "output_type": "stream",
     "text": [
      "Rate limit reached. Sleeping for: 896\n",
      "2018-08-01 19:33:53.532025 - ZGlwIc8Lh1dgGY5VSuNlUuB1Z - Started Thread\n",
      "2018-08-01 19:33:54.185514 - 2Ow61tdYyGRMF37DGPlj5foNw - Database result obtained\n",
      "2018-08-01 19:33:54.190884 - 2Ow61tdYyGRMF37DGPlj5foNw - 14 users not found, 4185 with no firends, 4668 with no followers\n",
      "2018-08-01 19:33:54.191078 - 2Ow61tdYyGRMF37DGPlj5foNw - Crawl new users\n"
     ]
    },
    {
     "name": "stderr",
     "output_type": "stream",
     "text": [
      "Exception in thread Thread-56:\n",
      "Traceback (most recent call last):\n",
      "  File \"/home/ec2-user/miniconda3/lib/python3.6/threading.py\", line 916, in _bootstrap_inner\n",
      "    self.run()\n",
      "  File \"/home/ec2-user/uclresearchanalysis/configuration/data_access.py\", line 93, in run\n",
      "    crawlled_users = self._api.crawl_list_of_users(list(ids_not_found_portion))\n",
      "  File \"/home/ec2-user/uclresearchanalysis/configuration/crawl.py\", line 56, in crawl_list_of_users\n",
      "    return self._api.lookup_users(user_ids = twitter_user_id_list)\n",
      "  File \"/home/ec2-user/miniconda3/lib/python3.6/site-packages/tweepy/api.py\", line 322, in lookup_users\n",
      "    return self._lookup_users(post_data=post_data)\n",
      "  File \"/home/ec2-user/miniconda3/lib/python3.6/site-packages/tweepy/binder.py\", line 245, in _call\n",
      "    return method.execute()\n",
      "  File \"/home/ec2-user/miniconda3/lib/python3.6/site-packages/tweepy/binder.py\", line 229, in execute\n",
      "    raise TweepError(error_msg, resp, api_code=api_error_code)\n",
      "tweepy.error.TweepError: [{'code': 17, 'message': 'No user matches for specified terms.'}]\n",
      "\n"
     ]
    },
    {
     "name": "stdout",
     "output_type": "stream",
     "text": [
      "2018-08-01 19:33:54.536844 - ofET3cYQMnz4HYu4aFHhAKNqb - Started Thread\n",
      "2018-08-01 19:33:55.538801 - gYA6Hj2h0MZECFrRwkpKFMGB8 - Started Thread\n",
      "2018-08-01 19:33:55.607451 - JH7UuEf3or0UEfAWJtLMJHE1I - Database result obtained\n",
      "2018-08-01 19:33:55.612937 - JH7UuEf3or0UEfAWJtLMJHE1I - 21 users not found, 4256 with no firends, 4657 with no followers\n",
      "2018-08-01 19:33:55.613962 - JH7UuEf3or0UEfAWJtLMJHE1I - Crawl new users\n"
     ]
    },
    {
     "name": "stderr",
     "output_type": "stream",
     "text": [
      "Exception in thread Thread-58:\n",
      "Traceback (most recent call last):\n",
      "  File \"/home/ec2-user/miniconda3/lib/python3.6/threading.py\", line 916, in _bootstrap_inner\n",
      "    self.run()\n",
      "  File \"/home/ec2-user/uclresearchanalysis/configuration/data_access.py\", line 93, in run\n",
      "    crawlled_users = self._api.crawl_list_of_users(list(ids_not_found_portion))\n",
      "  File \"/home/ec2-user/uclresearchanalysis/configuration/crawl.py\", line 56, in crawl_list_of_users\n",
      "    return self._api.lookup_users(user_ids = twitter_user_id_list)\n",
      "  File \"/home/ec2-user/miniconda3/lib/python3.6/site-packages/tweepy/api.py\", line 322, in lookup_users\n",
      "    return self._lookup_users(post_data=post_data)\n",
      "  File \"/home/ec2-user/miniconda3/lib/python3.6/site-packages/tweepy/binder.py\", line 245, in _call\n",
      "    return method.execute()\n",
      "  File \"/home/ec2-user/miniconda3/lib/python3.6/site-packages/tweepy/binder.py\", line 229, in execute\n",
      "    raise TweepError(error_msg, resp, api_code=api_error_code)\n",
      "tweepy.error.TweepError: [{'code': 17, 'message': 'No user matches for specified terms.'}]\n",
      "\n"
     ]
    },
    {
     "name": "stdout",
     "output_type": "stream",
     "text": [
      "2018-08-01 19:33:55.873182 - aa3RplLurlflcXTU8bOD7MCVX - Database result obtained\n",
      "2018-08-01 19:33:55.878436 - aa3RplLurlflcXTU8bOD7MCVX - 20 users not found, 4213 with no firends, 4648 with no followers\n",
      "2018-08-01 19:33:55.878488 - aa3RplLurlflcXTU8bOD7MCVX - Crawl new users\n",
      "2018-08-01 19:33:56.195441 - 8hc7WVzyXBoZpUekBOe6x8Mbd - Database result obtained\n",
      "2018-08-01 19:33:56.200555 - 8hc7WVzyXBoZpUekBOe6x8Mbd - 32 users not found, 4212 with no firends, 4654 with no followers\n",
      "2018-08-01 19:33:56.201670 - 8hc7WVzyXBoZpUekBOe6x8Mbd - Crawl new users\n",
      "2018-08-01 19:33:56.268613 - aa3RplLurlflcXTU8bOD7MCVX - Finished crawlling users\n",
      "2018-08-01 19:33:56.268817 - aa3RplLurlflcXTU8bOD7MCVX - Start crawl friends\n",
      "Rate limit reached. Sleeping for: 501\n",
      "2018-08-01 19:33:56.540981 - CNeWWiNTqgV7vGq9dGCsYTRZc - Started Thread\n",
      "2018-08-01 19:33:56.557267 - 8hc7WVzyXBoZpUekBOe6x8Mbd - Finished crawlling users\n",
      "2018-08-01 19:33:56.557330 - 8hc7WVzyXBoZpUekBOe6x8Mbd - Start crawl friends\n",
      "2018-08-01 19:33:57.543088 - 8MRrh7D5I0sZ3j6i79JAG0nFd - Started Thread\n",
      "2018-08-01 19:33:58.544540 - uKlOhb9y0tDkVRwhH7EiIdG4A - Started Thread\n",
      "2018-08-01 19:33:59.546112 - DLkheC0hFgzydp7JsubEUGLiZ - Started Thread\n",
      "2018-08-01 19:34:00.548419 - KUTQbxB21jL2BqkysKTmcDGsb - Started Thread\n",
      "2018-08-01 19:34:00.952501 - 7hBroLImgC57VNmt6wlwoR4ro - Database result obtained\n",
      "2018-08-01 19:34:00.958121 - 7hBroLImgC57VNmt6wlwoR4ro - 17 users not found, 4205 with no firends, 4625 with no followers\n",
      "2018-08-01 19:34:00.958508 - 7hBroLImgC57VNmt6wlwoR4ro - Crawl new users\n",
      "Rate limit reached. Sleeping for: 895\n"
     ]
    },
    {
     "name": "stderr",
     "output_type": "stream",
     "text": [
      "Exception in thread Thread-62:\n",
      "Traceback (most recent call last):\n",
      "  File \"/home/ec2-user/miniconda3/lib/python3.6/threading.py\", line 916, in _bootstrap_inner\n",
      "    self.run()\n",
      "  File \"/home/ec2-user/uclresearchanalysis/configuration/data_access.py\", line 93, in run\n",
      "    crawlled_users = self._api.crawl_list_of_users(list(ids_not_found_portion))\n",
      "  File \"/home/ec2-user/uclresearchanalysis/configuration/crawl.py\", line 56, in crawl_list_of_users\n",
      "    return self._api.lookup_users(user_ids = twitter_user_id_list)\n",
      "  File \"/home/ec2-user/miniconda3/lib/python3.6/site-packages/tweepy/api.py\", line 322, in lookup_users\n",
      "    return self._lookup_users(post_data=post_data)\n",
      "  File \"/home/ec2-user/miniconda3/lib/python3.6/site-packages/tweepy/binder.py\", line 245, in _call\n",
      "    return method.execute()\n",
      "  File \"/home/ec2-user/miniconda3/lib/python3.6/site-packages/tweepy/binder.py\", line 229, in execute\n",
      "    raise TweepError(error_msg, resp, api_code=api_error_code)\n",
      "tweepy.error.TweepError: [{'code': 17, 'message': 'No user matches for specified terms.'}]\n",
      "\n"
     ]
    },
    {
     "name": "stdout",
     "output_type": "stream",
     "text": [
      "2018-08-01 19:34:01.550453 - wEfv9N70ICpW1W5mMMneRIYh2 - Started Thread\n",
      "2018-08-01 19:34:01.621313 - 29n7CUnvNQ9HEZy0XbJ40uux6 - Database result obtained\n",
      "2018-08-01 19:34:01.627120 - 29n7CUnvNQ9HEZy0XbJ40uux6 - 24 users not found, 4187 with no firends, 4607 with no followers\n",
      "2018-08-01 19:34:01.627448 - 29n7CUnvNQ9HEZy0XbJ40uux6 - Crawl new users\n",
      "2018-08-01 19:34:02.393971 - CIpY8cqPAVqOcAiyqrRvkrzud - Database result obtained\n",
      "2018-08-01 19:34:02.399742 - CIpY8cqPAVqOcAiyqrRvkrzud - 22 users not found, 4254 with no firends, 4680 with no followers\n",
      "2018-08-01 19:34:02.399892 - CIpY8cqPAVqOcAiyqrRvkrzud - Crawl new users\n",
      "2018-08-01 19:34:02.544853 - Xt77x2HQF64WJnYQc2gFSSyJW - Database result obtained\n",
      "2018-08-01 19:34:02.550474 - Xt77x2HQF64WJnYQc2gFSSyJW - 17 users not found, 4164 with no firends, 4601 with no followers\n",
      "2018-08-01 19:34:02.551103 - Xt77x2HQF64WJnYQc2gFSSyJW - Crawl new users\n",
      "2018-08-01 19:34:02.555607 - VqUC0HlR9NPtHPpzPFWHFZEYE - Started Thread\n",
      "2018-08-01 19:34:02.783002 - 29n7CUnvNQ9HEZy0XbJ40uux6 - Finished crawlling users\n",
      "2018-08-01 19:34:02.783069 - 29n7CUnvNQ9HEZy0XbJ40uux6 - Start crawl friends\n"
     ]
    },
    {
     "name": "stderr",
     "output_type": "stream",
     "text": [
      "Exception in thread Thread-63:\n",
      "Traceback (most recent call last):\n",
      "  File \"/home/ec2-user/miniconda3/lib/python3.6/threading.py\", line 916, in _bootstrap_inner\n",
      "    self.run()\n",
      "  File \"/home/ec2-user/uclresearchanalysis/configuration/data_access.py\", line 93, in run\n",
      "    crawlled_users = self._api.crawl_list_of_users(list(ids_not_found_portion))\n",
      "  File \"/home/ec2-user/uclresearchanalysis/configuration/crawl.py\", line 56, in crawl_list_of_users\n",
      "    return self._api.lookup_users(user_ids = twitter_user_id_list)\n",
      "  File \"/home/ec2-user/miniconda3/lib/python3.6/site-packages/tweepy/api.py\", line 322, in lookup_users\n",
      "    return self._lookup_users(post_data=post_data)\n",
      "  File \"/home/ec2-user/miniconda3/lib/python3.6/site-packages/tweepy/binder.py\", line 245, in _call\n",
      "    return method.execute()\n",
      "  File \"/home/ec2-user/miniconda3/lib/python3.6/site-packages/tweepy/binder.py\", line 229, in execute\n",
      "    raise TweepError(error_msg, resp, api_code=api_error_code)\n",
      "tweepy.error.TweepError: [{'code': 17, 'message': 'No user matches for specified terms.'}]\n",
      "\n",
      "/home/ec2-user/miniconda3/lib/python3.6/site-packages/pymysql/cursors.py:329: Warning: (1062, \"Duplicate entry 'bigleaguepol' for key 'screen_name'\")\n",
      "  self._do_get_result()\n"
     ]
    },
    {
     "name": "stdout",
     "output_type": "stream",
     "text": [
      "2018-08-01 19:34:03.047869 - CIpY8cqPAVqOcAiyqrRvkrzud - Finished crawlling users\n",
      "2018-08-01 19:34:03.047947 - CIpY8cqPAVqOcAiyqrRvkrzud - Start crawl friends\n",
      "2018-08-01 19:34:03.557180 - hZTJHYlbFkbPfBLupzdEtXJ2w - Started Thread\n",
      "2018-08-01 19:34:03.592151 - LxFDe1soHsqYLgLxH9YD7Idwz - Database result obtained\n",
      "2018-08-01 19:34:03.597573 - LxFDe1soHsqYLgLxH9YD7Idwz - 19 users not found, 4213 with no firends, 4661 with no followers\n",
      "2018-08-01 19:34:03.598064 - LxFDe1soHsqYLgLxH9YD7Idwz - Crawl new users\n"
     ]
    },
    {
     "name": "stderr",
     "output_type": "stream",
     "text": [
      "Exception in thread Thread-64:\n",
      "Traceback (most recent call last):\n",
      "  File \"/home/ec2-user/miniconda3/lib/python3.6/threading.py\", line 916, in _bootstrap_inner\n",
      "    self.run()\n",
      "  File \"/home/ec2-user/uclresearchanalysis/configuration/data_access.py\", line 93, in run\n",
      "    crawlled_users = self._api.crawl_list_of_users(list(ids_not_found_portion))\n",
      "  File \"/home/ec2-user/uclresearchanalysis/configuration/crawl.py\", line 56, in crawl_list_of_users\n",
      "    return self._api.lookup_users(user_ids = twitter_user_id_list)\n",
      "  File \"/home/ec2-user/miniconda3/lib/python3.6/site-packages/tweepy/api.py\", line 322, in lookup_users\n",
      "    return self._lookup_users(post_data=post_data)\n",
      "  File \"/home/ec2-user/miniconda3/lib/python3.6/site-packages/tweepy/binder.py\", line 245, in _call\n",
      "    return method.execute()\n",
      "  File \"/home/ec2-user/miniconda3/lib/python3.6/site-packages/tweepy/binder.py\", line 229, in execute\n",
      "    raise TweepError(error_msg, resp, api_code=api_error_code)\n",
      "tweepy.error.TweepError: [{'code': 17, 'message': 'No user matches for specified terms.'}]\n",
      "\n"
     ]
    },
    {
     "name": "stdout",
     "output_type": "stream",
     "text": [
      "2018-08-01 19:34:04.560534 - 2WOZq64LCqxzz506rErLurE5O - Started Thread\n",
      "2018-08-01 19:34:04.967974 - HO8aFC8UIt4Xg6v0MrM0upUMB - Database result obtained\n",
      "2018-08-01 19:34:04.974010 - HO8aFC8UIt4Xg6v0MrM0upUMB - 23 users not found, 4200 with no firends, 4655 with no followers\n",
      "2018-08-01 19:34:04.975771 - HO8aFC8UIt4Xg6v0MrM0upUMB - Crawl new users\n"
     ]
    },
    {
     "name": "stderr",
     "output_type": "stream",
     "text": [
      "Exception in thread Thread-65:\n",
      "Traceback (most recent call last):\n",
      "  File \"/home/ec2-user/miniconda3/lib/python3.6/threading.py\", line 916, in _bootstrap_inner\n",
      "    self.run()\n",
      "  File \"/home/ec2-user/uclresearchanalysis/configuration/data_access.py\", line 93, in run\n",
      "    crawlled_users = self._api.crawl_list_of_users(list(ids_not_found_portion))\n",
      "  File \"/home/ec2-user/uclresearchanalysis/configuration/crawl.py\", line 56, in crawl_list_of_users\n",
      "    return self._api.lookup_users(user_ids = twitter_user_id_list)\n",
      "  File \"/home/ec2-user/miniconda3/lib/python3.6/site-packages/tweepy/api.py\", line 322, in lookup_users\n",
      "    return self._lookup_users(post_data=post_data)\n",
      "  File \"/home/ec2-user/miniconda3/lib/python3.6/site-packages/tweepy/binder.py\", line 245, in _call\n",
      "    return method.execute()\n",
      "  File \"/home/ec2-user/miniconda3/lib/python3.6/site-packages/tweepy/binder.py\", line 229, in execute\n",
      "    raise TweepError(error_msg, resp, api_code=api_error_code)\n",
      "tweepy.error.TweepError: [{'code': 17, 'message': 'No user matches for specified terms.'}]\n",
      "\n"
     ]
    },
    {
     "name": "stdout",
     "output_type": "stream",
     "text": [
      "2018-08-01 19:34:05.561979 - PIxOZSqNaCMQO3QMCrPhuotE6 - Started Thread\n",
      "[key:29n7CUnvNQ9HEZy0XbJ40uux6]:TweepError - [{'code': 34, 'message': 'Sorry, that page does not exist.'}]\n",
      "2018-08-01 19:34:06.156051 - YWR0CYWn627j908h6bb0lGl5Z - Database result obtained\n",
      "2018-08-01 19:34:06.162550 - YWR0CYWn627j908h6bb0lGl5Z - 21 users not found, 4203 with no firends, 4619 with no followers\n",
      "2018-08-01 19:34:06.163348 - YWR0CYWn627j908h6bb0lGl5Z - Crawl new users\n"
     ]
    },
    {
     "name": "stderr",
     "output_type": "stream",
     "text": [
      "Exception in thread Thread-66:\n",
      "Traceback (most recent call last):\n",
      "  File \"/home/ec2-user/miniconda3/lib/python3.6/threading.py\", line 916, in _bootstrap_inner\n",
      "    self.run()\n",
      "  File \"/home/ec2-user/uclresearchanalysis/configuration/data_access.py\", line 93, in run\n",
      "    crawlled_users = self._api.crawl_list_of_users(list(ids_not_found_portion))\n",
      "  File \"/home/ec2-user/uclresearchanalysis/configuration/crawl.py\", line 56, in crawl_list_of_users\n",
      "    return self._api.lookup_users(user_ids = twitter_user_id_list)\n",
      "  File \"/home/ec2-user/miniconda3/lib/python3.6/site-packages/tweepy/api.py\", line 322, in lookup_users\n",
      "    return self._lookup_users(post_data=post_data)\n",
      "  File \"/home/ec2-user/miniconda3/lib/python3.6/site-packages/tweepy/binder.py\", line 245, in _call\n",
      "    return method.execute()\n",
      "  File \"/home/ec2-user/miniconda3/lib/python3.6/site-packages/tweepy/binder.py\", line 229, in execute\n",
      "    raise TweepError(error_msg, resp, api_code=api_error_code)\n",
      "tweepy.error.TweepError: [{'code': 17, 'message': 'No user matches for specified terms.'}]\n",
      "\n"
     ]
    },
    {
     "name": "stdout",
     "output_type": "stream",
     "text": [
      "[key:29n7CUnvNQ9HEZy0XbJ40uux6]:TweepError - Not authorized.\n",
      "[key:CIpY8cqPAVqOcAiyqrRvkrzud]:TweepError - Not authorized.\n",
      "2018-08-01 19:34:06.563848 - 4fTqSj4XoWA2kaWWvzkrrvreY - Started Thread\n",
      "[key:29n7CUnvNQ9HEZy0XbJ40uux6]:TweepError - [{'code': 34, 'message': 'Sorry, that page does not exist.'}]\n",
      "2018-08-01 19:34:07.048594 - ofET3cYQMnz4HYu4aFHhAKNqb - Database result obtained\n",
      "2018-08-01 19:34:07.054588 - ofET3cYQMnz4HYu4aFHhAKNqb - 23 users not found, 4218 with no firends, 4632 with no followers\n",
      "2018-08-01 19:34:07.055752 - ofET3cYQMnz4HYu4aFHhAKNqb - Crawl new users\n",
      "[key:29n7CUnvNQ9HEZy0XbJ40uux6]:TweepError - [{'code': 34, 'message': 'Sorry, that page does not exist.'}]\n"
     ]
    },
    {
     "name": "stderr",
     "output_type": "stream",
     "text": [
      "Exception in thread Thread-68:\n",
      "Traceback (most recent call last):\n",
      "  File \"/home/ec2-user/miniconda3/lib/python3.6/threading.py\", line 916, in _bootstrap_inner\n",
      "    self.run()\n",
      "  File \"/home/ec2-user/uclresearchanalysis/configuration/data_access.py\", line 93, in run\n",
      "    crawlled_users = self._api.crawl_list_of_users(list(ids_not_found_portion))\n",
      "  File \"/home/ec2-user/uclresearchanalysis/configuration/crawl.py\", line 56, in crawl_list_of_users\n",
      "    return self._api.lookup_users(user_ids = twitter_user_id_list)\n",
      "  File \"/home/ec2-user/miniconda3/lib/python3.6/site-packages/tweepy/api.py\", line 322, in lookup_users\n",
      "    return self._lookup_users(post_data=post_data)\n",
      "  File \"/home/ec2-user/miniconda3/lib/python3.6/site-packages/tweepy/binder.py\", line 245, in _call\n",
      "    return method.execute()\n",
      "  File \"/home/ec2-user/miniconda3/lib/python3.6/site-packages/tweepy/binder.py\", line 229, in execute\n",
      "    raise TweepError(error_msg, resp, api_code=api_error_code)\n",
      "tweepy.error.TweepError: [{'code': 17, 'message': 'No user matches for specified terms.'}]\n",
      "\n"
     ]
    },
    {
     "name": "stdout",
     "output_type": "stream",
     "text": [
      "Rate limit reached. Sleeping for: 895\n",
      "2018-08-01 19:34:07.566158 - PhyuLTKuLUrjFn9fViNOIz6qf - Started Thread\n",
      "Rate limit reached. Sleeping for: 896\n",
      "2018-08-01 19:34:08.077789 - ZGlwIc8Lh1dgGY5VSuNlUuB1Z - Database result obtained\n",
      "2018-08-01 19:34:08.083567 - ZGlwIc8Lh1dgGY5VSuNlUuB1Z - 17 users not found, 4257 with no firends, 4693 with no followers\n",
      "2018-08-01 19:34:08.083631 - ZGlwIc8Lh1dgGY5VSuNlUuB1Z - Crawl new users\n"
     ]
    },
    {
     "name": "stderr",
     "output_type": "stream",
     "text": [
      "Exception in thread Thread-67:\n",
      "Traceback (most recent call last):\n",
      "  File \"/home/ec2-user/miniconda3/lib/python3.6/threading.py\", line 916, in _bootstrap_inner\n",
      "    self.run()\n",
      "  File \"/home/ec2-user/uclresearchanalysis/configuration/data_access.py\", line 93, in run\n",
      "    crawlled_users = self._api.crawl_list_of_users(list(ids_not_found_portion))\n",
      "  File \"/home/ec2-user/uclresearchanalysis/configuration/crawl.py\", line 56, in crawl_list_of_users\n",
      "    return self._api.lookup_users(user_ids = twitter_user_id_list)\n",
      "  File \"/home/ec2-user/miniconda3/lib/python3.6/site-packages/tweepy/api.py\", line 322, in lookup_users\n",
      "    return self._lookup_users(post_data=post_data)\n",
      "  File \"/home/ec2-user/miniconda3/lib/python3.6/site-packages/tweepy/binder.py\", line 245, in _call\n",
      "    return method.execute()\n",
      "  File \"/home/ec2-user/miniconda3/lib/python3.6/site-packages/tweepy/binder.py\", line 229, in execute\n",
      "    raise TweepError(error_msg, resp, api_code=api_error_code)\n",
      "tweepy.error.TweepError: [{'code': 17, 'message': 'No user matches for specified terms.'}]\n",
      "\n"
     ]
    },
    {
     "name": "stdout",
     "output_type": "stream",
     "text": [
      "2018-08-01 19:34:08.572176 - lq2gq4bPwqiXDCe2MbqBW2GEO - Started Thread\n",
      "2018-08-01 19:34:09.503952 - gYA6Hj2h0MZECFrRwkpKFMGB8 - Database result obtained\n",
      "2018-08-01 19:34:09.509859 - gYA6Hj2h0MZECFrRwkpKFMGB8 - 19 users not found, 4251 with no firends, 4680 with no followers\n",
      "2018-08-01 19:34:09.509924 - gYA6Hj2h0MZECFrRwkpKFMGB8 - Crawl new users\n",
      "2018-08-01 19:34:09.574542 - i46y6id3X6an9mca0YQ0vkTIs - Started Thread\n"
     ]
    },
    {
     "name": "stderr",
     "output_type": "stream",
     "text": [
      "/home/ec2-user/miniconda3/lib/python3.6/site-packages/pymysql/cursors.py:329: Warning: (1062, \"Duplicate entry 'LHP5150PhD' for key 'screen_name'\")\n",
      "  self._do_get_result()\n"
     ]
    },
    {
     "name": "stdout",
     "output_type": "stream",
     "text": [
      "2018-08-01 19:34:09.834522 - gYA6Hj2h0MZECFrRwkpKFMGB8 - Finished crawlling users\n",
      "2018-08-01 19:34:09.834605 - gYA6Hj2h0MZECFrRwkpKFMGB8 - Start crawl friends\n",
      "2018-08-01 19:34:10.194549 - 8MRrh7D5I0sZ3j6i79JAG0nFd - Database result obtained\n",
      "2018-08-01 19:34:10.201762 - 8MRrh7D5I0sZ3j6i79JAG0nFd - 20 users not found, 4299 with no firends, 4684 with no followers\n",
      "2018-08-01 19:34:10.204772 - 8MRrh7D5I0sZ3j6i79JAG0nFd - Crawl new users\n",
      "2018-08-01 19:34:10.576182 - mYqIhrgS0BXUdj2n970Z26Pwa - Started Thread\n",
      "2018-08-01 19:34:10.592712 - 8MRrh7D5I0sZ3j6i79JAG0nFd - Finished crawlling users\n",
      "2018-08-01 19:34:10.592760 - 8MRrh7D5I0sZ3j6i79JAG0nFd - Start crawl friends\n",
      "2018-08-01 19:34:11.570246 - uKlOhb9y0tDkVRwhH7EiIdG4A - Database result obtained\n",
      "2018-08-01 19:34:11.577396 - uKlOhb9y0tDkVRwhH7EiIdG4A - 12 users not found, 4202 with no firends, 4631 with no followers\n",
      "2018-08-01 19:34:11.577799 - uKlOhb9y0tDkVRwhH7EiIdG4A - Crawl new users\n",
      "2018-08-01 19:34:11.578983 - I22tkXmmxlxzFpJg1Yi7HqgLS - Started Thread\n",
      "[key:gYA6Hj2h0MZECFrRwkpKFMGB8]:TweepError - Not authorized.\n",
      "2018-08-01 19:34:12.032421 - uKlOhb9y0tDkVRwhH7EiIdG4A - Finished crawlling users\n",
      "2018-08-01 19:34:12.032525 - uKlOhb9y0tDkVRwhH7EiIdG4A - Start crawl friends\n",
      "[key:uKlOhb9y0tDkVRwhH7EiIdG4A]:TweepError - Not authorized.\n",
      "2018-08-01 19:34:12.580044 - 2Kg2opcsMcRzKn8IfGJeVS1c7 - Started Thread\n",
      "2018-08-01 19:34:12.783178 - CNeWWiNTqgV7vGq9dGCsYTRZc - Database result obtained\n",
      "2018-08-01 19:34:12.789994 - CNeWWiNTqgV7vGq9dGCsYTRZc - 29 users not found, 4202 with no firends, 4629 with no followers\n",
      "2018-08-01 19:34:12.790054 - CNeWWiNTqgV7vGq9dGCsYTRZc - Crawl new users\n"
     ]
    },
    {
     "name": "stderr",
     "output_type": "stream",
     "text": [
      "Exception in thread Thread-70:\n",
      "Traceback (most recent call last):\n",
      "  File \"/home/ec2-user/miniconda3/lib/python3.6/threading.py\", line 916, in _bootstrap_inner\n",
      "    self.run()\n",
      "  File \"/home/ec2-user/uclresearchanalysis/configuration/data_access.py\", line 93, in run\n",
      "    crawlled_users = self._api.crawl_list_of_users(list(ids_not_found_portion))\n",
      "  File \"/home/ec2-user/uclresearchanalysis/configuration/crawl.py\", line 56, in crawl_list_of_users\n",
      "    return self._api.lookup_users(user_ids = twitter_user_id_list)\n",
      "  File \"/home/ec2-user/miniconda3/lib/python3.6/site-packages/tweepy/api.py\", line 322, in lookup_users\n",
      "    return self._lookup_users(post_data=post_data)\n",
      "  File \"/home/ec2-user/miniconda3/lib/python3.6/site-packages/tweepy/binder.py\", line 245, in _call\n",
      "    return method.execute()\n",
      "  File \"/home/ec2-user/miniconda3/lib/python3.6/site-packages/tweepy/binder.py\", line 229, in execute\n",
      "    raise TweepError(error_msg, resp, api_code=api_error_code)\n",
      "tweepy.error.TweepError: [{'code': 17, 'message': 'No user matches for specified terms.'}]\n",
      "\n"
     ]
    },
    {
     "name": "stdout",
     "output_type": "stream",
     "text": [
      "[key:8MRrh7D5I0sZ3j6i79JAG0nFd]:TweepError - [{'code': 34, 'message': 'Sorry, that page does not exist.'}]\n",
      "2018-08-01 19:34:13.581647 - ANqP1F79UzF7OPaZAOegKwasU - Started Thread\n",
      "[key:8MRrh7D5I0sZ3j6i79JAG0nFd]:TweepError - [{'code': 34, 'message': 'Sorry, that page does not exist.'}]\n",
      "2018-08-01 19:34:14.583043 - m9TFBWJgkC8hRnqNhH5Qw2fyi - Started Thread\n",
      "[key:uKlOhb9y0tDkVRwhH7EiIdG4A]:TweepError - Not authorized.\n",
      "Rate limit reached. Sleeping for: 895\n",
      "[key:8MRrh7D5I0sZ3j6i79JAG0nFd]:TweepError - Not authorized.\n",
      "Rate limit reached. Sleeping for: 895\n",
      "2018-08-01 19:34:15.584070 - z2Sn7fEheYTP2vwXQUKgRgHiC - Started Thread\n",
      "2018-08-01 19:34:16.585712 - ikQfkEjJfKqafGDKtLNH2Sabe - Started Thread\n",
      "Rate limit reached. Sleeping for: 896\n",
      "2018-08-01 19:34:16.751539 - DLkheC0hFgzydp7JsubEUGLiZ - Database result obtained\n",
      "2018-08-01 19:34:16.757010 - DLkheC0hFgzydp7JsubEUGLiZ - 24 users not found, 4192 with no firends, 4617 with no followers\n",
      "2018-08-01 19:34:16.757793 - DLkheC0hFgzydp7JsubEUGLiZ - Crawl new users\n",
      "2018-08-01 19:34:17.284819 - DLkheC0hFgzydp7JsubEUGLiZ - Finished crawlling users\n",
      "2018-08-01 19:34:17.284899 - DLkheC0hFgzydp7JsubEUGLiZ - Start crawl friends\n",
      "2018-08-01 19:34:17.587111 - zOaASf7K8s1JeUYl551MTUKx8 - Started Thread\n",
      "2018-08-01 19:34:17.894891 - wEfv9N70ICpW1W5mMMneRIYh2 - Database result obtained\n",
      "2018-08-01 19:34:17.900568 - wEfv9N70ICpW1W5mMMneRIYh2 - 21 users not found, 4139 with no firends, 4601 with no followers\n",
      "2018-08-01 19:34:17.900842 - wEfv9N70ICpW1W5mMMneRIYh2 - Crawl new users\n",
      "2018-08-01 19:34:18.242055 - wEfv9N70ICpW1W5mMMneRIYh2 - Finished crawlling users\n",
      "2018-08-01 19:34:18.242123 - wEfv9N70ICpW1W5mMMneRIYh2 - Start crawl friends\n",
      "2018-08-01 19:34:20.593732 - VqUC0HlR9NPtHPpzPFWHFZEYE - Database result obtained\n",
      "2018-08-01 19:34:20.601920 - VqUC0HlR9NPtHPpzPFWHFZEYE - 22 users not found, 4212 with no firends, 4652 with no followers\n",
      "2018-08-01 19:34:20.602384 - VqUC0HlR9NPtHPpzPFWHFZEYE - Crawl new users\n"
     ]
    },
    {
     "name": "stderr",
     "output_type": "stream",
     "text": [
      "/home/ec2-user/miniconda3/lib/python3.6/site-packages/pymysql/cursors.py:329: Warning: (1062, \"Duplicate entry 'DeannaWAVY' for key 'screen_name'\")\n",
      "  self._do_get_result()\n"
     ]
    },
    {
     "name": "stdout",
     "output_type": "stream",
     "text": [
      "2018-08-01 19:34:21.012925 - 4fTqSj4XoWA2kaWWvzkrrvreY - Database result obtained\n",
      "2018-08-01 19:34:21.018417 - 4fTqSj4XoWA2kaWWvzkrrvreY - 19 users not found, 4205 with no firends, 4626 with no followers\n",
      "2018-08-01 19:34:21.018636 - 4fTqSj4XoWA2kaWWvzkrrvreY - Crawl new users\n",
      "2018-08-01 19:34:21.019206 - VqUC0HlR9NPtHPpzPFWHFZEYE - Finished crawlling users\n",
      "2018-08-01 19:34:21.019375 - VqUC0HlR9NPtHPpzPFWHFZEYE - Start crawl friends\n",
      "2018-08-01 19:34:21.394090 - 4fTqSj4XoWA2kaWWvzkrrvreY - Finished crawlling users\n",
      "2018-08-01 19:34:21.394337 - 4fTqSj4XoWA2kaWWvzkrrvreY - Start crawl friends\n",
      "Rate limit reached. Sleeping for: 895\n",
      "2018-08-01 19:34:22.350525 - KUTQbxB21jL2BqkysKTmcDGsb - Database result obtained\n",
      "2018-08-01 19:34:22.356544 - KUTQbxB21jL2BqkysKTmcDGsb - 25 users not found, 4212 with no firends, 4645 with no followers\n",
      "2018-08-01 19:34:22.356601 - KUTQbxB21jL2BqkysKTmcDGsb - Crawl new users\n",
      "[key:4fTqSj4XoWA2kaWWvzkrrvreY]:TweepError - Not authorized.\n"
     ]
    },
    {
     "name": "stderr",
     "output_type": "stream",
     "text": [
      "Exception in thread Thread-74:\n",
      "Traceback (most recent call last):\n",
      "  File \"/home/ec2-user/miniconda3/lib/python3.6/threading.py\", line 916, in _bootstrap_inner\n",
      "    self.run()\n",
      "  File \"/home/ec2-user/uclresearchanalysis/configuration/data_access.py\", line 93, in run\n",
      "    crawlled_users = self._api.crawl_list_of_users(list(ids_not_found_portion))\n",
      "  File \"/home/ec2-user/uclresearchanalysis/configuration/crawl.py\", line 56, in crawl_list_of_users\n",
      "    return self._api.lookup_users(user_ids = twitter_user_id_list)\n",
      "  File \"/home/ec2-user/miniconda3/lib/python3.6/site-packages/tweepy/api.py\", line 322, in lookup_users\n",
      "    return self._lookup_users(post_data=post_data)\n",
      "  File \"/home/ec2-user/miniconda3/lib/python3.6/site-packages/tweepy/binder.py\", line 245, in _call\n",
      "    return method.execute()\n",
      "  File \"/home/ec2-user/miniconda3/lib/python3.6/site-packages/tweepy/binder.py\", line 229, in execute\n",
      "    raise TweepError(error_msg, resp, api_code=api_error_code)\n",
      "tweepy.error.TweepError: [{'code': 17, 'message': 'No user matches for specified terms.'}]\n",
      "\n"
     ]
    },
    {
     "name": "stdout",
     "output_type": "stream",
     "text": [
      "Rate limit reached. Sleeping for: 895\n",
      "2018-08-01 19:34:23.281762 - PIxOZSqNaCMQO3QMCrPhuotE6 - Database result obtained\n",
      "2018-08-01 19:34:23.287974 - PIxOZSqNaCMQO3QMCrPhuotE6 - 24 users not found, 4252 with no firends, 4683 with no followers\n",
      "2018-08-01 19:34:23.288023 - PIxOZSqNaCMQO3QMCrPhuotE6 - Crawl new users\n"
     ]
    },
    {
     "name": "stderr",
     "output_type": "stream",
     "text": [
      "Exception in thread Thread-79:\n",
      "Traceback (most recent call last):\n",
      "  File \"/home/ec2-user/miniconda3/lib/python3.6/threading.py\", line 916, in _bootstrap_inner\n",
      "    self.run()\n",
      "  File \"/home/ec2-user/uclresearchanalysis/configuration/data_access.py\", line 93, in run\n",
      "    crawlled_users = self._api.crawl_list_of_users(list(ids_not_found_portion))\n",
      "  File \"/home/ec2-user/uclresearchanalysis/configuration/crawl.py\", line 56, in crawl_list_of_users\n",
      "    return self._api.lookup_users(user_ids = twitter_user_id_list)\n",
      "  File \"/home/ec2-user/miniconda3/lib/python3.6/site-packages/tweepy/api.py\", line 322, in lookup_users\n",
      "    return self._lookup_users(post_data=post_data)\n",
      "  File \"/home/ec2-user/miniconda3/lib/python3.6/site-packages/tweepy/binder.py\", line 245, in _call\n",
      "    return method.execute()\n",
      "  File \"/home/ec2-user/miniconda3/lib/python3.6/site-packages/tweepy/binder.py\", line 229, in execute\n",
      "    raise TweepError(error_msg, resp, api_code=api_error_code)\n",
      "tweepy.error.TweepError: [{'code': 17, 'message': 'No user matches for specified terms.'}]\n",
      "\n"
     ]
    },
    {
     "name": "stdout",
     "output_type": "stream",
     "text": [
      "2018-08-01 19:34:24.467534 - lq2gq4bPwqiXDCe2MbqBW2GEO - Database result obtained\n",
      "2018-08-01 19:34:24.472991 - lq2gq4bPwqiXDCe2MbqBW2GEO - 23 users not found, 4253 with no firends, 4689 with no followers\n",
      "2018-08-01 19:34:24.473808 - lq2gq4bPwqiXDCe2MbqBW2GEO - Crawl new users\n",
      "2018-08-01 19:34:24.789031 - lq2gq4bPwqiXDCe2MbqBW2GEO - Finished crawlling users\n",
      "2018-08-01 19:34:24.789263 - lq2gq4bPwqiXDCe2MbqBW2GEO - Start crawl friends\n",
      "Rate limit reached. Sleeping for: 896\n",
      "Rate limit reached. Sleeping for: 895\n",
      "2018-08-01 19:34:26.525202 - PhyuLTKuLUrjFn9fViNOIz6qf - Database result obtained\n",
      "2018-08-01 19:34:26.531099 - PhyuLTKuLUrjFn9fViNOIz6qf - 20 users not found, 4222 with no firends, 4658 with no followers\n",
      "2018-08-01 19:34:26.531305 - PhyuLTKuLUrjFn9fViNOIz6qf - Crawl new users\n"
     ]
    },
    {
     "name": "stderr",
     "output_type": "stream",
     "text": [
      "Exception in thread Thread-81:\n",
      "Traceback (most recent call last):\n",
      "  File \"/home/ec2-user/miniconda3/lib/python3.6/threading.py\", line 916, in _bootstrap_inner\n",
      "    self.run()\n",
      "  File \"/home/ec2-user/uclresearchanalysis/configuration/data_access.py\", line 93, in run\n",
      "    crawlled_users = self._api.crawl_list_of_users(list(ids_not_found_portion))\n",
      "  File \"/home/ec2-user/uclresearchanalysis/configuration/crawl.py\", line 56, in crawl_list_of_users\n",
      "    return self._api.lookup_users(user_ids = twitter_user_id_list)\n",
      "  File \"/home/ec2-user/miniconda3/lib/python3.6/site-packages/tweepy/api.py\", line 322, in lookup_users\n",
      "    return self._lookup_users(post_data=post_data)\n",
      "  File \"/home/ec2-user/miniconda3/lib/python3.6/site-packages/tweepy/binder.py\", line 245, in _call\n",
      "    return method.execute()\n",
      "  File \"/home/ec2-user/miniconda3/lib/python3.6/site-packages/tweepy/binder.py\", line 229, in execute\n",
      "    raise TweepError(error_msg, resp, api_code=api_error_code)\n",
      "tweepy.error.TweepError: [{'code': 17, 'message': 'No user matches for specified terms.'}]\n",
      "\n"
     ]
    },
    {
     "name": "stdout",
     "output_type": "stream",
     "text": [
      "2018-08-01 19:34:26.780086 - ANqP1F79UzF7OPaZAOegKwasU - Database result obtained\n",
      "2018-08-01 19:34:26.785724 - ANqP1F79UzF7OPaZAOegKwasU - 34 users not found, 4246 with no firends, 4678 with no followers\n",
      "2018-08-01 19:34:26.786130 - ANqP1F79UzF7OPaZAOegKwasU - Crawl new users\n"
     ]
    },
    {
     "name": "stderr",
     "output_type": "stream",
     "text": [
      "Exception in thread Thread-87:\n",
      "Traceback (most recent call last):\n",
      "  File \"/home/ec2-user/miniconda3/lib/python3.6/threading.py\", line 916, in _bootstrap_inner\n",
      "    self.run()\n",
      "  File \"/home/ec2-user/uclresearchanalysis/configuration/data_access.py\", line 93, in run\n",
      "    crawlled_users = self._api.crawl_list_of_users(list(ids_not_found_portion))\n",
      "  File \"/home/ec2-user/uclresearchanalysis/configuration/crawl.py\", line 56, in crawl_list_of_users\n",
      "    return self._api.lookup_users(user_ids = twitter_user_id_list)\n",
      "  File \"/home/ec2-user/miniconda3/lib/python3.6/site-packages/tweepy/api.py\", line 322, in lookup_users\n",
      "    return self._lookup_users(post_data=post_data)\n",
      "  File \"/home/ec2-user/miniconda3/lib/python3.6/site-packages/tweepy/binder.py\", line 245, in _call\n",
      "    return method.execute()\n",
      "  File \"/home/ec2-user/miniconda3/lib/python3.6/site-packages/tweepy/binder.py\", line 229, in execute\n",
      "    raise TweepError(error_msg, resp, api_code=api_error_code)\n",
      "tweepy.error.TweepError: [{'code': 17, 'message': 'No user matches for specified terms.'}]\n",
      "\n"
     ]
    },
    {
     "name": "stdout",
     "output_type": "stream",
     "text": [
      "2018-08-01 19:34:27.215272 - hZTJHYlbFkbPfBLupzdEtXJ2w - Database result obtained\n",
      "2018-08-01 19:34:27.222816 - hZTJHYlbFkbPfBLupzdEtXJ2w - 17 users not found, 4203 with no firends, 4666 with no followers\n",
      "2018-08-01 19:34:27.223116 - hZTJHYlbFkbPfBLupzdEtXJ2w - Crawl new users\n",
      "2018-08-01 19:34:27.397425 - i46y6id3X6an9mca0YQ0vkTIs - Database result obtained\n",
      "2018-08-01 19:34:27.402927 - i46y6id3X6an9mca0YQ0vkTIs - 21 users not found, 4225 with no firends, 4653 with no followers\n",
      "2018-08-01 19:34:27.403425 - i46y6id3X6an9mca0YQ0vkTIs - Crawl new users\n"
     ]
    },
    {
     "name": "stderr",
     "output_type": "stream",
     "text": [
      "Exception in thread Thread-77:\n",
      "Traceback (most recent call last):\n",
      "  File \"/home/ec2-user/miniconda3/lib/python3.6/threading.py\", line 916, in _bootstrap_inner\n",
      "    self.run()\n",
      "  File \"/home/ec2-user/uclresearchanalysis/configuration/data_access.py\", line 93, in run\n",
      "    crawlled_users = self._api.crawl_list_of_users(list(ids_not_found_portion))\n",
      "  File \"/home/ec2-user/uclresearchanalysis/configuration/crawl.py\", line 56, in crawl_list_of_users\n",
      "    return self._api.lookup_users(user_ids = twitter_user_id_list)\n",
      "  File \"/home/ec2-user/miniconda3/lib/python3.6/site-packages/tweepy/api.py\", line 322, in lookup_users\n",
      "    return self._lookup_users(post_data=post_data)\n",
      "  File \"/home/ec2-user/miniconda3/lib/python3.6/site-packages/tweepy/binder.py\", line 245, in _call\n",
      "    return method.execute()\n",
      "  File \"/home/ec2-user/miniconda3/lib/python3.6/site-packages/tweepy/binder.py\", line 229, in execute\n",
      "    raise TweepError(error_msg, resp, api_code=api_error_code)\n",
      "tweepy.error.TweepError: [{'code': 17, 'message': 'No user matches for specified terms.'}]\n",
      "\n",
      "Exception in thread Thread-83:\n",
      "Traceback (most recent call last):\n",
      "  File \"/home/ec2-user/miniconda3/lib/python3.6/threading.py\", line 916, in _bootstrap_inner\n",
      "    self.run()\n",
      "  File \"/home/ec2-user/uclresearchanalysis/configuration/data_access.py\", line 93, in run\n",
      "    crawlled_users = self._api.crawl_list_of_users(list(ids_not_found_portion))\n",
      "  File \"/home/ec2-user/uclresearchanalysis/configuration/crawl.py\", line 56, in crawl_list_of_users\n",
      "    return self._api.lookup_users(user_ids = twitter_user_id_list)\n",
      "  File \"/home/ec2-user/miniconda3/lib/python3.6/site-packages/tweepy/api.py\", line 322, in lookup_users\n",
      "    return self._lookup_users(post_data=post_data)\n",
      "  File \"/home/ec2-user/miniconda3/lib/python3.6/site-packages/tweepy/binder.py\", line 245, in _call\n",
      "    return method.execute()\n",
      "  File \"/home/ec2-user/miniconda3/lib/python3.6/site-packages/tweepy/binder.py\", line 229, in execute\n",
      "    raise TweepError(error_msg, resp, api_code=api_error_code)\n",
      "tweepy.error.TweepError: [{'code': 17, 'message': 'No user matches for specified terms.'}]\n",
      "\n"
     ]
    },
    {
     "name": "stdout",
     "output_type": "stream",
     "text": [
      "2018-08-01 19:34:27.712521 - mYqIhrgS0BXUdj2n970Z26Pwa - Database result obtained\n",
      "2018-08-01 19:34:27.718287 - mYqIhrgS0BXUdj2n970Z26Pwa - 26 users not found, 4201 with no firends, 4651 with no followers\n",
      "2018-08-01 19:34:27.718467 - mYqIhrgS0BXUdj2n970Z26Pwa - Crawl new users\n",
      "2018-08-01 19:34:27.880191 - I22tkXmmxlxzFpJg1Yi7HqgLS - Database result obtained\n",
      "2018-08-01 19:34:27.885964 - I22tkXmmxlxzFpJg1Yi7HqgLS - 19 users not found, 4193 with no firends, 4632 with no followers\n",
      "2018-08-01 19:34:27.887304 - I22tkXmmxlxzFpJg1Yi7HqgLS - Crawl new users\n",
      "2018-08-01 19:34:28.059369 - mYqIhrgS0BXUdj2n970Z26Pwa - Finished crawlling users\n",
      "2018-08-01 19:34:28.059452 - mYqIhrgS0BXUdj2n970Z26Pwa - Start crawl friends\n"
     ]
    },
    {
     "name": "stderr",
     "output_type": "stream",
     "text": [
      "Exception in thread Thread-85:\n",
      "Traceback (most recent call last):\n",
      "  File \"/home/ec2-user/miniconda3/lib/python3.6/threading.py\", line 916, in _bootstrap_inner\n",
      "    self.run()\n",
      "  File \"/home/ec2-user/uclresearchanalysis/configuration/data_access.py\", line 93, in run\n",
      "    crawlled_users = self._api.crawl_list_of_users(list(ids_not_found_portion))\n",
      "  File \"/home/ec2-user/uclresearchanalysis/configuration/crawl.py\", line 56, in crawl_list_of_users\n",
      "    return self._api.lookup_users(user_ids = twitter_user_id_list)\n",
      "  File \"/home/ec2-user/miniconda3/lib/python3.6/site-packages/tweepy/api.py\", line 322, in lookup_users\n",
      "    return self._lookup_users(post_data=post_data)\n",
      "  File \"/home/ec2-user/miniconda3/lib/python3.6/site-packages/tweepy/binder.py\", line 245, in _call\n",
      "    return method.execute()\n",
      "  File \"/home/ec2-user/miniconda3/lib/python3.6/site-packages/tweepy/binder.py\", line 229, in execute\n",
      "    raise TweepError(error_msg, resp, api_code=api_error_code)\n",
      "tweepy.error.TweepError: [{'code': 17, 'message': 'No user matches for specified terms.'}]\n",
      "\n"
     ]
    },
    {
     "name": "stdout",
     "output_type": "stream",
     "text": [
      "2018-08-01 19:34:28.544586 - 2WOZq64LCqxzz506rErLurE5O - Database result obtained\n",
      "2018-08-01 19:34:28.550356 - 2WOZq64LCqxzz506rErLurE5O - 21 users not found, 4171 with no firends, 4608 with no followers\n",
      "2018-08-01 19:34:28.550889 - 2WOZq64LCqxzz506rErLurE5O - Crawl new users\n",
      "2018-08-01 19:34:28.580130 - m9TFBWJgkC8hRnqNhH5Qw2fyi - Database result obtained\n",
      "2018-08-01 19:34:28.586144 - m9TFBWJgkC8hRnqNhH5Qw2fyi - 20 users not found, 4289 with no firends, 4702 with no followers\n",
      "2018-08-01 19:34:28.587014 - m9TFBWJgkC8hRnqNhH5Qw2fyi - Crawl new users\n",
      "2018-08-01 19:34:28.643642 - ikQfkEjJfKqafGDKtLNH2Sabe - Database result obtained\n",
      "2018-08-01 19:34:28.649174 - ikQfkEjJfKqafGDKtLNH2Sabe - 19 users not found, 4192 with no firends, 4636 with no followers\n",
      "2018-08-01 19:34:28.649308 - ikQfkEjJfKqafGDKtLNH2Sabe - Crawl new users\n",
      "2018-08-01 19:34:28.653011 - 2Kg2opcsMcRzKn8IfGJeVS1c7 - Database result obtained\n",
      "2018-08-01 19:34:28.658734 - 2Kg2opcsMcRzKn8IfGJeVS1c7 - 30 users not found, 4250 with no firends, 4646 with no followers\n",
      "2018-08-01 19:34:28.658865 - 2Kg2opcsMcRzKn8IfGJeVS1c7 - Crawl new users\n"
     ]
    },
    {
     "name": "stderr",
     "output_type": "stream",
     "text": [
      "Exception in thread Thread-78:\n",
      "Traceback (most recent call last):\n",
      "  File \"/home/ec2-user/miniconda3/lib/python3.6/threading.py\", line 916, in _bootstrap_inner\n",
      "    self.run()\n",
      "  File \"/home/ec2-user/uclresearchanalysis/configuration/data_access.py\", line 93, in run\n",
      "    crawlled_users = self._api.crawl_list_of_users(list(ids_not_found_portion))\n",
      "  File \"/home/ec2-user/uclresearchanalysis/configuration/crawl.py\", line 56, in crawl_list_of_users\n",
      "    return self._api.lookup_users(user_ids = twitter_user_id_list)\n",
      "  File \"/home/ec2-user/miniconda3/lib/python3.6/site-packages/tweepy/api.py\", line 322, in lookup_users\n",
      "    return self._lookup_users(post_data=post_data)\n",
      "  File \"/home/ec2-user/miniconda3/lib/python3.6/site-packages/tweepy/binder.py\", line 245, in _call\n",
      "    return method.execute()\n",
      "  File \"/home/ec2-user/miniconda3/lib/python3.6/site-packages/tweepy/binder.py\", line 229, in execute\n",
      "    raise TweepError(error_msg, resp, api_code=api_error_code)\n",
      "tweepy.error.TweepError: [{'code': 17, 'message': 'No user matches for specified terms.'}]\n",
      "\n",
      "Exception in thread Thread-90:\n",
      "Traceback (most recent call last):\n",
      "  File \"/home/ec2-user/miniconda3/lib/python3.6/threading.py\", line 916, in _bootstrap_inner\n",
      "    self.run()\n",
      "  File \"/home/ec2-user/uclresearchanalysis/configuration/data_access.py\", line 93, in run\n",
      "    crawlled_users = self._api.crawl_list_of_users(list(ids_not_found_portion))\n",
      "  File \"/home/ec2-user/uclresearchanalysis/configuration/crawl.py\", line 56, in crawl_list_of_users\n",
      "    return self._api.lookup_users(user_ids = twitter_user_id_list)\n",
      "  File \"/home/ec2-user/miniconda3/lib/python3.6/site-packages/tweepy/api.py\", line 322, in lookup_users\n",
      "    return self._lookup_users(post_data=post_data)\n",
      "  File \"/home/ec2-user/miniconda3/lib/python3.6/site-packages/tweepy/binder.py\", line 245, in _call\n",
      "    return method.execute()\n",
      "  File \"/home/ec2-user/miniconda3/lib/python3.6/site-packages/tweepy/binder.py\", line 229, in execute\n",
      "    raise TweepError(error_msg, resp, api_code=api_error_code)\n",
      "tweepy.error.TweepError: [{'code': 17, 'message': 'No user matches for specified terms.'}]\n",
      "\n"
     ]
    },
    {
     "name": "stdout",
     "output_type": "stream",
     "text": [
      "2018-08-01 19:34:28.870839 - m9TFBWJgkC8hRnqNhH5Qw2fyi - Finished crawlling users\n",
      "2018-08-01 19:34:28.870902 - m9TFBWJgkC8hRnqNhH5Qw2fyi - Start crawl friends\n",
      "2018-08-01 19:34:28.969443 - 2Kg2opcsMcRzKn8IfGJeVS1c7 - Finished crawlling users\n",
      "2018-08-01 19:34:28.969503 - 2Kg2opcsMcRzKn8IfGJeVS1c7 - Start crawl friends\n",
      "Rate limit reached. Sleeping for: 895\n",
      "2018-08-01 19:34:29.302769 - z2Sn7fEheYTP2vwXQUKgRgHiC - Database result obtained\n",
      "2018-08-01 19:34:29.307878 - z2Sn7fEheYTP2vwXQUKgRgHiC - 24 users not found, 4208 with no firends, 4620 with no followers\n",
      "2018-08-01 19:34:29.308159 - z2Sn7fEheYTP2vwXQUKgRgHiC - Crawl new users\n"
     ]
    },
    {
     "name": "stderr",
     "output_type": "stream",
     "text": [
      "Exception in thread Thread-89:\n",
      "Traceback (most recent call last):\n",
      "  File \"/home/ec2-user/miniconda3/lib/python3.6/threading.py\", line 916, in _bootstrap_inner\n",
      "    self.run()\n",
      "  File \"/home/ec2-user/uclresearchanalysis/configuration/data_access.py\", line 93, in run\n",
      "    crawlled_users = self._api.crawl_list_of_users(list(ids_not_found_portion))\n",
      "  File \"/home/ec2-user/uclresearchanalysis/configuration/crawl.py\", line 56, in crawl_list_of_users\n",
      "    return self._api.lookup_users(user_ids = twitter_user_id_list)\n",
      "  File \"/home/ec2-user/miniconda3/lib/python3.6/site-packages/tweepy/api.py\", line 322, in lookup_users\n",
      "    return self._lookup_users(post_data=post_data)\n",
      "  File \"/home/ec2-user/miniconda3/lib/python3.6/site-packages/tweepy/binder.py\", line 245, in _call\n",
      "    return method.execute()\n",
      "  File \"/home/ec2-user/miniconda3/lib/python3.6/site-packages/tweepy/binder.py\", line 229, in execute\n",
      "    raise TweepError(error_msg, resp, api_code=api_error_code)\n",
      "tweepy.error.TweepError: [{'code': 17, 'message': 'No user matches for specified terms.'}]\n",
      "\n"
     ]
    },
    {
     "name": "stdout",
     "output_type": "stream",
     "text": [
      "2018-08-01 19:34:30.146650 - zOaASf7K8s1JeUYl551MTUKx8 - Database result obtained\n",
      "2018-08-01 19:34:30.152118 - zOaASf7K8s1JeUYl551MTUKx8 - 28 users not found, 4204 with no firends, 4625 with no followers\n",
      "2018-08-01 19:34:30.152170 - zOaASf7K8s1JeUYl551MTUKx8 - Crawl new users\n"
     ]
    },
    {
     "name": "stderr",
     "output_type": "stream",
     "text": [
      "Exception in thread Thread-91:\n",
      "Traceback (most recent call last):\n",
      "  File \"/home/ec2-user/miniconda3/lib/python3.6/threading.py\", line 916, in _bootstrap_inner\n",
      "    self.run()\n",
      "  File \"/home/ec2-user/uclresearchanalysis/configuration/data_access.py\", line 93, in run\n",
      "    crawlled_users = self._api.crawl_list_of_users(list(ids_not_found_portion))\n",
      "  File \"/home/ec2-user/uclresearchanalysis/configuration/crawl.py\", line 56, in crawl_list_of_users\n",
      "    return self._api.lookup_users(user_ids = twitter_user_id_list)\n",
      "  File \"/home/ec2-user/miniconda3/lib/python3.6/site-packages/tweepy/api.py\", line 322, in lookup_users\n",
      "    return self._lookup_users(post_data=post_data)\n",
      "  File \"/home/ec2-user/miniconda3/lib/python3.6/site-packages/tweepy/binder.py\", line 245, in _call\n",
      "    return method.execute()\n",
      "  File \"/home/ec2-user/miniconda3/lib/python3.6/site-packages/tweepy/binder.py\", line 229, in execute\n",
      "    raise TweepError(error_msg, resp, api_code=api_error_code)\n",
      "tweepy.error.TweepError: [{'code': 17, 'message': 'No user matches for specified terms.'}]\n",
      "\n"
     ]
    },
    {
     "name": "stdout",
     "output_type": "stream",
     "text": [
      "Rate limit reached. Sleeping for: 896\n",
      "Rate limit reached. Sleeping for: 897\n",
      "Rate limit reached. Sleeping for: 896\n",
      "[key:Imk26gt1YacAmZqsBvwXNNZp1]:TweepError - Not authorized.\n",
      "[key:Imk26gt1YacAmZqsBvwXNNZp1]:TweepError - Not authorized.\n",
      "Rate limit reached. Sleeping for: 896\n"
     ]
    }
   ],
   "source": [
    "# Crawl infected\n",
    "unique_tweets = config.load_tweets_dataframe()\n",
    "infected_user_set = set(unique_tweets.user_id)\n",
    "config.dump_infected_user_ids(infected_user_set)\n",
    "crawl_infected_users = dataAccessManager.get_users(list(infected_user_set))\n",
    "display(crawl_infected_users.head())"
   ]
  },
  {
   "cell_type": "code",
   "execution_count": null,
   "metadata": {},
   "outputs": [],
   "source": [
    "try:\n",
    "    already_in_file_ids = set(config.load_exposed_user_ids_selected())\n",
    "except:\n",
    "    already_in_file_ids = set([])"
   ]
  },
  {
   "cell_type": "code",
   "execution_count": null,
   "metadata": {},
   "outputs": [],
   "source": [
    "nested_level1_followers = [json.loads(sublist) for sublist in crawl_infected_users.followers_json]\n",
    "level1_followers = set([item for sublist in nested_level1_followers for item in sublist])\n",
    "level1_exposed_but_not_infected_followers = level1_followers - infected_user_set - already_in_file_ids"
   ]
  },
  {
   "cell_type": "code",
   "execution_count": null,
   "metadata": {},
   "outputs": [],
   "source": [
    "twitterDatabase.connect()\n",
    "found_ids = twitterDatabase.queryTwitterUsersIdsFound(list(level1_exposed_but_not_infected_followers))\n",
    "twitterDatabase.close()"
   ]
  },
  {
   "cell_type": "code",
   "execution_count": null,
   "metadata": {},
   "outputs": [],
   "source": [
    "found_ids_set = set([x['id'] for x in found_ids])"
   ]
  },
  {
   "cell_type": "code",
   "execution_count": null,
   "metadata": {},
   "outputs": [],
   "source": [
    "number_of_users_to_crawl = math.ceil(len(infected_user_set) * 0.1)"
   ]
  },
  {
   "cell_type": "code",
   "execution_count": null,
   "metadata": {},
   "outputs": [],
   "source": [
    "if len(found_ids_set) >= number_of_users_to_crawl:\n",
    "    planning_to_crawl = set(\n",
    "        [x for x in random.sample(found_ids_set, number_of_users_to_crawl\n",
    "                                  - len(already_in_file_ids))]) | already_in_file_ids\n",
    "else:\n",
    "    planning_to_crawl = found_ids_set"
   ]
  },
  {
   "cell_type": "code",
   "execution_count": null,
   "metadata": {},
   "outputs": [],
   "source": [
    "config.dump_exposed_user_ids_selected(planning_to_crawl)\n",
    "print(len(planning_to_crawl))"
   ]
  }
 ],
 "metadata": {
  "kernelspec": {
   "display_name": "Python 3",
   "language": "python",
   "name": "python3"
  },
  "language_info": {
   "codemirror_mode": {
    "name": "ipython",
    "version": 3
   },
   "file_extension": ".py",
   "mimetype": "text/x-python",
   "name": "python",
   "nbconvert_exporter": "python",
   "pygments_lexer": "ipython3",
   "version": "3.6.6"
  }
 },
 "nbformat": 4,
 "nbformat_minor": 2
}
