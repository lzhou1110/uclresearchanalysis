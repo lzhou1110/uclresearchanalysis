{
 "cells": [
  {
   "cell_type": "code",
   "execution_count": 2,
   "metadata": {},
   "outputs": [
    {
     "name": "stdout",
     "output_type": "stream",
     "text": [
      "/home/ec2-user/uclresearchanalysis\n"
     ]
    }
   ],
   "source": [
    "cd .."
   ]
  },
  {
   "cell_type": "code",
   "execution_count": 3,
   "metadata": {},
   "outputs": [
    {
     "name": "stdout",
     "output_type": "stream",
     "text": [
      "('Reading config file from location: '\n",
      " '/home/ec2-user/uclresearchanalysis/configuration/env.properties')\n",
      "{'calculate': {'analysis': True,\n",
      "               'friends': True,\n",
      "               'network': True,\n",
      "               'uniquetweets': True,\n",
      "               'uniqueusers': True},\n",
      " 'data': {'dates': ['2018-03-13', '2018-03-14', '2018-03-15'],\n",
      "          'eventname': \"hawking's death\",\n",
      "          'phrases': ['stephen%20hawking%20death',\n",
      "                      'stephen%20hawking%20die',\n",
      "                      'stephen%20hawking%20passed%20away'],\n",
      "          'starttime': 'Mar 13 12:00:00 -0500 2018'},\n",
      " 'path': {'cwd': '/home/ec2-user/uclresearchanalysis/data/hawking',\n",
      "          'ml': '/home/ec2-user/uclresearchanalysis/data/hawking/pickle',\n",
      "          'networkx': {'all': '/home/ec2-user/uclresearchanalysis/data/hawking/pickle/networkx_all.dat',\n",
      "                       'friends': '/home/ec2-user/uclresearchanalysis/data/hawking/pickle/networkx_friends.dat',\n",
      "                       'potential': '/home/ec2-user/uclresearchanalysis/data/hawking/pickle/networkx_potential.dat'},\n",
      "          'newcrawl': '/home/ec2-user/uclresearchanalysis/other/newcrawl.dat',\n",
      "          'pickle': {'friends': '/home/ec2-user/uclresearchanalysis/data/hawking/pickle/friends.dat',\n",
      "                     'needcrawl': '/home/ec2-user/uclresearchanalysis/data/hawking/pickle/needcrawl.dat',\n",
      "                     'network': '/home/ec2-user/uclresearchanalysis/data/hawking/pickle/network.dat',\n",
      "                     'tweets': '/home/ec2-user/uclresearchanalysis/data/hawking/pickle/tweets.dat',\n",
      "                     'users': '/home/ec2-user/uclresearchanalysis/data/hawking/pickle/users.dat'},\n",
      "          'result': '/home/ec2-user/uclresearchanalysis/data/hawking/result',\n",
      "          'twitter': '/home/ec2-user/uclresearchanalysis/data/hawking/twitter'},\n",
      " 'save_to_file': 'False',\n",
      " 'timeframe': '1440'}\n"
     ]
    }
   ],
   "source": [
    "import builtins\n",
    "# builtins.uclresearch_topic = 'GIVENCHY'\n",
    "builtins.uclresearch_topic = 'HAWKING'\n",
    "# builtins.uclresearch_topic = 'NYC'\n",
    "# builtins.uclresearch_topic = 'FLORIDA'\n",
    "from configuration import config"
   ]
  },
  {
   "cell_type": "code",
   "execution_count": 4,
   "metadata": {},
   "outputs": [],
   "source": [
    "%matplotlib inline\n",
    "from sklearn.feature_selection import SelectKBest\n",
    "from sklearn.feature_selection import chi2\n",
    "from sklearn.linear_model import LogisticRegression,LinearRegression\n",
    "from sklearn.ensemble import GradientBoostingClassifier,RandomForestClassifier\n",
    "from sklearn.naive_bayes import GaussianNB\n",
    "from sklearn.model_selection import *\n",
    "from sklearn.metrics import *\n",
    "from sklearn import svm\n",
    "from pandas import *\n",
    "import pandas as pd\n",
    "from pprint import pprint\n",
    "import sys\n",
    "import numpy as np\n",
    "import matplotlib.pyplot as plt"
   ]
  },
  {
   "cell_type": "code",
   "execution_count": 5,
   "metadata": {},
   "outputs": [],
   "source": [
    "# Parameters\n",
    "interval = 30\n",
    "\n",
    "# 1. Prepare\n",
    "def prepare_data(interval):\n",
    "    df = config.load_ml_data(interval)\n",
    "    df = df.reset_index(drop=True)\n",
    "    \n",
    "    # Converting all type to float, to prepare for feature selection\n",
    "    df = df.astype('float')\n",
    "    # Reset index, with drop equals to true to avoid setting old index as a new column\n",
    "    df = df.reset_index(drop=True)\n",
    "    # Visualize distribution\n",
    "    print('[Original] data counts, with uninfected (0): {}, infected (1): {}'.format(\n",
    "        df['label'].value_counts()[0],\n",
    "        df['label'].value_counts()[1]\n",
    "    ))\n",
    "    df.groupby(['TwM_tCurrent','label']).size().unstack(fill_value=0).plot.bar(title='Original Data Distribution')\n",
    "    \n",
    "    columns = list(df.columns)\n",
    "    columns.remove('label')\n",
    "    \n",
    "    X = df[columns]\n",
    "    y = df[['label']]\n",
    "    return df, X, y\n"
   ]
  },
  {
   "cell_type": "code",
   "execution_count": 6,
   "metadata": {},
   "outputs": [
    {
     "name": "stdout",
     "output_type": "stream",
     "text": [
      "Loading data file from path /home/ec2-user/uclresearchanalysis/data/hawking/pickle/30_data.dat\n",
      "'Loaded 4828104 entires'\n",
      "[Original] data counts, with uninfected (0): 1821013, infected (1): 3007091\n"
     ]
    },
    {
     "data": {
      "image/png": "[encoded data removed]",
      "text/plain": [
       "<Figure size 432x288 with 1 Axes>"
      ]
     },
     "metadata": {},
     "output_type": "display_data"
    }
   ],
   "source": [
    "# 1. Prepare\n",
    "df, X, y = prepare_data(interval)"
   ]
  },
  {
   "cell_type": "code",
   "execution_count": 7,
   "metadata": {},
   "outputs": [
    {
     "data": {
      "text/plain": [
       "67"
      ]
     },
     "execution_count": 7,
     "metadata": {},
     "output_type": "execute_result"
    }
   ],
   "source": [
    "len(X.columns)"
   ]
  },
  {
   "cell_type": "code",
   "execution_count": 8,
   "metadata": {},
   "outputs": [],
   "source": [
    "def train(df, X, y, model, n_folds, model_name='Unknown'):\n",
    "    # 2. N Fold Split\n",
    "    # Stratified K-Folds cross-validator\n",
    "    # Provides train/test indices to split data in train/test sets. \n",
    "    # This cross-validation object is a variation of KFold that returns stratified folds. \n",
    "    # The folds are made by preserving the percentage of samples for each class.\n",
    "    skf = StratifiedKFold(n_splits=n_folds, shuffle=True)\n",
    "    \n",
    "    corrDataframe = pd.DataFrame()    \n",
    "    mse = []\n",
    "    acc = []\n",
    "    roc = []\n",
    "    F1 = []\n",
    "    auc = []\n",
    "    acc_t = []\n",
    "    fold_count = 0\n",
    "    t_current = 210\n",
    "#     number_of_features = len(X.columns)\n",
    "    number_of_features = 60\n",
    "\n",
    "    print(\"Start cross validation\")\n",
    "    for train, test in skf.split(X, y):\n",
    "        print(\"===Processing fold %s===\" % fold_count)\n",
    "        train_fold = df.loc[train]\n",
    "        test_fold = df.loc[test]\n",
    "\n",
    "        # 3. Rebalance (Up-sampling)\n",
    "        diff = sum(train_fold.label == 1) - sum(train_fold.label == 0)\n",
    "        append_indices = np.random.choice(train_fold[train_fold.label == 0].index, diff, replace=True)\n",
    "        new_sample = train_fold.loc[append_indices,:]\n",
    "        train_fold = pd.concat([train_fold, new_sample])\n",
    "        train_fold = train_fold.reset_index(drop=True)\n",
    "        print('[Up-sampling] data counts, with uninfected (0): {}, infected (1): {}'.format(\n",
    "            train_fold['label'].value_counts()[0],\n",
    "            train_fold['label'].value_counts()[1],\n",
    "        ))\n",
    "        \n",
    "        # 4. Feature Selection\n",
    "        corr = train_fold.corr()['label'][train_fold.corr()['label'] < 1].abs()\n",
    "        corr = corr.sort_values(ascending=False)\n",
    "        corrDataframe = corrDataframe.append(pd.DataFrame(corr.rename('cv{}'.format(fold_count))).T)\n",
    "\n",
    "        features = corr.index[range(number_of_features)].values\n",
    "#         train_fold_input  = SelectKBest(chi2, k=50).fit_transform(train_fold[X.columns], train_fold['label'])\n",
    "        print(\"Features selected: {}\".format(features))\n",
    "        train_fold_input = train_fold[features]\n",
    "        train_fold_output = train_fold['label']\n",
    "        \n",
    "        # 5. Training\n",
    "        model.fit(train_fold_input, train_fold_output)\n",
    "        config.dump_ml_model(model, '{}_{}'.format(model_name, fold_count))\n",
    "\n",
    "        # 6. Testing\n",
    "        # Check MSE on test set\n",
    "        test_fold_t = test_fold[test_fold.TwM_tCurrent == t_current]\n",
    "        pred = model.predict(test_fold[features])\n",
    "        pred_t = model.predict(test_fold_t[features])\n",
    "        mse.append(mean_squared_error(test_fold.label, pred))\n",
    "        acc.append(accuracy_score(test_fold.label, pred))\n",
    "        roc.append(roc_auc_score(test_fold.label, pred))\n",
    "        F1.append(f1_score(test_fold.label,pred))\n",
    "        acc_t.append(accuracy_score(test_fold_t.label, pred_t))\n",
    "        cm = confusion_matrix(test_fold.label, pred)\n",
    "        print(cm)\n",
    "\n",
    "        # Done with the fold\n",
    "        fold_count += 1\n",
    "    print(\"Finished cross validation\")\n",
    "    print(\"MSE: {} \".format(DataFrame(mse).mean()))\n",
    "    print(\"ACC: {} \".format(DataFrame(acc).mean()))\n",
    "    print(\"AUC: {} \".format(DataFrame(roc).mean()))\n",
    "    print(\"F1: {} \".format(DataFrame(F1).mean()))\n",
    "    print(\"ACC for t at {}: {} \".format(t_current, DataFrame(acc_t).mean()))\n",
    "    corrDataframe = corrDataframe.T\n",
    "    corrDataframe['average corr'] = corrDataframe.mean(numeric_only=True, axis=1)\n",
    "    print(corrDataframe.sort_values(by=['average corr'], ascending=False).to_string())\n",
    "    return model"
   ]
  },
  {
   "cell_type": "code",
   "execution_count": null,
   "metadata": {},
   "outputs": [],
   "source": [
    "# Naive Bayes\n",
    "train(df, X, y, GaussianNB(), 10， 'GaussianNB')"
   ]
  },
  {
   "cell_type": "code",
   "execution_count": null,
   "metadata": {},
   "outputs": [],
   "source": [
    "# Logistic Regression\n",
    "train(df, X, y, LogisticRegression(), 10, 'LogisticRegression')\n"
   ]
  },
  {
   "cell_type": "code",
   "execution_count": 9,
   "metadata": {},
   "outputs": [
    {
     "name": "stdout",
     "output_type": "stream",
     "text": [
      "Start cross validation\n",
      "===Processing fold 0===\n",
      "[Up-sampling] data counts, with uninfected (0): 163003, infected (1): 163003\n",
      "Features selected: ['TwM_t0' 'TwM_tCurrent' 'Stat_average_t' 'TwM_t-1'\n",
      " 'Nw_outDegreeCentrality-1' 'Nw_degreeCentrality-1' 'Stat_min_kOut'\n",
      " 'Stat_average_kOut' 'Nw_inDegreeCentrality-1'\n",
      " 'UsM_normalizedUserFriendsCount-1' 'UsM_friendsCount-1'\n",
      " 'Stat_average_friendsCount' 'Stat_average_normalizedUserFriendsCount'\n",
      " 'Nw_eigenvectorCentrality-1' 'Nw_nNodes' 'Stat_average_deltaDays'\n",
      " 'UsM_deltaDays-1' 'Nw_averageNeighborDegree'\n",
      " 'UsM_normalizedUserListedCount-1' 'Nw_averageNeighborDegree-1'\n",
      " 'UsM_listedCount-1' 'UsM_favouritesCount0'\n",
      " 'UsM_normalizedUserFavouritesCount0' 'UsM_followersCount0'\n",
      " 'UsM_normalizedUserFollowersCount0' 'UsM_listedCount0'\n",
      " 'UsM_normalizedUserFriendsCount0' 'UsM_normalizedUserListedCount0'\n",
      " 'UsM_friendsCount0' 'Nw_outDegreeCentrality0' 'Nw_degreeCentrality0'\n",
      " 'Nw_inDegreeCentrality0' 'Nw_eigenvectorCentrality0' 'UsM_deltaDays'\n",
      " 'UsM_normalizedUserFollowersCount-1' 'UsM_normalizedUserStatusesCount0'\n",
      " 'UsM_friendsCount' 'UsM_followersCount-1'\n",
      " 'Stat_average_normalizedUserListedCount' 'UsM_deltaDays0'\n",
      " 'Nw_outDegreeCentrality' 'Nw_degreeCentrality' 'Stat_average_listedCount'\n",
      " 'Stat_average_normalizedUserStatusesCount' 'Stat_average_favouritesCount'\n",
      " 'Stat_average_statusesCount' 'Stat_average_normalizedUserFollowersCount'\n",
      " 'UsM_statusesCount0' 'UsM_normalizedUserStatusesCount'\n",
      " 'UsM_normalizedUserFavouritesCount' 'UsM_normalizedUserListedCount'\n",
      " 'UsM_normalizedUserFavouritesCount-1' 'UsM_followersCount'\n",
      " 'Stat_max_kOut' 'Nw_averageNeighborDegree0' 'UsM_statusesCount'\n",
      " 'Nw_eigenvectorCentrality' 'Stat_average_followersCount'\n",
      " 'Nw_inDegreeCentrality' 'Stat_average_normalizedUserFavouritesCount']\n",
      "Dumping data to path /home/ec2-user/uclresearchanalysis/data/givenchy/pickle/RandomForest_0_model.dat\n",
      "('Finished dumping data to path '\n",
      " '/home/ec2-user/uclresearchanalysis/data/givenchy/pickle/RandomForest_0_model.dat')\n",
      "[[ 4286   301]\n",
      " [  648 17464]]\n",
      "===Processing fold 1===\n",
      "[Up-sampling] data counts, with uninfected (0): 163003, infected (1): 163003\n"
     ]
    },
    {
     "name": "stderr",
     "output_type": "stream",
     "text": [
      "/home/ec2-user/miniconda3/lib/python3.6/site-packages/pandas/core/frame.py:6211: FutureWarning: Sorting because non-concatenation axis is not aligned. A future version\n",
      "of pandas will change to not sort by default.\n",
      "\n",
      "To accept the future behavior, pass 'sort=False'.\n",
      "\n",
      "To retain the current behavior and silence the warning, pass 'sort=True'.\n",
      "\n",
      "  sort=sort)\n"
     ]
    },
    {
     "name": "stdout",
     "output_type": "stream",
     "text": [
      "Features selected: ['TwM_t0' 'TwM_tCurrent' 'Stat_average_t' 'TwM_t-1'\n",
      " 'Nw_outDegreeCentrality-1' 'Nw_degreeCentrality-1' 'Stat_min_kOut'\n",
      " 'Stat_average_kOut' 'Nw_inDegreeCentrality-1'\n",
      " 'UsM_normalizedUserFriendsCount-1' 'UsM_friendsCount-1'\n",
      " 'Stat_average_friendsCount' 'Stat_average_normalizedUserFriendsCount'\n",
      " 'Nw_eigenvectorCentrality-1' 'Nw_nNodes' 'Stat_average_deltaDays'\n",
      " 'UsM_deltaDays-1' 'Nw_averageNeighborDegree'\n",
      " 'UsM_normalizedUserListedCount-1' 'Nw_averageNeighborDegree-1'\n",
      " 'UsM_listedCount-1' 'UsM_favouritesCount0'\n",
      " 'UsM_normalizedUserFavouritesCount0' 'UsM_normalizedUserFriendsCount0'\n",
      " 'UsM_normalizedUserFollowersCount-1' 'UsM_friendsCount0'\n",
      " 'Nw_outDegreeCentrality0' 'Nw_degreeCentrality0' 'UsM_followersCount0'\n",
      " 'UsM_deltaDays' 'UsM_normalizedUserFollowersCount0'\n",
      " 'Nw_inDegreeCentrality0' 'Nw_eigenvectorCentrality0' 'UsM_listedCount0'\n",
      " 'UsM_normalizedUserListedCount0' 'Stat_average_normalizedUserListedCount'\n",
      " 'UsM_followersCount-1' 'UsM_normalizedUserStatusesCount0'\n",
      " 'UsM_friendsCount' 'Stat_average_listedCount' 'Nw_outDegreeCentrality'\n",
      " 'UsM_deltaDays0' 'Nw_degreeCentrality'\n",
      " 'Stat_average_normalizedUserFollowersCount'\n",
      " 'UsM_normalizedUserFavouritesCount-1' 'Stat_average_statusesCount'\n",
      " 'Stat_average_followersCount' 'UsM_normalizedUserStatusesCount'\n",
      " 'Stat_average_normalizedUserStatusesCount' 'UsM_statusesCount0'\n",
      " 'UsM_statusesCount' 'Stat_max_kOut' 'Stat_average_favouritesCount'\n",
      " 'UsM_normalizedUserListedCount' 'UsM_normalizedUserFavouritesCount'\n",
      " 'UsM_followersCount' 'UsM_normalizedUserStatusesCount-1'\n",
      " 'Nw_inDegreeCentrality' 'Nw_eigenvectorCentrality'\n",
      " 'UsM_favouritesCount-1']\n"
     ]
    },
    {
     "ename": "KeyboardInterrupt",
     "evalue": "",
     "output_type": "error",
     "traceback": [
      "\u001b[0;31m---------------------------------------------------------------------------\u001b[0m",
      "\u001b[0;31mKeyboardInterrupt\u001b[0m                         Traceback (most recent call last)",
      "\u001b[0;32m<ipython-input-9-346b164f8543>\u001b[0m in \u001b[0;36m<module>\u001b[0;34m()\u001b[0m\n\u001b[1;32m      1\u001b[0m \u001b[0;31m# Random Forest 10 folds\u001b[0m\u001b[0;34m\u001b[0m\u001b[0;34m\u001b[0m\u001b[0m\n\u001b[1;32m      2\u001b[0m rf_10 = train(df, X, y, RandomForestClassifier(n_estimators= 100,min_samples_split=2,\n\u001b[0;32m----> 3\u001b[0;31m                                   min_samples_leaf=1,random_state=10), 10, 'RandomForest')\n\u001b[0m",
      "\u001b[0;32m<ipython-input-8-e28de364e2e7>\u001b[0m in \u001b[0;36mtrain\u001b[0;34m(df, X, y, model, n_folds, model_name)\u001b[0m\n\u001b[1;32m     48\u001b[0m \u001b[0;34m\u001b[0m\u001b[0m\n\u001b[1;32m     49\u001b[0m         \u001b[0;31m# 5. Training\u001b[0m\u001b[0;34m\u001b[0m\u001b[0;34m\u001b[0m\u001b[0m\n\u001b[0;32m---> 50\u001b[0;31m         \u001b[0mmodel\u001b[0m\u001b[0;34m.\u001b[0m\u001b[0mfit\u001b[0m\u001b[0;34m(\u001b[0m\u001b[0mtrain_fold_input\u001b[0m\u001b[0;34m,\u001b[0m \u001b[0mtrain_fold_output\u001b[0m\u001b[0;34m)\u001b[0m\u001b[0;34m\u001b[0m\u001b[0m\n\u001b[0m\u001b[1;32m     51\u001b[0m         \u001b[0mconfig\u001b[0m\u001b[0;34m.\u001b[0m\u001b[0mdump_ml_model\u001b[0m\u001b[0;34m(\u001b[0m\u001b[0mmodel\u001b[0m\u001b[0;34m,\u001b[0m \u001b[0;34m'{}_{}'\u001b[0m\u001b[0;34m.\u001b[0m\u001b[0mformat\u001b[0m\u001b[0;34m(\u001b[0m\u001b[0mmodel_name\u001b[0m\u001b[0;34m,\u001b[0m \u001b[0mfold_count\u001b[0m\u001b[0;34m)\u001b[0m\u001b[0;34m)\u001b[0m\u001b[0;34m\u001b[0m\u001b[0m\n\u001b[1;32m     52\u001b[0m \u001b[0;34m\u001b[0m\u001b[0m\n",
      "\u001b[0;32m~/miniconda3/lib/python3.6/site-packages/sklearn/ensemble/forest.py\u001b[0m in \u001b[0;36mfit\u001b[0;34m(self, X, y, sample_weight)\u001b[0m\n\u001b[1;32m    326\u001b[0m                     \u001b[0mt\u001b[0m\u001b[0;34m,\u001b[0m \u001b[0mself\u001b[0m\u001b[0;34m,\u001b[0m \u001b[0mX\u001b[0m\u001b[0;34m,\u001b[0m \u001b[0my\u001b[0m\u001b[0;34m,\u001b[0m \u001b[0msample_weight\u001b[0m\u001b[0;34m,\u001b[0m \u001b[0mi\u001b[0m\u001b[0;34m,\u001b[0m \u001b[0mlen\u001b[0m\u001b[0;34m(\u001b[0m\u001b[0mtrees\u001b[0m\u001b[0;34m)\u001b[0m\u001b[0;34m,\u001b[0m\u001b[0;34m\u001b[0m\u001b[0m\n\u001b[1;32m    327\u001b[0m                     verbose=self.verbose, class_weight=self.class_weight)\n\u001b[0;32m--> 328\u001b[0;31m                 for i, t in enumerate(trees))\n\u001b[0m\u001b[1;32m    329\u001b[0m \u001b[0;34m\u001b[0m\u001b[0m\n\u001b[1;32m    330\u001b[0m             \u001b[0;31m# Collect newly grown trees\u001b[0m\u001b[0;34m\u001b[0m\u001b[0;34m\u001b[0m\u001b[0m\n",
      "\u001b[0;32m~/miniconda3/lib/python3.6/site-packages/sklearn/externals/joblib/parallel.py\u001b[0m in \u001b[0;36m__call__\u001b[0;34m(self, iterable)\u001b[0m\n\u001b[1;32m    777\u001b[0m             \u001b[0;31m# was dispatched. In particular this covers the edge\u001b[0m\u001b[0;34m\u001b[0m\u001b[0;34m\u001b[0m\u001b[0m\n\u001b[1;32m    778\u001b[0m             \u001b[0;31m# case of Parallel used with an exhausted iterator.\u001b[0m\u001b[0;34m\u001b[0m\u001b[0;34m\u001b[0m\u001b[0m\n\u001b[0;32m--> 779\u001b[0;31m             \u001b[0;32mwhile\u001b[0m \u001b[0mself\u001b[0m\u001b[0;34m.\u001b[0m\u001b[0mdispatch_one_batch\u001b[0m\u001b[0;34m(\u001b[0m\u001b[0miterator\u001b[0m\u001b[0;34m)\u001b[0m\u001b[0;34m:\u001b[0m\u001b[0;34m\u001b[0m\u001b[0m\n\u001b[0m\u001b[1;32m    780\u001b[0m                 \u001b[0mself\u001b[0m\u001b[0;34m.\u001b[0m\u001b[0m_iterating\u001b[0m \u001b[0;34m=\u001b[0m \u001b[0;32mTrue\u001b[0m\u001b[0;34m\u001b[0m\u001b[0m\n\u001b[1;32m    781\u001b[0m             \u001b[0;32melse\u001b[0m\u001b[0;34m:\u001b[0m\u001b[0;34m\u001b[0m\u001b[0m\n",
      "\u001b[0;32m~/miniconda3/lib/python3.6/site-packages/sklearn/externals/joblib/parallel.py\u001b[0m in \u001b[0;36mdispatch_one_batch\u001b[0;34m(self, iterator)\u001b[0m\n\u001b[1;32m    623\u001b[0m                 \u001b[0;32mreturn\u001b[0m \u001b[0;32mFalse\u001b[0m\u001b[0;34m\u001b[0m\u001b[0m\n\u001b[1;32m    624\u001b[0m             \u001b[0;32melse\u001b[0m\u001b[0;34m:\u001b[0m\u001b[0;34m\u001b[0m\u001b[0m\n\u001b[0;32m--> 625\u001b[0;31m                 \u001b[0mself\u001b[0m\u001b[0;34m.\u001b[0m\u001b[0m_dispatch\u001b[0m\u001b[0;34m(\u001b[0m\u001b[0mtasks\u001b[0m\u001b[0;34m)\u001b[0m\u001b[0;34m\u001b[0m\u001b[0m\n\u001b[0m\u001b[1;32m    626\u001b[0m                 \u001b[0;32mreturn\u001b[0m \u001b[0;32mTrue\u001b[0m\u001b[0;34m\u001b[0m\u001b[0m\n\u001b[1;32m    627\u001b[0m \u001b[0;34m\u001b[0m\u001b[0m\n",
      "\u001b[0;32m~/miniconda3/lib/python3.6/site-packages/sklearn/externals/joblib/parallel.py\u001b[0m in \u001b[0;36m_dispatch\u001b[0;34m(self, batch)\u001b[0m\n\u001b[1;32m    586\u001b[0m         \u001b[0mdispatch_timestamp\u001b[0m \u001b[0;34m=\u001b[0m \u001b[0mtime\u001b[0m\u001b[0;34m.\u001b[0m\u001b[0mtime\u001b[0m\u001b[0;34m(\u001b[0m\u001b[0;34m)\u001b[0m\u001b[0;34m\u001b[0m\u001b[0m\n\u001b[1;32m    587\u001b[0m         \u001b[0mcb\u001b[0m \u001b[0;34m=\u001b[0m \u001b[0mBatchCompletionCallBack\u001b[0m\u001b[0;34m(\u001b[0m\u001b[0mdispatch_timestamp\u001b[0m\u001b[0;34m,\u001b[0m \u001b[0mlen\u001b[0m\u001b[0;34m(\u001b[0m\u001b[0mbatch\u001b[0m\u001b[0;34m)\u001b[0m\u001b[0;34m,\u001b[0m \u001b[0mself\u001b[0m\u001b[0;34m)\u001b[0m\u001b[0;34m\u001b[0m\u001b[0m\n\u001b[0;32m--> 588\u001b[0;31m         \u001b[0mjob\u001b[0m \u001b[0;34m=\u001b[0m \u001b[0mself\u001b[0m\u001b[0;34m.\u001b[0m\u001b[0m_backend\u001b[0m\u001b[0;34m.\u001b[0m\u001b[0mapply_async\u001b[0m\u001b[0;34m(\u001b[0m\u001b[0mbatch\u001b[0m\u001b[0;34m,\u001b[0m \u001b[0mcallback\u001b[0m\u001b[0;34m=\u001b[0m\u001b[0mcb\u001b[0m\u001b[0;34m)\u001b[0m\u001b[0;34m\u001b[0m\u001b[0m\n\u001b[0m\u001b[1;32m    589\u001b[0m         \u001b[0mself\u001b[0m\u001b[0;34m.\u001b[0m\u001b[0m_jobs\u001b[0m\u001b[0;34m.\u001b[0m\u001b[0mappend\u001b[0m\u001b[0;34m(\u001b[0m\u001b[0mjob\u001b[0m\u001b[0;34m)\u001b[0m\u001b[0;34m\u001b[0m\u001b[0m\n\u001b[1;32m    590\u001b[0m \u001b[0;34m\u001b[0m\u001b[0m\n",
      "\u001b[0;32m~/miniconda3/lib/python3.6/site-packages/sklearn/externals/joblib/_parallel_backends.py\u001b[0m in \u001b[0;36mapply_async\u001b[0;34m(self, func, callback)\u001b[0m\n\u001b[1;32m    109\u001b[0m     \u001b[0;32mdef\u001b[0m \u001b[0mapply_async\u001b[0m\u001b[0;34m(\u001b[0m\u001b[0mself\u001b[0m\u001b[0;34m,\u001b[0m \u001b[0mfunc\u001b[0m\u001b[0;34m,\u001b[0m \u001b[0mcallback\u001b[0m\u001b[0;34m=\u001b[0m\u001b[0;32mNone\u001b[0m\u001b[0;34m)\u001b[0m\u001b[0;34m:\u001b[0m\u001b[0;34m\u001b[0m\u001b[0m\n\u001b[1;32m    110\u001b[0m         \u001b[0;34m\"\"\"Schedule a func to be run\"\"\"\u001b[0m\u001b[0;34m\u001b[0m\u001b[0m\n\u001b[0;32m--> 111\u001b[0;31m         \u001b[0mresult\u001b[0m \u001b[0;34m=\u001b[0m \u001b[0mImmediateResult\u001b[0m\u001b[0;34m(\u001b[0m\u001b[0mfunc\u001b[0m\u001b[0;34m)\u001b[0m\u001b[0;34m\u001b[0m\u001b[0m\n\u001b[0m\u001b[1;32m    112\u001b[0m         \u001b[0;32mif\u001b[0m \u001b[0mcallback\u001b[0m\u001b[0;34m:\u001b[0m\u001b[0;34m\u001b[0m\u001b[0m\n\u001b[1;32m    113\u001b[0m             \u001b[0mcallback\u001b[0m\u001b[0;34m(\u001b[0m\u001b[0mresult\u001b[0m\u001b[0;34m)\u001b[0m\u001b[0;34m\u001b[0m\u001b[0m\n",
      "\u001b[0;32m~/miniconda3/lib/python3.6/site-packages/sklearn/externals/joblib/_parallel_backends.py\u001b[0m in \u001b[0;36m__init__\u001b[0;34m(self, batch)\u001b[0m\n\u001b[1;32m    330\u001b[0m         \u001b[0;31m# Don't delay the application, to avoid keeping the input\u001b[0m\u001b[0;34m\u001b[0m\u001b[0;34m\u001b[0m\u001b[0m\n\u001b[1;32m    331\u001b[0m         \u001b[0;31m# arguments in memory\u001b[0m\u001b[0;34m\u001b[0m\u001b[0;34m\u001b[0m\u001b[0m\n\u001b[0;32m--> 332\u001b[0;31m         \u001b[0mself\u001b[0m\u001b[0;34m.\u001b[0m\u001b[0mresults\u001b[0m \u001b[0;34m=\u001b[0m \u001b[0mbatch\u001b[0m\u001b[0;34m(\u001b[0m\u001b[0;34m)\u001b[0m\u001b[0;34m\u001b[0m\u001b[0m\n\u001b[0m\u001b[1;32m    333\u001b[0m \u001b[0;34m\u001b[0m\u001b[0m\n\u001b[1;32m    334\u001b[0m     \u001b[0;32mdef\u001b[0m \u001b[0mget\u001b[0m\u001b[0;34m(\u001b[0m\u001b[0mself\u001b[0m\u001b[0;34m)\u001b[0m\u001b[0;34m:\u001b[0m\u001b[0;34m\u001b[0m\u001b[0m\n",
      "\u001b[0;32m~/miniconda3/lib/python3.6/site-packages/sklearn/externals/joblib/parallel.py\u001b[0m in \u001b[0;36m__call__\u001b[0;34m(self)\u001b[0m\n\u001b[1;32m    129\u001b[0m \u001b[0;34m\u001b[0m\u001b[0m\n\u001b[1;32m    130\u001b[0m     \u001b[0;32mdef\u001b[0m \u001b[0m__call__\u001b[0m\u001b[0;34m(\u001b[0m\u001b[0mself\u001b[0m\u001b[0;34m)\u001b[0m\u001b[0;34m:\u001b[0m\u001b[0;34m\u001b[0m\u001b[0m\n\u001b[0;32m--> 131\u001b[0;31m         \u001b[0;32mreturn\u001b[0m \u001b[0;34m[\u001b[0m\u001b[0mfunc\u001b[0m\u001b[0;34m(\u001b[0m\u001b[0;34m*\u001b[0m\u001b[0margs\u001b[0m\u001b[0;34m,\u001b[0m \u001b[0;34m**\u001b[0m\u001b[0mkwargs\u001b[0m\u001b[0;34m)\u001b[0m \u001b[0;32mfor\u001b[0m \u001b[0mfunc\u001b[0m\u001b[0;34m,\u001b[0m \u001b[0margs\u001b[0m\u001b[0;34m,\u001b[0m \u001b[0mkwargs\u001b[0m \u001b[0;32min\u001b[0m \u001b[0mself\u001b[0m\u001b[0;34m.\u001b[0m\u001b[0mitems\u001b[0m\u001b[0;34m]\u001b[0m\u001b[0;34m\u001b[0m\u001b[0m\n\u001b[0m\u001b[1;32m    132\u001b[0m \u001b[0;34m\u001b[0m\u001b[0m\n\u001b[1;32m    133\u001b[0m     \u001b[0;32mdef\u001b[0m \u001b[0m__len__\u001b[0m\u001b[0;34m(\u001b[0m\u001b[0mself\u001b[0m\u001b[0;34m)\u001b[0m\u001b[0;34m:\u001b[0m\u001b[0;34m\u001b[0m\u001b[0m\n",
      "\u001b[0;32m~/miniconda3/lib/python3.6/site-packages/sklearn/externals/joblib/parallel.py\u001b[0m in \u001b[0;36m<listcomp>\u001b[0;34m(.0)\u001b[0m\n\u001b[1;32m    129\u001b[0m \u001b[0;34m\u001b[0m\u001b[0m\n\u001b[1;32m    130\u001b[0m     \u001b[0;32mdef\u001b[0m \u001b[0m__call__\u001b[0m\u001b[0;34m(\u001b[0m\u001b[0mself\u001b[0m\u001b[0;34m)\u001b[0m\u001b[0;34m:\u001b[0m\u001b[0;34m\u001b[0m\u001b[0m\n\u001b[0;32m--> 131\u001b[0;31m         \u001b[0;32mreturn\u001b[0m \u001b[0;34m[\u001b[0m\u001b[0mfunc\u001b[0m\u001b[0;34m(\u001b[0m\u001b[0;34m*\u001b[0m\u001b[0margs\u001b[0m\u001b[0;34m,\u001b[0m \u001b[0;34m**\u001b[0m\u001b[0mkwargs\u001b[0m\u001b[0;34m)\u001b[0m \u001b[0;32mfor\u001b[0m \u001b[0mfunc\u001b[0m\u001b[0;34m,\u001b[0m \u001b[0margs\u001b[0m\u001b[0;34m,\u001b[0m \u001b[0mkwargs\u001b[0m \u001b[0;32min\u001b[0m \u001b[0mself\u001b[0m\u001b[0;34m.\u001b[0m\u001b[0mitems\u001b[0m\u001b[0;34m]\u001b[0m\u001b[0;34m\u001b[0m\u001b[0m\n\u001b[0m\u001b[1;32m    132\u001b[0m \u001b[0;34m\u001b[0m\u001b[0m\n\u001b[1;32m    133\u001b[0m     \u001b[0;32mdef\u001b[0m \u001b[0m__len__\u001b[0m\u001b[0;34m(\u001b[0m\u001b[0mself\u001b[0m\u001b[0;34m)\u001b[0m\u001b[0;34m:\u001b[0m\u001b[0;34m\u001b[0m\u001b[0m\n",
      "\u001b[0;32m~/miniconda3/lib/python3.6/site-packages/sklearn/ensemble/forest.py\u001b[0m in \u001b[0;36m_parallel_build_trees\u001b[0;34m(tree, forest, X, y, sample_weight, tree_idx, n_trees, verbose, class_weight)\u001b[0m\n\u001b[1;32m    119\u001b[0m             \u001b[0mcurr_sample_weight\u001b[0m \u001b[0;34m*=\u001b[0m \u001b[0mcompute_sample_weight\u001b[0m\u001b[0;34m(\u001b[0m\u001b[0;34m'balanced'\u001b[0m\u001b[0;34m,\u001b[0m \u001b[0my\u001b[0m\u001b[0;34m,\u001b[0m \u001b[0mindices\u001b[0m\u001b[0;34m)\u001b[0m\u001b[0;34m\u001b[0m\u001b[0m\n\u001b[1;32m    120\u001b[0m \u001b[0;34m\u001b[0m\u001b[0m\n\u001b[0;32m--> 121\u001b[0;31m         \u001b[0mtree\u001b[0m\u001b[0;34m.\u001b[0m\u001b[0mfit\u001b[0m\u001b[0;34m(\u001b[0m\u001b[0mX\u001b[0m\u001b[0;34m,\u001b[0m \u001b[0my\u001b[0m\u001b[0;34m,\u001b[0m \u001b[0msample_weight\u001b[0m\u001b[0;34m=\u001b[0m\u001b[0mcurr_sample_weight\u001b[0m\u001b[0;34m,\u001b[0m \u001b[0mcheck_input\u001b[0m\u001b[0;34m=\u001b[0m\u001b[0;32mFalse\u001b[0m\u001b[0;34m)\u001b[0m\u001b[0;34m\u001b[0m\u001b[0m\n\u001b[0m\u001b[1;32m    122\u001b[0m     \u001b[0;32melse\u001b[0m\u001b[0;34m:\u001b[0m\u001b[0;34m\u001b[0m\u001b[0m\n\u001b[1;32m    123\u001b[0m         \u001b[0mtree\u001b[0m\u001b[0;34m.\u001b[0m\u001b[0mfit\u001b[0m\u001b[0;34m(\u001b[0m\u001b[0mX\u001b[0m\u001b[0;34m,\u001b[0m \u001b[0my\u001b[0m\u001b[0;34m,\u001b[0m \u001b[0msample_weight\u001b[0m\u001b[0;34m=\u001b[0m\u001b[0msample_weight\u001b[0m\u001b[0;34m,\u001b[0m \u001b[0mcheck_input\u001b[0m\u001b[0;34m=\u001b[0m\u001b[0;32mFalse\u001b[0m\u001b[0;34m)\u001b[0m\u001b[0;34m\u001b[0m\u001b[0m\n",
      "\u001b[0;32m~/miniconda3/lib/python3.6/site-packages/sklearn/tree/tree.py\u001b[0m in \u001b[0;36mfit\u001b[0;34m(self, X, y, sample_weight, check_input, X_idx_sorted)\u001b[0m\n\u001b[1;32m    788\u001b[0m             \u001b[0msample_weight\u001b[0m\u001b[0;34m=\u001b[0m\u001b[0msample_weight\u001b[0m\u001b[0;34m,\u001b[0m\u001b[0;34m\u001b[0m\u001b[0m\n\u001b[1;32m    789\u001b[0m             \u001b[0mcheck_input\u001b[0m\u001b[0;34m=\u001b[0m\u001b[0mcheck_input\u001b[0m\u001b[0;34m,\u001b[0m\u001b[0;34m\u001b[0m\u001b[0m\n\u001b[0;32m--> 790\u001b[0;31m             X_idx_sorted=X_idx_sorted)\n\u001b[0m\u001b[1;32m    791\u001b[0m         \u001b[0;32mreturn\u001b[0m \u001b[0mself\u001b[0m\u001b[0;34m\u001b[0m\u001b[0m\n\u001b[1;32m    792\u001b[0m \u001b[0;34m\u001b[0m\u001b[0m\n",
      "\u001b[0;32m~/miniconda3/lib/python3.6/site-packages/sklearn/tree/tree.py\u001b[0m in \u001b[0;36mfit\u001b[0;34m(self, X, y, sample_weight, check_input, X_idx_sorted)\u001b[0m\n\u001b[1;32m    360\u001b[0m                                            min_impurity_split)\n\u001b[1;32m    361\u001b[0m \u001b[0;34m\u001b[0m\u001b[0m\n\u001b[0;32m--> 362\u001b[0;31m         \u001b[0mbuilder\u001b[0m\u001b[0;34m.\u001b[0m\u001b[0mbuild\u001b[0m\u001b[0;34m(\u001b[0m\u001b[0mself\u001b[0m\u001b[0;34m.\u001b[0m\u001b[0mtree_\u001b[0m\u001b[0;34m,\u001b[0m \u001b[0mX\u001b[0m\u001b[0;34m,\u001b[0m \u001b[0my\u001b[0m\u001b[0;34m,\u001b[0m \u001b[0msample_weight\u001b[0m\u001b[0;34m,\u001b[0m \u001b[0mX_idx_sorted\u001b[0m\u001b[0;34m)\u001b[0m\u001b[0;34m\u001b[0m\u001b[0m\n\u001b[0m\u001b[1;32m    363\u001b[0m \u001b[0;34m\u001b[0m\u001b[0m\n\u001b[1;32m    364\u001b[0m         \u001b[0;32mif\u001b[0m \u001b[0mself\u001b[0m\u001b[0;34m.\u001b[0m\u001b[0mn_outputs_\u001b[0m \u001b[0;34m==\u001b[0m \u001b[0;36m1\u001b[0m\u001b[0;34m:\u001b[0m\u001b[0;34m\u001b[0m\u001b[0m\n",
      "\u001b[0;31mKeyboardInterrupt\u001b[0m: "
     ]
    }
   ],
   "source": [
    "# Random Forest 10 folds\n",
    "rf_10 = train(df, X, y, RandomForestClassifier(n_estimators= 100,min_samples_split=2,\n",
    "                                  min_samples_leaf=1,random_state=10), 10, 'RandomForest')"
   ]
  },
  {
   "cell_type": "code",
   "execution_count": 10,
   "metadata": {},
   "outputs": [
    {
     "name": "stdout",
     "output_type": "stream",
     "text": [
      "Start cross validation\n",
      "===Processing fold 0===\n",
      "[Up-sampling] data counts, with uninfected (0): 90557, infected (1): 90557\n",
      "Features selected: ['TwM_t0' 'TwM_tCurrent' 'Stat_average_t' 'TwM_t-1'\n",
      " 'Nw_outDegreeCentrality-1' 'Nw_degreeCentrality-1' 'Stat_min_kOut'\n",
      " 'Stat_average_kOut' 'Nw_inDegreeCentrality-1'\n",
      " 'UsM_normalizedUserFriendsCount-1' 'UsM_friendsCount-1'\n",
      " 'Stat_average_friendsCount' 'Stat_average_normalizedUserFriendsCount'\n",
      " 'Nw_eigenvectorCentrality-1' 'Nw_nNodes' 'Stat_average_deltaDays'\n",
      " 'UsM_deltaDays-1' 'Nw_averageNeighborDegree'\n",
      " 'UsM_normalizedUserListedCount-1' 'Nw_averageNeighborDegree-1'\n",
      " 'UsM_favouritesCount0' 'UsM_normalizedUserFavouritesCount0'\n",
      " 'UsM_listedCount-1' 'UsM_deltaDays' 'UsM_normalizedUserFollowersCount0'\n",
      " 'UsM_followersCount0' 'UsM_normalizedUserStatusesCount0'\n",
      " 'UsM_listedCount0' 'UsM_normalizedUserFriendsCount0'\n",
      " 'UsM_normalizedUserListedCount0' 'UsM_friendsCount0'\n",
      " 'Nw_outDegreeCentrality0' 'Nw_degreeCentrality0' 'Nw_inDegreeCentrality0'\n",
      " 'Nw_eigenvectorCentrality0' 'UsM_normalizedUserFollowersCount-1'\n",
      " 'Stat_average_normalizedUserListedCount' 'UsM_followersCount-1'\n",
      " 'UsM_friendsCount' 'UsM_deltaDays0' 'Stat_average_listedCount'\n",
      " 'Stat_average_normalizedUserStatusesCount' 'UsM_statusesCount0'\n",
      " 'Nw_outDegreeCentrality' 'Stat_average_statusesCount'\n",
      " 'Nw_degreeCentrality' 'Stat_average_favouritesCount'\n",
      " 'Stat_average_normalizedUserFollowersCount' 'Nw_averageNeighborDegree0'\n",
      " 'UsM_normalizedUserStatusesCount'\n",
      " 'Stat_average_normalizedUserFavouritesCount'\n",
      " 'Stat_average_followersCount' 'UsM_normalizedUserFavouritesCount'\n",
      " 'UsM_followersCount' 'UsM_normalizedUserListedCount' 'Stat_max_kOut'\n",
      " 'UsM_statusesCount' 'Nw_eigenvectorCentrality'\n",
      " 'UsM_normalizedUserFavouritesCount-1' 'Nw_inDegreeCentrality']\n",
      "Dumping data to path /home/ec2-user/uclresearchanalysis/data/givenchy/pickle/Unknown_0_model.dat\n",
      "('Finished dumping data to path '\n",
      " '/home/ec2-user/uclresearchanalysis/data/givenchy/pickle/Unknown_0_model.dat')\n",
      "[[20582  2353]\n",
      " [ 3784 86774]]\n",
      "===Processing fold 1===\n",
      "[Up-sampling] data counts, with uninfected (0): 90558, infected (1): 90558\n"
     ]
    },
    {
     "name": "stderr",
     "output_type": "stream",
     "text": [
      "/home/ec2-user/miniconda3/lib/python3.6/site-packages/pandas/core/frame.py:6211: FutureWarning: Sorting because non-concatenation axis is not aligned. A future version\n",
      "of pandas will change to not sort by default.\n",
      "\n",
      "To accept the future behavior, pass 'sort=False'.\n",
      "\n",
      "To retain the current behavior and silence the warning, pass 'sort=True'.\n",
      "\n",
      "  sort=sort)\n"
     ]
    },
    {
     "name": "stdout",
     "output_type": "stream",
     "text": [
      "Features selected: ['TwM_t0' 'TwM_tCurrent' 'Stat_average_t' 'TwM_t-1'\n",
      " 'Nw_outDegreeCentrality-1' 'Nw_degreeCentrality-1' 'Stat_min_kOut'\n",
      " 'Stat_average_kOut' 'Nw_inDegreeCentrality-1' 'UsM_friendsCount-1'\n",
      " 'UsM_normalizedUserFriendsCount-1' 'Stat_average_friendsCount'\n",
      " 'Stat_average_normalizedUserFriendsCount' 'Nw_eigenvectorCentrality-1'\n",
      " 'Nw_nNodes' 'Stat_average_deltaDays' 'UsM_deltaDays-1'\n",
      " 'Nw_averageNeighborDegree' 'UsM_normalizedUserListedCount-1'\n",
      " 'Nw_averageNeighborDegree-1' 'UsM_listedCount-1' 'UsM_favouritesCount0'\n",
      " 'UsM_normalizedUserFavouritesCount0' 'UsM_normalizedUserFollowersCount-1'\n",
      " 'UsM_followersCount0' 'UsM_normalizedUserFollowersCount0'\n",
      " 'UsM_normalizedUserFriendsCount0' 'UsM_listedCount0' 'UsM_deltaDays'\n",
      " 'UsM_friendsCount0' 'UsM_normalizedUserListedCount0'\n",
      " 'Nw_degreeCentrality0' 'Nw_outDegreeCentrality0' 'Nw_inDegreeCentrality0'\n",
      " 'UsM_friendsCount' 'Nw_eigenvectorCentrality0' 'UsM_followersCount-1'\n",
      " 'Stat_average_normalizedUserListedCount' 'Nw_outDegreeCentrality'\n",
      " 'UsM_normalizedUserStatusesCount0' 'Nw_degreeCentrality' 'UsM_deltaDays0'\n",
      " 'Stat_average_listedCount' 'UsM_normalizedUserStatusesCount'\n",
      " 'Stat_average_normalizedUserFollowersCount'\n",
      " 'UsM_normalizedUserFavouritesCount'\n",
      " 'Stat_average_normalizedUserStatusesCount' 'Nw_eigenvectorCentrality'\n",
      " 'Stat_average_favouritesCount' 'Stat_average_statusesCount'\n",
      " 'Nw_inDegreeCentrality' 'Stat_average_followersCount'\n",
      " 'UsM_normalizedUserListedCount' 'UsM_statusesCount' 'Stat_max_kOut'\n",
      " 'UsM_statusesCount0' 'UsM_followersCount'\n",
      " 'UsM_normalizedUserFavouritesCount-1' 'Nw_averageNeighborDegree0'\n",
      " 'UsM_normalizedUserFollowersCount']\n",
      "Dumping data to path /home/ec2-user/uclresearchanalysis/data/givenchy/pickle/Unknown_1_model.dat\n",
      "('Finished dumping data to path '\n",
      " '/home/ec2-user/uclresearchanalysis/data/givenchy/pickle/Unknown_1_model.dat')\n",
      "[[21069  1865]\n",
      " [ 3469 87088]]\n",
      "Finished cross validation\n",
      "MSE: 0    0.050537\n",
      "dtype: float64 \n",
      "ACC: 0    0.949463\n",
      "dtype: float64 \n",
      "AUC: 0    0.933998\n",
      "dtype: float64 \n",
      "F1: 0    0.968066\n",
      "dtype: float64 \n",
      "ACC for t at 210: 0    0.814019\n",
      "dtype: float64 \n",
      "                                                 cv0       cv1  average corr\n",
      "TwM_t0                                      0.623272  0.626285      0.624778\n",
      "TwM_tCurrent                                0.621605  0.624654      0.623129\n",
      "Stat_average_t                              0.608486  0.611506      0.609996\n",
      "TwM_t-1                                     0.536554  0.539869      0.538211\n",
      "Nw_outDegreeCentrality-1                    0.204821  0.204240      0.204530\n",
      "Nw_degreeCentrality-1                       0.200573  0.200059      0.200316\n",
      "Stat_min_kOut                               0.195562  0.196982      0.196272\n",
      "Stat_average_kOut                           0.170205  0.169830      0.170018\n",
      "Nw_inDegreeCentrality-1                     0.166142  0.166119      0.166130\n",
      "UsM_normalizedUserFriendsCount-1            0.144909  0.139152      0.142030\n",
      "UsM_friendsCount-1                          0.143678  0.139254      0.141466\n",
      "Stat_average_friendsCount                   0.139298  0.137340      0.138319\n",
      "Stat_average_normalizedUserFriendsCount     0.136168  0.133392      0.134780\n",
      "Nw_eigenvectorCentrality-1                  0.111791  0.113749      0.112770\n",
      "Nw_nNodes                                   0.080245  0.082728      0.081487\n",
      "Stat_average_deltaDays                      0.075932  0.075287      0.075609\n",
      "UsM_deltaDays-1                             0.071539  0.072815      0.072177\n",
      "Nw_averageNeighborDegree                    0.056724  0.055526      0.056125\n",
      "UsM_normalizedUserListedCount-1             0.045651  0.045651      0.045651\n",
      "Nw_averageNeighborDegree-1                  0.037551  0.036675      0.037113\n",
      "UsM_listedCount-1                           0.034731  0.034251      0.034491\n",
      "UsM_favouritesCount0                        0.036928  0.030225      0.033576\n",
      "UsM_normalizedUserFavouritesCount0          0.035962  0.030129      0.033046\n",
      "UsM_deltaDays                               0.031631  0.024867      0.028249\n",
      "UsM_followersCount0                         0.030241  0.025973      0.028107\n",
      "UsM_normalizedUserFollowersCount0           0.030274  0.025821      0.028048\n",
      "UsM_normalizedUserFriendsCount0             0.028463  0.025814      0.027138\n",
      "UsM_listedCount0                            0.028512  0.024994      0.026753\n",
      "UsM_normalizedUserListedCount0              0.028004  0.024672      0.026338\n",
      "UsM_friendsCount0                           0.027470  0.024801      0.026136\n",
      "UsM_normalizedUserFollowersCount-1          0.024862  0.026114      0.025488\n",
      "Nw_degreeCentrality0                        0.026602  0.023670      0.025136\n",
      "Nw_outDegreeCentrality0                     0.026609  0.023617      0.025113\n",
      "Nw_inDegreeCentrality0                      0.026043  0.023506      0.024775\n",
      "UsM_normalizedUserStatusesCount0            0.028582  0.019951      0.024266\n",
      "Nw_eigenvectorCentrality0                   0.025428  0.023046      0.024237\n",
      "Stat_average_normalizedUserListedCount      0.022286  0.021394      0.021840\n",
      "UsM_followersCount-1                        0.021235  0.022201      0.021718\n",
      "UsM_friendsCount                            0.019193  0.023064      0.021129\n",
      "UsM_deltaDays0                              0.018296  0.017731      0.018013\n",
      "Nw_outDegreeCentrality                      0.014629  0.020423      0.017526\n",
      "Nw_degreeCentrality                         0.013529  0.019217      0.016373\n",
      "Stat_average_listedCount                    0.016906  0.015709      0.016308\n",
      "Stat_average_normalizedUserStatusesCount    0.015009  0.009421      0.012215\n",
      "Stat_average_statusesCount                  0.013988  0.008915      0.011452\n",
      "Stat_average_favouritesCount                0.013145  0.009040      0.011092\n",
      "Stat_average_normalizedUserFollowersCount   0.010683  0.011229      0.010956\n",
      "UsM_statusesCount0                          0.014666  0.006705      0.010686\n",
      "UsM_normalizedUserStatusesCount             0.008986  0.011235      0.010110\n",
      "UsM_normalizedUserFavouritesCount           0.006789  0.009899      0.008344\n",
      "Stat_average_followersCount                 0.008033  0.008120      0.008077\n",
      "Nw_eigenvectorCentrality                    0.005401  0.009056      0.007228\n",
      "Nw_averageNeighborDegree0                   0.009646  0.004558      0.007102\n",
      "UsM_normalizedUserListedCount               0.006473  0.007249      0.006861\n",
      "UsM_statusesCount                           0.006265  0.007035      0.006650\n",
      "Stat_max_kOut                               0.006296  0.006997      0.006646\n",
      "Stat_average_normalizedUserFavouritesCount  0.008773  0.004307      0.006540\n",
      "Nw_inDegreeCentrality                       0.004536  0.008360      0.006448\n",
      "UsM_followersCount                          0.006586  0.006254      0.006420\n",
      "UsM_normalizedUserFavouritesCount-1         0.005344  0.005882      0.005613\n",
      "UsM_normalizedUserFollowersCount            0.004169  0.004391      0.004280\n",
      "UsM_statusesCount-1                         0.003597  0.003326      0.003461\n",
      "UsM_normalizedUserFriendsCount              0.002528  0.003525      0.003026\n",
      "UsM_favouritesCount                         0.001779  0.004140      0.002960\n",
      "UsM_normalizedUserStatusesCount-1           0.001111  0.004160      0.002636\n",
      "UsM_listedCount                             0.000144  0.003505      0.001825\n",
      "UsM_favouritesCount-1                       0.001465  0.000514      0.000989\n"
     ]
    }
   ],
   "source": [
    "rf_2 = train(df, X, y, RandomForestClassifier(n_estimators= 100,min_samples_split=2,\n",
    "                                  min_samples_leaf=1,random_state=10), 2)"
   ]
  },
  {
   "cell_type": "code",
   "execution_count": null,
   "metadata": {},
   "outputs": [],
   "source": [
    "importances=rf_10.feature_importances_"
   ]
  },
  {
   "cell_type": "code",
   "execution_count": null,
   "metadata": {},
   "outputs": [],
   "source": [
    "rf_2.feature_importances_"
   ]
  },
  {
   "cell_type": "code",
   "execution_count": null,
   "metadata": {},
   "outputs": [],
   "source": [
    "plt.figure()\n",
    "plt.title(\"Feature importances\")\n",
    "plt.scatter(range(0,60), importances,  color=\"r\")\n",
    "# plt.xticks(range(X.shape[1]), indices)\n",
    "# plt.xlim([-1, X.shape[1]])\n",
    "plt.show()"
   ]
  },
  {
   "cell_type": "code",
   "execution_count": null,
   "metadata": {},
   "outputs": [],
   "source": [
    "# GBDT\n",
    "train(df, X, y, GradientBoostingClassifier(n_estimators=150, min_samples_split=30,\n",
    "                                  min_samples_leaf=2,max_depth=12,max_features='sqrt', subsample=0.8,random_state=10), 10)"
   ]
  }
 ],
 "metadata": {
  "kernelspec": {
   "display_name": "Python 3",
   "language": "python",
   "name": "python3"
  },
  "language_info": {
   "codemirror_mode": {
    "name": "ipython",
    "version": 3
   },
   "file_extension": ".py",
   "mimetype": "text/x-python",
   "name": "python",
   "nbconvert_exporter": "python",
   "pygments_lexer": "ipython3",
   "version": "3.6.5"
  }
 },
 "nbformat": 4,
 "nbformat_minor": 2
}
