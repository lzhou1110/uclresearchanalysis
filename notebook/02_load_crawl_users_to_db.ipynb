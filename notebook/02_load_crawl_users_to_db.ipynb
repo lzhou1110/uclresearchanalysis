{
 "cells": [
  {
   "cell_type": "code",
   "execution_count": 1,
   "metadata": {},
   "outputs": [
    {
     "name": "stdout",
     "output_type": "stream",
     "text": [
      "/home/ec2-user/uclresearchanalysis\n"
     ]
    }
   ],
   "source": [
    "cd .."
   ]
  },
  {
   "cell_type": "code",
   "execution_count": 2,
   "metadata": {},
   "outputs": [
    {
     "name": "stdout",
     "output_type": "stream",
     "text": [
      "('Reading config file from location: '\n",
      " '/home/ec2-user/uclresearchanalysis/configuration/env.properties')\n",
      "{'calculate': {'analysis': True,\n",
      "               'network': True,\n",
      "               'uniquetweets': True,\n",
      "               'uniqueusers': True},\n",
      " 'data': {'dates': ['2018-02-13', '2018-02-14', '2018-02-15'],\n",
      "          'eventname': 'florida shooting',\n",
      "          'phrases': ['florida%20shooting',\n",
      "                      'florida%20massacre',\n",
      "                      'Stoneman%20Douglas%20High%20School%20shooting',\n",
      "                      'Stoneman%20Douglas%20High%20School%20massacre',\n",
      "                      'Parkland%20shooting',\n",
      "                      'Parkland%20massacre'],\n",
      "          'starttime': 'Feb 14 14:10:00 -0500 2018'},\n",
      " 'path': {'crawl': {'followers': '/home/ec2-user/uclresearchanalysis/followers',\n",
      "                    'friends': '/home/ec2-user/uclresearchanalysis/friends'},\n",
      "          'cwd': '/home/ec2-user/uclresearchanalysis/data/florida',\n",
      "          'ml': '/home/ec2-user/uclresearchanalysis/data/florida/pickle',\n",
      "          'networkx': {'all': '/home/ec2-user/uclresearchanalysis/data/florida/pickle/networkx_all.dat',\n",
      "                       'friends': '/home/ec2-user/uclresearchanalysis/data/florida/pickle/networkx_friends.dat',\n",
      "                       'potential': '/home/ec2-user/uclresearchanalysis/data/florida/pickle/networkx_potential.dat'},\n",
      "          'pickle': {'followers': '/home/ec2-user/uclresearchanalysis/data/florida/pickle/followers.dat',\n",
      "                     'followersneedcrawl': '/home/ec2-user/uclresearchanalysis/data/florida/pickle/followersneedcrawl.dat',\n",
      "                     'friends': '/home/ec2-user/uclresearchanalysis/data/florida/pickle/friends.dat',\n",
      "                     'needcrawl': '/home/ec2-user/uclresearchanalysis/data/florida/pickle/needcrawl.dat',\n",
      "                     'network': '/home/ec2-user/uclresearchanalysis/data/florida/pickle/network.dat',\n",
      "                     'tweets': '/home/ec2-user/uclresearchanalysis/data/florida/pickle/tweets.dat',\n",
      "                     'users': '/home/ec2-user/uclresearchanalysis/data/florida/pickle/users.dat'},\n",
      "          'result': '/home/ec2-user/uclresearchanalysis/data/florida/result',\n",
      "          'twitter': '/home/ec2-user/uclresearchanalysis/data/florida/twitter'},\n",
      " 'save_to_file': 'False',\n",
      " 'timeframe': '1440'}\n",
      "Reading config file from location: /home/ec2-user/uclresearchanalysis/configuration/db.properties\n"
     ]
    }
   ],
   "source": [
    "import builtins\n",
    "# builtins.uclresearch_topic = 'GIVENCHY'\n",
    "# builtins.uclresearch_topic = 'HAWKING'\n",
    "# builtins.uclresearch_topic = 'NYC'\n",
    "builtins.uclresearch_topic = 'FLORIDA'\n",
    "\n",
    "import os\n",
    "import json\n",
    "import warnings\n",
    "from tqdm import tqdm\n",
    "\n",
    "from configuration import config\n",
    "from configuration import db\n",
    "\n",
    "twitterDatabase = db.TwitterDatabase()"
   ]
  },
  {
   "cell_type": "code",
   "execution_count": 3,
   "metadata": {},
   "outputs": [
    {
     "name": "stdout",
     "output_type": "stream",
     "text": [
      "/home/ec2-user/uclresearchanalysis/data/florida/twitter\n"
     ]
    }
   ],
   "source": [
    "file_input_path = config.settings['path']['twitter']\n",
    "print(file_input_path)"
   ]
  },
  {
   "cell_type": "code",
   "execution_count": null,
   "metadata": {},
   "outputs": [
    {
     "name": "stderr",
     "output_type": "stream",
     "text": [
      "0it [00:00, ?it/s]\n",
      "100%|██████████| 69/69 [00:00<00:00, 75.28it/s]\n",
      "100%|██████████| 11735/11735 [02:33<00:00, 76.58it/s]\n",
      "100%|██████████| 15585/15585 [04:03<00:00, 64.00it/s]\n",
      "100%|██████████| 84588/84588 [18:56<00:00, 74.45it/s]\n",
      "100%|██████████| 10678/10678 [02:24<00:00, 73.94it/s]\n",
      "100%|██████████| 16647/16647 [03:53<00:00, 71.25it/s]\n",
      "100%|██████████| 100400/100400 [19:54<00:00, 84.04it/s]\n",
      "0it [00:00, ?it/s]\n",
      "100%|██████████| 80489/80489 [14:40<00:00, 91.43it/s]\n",
      "100%|██████████| 11448/11448 [01:52<00:00, 101.52it/s]\n",
      "100%|██████████| 27369/27369 [05:25<00:00, 83.96it/s]\n",
      "100%|██████████| 148008/148008 [27:21<00:00, 90.19it/s]\n",
      "100%|██████████| 11606/11606 [01:56<00:00, 99.70it/s]\n",
      "100%|██████████| 34419/34419 [06:30<00:00, 88.18it/s]\n",
      "100%|██████████| 142537/142537 [25:30<00:00, 93.10it/s]\n",
      "100%|██████████| 17412/17412 [02:41<00:00, 107.98it/s]\n",
      "100%|██████████| 1046/1046 [00:10<00:00, 103.53it/s]\n",
      "100%|██████████| 586557/586557 [1:47:13<00:00, 91.17it/s]\n",
      "100%|██████████| 11898/11898 [01:48<00:00, 109.43it/s]\n",
      "100%|██████████| 1413/1413 [00:11<00:00, 121.85it/s]\n",
      "100%|██████████| 769/769 [00:06<00:00, 110.13it/s]\n",
      "100%|██████████| 1033/1033 [00:10<00:00, 100.45it/s]\n",
      "100%|██████████| 176610/176610 [30:18<00:00, 97.10it/s]\n",
      "100%|██████████| 514/514 [00:03<00:00, 129.54it/s]\n",
      "100%|██████████| 17268/17268 [02:41<00:00, 106.69it/s]\n",
      "100%|██████████| 162257/162257 [27:29<00:00, 98.38it/s]\n",
      "100%|██████████| 14848/14848 [02:09<00:00, 114.81it/s]\n",
      "100%|██████████| 147726/147726 [22:42<00:00, 108.42it/s]\n",
      "100%|██████████| 363/363 [00:02<00:00, 130.18it/s]\n",
      "0it [00:00, ?it/s]\n",
      "0it [00:00, ?it/s]\n",
      "0it [00:00, ?it/s]\n",
      "100%|██████████| 17058/17058 [02:40<00:00, 106.34it/s]\n",
      "100%|██████████| 3813/3813 [00:31<00:00, 121.98it/s]\n",
      " 51%|█████     | 95584/187133 [15:43<15:03, 101.35it/s]"
     ]
    }
   ],
   "source": [
    "twitterDatabase.connect()\n",
    "with warnings.catch_warnings():\n",
    "    warnings.simplefilter(\"ignore\")\n",
    "    for the_file in (os.listdir(file_input_path)):\n",
    "        file_path = os.path.join(file_input_path, the_file)\n",
    "        if os.path.isfile(file_path) and file_path.endswith('.json'):\n",
    "            with open(file_path, 'r') as file:\n",
    "                for line in tqdm(file.readlines()):\n",
    "                    userJsonObject = json.loads(line)['user']\n",
    "                    twitterDatabase.insertTwitterUser(userJsonObject)\n",
    "twitterDatabase.close()"
   ]
  }
 ],
 "metadata": {
  "kernelspec": {
   "display_name": "Python 3",
   "language": "python",
   "name": "python3"
  },
  "language_info": {
   "codemirror_mode": {
    "name": "ipython",
    "version": 3
   },
   "file_extension": ".py",
   "mimetype": "text/x-python",
   "name": "python",
   "nbconvert_exporter": "python",
   "pygments_lexer": "ipython3",
   "version": "3.6.6"
  }
 },
 "nbformat": 4,
 "nbformat_minor": 2
}
