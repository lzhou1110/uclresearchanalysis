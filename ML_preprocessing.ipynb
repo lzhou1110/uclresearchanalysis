{
 "cells": [
  {
   "cell_type": "code",
   "execution_count": 5,
   "metadata": {},
   "outputs": [
    {
     "name": "stdout",
     "output_type": "stream",
     "text": [
      "Loading data file from path /Users/lzhou/git/github/uclresearchanalysis/data/givenchy/pickle/users.dat\n",
      "'Loaded 5011 entires'\n",
      "Loading data file from path /Users/lzhou/git/github/uclresearchanalysis/data/givenchy/pickle/networkx_friends.dat\n",
      "'Loaded 5011 entires'\n"
     ]
    }
   ],
   "source": [
    "# Config related imports\n",
    "import config\n",
    "from config import load_users_dataframe\n",
    "unique_users = load_users_dataframe()\n",
    "from config import load_networkx_friends\n",
    "network_friends = load_networkx_friends()\n",
    "from config import dump_ml_data\n",
    "\n",
    "# Other imports\n",
    "from tqdm import tqdm\n",
    "import pandas as pd\n",
    "import numpy as np"
   ]
  },
  {
   "cell_type": "code",
   "execution_count": 2,
   "metadata": {},
   "outputs": [],
   "source": [
    "# Settings\n",
    "intervals = [60, 30, 15, 7]\n",
    "parametersVector = [\"tCurrent\", \"kIn\", \"kOut0\", \"t0\", \"kOut-1\", \"t-1\", \"kOutMax\", \"kOutMin\", \"kOutAverage\", \"tAverage\", \"nNodes\", \"label\"]\n",
    "\n",
    "# Calculating in and out degrees\n",
    "nodeInDegreeDict = network_friends.in_degree()\n",
    "nodeOutDegreeDict = network_friends.out_degree()\n",
    "\n",
    "# Self defined function for mean value calculation\n",
    "def mean(numbers):\n",
    "    return float(sum(numbers)) / max(len(numbers), 1)"
   ]
  },
  {
   "cell_type": "code",
   "execution_count": 26,
   "metadata": {},
   "outputs": [
    {
     "name": "stderr",
     "output_type": "stream",
     "text": [
      "100%|██████████| 5011/5011 [07:03<00:00,  8.49it/s]\n"
     ]
    },
    {
     "name": "stdout",
     "output_type": "stream",
     "text": [
      "  kIn kOut-1 kOut0  kOutAverage kOutMax kOutMin label nNodes    t-1     t0  \\\n",
      "0   1    183   183        183.0     183     183     1      1   60.0   60.0   \n",
      "1   1    183   183        183.0     183     183     1      1  120.0  120.0   \n",
      "2   1    183   183        183.0     183     183     1      1  180.0  180.0   \n",
      "3   1    183   183        183.0     183     183     1      1  240.0  240.0   \n",
      "4   1    183   183        183.0     183     183     1      1  300.0  300.0   \n",
      "\n",
      "   tAverage tCurrent  \n",
      "0      60.0       60  \n",
      "1     120.0      120  \n",
      "2     180.0      180  \n",
      "3     240.0      240  \n",
      "4     300.0      300  \n",
      "Dumping data to path /Users/lzhou/git/github/uclresearchanalysis/data/givenchy/pickle/60_data.dat\n",
      "('Finished dumping data to path '\n",
      " '/Users/lzhou/git/github/uclresearchanalysis/data/givenchy/pickle/60_data.dat')\n"
     ]
    },
    {
     "name": "stderr",
     "output_type": "stream",
     "text": [
      "100%|██████████| 5011/5011 [14:01<00:00,  4.46it/s]\n"
     ]
    },
    {
     "name": "stdout",
     "output_type": "stream",
     "text": [
      "  kIn kOut-1 kOut0  kOutAverage kOutMax kOutMin label nNodes    t-1     t0  \\\n",
      "0   1    183   183        183.0     183     183     1      1   30.0   30.0   \n",
      "1   1    183   183        183.0     183     183     1      1   60.0   60.0   \n",
      "2   1    183   183        183.0     183     183     1      1   90.0   90.0   \n",
      "3   1    183   183        183.0     183     183     1      1  120.0  120.0   \n",
      "4   1    183   183        183.0     183     183     1      1  150.0  150.0   \n",
      "\n",
      "   tAverage tCurrent  \n",
      "0      30.0       30  \n",
      "1      60.0       60  \n",
      "2      90.0       90  \n",
      "3     120.0      120  \n",
      "4     150.0      150  \n",
      "Dumping data to path /Users/lzhou/git/github/uclresearchanalysis/data/givenchy/pickle/30_data.dat\n",
      "('Finished dumping data to path '\n",
      " '/Users/lzhou/git/github/uclresearchanalysis/data/givenchy/pickle/30_data.dat')\n"
     ]
    },
    {
     "name": "stderr",
     "output_type": "stream",
     "text": [
      "100%|██████████| 5011/5011 [27:37<00:00,  1.83it/s]\n"
     ]
    },
    {
     "name": "stdout",
     "output_type": "stream",
     "text": [
      "  kIn kOut-1 kOut0  kOutAverage kOutMax kOutMin label nNodes   t-1    t0  \\\n",
      "0   1    183   183        183.0     183     183     1      1  15.0  15.0   \n",
      "1   1    183   183        183.0     183     183     1      1  30.0  30.0   \n",
      "2   1    183   183        183.0     183     183     1      1  45.0  45.0   \n",
      "3   1    183   183        183.0     183     183     1      1  60.0  60.0   \n",
      "4   1    183   183        183.0     183     183     1      1  75.0  75.0   \n",
      "\n",
      "   tAverage tCurrent  \n",
      "0      15.0       15  \n",
      "1      30.0       30  \n",
      "2      45.0       45  \n",
      "3      60.0       60  \n",
      "4      75.0       75  \n",
      "Dumping data to path /Users/lzhou/git/github/uclresearchanalysis/data/givenchy/pickle/15_data.dat\n",
      "('Finished dumping data to path '\n",
      " '/Users/lzhou/git/github/uclresearchanalysis/data/givenchy/pickle/15_data.dat')\n"
     ]
    },
    {
     "name": "stderr",
     "output_type": "stream",
     "text": [
      "100%|██████████| 5011/5011 [56:58<00:00,  1.06s/it]\n"
     ]
    },
    {
     "name": "stdout",
     "output_type": "stream",
     "text": [
      "  kIn kOut-1 kOut0  kOutAverage kOutMax kOutMin label nNodes   t-1    t0  \\\n",
      "0   1    183   183        183.0     183     183     1      1   7.0   7.0   \n",
      "1   1    183   183        183.0     183     183     1      1  14.0  14.0   \n",
      "2   1    183   183        183.0     183     183     1      1  21.0  21.0   \n",
      "3   1    183   183        183.0     183     183     1      1  28.0  28.0   \n",
      "4   1    183   183        183.0     183     183     1      1  35.0  35.0   \n",
      "\n",
      "   tAverage tCurrent  \n",
      "0       7.0        7  \n",
      "1      14.0       14  \n",
      "2      21.0       21  \n",
      "3      28.0       28  \n",
      "4      35.0       35  \n",
      "Dumping data to path /Users/lzhou/git/github/uclresearchanalysis/data/givenchy/pickle/7_data.dat\n",
      "('Finished dumping data to path '\n",
      " '/Users/lzhou/git/github/uclresearchanalysis/data/givenchy/pickle/7_data.dat')\n"
     ]
    }
   ],
   "source": [
    "def process_data(interval):\n",
    "    # Prepare dataframe\n",
    "    processed_dataframe = pd.DataFrame(columns=parametersVector)\n",
    "    # Order the columns\n",
    "    processed_dataframe = processed_dataframe[parametersVector]\n",
    "\n",
    "    with tqdm(total=len(list(unique_users.iterrows()))) as pbar: \n",
    "        for index, user_row in unique_users.iterrows():\n",
    "            if user_row['source_index'] is not None:\n",
    "                source_candidates = user_row['source_candidates']\n",
    "                source_first = source_candidates[0]\n",
    "                source_first_time_lapsed = unique_users.iloc[source_first].time_lapsed\n",
    "                start_bar = int(source_first_time_lapsed / interval) + 1\n",
    "\n",
    "                label = []\n",
    "                t0 = []\n",
    "                t_1 = []\n",
    "                kIn = []\n",
    "                kOut0 = []\n",
    "                kOut_1 = []\n",
    "                kOutMax = []\n",
    "                kOutMin = []\n",
    "                kOutAverage = []\n",
    "                nNodes = []\n",
    "                tAverage = []\n",
    "\n",
    "                bars = list(np.arange(start_bar * interval, 24 * 60, interval))\n",
    "\n",
    "                for current_time in bars:\n",
    "                    # all sources up to the current time\n",
    "                    sources = [x for x in source_candidates if unique_users.iloc[x].time_lapsed <= current_time]\n",
    "                    degreeList = [nodeOutDegreeDict[x] for x in sources]\n",
    "                    timeList = [current_time - unique_users.iloc[x].time_lapsed for x in sources]\n",
    "\n",
    "                    label.append(int(current_time >= user_row['time_lapsed']))\n",
    "                    t0.append(round(timeList[0], 1))\n",
    "                    t_1.append(round(timeList[-1], 1))\n",
    "                    kIn.append(nodeInDegreeDict[index])\n",
    "                    kOut0.append(nodeOutDegreeDict[sources[0]])\n",
    "                    kOut_1.append(nodeOutDegreeDict[sources[-1]])\n",
    "                    kOutMax.append(max(degreeList))\n",
    "                    kOutMin.append(min(degreeList))\n",
    "                    kOutAverage.append(round(mean(degreeList), 1))\n",
    "                    nNodes.append(len(sources))\n",
    "                    tAverage.append(round(mean(timeList), 1))\n",
    "\n",
    "                processed_dataframe = processed_dataframe.append(pd.DataFrame({\n",
    "                    'label': label,\n",
    "                    'tCurrent': bars,\n",
    "                    't0': t0,\n",
    "                    't-1': t_1,\n",
    "                    'kIn': kIn,\n",
    "                    'kOut0': kOut0,\n",
    "                    'kOut-1': kOut_1,\n",
    "                    'kOutMax': kOutMax,\n",
    "                    'kOutMin': kOutMin,\n",
    "                    'kOutAverage': kOutAverage,\n",
    "                    'nNodes': nNodes,\n",
    "                    'tAverage': tAverage\n",
    "                    }))\n",
    "            pbar.update(1)\n",
    "    return processed_dataframe\n",
    "\n",
    "for interval in intervals:\n",
    "    df = process_data(interval)\n",
    "    print(df.head())\n",
    "    dump_ml_data(df, interval)"
   ]
  }
 ],
 "metadata": {
  "kernelspec": {
   "display_name": "Python 3",
   "language": "python",
   "name": "python3"
  },
  "language_info": {
   "codemirror_mode": {
    "name": "ipython",
    "version": 3
   },
   "file_extension": ".py",
   "mimetype": "text/x-python",
   "name": "python",
   "nbconvert_exporter": "python",
   "pygments_lexer": "ipython3",
   "version": "3.6.5"
  }
 },
 "nbformat": 4,
 "nbformat_minor": 2
}
