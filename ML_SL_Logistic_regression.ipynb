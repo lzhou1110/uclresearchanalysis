{
 "cells": [
  {
   "cell_type": "code",
   "execution_count": 1,
   "metadata": {},
   "outputs": [
    {
     "name": "stdout",
     "output_type": "stream",
     "text": [
      "{'calculate': {'analysis': True,\n",
      "               'friends': False,\n",
      "               'network': True,\n",
      "               'uniquetweets': True,\n",
      "               'uniqueusers': True},\n",
      " 'data': {'dates': ['2018-03-11', '2018-03-12', '2018-03-13'],\n",
      "          'eventname': \"Givenchy's Death\",\n",
      "          'phrases': ['givenchy%20death', 'givenchy%20passed%20away'],\n",
      "          'starttime': 'Mar 12 08:20:00 -0500 2018'},\n",
      " 'path': {'cwd': '/Users/lzhou/git/github/uclresearchanalysis/data/givenchy',\n",
      "          'ml': '/Users/lzhou/git/github/uclresearchanalysis/data/givenchy/pickle',\n",
      "          'networkx': {'all': '/Users/lzhou/git/github/uclresearchanalysis/data/givenchy/pickle/networkx_all.dat',\n",
      "                       'friends': '/Users/lzhou/git/github/uclresearchanalysis/data/givenchy/pickle/networkx_friends.dat',\n",
      "                       'potential': '/Users/lzhou/git/github/uclresearchanalysis/data/givenchy/pickle/networkx_potential.dat'},\n",
      "          'newcrawl': '/Users/lzhou/git/github/uclresearchanalysis/other/newcrawl.dat',\n",
      "          'pickle': {'friends': '/Users/lzhou/git/github/uclresearchanalysis/data/givenchy/pickle/friends.dat',\n",
      "                     'needcrawl': '/Users/lzhou/git/github/uclresearchanalysis/data/givenchy/pickle/needcrawl.dat',\n",
      "                     'network': '/Users/lzhou/git/github/uclresearchanalysis/data/givenchy/pickle/network.dat',\n",
      "                     'tweets': '/Users/lzhou/git/github/uclresearchanalysis/data/givenchy/pickle/tweets.dat',\n",
      "                     'users': '/Users/lzhou/git/github/uclresearchanalysis/data/givenchy/pickle/users.dat'},\n",
      "          'result': '/Users/lzhou/git/github/uclresearchanalysis/data/givenchy/result',\n",
      "          'twitter': '/Users/lzhou/git/github/uclresearchanalysis/data/givenchy/twitter'},\n",
      " 'save_to_file': 'False',\n",
      " 'timeframe': '1440'}\n"
     ]
    },
    {
     "name": "stderr",
     "output_type": "stream",
     "text": [
      "/Users/lzhou/anaconda/lib/python3.6/site-packages/statsmodels/compat/pandas.py:56: FutureWarning: The pandas.core.datetools module is deprecated and will be removed in a future version. Please use the pandas.tseries module instead.\n",
      "  from pandas.core import datetools\n",
      "/Users/lzhou/anaconda/lib/python3.6/site-packages/sklearn/cross_validation.py:41: DeprecationWarning: This module was deprecated in version 0.18 in favor of the model_selection module into which all the refactored classes and functions are moved. Also note that the interface of the new CV iterators are different from that of this module. This module will be removed in 0.20.\n",
      "  \"This module will be removed in 0.20.\", DeprecationWarning)\n"
     ]
    }
   ],
   "source": [
    "import config\n",
    "from config import load_ml_data\n",
    "\n",
    "\n",
    "import matplotlib.pyplot as plt\n",
    "import seaborn as sns\n",
    "import numpy as np\n",
    "import pandas as pd\n",
    "\n",
    "from sklearn import datasets\n",
    "from sklearn.feature_selection import RFE\n",
    "from sklearn.linear_model import LogisticRegression\n",
    "from pprint import pprint\n",
    "\n",
    "import statsmodels.api as sm\n",
    "from scipy import stats\n",
    "\n",
    "from sklearn.linear_model import LogisticRegression\n",
    "from sklearn import metrics\n",
    "from sklearn.cross_validation import train_test_split\n",
    "\n",
    "from sklearn.metrics import confusion_matrix\n",
    "\n",
    "from sklearn.metrics import classification_report\n",
    "\n",
    "from sklearn.metrics import roc_auc_score\n",
    "from sklearn.metrics import roc_curve\n",
    "\n",
    "from sklearn import model_selection\n",
    "from sklearn.model_selection import cross_val_score"
   ]
  },
  {
   "cell_type": "code",
   "execution_count": 2,
   "metadata": {},
   "outputs": [],
   "source": [
    "def print_cm(cm, labels, hide_zeroes=False, hide_diagonal=False, hide_threshold=None):\n",
    "    \"\"\"pretty print for confusion matrixes\"\"\"\n",
    "    columnwidth = max([len(x) for x in labels] + [5])  # 5 is value length\n",
    "    empty_cell = \" \" * columnwidth\n",
    "    # Print header\n",
    "    print(\"    \" + empty_cell, end=\" \")\n",
    "    for label in labels:\n",
    "        print(\"%{0}s\".format(columnwidth) % label, end=\" \")\n",
    "    print()\n",
    "    # Print rows\n",
    "    for i, label1 in enumerate(labels):\n",
    "        print(\"    %{0}s\".format(columnwidth) % label1, end=\" \")\n",
    "        for j in range(len(labels)):\n",
    "            cell = \"%{0}.1f\".format(columnwidth) % cm[i, j]\n",
    "            if hide_zeroes:\n",
    "                cell = cell if float(cm[i, j]) != 0 else empty_cell\n",
    "            if hide_diagonal:\n",
    "                cell = cell if i != j else empty_cell\n",
    "            if hide_threshold:\n",
    "                cell = cell if cm[i, j] > hide_threshold else empty_cell\n",
    "            print(cell, end=\" \")\n",
    "        print()"
   ]
  },
  {
   "cell_type": "code",
   "execution_count": 3,
   "metadata": {},
   "outputs": [],
   "source": [
    "def run_logistic_regression_for_interval(interval):\n",
    "    data = load_ml_data(interval)\n",
    "    data = data.reset_index(drop=True)\n",
    "    data['label'].value_counts()\n",
    "    sns.countplot(x = 'label', data = data, palette = 'hls')\n",
    "    plt.show()\n",
    "    \n",
    "    # Feature selection using Recursive Feature Elimination\n",
    "    x_col = ['kIn', 'kOut-1', 'kOut0', 'kOutAverage', 'kOutMax', 'kOutMin',\n",
    "       'nNodes', 't-1', 't0', 'tAverage', 'tCurrent']\n",
    "    y_col = ['label']\n",
    "    X = data[x_col]\n",
    "    X = X.astype('float')\n",
    "    y = data[y_col]\n",
    "    y = y.astype('int').values.ravel()\n",
    "    logreg = LogisticRegression()\n",
    "    rfe = RFE(logreg, 1)\n",
    "    rfe = rfe.fit(X, y)\n",
    "    pprint(sorted(list(zip(rfe.ranking_, x_col))))\n",
    "    \n",
    "    \n",
    "    \n",
    "    x_col = [y for x, y in list(zip(rfe.ranking_, x_col))]\n",
    "    print(x_col)\n",
    "    y_col = ['label']\n",
    "    X = data[x_col]\n",
    "    X = X.astype('float')\n",
    "    Y = data[y_col]\n",
    "    y = Y.astype('int').values.ravel()\n",
    "    \n",
    "    \n",
    "\n",
    "    stats.chisqprob = lambda chisq, df: stats.chi2.sf(chisq, df)\n",
    "    logit_model=sm.Logit(y,X)\n",
    "    result=logit_model.fit()\n",
    "    print(result.summary())\n",
    "\n",
    "\n",
    "    X_train, X_test, Y_train, Y_test = train_test_split(X, Y, test_size=0.3, random_state=0)\n",
    "    \n",
    "    y_train = Y_train.astype('int').values.ravel()\n",
    "    y_test = Y_test.astype('int').values.ravel()\n",
    "    logreg = LogisticRegression()\n",
    "    logreg.fit(X_train, y_train)\n",
    "    y_pred = logreg.predict(X_test)\n",
    "    print('Accuracy of logistic regression classifier on test set: {:.5f}'.format(logreg.score(X_test, y_test)))\n",
    "    \n",
    "    interval_time = []\n",
    "    interval_accuracy = []\n",
    "    for i in range(interval, 24 * 60, interval):\n",
    "        val1 = data[data.tCurrent == i].index\n",
    "        val2 = X_test.index\n",
    "        indexes = [val for val in val1 if val in val2]\n",
    "        \n",
    "        X_interval = X_test.loc[indexes]\n",
    "        y_interval = Y_test.loc[indexes].astype('int').values.ravel()\n",
    "        interval_time.append(i)\n",
    "        interval_accuracy.append(logreg.score(X_interval, y_interval))\n",
    "        \n",
    "    interval_accuracy_df = pd.DataFrame(data = {\n",
    "        'time_lapsed': interval_time, \n",
    "        'accuracy': interval_accuracy\n",
    "    })\n",
    "    plt.figure()\n",
    "    ax = sns.barplot(x=\"time_lapsed\", y=\"accuracy\", data=interval_accuracy_df)\n",
    "    plt.xticks(rotation=90)\n",
    "    plt.show()\n",
    "\n",
    "    kfold = model_selection.KFold(n_splits=10, random_state=7)\n",
    "    modelCV = LogisticRegression()\n",
    "    scoring = 'accuracy'\n",
    "    results = model_selection.cross_val_score(modelCV, X_train, y_train, cv=kfold, scoring=scoring)\n",
    "    print(\"10-fold cross validation average accuracy: %.5f\" % (results.mean()))\n",
    "    \n",
    "    cm = confusion_matrix(y_test, y_pred)\n",
    "    \n",
    "    print_cm(cm, ['Not Infected', 'Infected'])\n",
    "\n",
    "    logit_roc_auc = roc_auc_score(y_test, logreg.predict(X_test))\n",
    "    fpr, tpr, thresholds = roc_curve(y_test, logreg.predict_proba(X_test)[:,1])\n",
    "    plt.figure()\n",
    "    plt.plot(fpr, tpr, label='Logistic Regression (area = %0.2f)' % logit_roc_auc)\n",
    "    plt.plot([0, 1], [0, 1],'r--')\n",
    "    plt.xlim([0.0, 1.0])\n",
    "    plt.ylim([0.0, 1.05])\n",
    "    plt.xlabel('False Positive Rate')\n",
    "    plt.ylabel('True Positive Rate')\n",
    "    plt.title('ROC curve')\n",
    "    plt.legend(loc=\"lower right\")\n",
    "    plt.savefig('Log_ROC')\n",
    "    plt.show()"
   ]
  },
  {
   "cell_type": "code",
   "execution_count": 4,
   "metadata": {},
   "outputs": [
    {
     "name": "stdout",
     "output_type": "stream",
     "text": [
      "Loading data file from path /Users/lzhou/git/github/uclresearchanalysis/data/givenchy/pickle/60_data.dat\n",
      "'Loaded 111378 entires'\n"
     ]
    },
    {
     "data": {
      "image/png": "[encoded data removed]",
      "text/plain": [
       "<matplotlib.figure.Figure at 0x10e4170b8>"
      ]
     },
     "metadata": {},
     "output_type": "display_data"
    },
    {
     "name": "stdout",
     "output_type": "stream",
     "text": [
      "[(1, 'nNodes'),\n",
      " (2, 'kIn'),\n",
      " (3, 't0'),\n",
      " (4, 'tAverage'),\n",
      " (5, 't-1'),\n",
      " (6, 'tCurrent'),\n",
      " (7, 'kOutAverage'),\n",
      " (8, 'kOutMax'),\n",
      " (9, 'kOutMin'),\n",
      " (10, 'kOut0'),\n",
      " (11, 'kOut-1')]\n",
      "['kIn', 'kOut-1', 'kOut0', 'kOutAverage', 'kOutMax', 'kOutMin', 'nNodes', 't-1', 't0', 'tAverage', 'tCurrent']\n",
      "Optimization terminated successfully.\n",
      "         Current function value: 0.346062\n",
      "         Iterations 7\n",
      "                           Logit Regression Results                           \n",
      "==============================================================================\n",
      "Dep. Variable:                      y   No. Observations:               111378\n",
      "Model:                          Logit   Df Residuals:                   111367\n",
      "Method:                           MLE   Df Model:                           10\n",
      "Date:                Tue, 19 Jun 2018   Pseudo R-squ.:                  0.3030\n",
      "Time:                        01:14:16   Log-Likelihood:                -38544.\n",
      "converged:                       True   LL-Null:                       -55302.\n",
      "                                        LLR p-value:                     0.000\n",
      "===============================================================================\n",
      "                  coef    std err          z      P>|z|      [0.025      0.975]\n",
      "-------------------------------------------------------------------------------\n",
      "kIn            -0.1750      0.006    -27.279      0.000      -0.188      -0.162\n",
      "kOut-1      -4.457e-05   2.72e-05     -1.641      0.101   -9.78e-05    8.66e-06\n",
      "kOut0         4.33e-05   1.48e-05      2.920      0.003    1.42e-05    7.24e-05\n",
      "kOutAverage    -0.0006   4.41e-05    -13.043      0.000      -0.001      -0.000\n",
      "kOutMax         0.0001   2.13e-05      6.677      0.000       0.000       0.000\n",
      "kOutMin         0.0001    3.4e-05      3.688      0.000    5.88e-05       0.000\n",
      "nNodes          0.2211      0.009     25.335      0.000       0.204       0.238\n",
      "t-1             0.0024      0.000     10.318      0.000       0.002       0.003\n",
      "t0              0.0046      0.000     13.643      0.000       0.004       0.005\n",
      "tAverage       -0.0012      0.001     -2.475      0.013      -0.002      -0.000\n",
      "tCurrent       -0.0016      0.000    -11.012      0.000      -0.002      -0.001\n",
      "===============================================================================\n",
      "Accuracy of logistic regression classifier on test set: 0.85488\n"
     ]
    },
    {
     "ename": "NameError",
     "evalue": "name 'pd' is not defined",
     "output_type": "error",
     "traceback": [
      "\u001b[0;31m---------------------------------------------------------------------------\u001b[0m",
      "\u001b[0;31mNameError\u001b[0m                                 Traceback (most recent call last)",
      "\u001b[0;32m<ipython-input-4-b0f838a208b5>\u001b[0m in \u001b[0;36m<module>\u001b[0;34m()\u001b[0m\n\u001b[0;32m----> 1\u001b[0;31m \u001b[0mrun_logistic_regression_for_interval\u001b[0m\u001b[0;34m(\u001b[0m\u001b[0;36m60\u001b[0m\u001b[0;34m)\u001b[0m\u001b[0;34m\u001b[0m\u001b[0m\n\u001b[0m",
      "\u001b[0;32m<ipython-input-3-657dc579b71f>\u001b[0m in \u001b[0;36mrun_logistic_regression_for_interval\u001b[0;34m(interval)\u001b[0m\n\u001b[1;32m     58\u001b[0m         \u001b[0minterval_accuracy\u001b[0m\u001b[0;34m.\u001b[0m\u001b[0mappend\u001b[0m\u001b[0;34m(\u001b[0m\u001b[0mlogreg\u001b[0m\u001b[0;34m.\u001b[0m\u001b[0mscore\u001b[0m\u001b[0;34m(\u001b[0m\u001b[0mX_interval\u001b[0m\u001b[0;34m,\u001b[0m \u001b[0my_interval\u001b[0m\u001b[0;34m)\u001b[0m\u001b[0;34m)\u001b[0m\u001b[0;34m\u001b[0m\u001b[0m\n\u001b[1;32m     59\u001b[0m \u001b[0;34m\u001b[0m\u001b[0m\n\u001b[0;32m---> 60\u001b[0;31m     interval_accuracy_df = pd.DataFrame(data = {\n\u001b[0m\u001b[1;32m     61\u001b[0m         \u001b[0;34m'time_lapsed'\u001b[0m\u001b[0;34m:\u001b[0m \u001b[0minterval_time\u001b[0m\u001b[0;34m,\u001b[0m\u001b[0;34m\u001b[0m\u001b[0m\n\u001b[1;32m     62\u001b[0m         \u001b[0;34m'accuracy'\u001b[0m\u001b[0;34m:\u001b[0m \u001b[0minterval_accuracy\u001b[0m\u001b[0;34m\u001b[0m\u001b[0m\n",
      "\u001b[0;31mNameError\u001b[0m: name 'pd' is not defined"
     ]
    }
   ],
   "source": [
    "run_logistic_regression_for_interval(60)"
   ]
  },
  {
   "cell_type": "code",
   "execution_count": null,
   "metadata": {},
   "outputs": [],
   "source": [
    "run_logistic_regression_for_interval(30)"
   ]
  },
  {
   "cell_type": "code",
   "execution_count": null,
   "metadata": {},
   "outputs": [],
   "source": [
    "run_logistic_regression_for_interval(15)"
   ]
  },
  {
   "cell_type": "code",
   "execution_count": null,
   "metadata": {},
   "outputs": [],
   "source": [
    "run_logistic_regression_for_interval(7)"
   ]
  }
 ],
 "metadata": {
  "kernelspec": {
   "display_name": "Python 3",
   "language": "python",
   "name": "python3"
  },
  "language_info": {
   "codemirror_mode": {
    "name": "ipython",
    "version": 3
   },
   "file_extension": ".py",
   "mimetype": "text/x-python",
   "name": "python",
   "nbconvert_exporter": "python",
   "pygments_lexer": "ipython3",
   "version": "3.6.5"
  }
 },
 "nbformat": 4,
 "nbformat_minor": 2
}
