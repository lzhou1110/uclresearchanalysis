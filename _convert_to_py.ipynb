{
 "cells": [
  {
   "cell_type": "code",
   "execution_count": 4,
   "metadata": {},
   "outputs": [
    {
     "name": "stdout",
     "output_type": "stream",
     "text": [
      "[NbConvertApp] Converting notebook analysis.ipynb to script\n",
      "[NbConvertApp] Writing 18503 bytes to analysis.py\n",
      "[NbConvertApp] Converting notebook find_friends.ipynb to script\n",
      "[NbConvertApp] Writing 7157 bytes to find_friends.py\n"
     ]
    }
   ],
   "source": [
    "!jupyter nbconvert --to script analysis.ipynb\n",
    "!jupyter nbconvert --to script find_friends.ipynb\n",
    "!jupyter nbconvert --to script network.ipynb\n",
    "!jupyter nbconvert --to script visualization.ipynb"
   ]
  }
 ],
 "metadata": {
  "kernelspec": {
   "display_name": "Python 3",
   "language": "python",
   "name": "python3"
  },
  "language_info": {
   "codemirror_mode": {
    "name": "ipython",
    "version": 3
   },
   "file_extension": ".py",
   "mimetype": "text/x-python",
   "name": "python",
   "nbconvert_exporter": "python",
   "pygments_lexer": "ipython3",
   "version": "3.6.5"
  }
 },
 "nbformat": 4,
 "nbformat_minor": 2
}
