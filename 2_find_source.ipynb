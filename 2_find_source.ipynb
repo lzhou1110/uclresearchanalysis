{
 "cells": [
  {
   "cell_type": "code",
   "execution_count": 1,
   "metadata": {},
   "outputs": [],
   "source": [
    "import os\n",
    "import pickle\n",
    "import pandas as pd\n",
    "import multiprocessing as mp\n",
    "from multiprocessing import Pool\n",
    "from tqdm import tqdm\n",
    "import re\n",
    "import numpy as np\n",
    "import datetime as dt\n",
    "from datetime import timezone\n",
    "from datetime import timedelta\n",
    "import math\n",
    "import _thread\n",
    "import copy\n",
    "\n",
    "import matplotlib as mpl\n",
    "mpl.use(\"Agg\")\n",
    "import matplotlib.pyplot as plt\n",
    "import matplotlib.ticker as ticker\n",
    "import seaborn as sns"
   ]
  },
  {
   "cell_type": "code",
   "execution_count": 2,
   "metadata": {},
   "outputs": [
    {
     "name": "stdout",
     "output_type": "stream",
     "text": [
      "{'data': {'dates': ['2018-03-11', '2018-03-12', '2018-03-13'],\n",
      "          'phrases': ['givenchy%20death', 'givenchy%20passed%20away'],\n",
      "          'time': {'end': 'Mar 13 00:00:00 -0500 2018',\n",
      "                   'start': 'Mar 12 00:00:00 -0500 2018'}},\n",
      " 'path': {'cwd': '/Users/lzhou/git/github/uclresearchanalysis/data/givenchy',\n",
      "          'friends_dictionary': '/Users/lzhou/git/github/uclresearchanalysis/other/friends_dictionary.dat',\n",
      "          'pickle': '/Users/lzhou/git/github/uclresearchanalysis/data/givenchy/pickle',\n",
      "          'processed_dataframe': '/Users/lzhou/git/github/uclresearchanalysis/data/givenchy/pickle/final_processed_data.dat',\n",
      "          'result': '/Users/lzhou/git/github/uclresearchanalysis/data/givenchy/result',\n",
      "          'twitter': '/Users/lzhou/git/github/uclresearchanalysis/data/givenchy/twitter'}}\n"
     ]
    }
   ],
   "source": [
    "import config"
   ]
  },
  {
   "cell_type": "code",
   "execution_count": 3,
   "metadata": {},
   "outputs": [
    {
     "name": "stdout",
     "output_type": "stream",
     "text": [
      "'Loaded 21533 friends dictionary'\n"
     ]
    }
   ],
   "source": [
    "from config import load_friends_dictionary\n",
    "friends_dictionary = load_friends_dictionary()\n",
    "pickle_path = config.settings['path']['pickle']"
   ]
  },
  {
   "cell_type": "code",
   "execution_count": 4,
   "metadata": {},
   "outputs": [],
   "source": [
    "def find_by_user_name(df, user_name):\n",
    "    try:\n",
    "        user = df[df.user == user_name]\n",
    "        return user.user_id.iloc[0]\n",
    "    except IndexError:\n",
    "        return ''\n",
    "\n",
    "def find_by_user_id(df, user_id):\n",
    "    try:\n",
    "        user = df[df.user_id == user_id]\n",
    "        return user.user.iloc[0]\n",
    "    except IndexError:\n",
    "        return ''\n",
    "    \n",
    "def find_nearest_friend_in_past(df, index, unchecked_friend_ids):\n",
    "    try:\n",
    "        user = df[df.user_id.isin(unchecked_friend_ids)]\n",
    "        return user.user_id.iloc[-1]\n",
    "    except IndexError:\n",
    "        return '' \n",
    "\n",
    "def find_source(df, index, friends_dictionary, user_id, affected_users):\n",
    "    try:\n",
    "        if df.loc[index, 'source_type'] == 'RT' or df.loc[index, 'source_type'] == 'AT' :\n",
    "            df.loc[index, 'source_user_id'] = find_by_user_name(df, df.loc[index, 'source_user'])\n",
    "        if df.loc[index, 'source_type'] == 'RP':\n",
    "            df.loc[index, 'source_user'] = find_by_user_id(df, df.loc[index, 'source_user_id'])\n",
    "        if df.loc[index, 'source_type'] == '':\n",
    "            friends = set(friends_dictionary[user_id])\n",
    "            unchecked_friend_ids = friends - affected_users\n",
    "            nearest_friend_id = find_nearest_friend_in_past(df, index, unchecked_friend_ids)\n",
    "            if nearest_friend_id != '':\n",
    "                df.loc[index, 'source_type'] = 'FR'\n",
    "                df.loc[index, 'source_user_id'] = nearest_friend_id\n",
    "                df.loc[index, 'source_user'] = find_by_user_id(df, nearest_friend_id)\n",
    "            else:\n",
    "                df.loc[index, 'source_type'] = 'OR'\n",
    "    except KeyError as e:\n",
    "        print(e)"
   ]
  },
  {
   "cell_type": "code",
   "execution_count": 5,
   "metadata": {},
   "outputs": [
    {
     "name": "stderr",
     "output_type": "stream",
     "text": [
      "  0%|          | 0.00/4.64k [00:00<?, ?Tweet/s]"
     ]
    },
    {
     "name": "stdout",
     "output_type": "stream",
     "text": [
      "Loaded 4754 tweets\n"
     ]
    },
    {
     "name": "stderr",
     "output_type": "stream",
     "text": [
      "100%|██████████| 4.64k/4.64k [00:16<00:00, 292Tweet/s]\n"
     ]
    }
   ],
   "source": [
    "with open (pickle_path + '/user_unique.dat', 'rb') as all_unique_tweets_file:\n",
    "    df = pickle.load(all_unique_tweets_file)\n",
    "print('Loaded {} tweets'.format(len(df)))\n",
    "affected_users = set([])\n",
    "index = len(df) - 1\n",
    "with tqdm(total = len(df), unit='Tweet', unit_scale=True, unit_divisor=1024) as pbar:\n",
    "    while index >= 0:\n",
    "        user_id = df.loc[index, 'user_id']\n",
    "        find_source(df, index, friends_dictionary, user_id, affected_users)\n",
    "        affected_users.add(user_id)\n",
    "        index -= 1\n",
    "        if (index % 100) == 0:\n",
    "            with open(pickle_path + '/user_unique_after_lookup.dat', 'wb') as tweet_data_frame_after_source_lookup:\n",
    "                pickle.dump(df, tweet_data_frame_after_source_lookup)\n",
    "        pbar.update()\n",
    "with open(pickle_path + '/user_unique_after_lookup.dat', 'wb') as tweet_data_frame_after_source_lookup:\n",
    "    pickle.dump(df, tweet_data_frame_after_source_lookup)"
   ]
  },
  {
   "cell_type": "code",
   "execution_count": 6,
   "metadata": {},
   "outputs": [
    {
     "name": "stderr",
     "output_type": "stream",
     "text": [
      "100%|██████████| 4754/4754 [00:22<00:00, 214.99it/s]\n"
     ]
    }
   ],
   "source": [
    "for index in tqdm(range(len(df))):\n",
    "    type = df.loc[index, 'source_type']\n",
    "    if (type == 'OR'):\n",
    "        df.loc[index, 'seed_user'] = df.loc[index, 'user']\n",
    "        df.loc[index, 'seed_user_id'] = df.loc[index, 'user_id']\n",
    "        df.loc[index, 'generation'] = 1\n",
    "    else:\n",
    "        try:\n",
    "            source = df[df.user_id == df.loc[index, 'source_user_id']].iloc[0]\n",
    "            df.loc[index, 'seed_user'] = source.user\n",
    "            df.loc[index, 'seed_user_id'] = source.user_id\n",
    "            df.loc[index, 'generation'] = source.generation + 1    \n",
    "        except:\n",
    "            df.loc[index, 'seed_user'] = 'unknown'\n",
    "            df.loc[index, 'seed_user_id'] = 'unknown'\n",
    "            df.loc[index, 'generation'] = 'unknown'"
   ]
  },
  {
   "cell_type": "code",
   "execution_count": 15,
   "metadata": {},
   "outputs": [
    {
     "name": "stderr",
     "output_type": "stream",
     "text": [
      "100%|██████████| 4754/4754 [00:05<00:00, 912.51it/s]\n"
     ]
    }
   ],
   "source": [
    "df['minutes'] = 0\n",
    "first_tweet_datetime = df.created_at.iloc[0]\n",
    "for index in tqdm(range(len(df))):\n",
    "    df.loc[index, 'minutes'] = round((df.loc[index, 'created_at'] - first_tweet_datetime).total_seconds() / 60.0, 2)"
   ]
  },
  {
   "cell_type": "code",
   "execution_count": 16,
   "metadata": {},
   "outputs": [],
   "source": [
    "with open(config.settings['path']['processed_dataframe'], 'wb') as tweet_data_frame_after_source_lookup:\n",
    "    pickle.dump(df, tweet_data_frame_after_source_lookup)"
   ]
  },
  {
   "cell_type": "code",
   "execution_count": 17,
   "metadata": {},
   "outputs": [
    {
     "data": {
      "text/html": [
       "<div>\n",
       "<style scoped>\n",
       "    .dataframe tbody tr th:only-of-type {\n",
       "        vertical-align: middle;\n",
       "    }\n",
       "\n",
       "    .dataframe tbody tr th {\n",
       "        vertical-align: top;\n",
       "    }\n",
       "\n",
       "    .dataframe thead th {\n",
       "        text-align: right;\n",
       "    }\n",
       "</style>\n",
       "<table border=\"1\" class=\"dataframe\">\n",
       "  <thead>\n",
       "    <tr style=\"text-align: right;\">\n",
       "      <th></th>\n",
       "      <th>user</th>\n",
       "      <th>user_id</th>\n",
       "      <th>created_at</th>\n",
       "      <th>source_type</th>\n",
       "      <th>source_user</th>\n",
       "      <th>source_user_id</th>\n",
       "      <th>seed_user</th>\n",
       "      <th>seed_user_id</th>\n",
       "      <th>followers_count</th>\n",
       "      <th>friends_count</th>\n",
       "      <th>text</th>\n",
       "      <th>location</th>\n",
       "      <th>country_code</th>\n",
       "      <th>long</th>\n",
       "      <th>latt</th>\n",
       "      <th>state</th>\n",
       "      <th>mentions</th>\n",
       "      <th>generation</th>\n",
       "      <th>minutes</th>\n",
       "    </tr>\n",
       "  </thead>\n",
       "  <tbody>\n",
       "    <tr>\n",
       "      <th>0</th>\n",
       "      <td>davelackie</td>\n",
       "      <td>100766356</td>\n",
       "      <td>2018-03-12 08:20:58-05:00</td>\n",
       "      <td>OR</td>\n",
       "      <td></td>\n",
       "      <td></td>\n",
       "      <td>davelackie</td>\n",
       "      <td>100766356</td>\n",
       "      <td>143119</td>\n",
       "      <td>4643</td>\n",
       "      <td>So sad to hear that fashion designer Hubert de...</td>\n",
       "      <td>Canada</td>\n",
       "      <td></td>\n",
       "      <td>NaN</td>\n",
       "      <td>NaN</td>\n",
       "      <td></td>\n",
       "      <td>[]</td>\n",
       "      <td>1</td>\n",
       "      <td>0.00</td>\n",
       "    </tr>\n",
       "    <tr>\n",
       "      <th>1</th>\n",
       "      <td>alexanderskhan</td>\n",
       "      <td>3186545203</td>\n",
       "      <td>2018-03-12 08:21:07-05:00</td>\n",
       "      <td>RT</td>\n",
       "      <td>davelackie</td>\n",
       "      <td>100766356</td>\n",
       "      <td>davelackie</td>\n",
       "      <td>100766356</td>\n",
       "      <td>753</td>\n",
       "      <td>3428</td>\n",
       "      <td>RT @davelackie: So sad to hear that fashion de...</td>\n",
       "      <td>New Orleans, LA</td>\n",
       "      <td></td>\n",
       "      <td>NaN</td>\n",
       "      <td>NaN</td>\n",
       "      <td>Louisiana</td>\n",
       "      <td>[davelackie]</td>\n",
       "      <td>2</td>\n",
       "      <td>0.15</td>\n",
       "    </tr>\n",
       "    <tr>\n",
       "      <th>2</th>\n",
       "      <td>consiglierela</td>\n",
       "      <td>4134992843</td>\n",
       "      <td>2018-03-12 08:21:12-05:00</td>\n",
       "      <td>RT</td>\n",
       "      <td>davelackie</td>\n",
       "      <td>100766356</td>\n",
       "      <td>davelackie</td>\n",
       "      <td>100766356</td>\n",
       "      <td>2161</td>\n",
       "      <td>396</td>\n",
       "      <td>RT @davelackie: So sad to hear that fashion de...</td>\n",
       "      <td>⭐</td>\n",
       "      <td></td>\n",
       "      <td>NaN</td>\n",
       "      <td>NaN</td>\n",
       "      <td></td>\n",
       "      <td>[davelackie]</td>\n",
       "      <td>2</td>\n",
       "      <td>0.23</td>\n",
       "    </tr>\n",
       "    <tr>\n",
       "      <th>3</th>\n",
       "      <td>ImpactPrincess</td>\n",
       "      <td>1955472014</td>\n",
       "      <td>2018-03-12 08:21:36-05:00</td>\n",
       "      <td>RT</td>\n",
       "      <td>davelackie</td>\n",
       "      <td>100766356</td>\n",
       "      <td>davelackie</td>\n",
       "      <td>100766356</td>\n",
       "      <td>242</td>\n",
       "      <td>642</td>\n",
       "      <td>RT @davelackie: So sad to hear that fashion de...</td>\n",
       "      <td>David Jones, Probably</td>\n",
       "      <td></td>\n",
       "      <td>NaN</td>\n",
       "      <td>NaN</td>\n",
       "      <td></td>\n",
       "      <td>[davelackie]</td>\n",
       "      <td>2</td>\n",
       "      <td>0.63</td>\n",
       "    </tr>\n",
       "    <tr>\n",
       "      <th>4</th>\n",
       "      <td>Damek0Masca</td>\n",
       "      <td>406301175</td>\n",
       "      <td>2018-03-12 08:22:06-05:00</td>\n",
       "      <td>OR</td>\n",
       "      <td></td>\n",
       "      <td></td>\n",
       "      <td>Damek0Masca</td>\n",
       "      <td>406301175</td>\n",
       "      <td>116</td>\n",
       "      <td>239</td>\n",
       "      <td>Today we mourn the death of a #fashion legend;...</td>\n",
       "      <td>New York</td>\n",
       "      <td></td>\n",
       "      <td>NaN</td>\n",
       "      <td>NaN</td>\n",
       "      <td>New York</td>\n",
       "      <td>[]</td>\n",
       "      <td>1</td>\n",
       "      <td>1.13</td>\n",
       "    </tr>\n",
       "  </tbody>\n",
       "</table>\n",
       "</div>"
      ],
      "text/plain": [
       "             user     user_id                created_at source_type  \\\n",
       "0      davelackie   100766356 2018-03-12 08:20:58-05:00          OR   \n",
       "1  alexanderskhan  3186545203 2018-03-12 08:21:07-05:00          RT   \n",
       "2   consiglierela  4134992843 2018-03-12 08:21:12-05:00          RT   \n",
       "3  ImpactPrincess  1955472014 2018-03-12 08:21:36-05:00          RT   \n",
       "4     Damek0Masca   406301175 2018-03-12 08:22:06-05:00          OR   \n",
       "\n",
       "  source_user source_user_id    seed_user seed_user_id  followers_count  \\\n",
       "0                              davelackie    100766356           143119   \n",
       "1  davelackie      100766356   davelackie    100766356              753   \n",
       "2  davelackie      100766356   davelackie    100766356             2161   \n",
       "3  davelackie      100766356   davelackie    100766356              242   \n",
       "4                             Damek0Masca    406301175              116   \n",
       "\n",
       "   friends_count                                               text  \\\n",
       "0           4643  So sad to hear that fashion designer Hubert de...   \n",
       "1           3428  RT @davelackie: So sad to hear that fashion de...   \n",
       "2            396  RT @davelackie: So sad to hear that fashion de...   \n",
       "3            642  RT @davelackie: So sad to hear that fashion de...   \n",
       "4            239  Today we mourn the death of a #fashion legend;...   \n",
       "\n",
       "                location country_code long latt      state      mentions  \\\n",
       "0                 Canada               NaN  NaN                       []   \n",
       "1        New Orleans, LA               NaN  NaN  Louisiana  [davelackie]   \n",
       "2                      ⭐               NaN  NaN             [davelackie]   \n",
       "3  David Jones, Probably               NaN  NaN             [davelackie]   \n",
       "4               New York               NaN  NaN   New York            []   \n",
       "\n",
       "  generation  minutes  \n",
       "0          1     0.00  \n",
       "1          2     0.15  \n",
       "2          2     0.23  \n",
       "3          2     0.63  \n",
       "4          1     1.13  "
      ]
     },
     "execution_count": 17,
     "metadata": {},
     "output_type": "execute_result"
    }
   ],
   "source": [
    "df.head()"
   ]
  }
 ],
 "metadata": {
  "kernelspec": {
   "display_name": "Python 3",
   "language": "python",
   "name": "python3"
  },
  "language_info": {
   "codemirror_mode": {
    "name": "ipython",
    "version": 3
   },
   "file_extension": ".py",
   "mimetype": "text/x-python",
   "name": "python",
   "nbconvert_exporter": "python",
   "pygments_lexer": "ipython3",
   "version": "3.6.5"
  }
 },
 "nbformat": 4,
 "nbformat_minor": 2
}
